{
  "nbformat": 4,
  "nbformat_minor": 0,
  "metadata": {
    "colab": {
      "name": "Titanic_Spiced_3.ipynb",
      "provenance": [],
      "collapsed_sections": []
    },
    "kernelspec": {
      "name": "python3",
      "display_name": "Python 3"
    },
    "language_info": {
      "name": "python"
    }
  },
  "cells": [
    {
      "cell_type": "code",
      "metadata": {
        "id": "otrsIwmjKvzD"
      },
      "source": [
        "import pandas as pd\n",
        "import seaborn as sns\n",
        "import matplotlib.pyplot as plt\n",
        "from sklearn.model_selection import train_test_split\n",
        "from sklearn.pipeline import Pipeline, make_pipeline\n",
        "from sklearn.compose import ColumnTransformer\n",
        "from sklearn.impute import SimpleImputer\n",
        "from sklearn.preprocessing import OneHotEncoder, RobustScaler, PolynomialFeatures, KBinsDiscretizer\n",
        "from sklearn.linear_model import LogisticRegression\n",
        "from sklearn.ensemble import RandomForestClassifier\n",
        "from sklearn.neighbors import KNeighborsClassifier\n",
        "from sklearn.metrics import roc_auc_score"
      ],
      "execution_count": 1,
      "outputs": []
    },
    {
      "cell_type": "markdown",
      "metadata": {
        "id": "N8xw9hi3O-p6"
      },
      "source": [
        "**Step 1**\n",
        "\n",
        "Read the file train.csv into Python and print a few rows."
      ]
    },
    {
      "cell_type": "code",
      "metadata": {
        "colab": {
          "base_uri": "https://localhost:8080/",
          "height": 204
        },
        "id": "2Td7FazpLAPg",
        "outputId": "6b793422-f965-4a9c-c18d-f0ee01dd5517"
      },
      "source": [
        "df_Train = pd.read_csv('train.csv')\n",
        "df_Train.head()"
      ],
      "execution_count": 2,
      "outputs": [
        {
          "output_type": "execute_result",
          "data": {
            "text/html": [
              "<div>\n",
              "<style scoped>\n",
              "    .dataframe tbody tr th:only-of-type {\n",
              "        vertical-align: middle;\n",
              "    }\n",
              "\n",
              "    .dataframe tbody tr th {\n",
              "        vertical-align: top;\n",
              "    }\n",
              "\n",
              "    .dataframe thead th {\n",
              "        text-align: right;\n",
              "    }\n",
              "</style>\n",
              "<table border=\"1\" class=\"dataframe\">\n",
              "  <thead>\n",
              "    <tr style=\"text-align: right;\">\n",
              "      <th></th>\n",
              "      <th>PassengerId</th>\n",
              "      <th>Survived</th>\n",
              "      <th>Pclass</th>\n",
              "      <th>Name</th>\n",
              "      <th>Sex</th>\n",
              "      <th>Age</th>\n",
              "      <th>SibSp</th>\n",
              "      <th>Parch</th>\n",
              "      <th>Ticket</th>\n",
              "      <th>Fare</th>\n",
              "      <th>Cabin</th>\n",
              "      <th>Embarked</th>\n",
              "    </tr>\n",
              "  </thead>\n",
              "  <tbody>\n",
              "    <tr>\n",
              "      <th>0</th>\n",
              "      <td>1</td>\n",
              "      <td>0</td>\n",
              "      <td>3</td>\n",
              "      <td>Braund, Mr. Owen Harris</td>\n",
              "      <td>male</td>\n",
              "      <td>22.0</td>\n",
              "      <td>1</td>\n",
              "      <td>0</td>\n",
              "      <td>A/5 21171</td>\n",
              "      <td>7.2500</td>\n",
              "      <td>NaN</td>\n",
              "      <td>S</td>\n",
              "    </tr>\n",
              "    <tr>\n",
              "      <th>1</th>\n",
              "      <td>2</td>\n",
              "      <td>1</td>\n",
              "      <td>1</td>\n",
              "      <td>Cumings, Mrs. John Bradley (Florence Briggs Th...</td>\n",
              "      <td>female</td>\n",
              "      <td>38.0</td>\n",
              "      <td>1</td>\n",
              "      <td>0</td>\n",
              "      <td>PC 17599</td>\n",
              "      <td>71.2833</td>\n",
              "      <td>C85</td>\n",
              "      <td>C</td>\n",
              "    </tr>\n",
              "    <tr>\n",
              "      <th>2</th>\n",
              "      <td>3</td>\n",
              "      <td>1</td>\n",
              "      <td>3</td>\n",
              "      <td>Heikkinen, Miss. Laina</td>\n",
              "      <td>female</td>\n",
              "      <td>26.0</td>\n",
              "      <td>0</td>\n",
              "      <td>0</td>\n",
              "      <td>STON/O2. 3101282</td>\n",
              "      <td>7.9250</td>\n",
              "      <td>NaN</td>\n",
              "      <td>S</td>\n",
              "    </tr>\n",
              "    <tr>\n",
              "      <th>3</th>\n",
              "      <td>4</td>\n",
              "      <td>1</td>\n",
              "      <td>1</td>\n",
              "      <td>Futrelle, Mrs. Jacques Heath (Lily May Peel)</td>\n",
              "      <td>female</td>\n",
              "      <td>35.0</td>\n",
              "      <td>1</td>\n",
              "      <td>0</td>\n",
              "      <td>113803</td>\n",
              "      <td>53.1000</td>\n",
              "      <td>C123</td>\n",
              "      <td>S</td>\n",
              "    </tr>\n",
              "    <tr>\n",
              "      <th>4</th>\n",
              "      <td>5</td>\n",
              "      <td>0</td>\n",
              "      <td>3</td>\n",
              "      <td>Allen, Mr. William Henry</td>\n",
              "      <td>male</td>\n",
              "      <td>35.0</td>\n",
              "      <td>0</td>\n",
              "      <td>0</td>\n",
              "      <td>373450</td>\n",
              "      <td>8.0500</td>\n",
              "      <td>NaN</td>\n",
              "      <td>S</td>\n",
              "    </tr>\n",
              "  </tbody>\n",
              "</table>\n",
              "</div>"
            ],
            "text/plain": [
              "   PassengerId  Survived  Pclass  ...     Fare Cabin  Embarked\n",
              "0            1         0       3  ...   7.2500   NaN         S\n",
              "1            2         1       1  ...  71.2833   C85         C\n",
              "2            3         1       3  ...   7.9250   NaN         S\n",
              "3            4         1       1  ...  53.1000  C123         S\n",
              "4            5         0       3  ...   8.0500   NaN         S\n",
              "\n",
              "[5 rows x 12 columns]"
            ]
          },
          "metadata": {},
          "execution_count": 2
        }
      ]
    },
    {
      "cell_type": "code",
      "metadata": {
        "colab": {
          "base_uri": "https://localhost:8080/"
        },
        "id": "9FSah-rmLFjN",
        "outputId": "2707dac5-f369-4037-b2b0-5d68e18bef53"
      },
      "source": [
        "df_Train.info()  #get info"
      ],
      "execution_count": 3,
      "outputs": [
        {
          "output_type": "stream",
          "name": "stdout",
          "text": [
            "<class 'pandas.core.frame.DataFrame'>\n",
            "RangeIndex: 891 entries, 0 to 890\n",
            "Data columns (total 12 columns):\n",
            " #   Column       Non-Null Count  Dtype  \n",
            "---  ------       --------------  -----  \n",
            " 0   PassengerId  891 non-null    int64  \n",
            " 1   Survived     891 non-null    int64  \n",
            " 2   Pclass       891 non-null    int64  \n",
            " 3   Name         891 non-null    object \n",
            " 4   Sex          891 non-null    object \n",
            " 5   Age          714 non-null    float64\n",
            " 6   SibSp        891 non-null    int64  \n",
            " 7   Parch        891 non-null    int64  \n",
            " 8   Ticket       891 non-null    object \n",
            " 9   Fare         891 non-null    float64\n",
            " 10  Cabin        204 non-null    object \n",
            " 11  Embarked     889 non-null    object \n",
            "dtypes: float64(2), int64(5), object(5)\n",
            "memory usage: 83.7+ KB\n"
          ]
        }
      ]
    },
    {
      "cell_type": "markdown",
      "source": [
        "**Step 2**\n",
        "\n",
        "Omit unuseful data (Cabin)\n",
        "\n",
        "Plot pairplots and corr matrix"
      ],
      "metadata": {
        "id": "D3e8zTvshuFf"
      }
    },
    {
      "cell_type": "code",
      "source": [
        "df_Train.drop(['Cabin','Name', 'Ticket', 'PassengerId'], axis=1, inplace=True) "
      ],
      "metadata": {
        "id": "qMgv4s0wfdSg"
      },
      "execution_count": 4,
      "outputs": []
    },
    {
      "cell_type": "code",
      "source": [
        "# check the correlation of numerical values\n",
        "sns.pairplot(data=df_Train, hue='Survived')"
      ],
      "metadata": {
        "colab": {
          "base_uri": "https://localhost:8080/",
          "height": 920
        },
        "id": "JoIVupFlnag6",
        "outputId": "d44f6d38-1a84-4324-cd8d-d88f1daa528a"
      },
      "execution_count": 5,
      "outputs": [
        {
          "output_type": "execute_result",
          "data": {
            "text/plain": [
              "<seaborn.axisgrid.PairGrid at 0x7fee5fb46b90>"
            ]
          },
          "metadata": {},
          "execution_count": 5
        },
        {
          "output_type": "display_data",
          "data": {
            "image/png": "[encoded data removed]",
            "text/plain": [
              "<Figure size 951.875x900 with 30 Axes>"
            ]
          },
          "metadata": {
            "needs_background": "light"
          }
        }
      ]
    },
    {
      "cell_type": "markdown",
      "source": [
        "**Step 3**\n",
        "\n",
        "Split Data"
      ],
      "metadata": {
        "id": "9EFCF8K6qv73"
      }
    },
    {
      "cell_type": "code",
      "source": [
        "y=df_Train['Survived']\n",
        "X=pd.DataFrame(df_Train.drop('Survived', axis=1))\n",
        "X.head()"
      ],
      "metadata": {
        "colab": {
          "base_uri": "https://localhost:8080/",
          "height": 204
        },
        "id": "tC70kVtgqn1D",
        "outputId": "5deedbd7-f339-4397-fa6f-1a49163ff936"
      },
      "execution_count": 6,
      "outputs": [
        {
          "output_type": "execute_result",
          "data": {
            "text/html": [
              "<div>\n",
              "<style scoped>\n",
              "    .dataframe tbody tr th:only-of-type {\n",
              "        vertical-align: middle;\n",
              "    }\n",
              "\n",
              "    .dataframe tbody tr th {\n",
              "        vertical-align: top;\n",
              "    }\n",
              "\n",
              "    .dataframe thead th {\n",
              "        text-align: right;\n",
              "    }\n",
              "</style>\n",
              "<table border=\"1\" class=\"dataframe\">\n",
              "  <thead>\n",
              "    <tr style=\"text-align: right;\">\n",
              "      <th></th>\n",
              "      <th>Pclass</th>\n",
              "      <th>Sex</th>\n",
              "      <th>Age</th>\n",
              "      <th>SibSp</th>\n",
              "      <th>Parch</th>\n",
              "      <th>Fare</th>\n",
              "      <th>Embarked</th>\n",
              "    </tr>\n",
              "  </thead>\n",
              "  <tbody>\n",
              "    <tr>\n",
              "      <th>0</th>\n",
              "      <td>3</td>\n",
              "      <td>male</td>\n",
              "      <td>22.0</td>\n",
              "      <td>1</td>\n",
              "      <td>0</td>\n",
              "      <td>7.2500</td>\n",
              "      <td>S</td>\n",
              "    </tr>\n",
              "    <tr>\n",
              "      <th>1</th>\n",
              "      <td>1</td>\n",
              "      <td>female</td>\n",
              "      <td>38.0</td>\n",
              "      <td>1</td>\n",
              "      <td>0</td>\n",
              "      <td>71.2833</td>\n",
              "      <td>C</td>\n",
              "    </tr>\n",
              "    <tr>\n",
              "      <th>2</th>\n",
              "      <td>3</td>\n",
              "      <td>female</td>\n",
              "      <td>26.0</td>\n",
              "      <td>0</td>\n",
              "      <td>0</td>\n",
              "      <td>7.9250</td>\n",
              "      <td>S</td>\n",
              "    </tr>\n",
              "    <tr>\n",
              "      <th>3</th>\n",
              "      <td>1</td>\n",
              "      <td>female</td>\n",
              "      <td>35.0</td>\n",
              "      <td>1</td>\n",
              "      <td>0</td>\n",
              "      <td>53.1000</td>\n",
              "      <td>S</td>\n",
              "    </tr>\n",
              "    <tr>\n",
              "      <th>4</th>\n",
              "      <td>3</td>\n",
              "      <td>male</td>\n",
              "      <td>35.0</td>\n",
              "      <td>0</td>\n",
              "      <td>0</td>\n",
              "      <td>8.0500</td>\n",
              "      <td>S</td>\n",
              "    </tr>\n",
              "  </tbody>\n",
              "</table>\n",
              "</div>"
            ],
            "text/plain": [
              "   Pclass     Sex   Age  SibSp  Parch     Fare Embarked\n",
              "0       3    male  22.0      1      0   7.2500        S\n",
              "1       1  female  38.0      1      0  71.2833        C\n",
              "2       3  female  26.0      0      0   7.9250        S\n",
              "3       1  female  35.0      1      0  53.1000        S\n",
              "4       3    male  35.0      0      0   8.0500        S"
            ]
          },
          "metadata": {},
          "execution_count": 6
        }
      ]
    },
    {
      "cell_type": "code",
      "source": [
        "X_train, X_test, y_train, y_test=train_test_split(X,y,test_size=0.3, random_state=42, stratify=y)"
      ],
      "metadata": {
        "id": "HhLlRreerQIn"
      },
      "execution_count": 7,
      "outputs": []
    },
    {
      "cell_type": "code",
      "source": [
        "X_train.describe()"
      ],
      "metadata": {
        "colab": {
          "base_uri": "https://localhost:8080/",
          "height": 297
        },
        "id": "y_65SoEfzYlh",
        "outputId": "beabc305-8742-478c-9b96-148397a0998a"
      },
      "execution_count": 8,
      "outputs": [
        {
          "output_type": "execute_result",
          "data": {
            "text/html": [
              "<div>\n",
              "<style scoped>\n",
              "    .dataframe tbody tr th:only-of-type {\n",
              "        vertical-align: middle;\n",
              "    }\n",
              "\n",
              "    .dataframe tbody tr th {\n",
              "        vertical-align: top;\n",
              "    }\n",
              "\n",
              "    .dataframe thead th {\n",
              "        text-align: right;\n",
              "    }\n",
              "</style>\n",
              "<table border=\"1\" class=\"dataframe\">\n",
              "  <thead>\n",
              "    <tr style=\"text-align: right;\">\n",
              "      <th></th>\n",
              "      <th>Pclass</th>\n",
              "      <th>Age</th>\n",
              "      <th>SibSp</th>\n",
              "      <th>Parch</th>\n",
              "      <th>Fare</th>\n",
              "    </tr>\n",
              "  </thead>\n",
              "  <tbody>\n",
              "    <tr>\n",
              "      <th>count</th>\n",
              "      <td>623.000000</td>\n",
              "      <td>504.000000</td>\n",
              "      <td>623.000000</td>\n",
              "      <td>623.000000</td>\n",
              "      <td>623.000000</td>\n",
              "    </tr>\n",
              "    <tr>\n",
              "      <th>mean</th>\n",
              "      <td>2.319422</td>\n",
              "      <td>30.045476</td>\n",
              "      <td>0.457464</td>\n",
              "      <td>0.377207</td>\n",
              "      <td>30.874003</td>\n",
              "    </tr>\n",
              "    <tr>\n",
              "      <th>std</th>\n",
              "      <td>0.830909</td>\n",
              "      <td>14.502377</td>\n",
              "      <td>0.964501</td>\n",
              "      <td>0.841409</td>\n",
              "      <td>47.760418</td>\n",
              "    </tr>\n",
              "    <tr>\n",
              "      <th>min</th>\n",
              "      <td>1.000000</td>\n",
              "      <td>0.420000</td>\n",
              "      <td>0.000000</td>\n",
              "      <td>0.000000</td>\n",
              "      <td>0.000000</td>\n",
              "    </tr>\n",
              "    <tr>\n",
              "      <th>25%</th>\n",
              "      <td>2.000000</td>\n",
              "      <td>21.000000</td>\n",
              "      <td>0.000000</td>\n",
              "      <td>0.000000</td>\n",
              "      <td>7.895800</td>\n",
              "    </tr>\n",
              "    <tr>\n",
              "      <th>50%</th>\n",
              "      <td>3.000000</td>\n",
              "      <td>29.000000</td>\n",
              "      <td>0.000000</td>\n",
              "      <td>0.000000</td>\n",
              "      <td>13.500000</td>\n",
              "    </tr>\n",
              "    <tr>\n",
              "      <th>75%</th>\n",
              "      <td>3.000000</td>\n",
              "      <td>39.000000</td>\n",
              "      <td>1.000000</td>\n",
              "      <td>0.000000</td>\n",
              "      <td>30.000000</td>\n",
              "    </tr>\n",
              "    <tr>\n",
              "      <th>max</th>\n",
              "      <td>3.000000</td>\n",
              "      <td>80.000000</td>\n",
              "      <td>8.000000</td>\n",
              "      <td>6.000000</td>\n",
              "      <td>512.329200</td>\n",
              "    </tr>\n",
              "  </tbody>\n",
              "</table>\n",
              "</div>"
            ],
            "text/plain": [
              "           Pclass         Age       SibSp       Parch        Fare\n",
              "count  623.000000  504.000000  623.000000  623.000000  623.000000\n",
              "mean     2.319422   30.045476    0.457464    0.377207   30.874003\n",
              "std      0.830909   14.502377    0.964501    0.841409   47.760418\n",
              "min      1.000000    0.420000    0.000000    0.000000    0.000000\n",
              "25%      2.000000   21.000000    0.000000    0.000000    7.895800\n",
              "50%      3.000000   29.000000    0.000000    0.000000   13.500000\n",
              "75%      3.000000   39.000000    1.000000    0.000000   30.000000\n",
              "max      3.000000   80.000000    8.000000    6.000000  512.329200"
            ]
          },
          "metadata": {},
          "execution_count": 8
        }
      ]
    },
    {
      "cell_type": "code",
      "source": [
        "X_train.info()"
      ],
      "metadata": {
        "colab": {
          "base_uri": "https://localhost:8080/"
        },
        "id": "lB3r4amDr93m",
        "outputId": "8cea7c8d-fd4c-4fce-a567-26adf09a0602"
      },
      "execution_count": 9,
      "outputs": [
        {
          "output_type": "stream",
          "name": "stdout",
          "text": [
            "<class 'pandas.core.frame.DataFrame'>\n",
            "Int64Index: 623 entries, 748 to 136\n",
            "Data columns (total 7 columns):\n",
            " #   Column    Non-Null Count  Dtype  \n",
            "---  ------    --------------  -----  \n",
            " 0   Pclass    623 non-null    int64  \n",
            " 1   Sex       623 non-null    object \n",
            " 2   Age       504 non-null    float64\n",
            " 3   SibSp     623 non-null    int64  \n",
            " 4   Parch     623 non-null    int64  \n",
            " 5   Fare      623 non-null    float64\n",
            " 6   Embarked  621 non-null    object \n",
            "dtypes: float64(2), int64(3), object(2)\n",
            "memory usage: 38.9+ KB\n"
          ]
        }
      ]
    },
    {
      "cell_type": "markdown",
      "metadata": {
        "id": "-SNDZjVVcvHw"
      },
      "source": [
        "**Step 4**\n",
        "\n",
        "visualize the missing values"
      ]
    },
    {
      "cell_type": "code",
      "source": [
        "sns.heatmap(X_train.isna())"
      ],
      "metadata": {
        "colab": {
          "base_uri": "https://localhost:8080/",
          "height": 287
        },
        "id": "6Be3xMHwhNPz",
        "outputId": "2ebf4cab-0ba2-42fd-fa69-08912937b454"
      },
      "execution_count": 10,
      "outputs": [
        {
          "output_type": "execute_result",
          "data": {
            "text/plain": [
              "<matplotlib.axes._subplots.AxesSubplot at 0x7fee5f41eb90>"
            ]
          },
          "metadata": {},
          "execution_count": 10
        },
        {
          "output_type": "display_data",
          "data": {
            "image/png": "[encoded data removed]",
            "text/plain": [
              "<Figure size 432x288 with 2 Axes>"
            ]
          },
          "metadata": {
            "needs_background": "light"
          }
        }
      ]
    },
    {
      "cell_type": "markdown",
      "source": [
        "check for correlation, but loose the non numerical values"
      ],
      "metadata": {
        "id": "w9rygUguuYZA"
      }
    },
    {
      "cell_type": "code",
      "source": [
        "sns.heatmap((df_Train.drop(['Sex','Embarked'], axis=1)).corr(), annot=True)"
      ],
      "metadata": {
        "colab": {
          "base_uri": "https://localhost:8080/",
          "height": 286
        },
        "id": "gIvsD0O6pWgL",
        "outputId": "19c45c84-cfbc-4163-bbc3-a4914c1b20df"
      },
      "execution_count": 11,
      "outputs": [
        {
          "output_type": "execute_result",
          "data": {
            "text/plain": [
              "<matplotlib.axes._subplots.AxesSubplot at 0x7fee517d0390>"
            ]
          },
          "metadata": {},
          "execution_count": 11
        },
        {
          "output_type": "display_data",
          "data": {
            "image/png": "[encoded data removed]",
            "text/plain": [
              "<Figure size 432x288 with 2 Axes>"
            ]
          },
          "metadata": {
            "needs_background": "light"
          }
        }
      ]
    },
    {
      "cell_type": "code",
      "source": [
        "X_train.head()"
      ],
      "metadata": {
        "colab": {
          "base_uri": "https://localhost:8080/",
          "height": 204
        },
        "id": "NIF6hMHfvlql",
        "outputId": "76bccf87-fcce-40c3-a001-e416fa13a668"
      },
      "execution_count": 12,
      "outputs": [
        {
          "output_type": "execute_result",
          "data": {
            "text/html": [
              "<div>\n",
              "<style scoped>\n",
              "    .dataframe tbody tr th:only-of-type {\n",
              "        vertical-align: middle;\n",
              "    }\n",
              "\n",
              "    .dataframe tbody tr th {\n",
              "        vertical-align: top;\n",
              "    }\n",
              "\n",
              "    .dataframe thead th {\n",
              "        text-align: right;\n",
              "    }\n",
              "</style>\n",
              "<table border=\"1\" class=\"dataframe\">\n",
              "  <thead>\n",
              "    <tr style=\"text-align: right;\">\n",
              "      <th></th>\n",
              "      <th>Pclass</th>\n",
              "      <th>Sex</th>\n",
              "      <th>Age</th>\n",
              "      <th>SibSp</th>\n",
              "      <th>Parch</th>\n",
              "      <th>Fare</th>\n",
              "      <th>Embarked</th>\n",
              "    </tr>\n",
              "  </thead>\n",
              "  <tbody>\n",
              "    <tr>\n",
              "      <th>748</th>\n",
              "      <td>1</td>\n",
              "      <td>male</td>\n",
              "      <td>19.0</td>\n",
              "      <td>1</td>\n",
              "      <td>0</td>\n",
              "      <td>53.1000</td>\n",
              "      <td>S</td>\n",
              "    </tr>\n",
              "    <tr>\n",
              "      <th>45</th>\n",
              "      <td>3</td>\n",
              "      <td>male</td>\n",
              "      <td>NaN</td>\n",
              "      <td>0</td>\n",
              "      <td>0</td>\n",
              "      <td>8.0500</td>\n",
              "      <td>S</td>\n",
              "    </tr>\n",
              "    <tr>\n",
              "      <th>28</th>\n",
              "      <td>3</td>\n",
              "      <td>female</td>\n",
              "      <td>NaN</td>\n",
              "      <td>0</td>\n",
              "      <td>0</td>\n",
              "      <td>7.8792</td>\n",
              "      <td>Q</td>\n",
              "    </tr>\n",
              "    <tr>\n",
              "      <th>633</th>\n",
              "      <td>1</td>\n",
              "      <td>male</td>\n",
              "      <td>NaN</td>\n",
              "      <td>0</td>\n",
              "      <td>0</td>\n",
              "      <td>0.0000</td>\n",
              "      <td>S</td>\n",
              "    </tr>\n",
              "    <tr>\n",
              "      <th>403</th>\n",
              "      <td>3</td>\n",
              "      <td>male</td>\n",
              "      <td>28.0</td>\n",
              "      <td>1</td>\n",
              "      <td>0</td>\n",
              "      <td>15.8500</td>\n",
              "      <td>S</td>\n",
              "    </tr>\n",
              "  </tbody>\n",
              "</table>\n",
              "</div>"
            ],
            "text/plain": [
              "     Pclass     Sex   Age  SibSp  Parch     Fare Embarked\n",
              "748       1    male  19.0      1      0  53.1000        S\n",
              "45        3    male   NaN      0      0   8.0500        S\n",
              "28        3  female   NaN      0      0   7.8792        Q\n",
              "633       1    male   NaN      0      0   0.0000        S\n",
              "403       3    male  28.0      1      0  15.8500        S"
            ]
          },
          "metadata": {},
          "execution_count": 12
        }
      ]
    },
    {
      "cell_type": "markdown",
      "source": [
        "# **Preprcosseing**\n",
        "\n",
        "\n",
        "---\n",
        "1. make lists, one for of columns with numeric values and one for columns with categorial values\n"
      ],
      "metadata": {
        "id": "Lvt4Wjdcukw3"
      }
    },
    {
      "cell_type": "code",
      "source": [
        "numeric_feature_fare = ['Fare']\n",
        "numeric_feature_age = ['Age']\n",
        "categorical_int_features=['SibSp', 'Parch']\n",
        "categorical_features = ['Embarked', 'Sex', 'Pclass']"
      ],
      "metadata": {
        "id": "kf73KbYNui7V"
      },
      "execution_count": 13,
      "outputs": []
    },
    {
      "cell_type": "markdown",
      "source": [
        "2. Build transformers"
      ],
      "metadata": {
        "id": "h6E7F8oqwK37"
      }
    },
    {
      "cell_type": "code",
      "source": [
        "numeric_transformer_fare = make_pipeline(SimpleImputer(strategy='mean'), PolynomialFeatures(2), RobustScaler())\n",
        "categorial_transformer=make_pipeline(SimpleImputer(strategy='most_frequent'),OneHotEncoder(sparse=False, handle_unknown='ignore'))\n",
        "categorical_int_transformer=SimpleImputer(strategy='most_frequent') \n",
        "age_categorizer_transformer= make_pipeline(SimpleImputer(strategy='mean'),KBinsDiscretizer(n_bins=5, encode='onehot-dense', strategy='uniform'))"
      ],
      "metadata": {
        "id": "EGYb-6eWwKRd"
      },
      "execution_count": 14,
      "outputs": []
    },
    {
      "cell_type": "code",
      "source": [
        "preprocessor = ColumnTransformer(\n",
        "    transformers=[\n",
        "        ('num_fare', numeric_transformer_fare, numeric_feature_fare),\n",
        "        ('cat', categorial_transformer, categorical_features),\n",
        "        ('cat_int', categorical_int_transformer,categorical_int_features),\n",
        "        ('age_cat',age_categorizer_transformer,numeric_feature_age)\n",
        "    ],\n",
        "    remainder='passthrough')"
      ],
      "metadata": {
        "id": "9bHHNyRZyKeo"
      },
      "execution_count": 15,
      "outputs": []
    },
    {
      "cell_type": "markdown",
      "source": [
        "**Test:**\n",
        "\n",
        "---\n",
        "\n",
        "\n",
        "\n",
        "\n",
        "\n",
        "> apply preprocessor on data and train model on them\n",
        "\n",
        "\n",
        "\n",
        "> use pipeline to transform data and train \n",
        "\n",
        "\n",
        "\n",
        "> compare accruracies\n",
        "\n",
        "\n",
        "\n",
        "\n",
        "\n"
      ],
      "metadata": {
        "id": "yoRNlXe-2Gyq"
      }
    },
    {
      "cell_type": "code",
      "source": [
        "preprocessor.fit(X_train)"
      ],
      "metadata": {
        "colab": {
          "base_uri": "https://localhost:8080/"
        },
        "id": "XP0EABgjyz4T",
        "outputId": "0e21c6e8-2521-42d0-dbf7-98c5ad0293d8"
      },
      "execution_count": 16,
      "outputs": [
        {
          "output_type": "execute_result",
          "data": {
            "text/plain": [
              "ColumnTransformer(remainder='passthrough',\n",
              "                  transformers=[('num_fare',\n",
              "                                 Pipeline(steps=[('simpleimputer',\n",
              "                                                  SimpleImputer()),\n",
              "                                                 ('polynomialfeatures',\n",
              "                                                  PolynomialFeatures()),\n",
              "                                                 ('robustscaler',\n",
              "                                                  RobustScaler())]),\n",
              "                                 ['Fare']),\n",
              "                                ('cat',\n",
              "                                 Pipeline(steps=[('simpleimputer',\n",
              "                                                  SimpleImputer(strategy='most_frequent')),\n",
              "                                                 ('onehotencoder',\n",
              "                                                  OneHotEncoder(handle_unknown='ignore',\n",
              "                                                                sparse=False))]),\n",
              "                                 ['Embarked', 'Sex', 'Pclass']),\n",
              "                                ('cat_int',\n",
              "                                 SimpleImputer(strategy='most_frequent'),\n",
              "                                 ['SibSp', 'Parch']),\n",
              "                                ('age_cat',\n",
              "                                 Pipeline(steps=[('simpleimputer',\n",
              "                                                  SimpleImputer()),\n",
              "                                                 ('kbinsdiscretizer',\n",
              "                                                  KBinsDiscretizer(encode='onehot-dense',\n",
              "                                                                   strategy='uniform'))]),\n",
              "                                 ['Age'])])"
            ]
          },
          "metadata": {},
          "execution_count": 16
        }
      ]
    },
    {
      "cell_type": "code",
      "source": [
        "X_train2=pd.DataFrame(preprocessor.transform(X_train))\n",
        "X_train2.head()"
      ],
      "metadata": {
        "colab": {
          "base_uri": "https://localhost:8080/",
          "height": 204
        },
        "id": "m84xzyIxzBhb",
        "outputId": "9c9750d6-0bce-4980-fdff-d140afdd68eb"
      },
      "execution_count": 17,
      "outputs": [
        {
          "output_type": "execute_result",
          "data": {
            "text/html": [
              "<div>\n",
              "<style scoped>\n",
              "    .dataframe tbody tr th:only-of-type {\n",
              "        vertical-align: middle;\n",
              "    }\n",
              "\n",
              "    .dataframe tbody tr th {\n",
              "        vertical-align: top;\n",
              "    }\n",
              "\n",
              "    .dataframe thead th {\n",
              "        text-align: right;\n",
              "    }\n",
              "</style>\n",
              "<table border=\"1\" class=\"dataframe\">\n",
              "  <thead>\n",
              "    <tr style=\"text-align: right;\">\n",
              "      <th></th>\n",
              "      <th>0</th>\n",
              "      <th>1</th>\n",
              "      <th>2</th>\n",
              "      <th>3</th>\n",
              "      <th>4</th>\n",
              "      <th>5</th>\n",
              "      <th>6</th>\n",
              "      <th>7</th>\n",
              "      <th>8</th>\n",
              "      <th>9</th>\n",
              "      <th>10</th>\n",
              "      <th>11</th>\n",
              "      <th>12</th>\n",
              "      <th>13</th>\n",
              "      <th>14</th>\n",
              "      <th>15</th>\n",
              "      <th>16</th>\n",
              "      <th>17</th>\n",
              "    </tr>\n",
              "  </thead>\n",
              "  <tbody>\n",
              "    <tr>\n",
              "      <th>0</th>\n",
              "      <td>0.0</td>\n",
              "      <td>1.791515</td>\n",
              "      <td>3.148499</td>\n",
              "      <td>0.0</td>\n",
              "      <td>0.0</td>\n",
              "      <td>1.0</td>\n",
              "      <td>0.0</td>\n",
              "      <td>1.0</td>\n",
              "      <td>1.0</td>\n",
              "      <td>0.0</td>\n",
              "      <td>0.0</td>\n",
              "      <td>1.0</td>\n",
              "      <td>0.0</td>\n",
              "      <td>0.0</td>\n",
              "      <td>1.0</td>\n",
              "      <td>0.0</td>\n",
              "      <td>0.0</td>\n",
              "      <td>0.0</td>\n",
              "    </tr>\n",
              "    <tr>\n",
              "      <th>1</th>\n",
              "      <td>0.0</td>\n",
              "      <td>-0.246559</td>\n",
              "      <td>-0.140210</td>\n",
              "      <td>0.0</td>\n",
              "      <td>0.0</td>\n",
              "      <td>1.0</td>\n",
              "      <td>0.0</td>\n",
              "      <td>1.0</td>\n",
              "      <td>0.0</td>\n",
              "      <td>0.0</td>\n",
              "      <td>1.0</td>\n",
              "      <td>0.0</td>\n",
              "      <td>0.0</td>\n",
              "      <td>0.0</td>\n",
              "      <td>1.0</td>\n",
              "      <td>0.0</td>\n",
              "      <td>0.0</td>\n",
              "      <td>0.0</td>\n",
              "    </tr>\n",
              "    <tr>\n",
              "      <th>2</th>\n",
              "      <td>0.0</td>\n",
              "      <td>-0.254287</td>\n",
              "      <td>-0.143458</td>\n",
              "      <td>0.0</td>\n",
              "      <td>1.0</td>\n",
              "      <td>0.0</td>\n",
              "      <td>1.0</td>\n",
              "      <td>0.0</td>\n",
              "      <td>0.0</td>\n",
              "      <td>0.0</td>\n",
              "      <td>1.0</td>\n",
              "      <td>0.0</td>\n",
              "      <td>0.0</td>\n",
              "      <td>0.0</td>\n",
              "      <td>1.0</td>\n",
              "      <td>0.0</td>\n",
              "      <td>0.0</td>\n",
              "      <td>0.0</td>\n",
              "    </tr>\n",
              "    <tr>\n",
              "      <th>3</th>\n",
              "      <td>0.0</td>\n",
              "      <td>-0.610744</td>\n",
              "      <td>-0.217571</td>\n",
              "      <td>0.0</td>\n",
              "      <td>0.0</td>\n",
              "      <td>1.0</td>\n",
              "      <td>0.0</td>\n",
              "      <td>1.0</td>\n",
              "      <td>1.0</td>\n",
              "      <td>0.0</td>\n",
              "      <td>0.0</td>\n",
              "      <td>0.0</td>\n",
              "      <td>0.0</td>\n",
              "      <td>0.0</td>\n",
              "      <td>1.0</td>\n",
              "      <td>0.0</td>\n",
              "      <td>0.0</td>\n",
              "      <td>0.0</td>\n",
              "    </tr>\n",
              "    <tr>\n",
              "      <th>4</th>\n",
              "      <td>0.0</td>\n",
              "      <td>0.106315</td>\n",
              "      <td>0.082340</td>\n",
              "      <td>0.0</td>\n",
              "      <td>0.0</td>\n",
              "      <td>1.0</td>\n",
              "      <td>0.0</td>\n",
              "      <td>1.0</td>\n",
              "      <td>0.0</td>\n",
              "      <td>0.0</td>\n",
              "      <td>1.0</td>\n",
              "      <td>1.0</td>\n",
              "      <td>0.0</td>\n",
              "      <td>0.0</td>\n",
              "      <td>1.0</td>\n",
              "      <td>0.0</td>\n",
              "      <td>0.0</td>\n",
              "      <td>0.0</td>\n",
              "    </tr>\n",
              "  </tbody>\n",
              "</table>\n",
              "</div>"
            ],
            "text/plain": [
              "    0         1         2    3    4    5   ...   12   13   14   15   16   17\n",
              "0  0.0  1.791515  3.148499  0.0  0.0  1.0  ...  0.0  0.0  1.0  0.0  0.0  0.0\n",
              "1  0.0 -0.246559 -0.140210  0.0  0.0  1.0  ...  0.0  0.0  1.0  0.0  0.0  0.0\n",
              "2  0.0 -0.254287 -0.143458  0.0  1.0  0.0  ...  0.0  0.0  1.0  0.0  0.0  0.0\n",
              "3  0.0 -0.610744 -0.217571  0.0  0.0  1.0  ...  0.0  0.0  1.0  0.0  0.0  0.0\n",
              "4  0.0  0.106315  0.082340  0.0  0.0  1.0  ...  0.0  0.0  1.0  0.0  0.0  0.0\n",
              "\n",
              "[5 rows x 18 columns]"
            ]
          },
          "metadata": {},
          "execution_count": 17
        }
      ]
    },
    {
      "cell_type": "code",
      "source": [
        "X_train2.info()"
      ],
      "metadata": {
        "colab": {
          "base_uri": "https://localhost:8080/"
        },
        "id": "_ym3wWVN1DxI",
        "outputId": "8a0835b2-1db5-4f5a-e23f-1649a2ac8ab7"
      },
      "execution_count": 18,
      "outputs": [
        {
          "output_type": "stream",
          "name": "stdout",
          "text": [
            "<class 'pandas.core.frame.DataFrame'>\n",
            "RangeIndex: 623 entries, 0 to 622\n",
            "Data columns (total 18 columns):\n",
            " #   Column  Non-Null Count  Dtype  \n",
            "---  ------  --------------  -----  \n",
            " 0   0       623 non-null    float64\n",
            " 1   1       623 non-null    float64\n",
            " 2   2       623 non-null    float64\n",
            " 3   3       623 non-null    float64\n",
            " 4   4       623 non-null    float64\n",
            " 5   5       623 non-null    float64\n",
            " 6   6       623 non-null    float64\n",
            " 7   7       623 non-null    float64\n",
            " 8   8       623 non-null    float64\n",
            " 9   9       623 non-null    float64\n",
            " 10  10      623 non-null    float64\n",
            " 11  11      623 non-null    float64\n",
            " 12  12      623 non-null    float64\n",
            " 13  13      623 non-null    float64\n",
            " 14  14      623 non-null    float64\n",
            " 15  15      623 non-null    float64\n",
            " 16  16      623 non-null    float64\n",
            " 17  17      623 non-null    float64\n",
            "dtypes: float64(18)\n",
            "memory usage: 87.7 KB\n"
          ]
        }
      ]
    },
    {
      "cell_type": "code",
      "source": [
        "X_train2.describe()"
      ],
      "metadata": {
        "colab": {
          "base_uri": "https://localhost:8080/",
          "height": 317
        },
        "id": "zKRTEId-1Hgo",
        "outputId": "a38b157f-81dd-450f-dce8-c0bfb40261a2"
      },
      "execution_count": 19,
      "outputs": [
        {
          "output_type": "execute_result",
          "data": {
            "text/html": [
              "<div>\n",
              "<style scoped>\n",
              "    .dataframe tbody tr th:only-of-type {\n",
              "        vertical-align: middle;\n",
              "    }\n",
              "\n",
              "    .dataframe tbody tr th {\n",
              "        vertical-align: top;\n",
              "    }\n",
              "\n",
              "    .dataframe thead th {\n",
              "        text-align: right;\n",
              "    }\n",
              "</style>\n",
              "<table border=\"1\" class=\"dataframe\">\n",
              "  <thead>\n",
              "    <tr style=\"text-align: right;\">\n",
              "      <th></th>\n",
              "      <th>0</th>\n",
              "      <th>1</th>\n",
              "      <th>2</th>\n",
              "      <th>3</th>\n",
              "      <th>4</th>\n",
              "      <th>5</th>\n",
              "      <th>6</th>\n",
              "      <th>7</th>\n",
              "      <th>8</th>\n",
              "      <th>9</th>\n",
              "      <th>10</th>\n",
              "      <th>11</th>\n",
              "      <th>12</th>\n",
              "      <th>13</th>\n",
              "      <th>14</th>\n",
              "      <th>15</th>\n",
              "      <th>16</th>\n",
              "      <th>17</th>\n",
              "    </tr>\n",
              "  </thead>\n",
              "  <tbody>\n",
              "    <tr>\n",
              "      <th>count</th>\n",
              "      <td>623.0</td>\n",
              "      <td>623.000000</td>\n",
              "      <td>623.000000</td>\n",
              "      <td>623.000000</td>\n",
              "      <td>623.000000</td>\n",
              "      <td>623.000000</td>\n",
              "      <td>623.000000</td>\n",
              "      <td>623.000000</td>\n",
              "      <td>623.000000</td>\n",
              "      <td>623.000000</td>\n",
              "      <td>623.000000</td>\n",
              "      <td>623.000000</td>\n",
              "      <td>623.000000</td>\n",
              "      <td>623.000000</td>\n",
              "      <td>623.000000</td>\n",
              "      <td>623.000000</td>\n",
              "      <td>623.000000</td>\n",
              "      <td>623.000000</td>\n",
              "    </tr>\n",
              "    <tr>\n",
              "      <th>mean</th>\n",
              "      <td>0.0</td>\n",
              "      <td>0.786005</td>\n",
              "      <td>3.639142</td>\n",
              "      <td>0.199037</td>\n",
              "      <td>0.085072</td>\n",
              "      <td>0.715891</td>\n",
              "      <td>0.348315</td>\n",
              "      <td>0.651685</td>\n",
              "      <td>0.235955</td>\n",
              "      <td>0.208668</td>\n",
              "      <td>0.555377</td>\n",
              "      <td>0.457464</td>\n",
              "      <td>0.377207</td>\n",
              "      <td>0.101124</td>\n",
              "      <td>0.582665</td>\n",
              "      <td>0.224719</td>\n",
              "      <td>0.075441</td>\n",
              "      <td>0.016051</td>\n",
              "    </tr>\n",
              "    <tr>\n",
              "      <th>std</th>\n",
              "      <td>0.0</td>\n",
              "      <td>2.160694</td>\n",
              "      <td>19.855676</td>\n",
              "      <td>0.399597</td>\n",
              "      <td>0.279213</td>\n",
              "      <td>0.451351</td>\n",
              "      <td>0.476819</td>\n",
              "      <td>0.476819</td>\n",
              "      <td>0.424935</td>\n",
              "      <td>0.406683</td>\n",
              "      <td>0.497323</td>\n",
              "      <td>0.964501</td>\n",
              "      <td>0.841409</td>\n",
              "      <td>0.301735</td>\n",
              "      <td>0.493515</td>\n",
              "      <td>0.417733</td>\n",
              "      <td>0.264314</td>\n",
              "      <td>0.125774</td>\n",
              "    </tr>\n",
              "    <tr>\n",
              "      <th>min</th>\n",
              "      <td>0.0</td>\n",
              "      <td>-0.610744</td>\n",
              "      <td>-0.217571</td>\n",
              "      <td>0.000000</td>\n",
              "      <td>0.000000</td>\n",
              "      <td>0.000000</td>\n",
              "      <td>0.000000</td>\n",
              "      <td>0.000000</td>\n",
              "      <td>0.000000</td>\n",
              "      <td>0.000000</td>\n",
              "      <td>0.000000</td>\n",
              "      <td>0.000000</td>\n",
              "      <td>0.000000</td>\n",
              "      <td>0.000000</td>\n",
              "      <td>0.000000</td>\n",
              "      <td>0.000000</td>\n",
              "      <td>0.000000</td>\n",
              "      <td>0.000000</td>\n",
              "    </tr>\n",
              "    <tr>\n",
              "      <th>25%</th>\n",
              "      <td>0.0</td>\n",
              "      <td>-0.253536</td>\n",
              "      <td>-0.143145</td>\n",
              "      <td>0.000000</td>\n",
              "      <td>0.000000</td>\n",
              "      <td>0.000000</td>\n",
              "      <td>0.000000</td>\n",
              "      <td>0.000000</td>\n",
              "      <td>0.000000</td>\n",
              "      <td>0.000000</td>\n",
              "      <td>0.000000</td>\n",
              "      <td>0.000000</td>\n",
              "      <td>0.000000</td>\n",
              "      <td>0.000000</td>\n",
              "      <td>0.000000</td>\n",
              "      <td>0.000000</td>\n",
              "      <td>0.000000</td>\n",
              "      <td>0.000000</td>\n",
              "    </tr>\n",
              "    <tr>\n",
              "      <th>50%</th>\n",
              "      <td>0.0</td>\n",
              "      <td>0.000000</td>\n",
              "      <td>0.000000</td>\n",
              "      <td>0.000000</td>\n",
              "      <td>0.000000</td>\n",
              "      <td>1.000000</td>\n",
              "      <td>0.000000</td>\n",
              "      <td>1.000000</td>\n",
              "      <td>0.000000</td>\n",
              "      <td>0.000000</td>\n",
              "      <td>1.000000</td>\n",
              "      <td>0.000000</td>\n",
              "      <td>0.000000</td>\n",
              "      <td>0.000000</td>\n",
              "      <td>1.000000</td>\n",
              "      <td>0.000000</td>\n",
              "      <td>0.000000</td>\n",
              "      <td>0.000000</td>\n",
              "    </tr>\n",
              "    <tr>\n",
              "      <th>75%</th>\n",
              "      <td>0.0</td>\n",
              "      <td>0.746464</td>\n",
              "      <td>0.856855</td>\n",
              "      <td>0.000000</td>\n",
              "      <td>0.000000</td>\n",
              "      <td>1.000000</td>\n",
              "      <td>1.000000</td>\n",
              "      <td>1.000000</td>\n",
              "      <td>0.000000</td>\n",
              "      <td>0.000000</td>\n",
              "      <td>1.000000</td>\n",
              "      <td>1.000000</td>\n",
              "      <td>0.000000</td>\n",
              "      <td>0.000000</td>\n",
              "      <td>1.000000</td>\n",
              "      <td>0.000000</td>\n",
              "      <td>0.000000</td>\n",
              "      <td>0.000000</td>\n",
              "    </tr>\n",
              "    <tr>\n",
              "      <th>max</th>\n",
              "      <td>0.0</td>\n",
              "      <td>22.567168</td>\n",
              "      <td>313.134332</td>\n",
              "      <td>1.000000</td>\n",
              "      <td>1.000000</td>\n",
              "      <td>1.000000</td>\n",
              "      <td>1.000000</td>\n",
              "      <td>1.000000</td>\n",
              "      <td>1.000000</td>\n",
              "      <td>1.000000</td>\n",
              "      <td>1.000000</td>\n",
              "      <td>8.000000</td>\n",
              "      <td>6.000000</td>\n",
              "      <td>1.000000</td>\n",
              "      <td>1.000000</td>\n",
              "      <td>1.000000</td>\n",
              "      <td>1.000000</td>\n",
              "      <td>1.000000</td>\n",
              "    </tr>\n",
              "  </tbody>\n",
              "</table>\n",
              "</div>"
            ],
            "text/plain": [
              "          0           1           2   ...          15          16          17\n",
              "count  623.0  623.000000  623.000000  ...  623.000000  623.000000  623.000000\n",
              "mean     0.0    0.786005    3.639142  ...    0.224719    0.075441    0.016051\n",
              "std      0.0    2.160694   19.855676  ...    0.417733    0.264314    0.125774\n",
              "min      0.0   -0.610744   -0.217571  ...    0.000000    0.000000    0.000000\n",
              "25%      0.0   -0.253536   -0.143145  ...    0.000000    0.000000    0.000000\n",
              "50%      0.0    0.000000    0.000000  ...    0.000000    0.000000    0.000000\n",
              "75%      0.0    0.746464    0.856855  ...    0.000000    0.000000    0.000000\n",
              "max      0.0   22.567168  313.134332  ...    1.000000    1.000000    1.000000\n",
              "\n",
              "[8 rows x 18 columns]"
            ]
          },
          "metadata": {},
          "execution_count": 19
        }
      ]
    },
    {
      "cell_type": "code",
      "source": [
        "X_test2=pd.DataFrame(preprocessor.transform(X_test))\n",
        "X_test2.head()"
      ],
      "metadata": {
        "colab": {
          "base_uri": "https://localhost:8080/",
          "height": 204
        },
        "id": "3R5AIpFW2ihY",
        "outputId": "2d7aaf3d-b2ba-49d5-96bd-f788aa2454b5"
      },
      "execution_count": 20,
      "outputs": [
        {
          "output_type": "execute_result",
          "data": {
            "text/html": [
              "<div>\n",
              "<style scoped>\n",
              "    .dataframe tbody tr th:only-of-type {\n",
              "        vertical-align: middle;\n",
              "    }\n",
              "\n",
              "    .dataframe tbody tr th {\n",
              "        vertical-align: top;\n",
              "    }\n",
              "\n",
              "    .dataframe thead th {\n",
              "        text-align: right;\n",
              "    }\n",
              "</style>\n",
              "<table border=\"1\" class=\"dataframe\">\n",
              "  <thead>\n",
              "    <tr style=\"text-align: right;\">\n",
              "      <th></th>\n",
              "      <th>0</th>\n",
              "      <th>1</th>\n",
              "      <th>2</th>\n",
              "      <th>3</th>\n",
              "      <th>4</th>\n",
              "      <th>5</th>\n",
              "      <th>6</th>\n",
              "      <th>7</th>\n",
              "      <th>8</th>\n",
              "      <th>9</th>\n",
              "      <th>10</th>\n",
              "      <th>11</th>\n",
              "      <th>12</th>\n",
              "      <th>13</th>\n",
              "      <th>14</th>\n",
              "      <th>15</th>\n",
              "      <th>16</th>\n",
              "      <th>17</th>\n",
              "    </tr>\n",
              "  </thead>\n",
              "  <tbody>\n",
              "    <tr>\n",
              "      <th>0</th>\n",
              "      <td>0.0</td>\n",
              "      <td>0.851458</td>\n",
              "      <td>1.029520</td>\n",
              "      <td>0.0</td>\n",
              "      <td>0.0</td>\n",
              "      <td>1.0</td>\n",
              "      <td>0.0</td>\n",
              "      <td>1.0</td>\n",
              "      <td>1.0</td>\n",
              "      <td>0.0</td>\n",
              "      <td>0.0</td>\n",
              "      <td>0.0</td>\n",
              "      <td>0.0</td>\n",
              "      <td>0.0</td>\n",
              "      <td>0.0</td>\n",
              "      <td>0.0</td>\n",
              "      <td>1.0</td>\n",
              "      <td>0.0</td>\n",
              "    </tr>\n",
              "    <tr>\n",
              "      <th>1</th>\n",
              "      <td>0.0</td>\n",
              "      <td>-0.253536</td>\n",
              "      <td>-0.143145</td>\n",
              "      <td>0.0</td>\n",
              "      <td>0.0</td>\n",
              "      <td>1.0</td>\n",
              "      <td>0.0</td>\n",
              "      <td>1.0</td>\n",
              "      <td>0.0</td>\n",
              "      <td>0.0</td>\n",
              "      <td>1.0</td>\n",
              "      <td>0.0</td>\n",
              "      <td>0.0</td>\n",
              "      <td>0.0</td>\n",
              "      <td>1.0</td>\n",
              "      <td>0.0</td>\n",
              "      <td>0.0</td>\n",
              "      <td>0.0</td>\n",
              "    </tr>\n",
              "    <tr>\n",
              "      <th>2</th>\n",
              "      <td>0.0</td>\n",
              "      <td>-0.260132</td>\n",
              "      <td>-0.145868</td>\n",
              "      <td>0.0</td>\n",
              "      <td>1.0</td>\n",
              "      <td>0.0</td>\n",
              "      <td>0.0</td>\n",
              "      <td>1.0</td>\n",
              "      <td>0.0</td>\n",
              "      <td>0.0</td>\n",
              "      <td>1.0</td>\n",
              "      <td>0.0</td>\n",
              "      <td>0.0</td>\n",
              "      <td>0.0</td>\n",
              "      <td>1.0</td>\n",
              "      <td>0.0</td>\n",
              "      <td>0.0</td>\n",
              "      <td>0.0</td>\n",
              "    </tr>\n",
              "    <tr>\n",
              "      <th>3</th>\n",
              "      <td>0.0</td>\n",
              "      <td>-0.295193</td>\n",
              "      <td>-0.159492</td>\n",
              "      <td>0.0</td>\n",
              "      <td>0.0</td>\n",
              "      <td>1.0</td>\n",
              "      <td>0.0</td>\n",
              "      <td>1.0</td>\n",
              "      <td>0.0</td>\n",
              "      <td>0.0</td>\n",
              "      <td>1.0</td>\n",
              "      <td>0.0</td>\n",
              "      <td>0.0</td>\n",
              "      <td>0.0</td>\n",
              "      <td>1.0</td>\n",
              "      <td>0.0</td>\n",
              "      <td>0.0</td>\n",
              "      <td>0.0</td>\n",
              "    </tr>\n",
              "    <tr>\n",
              "      <th>4</th>\n",
              "      <td>0.0</td>\n",
              "      <td>-0.246559</td>\n",
              "      <td>-0.140210</td>\n",
              "      <td>0.0</td>\n",
              "      <td>0.0</td>\n",
              "      <td>1.0</td>\n",
              "      <td>0.0</td>\n",
              "      <td>1.0</td>\n",
              "      <td>0.0</td>\n",
              "      <td>0.0</td>\n",
              "      <td>1.0</td>\n",
              "      <td>0.0</td>\n",
              "      <td>0.0</td>\n",
              "      <td>0.0</td>\n",
              "      <td>0.0</td>\n",
              "      <td>1.0</td>\n",
              "      <td>0.0</td>\n",
              "      <td>0.0</td>\n",
              "    </tr>\n",
              "  </tbody>\n",
              "</table>\n",
              "</div>"
            ],
            "text/plain": [
              "    0         1         2    3    4    5   ...   12   13   14   15   16   17\n",
              "0  0.0  0.851458  1.029520  0.0  0.0  1.0  ...  0.0  0.0  0.0  0.0  1.0  0.0\n",
              "1  0.0 -0.253536 -0.143145  0.0  0.0  1.0  ...  0.0  0.0  1.0  0.0  0.0  0.0\n",
              "2  0.0 -0.260132 -0.145868  0.0  1.0  0.0  ...  0.0  0.0  1.0  0.0  0.0  0.0\n",
              "3  0.0 -0.295193 -0.159492  0.0  0.0  1.0  ...  0.0  0.0  1.0  0.0  0.0  0.0\n",
              "4  0.0 -0.246559 -0.140210  0.0  0.0  1.0  ...  0.0  0.0  0.0  1.0  0.0  0.0\n",
              "\n",
              "[5 rows x 18 columns]"
            ]
          },
          "metadata": {},
          "execution_count": 20
        }
      ]
    },
    {
      "cell_type": "markdown",
      "source": [
        "**Run Logistic regression model**\n",
        "\n",
        "\n",
        "---\n",
        "\n"
      ],
      "metadata": {
        "id": "RWQzgFap0rCD"
      }
    },
    {
      "cell_type": "code",
      "source": [
        "model = LogisticRegression(max_iter=1000) #initialize the model\n",
        "model.fit(X_train2, y_train)\n",
        "\n",
        "# print trainin set accuracy\n",
        "train_acc = round(model.score(X_train2, y_train) * 100, 2)\n",
        "print(\"Prediction accuracy (Training Set):\", train_acc, \"%\\n\")\n",
        "\n",
        "# Check and print prediction accuracy and model parameters\n",
        "test_acc=round(model.score(X_test2, y_test) * 100,2)\n",
        "print(\"Prediction accuracy (Test Set):\", test_acc, \"%\\n\")\n"
      ],
      "metadata": {
        "colab": {
          "base_uri": "https://localhost:8080/"
        },
        "id": "0HLpk76z0wox",
        "outputId": "2a6db2c7-029c-4d58-e940-f0604ab674a6"
      },
      "execution_count": 21,
      "outputs": [
        {
          "output_type": "stream",
          "name": "stdout",
          "text": [
            "Prediction accuracy (Training Set): 80.58 %\n",
            "\n",
            "Prediction accuracy (Test Set): 80.6 %\n",
            "\n"
          ]
        }
      ]
    },
    {
      "cell_type": "markdown",
      "source": [
        "**Use pipeline and train Logistic regression**\n",
        "\n",
        "\n",
        "---\n",
        "\n"
      ],
      "metadata": {
        "id": "2bPSIC75lgSX"
      }
    },
    {
      "cell_type": "code",
      "metadata": {
        "colab": {
          "base_uri": "https://localhost:8080/"
        },
        "id": "dBFMrHlkijWW",
        "outputId": "c4347ed1-9ab8-4a5b-c499-ae3dd41c5851"
      },
      "source": [
        "pipeline = make_pipeline(preprocessor, LogisticRegression(max_iter=1000))\n",
        "pipeline.fit(X_train, y_train)\n",
        "\n",
        "# print trainin set accuracy\n",
        "train_acc = round(pipeline.score(X_train, y_train) * 100, 2)\n",
        "print(\"Prediction accuracy (Training Set):\", train_acc, \"%\\n\")\n",
        "\n",
        "# Check and print prediction accuracy and model parameters\n",
        "test_acc=round(pipeline.score(X_test, y_test) * 100,2)\n",
        "print(\"Prediction accuracy (Test Set):\", test_acc, \"%\\n\")\n",
        "\n",
        "# Metrics AUC\n",
        "y_pred_prob = pipeline.predict_proba(X_test)[:,1]\n",
        "print(\"AUC (Test Set):\", round(roc_auc_score(y_test, y_pred_prob) *100,2), \"%\\n\")"
      ],
      "execution_count": 22,
      "outputs": [
        {
          "output_type": "stream",
          "name": "stdout",
          "text": [
            "Prediction accuracy (Training Set): 80.58 %\n",
            "\n",
            "Prediction accuracy (Test Set): 80.6 %\n",
            "\n",
            "AUC (Test Set): 85.23 %\n",
            "\n"
          ]
        }
      ]
    },
    {
      "cell_type": "markdown",
      "source": [
        "**Use pipeline and train Random forest tree**\n",
        "\n",
        "\n",
        "---\n",
        "\n"
      ],
      "metadata": {
        "id": "A9X8iRvk63mL"
      }
    },
    {
      "cell_type": "code",
      "source": [
        "pipeline_rft = make_pipeline(preprocessor, RandomForestClassifier(n_estimators=1000, max_depth=5))    #Hyperparam: n_estimators(number of trees)\n",
        "pipeline_rft.fit(X_train, y_train)\n",
        "\n",
        "# print trainin set accuracy\n",
        "train_acc = round(pipeline_rft.score(X_train, y_train) * 100, 2)\n",
        "print(\"Prediction accuracy (Training Set):\", train_acc, \"%\\n\")\n",
        "\n",
        "# Check and print prediction accuracy and model parameters\n",
        "test_acc=round(pipeline_rft.score(X_test, y_test) * 100, 2)\n",
        "print(\"Prediction accuracy (Test Set):\", test_acc, \"%\\n\")\n",
        "\n",
        "# Metrics AUC\n",
        "y_pred_prob = pipeline_rft.predict_proba(X_test)[:,1]\n",
        "print(\"AUC (Test Set):\", round(roc_auc_score(y_test, y_pred_prob) *100,2), \"%\\n\")"
      ],
      "metadata": {
        "colab": {
          "base_uri": "https://localhost:8080/"
        },
        "id": "_Omjfost6to3",
        "outputId": "daa3ffdc-aa3a-4192-a83b-7d306c45b7d4"
      },
      "execution_count": 23,
      "outputs": [
        {
          "output_type": "stream",
          "name": "stdout",
          "text": [
            "Prediction accuracy (Training Set): 85.39 %\n",
            "\n",
            "Prediction accuracy (Test Set): 80.97 %\n",
            "\n",
            "AUC (Test Set): 85.8 %\n",
            "\n"
          ]
        }
      ]
    },
    {
      "cell_type": "markdown",
      "source": [
        "**Use pipeline and train K-Nearest Neighbor(KNN)**\n",
        "\n",
        "\n",
        "1.   Calculate distance\n",
        "2.   Find closest neighbors\n",
        "3.   Vote for labels\n",
        "\n",
        "\n",
        "\n",
        "---\n",
        "\n",
        "\n",
        "![KNN_final_a1mrv9.png](data:image/png;base64,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)\n"
      ],
      "metadata": {
        "id": "XrR6lHWMu56Z"
      }
    },
    {
      "cell_type": "code",
      "source": [
        "pipeline_knn = make_pipeline(preprocessor, KNeighborsClassifier(n_neighbors=10))   \n",
        "pipeline_knn.fit(X_train, y_train)\n",
        "\n",
        "# print trainin set accuracy\n",
        "train_acc = round(pipeline_knn.score(X_train, y_train) * 100, 2)\n",
        "print(\"Prediction accuracy (Training Set):\", train_acc, \"%\\n\")\n",
        "\n",
        "# Check and print prediction accuracy and model parameters\n",
        "test_acc=round(pipeline_knn.score(X_test, y_test) * 100, 2)\n",
        "print(\"Prediction accuracy (Test Set):\", test_acc, \"%\\n\")\n",
        "\n",
        "# Metrics AUC\n",
        "y_pred_prob = pipeline_knn.predict_proba(X_test)[:,1]\n",
        "print(\"AUC (Test Set):\", round(roc_auc_score(y_test, y_pred_prob) *100,2), \"%\\n\")"
      ],
      "metadata": {
        "colab": {
          "base_uri": "https://localhost:8080/"
        },
        "id": "3Vi5C0TWu5WA",
        "outputId": "c78ab05e-407f-4425-dd14-7ae84699dcd3"
      },
      "execution_count": 24,
      "outputs": [
        {
          "output_type": "stream",
          "name": "stdout",
          "text": [
            "Prediction accuracy (Training Set): 82.18 %\n",
            "\n",
            "Prediction accuracy (Test Set): 80.22 %\n",
            "\n",
            "AUC (Test Set): 85.08 %\n",
            "\n"
          ]
        }
      ]
    },
    {
      "cell_type": "markdown",
      "source": [
        "# **Evaluate test.csv file** *"
      ],
      "metadata": {
        "id": "smVkLNxc8M9B"
      }
    },
    {
      "cell_type": "markdown",
      "source": [
        "preprocess data"
      ],
      "metadata": {
        "id": "r1XGLqoZw_QR"
      }
    },
    {
      "cell_type": "code",
      "source": [
        "df_Test = pd.read_csv('test.csv')\n",
        "df_Test.head()"
      ],
      "metadata": {
        "colab": {
          "base_uri": "https://localhost:8080/",
          "height": 204
        },
        "id": "Q9GijACe6r0b",
        "outputId": "a07a22aa-176d-435c-812c-034ad4b9d4d9"
      },
      "execution_count": 25,
      "outputs": [
        {
          "output_type": "execute_result",
          "data": {
            "text/html": [
              "<div>\n",
              "<style scoped>\n",
              "    .dataframe tbody tr th:only-of-type {\n",
              "        vertical-align: middle;\n",
              "    }\n",
              "\n",
              "    .dataframe tbody tr th {\n",
              "        vertical-align: top;\n",
              "    }\n",
              "\n",
              "    .dataframe thead th {\n",
              "        text-align: right;\n",
              "    }\n",
              "</style>\n",
              "<table border=\"1\" class=\"dataframe\">\n",
              "  <thead>\n",
              "    <tr style=\"text-align: right;\">\n",
              "      <th></th>\n",
              "      <th>PassengerId</th>\n",
              "      <th>Pclass</th>\n",
              "      <th>Name</th>\n",
              "      <th>Sex</th>\n",
              "      <th>Age</th>\n",
              "      <th>SibSp</th>\n",
              "      <th>Parch</th>\n",
              "      <th>Ticket</th>\n",
              "      <th>Fare</th>\n",
              "      <th>Cabin</th>\n",
              "      <th>Embarked</th>\n",
              "    </tr>\n",
              "  </thead>\n",
              "  <tbody>\n",
              "    <tr>\n",
              "      <th>0</th>\n",
              "      <td>892</td>\n",
              "      <td>3</td>\n",
              "      <td>Kelly, Mr. James</td>\n",
              "      <td>male</td>\n",
              "      <td>34.5</td>\n",
              "      <td>0</td>\n",
              "      <td>0</td>\n",
              "      <td>330911</td>\n",
              "      <td>7.8292</td>\n",
              "      <td>NaN</td>\n",
              "      <td>Q</td>\n",
              "    </tr>\n",
              "    <tr>\n",
              "      <th>1</th>\n",
              "      <td>893</td>\n",
              "      <td>3</td>\n",
              "      <td>Wilkes, Mrs. James (Ellen Needs)</td>\n",
              "      <td>female</td>\n",
              "      <td>47.0</td>\n",
              "      <td>1</td>\n",
              "      <td>0</td>\n",
              "      <td>363272</td>\n",
              "      <td>7.0000</td>\n",
              "      <td>NaN</td>\n",
              "      <td>S</td>\n",
              "    </tr>\n",
              "    <tr>\n",
              "      <th>2</th>\n",
              "      <td>894</td>\n",
              "      <td>2</td>\n",
              "      <td>Myles, Mr. Thomas Francis</td>\n",
              "      <td>male</td>\n",
              "      <td>62.0</td>\n",
              "      <td>0</td>\n",
              "      <td>0</td>\n",
              "      <td>240276</td>\n",
              "      <td>9.6875</td>\n",
              "      <td>NaN</td>\n",
              "      <td>Q</td>\n",
              "    </tr>\n",
              "    <tr>\n",
              "      <th>3</th>\n",
              "      <td>895</td>\n",
              "      <td>3</td>\n",
              "      <td>Wirz, Mr. Albert</td>\n",
              "      <td>male</td>\n",
              "      <td>27.0</td>\n",
              "      <td>0</td>\n",
              "      <td>0</td>\n",
              "      <td>315154</td>\n",
              "      <td>8.6625</td>\n",
              "      <td>NaN</td>\n",
              "      <td>S</td>\n",
              "    </tr>\n",
              "    <tr>\n",
              "      <th>4</th>\n",
              "      <td>896</td>\n",
              "      <td>3</td>\n",
              "      <td>Hirvonen, Mrs. Alexander (Helga E Lindqvist)</td>\n",
              "      <td>female</td>\n",
              "      <td>22.0</td>\n",
              "      <td>1</td>\n",
              "      <td>1</td>\n",
              "      <td>3101298</td>\n",
              "      <td>12.2875</td>\n",
              "      <td>NaN</td>\n",
              "      <td>S</td>\n",
              "    </tr>\n",
              "  </tbody>\n",
              "</table>\n",
              "</div>"
            ],
            "text/plain": [
              "   PassengerId  Pclass  ... Cabin Embarked\n",
              "0          892       3  ...   NaN        Q\n",
              "1          893       3  ...   NaN        S\n",
              "2          894       2  ...   NaN        Q\n",
              "3          895       3  ...   NaN        S\n",
              "4          896       3  ...   NaN        S\n",
              "\n",
              "[5 rows x 11 columns]"
            ]
          },
          "metadata": {},
          "execution_count": 25
        }
      ]
    },
    {
      "cell_type": "code",
      "source": [
        "df_Test2 = df_Test.drop(['Cabin','Name', 'Ticket', 'PassengerId'], axis=1) \n",
        "df_Test2.head()"
      ],
      "metadata": {
        "colab": {
          "base_uri": "https://localhost:8080/",
          "height": 204
        },
        "id": "WLGBYz-cI0x4",
        "outputId": "57e0816f-b9a1-4aeb-e7f6-40c4ec724a7e"
      },
      "execution_count": 26,
      "outputs": [
        {
          "output_type": "execute_result",
          "data": {
            "text/html": [
              "<div>\n",
              "<style scoped>\n",
              "    .dataframe tbody tr th:only-of-type {\n",
              "        vertical-align: middle;\n",
              "    }\n",
              "\n",
              "    .dataframe tbody tr th {\n",
              "        vertical-align: top;\n",
              "    }\n",
              "\n",
              "    .dataframe thead th {\n",
              "        text-align: right;\n",
              "    }\n",
              "</style>\n",
              "<table border=\"1\" class=\"dataframe\">\n",
              "  <thead>\n",
              "    <tr style=\"text-align: right;\">\n",
              "      <th></th>\n",
              "      <th>Pclass</th>\n",
              "      <th>Sex</th>\n",
              "      <th>Age</th>\n",
              "      <th>SibSp</th>\n",
              "      <th>Parch</th>\n",
              "      <th>Fare</th>\n",
              "      <th>Embarked</th>\n",
              "    </tr>\n",
              "  </thead>\n",
              "  <tbody>\n",
              "    <tr>\n",
              "      <th>0</th>\n",
              "      <td>3</td>\n",
              "      <td>male</td>\n",
              "      <td>34.5</td>\n",
              "      <td>0</td>\n",
              "      <td>0</td>\n",
              "      <td>7.8292</td>\n",
              "      <td>Q</td>\n",
              "    </tr>\n",
              "    <tr>\n",
              "      <th>1</th>\n",
              "      <td>3</td>\n",
              "      <td>female</td>\n",
              "      <td>47.0</td>\n",
              "      <td>1</td>\n",
              "      <td>0</td>\n",
              "      <td>7.0000</td>\n",
              "      <td>S</td>\n",
              "    </tr>\n",
              "    <tr>\n",
              "      <th>2</th>\n",
              "      <td>2</td>\n",
              "      <td>male</td>\n",
              "      <td>62.0</td>\n",
              "      <td>0</td>\n",
              "      <td>0</td>\n",
              "      <td>9.6875</td>\n",
              "      <td>Q</td>\n",
              "    </tr>\n",
              "    <tr>\n",
              "      <th>3</th>\n",
              "      <td>3</td>\n",
              "      <td>male</td>\n",
              "      <td>27.0</td>\n",
              "      <td>0</td>\n",
              "      <td>0</td>\n",
              "      <td>8.6625</td>\n",
              "      <td>S</td>\n",
              "    </tr>\n",
              "    <tr>\n",
              "      <th>4</th>\n",
              "      <td>3</td>\n",
              "      <td>female</td>\n",
              "      <td>22.0</td>\n",
              "      <td>1</td>\n",
              "      <td>1</td>\n",
              "      <td>12.2875</td>\n",
              "      <td>S</td>\n",
              "    </tr>\n",
              "  </tbody>\n",
              "</table>\n",
              "</div>"
            ],
            "text/plain": [
              "   Pclass     Sex   Age  SibSp  Parch     Fare Embarked\n",
              "0       3    male  34.5      0      0   7.8292        Q\n",
              "1       3  female  47.0      1      0   7.0000        S\n",
              "2       2    male  62.0      0      0   9.6875        Q\n",
              "3       3    male  27.0      0      0   8.6625        S\n",
              "4       3  female  22.0      1      1  12.2875        S"
            ]
          },
          "metadata": {},
          "execution_count": 26
        }
      ]
    },
    {
      "cell_type": "markdown",
      "source": [
        "see the dataframe of test data after transformation"
      ],
      "metadata": {
        "id": "4LHzZl75xCq-"
      }
    },
    {
      "cell_type": "code",
      "source": [
        "# For demosntration purpose\n",
        "X_test3=pd.DataFrame(preprocessor.transform(df_Test2))\n",
        "X_test3.head()"
      ],
      "metadata": {
        "colab": {
          "base_uri": "https://localhost:8080/",
          "height": 204
        },
        "id": "YW3ab2eo8qWE",
        "outputId": "06595213-4fcb-4783-bc8b-5715bb316144"
      },
      "execution_count": 27,
      "outputs": [
        {
          "output_type": "execute_result",
          "data": {
            "text/html": [
              "<div>\n",
              "<style scoped>\n",
              "    .dataframe tbody tr th:only-of-type {\n",
              "        vertical-align: middle;\n",
              "    }\n",
              "\n",
              "    .dataframe tbody tr th {\n",
              "        vertical-align: top;\n",
              "    }\n",
              "\n",
              "    .dataframe thead th {\n",
              "        text-align: right;\n",
              "    }\n",
              "</style>\n",
              "<table border=\"1\" class=\"dataframe\">\n",
              "  <thead>\n",
              "    <tr style=\"text-align: right;\">\n",
              "      <th></th>\n",
              "      <th>0</th>\n",
              "      <th>1</th>\n",
              "      <th>2</th>\n",
              "      <th>3</th>\n",
              "      <th>4</th>\n",
              "      <th>5</th>\n",
              "      <th>6</th>\n",
              "      <th>7</th>\n",
              "      <th>8</th>\n",
              "      <th>9</th>\n",
              "      <th>10</th>\n",
              "      <th>11</th>\n",
              "      <th>12</th>\n",
              "      <th>13</th>\n",
              "      <th>14</th>\n",
              "      <th>15</th>\n",
              "      <th>16</th>\n",
              "      <th>17</th>\n",
              "    </tr>\n",
              "  </thead>\n",
              "  <tbody>\n",
              "    <tr>\n",
              "      <th>0</th>\n",
              "      <td>0.0</td>\n",
              "      <td>-0.256549</td>\n",
              "      <td>-0.144395</td>\n",
              "      <td>0.0</td>\n",
              "      <td>1.0</td>\n",
              "      <td>0.0</td>\n",
              "      <td>0.0</td>\n",
              "      <td>1.0</td>\n",
              "      <td>0.0</td>\n",
              "      <td>0.0</td>\n",
              "      <td>1.0</td>\n",
              "      <td>0.0</td>\n",
              "      <td>0.0</td>\n",
              "      <td>0.0</td>\n",
              "      <td>0.0</td>\n",
              "      <td>1.0</td>\n",
              "      <td>0.0</td>\n",
              "      <td>0.0</td>\n",
              "    </tr>\n",
              "    <tr>\n",
              "      <th>1</th>\n",
              "      <td>0.0</td>\n",
              "      <td>-0.294062</td>\n",
              "      <td>-0.159075</td>\n",
              "      <td>0.0</td>\n",
              "      <td>0.0</td>\n",
              "      <td>1.0</td>\n",
              "      <td>1.0</td>\n",
              "      <td>0.0</td>\n",
              "      <td>0.0</td>\n",
              "      <td>0.0</td>\n",
              "      <td>1.0</td>\n",
              "      <td>1.0</td>\n",
              "      <td>0.0</td>\n",
              "      <td>0.0</td>\n",
              "      <td>0.0</td>\n",
              "      <td>1.0</td>\n",
              "      <td>0.0</td>\n",
              "      <td>0.0</td>\n",
              "    </tr>\n",
              "    <tr>\n",
              "      <th>2</th>\n",
              "      <td>0.0</td>\n",
              "      <td>-0.172479</td>\n",
              "      <td>-0.105535</td>\n",
              "      <td>0.0</td>\n",
              "      <td>1.0</td>\n",
              "      <td>0.0</td>\n",
              "      <td>0.0</td>\n",
              "      <td>1.0</td>\n",
              "      <td>0.0</td>\n",
              "      <td>1.0</td>\n",
              "      <td>0.0</td>\n",
              "      <td>0.0</td>\n",
              "      <td>0.0</td>\n",
              "      <td>0.0</td>\n",
              "      <td>0.0</td>\n",
              "      <td>0.0</td>\n",
              "      <td>1.0</td>\n",
              "      <td>0.0</td>\n",
              "    </tr>\n",
              "    <tr>\n",
              "      <th>3</th>\n",
              "      <td>0.0</td>\n",
              "      <td>-0.218850</td>\n",
              "      <td>-0.127989</td>\n",
              "      <td>0.0</td>\n",
              "      <td>0.0</td>\n",
              "      <td>1.0</td>\n",
              "      <td>0.0</td>\n",
              "      <td>1.0</td>\n",
              "      <td>0.0</td>\n",
              "      <td>0.0</td>\n",
              "      <td>1.0</td>\n",
              "      <td>0.0</td>\n",
              "      <td>0.0</td>\n",
              "      <td>0.0</td>\n",
              "      <td>1.0</td>\n",
              "      <td>0.0</td>\n",
              "      <td>0.0</td>\n",
              "      <td>0.0</td>\n",
              "    </tr>\n",
              "    <tr>\n",
              "      <th>4</th>\n",
              "      <td>0.0</td>\n",
              "      <td>-0.054854</td>\n",
              "      <td>-0.037327</td>\n",
              "      <td>0.0</td>\n",
              "      <td>0.0</td>\n",
              "      <td>1.0</td>\n",
              "      <td>1.0</td>\n",
              "      <td>0.0</td>\n",
              "      <td>0.0</td>\n",
              "      <td>0.0</td>\n",
              "      <td>1.0</td>\n",
              "      <td>1.0</td>\n",
              "      <td>1.0</td>\n",
              "      <td>0.0</td>\n",
              "      <td>1.0</td>\n",
              "      <td>0.0</td>\n",
              "      <td>0.0</td>\n",
              "      <td>0.0</td>\n",
              "    </tr>\n",
              "  </tbody>\n",
              "</table>\n",
              "</div>"
            ],
            "text/plain": [
              "    0         1         2    3    4    5   ...   12   13   14   15   16   17\n",
              "0  0.0 -0.256549 -0.144395  0.0  1.0  0.0  ...  0.0  0.0  0.0  1.0  0.0  0.0\n",
              "1  0.0 -0.294062 -0.159075  0.0  0.0  1.0  ...  0.0  0.0  0.0  1.0  0.0  0.0\n",
              "2  0.0 -0.172479 -0.105535  0.0  1.0  0.0  ...  0.0  0.0  0.0  0.0  1.0  0.0\n",
              "3  0.0 -0.218850 -0.127989  0.0  0.0  1.0  ...  0.0  0.0  1.0  0.0  0.0  0.0\n",
              "4  0.0 -0.054854 -0.037327  0.0  0.0  1.0  ...  1.0  0.0  1.0  0.0  0.0  0.0\n",
              "\n",
              "[5 rows x 18 columns]"
            ]
          },
          "metadata": {},
          "execution_count": 27
        }
      ]
    },
    {
      "cell_type": "markdown",
      "source": [
        "**Predict by Logistic Regression**"
      ],
      "metadata": {
        "id": "NKWiERGGxL4n"
      }
    },
    {
      "cell_type": "code",
      "source": [
        "# predictions of logistic reg model on test set\n",
        "test_pred_log_reg=pipeline.predict(df_Test2)\n",
        "test_pred_log_reg"
      ],
      "metadata": {
        "colab": {
          "base_uri": "https://localhost:8080/"
        },
        "id": "BvPyrk2i9Bvk",
        "outputId": "c44dafe5-39fe-482e-f896-070b794d0464"
      },
      "execution_count": 28,
      "outputs": [
        {
          "output_type": "execute_result",
          "data": {
            "text/plain": [
              "array([0, 0, 0, 0, 0, 0, 1, 0, 1, 0, 0, 0, 1, 0, 1, 1, 0, 0, 0, 1, 0, 0,\n",
              "       1, 1, 1, 0, 1, 0, 0, 0, 0, 0, 0, 0, 0, 0, 1, 1, 0, 0, 0, 0, 0, 1,\n",
              "       1, 0, 0, 0, 1, 0, 0, 0, 1, 1, 0, 0, 0, 0, 0, 1, 0, 0, 0, 1, 1, 1,\n",
              "       1, 0, 0, 1, 1, 0, 1, 0, 1, 1, 0, 1, 0, 1, 0, 0, 0, 0, 0, 0, 1, 1,\n",
              "       1, 0, 1, 0, 1, 0, 0, 0, 1, 0, 1, 0, 1, 0, 0, 0, 1, 0, 0, 0, 0, 0,\n",
              "       0, 1, 1, 1, 1, 0, 0, 1, 0, 1, 1, 0, 1, 0, 0, 1, 0, 1, 0, 0, 0, 0,\n",
              "       0, 0, 0, 0, 0, 0, 1, 0, 0, 1, 0, 0, 0, 0, 0, 0, 0, 0, 1, 0, 0, 0,\n",
              "       0, 0, 1, 1, 0, 1, 1, 0, 1, 0, 0, 0, 0, 0, 1, 1, 0, 0, 0, 0, 0, 1,\n",
              "       1, 0, 1, 1, 0, 0, 1, 0, 1, 0, 1, 0, 0, 0, 0, 0, 0, 0, 1, 0, 1, 1,\n",
              "       0, 1, 1, 0, 1, 1, 0, 0, 1, 0, 1, 0, 0, 0, 0, 1, 0, 0, 1, 0, 1, 0,\n",
              "       1, 0, 1, 0, 1, 1, 0, 1, 0, 0, 1, 1, 0, 0, 0, 0, 0, 0, 1, 1, 1, 1,\n",
              "       0, 0, 0, 0, 1, 0, 1, 1, 1, 0, 1, 0, 0, 0, 0, 0, 1, 0, 0, 0, 1, 1,\n",
              "       0, 0, 0, 0, 1, 0, 0, 0, 1, 1, 0, 1, 0, 0, 0, 0, 1, 0, 1, 1, 1, 0,\n",
              "       0, 0, 0, 0, 0, 1, 0, 0, 0, 0, 1, 0, 0, 0, 0, 0, 0, 0, 1, 1, 0, 0,\n",
              "       0, 0, 0, 0, 0, 1, 1, 1, 0, 0, 0, 0, 0, 0, 0, 0, 1, 0, 1, 1, 0, 0,\n",
              "       1, 0, 0, 1, 0, 0, 0, 0, 0, 0, 0, 0, 0, 1, 0, 1, 0, 1, 0, 1, 1, 0,\n",
              "       0, 0, 1, 0, 1, 0, 0, 1, 0, 1, 1, 0, 1, 0, 0, 1, 1, 0, 0, 1, 0, 0,\n",
              "       1, 1, 0, 0, 0, 0, 0, 0, 1, 1, 0, 1, 0, 0, 0, 0, 1, 1, 0, 0, 0, 1,\n",
              "       0, 1, 0, 0, 1, 0, 1, 0, 0, 0, 0, 0, 1, 1, 1, 1, 1, 0, 1, 0, 0, 0])"
            ]
          },
          "metadata": {},
          "execution_count": 28
        }
      ]
    },
    {
      "cell_type": "code",
      "source": [
        "# predictions of logistic reg model on test set csv \n",
        "pred_log_reg=df_Test[['PassengerId']]\n",
        "pred_log_reg['Survived'] =test_pred_log_reg\n",
        "pred_log_reg.to_csv('predictions_log_reg.csv',index=False)\n",
        "pred_log_reg.head()"
      ],
      "metadata": {
        "colab": {
          "base_uri": "https://localhost:8080/",
          "height": 306
        },
        "id": "Cot_vxq_98hy",
        "outputId": "49662c21-c075-4a19-ba1b-ffa6972da27b"
      },
      "execution_count": 29,
      "outputs": [
        {
          "output_type": "stream",
          "name": "stderr",
          "text": [
            "/usr/local/lib/python3.7/dist-packages/ipykernel_launcher.py:3: SettingWithCopyWarning: \n",
            "A value is trying to be set on a copy of a slice from a DataFrame.\n",
            "Try using .loc[row_indexer,col_indexer] = value instead\n",
            "\n",
            "See the caveats in the documentation: https://pandas.pydata.org/pandas-docs/stable/user_guide/indexing.html#returning-a-view-versus-a-copy\n",
            "  This is separate from the ipykernel package so we can avoid doing imports until\n"
          ]
        },
        {
          "output_type": "execute_result",
          "data": {
            "text/html": [
              "<div>\n",
              "<style scoped>\n",
              "    .dataframe tbody tr th:only-of-type {\n",
              "        vertical-align: middle;\n",
              "    }\n",
              "\n",
              "    .dataframe tbody tr th {\n",
              "        vertical-align: top;\n",
              "    }\n",
              "\n",
              "    .dataframe thead th {\n",
              "        text-align: right;\n",
              "    }\n",
              "</style>\n",
              "<table border=\"1\" class=\"dataframe\">\n",
              "  <thead>\n",
              "    <tr style=\"text-align: right;\">\n",
              "      <th></th>\n",
              "      <th>PassengerId</th>\n",
              "      <th>Survived</th>\n",
              "    </tr>\n",
              "  </thead>\n",
              "  <tbody>\n",
              "    <tr>\n",
              "      <th>0</th>\n",
              "      <td>892</td>\n",
              "      <td>0</td>\n",
              "    </tr>\n",
              "    <tr>\n",
              "      <th>1</th>\n",
              "      <td>893</td>\n",
              "      <td>0</td>\n",
              "    </tr>\n",
              "    <tr>\n",
              "      <th>2</th>\n",
              "      <td>894</td>\n",
              "      <td>0</td>\n",
              "    </tr>\n",
              "    <tr>\n",
              "      <th>3</th>\n",
              "      <td>895</td>\n",
              "      <td>0</td>\n",
              "    </tr>\n",
              "    <tr>\n",
              "      <th>4</th>\n",
              "      <td>896</td>\n",
              "      <td>0</td>\n",
              "    </tr>\n",
              "  </tbody>\n",
              "</table>\n",
              "</div>"
            ],
            "text/plain": [
              "   PassengerId  Survived\n",
              "0          892         0\n",
              "1          893         0\n",
              "2          894         0\n",
              "3          895         0\n",
              "4          896         0"
            ]
          },
          "metadata": {},
          "execution_count": 29
        }
      ]
    },
    {
      "cell_type": "markdown",
      "source": [
        "**Predict by Random forest model**"
      ],
      "metadata": {
        "id": "qxkzi912xY4d"
      }
    },
    {
      "cell_type": "code",
      "source": [
        "# predictions of random forest model on test set\n",
        "test_pred_rnd_forest=pipeline_rft.predict(df_Test2)\n",
        "test_pred_rnd_forest"
      ],
      "metadata": {
        "colab": {
          "base_uri": "https://localhost:8080/"
        },
        "id": "TG7io0xe8fYs",
        "outputId": "d53b1314-d6be-4f0e-a6f4-34745593f2be"
      },
      "execution_count": 30,
      "outputs": [
        {
          "output_type": "execute_result",
          "data": {
            "text/plain": [
              "array([0, 0, 0, 0, 0, 0, 1, 0, 1, 0, 0, 0, 1, 0, 1, 1, 0, 0, 0, 1, 0, 0,\n",
              "       1, 0, 1, 0, 1, 0, 0, 0, 0, 0, 0, 0, 0, 0, 1, 1, 0, 0, 0, 0, 0, 1,\n",
              "       1, 0, 0, 0, 1, 0, 0, 0, 1, 1, 0, 0, 0, 0, 0, 1, 0, 0, 0, 1, 1, 1,\n",
              "       1, 0, 0, 1, 1, 0, 1, 0, 1, 0, 0, 1, 0, 1, 1, 0, 0, 0, 0, 0, 1, 1,\n",
              "       1, 1, 0, 0, 1, 0, 0, 0, 1, 0, 1, 0, 1, 0, 0, 0, 1, 0, 0, 0, 0, 0,\n",
              "       0, 1, 1, 1, 1, 0, 0, 1, 0, 1, 1, 0, 1, 0, 0, 1, 0, 1, 0, 0, 0, 0,\n",
              "       0, 0, 0, 0, 0, 0, 1, 0, 0, 1, 1, 0, 0, 0, 0, 0, 0, 0, 1, 0, 0, 0,\n",
              "       0, 0, 1, 1, 0, 1, 1, 1, 1, 0, 0, 0, 0, 0, 1, 1, 0, 0, 0, 0, 0, 1,\n",
              "       1, 0, 1, 1, 0, 0, 1, 0, 1, 0, 1, 0, 0, 0, 0, 0, 0, 0, 1, 0, 1, 1,\n",
              "       0, 1, 1, 0, 0, 1, 0, 0, 1, 0, 1, 0, 0, 0, 0, 1, 0, 0, 1, 0, 1, 0,\n",
              "       1, 0, 1, 0, 1, 1, 0, 1, 0, 0, 0, 1, 0, 0, 0, 0, 0, 0, 1, 1, 1, 1,\n",
              "       0, 0, 0, 0, 1, 0, 1, 0, 1, 0, 0, 0, 0, 0, 0, 0, 1, 0, 0, 0, 1, 1,\n",
              "       0, 0, 0, 0, 1, 0, 0, 0, 1, 1, 0, 1, 0, 0, 0, 0, 1, 0, 1, 1, 0, 0,\n",
              "       0, 0, 0, 0, 0, 1, 0, 0, 0, 0, 1, 0, 0, 0, 0, 0, 0, 0, 1, 1, 0, 0,\n",
              "       0, 0, 0, 0, 0, 1, 1, 1, 0, 0, 0, 0, 0, 0, 0, 0, 1, 0, 1, 0, 0, 0,\n",
              "       1, 0, 0, 1, 0, 0, 0, 0, 0, 0, 0, 0, 0, 1, 0, 1, 0, 1, 0, 1, 1, 0,\n",
              "       0, 0, 0, 0, 1, 0, 0, 0, 0, 1, 1, 0, 1, 0, 0, 0, 1, 0, 0, 1, 0, 0,\n",
              "       1, 1, 0, 0, 0, 0, 0, 0, 1, 0, 0, 1, 0, 0, 0, 0, 0, 1, 0, 0, 0, 1,\n",
              "       0, 1, 0, 0, 1, 0, 1, 0, 0, 0, 0, 0, 1, 1, 1, 1, 1, 0, 1, 0, 0, 0])"
            ]
          },
          "metadata": {},
          "execution_count": 30
        }
      ]
    },
    {
      "cell_type": "code",
      "source": [
        "# predictions of random forest model on test set csv \n",
        "pred_rand_forest=df_Test[['PassengerId']]\n",
        "pred_rand_forest['Survived'] =test_pred_rnd_forest\n",
        "pred_rand_forest.head()"
      ],
      "metadata": {
        "colab": {
          "base_uri": "https://localhost:8080/",
          "height": 306
        },
        "id": "UxezcMAV_A5I",
        "outputId": "7aac2cfd-9b76-4d62-a012-afd6af2390e2"
      },
      "execution_count": 31,
      "outputs": [
        {
          "output_type": "stream",
          "name": "stderr",
          "text": [
            "/usr/local/lib/python3.7/dist-packages/ipykernel_launcher.py:3: SettingWithCopyWarning: \n",
            "A value is trying to be set on a copy of a slice from a DataFrame.\n",
            "Try using .loc[row_indexer,col_indexer] = value instead\n",
            "\n",
            "See the caveats in the documentation: https://pandas.pydata.org/pandas-docs/stable/user_guide/indexing.html#returning-a-view-versus-a-copy\n",
            "  This is separate from the ipykernel package so we can avoid doing imports until\n"
          ]
        },
        {
          "output_type": "execute_result",
          "data": {
            "text/html": [
              "<div>\n",
              "<style scoped>\n",
              "    .dataframe tbody tr th:only-of-type {\n",
              "        vertical-align: middle;\n",
              "    }\n",
              "\n",
              "    .dataframe tbody tr th {\n",
              "        vertical-align: top;\n",
              "    }\n",
              "\n",
              "    .dataframe thead th {\n",
              "        text-align: right;\n",
              "    }\n",
              "</style>\n",
              "<table border=\"1\" class=\"dataframe\">\n",
              "  <thead>\n",
              "    <tr style=\"text-align: right;\">\n",
              "      <th></th>\n",
              "      <th>PassengerId</th>\n",
              "      <th>Survived</th>\n",
              "    </tr>\n",
              "  </thead>\n",
              "  <tbody>\n",
              "    <tr>\n",
              "      <th>0</th>\n",
              "      <td>892</td>\n",
              "      <td>0</td>\n",
              "    </tr>\n",
              "    <tr>\n",
              "      <th>1</th>\n",
              "      <td>893</td>\n",
              "      <td>0</td>\n",
              "    </tr>\n",
              "    <tr>\n",
              "      <th>2</th>\n",
              "      <td>894</td>\n",
              "      <td>0</td>\n",
              "    </tr>\n",
              "    <tr>\n",
              "      <th>3</th>\n",
              "      <td>895</td>\n",
              "      <td>0</td>\n",
              "    </tr>\n",
              "    <tr>\n",
              "      <th>4</th>\n",
              "      <td>896</td>\n",
              "      <td>0</td>\n",
              "    </tr>\n",
              "  </tbody>\n",
              "</table>\n",
              "</div>"
            ],
            "text/plain": [
              "   PassengerId  Survived\n",
              "0          892         0\n",
              "1          893         0\n",
              "2          894         0\n",
              "3          895         0\n",
              "4          896         0"
            ]
          },
          "metadata": {},
          "execution_count": 31
        }
      ]
    },
    {
      "cell_type": "code",
      "source": [
        "pred_rand_forest.to_csv('predictions_rnd_forest.csv', index=False)"
      ],
      "metadata": {
        "id": "ghSFpBYYG0Uw"
      },
      "execution_count": 32,
      "outputs": []
    },
    {
      "cell_type": "code",
      "source": [
        "pred_rand_forest.info()"
      ],
      "metadata": {
        "colab": {
          "base_uri": "https://localhost:8080/"
        },
        "id": "caRbqy1OA24a",
        "outputId": "f1180364-ac42-498b-ba56-9e621a274f5e"
      },
      "execution_count": 33,
      "outputs": [
        {
          "output_type": "stream",
          "name": "stdout",
          "text": [
            "<class 'pandas.core.frame.DataFrame'>\n",
            "RangeIndex: 418 entries, 0 to 417\n",
            "Data columns (total 2 columns):\n",
            " #   Column       Non-Null Count  Dtype\n",
            "---  ------       --------------  -----\n",
            " 0   PassengerId  418 non-null    int64\n",
            " 1   Survived     418 non-null    int64\n",
            "dtypes: int64(2)\n",
            "memory usage: 6.7 KB\n"
          ]
        }
      ]
    },
    {
      "cell_type": "markdown",
      "source": [
        "**Predict by K-Nearest Neighbor(KNN)**"
      ],
      "metadata": {
        "id": "0Hq0hiJ5O7cR"
      }
    },
    {
      "cell_type": "code",
      "source": [
        "# predictions of logistic reg model on test set\n",
        "test_pred_knn=pipeline.predict(df_Test2)\n",
        "test_pred_knn"
      ],
      "metadata": {
        "colab": {
          "base_uri": "https://localhost:8080/"
        },
        "id": "oLpQIlSRPxFM",
        "outputId": "20ca76f9-987c-460c-b622-8b08c963de07"
      },
      "execution_count": 34,
      "outputs": [
        {
          "output_type": "execute_result",
          "data": {
            "text/plain": [
              "array([0, 0, 0, 0, 0, 0, 1, 0, 1, 0, 0, 0, 1, 0, 1, 1, 0, 0, 0, 1, 0, 0,\n",
              "       1, 1, 1, 0, 1, 0, 0, 0, 0, 0, 0, 0, 0, 0, 1, 1, 0, 0, 0, 0, 0, 1,\n",
              "       1, 0, 0, 0, 1, 0, 0, 0, 1, 1, 0, 0, 0, 0, 0, 1, 0, 0, 0, 1, 1, 1,\n",
              "       1, 0, 0, 1, 1, 0, 1, 0, 1, 1, 0, 1, 0, 1, 0, 0, 0, 0, 0, 0, 1, 1,\n",
              "       1, 0, 1, 0, 1, 0, 0, 0, 1, 0, 1, 0, 1, 0, 0, 0, 1, 0, 0, 0, 0, 0,\n",
              "       0, 1, 1, 1, 1, 0, 0, 1, 0, 1, 1, 0, 1, 0, 0, 1, 0, 1, 0, 0, 0, 0,\n",
              "       0, 0, 0, 0, 0, 0, 1, 0, 0, 1, 0, 0, 0, 0, 0, 0, 0, 0, 1, 0, 0, 0,\n",
              "       0, 0, 1, 1, 0, 1, 1, 0, 1, 0, 0, 0, 0, 0, 1, 1, 0, 0, 0, 0, 0, 1,\n",
              "       1, 0, 1, 1, 0, 0, 1, 0, 1, 0, 1, 0, 0, 0, 0, 0, 0, 0, 1, 0, 1, 1,\n",
              "       0, 1, 1, 0, 1, 1, 0, 0, 1, 0, 1, 0, 0, 0, 0, 1, 0, 0, 1, 0, 1, 0,\n",
              "       1, 0, 1, 0, 1, 1, 0, 1, 0, 0, 1, 1, 0, 0, 0, 0, 0, 0, 1, 1, 1, 1,\n",
              "       0, 0, 0, 0, 1, 0, 1, 1, 1, 0, 1, 0, 0, 0, 0, 0, 1, 0, 0, 0, 1, 1,\n",
              "       0, 0, 0, 0, 1, 0, 0, 0, 1, 1, 0, 1, 0, 0, 0, 0, 1, 0, 1, 1, 1, 0,\n",
              "       0, 0, 0, 0, 0, 1, 0, 0, 0, 0, 1, 0, 0, 0, 0, 0, 0, 0, 1, 1, 0, 0,\n",
              "       0, 0, 0, 0, 0, 1, 1, 1, 0, 0, 0, 0, 0, 0, 0, 0, 1, 0, 1, 1, 0, 0,\n",
              "       1, 0, 0, 1, 0, 0, 0, 0, 0, 0, 0, 0, 0, 1, 0, 1, 0, 1, 0, 1, 1, 0,\n",
              "       0, 0, 1, 0, 1, 0, 0, 1, 0, 1, 1, 0, 1, 0, 0, 1, 1, 0, 0, 1, 0, 0,\n",
              "       1, 1, 0, 0, 0, 0, 0, 0, 1, 1, 0, 1, 0, 0, 0, 0, 1, 1, 0, 0, 0, 1,\n",
              "       0, 1, 0, 0, 1, 0, 1, 0, 0, 0, 0, 0, 1, 1, 1, 1, 1, 0, 1, 0, 0, 0])"
            ]
          },
          "metadata": {},
          "execution_count": 34
        }
      ]
    },
    {
      "cell_type": "code",
      "source": [
        "# predictions of random forest model on test set csv \n",
        "pred_rand_knn=df_Test[['PassengerId']]\n",
        "pred_rand_knn['Survived'] =test_pred_knn\n",
        "pred_rand_knn.head()"
      ],
      "metadata": {
        "colab": {
          "base_uri": "https://localhost:8080/",
          "height": 306
        },
        "id": "v6c1reS07BDu",
        "outputId": "14e6216c-87de-438b-967d-318a4e3fdd5b"
      },
      "execution_count": 35,
      "outputs": [
        {
          "output_type": "stream",
          "name": "stderr",
          "text": [
            "/usr/local/lib/python3.7/dist-packages/ipykernel_launcher.py:3: SettingWithCopyWarning: \n",
            "A value is trying to be set on a copy of a slice from a DataFrame.\n",
            "Try using .loc[row_indexer,col_indexer] = value instead\n",
            "\n",
            "See the caveats in the documentation: https://pandas.pydata.org/pandas-docs/stable/user_guide/indexing.html#returning-a-view-versus-a-copy\n",
            "  This is separate from the ipykernel package so we can avoid doing imports until\n"
          ]
        },
        {
          "output_type": "execute_result",
          "data": {
            "text/html": [
              "<div>\n",
              "<style scoped>\n",
              "    .dataframe tbody tr th:only-of-type {\n",
              "        vertical-align: middle;\n",
              "    }\n",
              "\n",
              "    .dataframe tbody tr th {\n",
              "        vertical-align: top;\n",
              "    }\n",
              "\n",
              "    .dataframe thead th {\n",
              "        text-align: right;\n",
              "    }\n",
              "</style>\n",
              "<table border=\"1\" class=\"dataframe\">\n",
              "  <thead>\n",
              "    <tr style=\"text-align: right;\">\n",
              "      <th></th>\n",
              "      <th>PassengerId</th>\n",
              "      <th>Survived</th>\n",
              "    </tr>\n",
              "  </thead>\n",
              "  <tbody>\n",
              "    <tr>\n",
              "      <th>0</th>\n",
              "      <td>892</td>\n",
              "      <td>0</td>\n",
              "    </tr>\n",
              "    <tr>\n",
              "      <th>1</th>\n",
              "      <td>893</td>\n",
              "      <td>0</td>\n",
              "    </tr>\n",
              "    <tr>\n",
              "      <th>2</th>\n",
              "      <td>894</td>\n",
              "      <td>0</td>\n",
              "    </tr>\n",
              "    <tr>\n",
              "      <th>3</th>\n",
              "      <td>895</td>\n",
              "      <td>0</td>\n",
              "    </tr>\n",
              "    <tr>\n",
              "      <th>4</th>\n",
              "      <td>896</td>\n",
              "      <td>0</td>\n",
              "    </tr>\n",
              "  </tbody>\n",
              "</table>\n",
              "</div>"
            ],
            "text/plain": [
              "   PassengerId  Survived\n",
              "0          892         0\n",
              "1          893         0\n",
              "2          894         0\n",
              "3          895         0\n",
              "4          896         0"
            ]
          },
          "metadata": {},
          "execution_count": 35
        }
      ]
    },
    {
      "cell_type": "code",
      "source": [
        "pred_rand_knn.to_csv('predictions_knn.csv', index=False)"
      ],
      "metadata": {
        "id": "mxF0UN7t7UFG"
      },
      "execution_count": 36,
      "outputs": []
    },
    {
      "cell_type": "code",
      "source": [
        "all_predications=df_Test[['PassengerId']]\n",
        "all_predications['Survived_LogReg'] =test_pred_log_reg\n",
        "all_predications['Survived_RndForest'] =test_pred_rnd_forest\n",
        "all_predications['Survived_KNN'] =test_pred_knn\n",
        "all_predications.head()"
      ],
      "metadata": {
        "colab": {
          "base_uri": "https://localhost:8080/",
          "height": 510
        },
        "id": "FCAFlb4V7Z37",
        "outputId": "1939db16-437e-4097-8b32-6d883f41e179"
      },
      "execution_count": 37,
      "outputs": [
        {
          "output_type": "stream",
          "name": "stderr",
          "text": [
            "/usr/local/lib/python3.7/dist-packages/ipykernel_launcher.py:2: SettingWithCopyWarning: \n",
            "A value is trying to be set on a copy of a slice from a DataFrame.\n",
            "Try using .loc[row_indexer,col_indexer] = value instead\n",
            "\n",
            "See the caveats in the documentation: https://pandas.pydata.org/pandas-docs/stable/user_guide/indexing.html#returning-a-view-versus-a-copy\n",
            "  \n",
            "/usr/local/lib/python3.7/dist-packages/ipykernel_launcher.py:3: SettingWithCopyWarning: \n",
            "A value is trying to be set on a copy of a slice from a DataFrame.\n",
            "Try using .loc[row_indexer,col_indexer] = value instead\n",
            "\n",
            "See the caveats in the documentation: https://pandas.pydata.org/pandas-docs/stable/user_guide/indexing.html#returning-a-view-versus-a-copy\n",
            "  This is separate from the ipykernel package so we can avoid doing imports until\n",
            "/usr/local/lib/python3.7/dist-packages/ipykernel_launcher.py:4: SettingWithCopyWarning: \n",
            "A value is trying to be set on a copy of a slice from a DataFrame.\n",
            "Try using .loc[row_indexer,col_indexer] = value instead\n",
            "\n",
            "See the caveats in the documentation: https://pandas.pydata.org/pandas-docs/stable/user_guide/indexing.html#returning-a-view-versus-a-copy\n",
            "  after removing the cwd from sys.path.\n"
          ]
        },
        {
          "output_type": "execute_result",
          "data": {
            "text/html": [
              "<div>\n",
              "<style scoped>\n",
              "    .dataframe tbody tr th:only-of-type {\n",
              "        vertical-align: middle;\n",
              "    }\n",
              "\n",
              "    .dataframe tbody tr th {\n",
              "        vertical-align: top;\n",
              "    }\n",
              "\n",
              "    .dataframe thead th {\n",
              "        text-align: right;\n",
              "    }\n",
              "</style>\n",
              "<table border=\"1\" class=\"dataframe\">\n",
              "  <thead>\n",
              "    <tr style=\"text-align: right;\">\n",
              "      <th></th>\n",
              "      <th>PassengerId</th>\n",
              "      <th>Survived_LogReg</th>\n",
              "      <th>Survived_RndForest</th>\n",
              "      <th>Survived_KNN</th>\n",
              "    </tr>\n",
              "  </thead>\n",
              "  <tbody>\n",
              "    <tr>\n",
              "      <th>0</th>\n",
              "      <td>892</td>\n",
              "      <td>0</td>\n",
              "      <td>0</td>\n",
              "      <td>0</td>\n",
              "    </tr>\n",
              "    <tr>\n",
              "      <th>1</th>\n",
              "      <td>893</td>\n",
              "      <td>0</td>\n",
              "      <td>0</td>\n",
              "      <td>0</td>\n",
              "    </tr>\n",
              "    <tr>\n",
              "      <th>2</th>\n",
              "      <td>894</td>\n",
              "      <td>0</td>\n",
              "      <td>0</td>\n",
              "      <td>0</td>\n",
              "    </tr>\n",
              "    <tr>\n",
              "      <th>3</th>\n",
              "      <td>895</td>\n",
              "      <td>0</td>\n",
              "      <td>0</td>\n",
              "      <td>0</td>\n",
              "    </tr>\n",
              "    <tr>\n",
              "      <th>4</th>\n",
              "      <td>896</td>\n",
              "      <td>0</td>\n",
              "      <td>0</td>\n",
              "      <td>0</td>\n",
              "    </tr>\n",
              "  </tbody>\n",
              "</table>\n",
              "</div>"
            ],
            "text/plain": [
              "   PassengerId  Survived_LogReg  Survived_RndForest  Survived_KNN\n",
              "0          892                0                   0             0\n",
              "1          893                0                   0             0\n",
              "2          894                0                   0             0\n",
              "3          895                0                   0             0\n",
              "4          896                0                   0             0"
            ]
          },
          "metadata": {},
          "execution_count": 37
        }
      ]
    },
    {
      "cell_type": "code",
      "source": [
        "fig, (ax0,ax1,ax2) =plt.subplots(nrows=1, ncols=3, sharey=True, figsize=(12,6))\n",
        "\n",
        "splot = sns.countplot(data=all_predications, x = 'Survived_LogReg', ax=ax0)\n",
        "for p in splot.patches:\n",
        " splot.annotate(format(p.get_height(), '.2f'), (p.get_x() + p.get_width() / 2., p.get_height()), ha = 'center', va = 'center', xytext = (0, 10), textcoords = 'offset points')\n",
        "ax0.set(title='LogReg', ylim=(0,310))\n",
        "\n",
        "\n",
        "splot = sns.countplot(data=all_predications, x = 'Survived_RndForest', ax=ax1)\n",
        "for p in splot.patches:\n",
        " splot.annotate(format(p.get_height(), '.2f'), (p.get_x() + p.get_width() / 2., p.get_height()), ha = 'center', va = 'center', xytext = (0, 10), textcoords = 'offset points')\n",
        "ax1.set(title='Random forest', ylim=(0,310))\n",
        "\n",
        "\n",
        "splot = sns.countplot(data=all_predications, x = 'Survived_KNN', ax=ax2)\n",
        "for p in splot.patches:\n",
        " splot.annotate(format(p.get_height(), '.2f'), (p.get_x() + p.get_width() / 2., p.get_height()), ha = 'center', va = 'center', xytext = (0, 10), textcoords = 'offset points')\n",
        "ax2.set(title='KNN', ylim=(0,310))"
      ],
      "metadata": {
        "colab": {
          "base_uri": "https://localhost:8080/",
          "height": 422
        },
        "id": "U0mPoodkG5Ps",
        "outputId": "2fb4245c-f41a-4908-cf29-d9ac6c894f9a"
      },
      "execution_count": 44,
      "outputs": [
        {
          "output_type": "execute_result",
          "data": {
            "text/plain": [
              "[(0.0, 310.0), Text(0.5, 1.0, 'KNN')]"
            ]
          },
          "metadata": {},
          "execution_count": 44
        },
        {
          "output_type": "display_data",
          "data": {
            "image/png": "[encoded data removed]",
            "text/plain": [
              "<Figure size 864x432 with 3 Axes>"
            ]
          },
          "metadata": {
            "needs_background": "light"
          }
        }
      ]
    },
    {
      "cell_type": "markdown",
      "source": [
        "**Kaggle accuracy test:**\n",
        "\n",
        "*   Log Reg: 0.76\n",
        "*   Random forest: 0.78\n",
        "*   KNN: 0.76\n",
        "\n",
        "\n"
      ],
      "metadata": {
        "id": "uvTi1xyLRk0j"
      }
    }
  ]
}