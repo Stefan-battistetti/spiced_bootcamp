{
 "cells": [
  {
   "cell_type": "code",
   "execution_count": 91,
   "metadata": {},
   "outputs": [],
   "source": [
    "from sklearn.model_selection import train_test_split\n",
    "from sklearn.linear_model import LogisticRegression \n",
    "from sklearn.compose import ColumnTransformer\n",
    "from sklearn.preprocessing import StandardScaler\n",
    "from sklearn.preprocessing import RobustScaler\n",
    "\n",
    "from sklearn.model_selection import train_test_split\n",
    "from sklearn.pipeline import Pipeline, make_pipeline\n",
    "from sklearn.ensemble import RandomForestClassifier\n",
    "from sklearn.preprocessing import KBinsDiscretizer\n",
    "from sklearn.preprocessing import OneHotEncoder\n",
    "from sklearn.preprocessing import PolynomialFeatures\n",
    "\n",
    "from sklearn.model_selection import cross_validate  #Run cross-validation for single metric evaluation.\n",
    "from sklearn.metrics import accuracy_score  \n",
    "from sklearn.metrics import precision_score, recall_score\n",
    "from sklearn.metrics import confusion_matrix\n",
    "import matplotlib.pyplot as plt\n",
    "import seaborn as sns\n",
    "import pandas as pd\n",
    "from sklearn.metrics import plot_roc_curve, auc, roc_curve\n",
    "from sklearn.metrics import plot_precision_recall_curve\n",
    "from sklearn.metrics import precision_recall_curve\n",
    "from sklearn.tree import DecisionTreeClassifier, plot_tree\n",
    "\n"
   ]
  },
  {
   "cell_type": "code",
   "execution_count": 92,
   "metadata": {},
   "outputs": [],
   "source": [
    "%matplotlib inline\n",
    "%config InlineBackend.figure_format = 'retina' "
   ]
  },
  {
   "cell_type": "code",
   "execution_count": 93,
   "metadata": {},
   "outputs": [],
   "source": [
    "# # select just object columns\n",
    "# df.select_dtypes(include='object')\n",
    "# # select multiple data types\n",
    "# df.select_dtypes(include=['int', 'datetime', 'object'])\n",
    "# # exclude certain data types\n",
    "# df.select_dtypes(exclude='int')"
   ]
  },
  {
   "cell_type": "code",
   "execution_count": 94,
   "metadata": {},
   "outputs": [],
   "source": [
    "#categorize numerical feature\n",
    "# import sys\n",
    "# df['ageGroup']=pd.cut(\n",
    "#     df['Age'], \n",
    "#     bins=[0, 13, 19, 61, sys.maxsize], \n",
    "#     labels=['<12', 'Teen', 'Adult', 'Older']\n",
    "# )"
   ]
  },
  {
   "cell_type": "code",
   "execution_count": 95,
   "metadata": {},
   "outputs": [],
   "source": [
    "#When the DataFrame is already created, we can use pandas replace() function to handle these values:\n",
    "#df_clean = df.replace({ \"?\": np.nan, \"&\": np.nan })"
   ]
  },
  {
   "cell_type": "code",
   "execution_count": 96,
   "metadata": {},
   "outputs": [],
   "source": [
    "# #Interaction terms are extra features that result from the product of two existing features.\n",
    "\n",
    "# X = pd.DataFrame({\n",
    "#       'a':[1.0, 2.0, 3.0],\n",
    "#       'b':[1.0, 2.0, 0.0]})\n",
    "# m = PolynomialFeatures(interaction_only=True)\n",
    "# m.fit_transform(X)"
   ]
  },
  {
   "cell_type": "code",
   "execution_count": 97,
   "metadata": {},
   "outputs": [],
   "source": [
    "# #from string to int, Nan when the values are not numbers\n",
    "# df['sales'] = pd.to_numeric(df['sales'], errors='coerce')\n",
    "\n",
    "# #To drop columns in which more than 10% of values are missing\n",
    "# df.dropna(thresh=len(df)*0.9, axis=1)"
   ]
  },
  {
   "cell_type": "code",
   "execution_count": 98,
   "metadata": {},
   "outputs": [
    {
     "name": "stdout",
     "output_type": "stream",
     "text": [
      "<class 'pandas.core.frame.DataFrame'>\n",
      "RangeIndex: 891 entries, 0 to 890\n",
      "Data columns (total 12 columns):\n",
      " #   Column       Non-Null Count  Dtype  \n",
      "---  ------       --------------  -----  \n",
      " 0   PassengerId  891 non-null    int64  \n",
      " 1   Survived     891 non-null    int64  \n",
      " 2   Pclass       891 non-null    int64  \n",
      " 3   Name         891 non-null    object \n",
      " 4   Sex          891 non-null    object \n",
      " 5   Age          714 non-null    float64\n",
      " 6   SibSp        891 non-null    int64  \n",
      " 7   Parch        891 non-null    int64  \n",
      " 8   Ticket       891 non-null    object \n",
      " 9   Fare         891 non-null    float64\n",
      " 10  Cabin        204 non-null    object \n",
      " 11  Embarked     889 non-null    object \n",
      "dtypes: float64(2), int64(5), object(5)\n",
      "memory usage: 83.7+ KB\n",
      "<class 'pandas.core.frame.DataFrame'>\n",
      "RangeIndex: 418 entries, 0 to 417\n",
      "Data columns (total 11 columns):\n",
      " #   Column       Non-Null Count  Dtype  \n",
      "---  ------       --------------  -----  \n",
      " 0   PassengerId  418 non-null    int64  \n",
      " 1   Pclass       418 non-null    int64  \n",
      " 2   Name         418 non-null    object \n",
      " 3   Sex          418 non-null    object \n",
      " 4   Age          332 non-null    float64\n",
      " 5   SibSp        418 non-null    int64  \n",
      " 6   Parch        418 non-null    int64  \n",
      " 7   Ticket       418 non-null    object \n",
      " 8   Fare         417 non-null    float64\n",
      " 9   Cabin        91 non-null     object \n",
      " 10  Embarked     418 non-null    object \n",
      "dtypes: float64(2), int64(4), object(5)\n",
      "memory usage: 36.0+ KB\n"
     ]
    }
   ],
   "source": [
    "df_train = pd.read_csv('data/train.csv')\n",
    "df_test = pd.read_csv('data/test.csv')\n",
    "\n",
    "df_train.head()\n",
    "\n",
    "df_train.info()\n",
    "df_test.info()"
   ]
  },
  {
   "cell_type": "code",
   "execution_count": null,
   "metadata": {},
   "outputs": [],
   "source": [
    "sns.pairplot(df_train, hue=\"Survived\")\n"
   ]
  },
  {
   "cell_type": "code",
   "execution_count": null,
   "metadata": {},
   "outputs": [],
   "source": [
    "sns.heatmap(df_train[['Fare','Age','SibSp','Parch','Survived']].corr().abs(), annot=True)"
   ]
  },
  {
   "cell_type": "code",
   "execution_count": null,
   "metadata": {},
   "outputs": [],
   "source": [
    "sns.scatterplot(data=df_train, x=\"Parch\", y='SibSp', hue=\"Survived\")\n"
   ]
  },
  {
   "cell_type": "code",
   "execution_count": null,
   "metadata": {},
   "outputs": [],
   "source": [
    "titles = set()\n",
    "for name in df_test['Name']:\n",
    "    titles.add(name.split(',')[1].split('.')[0].strip())\n",
    "for name in df_train['Name']:\n",
    "    titles.add(name.split(',')[1].split('.')[0].strip())\n",
    "\n",
    "print(titles)\n"
   ]
  },
  {
   "cell_type": "code",
   "execution_count": 99,
   "metadata": {},
   "outputs": [],
   "source": [
    "\n",
    "Title_dict = {'Capt':'Officer',\n",
    " 'Col':'Officer',\n",
    " 'Don': 'Royalty',\n",
    " 'Dr':'Officer',\n",
    " 'Dona':'Mrs',\n",
    " 'Jonkheer':'Royalty',\n",
    " 'Lady':'Royalty',\n",
    " 'Major': 'Officer',\n",
    " 'Master':'Master',\n",
    " 'Miss':'Miss',\n",
    " 'Mlle':'Miss',\n",
    " 'Mme':'Mrs',\n",
    " 'Mr':'Mr',\n",
    " 'Mrs':'Mrs',\n",
    " 'Ms':'Miss',\n",
    " 'Rev':'Officer',\n",
    " 'Sir':'Royalty',\n",
    " 'the Countess':'Royalty'}\n",
    "\n",
    "def feature_eng(df):\n",
    "    df['Sex'] = (df['Sex'] == 'male').astype(int)    \n",
    "    df['Age'] = df.groupby(['Pclass','Sex'])['Age'].transform(lambda x: x.fillna(x.mean()))\n",
    "    df['Fare'] = df.groupby(['Pclass','Sex'])['Fare'].transform(lambda x: x.fillna(x.median()))\n",
    "    df.dropna(axis=0, subset=['Embarked'], inplace=True)\n",
    "    df['Title'] = df['Name'].map(lambda name: name.split(',')[1].split('.')[0].strip())\n",
    "    df['Title'] = df.Title.map(Title_dict)\n",
    "    df['Family_Size'] = df['SibSp']+df['Parch']\n",
    "    df['Age*Class'] = df['Age']*df['Pclass']\n",
    "    df['Fare_Per_Person'] = df['Fare']/(df['Family_Size']+1)\n",
    "    df.drop(columns=['Name','Age','Fare','SibSp','Parch','Pclass','Cabin','Ticket'], inplace=True)\n",
    "    return df\n",
    "\n",
    "\n",
    "\n",
    "df_train = feature_eng(df_train)\n",
    "df_test = feature_eng(df_test)\n",
    "\n",
    "\n"
   ]
  },
  {
   "cell_type": "code",
   "execution_count": null,
   "metadata": {},
   "outputs": [],
   "source": [
    "df_train.head()"
   ]
  },
  {
   "cell_type": "code",
   "execution_count": null,
   "metadata": {},
   "outputs": [],
   "source": [
    "sns.heatmap(df_train[['Fare_Per_Person','Age*Class','Sex','Family_Size','Survived']].corr().abs(), annot=True)"
   ]
  },
  {
   "cell_type": "code",
   "execution_count": null,
   "metadata": {},
   "outputs": [],
   "source": [
    "sns.scatterplot(x='Fare_Per_Person', y='Age*Class', hue='Survived',data=df_train)\n"
   ]
  },
  {
   "cell_type": "code",
   "execution_count": null,
   "metadata": {},
   "outputs": [],
   "source": [
    "df_train.info()\n",
    "df_test.info()"
   ]
  },
  {
   "cell_type": "code",
   "execution_count": 100,
   "metadata": {},
   "outputs": [],
   "source": [
    "# feature engineering for numericals\n",
    "numeric_features = [\"Age*Class\", 'Fare_Per_Person', 'Family_Size']\n",
    "\n",
    "# create a sequential pipeline \n",
    "# output of one step will be input to the next \n",
    "numeric_transformer = make_pipeline( RobustScaler(),\n",
    "    PolynomialFeatures(interaction_only=True),\n",
    "    # StandardScaler(),\n",
    "    KBinsDiscretizer(n_bins=5, encode='ordinal', strategy='uniform')\n",
    "    )\n",
    "\n",
    "# feature engineering for categorical\n",
    "categorical_features = [\"Embarked\",'Title']\n",
    "\n",
    "# handle unknown means it will ignore nan's if it finds them\n",
    "categorical_transformer = OneHotEncoder(handle_unknown=\"ignore\")\n",
    "\n",
    "# you can also create custom functions\n",
    "# def name_length(df):\n",
    "#     length = df[df.columns[0]].str.len()\n",
    "#     return length.values.reshape(-1, 1)\n",
    "\n",
    "# pre-process transformations\n",
    "# notice here that we include a pipeline for the numeric transformations\n",
    "\n",
    "# Columns of the original feature matrix that are not specified are dropped \n",
    "# from the resulting transformed feature matrix, unless specified in the \n",
    "# passthrough keyword\n",
    "\n",
    "preprocessor = ColumnTransformer(\n",
    "    transformers=[\n",
    "        (\"num\", numeric_transformer, numeric_features),\n",
    "        (\"cat\", categorical_transformer, categorical_features),\n",
    "        # ('name', FunctionTransformer(name_length), ['Name']),\n",
    "    ],\n",
    "    remainder='passthrough')\n",
    "\n",
    "# create the model pipeline\n",
    "pipeline = make_pipeline(preprocessor, LogisticRegression(max_iter=300, solver='liblinear', penalty='l1'))\n",
    "pipe_rf = make_pipeline(preprocessor, RandomForestClassifier(max_depth=5))\n"
   ]
  },
  {
   "cell_type": "code",
   "execution_count": 101,
   "metadata": {},
   "outputs": [],
   "source": [
    "X = df_train.drop(columns='Survived')\n",
    "y = df_train['Survived']"
   ]
  },
  {
   "cell_type": "code",
   "execution_count": 102,
   "metadata": {},
   "outputs": [],
   "source": [
    "X_train, X_test, y_train, y_test = train_test_split(X, y, test_size=0.2, train_size=0.8, random_state=13)\n"
   ]
  },
  {
   "cell_type": "code",
   "execution_count": null,
   "metadata": {},
   "outputs": [],
   "source": [
    "X_train.columns"
   ]
  },
  {
   "cell_type": "code",
   "execution_count": 103,
   "metadata": {},
   "outputs": [
    {
     "name": "stderr",
     "output_type": "stream",
     "text": [
      "/Users/stefan/opt/anaconda3/lib/python3.8/site-packages/sklearn/preprocessing/_discretization.py:187: UserWarning: Feature 0 is constant and will be replaced with 0.\n",
      "  warnings.warn(\"Feature %d is constant and will be \"\n"
     ]
    },
    {
     "data": {
      "text/plain": [
       "Pipeline(steps=[('columntransformer',\n",
       "                 ColumnTransformer(remainder='passthrough',\n",
       "                                   transformers=[('num',\n",
       "                                                  Pipeline(steps=[('robustscaler',\n",
       "                                                                   RobustScaler()),\n",
       "                                                                  ('polynomialfeatures',\n",
       "                                                                   PolynomialFeatures(interaction_only=True)),\n",
       "                                                                  ('kbinsdiscretizer',\n",
       "                                                                   KBinsDiscretizer(encode='ordinal',\n",
       "                                                                                    strategy='uniform'))]),\n",
       "                                                  ['Age*Class',\n",
       "                                                   'Fare_Per_Person',\n",
       "                                                   'Family_Size']),\n",
       "                                                 ('cat',\n",
       "                                                  OneHotEncoder(handle_unknown='ignore'),\n",
       "                                                  ['Embarked', 'Title'])])),\n",
       "                ('randomforestclassifier',\n",
       "                 RandomForestClassifier(max_depth=5))])"
      ]
     },
     "execution_count": 103,
     "metadata": {},
     "output_type": "execute_result"
    }
   ],
   "source": [
    "pipe_rf.fit(X_train, y_train)"
   ]
  },
  {
   "cell_type": "code",
   "execution_count": 104,
   "metadata": {},
   "outputs": [
    {
     "data": {
      "text/plain": [
       "0.8354430379746836"
      ]
     },
     "execution_count": 104,
     "metadata": {},
     "output_type": "execute_result"
    }
   ],
   "source": [
    "pipe_rf.score(X_train, y_train)"
   ]
  },
  {
   "cell_type": "code",
   "execution_count": 105,
   "metadata": {},
   "outputs": [
    {
     "data": {
      "text/plain": [
       "0.8370786516853933"
      ]
     },
     "execution_count": 105,
     "metadata": {},
     "output_type": "execute_result"
    }
   ],
   "source": [
    "pipe_rf.score(X_test, y_test)"
   ]
  },
  {
   "cell_type": "code",
   "execution_count": 106,
   "metadata": {},
   "outputs": [
    {
     "name": "stderr",
     "output_type": "stream",
     "text": [
      "/Users/stefan/opt/anaconda3/lib/python3.8/site-packages/sklearn/preprocessing/_discretization.py:187: UserWarning: Feature 0 is constant and will be replaced with 0.\n",
      "  warnings.warn(\"Feature %d is constant and will be \"\n"
     ]
    },
    {
     "data": {
      "text/plain": [
       "Pipeline(steps=[('columntransformer',\n",
       "                 ColumnTransformer(remainder='passthrough',\n",
       "                                   transformers=[('num',\n",
       "                                                  Pipeline(steps=[('robustscaler',\n",
       "                                                                   RobustScaler()),\n",
       "                                                                  ('polynomialfeatures',\n",
       "                                                                   PolynomialFeatures(interaction_only=True)),\n",
       "                                                                  ('kbinsdiscretizer',\n",
       "                                                                   KBinsDiscretizer(encode='ordinal',\n",
       "                                                                                    strategy='uniform'))]),\n",
       "                                                  ['Age*Class',\n",
       "                                                   'Fare_Per_Person',\n",
       "                                                   'Family_Size']),\n",
       "                                                 ('cat',\n",
       "                                                  OneHotEncoder(handle_unknown='ignore'),\n",
       "                                                  ['Embarked', 'Title'])])),\n",
       "                ('logisticregression',\n",
       "                 LogisticRegression(max_iter=300, penalty='l1',\n",
       "                                    solver='liblinear'))])"
      ]
     },
     "execution_count": 106,
     "metadata": {},
     "output_type": "execute_result"
    }
   ],
   "source": [
    "pipeline.fit(X_train, y_train)"
   ]
  },
  {
   "cell_type": "code",
   "execution_count": 107,
   "metadata": {},
   "outputs": [
    {
     "data": {
      "text/plain": [
       "0.8368495077355836"
      ]
     },
     "execution_count": 107,
     "metadata": {},
     "output_type": "execute_result"
    }
   ],
   "source": [
    "pipeline.score(X_train, y_train)"
   ]
  },
  {
   "cell_type": "code",
   "execution_count": 108,
   "metadata": {},
   "outputs": [
    {
     "data": {
      "text/plain": [
       "0.8146067415730337"
      ]
     },
     "execution_count": 108,
     "metadata": {},
     "output_type": "execute_result"
    }
   ],
   "source": [
    "pipeline.score(X_test, y_test)"
   ]
  },
  {
   "cell_type": "code",
   "execution_count": 109,
   "metadata": {},
   "outputs": [
    {
     "data": {
      "text/plain": [
       "0.8370786516853933"
      ]
     },
     "execution_count": 109,
     "metadata": {},
     "output_type": "execute_result"
    }
   ],
   "source": [
    "pipe_rf.score(X_test, y_test)"
   ]
  },
  {
   "cell_type": "code",
   "execution_count": 110,
   "metadata": {},
   "outputs": [
    {
     "name": "stderr",
     "output_type": "stream",
     "text": [
      "/Users/stefan/opt/anaconda3/lib/python3.8/site-packages/sklearn/preprocessing/_discretization.py:187: UserWarning: Feature 0 is constant and will be replaced with 0.\n",
      "  warnings.warn(\"Feature %d is constant and will be \"\n",
      "/Users/stefan/opt/anaconda3/lib/python3.8/site-packages/sklearn/preprocessing/_discretization.py:187: UserWarning: Feature 0 is constant and will be replaced with 0.\n",
      "  warnings.warn(\"Feature %d is constant and will be \"\n",
      "/Users/stefan/opt/anaconda3/lib/python3.8/site-packages/sklearn/preprocessing/_discretization.py:187: UserWarning: Feature 0 is constant and will be replaced with 0.\n",
      "  warnings.warn(\"Feature %d is constant and will be \"\n"
     ]
    },
    {
     "name": "stdout",
     "output_type": "stream",
     "text": [
      "   fit_time  score_time  test_score  train_score\n",
      "0  0.033236    0.015869    0.825175     0.834507\n",
      "1  0.052540    0.019300    0.823944     0.834798\n",
      "2  0.050720    0.020483    0.852113     0.826011\n",
      "3  0.030163    0.011577    0.802817     0.841828\n",
      "4  0.031680    0.013063    0.816901     0.840070\n"
     ]
    },
    {
     "name": "stderr",
     "output_type": "stream",
     "text": [
      "/Users/stefan/opt/anaconda3/lib/python3.8/site-packages/sklearn/preprocessing/_discretization.py:187: UserWarning: Feature 0 is constant and will be replaced with 0.\n",
      "  warnings.warn(\"Feature %d is constant and will be \"\n",
      "/Users/stefan/opt/anaconda3/lib/python3.8/site-packages/sklearn/preprocessing/_discretization.py:187: UserWarning: Feature 0 is constant and will be replaced with 0.\n",
      "  warnings.warn(\"Feature %d is constant and will be \"\n"
     ]
    }
   ],
   "source": [
    "cv = cross_validate(pipeline, X_train, y_train,\n",
    "                    cv=5,\n",
    "                    scoring='accuracy',\n",
    "                    return_train_score=True\n",
    ")\n",
    "# convert the dictionary of lists into a DataFrame\n",
    "cv = pd.DataFrame(cv)\n",
    "print(cv)"
   ]
  },
  {
   "cell_type": "code",
   "execution_count": 111,
   "metadata": {},
   "outputs": [
    {
     "name": "stderr",
     "output_type": "stream",
     "text": [
      "/Users/stefan/opt/anaconda3/lib/python3.8/site-packages/sklearn/preprocessing/_discretization.py:187: UserWarning: Feature 0 is constant and will be replaced with 0.\n",
      "  warnings.warn(\"Feature %d is constant and will be \"\n",
      "/Users/stefan/opt/anaconda3/lib/python3.8/site-packages/sklearn/preprocessing/_discretization.py:187: UserWarning: Feature 0 is constant and will be replaced with 0.\n",
      "  warnings.warn(\"Feature %d is constant and will be \"\n",
      "/Users/stefan/opt/anaconda3/lib/python3.8/site-packages/sklearn/preprocessing/_discretization.py:187: UserWarning: Feature 0 is constant and will be replaced with 0.\n",
      "  warnings.warn(\"Feature %d is constant and will be \"\n"
     ]
    },
    {
     "name": "stdout",
     "output_type": "stream",
     "text": [
      "   fit_time  score_time  test_score  train_score\n",
      "0  0.032423    0.014047    0.814815     0.708920\n",
      "1  0.035849    0.025951    0.703704     0.723005\n",
      "2  0.046791    0.029418    0.735849     0.742991\n",
      "3  0.039126    0.012560    0.679245     0.761682\n",
      "4  0.029063    0.011627    0.716981     0.738318\n"
     ]
    },
    {
     "name": "stderr",
     "output_type": "stream",
     "text": [
      "/Users/stefan/opt/anaconda3/lib/python3.8/site-packages/sklearn/preprocessing/_discretization.py:187: UserWarning: Feature 0 is constant and will be replaced with 0.\n",
      "  warnings.warn(\"Feature %d is constant and will be \"\n",
      "/Users/stefan/opt/anaconda3/lib/python3.8/site-packages/sklearn/preprocessing/_discretization.py:187: UserWarning: Feature 0 is constant and will be replaced with 0.\n",
      "  warnings.warn(\"Feature %d is constant and will be \"\n"
     ]
    }
   ],
   "source": [
    "cv_r = cross_validate(pipeline, X_train, y_train,\n",
    "                    cv=5,\n",
    "                    scoring='recall',\n",
    "                    return_train_score=True\n",
    ")\n",
    "# convert the dictionary of lists into a DataFrame\n",
    "cv_r = pd.DataFrame(cv_r)\n",
    "print(cv_r)"
   ]
  },
  {
   "cell_type": "code",
   "execution_count": 112,
   "metadata": {},
   "outputs": [
    {
     "name": "stderr",
     "output_type": "stream",
     "text": [
      "/Users/stefan/opt/anaconda3/lib/python3.8/site-packages/sklearn/preprocessing/_discretization.py:187: UserWarning: Feature 0 is constant and will be replaced with 0.\n",
      "  warnings.warn(\"Feature %d is constant and will be \"\n",
      "/Users/stefan/opt/anaconda3/lib/python3.8/site-packages/sklearn/preprocessing/_discretization.py:187: UserWarning: Feature 0 is constant and will be replaced with 0.\n",
      "  warnings.warn(\"Feature %d is constant and will be \"\n",
      "/Users/stefan/opt/anaconda3/lib/python3.8/site-packages/sklearn/preprocessing/_discretization.py:187: UserWarning: Feature 0 is constant and will be replaced with 0.\n",
      "  warnings.warn(\"Feature %d is constant and will be \"\n",
      "/Users/stefan/opt/anaconda3/lib/python3.8/site-packages/sklearn/preprocessing/_discretization.py:187: UserWarning: Feature 0 is constant and will be replaced with 0.\n",
      "  warnings.warn(\"Feature %d is constant and will be \"\n",
      "/Users/stefan/opt/anaconda3/lib/python3.8/site-packages/sklearn/preprocessing/_discretization.py:187: UserWarning: Feature 0 is constant and will be replaced with 0.\n",
      "  warnings.warn(\"Feature %d is constant and will be \"\n"
     ]
    },
    {
     "name": "stdout",
     "output_type": "stream",
     "text": [
      "   fit_time  score_time  test_score  train_score\n",
      "0  0.540470    0.043005    0.832168     0.843310\n",
      "1  0.301556    0.032697    0.816901     0.838313\n",
      "2  0.344906    0.045582    0.873239     0.836555\n",
      "3  0.348709    0.028965    0.760563     0.857645\n",
      "4  0.338198    0.033824    0.816901     0.841828\n"
     ]
    }
   ],
   "source": [
    "cv_rf = cross_validate(pipe_rf, X_train, y_train,\n",
    "                    cv=5,\n",
    "                    scoring='accuracy',\n",
    "                    return_train_score=True\n",
    ")\n",
    "# convert the dictionary of lists into a DataFrame\n",
    "cv_rf = pd.DataFrame(cv_rf)\n",
    "print(cv_rf)"
   ]
  },
  {
   "cell_type": "code",
   "execution_count": 113,
   "metadata": {},
   "outputs": [
    {
     "name": "stderr",
     "output_type": "stream",
     "text": [
      "/Users/stefan/opt/anaconda3/lib/python3.8/site-packages/sklearn/preprocessing/_discretization.py:187: UserWarning: Feature 0 is constant and will be replaced with 0.\n",
      "  warnings.warn(\"Feature %d is constant and will be \"\n",
      "/Users/stefan/opt/anaconda3/lib/python3.8/site-packages/sklearn/preprocessing/_discretization.py:187: UserWarning: Feature 0 is constant and will be replaced with 0.\n",
      "  warnings.warn(\"Feature %d is constant and will be \"\n",
      "/Users/stefan/opt/anaconda3/lib/python3.8/site-packages/sklearn/preprocessing/_discretization.py:187: UserWarning: Feature 0 is constant and will be replaced with 0.\n",
      "  warnings.warn(\"Feature %d is constant and will be \"\n",
      "/Users/stefan/opt/anaconda3/lib/python3.8/site-packages/sklearn/preprocessing/_discretization.py:187: UserWarning: Feature 0 is constant and will be replaced with 0.\n",
      "  warnings.warn(\"Feature %d is constant and will be \"\n",
      "/Users/stefan/opt/anaconda3/lib/python3.8/site-packages/sklearn/preprocessing/_discretization.py:187: UserWarning: Feature 0 is constant and will be replaced with 0.\n",
      "  warnings.warn(\"Feature %d is constant and will be \"\n"
     ]
    },
    {
     "name": "stdout",
     "output_type": "stream",
     "text": [
      "   fit_time  score_time  test_score  train_score\n",
      "0  0.362331    0.042729    0.814815     0.760563\n",
      "1  0.359086    0.030570    0.722222     0.765258\n",
      "2  0.329152    0.070082    0.773585     0.766355\n",
      "3  0.459254    0.033538    0.660377     0.789720\n",
      "4  0.271555    0.029487    0.735849     0.761682\n"
     ]
    }
   ],
   "source": [
    "cv_r_rf = cross_validate(pipe_rf, X_train, y_train,\n",
    "                    cv=5,\n",
    "                    scoring='recall',\n",
    "                    return_train_score=True\n",
    ")\n",
    "# convert the dictionary of lists into a DataFrame\n",
    "cv_r_rf = pd.DataFrame(cv_r_rf)\n",
    "print(cv_r_rf)"
   ]
  },
  {
   "cell_type": "code",
   "execution_count": 114,
   "metadata": {},
   "outputs": [],
   "source": [
    "\n",
    "# from sklearn.linear_model import LogisticRegression\n",
    "# from sklearn.tree import DecisionTreeClassifier\n",
    "# from sklearn.svm import SVC\n",
    "# from sklearn.ensemble import VotingClassifier\n",
    "\n",
    "# models = [\n",
    "#           ('logreg', LogisticRegression()),\n",
    "#           ('tree', DecisionTreeClassifier()),\n",
    "#           ('svm', SVC(kernel='rbf'))\n",
    "# ]\n",
    "# m = VotingClassifier(models)\n",
    "\n",
    "# m.fit(X, y)\n",
    "# m.score(X, y)"
   ]
  },
  {
   "cell_type": "code",
   "execution_count": 115,
   "metadata": {},
   "outputs": [
    {
     "data": {
      "text/plain": [
       "0.8146067415730337"
      ]
     },
     "execution_count": 115,
     "metadata": {},
     "output_type": "execute_result"
    }
   ],
   "source": [
    "y_pred = pipeline.predict(X_test)\n",
    "pipeline.score(X_test,y_test) "
   ]
  },
  {
   "cell_type": "code",
   "execution_count": 116,
   "metadata": {},
   "outputs": [
    {
     "data": {
      "text/plain": [
       "0.8370786516853933"
      ]
     },
     "execution_count": 116,
     "metadata": {},
     "output_type": "execute_result"
    }
   ],
   "source": [
    "y_pred_rf = pipe_rf.predict(X_test)\n",
    "pipe_rf.score(X_test, y_test)"
   ]
  },
  {
   "cell_type": "code",
   "execution_count": 117,
   "metadata": {},
   "outputs": [
    {
     "name": "stdout",
     "output_type": "stream",
     "text": [
      "Precision:  0.8703703703703703  Recall:  0.6438356164383562\n"
     ]
    },
    {
     "data": {
      "image/png": "[encoded data removed]",
      "text/plain": [
       "<Figure size 432x432 with 2 Axes>"
      ]
     },
     "metadata": {
      "image/png": {
       "height": 386,
       "width": 365
      },
      "needs_background": "light"
     },
     "output_type": "display_data"
    }
   ],
   "source": [
    "print('Precision: ',precision_score(y_test,y_pred), ' Recall: ', recall_score(y_test,y_pred))\n",
    "    \n",
    "conf = confusion_matrix(y_test, y_pred)\n",
    "#plot the heatmap\n",
    "fig = plt.figure(figsize=(6, 6))\n",
    "ax = plt.subplot()\n",
    "sns.heatmap(conf, annot=True, ax = ax, fmt='g', cmap = 'Oranges')\n",
    "\n",
    "ax.set_xlabel('Predicted labels')\n",
    "ax.set_ylabel('True labels')\n",
    "ax.set_title('Confusion Matrix')\n",
    "plt.show()"
   ]
  },
  {
   "cell_type": "code",
   "execution_count": 118,
   "metadata": {},
   "outputs": [
    {
     "name": "stdout",
     "output_type": "stream",
     "text": [
      "Precision:  0.8793103448275862  Recall:  0.6986301369863014\n"
     ]
    },
    {
     "data": {
      "image/png": "[encoded data removed]",
      "text/plain": [
       "<Figure size 432x432 with 2 Axes>"
      ]
     },
     "metadata": {
      "image/png": {
       "height": 386,
       "width": 365
      },
      "needs_background": "light"
     },
     "output_type": "display_data"
    }
   ],
   "source": [
    "print('Precision: ',precision_score(y_test,y_pred_rf), ' Recall: ', recall_score(y_test,y_pred_rf))\n",
    "    \n",
    "conf = confusion_matrix(y_test, y_pred_rf)\n",
    "#plot the heatmap\n",
    "fig = plt.figure(figsize=(6, 6))\n",
    "ax = plt.subplot()\n",
    "sns.heatmap(conf, annot=True, ax = ax, fmt='g', cmap = 'Oranges')\n",
    "\n",
    "ax.set_xlabel('Predicted labels')\n",
    "ax.set_ylabel('True labels')\n",
    "ax.set_title('Confusion Matrix')\n",
    "plt.show()"
   ]
  },
  {
   "cell_type": "code",
   "execution_count": 119,
   "metadata": {},
   "outputs": [],
   "source": [
    "predict = pipe_rf.predict(df_test)"
   ]
  },
  {
   "cell_type": "code",
   "execution_count": 120,
   "metadata": {},
   "outputs": [
    {
     "data": {
      "text/html": [
       "<div>\n",
       "<style scoped>\n",
       "    .dataframe tbody tr th:only-of-type {\n",
       "        vertical-align: middle;\n",
       "    }\n",
       "\n",
       "    .dataframe tbody tr th {\n",
       "        vertical-align: top;\n",
       "    }\n",
       "\n",
       "    .dataframe thead th {\n",
       "        text-align: right;\n",
       "    }\n",
       "</style>\n",
       "<table border=\"1\" class=\"dataframe\">\n",
       "  <thead>\n",
       "    <tr style=\"text-align: right;\">\n",
       "      <th></th>\n",
       "      <th>PassengerId</th>\n",
       "      <th>Sex</th>\n",
       "      <th>Embarked</th>\n",
       "      <th>Title</th>\n",
       "      <th>Family_Size</th>\n",
       "      <th>Age*Class</th>\n",
       "      <th>Fare_Per_Person</th>\n",
       "    </tr>\n",
       "  </thead>\n",
       "  <tbody>\n",
       "    <tr>\n",
       "      <th>0</th>\n",
       "      <td>892</td>\n",
       "      <td>1</td>\n",
       "      <td>Q</td>\n",
       "      <td>Mr</td>\n",
       "      <td>0</td>\n",
       "      <td>103.5</td>\n",
       "      <td>7.829200</td>\n",
       "    </tr>\n",
       "    <tr>\n",
       "      <th>1</th>\n",
       "      <td>893</td>\n",
       "      <td>0</td>\n",
       "      <td>S</td>\n",
       "      <td>Mrs</td>\n",
       "      <td>1</td>\n",
       "      <td>141.0</td>\n",
       "      <td>3.500000</td>\n",
       "    </tr>\n",
       "    <tr>\n",
       "      <th>2</th>\n",
       "      <td>894</td>\n",
       "      <td>1</td>\n",
       "      <td>Q</td>\n",
       "      <td>Mr</td>\n",
       "      <td>0</td>\n",
       "      <td>124.0</td>\n",
       "      <td>9.687500</td>\n",
       "    </tr>\n",
       "    <tr>\n",
       "      <th>3</th>\n",
       "      <td>895</td>\n",
       "      <td>1</td>\n",
       "      <td>S</td>\n",
       "      <td>Mr</td>\n",
       "      <td>0</td>\n",
       "      <td>81.0</td>\n",
       "      <td>8.662500</td>\n",
       "    </tr>\n",
       "    <tr>\n",
       "      <th>4</th>\n",
       "      <td>896</td>\n",
       "      <td>0</td>\n",
       "      <td>S</td>\n",
       "      <td>Mrs</td>\n",
       "      <td>2</td>\n",
       "      <td>66.0</td>\n",
       "      <td>4.095833</td>\n",
       "    </tr>\n",
       "  </tbody>\n",
       "</table>\n",
       "</div>"
      ],
      "text/plain": [
       "   PassengerId  Sex Embarked Title  Family_Size  Age*Class  Fare_Per_Person\n",
       "0          892    1        Q    Mr            0      103.5         7.829200\n",
       "1          893    0        S   Mrs            1      141.0         3.500000\n",
       "2          894    1        Q    Mr            0      124.0         9.687500\n",
       "3          895    1        S    Mr            0       81.0         8.662500\n",
       "4          896    0        S   Mrs            2       66.0         4.095833"
      ]
     },
     "execution_count": 120,
     "metadata": {},
     "output_type": "execute_result"
    }
   ],
   "source": [
    "df_test.head()"
   ]
  },
  {
   "cell_type": "code",
   "execution_count": 121,
   "metadata": {},
   "outputs": [
    {
     "name": "stdout",
     "output_type": "stream",
     "text": [
      "Submission saved\n"
     ]
    }
   ],
   "source": [
    "#modify threshold\n",
    "#Adding votingclassifier to pipeline\n",
    "\n",
    "output = pd.DataFrame({'PassengerId': df_test.PassengerId, 'Survived': predict})\n",
    "output.to_csv('my_submission4.csv', index=False)\n",
    "print(\"Submission saved\")"
   ]
  },
  {
   "cell_type": "code",
   "execution_count": null,
   "metadata": {},
   "outputs": [],
   "source": []
  }
 ],
 "metadata": {
  "interpreter": {
   "hash": "77b60de724cd56e5333334a06ed3a5e18b3026c8349f95c7badc7f1caa70835a"
  },
  "kernelspec": {
   "display_name": "Python 3.8.8 64-bit ('base': conda)",
   "language": "python",
   "name": "python3"
  },
  "language_info": {
   "codemirror_mode": {
    "name": "ipython",
    "version": 3
   },
   "file_extension": ".py",
   "mimetype": "text/x-python",
   "name": "python",
   "nbconvert_exporter": "python",
   "pygments_lexer": "ipython3",
   "version": "3.8.8"
  },
  "orig_nbformat": 4
 },
 "nbformat": 4,
 "nbformat_minor": 2
}
