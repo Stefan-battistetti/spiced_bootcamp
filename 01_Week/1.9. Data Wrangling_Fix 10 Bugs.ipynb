{
 "cells": [
  {
   "cell_type": "code",
   "execution_count": null,
   "id": "1438a233",
   "metadata": {},
   "outputs": [],
   "source": [
    "import pandas as pd\n",
    "\n",
    "fn = '/Users/Disalo/SPICED/euclidean_eukalyptus/payam_work/Week_01/Day_03/gapminder_total_fertility.csv'\n",
    "\n",
    "# 1. Read a data file\n",
    "# to use read_csv function, we need to call it from pandas library via its designated abrreivation pd.\n",
    "df = pd.read_csv(fn, index_col=0)\n",
    "\n",
    "# 2. Inspect the size of a DataFrame\n",
    "#  For returning a tuple representing the dimension of the dataframe, we do not need ()\n",
    "df.shape\n",
    "\n",
    "# 3. Convert column labels to integers\n",
    "# column has index axis=1\n",
    "df.set_axis(df.columns.astype(int), axis=1, inplace=True)\n",
    "\n",
    "# 4. Remove rows with missing values\n",
    "# to overwrite changes, 'inplace=True' needs to be added. But as an alternative, we could define\n",
    "# new variable to store changes\n",
    "df.dropna(inplace=True)\n",
    "\n",
    "# 5. Inspect a single value\n",
    "# for calling specific observation, we need to call '.loc[]' after dataframe's name\n",
    "df.loc['Germany', 2000]\n",
    "\n",
    "# 6. Calculate the mean of a column\n",
    "# to use function over an index, a 'dot' needs to stay between index & function\n",
    "df[2000].mean()\n",
    "\n",
    "# 7. Filter rows with values in given range\n",
    "# as mentioned for using a function after indexing, 'dot' should stands before function\n",
    "df[df[2000]. between(6.0, 6.5)][2000]\n",
    "\n",
    "# 8. Mean fertility over time\n",
    "# for generate and plot average, first 'mean()' function should be called\n",
    "df.mean().plot()\n",
    "\n",
    "# 9. Three countries over time\n",
    "# for indexing several columns which are not in row, double square-bracket should be used.\n",
    "df.loc[['Germany', 'Sweden', 'Kenya']].transpose().plot()\n",
    "\n",
    "# 10. Countries with most frequent initials\n",
    "# dataframe.plot.bar needs parentheses\n",
    "# for counting unique rows, DataFrame.value_counts() needs subset\n",
    "# and if we want to count only on first 5 rows, then parentheses should comes after head function\n",
    "df.reset_index()['Total fertility rate'].str[0].value_counts.head.plot.bar"
   ]
  }
 ],
 "metadata": {
  "kernelspec": {
   "display_name": "Python 3",
   "language": "python",
   "name": "python3"
  },
  "language_info": {
   "codemirror_mode": {
    "name": "ipython",
    "version": 3
   },
   "file_extension": ".py",
   "mimetype": "text/x-python",
   "name": "python",
   "nbconvert_exporter": "python",
   "pygments_lexer": "ipython3",
   "version": "3.8.8"
  }
 },
 "nbformat": 4,
 "nbformat_minor": 5
}
