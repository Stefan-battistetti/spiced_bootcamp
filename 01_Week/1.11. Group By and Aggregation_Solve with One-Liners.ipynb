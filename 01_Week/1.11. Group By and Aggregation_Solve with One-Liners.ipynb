{
 "cells": [
  {
   "cell_type": "markdown",
   "id": "a61566ab",
   "metadata": {},
   "source": [
    "### read the file ../data/penguins_simple.csv\n"
   ]
  },
  {
   "cell_type": "code",
   "execution_count": 2,
   "id": "673fd62d",
   "metadata": {},
   "outputs": [],
   "source": [
    "import pandas as pd\n",
    "df = pd.read_csv('penguins_simple.csv', sep=';')"
   ]
  },
  {
   "cell_type": "markdown",
   "id": "bc1a5e78",
   "metadata": {},
   "source": [
    "### Who is the 7th penguin?"
   ]
  },
  {
   "cell_type": "code",
   "execution_count": 3,
   "id": "210b290f",
   "metadata": {},
   "outputs": [
    {
     "data": {
      "text/plain": [
       "Species                Adelie\n",
       "Culmen Length (mm)       41.1\n",
       "Culmen Depth (mm)        17.6\n",
       "Flipper Length (mm)     182.0\n",
       "Body Mass (g)          3200.0\n",
       "Sex                    FEMALE\n",
       "Name: 7, dtype: object"
      ]
     },
     "execution_count": 3,
     "metadata": {},
     "output_type": "execute_result"
    }
   ],
   "source": [
    "df.loc[7]"
   ]
  },
  {
   "cell_type": "markdown",
   "id": "9d039e9e",
   "metadata": {},
   "source": [
    "### How many Gentoos are in the dataset?"
   ]
  },
  {
   "cell_type": "code",
   "execution_count": 4,
   "id": "12dfadf1",
   "metadata": {},
   "outputs": [
    {
     "data": {
      "text/html": [
       "<div>\n",
       "<style scoped>\n",
       "    .dataframe tbody tr th:only-of-type {\n",
       "        vertical-align: middle;\n",
       "    }\n",
       "\n",
       "    .dataframe tbody tr th {\n",
       "        vertical-align: top;\n",
       "    }\n",
       "\n",
       "    .dataframe thead th {\n",
       "        text-align: right;\n",
       "    }\n",
       "</style>\n",
       "<table border=\"1\" class=\"dataframe\">\n",
       "  <thead>\n",
       "    <tr style=\"text-align: right;\">\n",
       "      <th></th>\n",
       "      <th>Culmen Length (mm)</th>\n",
       "      <th>Culmen Depth (mm)</th>\n",
       "      <th>Flipper Length (mm)</th>\n",
       "      <th>Body Mass (g)</th>\n",
       "      <th>Sex</th>\n",
       "    </tr>\n",
       "    <tr>\n",
       "      <th>Species</th>\n",
       "      <th></th>\n",
       "      <th></th>\n",
       "      <th></th>\n",
       "      <th></th>\n",
       "      <th></th>\n",
       "    </tr>\n",
       "  </thead>\n",
       "  <tbody>\n",
       "    <tr>\n",
       "      <th>Adelie</th>\n",
       "      <td>146</td>\n",
       "      <td>146</td>\n",
       "      <td>146</td>\n",
       "      <td>146</td>\n",
       "      <td>146</td>\n",
       "    </tr>\n",
       "    <tr>\n",
       "      <th>Chinstrap</th>\n",
       "      <td>68</td>\n",
       "      <td>68</td>\n",
       "      <td>68</td>\n",
       "      <td>68</td>\n",
       "      <td>68</td>\n",
       "    </tr>\n",
       "    <tr>\n",
       "      <th>Gentoo</th>\n",
       "      <td>119</td>\n",
       "      <td>119</td>\n",
       "      <td>119</td>\n",
       "      <td>119</td>\n",
       "      <td>119</td>\n",
       "    </tr>\n",
       "  </tbody>\n",
       "</table>\n",
       "</div>"
      ],
      "text/plain": [
       "           Culmen Length (mm)  Culmen Depth (mm)  Flipper Length (mm)  \\\n",
       "Species                                                                 \n",
       "Adelie                    146                146                  146   \n",
       "Chinstrap                  68                 68                   68   \n",
       "Gentoo                    119                119                  119   \n",
       "\n",
       "           Body Mass (g)  Sex  \n",
       "Species                        \n",
       "Adelie               146  146  \n",
       "Chinstrap             68   68  \n",
       "Gentoo               119  119  "
      ]
     },
     "execution_count": 4,
     "metadata": {},
     "output_type": "execute_result"
    }
   ],
   "source": [
    "df.groupby('Species').count()"
   ]
  },
  {
   "cell_type": "markdown",
   "id": "dc41f161",
   "metadata": {},
   "source": [
    "### Who is the heaviest penguin"
   ]
  },
  {
   "cell_type": "code",
   "execution_count": 5,
   "id": "5a52e3bc",
   "metadata": {},
   "outputs": [
    {
     "data": {
      "text/plain": [
       "Species\n",
       "Adelie       4775.0\n",
       "Chinstrap    4800.0\n",
       "Gentoo       6300.0\n",
       "Name: Body Mass (g), dtype: float64"
      ]
     },
     "execution_count": 5,
     "metadata": {},
     "output_type": "execute_result"
    }
   ],
   "source": [
    "df.groupby('Species')['Body Mass (g)'].agg('max')"
   ]
  },
  {
   "cell_type": "markdown",
   "id": "4ba8276a",
   "metadata": {},
   "source": [
    "### What is the mean size of female penguins?"
   ]
  },
  {
   "cell_type": "code",
   "execution_count": 6,
   "id": "8ab685e2",
   "metadata": {},
   "outputs": [
    {
     "data": {
      "text/html": [
       "<div>\n",
       "<style scoped>\n",
       "    .dataframe tbody tr th:only-of-type {\n",
       "        vertical-align: middle;\n",
       "    }\n",
       "\n",
       "    .dataframe tbody tr th {\n",
       "        vertical-align: top;\n",
       "    }\n",
       "\n",
       "    .dataframe thead th {\n",
       "        text-align: right;\n",
       "    }\n",
       "</style>\n",
       "<table border=\"1\" class=\"dataframe\">\n",
       "  <thead>\n",
       "    <tr style=\"text-align: right;\">\n",
       "      <th></th>\n",
       "      <th>Culmen Length (mm)</th>\n",
       "      <th>Culmen Depth (mm)</th>\n",
       "      <th>Flipper Length (mm)</th>\n",
       "    </tr>\n",
       "    <tr>\n",
       "      <th>Sex</th>\n",
       "      <th></th>\n",
       "      <th></th>\n",
       "      <th></th>\n",
       "    </tr>\n",
       "  </thead>\n",
       "  <tbody>\n",
       "    <tr>\n",
       "      <th>FEMALE</th>\n",
       "      <td>42.096970</td>\n",
       "      <td>16.425455</td>\n",
       "      <td>197.363636</td>\n",
       "    </tr>\n",
       "    <tr>\n",
       "      <th>MALE</th>\n",
       "      <td>45.854762</td>\n",
       "      <td>17.891071</td>\n",
       "      <td>204.505952</td>\n",
       "    </tr>\n",
       "  </tbody>\n",
       "</table>\n",
       "</div>"
      ],
      "text/plain": [
       "        Culmen Length (mm)  Culmen Depth (mm)  Flipper Length (mm)\n",
       "Sex                                                               \n",
       "FEMALE           42.096970          16.425455           197.363636\n",
       "MALE             45.854762          17.891071           204.505952"
      ]
     },
     "execution_count": 6,
     "metadata": {},
     "output_type": "execute_result"
    }
   ],
   "source": [
    "df.groupby('Sex')[['Culmen Length (mm)','Culmen Depth (mm)','Flipper Length (mm)']].agg('mean')"
   ]
  },
  {
   "cell_type": "markdown",
   "id": "fc2306ca",
   "metadata": {},
   "source": [
    "### How many penguins are heavier than 3kg?"
   ]
  },
  {
   "cell_type": "code",
   "execution_count": 7,
   "id": "f45fbb09",
   "metadata": {},
   "outputs": [
    {
     "data": {
      "text/plain": [
       "323"
      ]
     },
     "execution_count": 7,
     "metadata": {},
     "output_type": "execute_result"
    }
   ],
   "source": [
    "len(df.groupby(df['Body Mass (g)']>3000.000000).groups[True])"
   ]
  },
  {
   "cell_type": "markdown",
   "id": "172b159c",
   "metadata": {},
   "source": [
    "### Select 3 random penguins.\n"
   ]
  },
  {
   "cell_type": "code",
   "execution_count": 66,
   "id": "74dc92c3",
   "metadata": {},
   "outputs": [
    {
     "data": {
      "text/html": [
       "<div>\n",
       "<style scoped>\n",
       "    .dataframe tbody tr th:only-of-type {\n",
       "        vertical-align: middle;\n",
       "    }\n",
       "\n",
       "    .dataframe tbody tr th {\n",
       "        vertical-align: top;\n",
       "    }\n",
       "\n",
       "    .dataframe thead th {\n",
       "        text-align: right;\n",
       "    }\n",
       "</style>\n",
       "<table border=\"1\" class=\"dataframe\">\n",
       "  <thead>\n",
       "    <tr style=\"text-align: right;\">\n",
       "      <th></th>\n",
       "      <th>Species</th>\n",
       "      <th>Culmen Length (mm)</th>\n",
       "      <th>Culmen Depth (mm)</th>\n",
       "      <th>Flipper Length (mm)</th>\n",
       "      <th>Body Mass (g)</th>\n",
       "      <th>Sex</th>\n",
       "    </tr>\n",
       "  </thead>\n",
       "  <tbody>\n",
       "    <tr>\n",
       "      <th>208</th>\n",
       "      <td>Chinstrap</td>\n",
       "      <td>45.7</td>\n",
       "      <td>17.0</td>\n",
       "      <td>195.0</td>\n",
       "      <td>3650.0</td>\n",
       "      <td>FEMALE</td>\n",
       "    </tr>\n",
       "    <tr>\n",
       "      <th>327</th>\n",
       "      <td>Gentoo</td>\n",
       "      <td>48.8</td>\n",
       "      <td>16.2</td>\n",
       "      <td>222.0</td>\n",
       "      <td>6000.0</td>\n",
       "      <td>MALE</td>\n",
       "    </tr>\n",
       "    <tr>\n",
       "      <th>157</th>\n",
       "      <td>Chinstrap</td>\n",
       "      <td>51.7</td>\n",
       "      <td>20.3</td>\n",
       "      <td>194.0</td>\n",
       "      <td>3775.0</td>\n",
       "      <td>MALE</td>\n",
       "    </tr>\n",
       "  </tbody>\n",
       "</table>\n",
       "</div>"
      ],
      "text/plain": [
       "       Species  Culmen Length (mm)  Culmen Depth (mm)  Flipper Length (mm)  \\\n",
       "208  Chinstrap                45.7               17.0                195.0   \n",
       "327     Gentoo                48.8               16.2                222.0   \n",
       "157  Chinstrap                51.7               20.3                194.0   \n",
       "\n",
       "     Body Mass (g)     Sex  \n",
       "208         3650.0  FEMALE  \n",
       "327         6000.0    MALE  \n",
       "157         3775.0    MALE  "
      ]
     },
     "execution_count": 66,
     "metadata": {},
     "output_type": "execute_result"
    }
   ],
   "source": [
    "df.sample(3)"
   ]
  }
 ],
 "metadata": {
  "kernelspec": {
   "display_name": "Python 3",
   "language": "python",
   "name": "python3"
  },
  "language_info": {
   "codemirror_mode": {
    "name": "ipython",
    "version": 3
   },
   "file_extension": ".py",
   "mimetype": "text/x-python",
   "name": "python",
   "nbconvert_exporter": "python",
   "pygments_lexer": "ipython3",
   "version": "3.8.8"
  }
 },
 "nbformat": 4,
 "nbformat_minor": 5
}
