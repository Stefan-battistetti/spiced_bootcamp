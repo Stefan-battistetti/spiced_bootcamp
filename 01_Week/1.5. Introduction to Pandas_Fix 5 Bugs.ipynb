{
 "cells": [
  {
   "cell_type": "markdown",
   "id": "e9d81bf0",
   "metadata": {},
   "source": [
    "# Fix 5 Bugs"
   ]
  },
  {
   "cell_type": "code",
   "execution_count": 11,
   "id": "be9d8267",
   "metadata": {},
   "outputs": [
    {
     "name": "stdout",
     "output_type": "stream",
     "text": [
      "                          name  participants\n",
      "2  Tensor ThymeLinear Lavender             9\n",
      "3     Artificial Neural Nutmeg             9\n",
      "4        Polynomial Peppermint             9\n",
      "5              Sigmoid Saffron             8\n",
      "1               Bayesian Basil             6\n",
      "0        One-Hot Chili Peppers             2\n",
      "\n",
      "total participants: 43\n"
     ]
    }
   ],
   "source": [
    "import pandas as pd\n",
    "# (01)'as pd' is missing\n",
    "\n",
    "spices = ['One-Hot Chili Peppers',\n",
    "          'Bayesian Basil',\n",
    "          'Tensor Thyme'\n",
    "          'Linear Lavender',\n",
    "          'Artificial Neural Nutmeg',\n",
    "          'Polynomial Peppermint',\n",
    "          'Sigmoid Saffron'\n",
    "          ]\n",
    "participants = [2, 6, 9, 9, 9, 8]\n",
    "\n",
    "df = pd.DataFrame({'name': spices,\n",
    "                   'participants': participants\n",
    "                   })\n",
    "\n",
    "df['participants'] = df['participants'].astype(int)\n",
    "# (02) \"to show sum of participants in output, we need to change the type from object to integer\"\n",
    "\n",
    "print(df.sort_values(by=['participants'], ascending=False))\n",
    "# (03) \"sort_values\" should change to \"df.sort_values\"\n",
    "# (04) \"'participants'\" needs square bracket\n",
    "print(\"\\ntotal participants:\", sum(df['participants']))\n",
    "# (05) \"df.sum(['participants']\" should change to \"df.sum(participants=='participants')\""
   ]
  },
  {
   "cell_type": "code",
   "execution_count": null,
   "id": "92dded5f",
   "metadata": {},
   "outputs": [],
   "source": []
  }
 ],
 "metadata": {
  "kernelspec": {
   "display_name": "Python 3",
   "language": "python",
   "name": "python3"
  },
  "language_info": {
   "codemirror_mode": {
    "name": "ipython",
    "version": 3
   },
   "file_extension": ".py",
   "mimetype": "text/x-python",
   "name": "python",
   "nbconvert_exporter": "python",
   "pygments_lexer": "ipython3",
   "version": "3.8.8"
  }
 },
 "nbformat": 4,
 "nbformat_minor": 5
}
