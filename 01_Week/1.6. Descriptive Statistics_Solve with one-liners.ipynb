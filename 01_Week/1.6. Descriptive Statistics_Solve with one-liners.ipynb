{
 "cells": [
  {
   "cell_type": "code",
   "execution_count": 1,
   "id": "c9109383",
   "metadata": {},
   "outputs": [],
   "source": [
    "import matplotlib.pyplot as plt"
   ]
  },
  {
   "cell_type": "code",
   "execution_count": 2,
   "id": "bc020fe8",
   "metadata": {},
   "outputs": [],
   "source": [
    "# 1. read the file into pandas\n",
    "import pandas as pd\n",
    "\n",
    "df = pd.read_excel('gapminder_lifeexpectancy.xlsx', index_col=0)\n",
    "life = df[1960].dropna()"
   ]
  },
  {
   "cell_type": "code",
   "execution_count": 3,
   "id": "ca1396ac",
   "metadata": {},
   "outputs": [
    {
     "data": {
      "text/plain": [
       "54.73282178217823"
      ]
     },
     "execution_count": 3,
     "metadata": {},
     "output_type": "execute_result"
    }
   ],
   "source": [
    "# 2. calculate the mean life expectancy\n",
    "life.mean()"
   ]
  },
  {
   "cell_type": "code",
   "execution_count": 4,
   "id": "1d1a3403",
   "metadata": {},
   "outputs": [
    {
     "data": {
      "text/plain": [
       "56.185"
      ]
     },
     "execution_count": 4,
     "metadata": {},
     "output_type": "execute_result"
    }
   ],
   "source": [
    "# 3. calculate the median\n",
    "life.median()"
   ]
  },
  {
   "cell_type": "code",
   "execution_count": 5,
   "id": "000f1c5b",
   "metadata": {},
   "outputs": [
    {
     "data": {
      "text/plain": [
       "11.689637178760742"
      ]
     },
     "execution_count": 5,
     "metadata": {},
     "output_type": "execute_result"
    }
   ],
   "source": [
    "# 4. calculate the standard deviation\n",
    "life.std()"
   ]
  },
  {
   "cell_type": "code",
   "execution_count": 6,
   "id": "341dcbe3",
   "metadata": {},
   "outputs": [
    {
     "data": {
      "text/plain": [
       "136.64761737106542"
      ]
     },
     "execution_count": 6,
     "metadata": {},
     "output_type": "execute_result"
    }
   ],
   "source": [
    "# 5. calculate the variance\n",
    "life.var()"
   ]
  },
  {
   "cell_type": "code",
   "execution_count": 7,
   "id": "981187eb",
   "metadata": {},
   "outputs": [
    {
     "data": {
      "text/plain": [
       "74.22"
      ]
     },
     "execution_count": 7,
     "metadata": {},
     "output_type": "execute_result"
    }
   ],
   "source": [
    "# 6. find the highest life expectancy\n",
    "life.max()"
   ]
  },
  {
   "cell_type": "code",
   "execution_count": 8,
   "id": "62d3ee28",
   "metadata": {},
   "outputs": [
    {
     "data": {
      "text/plain": [
       "29.61"
      ]
     },
     "execution_count": 8,
     "metadata": {},
     "output_type": "execute_result"
    }
   ],
   "source": [
    "# 7. find the lowest life expectancy\n",
    "life.min()"
   ]
  },
  {
   "cell_type": "code",
   "execution_count": 20,
   "id": "e04a98f3",
   "metadata": {},
   "outputs": [
    {
     "data": {
      "text/plain": [
       "69.707"
      ]
     },
     "execution_count": 20,
     "metadata": {},
     "output_type": "execute_result"
    }
   ],
   "source": [
    "# 8. find the 90% quantile\n",
    "life.quantile(q=0.9)"
   ]
  },
  {
   "cell_type": "code",
   "execution_count": 21,
   "id": "2c07f42d",
   "metadata": {},
   "outputs": [],
   "source": [
    "# 9. store the number of data points in a variable\n",
    "variable = life[100:200]"
   ]
  },
  {
   "cell_type": "code",
   "execution_count": 22,
   "id": "678a1391",
   "metadata": {},
   "outputs": [
    {
     "data": {
      "text/plain": [
       "count    100.000000\n",
       "mean      54.762800\n",
       "std       11.366251\n",
       "min       29.610000\n",
       "25%       45.495000\n",
       "50%       56.600000\n",
       "75%       63.952500\n",
       "max       73.660000\n",
       "Name: 1960, dtype: float64"
      ]
     },
     "execution_count": 22,
     "metadata": {},
     "output_type": "execute_result"
    }
   ],
   "source": [
    "# 10. calculate min, max, mean and range (and possibly other descriptors) with a single line\n",
    "variable.describe()"
   ]
  }
 ],
 "metadata": {
  "kernelspec": {
   "display_name": "Python 3",
   "language": "python",
   "name": "python3"
  },
  "language_info": {
   "codemirror_mode": {
    "name": "ipython",
    "version": 3
   },
   "file_extension": ".py",
   "mimetype": "text/x-python",
   "name": "python",
   "nbconvert_exporter": "python",
   "pygments_lexer": "ipython3",
   "version": "3.8.8"
  }
 },
 "nbformat": 4,
 "nbformat_minor": 5
}
