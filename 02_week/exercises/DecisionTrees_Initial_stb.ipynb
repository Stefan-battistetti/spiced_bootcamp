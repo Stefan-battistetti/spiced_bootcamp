{
  "cells": [
    {
      "cell_type": "markdown",
      "metadata": {
        "id": "CmuCaJred9j-"
      },
      "source": [
        "# Decision Trees 🌲🌳🌴"
      ]
    },
    {
      "cell_type": "markdown",
      "metadata": {
        "id": "HoFZwZbld9kC"
      },
      "source": [
        "After this session you will \n",
        "- be able to do the same as in the NB on LogReg, only with regards to Decision Trees 😉\n",
        "\n",
        "Note:\n",
        "- In general, there is a Classification Tree-model and one for Regression in sklearn => we will only talk about the classification model."
      ]
    },
    {
      "cell_type": "code",
      "execution_count": 2,
      "metadata": {
        "hide_input": true,
        "id": "YZ2WZ6E4d9kD"
      },
      "outputs": [],
      "source": [
        "import pandas as pd\n",
        "import numpy as np\n",
        "import seaborn as sns\n",
        "from matplotlib import pyplot as plt\n",
        "from sklearn.model_selection import train_test_split"
      ]
    },
    {
      "cell_type": "code",
      "execution_count": 3,
      "metadata": {
        "hide_input": true,
        "id": "mexVB6ffd9kF"
      },
      "outputs": [],
      "source": [
        "plt.rcParams['figure.figsize'] = (12, 6)"
      ]
    },
    {
      "cell_type": "markdown",
      "metadata": {
        "id": "YkawpiT_d9kF"
      },
      "source": [
        "### 1. Load the data"
      ]
    },
    {
      "cell_type": "code",
      "execution_count": 23,
      "metadata": {
        "colab": {
          "base_uri": "https://localhost:8080/",
          "height": 424
        },
        "id": "-c2bCJBLd9kG",
        "outputId": "9703e383-5159-444c-8ec1-c2fb7a1890e9"
      },
      "outputs": [
        {
          "output_type": "execute_result",
          "data": {
            "text/html": [
              "<div>\n",
              "<style scoped>\n",
              "    .dataframe tbody tr th:only-of-type {\n",
              "        vertical-align: middle;\n",
              "    }\n",
              "\n",
              "    .dataframe tbody tr th {\n",
              "        vertical-align: top;\n",
              "    }\n",
              "\n",
              "    .dataframe thead th {\n",
              "        text-align: right;\n",
              "    }\n",
              "</style>\n",
              "<table border=\"1\" class=\"dataframe\">\n",
              "  <thead>\n",
              "    <tr style=\"text-align: right;\">\n",
              "      <th></th>\n",
              "      <th>Species</th>\n",
              "      <th>Culmen Length (mm)</th>\n",
              "      <th>Culmen Depth (mm)</th>\n",
              "      <th>Flipper Length (mm)</th>\n",
              "      <th>Body Mass (g)</th>\n",
              "      <th>Sex</th>\n",
              "    </tr>\n",
              "  </thead>\n",
              "  <tbody>\n",
              "    <tr>\n",
              "      <th>0</th>\n",
              "      <td>Adelie</td>\n",
              "      <td>39.1</td>\n",
              "      <td>18.7</td>\n",
              "      <td>181.0</td>\n",
              "      <td>3750.0</td>\n",
              "      <td>MALE</td>\n",
              "    </tr>\n",
              "    <tr>\n",
              "      <th>1</th>\n",
              "      <td>Adelie</td>\n",
              "      <td>39.5</td>\n",
              "      <td>17.4</td>\n",
              "      <td>186.0</td>\n",
              "      <td>3800.0</td>\n",
              "      <td>FEMALE</td>\n",
              "    </tr>\n",
              "    <tr>\n",
              "      <th>2</th>\n",
              "      <td>Adelie</td>\n",
              "      <td>40.3</td>\n",
              "      <td>18.0</td>\n",
              "      <td>195.0</td>\n",
              "      <td>3250.0</td>\n",
              "      <td>FEMALE</td>\n",
              "    </tr>\n",
              "    <tr>\n",
              "      <th>3</th>\n",
              "      <td>Adelie</td>\n",
              "      <td>36.7</td>\n",
              "      <td>19.3</td>\n",
              "      <td>193.0</td>\n",
              "      <td>3450.0</td>\n",
              "      <td>FEMALE</td>\n",
              "    </tr>\n",
              "    <tr>\n",
              "      <th>4</th>\n",
              "      <td>Adelie</td>\n",
              "      <td>39.3</td>\n",
              "      <td>20.6</td>\n",
              "      <td>190.0</td>\n",
              "      <td>3650.0</td>\n",
              "      <td>MALE</td>\n",
              "    </tr>\n",
              "    <tr>\n",
              "      <th>...</th>\n",
              "      <td>...</td>\n",
              "      <td>...</td>\n",
              "      <td>...</td>\n",
              "      <td>...</td>\n",
              "      <td>...</td>\n",
              "      <td>...</td>\n",
              "    </tr>\n",
              "    <tr>\n",
              "      <th>328</th>\n",
              "      <td>Gentoo</td>\n",
              "      <td>47.2</td>\n",
              "      <td>13.7</td>\n",
              "      <td>214.0</td>\n",
              "      <td>4925.0</td>\n",
              "      <td>FEMALE</td>\n",
              "    </tr>\n",
              "    <tr>\n",
              "      <th>329</th>\n",
              "      <td>Gentoo</td>\n",
              "      <td>46.8</td>\n",
              "      <td>14.3</td>\n",
              "      <td>215.0</td>\n",
              "      <td>4850.0</td>\n",
              "      <td>FEMALE</td>\n",
              "    </tr>\n",
              "    <tr>\n",
              "      <th>330</th>\n",
              "      <td>Gentoo</td>\n",
              "      <td>50.4</td>\n",
              "      <td>15.7</td>\n",
              "      <td>222.0</td>\n",
              "      <td>5750.0</td>\n",
              "      <td>MALE</td>\n",
              "    </tr>\n",
              "    <tr>\n",
              "      <th>331</th>\n",
              "      <td>Gentoo</td>\n",
              "      <td>45.2</td>\n",
              "      <td>14.8</td>\n",
              "      <td>212.0</td>\n",
              "      <td>5200.0</td>\n",
              "      <td>FEMALE</td>\n",
              "    </tr>\n",
              "    <tr>\n",
              "      <th>332</th>\n",
              "      <td>Gentoo</td>\n",
              "      <td>49.9</td>\n",
              "      <td>16.1</td>\n",
              "      <td>213.0</td>\n",
              "      <td>5400.0</td>\n",
              "      <td>MALE</td>\n",
              "    </tr>\n",
              "  </tbody>\n",
              "</table>\n",
              "<p>333 rows × 6 columns</p>\n",
              "</div>"
            ],
            "text/plain": [
              "    Species  Culmen Length (mm)  ...  Body Mass (g)     Sex\n",
              "0    Adelie                39.1  ...         3750.0    MALE\n",
              "1    Adelie                39.5  ...         3800.0  FEMALE\n",
              "2    Adelie                40.3  ...         3250.0  FEMALE\n",
              "3    Adelie                36.7  ...         3450.0  FEMALE\n",
              "4    Adelie                39.3  ...         3650.0    MALE\n",
              "..      ...                 ...  ...            ...     ...\n",
              "328  Gentoo                47.2  ...         4925.0  FEMALE\n",
              "329  Gentoo                46.8  ...         4850.0  FEMALE\n",
              "330  Gentoo                50.4  ...         5750.0    MALE\n",
              "331  Gentoo                45.2  ...         5200.0  FEMALE\n",
              "332  Gentoo                49.9  ...         5400.0    MALE\n",
              "\n",
              "[333 rows x 6 columns]"
            ]
          },
          "metadata": {},
          "execution_count": 23
        }
      ],
      "source": [
        "df = pd.read_csv('/content/penguins_simple.csv', sep=';')\n",
        "df"
      ]
    },
    {
      "cell_type": "markdown",
      "metadata": {
        "id": "Aa_m3Apgd9kG"
      },
      "source": [
        "### 2. Train-test-split"
      ]
    },
    {
      "cell_type": "code",
      "execution_count": 33,
      "metadata": {
        "id": "nHikqQgad9kH"
      },
      "outputs": [],
      "source": [
        "X = df[[\"Culmen Length (mm)\", \"Body Mass (g)\"]] #look into the dataframe and create a new df out of the two columns\n",
        "y = df[\"Species\"]                               # just take out of the df one column and create a series"
      ]
    },
    {
      "cell_type": "code",
      "source": [
        "X_train, X_test, y_train, y_test = train_test_split(X, y, random_state=42)"
      ],
      "metadata": {
        "id": "ubibHGJReTh5"
      },
      "execution_count": 28,
      "outputs": []
    },
    {
      "cell_type": "code",
      "source": [
        "X_train.shape, X_test.shape, y_train.shape, y_test.shape"
      ],
      "metadata": {
        "colab": {
          "base_uri": "https://localhost:8080/"
        },
        "id": "Phui9MuweTfB",
        "outputId": "df3d912c-ecbb-4a82-e9a9-52ce1ff79a5c"
      },
      "execution_count": 34,
      "outputs": [
        {
          "output_type": "execute_result",
          "data": {
            "text/plain": [
              "((249, 2), (84, 2), (249,), (84,))"
            ]
          },
          "metadata": {},
          "execution_count": 34
        }
      ]
    },
    {
      "cell_type": "markdown",
      "metadata": {
        "id": "Cu3FnPxfd9kH"
      },
      "source": [
        "### 3. Plot the data"
      ]
    },
    {
      "cell_type": "code",
      "execution_count": 42,
      "metadata": {
        "colab": {
          "base_uri": "https://localhost:8080/",
          "height": 406
        },
        "id": "9ldZbqpvd9kH",
        "outputId": "d2ea8150-8092-4d73-d1b1-84965c343c71"
      },
      "outputs": [
        {
          "output_type": "execute_result",
          "data": {
            "text/plain": [
              "<matplotlib.axes._subplots.AxesSubplot at 0x7f0e51140450>"
            ]
          },
          "metadata": {},
          "execution_count": 42
        },
        {
          "output_type": "display_data",
          "data": {
            "image/png": "[encoded data removed]",
            "text/plain": [
              "<Figure size 864x432 with 1 Axes>"
            ]
          },
          "metadata": {
            "needs_background": "light"
          }
        }
      ],
      "source": [
        "sns.scatterplot(data=X_train, x = X_train[\"Body Mass (g)\"], y = X_train[\"Culmen Length (mm)\"], hue = y, legend=True)\n",
        "#"
      ]
    },
    {
      "cell_type": "markdown",
      "metadata": {
        "id": "LPEkBfe2d9kI"
      },
      "source": [
        "## Decision Tree from Scratch"
      ]
    },
    {
      "cell_type": "code",
      "execution_count": 18,
      "metadata": {
        "id": "EF4RNyEGd9kI"
      },
      "outputs": [],
      "source": [
        "predictions = []\n",
        "\n",
        "for idx, rows in X_train.iterrows():\n",
        "  if rows['Culmen Length (mm)']<45:\n",
        "    predictions.append('Adelie')\n",
        "  else:\n",
        "    if rows[\"Body Mass (g)\"]>4500:\n",
        "      predictions.append('Gentoo')\n",
        "    else:\n",
        "      predictions.append('Chinstrap')"
      ]
    },
    {
      "cell_type": "code",
      "source": [
        "predictions[0:10]"
      ],
      "metadata": {
        "colab": {
          "base_uri": "https://localhost:8080/"
        },
        "id": "g2iCgCgihJpQ",
        "outputId": "c2a89822-4a12-4add-d707-dbcc99cdae96"
      },
      "execution_count": 21,
      "outputs": [
        {
          "output_type": "execute_result",
          "data": {
            "text/plain": [
              "['Gentoo',\n",
              " 'Adelie',\n",
              " 'Adelie',\n",
              " 'Gentoo',\n",
              " 'Chinstrap',\n",
              " 'Chinstrap',\n",
              " 'Gentoo',\n",
              " 'Gentoo',\n",
              " 'Adelie',\n",
              " 'Adelie']"
            ]
          },
          "metadata": {},
          "execution_count": 21
        }
      ]
    },
    {
      "cell_type": "code",
      "source": [
        "sklearn."
      ],
      "metadata": {
        "id": "MKkLGImxjFcO"
      },
      "execution_count": null,
      "outputs": []
    },
    {
      "cell_type": "code",
      "source": [
        ""
      ],
      "metadata": {
        "id": "BNcAjcLajFV4"
      },
      "execution_count": null,
      "outputs": []
    },
    {
      "cell_type": "markdown",
      "metadata": {
        "id": "5CqqaQoCd9kI"
      },
      "source": [
        "## ... but is there a better way than guessing?"
      ]
    },
    {
      "cell_type": "markdown",
      "metadata": {
        "hide_input": true,
        "id": "8gdVeRBTd9kJ"
      },
      "source": [
        "Yes! It's called **Gini-Impurity!**   \n",
        "It can be used to measure how good our split is -> how \"pure\" the resulting nodes are."
      ]
    },
    {
      "cell_type": "markdown",
      "metadata": {
        "id": "eqhbM2dSd9kJ"
      },
      "source": [
        "## Gini Impurity"
      ]
    },
    {
      "cell_type": "code",
      "execution_count": null,
      "metadata": {
        "hide_input": true,
        "id": "DU3Lo3Vpd9kK",
        "outputId": "f3b3a76b-0bd9-45ad-9b41-f96e36a8ea9b"
      },
      "outputs": [
        {
          "data": {
            "text/plain": [
              "[<matplotlib.lines.Line2D at 0x7f7a4cbd4580>]"
            ]
          },
          "execution_count": 10,
          "metadata": {},
          "output_type": "execute_result"
        },
        {
          "data": {
            "image/png": "[encoded data removed]",
            "text/plain": [
              "<Figure size 864x576 with 1 Axes>"
            ]
          },
          "metadata": {
            "needs_background": "light"
          },
          "output_type": "display_data"
        }
      ],
      "source": [
        "plt.figure(figsize=(12,8))\n",
        "plot = sns.scatterplot(x=X_train[\"Body Mass (g)\"], y=X_train[\"Culmen Length (mm)\"], hue=y_train, s=150)\n",
        "plt.axis((3910, 4390, 40, 48))\n",
        "plt.plot([3910, 4390],[43.5,43.5], linewidth=2, color=\"red\") #horizontal\n",
        "plt.plot([4220, 4220],[0,43.5], linewidth=1, color=\"red\") #bottom\n",
        "plt.plot([4165, 4165],[43.5,48], linewidth=1, color=\"red\") #top"
      ]
    },
    {
      "cell_type": "markdown",
      "metadata": {
        "id": "mTZVD6j3d9kL"
      },
      "source": [
        "GINI =  $\\sum\\nolimits_{k=1}^K$(p_{k})$(1 - p_{k})$"
      ]
    },
    {
      "cell_type": "markdown",
      "metadata": {
        "id": "3nf3sSihd9kL"
      },
      "source": [
        "K = classes, \n",
        "p = Proportion of points belonging to class k"
      ]
    },
    {
      "cell_type": "markdown",
      "metadata": {
        "id": "6DWpQdP0d9kM"
      },
      "source": [
        "Let's denote the classes this way:\n",
        "- \"1\" = \"Adelie\"\n",
        "- \"2\" = \"Gentoo\"\n",
        "- \"3\" = \"Chinstrap\""
      ]
    },
    {
      "cell_type": "code",
      "execution_count": 43,
      "metadata": {
        "colab": {
          "base_uri": "https://localhost:8080/"
        },
        "id": "tGxfZ6hAd9kM",
        "outputId": "2d355e68-1d38-4f1a-b254-84a0d31825f4"
      },
      "outputs": [
        {
          "output_type": "execute_result",
          "data": {
            "text/plain": [
              "0.1975308641975309"
            ]
          },
          "metadata": {},
          "execution_count": 43
        }
      ],
      "source": [
        "# lower left corner:\n",
        "p1=(8/9)\n",
        "p2=(1/9)\n",
        "\n",
        "gini_lower_left = p1*(1-p1) + p2*(1-p2)\n",
        "gini_lower_left"
      ]
    },
    {
      "cell_type": "code",
      "execution_count": 45,
      "metadata": {
        "colab": {
          "base_uri": "https://localhost:8080/"
        },
        "id": "6aG2rXoed9kM",
        "outputId": "e1b909c0-139d-4d58-c86d-7ff271eb6a01"
      },
      "outputs": [
        {
          "output_type": "execute_result",
          "data": {
            "text/plain": [
              "0"
            ]
          },
          "metadata": {},
          "execution_count": 45
        }
      ],
      "source": [
        "# lower right corner:\n",
        "p1=(6/6)\n",
        "p2=0\n",
        "#p3=0\n",
        "\n",
        "\n",
        "gini_lower_right = p1*(1-p1) + p2*(1-p2)\n",
        "gini_lower_right"
      ]
    },
    {
      "cell_type": "code",
      "execution_count": 47,
      "metadata": {
        "colab": {
          "base_uri": "https://localhost:8080/"
        },
        "id": "g3eJMK5id9kN",
        "outputId": "d340ff7c-9d6e-4a68-ede6-8429117623de"
      },
      "outputs": [
        {
          "output_type": "execute_result",
          "data": {
            "text/plain": [
              "0.5"
            ]
          },
          "metadata": {},
          "execution_count": 47
        }
      ],
      "source": [
        "# upper left corner:\n",
        "p1=(2/4)\n",
        "p2=0\n",
        "p3=(2/4)\n",
        "\n",
        "gini_upper_left = p1*(1-p1) + p3*(1-p3)\n",
        "gini_upper_left"
      ]
    },
    {
      "cell_type": "code",
      "execution_count": 48,
      "metadata": {
        "colab": {
          "base_uri": "https://localhost:8080/"
        },
        "id": "nQOBekLfd9kN",
        "outputId": "4fe1768f-a8a7-46c1-fdc3-e9a7e8a1ab2f"
      },
      "outputs": [
        {
          "output_type": "execute_result",
          "data": {
            "text/plain": [
              "0.12244897959183673"
            ]
          },
          "metadata": {},
          "execution_count": 48
        }
      ],
      "source": [
        "# upper right corner:\n",
        "p1=(1/7)\n",
        "p2=0\n",
        "p3=(6/7)\n",
        "\n",
        "gini_upper_right = p1*(1-p1) + p2*(1-p2)\n",
        "gini_upper_right"
      ]
    },
    {
      "cell_type": "code",
      "execution_count": 49,
      "metadata": {
        "colab": {
          "base_uri": "https://localhost:8080/"
        },
        "id": "qcfpMsSsd9kO",
        "outputId": "4dfc074b-c32a-4204-8f15-ab007ed31920"
      },
      "outputs": [
        {
          "output_type": "execute_result",
          "data": {
            "text/plain": [
              "0.11851851851851854"
            ]
          },
          "metadata": {},
          "execution_count": 49
        }
      ],
      "source": [
        "# Evaluation of the split vertical bottom: does this split create two \"good\" nodes? \n",
        "gini_lower_left * (9/15)  + gini_lower_right * (6/15)"
      ]
    },
    {
      "cell_type": "markdown",
      "metadata": {
        "id": "N0LVWjRMd9kO"
      },
      "source": [
        "In summary: finding the best thresholds (\"splitting the data\") will require to define them such that Gini is minimized."
      ]
    },
    {
      "cell_type": "markdown",
      "metadata": {
        "id": "rtthm55ed9kO"
      },
      "source": [
        "## Luckily, there is a Decision Tree Model in Sklearn that will do all the hard work for us!"
      ]
    },
    {
      "cell_type": "markdown",
      "metadata": {
        "id": "MbaDQKTzd9kO"
      },
      "source": [
        "#### Train the model"
      ]
    },
    {
      "cell_type": "code",
      "execution_count": 51,
      "metadata": {
        "id": "ARXWv3-Ld9kP"
      },
      "outputs": [],
      "source": [
        "from sklearn.tree import DecisionTreeClassifier, plot_tree"
      ]
    },
    {
      "cell_type": "code",
      "execution_count": 70,
      "metadata": {
        "id": "5l4rRztSd9kP"
      },
      "outputs": [],
      "source": [
        "m = DecisionTreeClassifier(max_depth=3)   "
      ]
    },
    {
      "cell_type": "code",
      "execution_count": 71,
      "metadata": {
        "colab": {
          "base_uri": "https://localhost:8080/"
        },
        "id": "AK00OoEcd9kP",
        "outputId": "9dfab11f-5305-4bff-c1d9-798eca41c190"
      },
      "outputs": [
        {
          "output_type": "execute_result",
          "data": {
            "text/plain": [
              "DecisionTreeClassifier(max_depth=3)"
            ]
          },
          "metadata": {},
          "execution_count": 71
        }
      ],
      "source": [
        "m.fit(X_train, y_train)"
      ]
    },
    {
      "cell_type": "markdown",
      "metadata": {
        "id": "lCpkaK2bd9kP"
      },
      "source": [
        "#### Make predictions"
      ]
    },
    {
      "cell_type": "code",
      "execution_count": 72,
      "metadata": {
        "id": "IqxvD3Pbd9kP"
      },
      "outputs": [],
      "source": [
        "ypred = m.predict(X_train)"
      ]
    },
    {
      "cell_type": "code",
      "execution_count": 73,
      "metadata": {
        "collapsed": true,
        "colab": {
          "base_uri": "https://localhost:8080/"
        },
        "id": "IL__cc7fd9kP",
        "outputId": "08bed764-6219-4ffa-a863-3deea102d713"
      },
      "outputs": [
        {
          "output_type": "execute_result",
          "data": {
            "text/plain": [
              "array(['Gentoo', 'Gentoo', 'Adelie', 'Gentoo', 'Gentoo'], dtype=object)"
            ]
          },
          "metadata": {},
          "execution_count": 73
        }
      ],
      "source": [
        "ypred[0:5]"
      ]
    },
    {
      "cell_type": "code",
      "execution_count": 74,
      "metadata": {
        "colab": {
          "base_uri": "https://localhost:8080/"
        },
        "id": "hvqIDA78d9kQ",
        "outputId": "f4378991-f3d9-4806-c9f5-eee7bbb3a885"
      },
      "outputs": [
        {
          "output_type": "execute_result",
          "data": {
            "text/plain": [
              "0.9317269076305221"
            ]
          },
          "metadata": {},
          "execution_count": 74
        }
      ],
      "source": [
        "m.score(X_train, y_train)"
      ]
    },
    {
      "cell_type": "markdown",
      "metadata": {
        "id": "ipQQKUlnd9kQ"
      },
      "source": [
        "#### Plot the tree"
      ]
    },
    {
      "cell_type": "code",
      "execution_count": 75,
      "metadata": {
        "colab": {
          "base_uri": "https://localhost:8080/",
          "height": 357
        },
        "id": "QdGExDd5d9kQ",
        "outputId": "a76143c3-616c-4aa6-9137-5fcf28caf31f"
      },
      "outputs": [
        {
          "output_type": "display_data",
          "data": {
            "image/png": "[encoded data removed]",
            "text/plain": [
              "<Figure size 864x432 with 1 Axes>"
            ]
          },
          "metadata": {
            "needs_background": "light"
          }
        }
      ],
      "source": [
        "t = plot_tree(m, feature_names=[\"Body Mass\", \"Culmen Length\"],  class_names=[\"Adelie\", \"Chinstrap\", \"Gentoo\"], filled=True)"
      ]
    },
    {
      "cell_type": "markdown",
      "metadata": {
        "id": "Eux2STxod9kR"
      },
      "source": [
        "## The Decision Tree Algorithm\n",
        "`split(node, {samples})`:\n",
        "\n",
        "1. Determines the best feature for splitting the data*\n",
        "2. Determines the best value / threshold for splitting*\n",
        "    - Entropy (Computer Science) - ID3 Algorithm\n",
        "    - Gini Impurity (Economics) - CART Algorithm\n",
        "3. Create 2 children nodes (binary)\n",
        "4. Split the {samples} across those nodes\n",
        "5. Recurse! For each children node,\n",
        "    - IF subset is PURE:\n",
        "        - STOP!\n",
        "    - ELSE:\n",
        "        - `split(child_node, {subset})`"
      ]
    },
    {
      "cell_type": "markdown",
      "metadata": {
        "id": "Wn5u2trVd9kR"
      },
      "source": [
        "## Entropy"
      ]
    },
    {
      "cell_type": "markdown",
      "metadata": {
        "id": "hGvtECwvd9kR"
      },
      "source": [
        "4 samples --> 4, 0 (100% Purity) -> Entropy = 0.0\n",
        "\n",
        "4 samples --> 2, 2 (100% Impurity) -> Entropy = 1.0 (Maximum for binary classification)"
      ]
    },
    {
      "cell_type": "code",
      "execution_count": 80,
      "metadata": {
        "colab": {
          "base_uri": "https://localhost:8080/"
        },
        "id": "7PFT-msKd9kS",
        "outputId": "edda9af4-2e51-41c7-8d13-396b14983eff"
      },
      "outputs": [
        {
          "output_type": "execute_result",
          "data": {
            "text/plain": [
              "DecisionTreeClassifier(criterion='entropy', max_depth=2)"
            ]
          },
          "metadata": {},
          "execution_count": 80
        }
      ],
      "source": [
        "m = DecisionTreeClassifier(max_depth=2, criterion='entropy')  \n",
        "m.fit(X, y)"
      ]
    },
    {
      "cell_type": "code",
      "execution_count": 81,
      "metadata": {
        "colab": {
          "base_uri": "https://localhost:8080/",
          "height": 466
        },
        "id": "1yqo88cUd9kS",
        "outputId": "fc14489e-1241-44cb-e853-75840018d492"
      },
      "outputs": [
        {
          "output_type": "display_data",
          "data": {
            "image/png": "[encoded data removed]",
            "text/plain": [
              "<Figure size 864x576 with 1 Axes>"
            ]
          },
          "metadata": {
            "needs_background": "light"
          }
        }
      ],
      "source": [
        "plt.figure(figsize=(12, 8))\n",
        "t = plot_tree(m, feature_names=['Depth', 'Length'], class_names=['Adelie', 'Chinstrap', 'Gentoo'])"
      ]
    },
    {
      "cell_type": "markdown",
      "metadata": {
        "id": "8MhCKJRld9kS"
      },
      "source": [
        "**Starting Entropy (at the root node)**"
      ]
    },
    {
      "cell_type": "code",
      "execution_count": 82,
      "metadata": {
        "colab": {
          "base_uri": "https://localhost:8080/"
        },
        "id": "wLwzs1XNd9kS",
        "outputId": "fb99998d-adec-47cf-ebcf-d8a5772b7f44"
      },
      "outputs": [
        {
          "output_type": "execute_result",
          "data": {
            "text/plain": [
              "1.5200835543530913"
            ]
          },
          "metadata": {},
          "execution_count": 82
        }
      ],
      "source": [
        "P_Adelie = (146) / (146+68+119)\n",
        "P_Chin = (68) / (146+68+119)\n",
        "P_Gent = (119) / (146+68+119)\n",
        "\n",
        "entropy_root_node = -P_Adelie * np.log2(P_Adelie) - P_Chin * np.log2(P_Chin) - P_Gent * np.log2(P_Gent)\n",
        "entropy_root_node"
      ]
    },
    {
      "cell_type": "markdown",
      "metadata": {
        "id": "7BryMJ4Yd9kT"
      },
      "source": [
        "**Entropy after the first question / split**"
      ]
    },
    {
      "cell_type": "code",
      "execution_count": 85,
      "metadata": {
        "colab": {
          "base_uri": "https://localhost:8080/"
        },
        "id": "_vhb8lkld9kT",
        "outputId": "a92d0374-84c8-4753-a1cd-1b296001fd14"
      },
      "outputs": [
        {
          "output_type": "execute_result",
          "data": {
            "text/plain": [
              "0.21279373921653882"
            ]
          },
          "metadata": {},
          "execution_count": 85
        }
      ],
      "source": [
        "P_Adelie = (134)/(134+1+3)\n",
        "P_Chin = (1)/(134+1+3)\n",
        "P_Gent = (3)/(134+1+3)\n",
        "\n",
        "entropy_split_1a = -P_Adelie * np.log2(P_Adelie) - P_Chin * np.log2(P_Chin) - P_Gent * np.log2(P_Gent)\n",
        "entropy_split_1a"
      ]
    },
    {
      "cell_type": "code",
      "execution_count": 86,
      "metadata": {
        "colab": {
          "base_uri": "https://localhost:8080/"
        },
        "id": "QYiLBR9bd9kT",
        "outputId": "e938ab5e-137f-4a0a-ab4e-7bc5d63ed4e0"
      },
      "outputs": [
        {
          "output_type": "execute_result",
          "data": {
            "text/plain": [
              "1.2228517434720567"
            ]
          },
          "metadata": {},
          "execution_count": 86
        }
      ],
      "source": [
        "\n",
        "P_Adelie = (12)/(12+67+116)\n",
        "P_Chin = (67)/(12+67+116)\n",
        "P_Gent = (116)/(12+67+116)\n",
        "\n",
        "entropy_split_1b = -P_Adelie * np.log2(P_Adelie) - P_Chin * np.log2(P_Chin) - P_Gent * np.log2(P_Gent)\n",
        "entropy_split_1b"
      ]
    },
    {
      "cell_type": "markdown",
      "metadata": {
        "id": "tCEt8P1Xd9kT"
      },
      "source": [
        "**Then, to calculate the INFORMATION GAIN of the first question, you take the weighted sum of the resulting entropies, and subtract that from the original starting entropy:**"
      ]
    },
    {
      "cell_type": "code",
      "execution_count": 87,
      "metadata": {
        "colab": {
          "base_uri": "https://localhost:8080/"
        },
        "id": "kqSkb-PId9kT",
        "outputId": "88aada31-ab3a-4803-ee45-38d820272ed4"
      },
      "outputs": [
        {
          "output_type": "execute_result",
          "data": {
            "text/plain": [
              "0.7145611659327157"
            ]
          },
          "metadata": {},
          "execution_count": 87
        }
      ],
      "source": [
        "Gain = entropy_root_node - (134+1+3)/(146+68+120)*entropy_split_1a - (12+67+117)/(146+68+120)*entropy_split_1b\n",
        "Gain"
      ]
    },
    {
      "cell_type": "markdown",
      "metadata": {
        "id": "t6W7u6Wid9kU"
      },
      "source": [
        "\n",
        "The Difference in entropy before the split and the entropy after the split is called `information gain`. We can think of this as the drop in entropy (which is what we want, b/c entropy basically means uncertainty), or the increase in information.\n",
        "\n",
        "And the reason the first question was chosen (i.e. \"is the Culmen shorter than 42.35 millimeters?\") is **because that was the question that resulted in the largest information gain (0.71) compared to all other possible questions**. The algorithm keeps going as long as it can find questions that increase the information gain."
      ]
    },
    {
      "cell_type": "markdown",
      "metadata": {
        "id": "FJrFVE2-d9kU"
      },
      "source": [
        "## When should I use a Decision tree? 🌳   "
      ]
    },
    {
      "cell_type": "markdown",
      "metadata": {
        "id": "YByMkpyAd9kU"
      },
      "source": [
        "**Advantages:** \n",
        "- intuitive understanding, can be visualized\n",
        "- requires little data preparation"
      ]
    },
    {
      "cell_type": "markdown",
      "metadata": {
        "id": "tCxWZDbUd9kU"
      },
      "source": [
        "**Disadvantages:**\n",
        "- prone to overfitting  "
      ]
    },
    {
      "cell_type": "code",
      "execution_count": null,
      "metadata": {
        "id": "r-sWwSR3d9kV"
      },
      "outputs": [],
      "source": [
        ""
      ]
    }
  ],
  "metadata": {
    "kernelspec": {
      "display_name": "Python 3",
      "language": "python",
      "name": "python3"
    },
    "language_info": {
      "codemirror_mode": {
        "name": "ipython",
        "version": 3
      },
      "file_extension": ".py",
      "mimetype": "text/x-python",
      "name": "python",
      "nbconvert_exporter": "python",
      "pygments_lexer": "ipython3",
      "version": "3.9.7"
    },
    "varInspector": {
      "cols": {
        "lenName": 16,
        "lenType": 16,
        "lenVar": 40
      },
      "kernels_config": {
        "python": {
          "delete_cmd_postfix": "",
          "delete_cmd_prefix": "del ",
          "library": "var_list.py",
          "varRefreshCmd": "print(var_dic_list())"
        },
        "r": {
          "delete_cmd_postfix": ") ",
          "delete_cmd_prefix": "rm(",
          "library": "var_list.r",
          "varRefreshCmd": "cat(var_dic_list()) "
        }
      },
      "types_to_exclude": [
        "module",
        "function",
        "builtin_function_or_method",
        "instance",
        "_Feature"
      ],
      "window_display": false
    },
    "colab": {
      "name": "DecisionTrees_Initial_stb.ipynb",
      "provenance": [],
      "collapsed_sections": []
    }
  },
  "nbformat": 4,
  "nbformat_minor": 0
}