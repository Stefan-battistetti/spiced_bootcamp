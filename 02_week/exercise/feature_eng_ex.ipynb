{
 "cells": [
  {
   "cell_type": "code",
   "execution_count": 1,
   "metadata": {},
   "outputs": [],
   "source": [
    "from sklearn.compose import ColumnTransformer\n",
    "from sklearn.impute import SimpleImputer\n",
    "from sklearn.preprocessing import OneHotEncoder\n",
    "from sklearn.preprocessing import KBinsDiscretizer\n",
    "from sklearn.preprocessing import MinMaxScaler\n",
    "from sklearn.preprocessing import FunctionTransformer\n",
    "from sklearn.preprocessing import StandardScaler\n",
    "from sklearn.linear_model import LogisticRegression\n",
    "from sklearn.model_selection import train_test_split\n",
    "from sklearn.pipeline import Pipeline, make_pipeline\n",
    "import pandas as pd\n",
    "import seaborn as sns\n",
    "from matplotlib import pyplot as plt\n",
    "import pandas_profiling"
   ]
  },
  {
   "cell_type": "code",
   "execution_count": 2,
   "metadata": {},
   "outputs": [
    {
     "data": {
      "text/html": [
       "<div>\n",
       "<style scoped>\n",
       "    .dataframe tbody tr th:only-of-type {\n",
       "        vertical-align: middle;\n",
       "    }\n",
       "\n",
       "    .dataframe tbody tr th {\n",
       "        vertical-align: top;\n",
       "    }\n",
       "\n",
       "    .dataframe thead th {\n",
       "        text-align: right;\n",
       "    }\n",
       "</style>\n",
       "<table border=\"1\" class=\"dataframe\">\n",
       "  <thead>\n",
       "    <tr style=\"text-align: right;\">\n",
       "      <th></th>\n",
       "      <th>Survived</th>\n",
       "      <th>Pclass</th>\n",
       "      <th>Name</th>\n",
       "      <th>Sex</th>\n",
       "      <th>Age</th>\n",
       "      <th>SibSp</th>\n",
       "      <th>Parch</th>\n",
       "      <th>Ticket</th>\n",
       "      <th>Fare</th>\n",
       "      <th>Cabin</th>\n",
       "      <th>Embarked</th>\n",
       "    </tr>\n",
       "    <tr>\n",
       "      <th>PassengerId</th>\n",
       "      <th></th>\n",
       "      <th></th>\n",
       "      <th></th>\n",
       "      <th></th>\n",
       "      <th></th>\n",
       "      <th></th>\n",
       "      <th></th>\n",
       "      <th></th>\n",
       "      <th></th>\n",
       "      <th></th>\n",
       "      <th></th>\n",
       "    </tr>\n",
       "  </thead>\n",
       "  <tbody>\n",
       "    <tr>\n",
       "      <th>1</th>\n",
       "      <td>0</td>\n",
       "      <td>3</td>\n",
       "      <td>Braund, Mr. Owen Harris</td>\n",
       "      <td>male</td>\n",
       "      <td>22.0</td>\n",
       "      <td>1</td>\n",
       "      <td>0</td>\n",
       "      <td>A/5 21171</td>\n",
       "      <td>7.2500</td>\n",
       "      <td>NaN</td>\n",
       "      <td>S</td>\n",
       "    </tr>\n",
       "    <tr>\n",
       "      <th>2</th>\n",
       "      <td>1</td>\n",
       "      <td>1</td>\n",
       "      <td>Cumings, Mrs. John Bradley (Florence Briggs Th...</td>\n",
       "      <td>female</td>\n",
       "      <td>38.0</td>\n",
       "      <td>1</td>\n",
       "      <td>0</td>\n",
       "      <td>PC 17599</td>\n",
       "      <td>71.2833</td>\n",
       "      <td>C85</td>\n",
       "      <td>C</td>\n",
       "    </tr>\n",
       "    <tr>\n",
       "      <th>3</th>\n",
       "      <td>1</td>\n",
       "      <td>3</td>\n",
       "      <td>Heikkinen, Miss. Laina</td>\n",
       "      <td>female</td>\n",
       "      <td>26.0</td>\n",
       "      <td>0</td>\n",
       "      <td>0</td>\n",
       "      <td>STON/O2. 3101282</td>\n",
       "      <td>7.9250</td>\n",
       "      <td>NaN</td>\n",
       "      <td>S</td>\n",
       "    </tr>\n",
       "    <tr>\n",
       "      <th>4</th>\n",
       "      <td>1</td>\n",
       "      <td>1</td>\n",
       "      <td>Futrelle, Mrs. Jacques Heath (Lily May Peel)</td>\n",
       "      <td>female</td>\n",
       "      <td>35.0</td>\n",
       "      <td>1</td>\n",
       "      <td>0</td>\n",
       "      <td>113803</td>\n",
       "      <td>53.1000</td>\n",
       "      <td>C123</td>\n",
       "      <td>S</td>\n",
       "    </tr>\n",
       "    <tr>\n",
       "      <th>5</th>\n",
       "      <td>0</td>\n",
       "      <td>3</td>\n",
       "      <td>Allen, Mr. William Henry</td>\n",
       "      <td>male</td>\n",
       "      <td>35.0</td>\n",
       "      <td>0</td>\n",
       "      <td>0</td>\n",
       "      <td>373450</td>\n",
       "      <td>8.0500</td>\n",
       "      <td>NaN</td>\n",
       "      <td>S</td>\n",
       "    </tr>\n",
       "    <tr>\n",
       "      <th>...</th>\n",
       "      <td>...</td>\n",
       "      <td>...</td>\n",
       "      <td>...</td>\n",
       "      <td>...</td>\n",
       "      <td>...</td>\n",
       "      <td>...</td>\n",
       "      <td>...</td>\n",
       "      <td>...</td>\n",
       "      <td>...</td>\n",
       "      <td>...</td>\n",
       "      <td>...</td>\n",
       "    </tr>\n",
       "    <tr>\n",
       "      <th>887</th>\n",
       "      <td>0</td>\n",
       "      <td>2</td>\n",
       "      <td>Montvila, Rev. Juozas</td>\n",
       "      <td>male</td>\n",
       "      <td>27.0</td>\n",
       "      <td>0</td>\n",
       "      <td>0</td>\n",
       "      <td>211536</td>\n",
       "      <td>13.0000</td>\n",
       "      <td>NaN</td>\n",
       "      <td>S</td>\n",
       "    </tr>\n",
       "    <tr>\n",
       "      <th>888</th>\n",
       "      <td>1</td>\n",
       "      <td>1</td>\n",
       "      <td>Graham, Miss. Margaret Edith</td>\n",
       "      <td>female</td>\n",
       "      <td>19.0</td>\n",
       "      <td>0</td>\n",
       "      <td>0</td>\n",
       "      <td>112053</td>\n",
       "      <td>30.0000</td>\n",
       "      <td>B42</td>\n",
       "      <td>S</td>\n",
       "    </tr>\n",
       "    <tr>\n",
       "      <th>889</th>\n",
       "      <td>0</td>\n",
       "      <td>3</td>\n",
       "      <td>Johnston, Miss. Catherine Helen \"Carrie\"</td>\n",
       "      <td>female</td>\n",
       "      <td>NaN</td>\n",
       "      <td>1</td>\n",
       "      <td>2</td>\n",
       "      <td>W./C. 6607</td>\n",
       "      <td>23.4500</td>\n",
       "      <td>NaN</td>\n",
       "      <td>S</td>\n",
       "    </tr>\n",
       "    <tr>\n",
       "      <th>890</th>\n",
       "      <td>1</td>\n",
       "      <td>1</td>\n",
       "      <td>Behr, Mr. Karl Howell</td>\n",
       "      <td>male</td>\n",
       "      <td>26.0</td>\n",
       "      <td>0</td>\n",
       "      <td>0</td>\n",
       "      <td>111369</td>\n",
       "      <td>30.0000</td>\n",
       "      <td>C148</td>\n",
       "      <td>C</td>\n",
       "    </tr>\n",
       "    <tr>\n",
       "      <th>891</th>\n",
       "      <td>0</td>\n",
       "      <td>3</td>\n",
       "      <td>Dooley, Mr. Patrick</td>\n",
       "      <td>male</td>\n",
       "      <td>32.0</td>\n",
       "      <td>0</td>\n",
       "      <td>0</td>\n",
       "      <td>370376</td>\n",
       "      <td>7.7500</td>\n",
       "      <td>NaN</td>\n",
       "      <td>Q</td>\n",
       "    </tr>\n",
       "  </tbody>\n",
       "</table>\n",
       "<p>891 rows × 11 columns</p>\n",
       "</div>"
      ],
      "text/plain": [
       "             Survived  Pclass  \\\n",
       "PassengerId                     \n",
       "1                   0       3   \n",
       "2                   1       1   \n",
       "3                   1       3   \n",
       "4                   1       1   \n",
       "5                   0       3   \n",
       "...               ...     ...   \n",
       "887                 0       2   \n",
       "888                 1       1   \n",
       "889                 0       3   \n",
       "890                 1       1   \n",
       "891                 0       3   \n",
       "\n",
       "                                                          Name     Sex   Age  \\\n",
       "PassengerId                                                                    \n",
       "1                                      Braund, Mr. Owen Harris    male  22.0   \n",
       "2            Cumings, Mrs. John Bradley (Florence Briggs Th...  female  38.0   \n",
       "3                                       Heikkinen, Miss. Laina  female  26.0   \n",
       "4                 Futrelle, Mrs. Jacques Heath (Lily May Peel)  female  35.0   \n",
       "5                                     Allen, Mr. William Henry    male  35.0   \n",
       "...                                                        ...     ...   ...   \n",
       "887                                      Montvila, Rev. Juozas    male  27.0   \n",
       "888                               Graham, Miss. Margaret Edith  female  19.0   \n",
       "889                   Johnston, Miss. Catherine Helen \"Carrie\"  female   NaN   \n",
       "890                                      Behr, Mr. Karl Howell    male  26.0   \n",
       "891                                        Dooley, Mr. Patrick    male  32.0   \n",
       "\n",
       "             SibSp  Parch            Ticket     Fare Cabin Embarked  \n",
       "PassengerId                                                          \n",
       "1                1      0         A/5 21171   7.2500   NaN        S  \n",
       "2                1      0          PC 17599  71.2833   C85        C  \n",
       "3                0      0  STON/O2. 3101282   7.9250   NaN        S  \n",
       "4                1      0            113803  53.1000  C123        S  \n",
       "5                0      0            373450   8.0500   NaN        S  \n",
       "...            ...    ...               ...      ...   ...      ...  \n",
       "887              0      0            211536  13.0000   NaN        S  \n",
       "888              0      0            112053  30.0000   B42        S  \n",
       "889              1      2        W./C. 6607  23.4500   NaN        S  \n",
       "890              0      0            111369  30.0000  C148        C  \n",
       "891              0      0            370376   7.7500   NaN        Q  \n",
       "\n",
       "[891 rows x 11 columns]"
      ]
     },
     "execution_count": 2,
     "metadata": {},
     "output_type": "execute_result"
    }
   ],
   "source": [
    "# load data\n",
    "df = pd.read_csv('train.csv', index_col=0)\n",
    "df"
   ]
  },
  {
   "cell_type": "code",
   "execution_count": 3,
   "metadata": {},
   "outputs": [],
   "source": [
    "#pandas_profiling.ProfileReport(df)"
   ]
  },
  {
   "cell_type": "code",
   "execution_count": 4,
   "metadata": {},
   "outputs": [
    {
     "data": {
      "text/plain": [
       "<seaborn.axisgrid.PairGrid at 0x7ffdc8c66520>"
      ]
     },
     "execution_count": 4,
     "metadata": {},
     "output_type": "execute_result"
    }
   ],
   "source": [
    "sns.pairplot(df, hue='Survived')\n",
    "\n",
    "#why 4d, and what do the graphs of both axis same ones mean"
   ]
  },
  {
   "cell_type": "code",
   "execution_count": 5,
   "metadata": {},
   "outputs": [],
   "source": [
    "# split to X, and y\n",
    "X = df.iloc[:,1:]\n",
    "y = df['Survived']\n",
    "\n",
    "#Why iloc[:,1:]?"
   ]
  },
  {
   "cell_type": "code",
   "execution_count": 6,
   "metadata": {},
   "outputs": [
    {
     "name": "stdout",
     "output_type": "stream",
     "text": [
      "<class 'pandas.core.frame.DataFrame'>\n",
      "Int64Index: 891 entries, 1 to 891\n",
      "Data columns (total 11 columns):\n",
      " #   Column    Non-Null Count  Dtype  \n",
      "---  ------    --------------  -----  \n",
      " 0   Survived  891 non-null    int64  \n",
      " 1   Pclass    891 non-null    int64  \n",
      " 2   Name      891 non-null    object \n",
      " 3   Sex       891 non-null    object \n",
      " 4   Age       714 non-null    float64\n",
      " 5   SibSp     891 non-null    int64  \n",
      " 6   Parch     891 non-null    int64  \n",
      " 7   Ticket    891 non-null    object \n",
      " 8   Fare      891 non-null    float64\n",
      " 9   Cabin     204 non-null    object \n",
      " 10  Embarked  889 non-null    object \n",
      "dtypes: float64(2), int64(4), object(5)\n",
      "memory usage: 115.8+ KB\n"
     ]
    }
   ],
   "source": [
    "#missing value check\n",
    "df.info()"
   ]
  },
  {
   "cell_type": "code",
   "execution_count": 7,
   "metadata": {},
   "outputs": [
    {
     "data": {
      "text/plain": [
       "count     889\n",
       "unique      3\n",
       "top         S\n",
       "freq      644\n",
       "Name: Embarked, dtype: object"
      ]
     },
     "execution_count": 7,
     "metadata": {},
     "output_type": "execute_result"
    }
   ],
   "source": [
    "df['Embarked'].describe()"
   ]
  },
  {
   "cell_type": "code",
   "execution_count": 8,
   "metadata": {},
   "outputs": [
    {
     "data": {
      "text/plain": [
       "count         204\n",
       "unique        147\n",
       "top       B96 B98\n",
       "freq            4\n",
       "Name: Cabin, dtype: object"
      ]
     },
     "execution_count": 8,
     "metadata": {},
     "output_type": "execute_result"
    }
   ],
   "source": [
    "df['Cabin'].describe()"
   ]
  },
  {
   "cell_type": "code",
   "execution_count": 9,
   "metadata": {},
   "outputs": [],
   "source": [
    "# feature engineering for numericals\n",
    "numeric_features = ['Age', 'Fare']"
   ]
  },
  {
   "cell_type": "code",
   "execution_count": 10,
   "metadata": {},
   "outputs": [],
   "source": [
    "# create a sequential pipeline \n",
    "# output of one step will be input to the next \n",
    "numeric_transformer = make_pipeline(\n",
    "    SimpleImputer(strategy=\"mean\"), \n",
    "    StandardScaler()\n",
    "    )\n",
    "\n",
    "#Need to deep dive"
   ]
  },
  {
   "cell_type": "code",
   "execution_count": 11,
   "metadata": {},
   "outputs": [],
   "source": [
    "# feature engineering for categorical\n",
    "categorical_features = [\"Embarked\", \"Sex\", \"Pclass\"]"
   ]
  },
  {
   "cell_type": "code",
   "execution_count": 12,
   "metadata": {},
   "outputs": [],
   "source": [
    "# handle unknown means it will ignore nan's if it finds them\n",
    "categorical_transformer = OneHotEncoder(handle_unknown=\"ignore\")\n",
    "\n",
    "#If train data has all the possible categories, even if test data doesn' have all it's no problem. Just a column which has only 0 is created.\n",
    "#If train data doesn't have all the possible categories but the test data has the missing one, the data is ignored and the column is not created as train data isn't\n",
    "\n",
    "#pd.get_dummies only creates columns which are existing cateogories in the test data(even if train data has other categories) \n",
    "#Not sure what would happen if train data has more columns than test data after pd.get_dummies and vice versa"
   ]
  },
  {
   "cell_type": "code",
   "execution_count": 13,
   "metadata": {},
   "outputs": [],
   "source": [
    "# you can also create custom functions\n",
    "def name_length(df):\n",
    "    length = df[df.columns[0]].str.len()\n",
    "    return length.values.reshape(-1, 1)"
   ]
  },
  {
   "cell_type": "code",
   "execution_count": 14,
   "metadata": {},
   "outputs": [],
   "source": [
    "# pre-process transformations\n",
    "preprocessor = ColumnTransformer(\n",
    "    transformers=[\n",
    "        (\"num\", numeric_transformer, numeric_features),\n",
    "        (\"cat\", categorical_transformer, categorical_features),\n",
    "        #('name', FunctionTransformer(name_length), ['Name'])\n",
    "    ],\n",
    "    remainder='drop') \n",
    "\n",
    "#or passthrough. default 'drop'\n",
    "#Why FunctionTransformer() has name_lengh def. How it works?"
   ]
  },
  {
   "cell_type": "code",
   "execution_count": 15,
   "metadata": {},
   "outputs": [],
   "source": [
    "# create the model pipeline\n",
    "pipeline = make_pipeline(preprocessor, LogisticRegression(max_iter=300))"
   ]
  },
  {
   "cell_type": "code",
   "execution_count": 16,
   "metadata": {},
   "outputs": [],
   "source": [
    "# split data to train and test\n",
    "X_train, X_test, y_train, y_test = train_test_split(X, y, test_size=0.4, random_state= 42)\n",
    "\n",
    "#random_state=42 means when I debug code, every time I get exactly same split between train data and test data\n",
    "#Could be any number but same number is same split everytime every people"
   ]
  },
  {
   "cell_type": "code",
   "execution_count": 17,
   "metadata": {},
   "outputs": [
    {
     "data": {
      "text/plain": [
       "Pipeline(steps=[('columntransformer',\n",
       "                 ColumnTransformer(transformers=[('num',\n",
       "                                                  Pipeline(steps=[('simpleimputer',\n",
       "                                                                   SimpleImputer()),\n",
       "                                                                  ('standardscaler',\n",
       "                                                                   StandardScaler())]),\n",
       "                                                  ['Age', 'Fare']),\n",
       "                                                 ('cat',\n",
       "                                                  OneHotEncoder(handle_unknown='ignore'),\n",
       "                                                  ['Embarked', 'Sex',\n",
       "                                                   'Pclass'])])),\n",
       "                ('logisticregression', LogisticRegression(max_iter=300))])"
      ]
     },
     "execution_count": 17,
     "metadata": {},
     "output_type": "execute_result"
    }
   ],
   "source": [
    "# fit the pipeline to training data\n",
    "pipeline.fit(X_train, y_train)"
   ]
  },
  {
   "cell_type": "code",
   "execution_count": 18,
   "metadata": {},
   "outputs": [
    {
     "name": "stdout",
     "output_type": "stream",
     "text": [
      "model score: 0.787\n"
     ]
    }
   ],
   "source": [
    "# calculate the accuracy score from test data\n",
    "print(\"model score: %.3f\" % pipeline.score(X_test, y_test))\n",
    "\n",
    "#e.g. print('%.3f' % 3.14159) prints 3.142"
   ]
  },
  {
   "cell_type": "code",
   "execution_count": 19,
   "metadata": {},
   "outputs": [
    {
     "name": "stdout",
     "output_type": "stream",
     "text": [
      "[0 0 0 1 1 1 1 0 1 1 0 0 1 0 0 1 0 1 0 0 0 0 1 0 0 0 0 0 0 0 0 1 0 0 0 0 0\n",
      " 1 1 0 0 0 0 0 1 0 0 0 0 0 1 1 0 0 0 1 0 1 1 1 0 1 1 0 0 1 0 0 0 1 1 1 1 1\n",
      " 0 0 1 1 1 0 0 1 1 0 0 0 1 1 0 0 0 1 0 0 0 0 0 0 1 0 0 0 1 0 0 0 1 0 0 0 1\n",
      " 0 1 0 0 0 0 0 1 0 0 1 1 0 0 0 1 1 1 0 1 0 0 1 0 1 1 0 0 1 0 1 0 0 1 1 0 0\n",
      " 1 0 0 0 0 1 0 0 0 1 1 1 0 0 0 1 0 0 0 1 0 0 1 1 0 1 0 0 0 1 1 0 0 0 0 1 1\n",
      " 0 0 0 0 1 0 0 0 0 1 1 1 0 1 1 0 0 1 0 0 1 0 0 0 0 1 0 1 0 1 0 1 0 1 0 0 1\n",
      " 0 0 0 1 0 1 1 1 0 1 0 1 0 1 1 1 1 0 0 1 0 1 0 0 0 0 0 0 0 0 0 0 0 0 0 1 0\n",
      " 1 1 0 1 0 0 0 0 0 0 0 1 0 0 0 1 0 0 0 1 0 0 0 1 0 0 0 1 0 0 0 0 0 1 1 0 0\n",
      " 0 0 0 1 0 0 0 0 0 1 0 0 0 0 0 1 0 0 0 1 1 1 0 1 0 0 0 0 1 1 0 1 1 0 0 0 0\n",
      " 0 0 0 1 1 0 0 0 0 0 0 0 0 1 0 0 0 1 0 0 0 0 0 0]\n"
     ]
    }
   ],
   "source": [
    "# get predictions from the pipeline\n",
    "print(pipeline.predict(X_test))"
   ]
  },
  {
   "cell_type": "code",
   "execution_count": 20,
   "metadata": {},
   "outputs": [
    {
     "name": "stdout",
     "output_type": "stream",
     "text": [
      "[0.15272219 0.25514263 0.08916494 0.88642452 0.75945853 0.86780248\n",
      " 0.66954122 0.09822824 0.73151455 0.87499229 0.28131519 0.0542283\n",
      " 0.50727335 0.14888294 0.23532435 0.88449127 0.25915029 0.66957186\n",
      " 0.27332686 0.23815041 0.08217803 0.28547248 0.55665993 0.08934971\n",
      " 0.07450952 0.1124484  0.43917038 0.25597423 0.12650876 0.49001281\n",
      " 0.09098827 0.5400496  0.49990133 0.49944221 0.0928721  0.15924499\n",
      " 0.31690293 0.66954122 0.92508265 0.07371716 0.32338893 0.07404931\n",
      " 0.07373557 0.13904954 0.61398727 0.10079369 0.09102624 0.08405432\n",
      " 0.08206655 0.37841083 0.79647527 0.79043405 0.06094507 0.43998151\n",
      " 0.06788883 0.88709915 0.25092826 0.92027746 0.8001314  0.71822083\n",
      " 0.08734965 0.86704046 0.82519396 0.30716198 0.13904954 0.706451\n",
      " 0.32338893 0.07414878 0.18946153 0.89144567 0.83153378 0.96028948\n",
      " 0.51789787 0.917133   0.08386998 0.06493047 0.66351655 0.93844106\n",
      " 0.7868825  0.43996051 0.10163869 0.81795341 0.92211861 0.13904692\n",
      " 0.35523874 0.28952983 0.93308383 0.92816473 0.25863257 0.07364009\n",
      " 0.11339025 0.62047008 0.18102451 0.13904519 0.07371716 0.07569159\n",
      " 0.23412849 0.05309601 0.79426537 0.07727161 0.16975477 0.0653914\n",
      " 0.94602854 0.06141259 0.07190553 0.08049619 0.78702747 0.23389429\n",
      " 0.0728241  0.44058304 0.85339587 0.0881687  0.93283321 0.27637191\n",
      " 0.38438479 0.08943807 0.28421817 0.40756982 0.84435202 0.4079025\n",
      " 0.29085388 0.9274453  0.74175224 0.40943434 0.08042827 0.46627909\n",
      " 0.7818179  0.55038875 0.69307452 0.08738799 0.6695912  0.15272219\n",
      " 0.25894214 0.63363974 0.40272141 0.75639811 0.93518016 0.07413678\n",
      " 0.05651484 0.56643113 0.08744145 0.76766613 0.26892058 0.23540215\n",
      " 0.62874774 0.80682662 0.2602439  0.13566324 0.93885644 0.05538332\n",
      " 0.15124991 0.08212529 0.09283467 0.67585455 0.07373557 0.07361624\n",
      " 0.07973383 0.66955573 0.79795479 0.6590602  0.16819873 0.30739458\n",
      " 0.22350093 0.93206966 0.13919786 0.32255146 0.29049338 0.85336579\n",
      " 0.0856049  0.06538339 0.54905186 0.85222852 0.27640688 0.78043486\n",
      " 0.09462908 0.15091633 0.46135462 0.85447187 0.64050307 0.2367666\n",
      " 0.29139512 0.06969101 0.07887122 0.63609077 0.6216467  0.238168\n",
      " 0.45215184 0.07371716 0.31073625 0.77154307 0.06584941 0.24733775\n",
      " 0.09461848 0.07434407 0.7429568  0.8455979  0.93575997 0.24344361\n",
      " 0.88535434 0.60991351 0.03765066 0.4959393  0.882946   0.32072382\n",
      " 0.17940178 0.69600495 0.07434206 0.31030845 0.15254411 0.04776203\n",
      " 0.59065403 0.07255892 0.92078576 0.13904431 0.50727335 0.1301623\n",
      " 0.83559734 0.39389873 0.83463431 0.07364009 0.07371716 0.83457463\n",
      " 0.09467924 0.30886693 0.08040241 0.8349364  0.08555359 0.5096705\n",
      " 0.8376889  0.5179068  0.24602907 0.95765859 0.13904954 0.69037921\n",
      " 0.07380875 0.54006046 0.82994038 0.56301074 0.93018548 0.28092432\n",
      " 0.08985286 0.7755248  0.15091633 0.55149998 0.13644859 0.07589316\n",
      " 0.07373557 0.08387557 0.08551655 0.21216462 0.49760573 0.23741472\n",
      " 0.13904954 0.17293021 0.25218778 0.07715689 0.08562601 0.78962514\n",
      " 0.23453868 0.8219542  0.89070576 0.4182662  0.7793083  0.07736724\n",
      " 0.29760061 0.16676887 0.09485965 0.31352512 0.46211204 0.07371716\n",
      " 0.65355622 0.23999677 0.21225212 0.31329381 0.81539973 0.07416979\n",
      " 0.09290894 0.44510345 0.92074347 0.22350093 0.07897396 0.08904077\n",
      " 0.8703717  0.04813739 0.47992178 0.1364983  0.6695912  0.07559584\n",
      " 0.39653219 0.12330455 0.09095273 0.11172024 0.80960574 0.69336734\n",
      " 0.08737056 0.21095634 0.14067969 0.4803704  0.16225306 0.54125097\n",
      " 0.49555019 0.41632406 0.31910204 0.28591924 0.09669794 0.53454574\n",
      " 0.06185219 0.40489836 0.1828414  0.28681253 0.31619215 0.82714069\n",
      " 0.4445907  0.06149789 0.0542283  0.84302681 0.53285156 0.75969829\n",
      " 0.37457774 0.62152057 0.31054904 0.06970518 0.22742289 0.08735313\n",
      " 0.73774727 0.53458237 0.06968299 0.66954122 0.55709801 0.13904954\n",
      " 0.16357009 0.19640484 0.49444659 0.28227329 0.17406112 0.32130973\n",
      " 0.8928652  0.77742229 0.14090801 0.17735451 0.09857726 0.08918269\n",
      " 0.1153137  0.07374303 0.13906612 0.07371716 0.88370681 0.0788765\n",
      " 0.35423551 0.07973383 0.90452132 0.08916494 0.07584261 0.32368115\n",
      " 0.44046981 0.09485965 0.28112229]\n"
     ]
    }
   ],
   "source": [
    "# get prediction probabilities from the pipeline \n",
    "print(pipeline.predict_proba(X_test)[:, 1])"
   ]
  }
 ],
 "metadata": {
  "interpreter": {
   "hash": "40d3a090f54c6569ab1632332b64b2c03c39dcf918b08424e98f38b5ae0af88f"
  },
  "kernelspec": {
   "display_name": "Python 3.8.5 64-bit ('base': conda)",
   "name": "python3"
  },
  "language_info": {
   "codemirror_mode": {
    "name": "ipython",
    "version": 3
   },
   "file_extension": ".py",
   "mimetype": "text/x-python",
   "name": "python",
   "nbconvert_exporter": "python",
   "pygments_lexer": "ipython3",
   "version": "3.8.5"
  },
  "orig_nbformat": 4
 },
 "nbformat": 4,
 "nbformat_minor": 2
}
