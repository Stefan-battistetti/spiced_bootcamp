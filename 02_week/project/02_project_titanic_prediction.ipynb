{
 "cells": [
  {
   "cell_type": "markdown",
   "id": "82ae940a",
   "metadata": {},
   "source": [
    "# Define Business Goal"
   ]
  },
  {
   "cell_type": "markdown",
   "id": "6043b21b",
   "metadata": {},
   "source": [
    "In this project, you will use a machine learning model to predict passenger survival on the Titanic."
   ]
  },
  {
   "cell_type": "markdown",
   "id": "2cbf7d6f",
   "metadata": {},
   "source": [
    "# Get Data & Exploring Titanic Dataset"
   ]
  },
  {
   "cell_type": "markdown",
   "id": "54b6530e",
   "metadata": {},
   "source": [
    "I try to understand the data better in order to adjust my feature engineering in the Training section of this Notebook"
   ]
  },
  {
   "cell_type": "code",
   "execution_count": 4,
   "id": "252d97e1",
   "metadata": {},
   "outputs": [
    {
     "name": "stdout",
     "output_type": "stream",
     "text": [
      "/Users/oguzhanbekar/OneDrive/Spiced/euclidean-eukalyptus-student-code/02_week\n"
     ]
    }
   ],
   "source": [
    "cd .."
   ]
  },
  {
   "cell_type": "code",
   "execution_count": 2,
   "id": "81b8a343",
   "metadata": {},
   "outputs": [],
   "source": [
    "import pandas as pd\n",
    "import numpy as np\n",
    "import seaborn as sns\n",
    "import matplotlib.pyplot as plt\n",
    "\n",
    "from sklearn.linear_model import LogisticRegression\n",
    "from sklearn.model_selection import train_test_split\n",
    "from sklearn.preprocessing import KBinsDiscretizer,FunctionTransformer,MinMaxScaler,OneHotEncoder,StandardScaler\n",
    "from sklearn.pipeline import make_pipeline,Pipeline\n",
    "from sklearn.impute import SimpleImputer\n",
    "from sklearn.compose import ColumnTransformer\n",
    "from sklearn.ensemble import RandomForestClassifier  \n",
    "from sklearn.metrics import roc_curve, roc_auc_score"
   ]
  },
  {
   "cell_type": "code",
   "execution_count": 5,
   "id": "b839e1d6",
   "metadata": {},
   "outputs": [],
   "source": [
    "df = pd.read_csv('data/train.csv',index_col=0)"
   ]
  },
  {
   "cell_type": "code",
   "execution_count": 6,
   "id": "2c7a4b94",
   "metadata": {},
   "outputs": [],
   "source": [
    "del df['Ticket']"
   ]
  },
  {
   "cell_type": "code",
   "execution_count": 7,
   "id": "c5798640",
   "metadata": {
    "scrolled": false
   },
   "outputs": [
    {
     "data": {
      "text/html": [
       "<div>\n",
       "<style scoped>\n",
       "    .dataframe tbody tr th:only-of-type {\n",
       "        vertical-align: middle;\n",
       "    }\n",
       "\n",
       "    .dataframe tbody tr th {\n",
       "        vertical-align: top;\n",
       "    }\n",
       "\n",
       "    .dataframe thead th {\n",
       "        text-align: right;\n",
       "    }\n",
       "</style>\n",
       "<table border=\"1\" class=\"dataframe\">\n",
       "  <thead>\n",
       "    <tr style=\"text-align: right;\">\n",
       "      <th></th>\n",
       "      <th>Survived</th>\n",
       "      <th>Pclass</th>\n",
       "      <th>Name</th>\n",
       "      <th>Sex</th>\n",
       "      <th>Age</th>\n",
       "      <th>SibSp</th>\n",
       "      <th>Parch</th>\n",
       "      <th>Fare</th>\n",
       "      <th>Cabin</th>\n",
       "      <th>Embarked</th>\n",
       "    </tr>\n",
       "    <tr>\n",
       "      <th>PassengerId</th>\n",
       "      <th></th>\n",
       "      <th></th>\n",
       "      <th></th>\n",
       "      <th></th>\n",
       "      <th></th>\n",
       "      <th></th>\n",
       "      <th></th>\n",
       "      <th></th>\n",
       "      <th></th>\n",
       "      <th></th>\n",
       "    </tr>\n",
       "  </thead>\n",
       "  <tbody>\n",
       "    <tr>\n",
       "      <th>1</th>\n",
       "      <td>0</td>\n",
       "      <td>3</td>\n",
       "      <td>Braund, Mr. Owen Harris</td>\n",
       "      <td>male</td>\n",
       "      <td>22.0</td>\n",
       "      <td>1</td>\n",
       "      <td>0</td>\n",
       "      <td>7.2500</td>\n",
       "      <td>NaN</td>\n",
       "      <td>S</td>\n",
       "    </tr>\n",
       "    <tr>\n",
       "      <th>2</th>\n",
       "      <td>1</td>\n",
       "      <td>1</td>\n",
       "      <td>Cumings, Mrs. John Bradley (Florence Briggs Th...</td>\n",
       "      <td>female</td>\n",
       "      <td>38.0</td>\n",
       "      <td>1</td>\n",
       "      <td>0</td>\n",
       "      <td>71.2833</td>\n",
       "      <td>C85</td>\n",
       "      <td>C</td>\n",
       "    </tr>\n",
       "    <tr>\n",
       "      <th>3</th>\n",
       "      <td>1</td>\n",
       "      <td>3</td>\n",
       "      <td>Heikkinen, Miss. Laina</td>\n",
       "      <td>female</td>\n",
       "      <td>26.0</td>\n",
       "      <td>0</td>\n",
       "      <td>0</td>\n",
       "      <td>7.9250</td>\n",
       "      <td>NaN</td>\n",
       "      <td>S</td>\n",
       "    </tr>\n",
       "    <tr>\n",
       "      <th>4</th>\n",
       "      <td>1</td>\n",
       "      <td>1</td>\n",
       "      <td>Futrelle, Mrs. Jacques Heath (Lily May Peel)</td>\n",
       "      <td>female</td>\n",
       "      <td>35.0</td>\n",
       "      <td>1</td>\n",
       "      <td>0</td>\n",
       "      <td>53.1000</td>\n",
       "      <td>C123</td>\n",
       "      <td>S</td>\n",
       "    </tr>\n",
       "    <tr>\n",
       "      <th>5</th>\n",
       "      <td>0</td>\n",
       "      <td>3</td>\n",
       "      <td>Allen, Mr. William Henry</td>\n",
       "      <td>male</td>\n",
       "      <td>35.0</td>\n",
       "      <td>0</td>\n",
       "      <td>0</td>\n",
       "      <td>8.0500</td>\n",
       "      <td>NaN</td>\n",
       "      <td>S</td>\n",
       "    </tr>\n",
       "  </tbody>\n",
       "</table>\n",
       "</div>"
      ],
      "text/plain": [
       "             Survived  Pclass  \\\n",
       "PassengerId                     \n",
       "1                   0       3   \n",
       "2                   1       1   \n",
       "3                   1       3   \n",
       "4                   1       1   \n",
       "5                   0       3   \n",
       "\n",
       "                                                          Name     Sex   Age  \\\n",
       "PassengerId                                                                    \n",
       "1                                      Braund, Mr. Owen Harris    male  22.0   \n",
       "2            Cumings, Mrs. John Bradley (Florence Briggs Th...  female  38.0   \n",
       "3                                       Heikkinen, Miss. Laina  female  26.0   \n",
       "4                 Futrelle, Mrs. Jacques Heath (Lily May Peel)  female  35.0   \n",
       "5                                     Allen, Mr. William Henry    male  35.0   \n",
       "\n",
       "             SibSp  Parch     Fare Cabin Embarked  \n",
       "PassengerId                                        \n",
       "1                1      0   7.2500   NaN        S  \n",
       "2                1      0  71.2833   C85        C  \n",
       "3                0      0   7.9250   NaN        S  \n",
       "4                1      0  53.1000  C123        S  \n",
       "5                0      0   8.0500   NaN        S  "
      ]
     },
     "execution_count": 7,
     "metadata": {},
     "output_type": "execute_result"
    }
   ],
   "source": [
    "df.head()"
   ]
  },
  {
   "cell_type": "code",
   "execution_count": 8,
   "id": "ade3fec5",
   "metadata": {},
   "outputs": [
    {
     "data": {
      "text/plain": [
       "0.6296296296296297"
      ]
     },
     "execution_count": 8,
     "metadata": {},
     "output_type": "execute_result"
    }
   ],
   "source": [
    "len(df[(df['Pclass']==1)&(df['Survived']==1)])/len(df[df['Pclass']==1])"
   ]
  },
  {
   "cell_type": "code",
   "execution_count": null,
   "id": "3d4069de",
   "metadata": {},
   "outputs": [],
   "source": [
    "sns.countplot(x=df['Pclass'],hue=df['Sex'])"
   ]
  },
  {
   "cell_type": "code",
   "execution_count": null,
   "id": "0169c56d",
   "metadata": {},
   "outputs": [],
   "source": [
    "sns.histplot(x=df['Fare'],bins=25)"
   ]
  },
  {
   "cell_type": "code",
   "execution_count": null,
   "id": "5662f84b",
   "metadata": {},
   "outputs": [],
   "source": [
    "df['SibSp'].value_counts()"
   ]
  },
  {
   "cell_type": "code",
   "execution_count": null,
   "id": "575bf5d7",
   "metadata": {},
   "outputs": [],
   "source": [
    "df[['SibSp', 'Survived']].groupby('SibSp', as_index = False).mean().sort_values(by = 'Survived', ascending = False)\n"
   ]
  },
  {
   "cell_type": "code",
   "execution_count": null,
   "id": "47dbfcbb",
   "metadata": {
    "scrolled": true
   },
   "outputs": [],
   "source": [
    "sns.heatmap(data=df[['Survived','Age','SibSp','Fare']].corr(),annot = True, fmt = '.2f', cmap = 'coolwarm')"
   ]
  },
  {
   "cell_type": "code",
   "execution_count": null,
   "id": "8887719c",
   "metadata": {
    "scrolled": false
   },
   "outputs": [],
   "source": [
    "# Create a table counting the number of surviving/dead passengers separately for 1st/2nd/3rd class and male/female.\n",
    "grouped_class = df.groupby(['Survived','Pclass']).size().reset_index(name='counts')\n",
    "\n"
   ]
  },
  {
   "cell_type": "code",
   "execution_count": null,
   "id": "041bd46e",
   "metadata": {},
   "outputs": [],
   "source": [
    "df['Cabin']"
   ]
  },
  {
   "cell_type": "code",
   "execution_count": null,
   "id": "ef9f606c",
   "metadata": {},
   "outputs": [],
   "source": [
    "sns.pairplot(df)"
   ]
  },
  {
   "cell_type": "markdown",
   "id": "9eca0443",
   "metadata": {},
   "source": [
    "### Will do this calculation later"
   ]
  },
  {
   "cell_type": "code",
   "execution_count": 9,
   "id": "0a5a70d7",
   "metadata": {},
   "outputs": [],
   "source": [
    "cols = df['Cabin'].str"
   ]
  },
  {
   "cell_type": "code",
   "execution_count": 10,
   "id": "ab9d34a7",
   "metadata": {},
   "outputs": [],
   "source": [
    "b = '2'"
   ]
  },
  {
   "cell_type": "code",
   "execution_count": null,
   "id": "fd89013b",
   "metadata": {},
   "outputs": [],
   "source": [
    "isinstance(int(b), int) # True\n"
   ]
  },
  {
   "cell_type": "code",
   "execution_count": null,
   "id": "7053e375",
   "metadata": {},
   "outputs": [],
   "source": [
    "i = 0\n",
    "row = []\n",
    "\n",
    "for i in cols[i]:\n",
    "    if isinstance(int(cols[i]), str):\n",
    "        \n",
    "    i += 1"
   ]
  },
  {
   "cell_type": "code",
   "execution_count": null,
   "id": "4de4c5f7",
   "metadata": {},
   "outputs": [],
   "source": [
    "df.head()"
   ]
  },
  {
   "cell_type": "code",
   "execution_count": null,
   "id": "0c4fc1b1",
   "metadata": {},
   "outputs": [],
   "source": [
    "sns.countplot(data=df,x='cabin_two',hue='Survived')"
   ]
  },
  {
   "cell_type": "code",
   "execution_count": null,
   "id": "29cbb2a7",
   "metadata": {},
   "outputs": [],
   "source": [
    "sns.histplot(data=df,x='Age',y='Survived',bins=10)"
   ]
  },
  {
   "cell_type": "code",
   "execution_count": null,
   "id": "21ee19a7",
   "metadata": {},
   "outputs": [],
   "source": [
    "df['Cabin'].nunique"
   ]
  },
  {
   "cell_type": "markdown",
   "id": "84143f84",
   "metadata": {},
   "source": [
    "# Define X and y"
   ]
  },
  {
   "cell_type": "markdown",
   "id": "48cb09cb",
   "metadata": {},
   "source": [
    "### With company or not "
   ]
  },
  {
   "cell_type": "code",
   "execution_count": 11,
   "id": "e55c4976",
   "metadata": {},
   "outputs": [],
   "source": [
    "df['SibParch'] = df['SibSp'] + df['Parch']"
   ]
  },
  {
   "cell_type": "code",
   "execution_count": 12,
   "id": "add724fb",
   "metadata": {},
   "outputs": [
    {
     "data": {
      "text/plain": [
       "array([ 1,  0,  4,  2,  6,  5,  3,  7, 10])"
      ]
     },
     "execution_count": 12,
     "metadata": {},
     "output_type": "execute_result"
    }
   ],
   "source": [
    "df['SibParch'].unique()"
   ]
  },
  {
   "cell_type": "code",
   "execution_count": 13,
   "id": "d6ba124e",
   "metadata": {},
   "outputs": [],
   "source": [
    "df['SibParch'] = df['SibParch'].replace([2],[1])\n",
    "df['SibParch'] = df['SibParch'].replace([3],[1])\n",
    "df['SibParch'] = df['SibParch'].replace([4],[1])\n",
    "df['SibParch'] = df['SibParch'].replace([5],[1])\n",
    "df['SibParch'] = df['SibParch'].replace([6],[1])\n",
    "df['SibParch'] = df['SibParch'].replace([7],[1])\n",
    "df['SibParch'] = df['SibParch'].replace([10],[1])\n"
   ]
  },
  {
   "cell_type": "markdown",
   "id": "ecaed9bc",
   "metadata": {},
   "source": [
    "### Cabin Letter creation"
   ]
  },
  {
   "cell_type": "code",
   "execution_count": 14,
   "id": "8255e683",
   "metadata": {},
   "outputs": [],
   "source": [
    "df['cabin_letter'] = df['Cabin'].str[0]"
   ]
  },
  {
   "cell_type": "code",
   "execution_count": 15,
   "id": "f6cd7d27",
   "metadata": {},
   "outputs": [],
   "source": [
    "del df['Cabin']"
   ]
  },
  {
   "cell_type": "code",
   "execution_count": 16,
   "id": "767fa772",
   "metadata": {
    "scrolled": true
   },
   "outputs": [
    {
     "data": {
      "text/plain": [
       "687"
      ]
     },
     "execution_count": 16,
     "metadata": {},
     "output_type": "execute_result"
    }
   ],
   "source": [
    "df['cabin_letter'].isnull().sum()"
   ]
  },
  {
   "cell_type": "code",
   "execution_count": 17,
   "id": "d959913a",
   "metadata": {},
   "outputs": [],
   "source": [
    "del df['Parch']"
   ]
  },
  {
   "cell_type": "code",
   "execution_count": 18,
   "id": "c81d7b1d",
   "metadata": {},
   "outputs": [
    {
     "data": {
      "text/plain": [
       "str"
      ]
     },
     "execution_count": 18,
     "metadata": {},
     "output_type": "execute_result"
    }
   ],
   "source": [
    "type(df.iloc[3,3])"
   ]
  },
  {
   "cell_type": "code",
   "execution_count": 19,
   "id": "4824ff83",
   "metadata": {},
   "outputs": [
    {
     "data": {
      "text/plain": [
       "numpy.int64"
      ]
     },
     "execution_count": 19,
     "metadata": {},
     "output_type": "execute_result"
    }
   ],
   "source": [
    "type(df.iloc[3,-2])"
   ]
  },
  {
   "cell_type": "code",
   "execution_count": 20,
   "id": "bb87590b",
   "metadata": {},
   "outputs": [],
   "source": [
    "# split to X, and y\n",
    "X = df.iloc[:,1:]\n",
    "y = df['Survived']\n",
    "\n"
   ]
  },
  {
   "cell_type": "code",
   "execution_count": 21,
   "id": "83dd10d9",
   "metadata": {},
   "outputs": [],
   "source": [
    "mode = df['Embarked'].dropna().mode()[0]\n",
    "df['Embarked'].fillna(mode, inplace = True)\n"
   ]
  },
  {
   "cell_type": "markdown",
   "id": "2aa883ea",
   "metadata": {},
   "source": [
    "### Transformer"
   ]
  },
  {
   "cell_type": "code",
   "execution_count": 22,
   "id": "32a16f2b",
   "metadata": {},
   "outputs": [],
   "source": [
    "# feature engineering for numericals\n",
    "age_feature = [\"Age\"]\n",
    "\n",
    "# create a sequential pipeline \n",
    "# output of one step will be input to the next \n",
    "age_transformer = make_pipeline(\n",
    "    SimpleImputer(strategy=\"mean\"), \n",
    "    StandardScaler()    \n",
    ")\n",
    "\n",
    "# feature engineering for numericals\n",
    "fare_feature = [ \"Fare\"]\n",
    "\n",
    "# create a sequential pipeline \n",
    "# output of one step will be input to the next \n",
    "fare_transformer = make_pipeline(\n",
    "    SimpleImputer(strategy=\"mean\"), \n",
    "    MinMaxScaler()\n",
    "    )"
   ]
  },
  {
   "cell_type": "code",
   "execution_count": 23,
   "id": "cc1316ce",
   "metadata": {},
   "outputs": [],
   "source": [
    "# feature engineering for categorical\n",
    "categorical_features = [\"Embarked\", \"Sex\", \"Pclass\", \"cabin_letter\",\"SibParch\"]\n",
    "\n",
    "# handle unknown means it will ignore nan's if it finds them\n",
    "categorical_transformer = OneHotEncoder(handle_unknown=\"ignore\")"
   ]
  },
  {
   "cell_type": "code",
   "execution_count": 24,
   "id": "0663eb8d",
   "metadata": {},
   "outputs": [],
   "source": [
    "def name_length(df):\n",
    "    length = df[df.columns[0]].str.len()\n",
    "    return length.values.reshape(-1, 1)\n"
   ]
  },
  {
   "cell_type": "code",
   "execution_count": 25,
   "id": "83c3788f",
   "metadata": {},
   "outputs": [
    {
     "data": {
      "text/html": [
       "<div>\n",
       "<style scoped>\n",
       "    .dataframe tbody tr th:only-of-type {\n",
       "        vertical-align: middle;\n",
       "    }\n",
       "\n",
       "    .dataframe tbody tr th {\n",
       "        vertical-align: top;\n",
       "    }\n",
       "\n",
       "    .dataframe thead th {\n",
       "        text-align: right;\n",
       "    }\n",
       "</style>\n",
       "<table border=\"1\" class=\"dataframe\">\n",
       "  <thead>\n",
       "    <tr style=\"text-align: right;\">\n",
       "      <th></th>\n",
       "      <th>Survived</th>\n",
       "      <th>Pclass</th>\n",
       "      <th>Name</th>\n",
       "      <th>Sex</th>\n",
       "      <th>Age</th>\n",
       "      <th>SibSp</th>\n",
       "      <th>Fare</th>\n",
       "      <th>Embarked</th>\n",
       "      <th>SibParch</th>\n",
       "      <th>cabin_letter</th>\n",
       "    </tr>\n",
       "    <tr>\n",
       "      <th>PassengerId</th>\n",
       "      <th></th>\n",
       "      <th></th>\n",
       "      <th></th>\n",
       "      <th></th>\n",
       "      <th></th>\n",
       "      <th></th>\n",
       "      <th></th>\n",
       "      <th></th>\n",
       "      <th></th>\n",
       "      <th></th>\n",
       "    </tr>\n",
       "  </thead>\n",
       "  <tbody>\n",
       "    <tr>\n",
       "      <th>1</th>\n",
       "      <td>0</td>\n",
       "      <td>3</td>\n",
       "      <td>Braund, Mr. Owen Harris</td>\n",
       "      <td>male</td>\n",
       "      <td>22.0</td>\n",
       "      <td>1</td>\n",
       "      <td>7.2500</td>\n",
       "      <td>S</td>\n",
       "      <td>1</td>\n",
       "      <td>NaN</td>\n",
       "    </tr>\n",
       "    <tr>\n",
       "      <th>2</th>\n",
       "      <td>1</td>\n",
       "      <td>1</td>\n",
       "      <td>Cumings, Mrs. John Bradley (Florence Briggs Th...</td>\n",
       "      <td>female</td>\n",
       "      <td>38.0</td>\n",
       "      <td>1</td>\n",
       "      <td>71.2833</td>\n",
       "      <td>C</td>\n",
       "      <td>1</td>\n",
       "      <td>C</td>\n",
       "    </tr>\n",
       "    <tr>\n",
       "      <th>3</th>\n",
       "      <td>1</td>\n",
       "      <td>3</td>\n",
       "      <td>Heikkinen, Miss. Laina</td>\n",
       "      <td>female</td>\n",
       "      <td>26.0</td>\n",
       "      <td>0</td>\n",
       "      <td>7.9250</td>\n",
       "      <td>S</td>\n",
       "      <td>0</td>\n",
       "      <td>NaN</td>\n",
       "    </tr>\n",
       "    <tr>\n",
       "      <th>4</th>\n",
       "      <td>1</td>\n",
       "      <td>1</td>\n",
       "      <td>Futrelle, Mrs. Jacques Heath (Lily May Peel)</td>\n",
       "      <td>female</td>\n",
       "      <td>35.0</td>\n",
       "      <td>1</td>\n",
       "      <td>53.1000</td>\n",
       "      <td>S</td>\n",
       "      <td>1</td>\n",
       "      <td>C</td>\n",
       "    </tr>\n",
       "    <tr>\n",
       "      <th>5</th>\n",
       "      <td>0</td>\n",
       "      <td>3</td>\n",
       "      <td>Allen, Mr. William Henry</td>\n",
       "      <td>male</td>\n",
       "      <td>35.0</td>\n",
       "      <td>0</td>\n",
       "      <td>8.0500</td>\n",
       "      <td>S</td>\n",
       "      <td>0</td>\n",
       "      <td>NaN</td>\n",
       "    </tr>\n",
       "  </tbody>\n",
       "</table>\n",
       "</div>"
      ],
      "text/plain": [
       "             Survived  Pclass  \\\n",
       "PassengerId                     \n",
       "1                   0       3   \n",
       "2                   1       1   \n",
       "3                   1       3   \n",
       "4                   1       1   \n",
       "5                   0       3   \n",
       "\n",
       "                                                          Name     Sex   Age  \\\n",
       "PassengerId                                                                    \n",
       "1                                      Braund, Mr. Owen Harris    male  22.0   \n",
       "2            Cumings, Mrs. John Bradley (Florence Briggs Th...  female  38.0   \n",
       "3                                       Heikkinen, Miss. Laina  female  26.0   \n",
       "4                 Futrelle, Mrs. Jacques Heath (Lily May Peel)  female  35.0   \n",
       "5                                     Allen, Mr. William Henry    male  35.0   \n",
       "\n",
       "             SibSp     Fare Embarked  SibParch cabin_letter  \n",
       "PassengerId                                                  \n",
       "1                1   7.2500        S         1          NaN  \n",
       "2                1  71.2833        C         1            C  \n",
       "3                0   7.9250        S         0          NaN  \n",
       "4                1  53.1000        S         1            C  \n",
       "5                0   8.0500        S         0          NaN  "
      ]
     },
     "execution_count": 25,
     "metadata": {},
     "output_type": "execute_result"
    }
   ],
   "source": [
    "df.head()"
   ]
  },
  {
   "cell_type": "code",
   "execution_count": 26,
   "id": "a676baf4",
   "metadata": {},
   "outputs": [],
   "source": [
    "preprocessor = ColumnTransformer(\n",
    "    transformers=[\n",
    "        (\"age\", age_transformer, age_feature),\n",
    "        (\"fare\", fare_transformer, fare_feature),\n",
    "        (\"cat\", categorical_transformer, categorical_features),\n",
    "        ('name', FunctionTransformer(name_length), ['Name']),\n",
    "#         ('do nothing','passthrough',['Name'])\n",
    "    ],\n",
    "    \n",
    ")\n"
   ]
  },
  {
   "cell_type": "markdown",
   "id": "41819ff3",
   "metadata": {},
   "source": [
    "### Pipelines"
   ]
  },
  {
   "cell_type": "code",
   "execution_count": 27,
   "id": "b0befe98",
   "metadata": {},
   "outputs": [],
   "source": [
    "# create the model pipeline\n",
    "pipeline = make_pipeline(preprocessor, LogisticRegression(max_iter=300))\n",
    "pipeline_rf = make_pipeline(preprocessor, RandomForestClassifier(n_estimators=70,max_depth=2))"
   ]
  },
  {
   "cell_type": "markdown",
   "id": "fb71f77f",
   "metadata": {},
   "source": [
    "### Split train and test data"
   ]
  },
  {
   "cell_type": "code",
   "execution_count": 28,
   "id": "0daf4dbd",
   "metadata": {},
   "outputs": [],
   "source": [
    "X_train, X_test, y_train, y_test = train_test_split(X, y, test_size=0.25)"
   ]
  },
  {
   "cell_type": "code",
   "execution_count": 29,
   "id": "2dfb0b07",
   "metadata": {
    "scrolled": true
   },
   "outputs": [
    {
     "data": {
      "text/plain": [
       "Pipeline(steps=[('columntransformer',\n",
       "                 ColumnTransformer(transformers=[('age',\n",
       "                                                  Pipeline(steps=[('simpleimputer',\n",
       "                                                                   SimpleImputer()),\n",
       "                                                                  ('standardscaler',\n",
       "                                                                   StandardScaler())]),\n",
       "                                                  ['Age']),\n",
       "                                                 ('fare',\n",
       "                                                  Pipeline(steps=[('simpleimputer',\n",
       "                                                                   SimpleImputer()),\n",
       "                                                                  ('minmaxscaler',\n",
       "                                                                   MinMaxScaler())]),\n",
       "                                                  ['Fare']),\n",
       "                                                 ('cat',\n",
       "                                                  OneHotEncoder(handle_unknown='ignore'),\n",
       "                                                  ['Embarked', 'Sex', 'Pclass',\n",
       "                                                   'cabin_letter',\n",
       "                                                   'SibParch']),\n",
       "                                                 ('name',\n",
       "                                                  FunctionTransformer(func=<function name_length at 0x7fcd73510ca0>),\n",
       "                                                  ['Name'])])),\n",
       "                ('randomforestclassifier',\n",
       "                 RandomForestClassifier(max_depth=2, n_estimators=70))])"
      ]
     },
     "execution_count": 29,
     "metadata": {},
     "output_type": "execute_result"
    }
   ],
   "source": [
    "# fit the pipeline to training data\n",
    "pipeline.fit(X_train, y_train)\n",
    "pipeline_rf.fit(X_train,y_train)"
   ]
  },
  {
   "cell_type": "code",
   "execution_count": 30,
   "id": "25c00ba0",
   "metadata": {
    "scrolled": true
   },
   "outputs": [
    {
     "data": {
      "text/plain": [
       "(0.8188622754491018, 0.7799401197604791)"
      ]
     },
     "execution_count": 30,
     "metadata": {},
     "output_type": "execute_result"
    }
   ],
   "source": [
    "pipeline.score(X_train,y_train),pipeline_rf.score(X_train,y_train)"
   ]
  },
  {
   "cell_type": "code",
   "execution_count": 31,
   "id": "e6c1f3a4",
   "metadata": {
    "scrolled": true
   },
   "outputs": [
    {
     "name": "stdout",
     "output_type": "stream",
     "text": [
      "LogReg model score: 0.819\n",
      "model score: 0.780\n",
      "model score: 0.803\n",
      "model score: 0.731\n",
      "[0 1 1 0 0 0 0 0 0 1 0 0 0 0 1 1 0 0 1 0 1 0 0 0 0 0 0 0 0 0 1 1 0 0 0 0 0\n",
      " 0 1 0 0 1 1 1 0 1 0 1 1 0 1 1 1 1 0 1 0 0 1 0 1 0 1 1 0 1 1 0 0 1 1 1 0 1\n",
      " 0 0 0 1 0 1 1 1 1 1 0 1 0 0 0 0 1 0 0 1 0 0 0 0 0 0 0 0 0 0 0 0 0 0 0 0 0\n",
      " 0 1 0 1 0 0 0 1 0 0 1 1 0 1 0 0 1 0 0 0 0 0 0 0 0 0 0 0 1 0 1 1 0 0 1 1 0\n",
      " 0 1 1 1 0 0 0 0 1 0 0 0 0 0 0 0 0 0 0 1 0 1 0 0 0 0 0 0 1 1 0 1 0 0 0 1 1\n",
      " 1 0 1 0 0 0 1 1 1 1 1 1 1 0 0 0 1 0 0 0 1 0 0 0 0 0 1 0 1 1 1 1 0 0 0 0 0\n",
      " 0]\n",
      "[0 1 1 0 0 0 0 0 0 0 0 0 0 0 0 1 0 0 0 0 1 0 0 0 0 0 0 0 0 0 1 1 0 0 0 0 1\n",
      " 0 1 0 0 1 0 0 0 1 0 1 1 0 1 1 1 1 1 1 0 0 1 0 0 0 1 1 0 1 1 1 0 1 1 0 0 1\n",
      " 0 0 0 1 0 0 1 1 0 1 0 1 0 0 0 0 0 0 0 1 0 0 0 0 0 0 1 0 0 0 0 0 0 0 0 0 0\n",
      " 0 1 0 0 0 0 0 1 0 0 1 1 0 1 0 0 1 0 0 0 0 0 0 0 0 0 0 0 1 0 1 1 0 0 1 1 0\n",
      " 0 1 1 1 0 0 0 0 1 0 0 0 0 0 0 0 0 0 0 1 0 0 0 0 0 0 0 0 1 1 0 1 0 0 0 1 1\n",
      " 0 0 0 0 0 0 0 1 0 1 1 0 1 0 0 0 0 0 0 0 0 0 0 0 0 0 1 0 1 1 0 1 0 0 0 0 0\n",
      " 0]\n",
      "[0.06610199 0.81735689 0.60679268 0.14590658 0.1709837  0.09491011\n",
      " 0.20804135 0.21775068 0.36255549 0.68889992 0.07552435 0.08667315\n",
      " 0.11763936 0.08915719 0.69492765 0.74044787 0.19359708 0.22235289\n",
      " 0.69615695 0.13018758 0.95317494 0.12045433 0.27344085 0.35407469\n",
      " 0.05689433 0.10241988 0.09068158 0.16621956 0.18703618 0.38665027\n",
      " 0.80078382 0.89247081 0.04907662 0.03203267 0.14182277 0.16365238\n",
      " 0.45400491 0.14496054 0.75493568 0.18181263 0.22633184 0.53062512\n",
      " 0.62068299 0.62214022 0.11669033 0.89788526 0.09491879 0.54908485\n",
      " 0.78643038 0.20330227 0.80699694 0.99056777 0.78953313 0.63991585\n",
      " 0.43116609 0.5155046  0.31887604 0.08796841 0.70219502 0.1532087\n",
      " 0.56615167 0.31223879 0.98039462 0.85642483 0.119827   0.63525558\n",
      " 0.94948734 0.40384963 0.38822938 0.72694711 0.99625882 0.56016417\n",
      " 0.27936096 0.89249337 0.41861387 0.10132739 0.31814729 0.96145183\n",
      " 0.13466859 0.53055938 0.95708719 0.93652814 0.74641335 0.55122042\n",
      " 0.44973416 0.64739782 0.38544802 0.48527701 0.04890729 0.13162386\n",
      " 0.65570947 0.03920715 0.07156722 0.89857167 0.15161675 0.17731223\n",
      " 0.03852906 0.05448647 0.14327178 0.09864945 0.27323511 0.32163927\n",
      " 0.24275521 0.22885883 0.28836591 0.37792072 0.2406929  0.39314872\n",
      " 0.20767756 0.07577914 0.10960355 0.10691293 0.88853187 0.32249801\n",
      " 0.56259726 0.45910916 0.2219925  0.11016317 0.57877376 0.2721451\n",
      " 0.0774391  0.98648518 0.87680542 0.08687157 0.74550891 0.13082\n",
      " 0.4380385  0.75294443 0.11669033 0.45925466 0.27771577 0.13083325\n",
      " 0.20095647 0.14594515 0.05975737 0.13866472 0.04975952 0.06877387\n",
      " 0.26333904 0.82938035 0.08580541 0.89931276 0.67734802 0.44115796\n",
      " 0.15216853 0.62773279 0.88881169 0.11341157 0.31549553 0.58434302\n",
      " 0.63126283 0.79062909 0.12962871 0.22302971 0.10729103 0.36681805\n",
      " 0.81547327 0.13440138 0.08278671 0.04026108 0.11411867 0.35631059\n",
      " 0.08465368 0.08239461 0.25863364 0.39505985 0.0980036  0.63311833\n",
      " 0.25485928 0.59203302 0.07916526 0.13390204 0.06563291 0.13076056\n",
      " 0.03994795 0.03816822 0.9566615  0.85714176 0.4734134  0.83516934\n",
      " 0.12553426 0.41834828 0.05386151 0.68847396 0.90208887 0.66893123\n",
      " 0.14252651 0.52351378 0.08523276 0.21945544 0.12829097 0.53816369\n",
      " 0.95870215 0.58722231 0.95086582 0.61040074 0.52112107 0.65901664\n",
      " 0.0633449  0.14953516 0.23618204 0.64398125 0.11358685 0.41664124\n",
      " 0.10566522 0.67546131 0.43451023 0.05699781 0.32791167 0.05118965\n",
      " 0.21099045 0.64010256 0.39143295 0.57489992 0.89767199 0.57629248\n",
      " 0.80627251 0.45398516 0.12485979 0.07981915 0.10480522 0.09429117\n",
      " 0.17256667]\n",
      "[0.1979274  0.51305131 0.54693844 0.4097097  0.24439217 0.17910065\n",
      " 0.30126654 0.36501441 0.31010147 0.48682162 0.17287798 0.17540064\n",
      " 0.24186951 0.19272288 0.4738577  0.614238   0.2455331  0.25362857\n",
      " 0.49127592 0.36132164 0.71065371 0.2052419  0.2341391  0.41633586\n",
      " 0.17287798 0.25078612 0.17910065 0.22644088 0.21711768 0.4475125\n",
      " 0.55647036 0.70022888 0.17287798 0.17287798 0.25078612 0.21711768\n",
      " 0.57153768 0.18890425 0.57678199 0.29891668 0.31192187 0.51501274\n",
      " 0.4738577  0.41849731 0.17287798 0.74517813 0.17910065 0.51464124\n",
      " 0.68639581 0.2341391  0.64112849 0.80615535 0.52799189 0.55927333\n",
      " 0.52402385 0.54350545 0.25814514 0.18890425 0.59860601 0.1973412\n",
      " 0.46416535 0.3303552  0.79897762 0.56441837 0.1973412  0.52236674\n",
      " 0.74754881 0.55131487 0.23757513 0.71330553 0.79897762 0.46416535\n",
      " 0.23931044 0.72808563 0.34181389 0.19910346 0.25059453 0.59208815\n",
      " 0.2341391  0.48812635 0.73581474 0.76550215 0.48533513 0.614238\n",
      " 0.34177705 0.58367266 0.47112846 0.46416535 0.24505109 0.24406317\n",
      " 0.4490271  0.17287798 0.17287798 0.76822258 0.1973412  0.2052419\n",
      " 0.17287798 0.19910346 0.18890425 0.18890425 0.51547735 0.39650308\n",
      " 0.37977559 0.30754252 0.4475125  0.4217055  0.25219776 0.4217055\n",
      " 0.28880087 0.1979274  0.17287798 0.27064326 0.71130926 0.3726831\n",
      " 0.46051902 0.4475125  0.21711768 0.17287798 0.51464124 0.27475132\n",
      " 0.17287798 0.67262395 0.56111618 0.21711768 0.5581194  0.1973412\n",
      " 0.38846122 0.54890748 0.17287798 0.478434   0.23757513 0.1973412\n",
      " 0.30754252 0.21711768 0.17287798 0.17910065 0.22620841 0.17287798\n",
      " 0.28666269 0.63237506 0.17287798 0.59391366 0.51133904 0.41725235\n",
      " 0.19706751 0.53724609 0.78192615 0.30323271 0.41794799 0.51133904\n",
      " 0.51328927 0.6979102  0.17910065 0.25085625 0.18104125 0.46382121\n",
      " 0.56715787 0.24470182 0.17287798 0.21335603 0.21711768 0.41865318\n",
      " 0.17287798 0.17287798 0.29423027 0.4475125  0.39571984 0.53459051\n",
      " 0.404409   0.41849731 0.18373291 0.28992046 0.17287798 0.18890425\n",
      " 0.21032666 0.22803691 0.71614749 0.53847914 0.43158683 0.70022888\n",
      " 0.27289904 0.49139677 0.22620841 0.53444313 0.59088282 0.4883507\n",
      " 0.17910065 0.34054968 0.24846585 0.2103782  0.1973412  0.41408839\n",
      " 0.77540192 0.47865835 0.68979445 0.53724609 0.43981515 0.53009622\n",
      " 0.23663087 0.18890425 0.27475132 0.47717187 0.17910065 0.49457812\n",
      " 0.27289904 0.48280649 0.33027817 0.17287798 0.4475125  0.17287798\n",
      " 0.20168905 0.63842179 0.38137225 0.58367266 0.72075975 0.45720485\n",
      " 0.7590766  0.4475125  0.17910065 0.18890425 0.17287798 0.18890425\n",
      " 0.25362857]\n"
     ]
    }
   ],
   "source": [
    "# calculate the accuracy score from training data\n",
    "print(\"LogReg model score: %.3f\" % pipeline.score(X_train, y_train))\n",
    "print(\"model score: %.3f\" % pipeline_rf.score(X_train, y_train))\n",
    "\n",
    "# calculate the accuracy score from test data\n",
    "print(\"model score: %.3f\" % pipeline.score(X_test, y_test))\n",
    "print(\"model score: %.3f\" % pipeline_rf.score(X_test, y_test))\n",
    "\n",
    "# get predictions from the pipeline\n",
    "print(pipeline.predict(X_test))\n",
    "print(pipeline_rf.predict(X_test))\n",
    "\n",
    "# get prediction probabilities from the pipeline \n",
    "print(pipeline.predict_proba(X_test)[:, 1])\n",
    "print(pipeline_rf.predict_proba(X_test)[:, 1])\n",
    "y_score1 = pipeline.predict_proba(X_test)[:, 1]\n",
    "y_score2 = pipeline_rf.predict_proba(X_test)[:, 1]\n"
   ]
  },
  {
   "cell_type": "code",
   "execution_count": 32,
   "id": "0a88c0d9",
   "metadata": {
    "scrolled": true
   },
   "outputs": [
    {
     "data": {
      "text/html": [
       "<div>\n",
       "<style scoped>\n",
       "    .dataframe tbody tr th:only-of-type {\n",
       "        vertical-align: middle;\n",
       "    }\n",
       "\n",
       "    .dataframe tbody tr th {\n",
       "        vertical-align: top;\n",
       "    }\n",
       "\n",
       "    .dataframe thead th {\n",
       "        text-align: right;\n",
       "    }\n",
       "</style>\n",
       "<table border=\"1\" class=\"dataframe\">\n",
       "  <thead>\n",
       "    <tr style=\"text-align: right;\">\n",
       "      <th></th>\n",
       "      <th>Pclass</th>\n",
       "      <th>Name</th>\n",
       "      <th>Sex</th>\n",
       "      <th>Age</th>\n",
       "      <th>SibSp</th>\n",
       "      <th>Fare</th>\n",
       "      <th>Embarked</th>\n",
       "      <th>SibParch</th>\n",
       "      <th>cabin_letter</th>\n",
       "    </tr>\n",
       "    <tr>\n",
       "      <th>PassengerId</th>\n",
       "      <th></th>\n",
       "      <th></th>\n",
       "      <th></th>\n",
       "      <th></th>\n",
       "      <th></th>\n",
       "      <th></th>\n",
       "      <th></th>\n",
       "      <th></th>\n",
       "      <th></th>\n",
       "    </tr>\n",
       "  </thead>\n",
       "  <tbody>\n",
       "    <tr>\n",
       "      <th>611</th>\n",
       "      <td>3</td>\n",
       "      <td>Andersson, Mrs. Anders Johan (Alfrida Konstant...</td>\n",
       "      <td>female</td>\n",
       "      <td>39.0</td>\n",
       "      <td>1</td>\n",
       "      <td>31.275</td>\n",
       "      <td>S</td>\n",
       "      <td>1</td>\n",
       "      <td>NaN</td>\n",
       "    </tr>\n",
       "    <tr>\n",
       "      <th>749</th>\n",
       "      <td>1</td>\n",
       "      <td>Marvin, Mr. Daniel Warner</td>\n",
       "      <td>male</td>\n",
       "      <td>19.0</td>\n",
       "      <td>1</td>\n",
       "      <td>53.100</td>\n",
       "      <td>S</td>\n",
       "      <td>1</td>\n",
       "      <td>D</td>\n",
       "    </tr>\n",
       "    <tr>\n",
       "      <th>62</th>\n",
       "      <td>1</td>\n",
       "      <td>Icard, Miss. Amelie</td>\n",
       "      <td>female</td>\n",
       "      <td>38.0</td>\n",
       "      <td>0</td>\n",
       "      <td>80.000</td>\n",
       "      <td>NaN</td>\n",
       "      <td>0</td>\n",
       "      <td>B</td>\n",
       "    </tr>\n",
       "    <tr>\n",
       "      <th>378</th>\n",
       "      <td>1</td>\n",
       "      <td>Widener, Mr. Harry Elkins</td>\n",
       "      <td>male</td>\n",
       "      <td>27.0</td>\n",
       "      <td>0</td>\n",
       "      <td>211.500</td>\n",
       "      <td>C</td>\n",
       "      <td>1</td>\n",
       "      <td>C</td>\n",
       "    </tr>\n",
       "    <tr>\n",
       "      <th>523</th>\n",
       "      <td>3</td>\n",
       "      <td>Lahoud, Mr. Sarkis</td>\n",
       "      <td>male</td>\n",
       "      <td>NaN</td>\n",
       "      <td>0</td>\n",
       "      <td>7.225</td>\n",
       "      <td>C</td>\n",
       "      <td>0</td>\n",
       "      <td>NaN</td>\n",
       "    </tr>\n",
       "  </tbody>\n",
       "</table>\n",
       "</div>"
      ],
      "text/plain": [
       "             Pclass                                               Name  \\\n",
       "PassengerId                                                              \n",
       "611               3  Andersson, Mrs. Anders Johan (Alfrida Konstant...   \n",
       "749               1                          Marvin, Mr. Daniel Warner   \n",
       "62                1                                Icard, Miss. Amelie   \n",
       "378               1                          Widener, Mr. Harry Elkins   \n",
       "523               3                                 Lahoud, Mr. Sarkis   \n",
       "\n",
       "                Sex   Age  SibSp     Fare Embarked  SibParch cabin_letter  \n",
       "PassengerId                                                                \n",
       "611          female  39.0      1   31.275        S         1          NaN  \n",
       "749            male  19.0      1   53.100        S         1            D  \n",
       "62           female  38.0      0   80.000      NaN         0            B  \n",
       "378            male  27.0      0  211.500        C         1            C  \n",
       "523            male   NaN      0    7.225        C         0          NaN  "
      ]
     },
     "execution_count": 32,
     "metadata": {},
     "output_type": "execute_result"
    }
   ],
   "source": [
    "X_train.head()"
   ]
  },
  {
   "cell_type": "markdown",
   "id": "693a5730",
   "metadata": {},
   "source": [
    "### Preparing Predictions Test Data"
   ]
  },
  {
   "cell_type": "code",
   "execution_count": 33,
   "id": "0a3d054f",
   "metadata": {},
   "outputs": [],
   "source": [
    "df_test = pd.read_csv('data/test.csv')"
   ]
  },
  {
   "cell_type": "code",
   "execution_count": 34,
   "id": "4d238d2e",
   "metadata": {
    "scrolled": true
   },
   "outputs": [
    {
     "data": {
      "text/html": [
       "<div>\n",
       "<style scoped>\n",
       "    .dataframe tbody tr th:only-of-type {\n",
       "        vertical-align: middle;\n",
       "    }\n",
       "\n",
       "    .dataframe tbody tr th {\n",
       "        vertical-align: top;\n",
       "    }\n",
       "\n",
       "    .dataframe thead th {\n",
       "        text-align: right;\n",
       "    }\n",
       "</style>\n",
       "<table border=\"1\" class=\"dataframe\">\n",
       "  <thead>\n",
       "    <tr style=\"text-align: right;\">\n",
       "      <th></th>\n",
       "      <th>PassengerId</th>\n",
       "      <th>Pclass</th>\n",
       "      <th>Name</th>\n",
       "      <th>Sex</th>\n",
       "      <th>Age</th>\n",
       "      <th>SibSp</th>\n",
       "      <th>Parch</th>\n",
       "      <th>Ticket</th>\n",
       "      <th>Fare</th>\n",
       "      <th>Cabin</th>\n",
       "      <th>Embarked</th>\n",
       "    </tr>\n",
       "  </thead>\n",
       "  <tbody>\n",
       "    <tr>\n",
       "      <th>0</th>\n",
       "      <td>892</td>\n",
       "      <td>3</td>\n",
       "      <td>Kelly, Mr. James</td>\n",
       "      <td>male</td>\n",
       "      <td>34.5</td>\n",
       "      <td>0</td>\n",
       "      <td>0</td>\n",
       "      <td>330911</td>\n",
       "      <td>7.8292</td>\n",
       "      <td>NaN</td>\n",
       "      <td>Q</td>\n",
       "    </tr>\n",
       "    <tr>\n",
       "      <th>1</th>\n",
       "      <td>893</td>\n",
       "      <td>3</td>\n",
       "      <td>Wilkes, Mrs. James (Ellen Needs)</td>\n",
       "      <td>female</td>\n",
       "      <td>47.0</td>\n",
       "      <td>1</td>\n",
       "      <td>0</td>\n",
       "      <td>363272</td>\n",
       "      <td>7.0000</td>\n",
       "      <td>NaN</td>\n",
       "      <td>S</td>\n",
       "    </tr>\n",
       "    <tr>\n",
       "      <th>2</th>\n",
       "      <td>894</td>\n",
       "      <td>2</td>\n",
       "      <td>Myles, Mr. Thomas Francis</td>\n",
       "      <td>male</td>\n",
       "      <td>62.0</td>\n",
       "      <td>0</td>\n",
       "      <td>0</td>\n",
       "      <td>240276</td>\n",
       "      <td>9.6875</td>\n",
       "      <td>NaN</td>\n",
       "      <td>Q</td>\n",
       "    </tr>\n",
       "    <tr>\n",
       "      <th>3</th>\n",
       "      <td>895</td>\n",
       "      <td>3</td>\n",
       "      <td>Wirz, Mr. Albert</td>\n",
       "      <td>male</td>\n",
       "      <td>27.0</td>\n",
       "      <td>0</td>\n",
       "      <td>0</td>\n",
       "      <td>315154</td>\n",
       "      <td>8.6625</td>\n",
       "      <td>NaN</td>\n",
       "      <td>S</td>\n",
       "    </tr>\n",
       "    <tr>\n",
       "      <th>4</th>\n",
       "      <td>896</td>\n",
       "      <td>3</td>\n",
       "      <td>Hirvonen, Mrs. Alexander (Helga E Lindqvist)</td>\n",
       "      <td>female</td>\n",
       "      <td>22.0</td>\n",
       "      <td>1</td>\n",
       "      <td>1</td>\n",
       "      <td>3101298</td>\n",
       "      <td>12.2875</td>\n",
       "      <td>NaN</td>\n",
       "      <td>S</td>\n",
       "    </tr>\n",
       "  </tbody>\n",
       "</table>\n",
       "</div>"
      ],
      "text/plain": [
       "   PassengerId  Pclass                                          Name     Sex  \\\n",
       "0          892       3                              Kelly, Mr. James    male   \n",
       "1          893       3              Wilkes, Mrs. James (Ellen Needs)  female   \n",
       "2          894       2                     Myles, Mr. Thomas Francis    male   \n",
       "3          895       3                              Wirz, Mr. Albert    male   \n",
       "4          896       3  Hirvonen, Mrs. Alexander (Helga E Lindqvist)  female   \n",
       "\n",
       "    Age  SibSp  Parch   Ticket     Fare Cabin Embarked  \n",
       "0  34.5      0      0   330911   7.8292   NaN        Q  \n",
       "1  47.0      1      0   363272   7.0000   NaN        S  \n",
       "2  62.0      0      0   240276   9.6875   NaN        Q  \n",
       "3  27.0      0      0   315154   8.6625   NaN        S  \n",
       "4  22.0      1      1  3101298  12.2875   NaN        S  "
      ]
     },
     "execution_count": 34,
     "metadata": {},
     "output_type": "execute_result"
    }
   ],
   "source": [
    "df_test.head()"
   ]
  },
  {
   "cell_type": "code",
   "execution_count": 35,
   "id": "6226b1c2",
   "metadata": {},
   "outputs": [
    {
     "data": {
      "text/plain": [
       "array([ 0,  1,  2,  4,  3,  5,  7,  6, 10])"
      ]
     },
     "execution_count": 35,
     "metadata": {},
     "output_type": "execute_result"
    }
   ],
   "source": [
    "df_test['SibParch'] = df_test['SibSp'] + df_test['Parch']\n",
    "\n",
    "df_test['SibParch'].unique()"
   ]
  },
  {
   "cell_type": "code",
   "execution_count": 36,
   "id": "8a80552c",
   "metadata": {},
   "outputs": [],
   "source": [
    "df_test['SibParch'] = df_test['SibParch'].replace([2],[1])\n",
    "df_test['SibParch'] = df_test['SibParch'].replace([3],[1])\n",
    "df_test['SibParch'] = df_test['SibParch'].replace([4],[1])\n",
    "df_test['SibParch'] = df_test['SibParch'].replace([5],[1])\n",
    "df_test['SibParch'] = df_test['SibParch'].replace([6],[1])\n",
    "df_test['SibParch'] = df_test['SibParch'].replace([7],[1])\n",
    "df_test['SibParch'] = df_test['SibParch'].replace([10],[1])\n"
   ]
  },
  {
   "cell_type": "code",
   "execution_count": 37,
   "id": "6045fbf6",
   "metadata": {},
   "outputs": [],
   "source": [
    "df_test['cabin_letter'] = df_test['Cabin'].str[0]"
   ]
  },
  {
   "cell_type": "code",
   "execution_count": 38,
   "id": "cb2a2427",
   "metadata": {
    "scrolled": false
   },
   "outputs": [
    {
     "data": {
      "text/plain": [
       "Index(['PassengerId', 'Pclass', 'Name', 'Sex', 'Age', 'SibSp', 'Parch',\n",
       "       'Ticket', 'Fare', 'Cabin', 'Embarked', 'SibParch', 'cabin_letter'],\n",
       "      dtype='object')"
      ]
     },
     "execution_count": 38,
     "metadata": {},
     "output_type": "execute_result"
    }
   ],
   "source": [
    "df_test.columns"
   ]
  },
  {
   "cell_type": "code",
   "execution_count": 39,
   "id": "d897a7d7",
   "metadata": {
    "scrolled": true
   },
   "outputs": [
    {
     "data": {
      "text/plain": [
       "Index(['Pclass', 'Name', 'Sex', 'Age', 'SibSp', 'Fare', 'Embarked', 'SibParch',\n",
       "       'cabin_letter'],\n",
       "      dtype='object')"
      ]
     },
     "execution_count": 39,
     "metadata": {},
     "output_type": "execute_result"
    }
   ],
   "source": [
    "X_train.columns"
   ]
  },
  {
   "cell_type": "code",
   "execution_count": 40,
   "id": "c8ba27a1",
   "metadata": {},
   "outputs": [],
   "source": [
    "df_test = df_test.set_index('PassengerId')"
   ]
  },
  {
   "cell_type": "code",
   "execution_count": 41,
   "id": "b3037940",
   "metadata": {},
   "outputs": [],
   "source": [
    "df_test.drop(['Ticket','Parch'],axis=1,inplace=True)"
   ]
  },
  {
   "cell_type": "code",
   "execution_count": 42,
   "id": "7a036ace",
   "metadata": {},
   "outputs": [],
   "source": [
    "column_names = ['Pclass', 'Name', 'Sex', 'Age', 'SibSp', 'Fare', 'Embarked', 'SibParch',\n",
    "       'cabin_letter']\n",
    "\n",
    "df_test = df_test.reindex(columns=column_names)"
   ]
  },
  {
   "cell_type": "code",
   "execution_count": 43,
   "id": "b259ca67",
   "metadata": {
    "scrolled": true
   },
   "outputs": [
    {
     "data": {
      "text/html": [
       "<div>\n",
       "<style scoped>\n",
       "    .dataframe tbody tr th:only-of-type {\n",
       "        vertical-align: middle;\n",
       "    }\n",
       "\n",
       "    .dataframe tbody tr th {\n",
       "        vertical-align: top;\n",
       "    }\n",
       "\n",
       "    .dataframe thead th {\n",
       "        text-align: right;\n",
       "    }\n",
       "</style>\n",
       "<table border=\"1\" class=\"dataframe\">\n",
       "  <thead>\n",
       "    <tr style=\"text-align: right;\">\n",
       "      <th></th>\n",
       "      <th>Pclass</th>\n",
       "      <th>Name</th>\n",
       "      <th>Sex</th>\n",
       "      <th>Age</th>\n",
       "      <th>SibSp</th>\n",
       "      <th>Fare</th>\n",
       "      <th>Embarked</th>\n",
       "      <th>SibParch</th>\n",
       "      <th>cabin_letter</th>\n",
       "    </tr>\n",
       "    <tr>\n",
       "      <th>PassengerId</th>\n",
       "      <th></th>\n",
       "      <th></th>\n",
       "      <th></th>\n",
       "      <th></th>\n",
       "      <th></th>\n",
       "      <th></th>\n",
       "      <th></th>\n",
       "      <th></th>\n",
       "      <th></th>\n",
       "    </tr>\n",
       "  </thead>\n",
       "  <tbody>\n",
       "    <tr>\n",
       "      <th>611</th>\n",
       "      <td>3</td>\n",
       "      <td>Andersson, Mrs. Anders Johan (Alfrida Konstant...</td>\n",
       "      <td>female</td>\n",
       "      <td>39.0</td>\n",
       "      <td>1</td>\n",
       "      <td>31.275</td>\n",
       "      <td>S</td>\n",
       "      <td>1</td>\n",
       "      <td>NaN</td>\n",
       "    </tr>\n",
       "    <tr>\n",
       "      <th>749</th>\n",
       "      <td>1</td>\n",
       "      <td>Marvin, Mr. Daniel Warner</td>\n",
       "      <td>male</td>\n",
       "      <td>19.0</td>\n",
       "      <td>1</td>\n",
       "      <td>53.100</td>\n",
       "      <td>S</td>\n",
       "      <td>1</td>\n",
       "      <td>D</td>\n",
       "    </tr>\n",
       "    <tr>\n",
       "      <th>62</th>\n",
       "      <td>1</td>\n",
       "      <td>Icard, Miss. Amelie</td>\n",
       "      <td>female</td>\n",
       "      <td>38.0</td>\n",
       "      <td>0</td>\n",
       "      <td>80.000</td>\n",
       "      <td>NaN</td>\n",
       "      <td>0</td>\n",
       "      <td>B</td>\n",
       "    </tr>\n",
       "    <tr>\n",
       "      <th>378</th>\n",
       "      <td>1</td>\n",
       "      <td>Widener, Mr. Harry Elkins</td>\n",
       "      <td>male</td>\n",
       "      <td>27.0</td>\n",
       "      <td>0</td>\n",
       "      <td>211.500</td>\n",
       "      <td>C</td>\n",
       "      <td>1</td>\n",
       "      <td>C</td>\n",
       "    </tr>\n",
       "    <tr>\n",
       "      <th>523</th>\n",
       "      <td>3</td>\n",
       "      <td>Lahoud, Mr. Sarkis</td>\n",
       "      <td>male</td>\n",
       "      <td>NaN</td>\n",
       "      <td>0</td>\n",
       "      <td>7.225</td>\n",
       "      <td>C</td>\n",
       "      <td>0</td>\n",
       "      <td>NaN</td>\n",
       "    </tr>\n",
       "  </tbody>\n",
       "</table>\n",
       "</div>"
      ],
      "text/plain": [
       "             Pclass                                               Name  \\\n",
       "PassengerId                                                              \n",
       "611               3  Andersson, Mrs. Anders Johan (Alfrida Konstant...   \n",
       "749               1                          Marvin, Mr. Daniel Warner   \n",
       "62                1                                Icard, Miss. Amelie   \n",
       "378               1                          Widener, Mr. Harry Elkins   \n",
       "523               3                                 Lahoud, Mr. Sarkis   \n",
       "\n",
       "                Sex   Age  SibSp     Fare Embarked  SibParch cabin_letter  \n",
       "PassengerId                                                                \n",
       "611          female  39.0      1   31.275        S         1          NaN  \n",
       "749            male  19.0      1   53.100        S         1            D  \n",
       "62           female  38.0      0   80.000      NaN         0            B  \n",
       "378            male  27.0      0  211.500        C         1            C  \n",
       "523            male   NaN      0    7.225        C         0          NaN  "
      ]
     },
     "execution_count": 43,
     "metadata": {},
     "output_type": "execute_result"
    }
   ],
   "source": [
    "X_train.head()"
   ]
  },
  {
   "cell_type": "code",
   "execution_count": 44,
   "id": "9b25d69e",
   "metadata": {},
   "outputs": [
    {
     "data": {
      "text/html": [
       "<div>\n",
       "<style scoped>\n",
       "    .dataframe tbody tr th:only-of-type {\n",
       "        vertical-align: middle;\n",
       "    }\n",
       "\n",
       "    .dataframe tbody tr th {\n",
       "        vertical-align: top;\n",
       "    }\n",
       "\n",
       "    .dataframe thead th {\n",
       "        text-align: right;\n",
       "    }\n",
       "</style>\n",
       "<table border=\"1\" class=\"dataframe\">\n",
       "  <thead>\n",
       "    <tr style=\"text-align: right;\">\n",
       "      <th></th>\n",
       "      <th>Pclass</th>\n",
       "      <th>Name</th>\n",
       "      <th>Sex</th>\n",
       "      <th>Age</th>\n",
       "      <th>SibSp</th>\n",
       "      <th>Fare</th>\n",
       "      <th>Embarked</th>\n",
       "      <th>SibParch</th>\n",
       "      <th>cabin_letter</th>\n",
       "    </tr>\n",
       "    <tr>\n",
       "      <th>PassengerId</th>\n",
       "      <th></th>\n",
       "      <th></th>\n",
       "      <th></th>\n",
       "      <th></th>\n",
       "      <th></th>\n",
       "      <th></th>\n",
       "      <th></th>\n",
       "      <th></th>\n",
       "      <th></th>\n",
       "    </tr>\n",
       "  </thead>\n",
       "  <tbody>\n",
       "    <tr>\n",
       "      <th>892</th>\n",
       "      <td>3</td>\n",
       "      <td>Kelly, Mr. James</td>\n",
       "      <td>male</td>\n",
       "      <td>34.5</td>\n",
       "      <td>0</td>\n",
       "      <td>7.8292</td>\n",
       "      <td>Q</td>\n",
       "      <td>0</td>\n",
       "      <td>NaN</td>\n",
       "    </tr>\n",
       "    <tr>\n",
       "      <th>893</th>\n",
       "      <td>3</td>\n",
       "      <td>Wilkes, Mrs. James (Ellen Needs)</td>\n",
       "      <td>female</td>\n",
       "      <td>47.0</td>\n",
       "      <td>1</td>\n",
       "      <td>7.0000</td>\n",
       "      <td>S</td>\n",
       "      <td>1</td>\n",
       "      <td>NaN</td>\n",
       "    </tr>\n",
       "    <tr>\n",
       "      <th>894</th>\n",
       "      <td>2</td>\n",
       "      <td>Myles, Mr. Thomas Francis</td>\n",
       "      <td>male</td>\n",
       "      <td>62.0</td>\n",
       "      <td>0</td>\n",
       "      <td>9.6875</td>\n",
       "      <td>Q</td>\n",
       "      <td>0</td>\n",
       "      <td>NaN</td>\n",
       "    </tr>\n",
       "    <tr>\n",
       "      <th>895</th>\n",
       "      <td>3</td>\n",
       "      <td>Wirz, Mr. Albert</td>\n",
       "      <td>male</td>\n",
       "      <td>27.0</td>\n",
       "      <td>0</td>\n",
       "      <td>8.6625</td>\n",
       "      <td>S</td>\n",
       "      <td>0</td>\n",
       "      <td>NaN</td>\n",
       "    </tr>\n",
       "    <tr>\n",
       "      <th>896</th>\n",
       "      <td>3</td>\n",
       "      <td>Hirvonen, Mrs. Alexander (Helga E Lindqvist)</td>\n",
       "      <td>female</td>\n",
       "      <td>22.0</td>\n",
       "      <td>1</td>\n",
       "      <td>12.2875</td>\n",
       "      <td>S</td>\n",
       "      <td>1</td>\n",
       "      <td>NaN</td>\n",
       "    </tr>\n",
       "  </tbody>\n",
       "</table>\n",
       "</div>"
      ],
      "text/plain": [
       "             Pclass                                          Name     Sex  \\\n",
       "PassengerId                                                                 \n",
       "892               3                              Kelly, Mr. James    male   \n",
       "893               3              Wilkes, Mrs. James (Ellen Needs)  female   \n",
       "894               2                     Myles, Mr. Thomas Francis    male   \n",
       "895               3                              Wirz, Mr. Albert    male   \n",
       "896               3  Hirvonen, Mrs. Alexander (Helga E Lindqvist)  female   \n",
       "\n",
       "              Age  SibSp     Fare Embarked  SibParch cabin_letter  \n",
       "PassengerId                                                        \n",
       "892          34.5      0   7.8292        Q         0          NaN  \n",
       "893          47.0      1   7.0000        S         1          NaN  \n",
       "894          62.0      0   9.6875        Q         0          NaN  \n",
       "895          27.0      0   8.6625        S         0          NaN  \n",
       "896          22.0      1  12.2875        S         1          NaN  "
      ]
     },
     "execution_count": 44,
     "metadata": {},
     "output_type": "execute_result"
    }
   ],
   "source": [
    "df_test.head()"
   ]
  },
  {
   "cell_type": "markdown",
   "id": "868d328d",
   "metadata": {},
   "source": [
    "## Predictions"
   ]
  },
  {
   "cell_type": "code",
   "execution_count": 45,
   "id": "1660b8fb",
   "metadata": {},
   "outputs": [],
   "source": [
    "predictions = pipeline.predict(df_test)"
   ]
  },
  {
   "cell_type": "code",
   "execution_count": 46,
   "id": "baeb388b",
   "metadata": {
    "scrolled": true
   },
   "outputs": [],
   "source": [
    "predictions_rf = pipeline_rf.predict(df_test)"
   ]
  },
  {
   "cell_type": "code",
   "execution_count": 47,
   "id": "2cea8729",
   "metadata": {},
   "outputs": [],
   "source": [
    "output = pd.DataFrame({'PassengerID' : df_test.index, 'Survived' : predictions})"
   ]
  },
  {
   "cell_type": "code",
   "execution_count": 48,
   "id": "8957e58d",
   "metadata": {},
   "outputs": [],
   "source": [
    "output['Survived'] = output['Survived'].astype(int)\n",
    "output.to_csv('final.csv', index=False)"
   ]
  },
  {
   "cell_type": "code",
   "execution_count": 49,
   "id": "fc727023",
   "metadata": {},
   "outputs": [],
   "source": [
    "output_rf = pd.DataFrame({'PassengerID' : df_test.index, 'Survived' : predictions_rf})"
   ]
  },
  {
   "cell_type": "code",
   "execution_count": 50,
   "id": "b16900c2",
   "metadata": {},
   "outputs": [],
   "source": [
    "output_rf['Survived'] = output['Survived'].astype(int)\n",
    "output_rf.to_csv('final_rf.csv', index=False)"
   ]
  },
  {
   "cell_type": "code",
   "execution_count": null,
   "id": "4a6b8eac",
   "metadata": {},
   "outputs": [],
   "source": []
  }
 ],
 "metadata": {
  "kernelspec": {
   "display_name": "Python 3",
   "language": "python",
   "name": "python3"
  },
  "language_info": {
   "codemirror_mode": {
    "name": "ipython",
    "version": 3
   },
   "file_extension": ".py",
   "mimetype": "text/x-python",
   "name": "python",
   "nbconvert_exporter": "python",
   "pygments_lexer": "ipython3",
   "version": "3.8.8"
  }
 },
 "nbformat": 4,
 "nbformat_minor": 5
}
