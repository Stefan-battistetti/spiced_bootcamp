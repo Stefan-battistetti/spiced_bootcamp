{
 "cells": [
  {
   "cell_type": "markdown",
   "id": "80b630a7",
   "metadata": {},
   "source": [
    "# 2.1 Explore the Titanic dataset"
   ]
  },
  {
   "cell_type": "code",
   "execution_count": 4,
   "id": "23e0ccb4",
   "metadata": {},
   "outputs": [],
   "source": [
    "import pandas as pd\n",
    "import seaborn as sns"
   ]
  },
  {
   "cell_type": "markdown",
   "id": "a117dc95",
   "metadata": {},
   "source": [
    "## Step1"
   ]
  },
  {
   "cell_type": "code",
   "execution_count": 2,
   "id": "79ce2a0d",
   "metadata": {},
   "outputs": [],
   "source": [
    "train = pd.read_csv('data/train.csv', index_col=0)"
   ]
  },
  {
   "cell_type": "code",
   "execution_count": 3,
   "id": "4ac56b82",
   "metadata": {
    "scrolled": false
   },
   "outputs": [
    {
     "data": {
      "text/html": [
       "<div>\n",
       "<style scoped>\n",
       "    .dataframe tbody tr th:only-of-type {\n",
       "        vertical-align: middle;\n",
       "    }\n",
       "\n",
       "    .dataframe tbody tr th {\n",
       "        vertical-align: top;\n",
       "    }\n",
       "\n",
       "    .dataframe thead th {\n",
       "        text-align: right;\n",
       "    }\n",
       "</style>\n",
       "<table border=\"1\" class=\"dataframe\">\n",
       "  <thead>\n",
       "    <tr style=\"text-align: right;\">\n",
       "      <th></th>\n",
       "      <th>Survived</th>\n",
       "      <th>Pclass</th>\n",
       "      <th>Name</th>\n",
       "      <th>Sex</th>\n",
       "      <th>Age</th>\n",
       "      <th>SibSp</th>\n",
       "      <th>Parch</th>\n",
       "      <th>Ticket</th>\n",
       "      <th>Fare</th>\n",
       "      <th>Cabin</th>\n",
       "      <th>Embarked</th>\n",
       "    </tr>\n",
       "    <tr>\n",
       "      <th>PassengerId</th>\n",
       "      <th></th>\n",
       "      <th></th>\n",
       "      <th></th>\n",
       "      <th></th>\n",
       "      <th></th>\n",
       "      <th></th>\n",
       "      <th></th>\n",
       "      <th></th>\n",
       "      <th></th>\n",
       "      <th></th>\n",
       "      <th></th>\n",
       "    </tr>\n",
       "  </thead>\n",
       "  <tbody>\n",
       "    <tr>\n",
       "      <th>1</th>\n",
       "      <td>0</td>\n",
       "      <td>3</td>\n",
       "      <td>Braund, Mr. Owen Harris</td>\n",
       "      <td>male</td>\n",
       "      <td>22.0</td>\n",
       "      <td>1</td>\n",
       "      <td>0</td>\n",
       "      <td>A/5 21171</td>\n",
       "      <td>7.2500</td>\n",
       "      <td>NaN</td>\n",
       "      <td>S</td>\n",
       "    </tr>\n",
       "    <tr>\n",
       "      <th>2</th>\n",
       "      <td>1</td>\n",
       "      <td>1</td>\n",
       "      <td>Cumings, Mrs. John Bradley (Florence Briggs Th...</td>\n",
       "      <td>female</td>\n",
       "      <td>38.0</td>\n",
       "      <td>1</td>\n",
       "      <td>0</td>\n",
       "      <td>PC 17599</td>\n",
       "      <td>71.2833</td>\n",
       "      <td>C85</td>\n",
       "      <td>C</td>\n",
       "    </tr>\n",
       "    <tr>\n",
       "      <th>3</th>\n",
       "      <td>1</td>\n",
       "      <td>3</td>\n",
       "      <td>Heikkinen, Miss. Laina</td>\n",
       "      <td>female</td>\n",
       "      <td>26.0</td>\n",
       "      <td>0</td>\n",
       "      <td>0</td>\n",
       "      <td>STON/O2. 3101282</td>\n",
       "      <td>7.9250</td>\n",
       "      <td>NaN</td>\n",
       "      <td>S</td>\n",
       "    </tr>\n",
       "    <tr>\n",
       "      <th>4</th>\n",
       "      <td>1</td>\n",
       "      <td>1</td>\n",
       "      <td>Futrelle, Mrs. Jacques Heath (Lily May Peel)</td>\n",
       "      <td>female</td>\n",
       "      <td>35.0</td>\n",
       "      <td>1</td>\n",
       "      <td>0</td>\n",
       "      <td>113803</td>\n",
       "      <td>53.1000</td>\n",
       "      <td>C123</td>\n",
       "      <td>S</td>\n",
       "    </tr>\n",
       "    <tr>\n",
       "      <th>5</th>\n",
       "      <td>0</td>\n",
       "      <td>3</td>\n",
       "      <td>Allen, Mr. William Henry</td>\n",
       "      <td>male</td>\n",
       "      <td>35.0</td>\n",
       "      <td>0</td>\n",
       "      <td>0</td>\n",
       "      <td>373450</td>\n",
       "      <td>8.0500</td>\n",
       "      <td>NaN</td>\n",
       "      <td>S</td>\n",
       "    </tr>\n",
       "  </tbody>\n",
       "</table>\n",
       "</div>"
      ],
      "text/plain": [
       "             Survived  Pclass  \\\n",
       "PassengerId                     \n",
       "1                   0       3   \n",
       "2                   1       1   \n",
       "3                   1       3   \n",
       "4                   1       1   \n",
       "5                   0       3   \n",
       "\n",
       "                                                          Name     Sex   Age  \\\n",
       "PassengerId                                                                    \n",
       "1                                      Braund, Mr. Owen Harris    male  22.0   \n",
       "2            Cumings, Mrs. John Bradley (Florence Briggs Th...  female  38.0   \n",
       "3                                       Heikkinen, Miss. Laina  female  26.0   \n",
       "4                 Futrelle, Mrs. Jacques Heath (Lily May Peel)  female  35.0   \n",
       "5                                     Allen, Mr. William Henry    male  35.0   \n",
       "\n",
       "             SibSp  Parch            Ticket     Fare Cabin Embarked  \n",
       "PassengerId                                                          \n",
       "1                1      0         A/5 21171   7.2500   NaN        S  \n",
       "2                1      0          PC 17599  71.2833   C85        C  \n",
       "3                0      0  STON/O2. 3101282   7.9250   NaN        S  \n",
       "4                1      0            113803  53.1000  C123        S  \n",
       "5                0      0            373450   8.0500   NaN        S  "
      ]
     },
     "execution_count": 3,
     "metadata": {},
     "output_type": "execute_result"
    }
   ],
   "source": [
    "train.head()"
   ]
  },
  {
   "cell_type": "markdown",
   "id": "b5a6785e",
   "metadata": {},
   "source": [
    "## Step2 "
   ]
  },
  {
   "cell_type": "code",
   "execution_count": 4,
   "id": "f9d89dda",
   "metadata": {},
   "outputs": [],
   "source": [
    "d = train.groupby(\"Survived\")"
   ]
  },
  {
   "cell_type": "code",
   "execution_count": 5,
   "id": "72048f87",
   "metadata": {
    "scrolled": false
   },
   "outputs": [],
   "source": [
    "bar_data = d.count()"
   ]
  },
  {
   "cell_type": "code",
   "execution_count": 6,
   "id": "760ba862",
   "metadata": {},
   "outputs": [],
   "source": [
    "bar_data.reset_index(inplace=True)"
   ]
  },
  {
   "cell_type": "code",
   "execution_count": 7,
   "id": "2b4dc8b8",
   "metadata": {
    "scrolled": false
   },
   "outputs": [
    {
     "data": {
      "text/html": [
       "<div>\n",
       "<style scoped>\n",
       "    .dataframe tbody tr th:only-of-type {\n",
       "        vertical-align: middle;\n",
       "    }\n",
       "\n",
       "    .dataframe tbody tr th {\n",
       "        vertical-align: top;\n",
       "    }\n",
       "\n",
       "    .dataframe thead th {\n",
       "        text-align: right;\n",
       "    }\n",
       "</style>\n",
       "<table border=\"1\" class=\"dataframe\">\n",
       "  <thead>\n",
       "    <tr style=\"text-align: right;\">\n",
       "      <th></th>\n",
       "      <th>Survived</th>\n",
       "      <th>Pclass</th>\n",
       "      <th>Name</th>\n",
       "      <th>Sex</th>\n",
       "      <th>Age</th>\n",
       "      <th>SibSp</th>\n",
       "      <th>Parch</th>\n",
       "      <th>Ticket</th>\n",
       "      <th>Fare</th>\n",
       "      <th>Cabin</th>\n",
       "      <th>Embarked</th>\n",
       "    </tr>\n",
       "  </thead>\n",
       "  <tbody>\n",
       "    <tr>\n",
       "      <th>0</th>\n",
       "      <td>0</td>\n",
       "      <td>549</td>\n",
       "      <td>549</td>\n",
       "      <td>549</td>\n",
       "      <td>424</td>\n",
       "      <td>549</td>\n",
       "      <td>549</td>\n",
       "      <td>549</td>\n",
       "      <td>549</td>\n",
       "      <td>68</td>\n",
       "      <td>549</td>\n",
       "    </tr>\n",
       "    <tr>\n",
       "      <th>1</th>\n",
       "      <td>1</td>\n",
       "      <td>342</td>\n",
       "      <td>342</td>\n",
       "      <td>342</td>\n",
       "      <td>290</td>\n",
       "      <td>342</td>\n",
       "      <td>342</td>\n",
       "      <td>342</td>\n",
       "      <td>342</td>\n",
       "      <td>136</td>\n",
       "      <td>340</td>\n",
       "    </tr>\n",
       "  </tbody>\n",
       "</table>\n",
       "</div>"
      ],
      "text/plain": [
       "   Survived  Pclass  Name  Sex  Age  SibSp  Parch  Ticket  Fare  Cabin  \\\n",
       "0         0     549   549  549  424    549    549     549   549     68   \n",
       "1         1     342   342  342  290    342    342     342   342    136   \n",
       "\n",
       "   Embarked  \n",
       "0       549  \n",
       "1       340  "
      ]
     },
     "execution_count": 7,
     "metadata": {},
     "output_type": "execute_result"
    }
   ],
   "source": [
    "bar_data"
   ]
  },
  {
   "cell_type": "code",
   "execution_count": 8,
   "id": "dfa1393f",
   "metadata": {},
   "outputs": [],
   "source": [
    "bar_data[\"Number\"] = bar_data[\"Pclass\"]"
   ]
  },
  {
   "cell_type": "code",
   "execution_count": 9,
   "id": "b2b0ee83",
   "metadata": {},
   "outputs": [],
   "source": [
    "label_dict = {\n",
    "    0 : \"Non-surviving\",\n",
    "    1 : \"Surviving\"\n",
    "}"
   ]
  },
  {
   "cell_type": "code",
   "execution_count": 10,
   "id": "6c66d8db",
   "metadata": {},
   "outputs": [],
   "source": [
    "bar_data[\"Survived_label\"] = [label_dict[0], label_dict[1]]"
   ]
  },
  {
   "cell_type": "code",
   "execution_count": 11,
   "id": "c39e6e62",
   "metadata": {
    "scrolled": true
   },
   "outputs": [
    {
     "data": {
      "text/plain": [
       "<AxesSubplot:xlabel='Survived_label', ylabel='Number'>"
      ]
     },
     "execution_count": 11,
     "metadata": {},
     "output_type": "execute_result"
    },
    {
     "data": {
      "image/png": "[encoded data removed]",
      "text/plain": [
       "<Figure size 432x288 with 1 Axes>"
      ]
     },
     "metadata": {
      "needs_background": "light"
     },
     "output_type": "display_data"
    }
   ],
   "source": [
    "sns.barplot(x='Survived_label', y=\"Number\", data=bar_data)"
   ]
  },
  {
   "cell_type": "markdown",
   "id": "73e87d47",
   "metadata": {},
   "source": [
    "## step3"
   ]
  },
  {
   "cell_type": "code",
   "execution_count": 12,
   "id": "3701ba3a",
   "metadata": {},
   "outputs": [],
   "source": [
    "g = train.groupby(by=[\"Survived\", \"Pclass\"])"
   ]
  },
  {
   "cell_type": "code",
   "execution_count": 13,
   "id": "c6ea92c0",
   "metadata": {
    "scrolled": true
   },
   "outputs": [],
   "source": [
    "count_data = g.count()\n",
    "count_data[\"number\"] = count_data[\"Name\"]"
   ]
  },
  {
   "cell_type": "code",
   "execution_count": 14,
   "id": "9c06c703",
   "metadata": {
    "scrolled": false
   },
   "outputs": [
    {
     "data": {
      "text/html": [
       "<div>\n",
       "<style scoped>\n",
       "    .dataframe tbody tr th:only-of-type {\n",
       "        vertical-align: middle;\n",
       "    }\n",
       "\n",
       "    .dataframe tbody tr th {\n",
       "        vertical-align: top;\n",
       "    }\n",
       "\n",
       "    .dataframe thead th {\n",
       "        text-align: right;\n",
       "    }\n",
       "</style>\n",
       "<table border=\"1\" class=\"dataframe\">\n",
       "  <thead>\n",
       "    <tr style=\"text-align: right;\">\n",
       "      <th></th>\n",
       "      <th></th>\n",
       "      <th>Name</th>\n",
       "      <th>Sex</th>\n",
       "      <th>Age</th>\n",
       "      <th>SibSp</th>\n",
       "      <th>Parch</th>\n",
       "      <th>Ticket</th>\n",
       "      <th>Fare</th>\n",
       "      <th>Cabin</th>\n",
       "      <th>Embarked</th>\n",
       "      <th>number</th>\n",
       "    </tr>\n",
       "    <tr>\n",
       "      <th>Survived</th>\n",
       "      <th>Pclass</th>\n",
       "      <th></th>\n",
       "      <th></th>\n",
       "      <th></th>\n",
       "      <th></th>\n",
       "      <th></th>\n",
       "      <th></th>\n",
       "      <th></th>\n",
       "      <th></th>\n",
       "      <th></th>\n",
       "      <th></th>\n",
       "    </tr>\n",
       "  </thead>\n",
       "  <tbody>\n",
       "    <tr>\n",
       "      <th rowspan=\"3\" valign=\"top\">0</th>\n",
       "      <th>1</th>\n",
       "      <td>80</td>\n",
       "      <td>80</td>\n",
       "      <td>64</td>\n",
       "      <td>80</td>\n",
       "      <td>80</td>\n",
       "      <td>80</td>\n",
       "      <td>80</td>\n",
       "      <td>59</td>\n",
       "      <td>80</td>\n",
       "      <td>80</td>\n",
       "    </tr>\n",
       "    <tr>\n",
       "      <th>2</th>\n",
       "      <td>97</td>\n",
       "      <td>97</td>\n",
       "      <td>90</td>\n",
       "      <td>97</td>\n",
       "      <td>97</td>\n",
       "      <td>97</td>\n",
       "      <td>97</td>\n",
       "      <td>3</td>\n",
       "      <td>97</td>\n",
       "      <td>97</td>\n",
       "    </tr>\n",
       "    <tr>\n",
       "      <th>3</th>\n",
       "      <td>372</td>\n",
       "      <td>372</td>\n",
       "      <td>270</td>\n",
       "      <td>372</td>\n",
       "      <td>372</td>\n",
       "      <td>372</td>\n",
       "      <td>372</td>\n",
       "      <td>6</td>\n",
       "      <td>372</td>\n",
       "      <td>372</td>\n",
       "    </tr>\n",
       "    <tr>\n",
       "      <th rowspan=\"3\" valign=\"top\">1</th>\n",
       "      <th>1</th>\n",
       "      <td>136</td>\n",
       "      <td>136</td>\n",
       "      <td>122</td>\n",
       "      <td>136</td>\n",
       "      <td>136</td>\n",
       "      <td>136</td>\n",
       "      <td>136</td>\n",
       "      <td>117</td>\n",
       "      <td>134</td>\n",
       "      <td>136</td>\n",
       "    </tr>\n",
       "    <tr>\n",
       "      <th>2</th>\n",
       "      <td>87</td>\n",
       "      <td>87</td>\n",
       "      <td>83</td>\n",
       "      <td>87</td>\n",
       "      <td>87</td>\n",
       "      <td>87</td>\n",
       "      <td>87</td>\n",
       "      <td>13</td>\n",
       "      <td>87</td>\n",
       "      <td>87</td>\n",
       "    </tr>\n",
       "    <tr>\n",
       "      <th>3</th>\n",
       "      <td>119</td>\n",
       "      <td>119</td>\n",
       "      <td>85</td>\n",
       "      <td>119</td>\n",
       "      <td>119</td>\n",
       "      <td>119</td>\n",
       "      <td>119</td>\n",
       "      <td>6</td>\n",
       "      <td>119</td>\n",
       "      <td>119</td>\n",
       "    </tr>\n",
       "  </tbody>\n",
       "</table>\n",
       "</div>"
      ],
      "text/plain": [
       "                 Name  Sex  Age  SibSp  Parch  Ticket  Fare  Cabin  Embarked  \\\n",
       "Survived Pclass                                                                \n",
       "0        1         80   80   64     80     80      80    80     59        80   \n",
       "         2         97   97   90     97     97      97    97      3        97   \n",
       "         3        372  372  270    372    372     372   372      6       372   \n",
       "1        1        136  136  122    136    136     136   136    117       134   \n",
       "         2         87   87   83     87     87      87    87     13        87   \n",
       "         3        119  119   85    119    119     119   119      6       119   \n",
       "\n",
       "                 number  \n",
       "Survived Pclass          \n",
       "0        1           80  \n",
       "         2           97  \n",
       "         3          372  \n",
       "1        1          136  \n",
       "         2           87  \n",
       "         3          119  "
      ]
     },
     "execution_count": 14,
     "metadata": {},
     "output_type": "execute_result"
    }
   ],
   "source": [
    "count_data"
   ]
  },
  {
   "cell_type": "code",
   "execution_count": 15,
   "id": "44de27a4",
   "metadata": {},
   "outputs": [
    {
     "data": {
      "text/plain": [
       "0.6296296296296297"
      ]
     },
     "execution_count": 15,
     "metadata": {},
     "output_type": "execute_result"
    }
   ],
   "source": [
    "percentage_surviving_firstclass = count_data.loc[(1,1)]['number'] / (count_data.loc[(1,1)]['number'] + count_data.loc[(0,1)]['number'])\n",
    "percentage_surviving_firstclass"
   ]
  },
  {
   "cell_type": "markdown",
   "id": "ec4b149f",
   "metadata": {},
   "source": [
    "## Step 4"
   ]
  },
  {
   "cell_type": "code",
   "execution_count": 16,
   "id": "6304dbe6",
   "metadata": {
    "scrolled": true
   },
   "outputs": [
    {
     "data": {
      "text/plain": [
       "<AxesSubplot:xlabel='Pclass', ylabel='count'>"
      ]
     },
     "execution_count": 16,
     "metadata": {},
     "output_type": "execute_result"
    },
    {
     "data": {
      "image/png": "[encoded data removed]",
      "text/plain": [
       "<Figure size 432x288 with 1 Axes>"
      ]
     },
     "metadata": {
      "needs_background": "light"
     },
     "output_type": "display_data"
    }
   ],
   "source": [
    "sns.countplot(x=\"Pclass\", hue = \"Sex\", data=train)"
   ]
  },
  {
   "cell_type": "markdown",
   "id": "ecf16e18",
   "metadata": {},
   "source": [
    "## Step 5"
   ]
  },
  {
   "cell_type": "code",
   "execution_count": 17,
   "id": "79240709",
   "metadata": {},
   "outputs": [
    {
     "data": {
      "text/plain": [
       "<AxesSubplot:xlabel='Age', ylabel='Count'>"
      ]
     },
     "execution_count": 17,
     "metadata": {},
     "output_type": "execute_result"
    },
    {
     "data": {
      "image/png": "[encoded data removed]",
      "text/plain": [
       "<Figure size 432x288 with 1 Axes>"
      ]
     },
     "metadata": {
      "needs_background": "light"
     },
     "output_type": "display_data"
    }
   ],
   "source": [
    "sns.histplot(data=train, x=\"Age\", hue=\"Survived\")"
   ]
  },
  {
   "cell_type": "markdown",
   "id": "43476d02",
   "metadata": {},
   "source": [
    "## Step 6"
   ]
  },
  {
   "cell_type": "code",
   "execution_count": 18,
   "id": "23a8eeb1",
   "metadata": {},
   "outputs": [],
   "source": [
    "A = train.groupby(by=[\"Survived\"])"
   ]
  },
  {
   "cell_type": "code",
   "execution_count": 19,
   "id": "2157ab40",
   "metadata": {},
   "outputs": [
    {
     "name": "stdout",
     "output_type": "stream",
     "text": [
      "average age for survived passengers:  28.343689655172415\n",
      "average age for drowned passengers:  30.62617924528302\n"
     ]
    }
   ],
   "source": [
    "survived_ave = A.mean()['Age'][1]\n",
    "print(\"average age for survived passengers: \", survived_ave)\n",
    "drowned_ave = A.mean()['Age'][0]\n",
    "print(\"average age for drowned passengers: \", drowned_ave)"
   ]
  },
  {
   "cell_type": "markdown",
   "id": "1db033f4",
   "metadata": {},
   "source": [
    "## Step 7"
   ]
  },
  {
   "cell_type": "code",
   "execution_count": 20,
   "id": "4fe5f995",
   "metadata": {},
   "outputs": [],
   "source": [
    "train[\"Age\"].fillna(train['Age'].mean, inplace=True)"
   ]
  },
  {
   "cell_type": "markdown",
   "id": "534d05df",
   "metadata": {},
   "source": [
    "## Step 8"
   ]
  },
  {
   "cell_type": "code",
   "execution_count": 21,
   "id": "9b88f824",
   "metadata": {},
   "outputs": [],
   "source": [
    "z = train.groupby([\"Survived\", \"Pclass\", \"Sex\"])"
   ]
  },
  {
   "cell_type": "code",
   "execution_count": 22,
   "id": "db521db1",
   "metadata": {
    "scrolled": true
   },
   "outputs": [],
   "source": [
    "table = [[z.count()]]"
   ]
  },
  {
   "cell_type": "code",
   "execution_count": 23,
   "id": "67108e5f",
   "metadata": {},
   "outputs": [
    {
     "name": "stdout",
     "output_type": "stream",
     "text": [
      "[[                        Name  Age  SibSp  Parch  Ticket  Fare  Cabin  Embarked\n",
      "Survived Pclass Sex                                                           \n",
      "0        1      female     3    3      3      3       3     3      3         3\n",
      "                male      77   77     77     77      77    77     56        77\n",
      "         2      female     6    6      6      6       6     6      1         6\n",
      "                male      91   91     91     91      91    91      2        91\n",
      "         3      female    72   72     72     72      72    72      2        72\n",
      "                male     300  300    300    300     300   300      4       300\n",
      "1        1      female    91   91     91     91      91    91     78        89\n",
      "                male      45   45     45     45      45    45     39        45\n",
      "         2      female    70   70     70     70      70    70      9        70\n",
      "                male      17   17     17     17      17    17      4        17\n",
      "         3      female    72   72     72     72      72    72      4        72\n",
      "                male      47   47     47     47      47    47      2        47]]\n"
     ]
    }
   ],
   "source": [
    "print(table)"
   ]
  },
  {
   "cell_type": "markdown",
   "id": "e1b656e5",
   "metadata": {},
   "source": [
    "# 2.3 Build a Logistic Regression model"
   ]
  },
  {
   "cell_type": "markdown",
   "id": "8d17b7e9",
   "metadata": {},
   "source": [
    "## 1. Start with the Pclass column only (because it is numerical and complete)."
   ]
  },
  {
   "cell_type": "code",
   "execution_count": 66,
   "id": "6153ca1a",
   "metadata": {},
   "outputs": [],
   "source": [
    "import pandas as pd\n",
    "import numpy as np\n",
    "\n",
    "from matplotlib import pyplot as plt\n",
    "import seaborn as sns\n",
    "\n",
    "from sklearn.linear_model import LogisticRegression\n",
    "from sklearn.model_selection import train_test_split"
   ]
  },
  {
   "cell_type": "code",
   "execution_count": 26,
   "id": "8722546b",
   "metadata": {},
   "outputs": [],
   "source": [
    "X_train = train[[\"Pclass\"]]\n",
    "y_train = train[[\"Survived\"]]"
   ]
  },
  {
   "cell_type": "code",
   "execution_count": 27,
   "id": "5c90bb9e",
   "metadata": {},
   "outputs": [],
   "source": [
    "m = LogisticRegression() "
   ]
  },
  {
   "cell_type": "code",
   "execution_count": 28,
   "id": "ab3a4d85",
   "metadata": {},
   "outputs": [
    {
     "name": "stderr",
     "output_type": "stream",
     "text": [
      "/home/damoon/anaconda3/lib/python3.9/site-packages/sklearn/utils/validation.py:63: DataConversionWarning: A column-vector y was passed when a 1d array was expected. Please change the shape of y to (n_samples, ), for example using ravel().\n",
      "  return f(*args, **kwargs)\n"
     ]
    },
    {
     "data": {
      "text/plain": [
       "LogisticRegression()"
      ]
     },
     "execution_count": 28,
     "metadata": {},
     "output_type": "execute_result"
    }
   ],
   "source": [
    "m.fit(X_train, y_train) "
   ]
  },
  {
   "cell_type": "code",
   "execution_count": 29,
   "id": "5edb075c",
   "metadata": {},
   "outputs": [],
   "source": [
    "sample = train.sample(5)[[\"Pclass\"]]"
   ]
  },
  {
   "cell_type": "code",
   "execution_count": 30,
   "id": "ea0ead11",
   "metadata": {
    "scrolled": false
   },
   "outputs": [
    {
     "data": {
      "text/html": [
       "<div>\n",
       "<style scoped>\n",
       "    .dataframe tbody tr th:only-of-type {\n",
       "        vertical-align: middle;\n",
       "    }\n",
       "\n",
       "    .dataframe tbody tr th {\n",
       "        vertical-align: top;\n",
       "    }\n",
       "\n",
       "    .dataframe thead th {\n",
       "        text-align: right;\n",
       "    }\n",
       "</style>\n",
       "<table border=\"1\" class=\"dataframe\">\n",
       "  <thead>\n",
       "    <tr style=\"text-align: right;\">\n",
       "      <th></th>\n",
       "      <th>Pclass</th>\n",
       "    </tr>\n",
       "    <tr>\n",
       "      <th>PassengerId</th>\n",
       "      <th></th>\n",
       "    </tr>\n",
       "  </thead>\n",
       "  <tbody>\n",
       "    <tr>\n",
       "      <th>313</th>\n",
       "      <td>2</td>\n",
       "    </tr>\n",
       "    <tr>\n",
       "      <th>224</th>\n",
       "      <td>3</td>\n",
       "    </tr>\n",
       "    <tr>\n",
       "      <th>558</th>\n",
       "      <td>1</td>\n",
       "    </tr>\n",
       "    <tr>\n",
       "      <th>754</th>\n",
       "      <td>3</td>\n",
       "    </tr>\n",
       "    <tr>\n",
       "      <th>531</th>\n",
       "      <td>2</td>\n",
       "    </tr>\n",
       "  </tbody>\n",
       "</table>\n",
       "</div>"
      ],
      "text/plain": [
       "             Pclass\n",
       "PassengerId        \n",
       "313               2\n",
       "224               3\n",
       "558               1\n",
       "754               3\n",
       "531               2"
      ]
     },
     "execution_count": 30,
     "metadata": {},
     "output_type": "execute_result"
    }
   ],
   "source": [
    "sample"
   ]
  },
  {
   "cell_type": "code",
   "execution_count": 31,
   "id": "c43885fc",
   "metadata": {},
   "outputs": [],
   "source": [
    "predict_first = m.predict(sample)"
   ]
  },
  {
   "cell_type": "code",
   "execution_count": 32,
   "id": "54de9819",
   "metadata": {},
   "outputs": [
    {
     "data": {
      "text/plain": [
       "array([0, 0, 1, 0, 0])"
      ]
     },
     "execution_count": 32,
     "metadata": {},
     "output_type": "execute_result"
    }
   ],
   "source": [
    "predict_first"
   ]
  },
  {
   "cell_type": "markdown",
   "id": "912ec752",
   "metadata": {},
   "source": [
    "## 2.Print the coefficients calculated by the model."
   ]
  },
  {
   "cell_type": "code",
   "execution_count": 33,
   "id": "6676c861",
   "metadata": {},
   "outputs": [
    {
     "data": {
      "text/plain": [
       "-0.8437120730506076"
      ]
     },
     "execution_count": 33,
     "metadata": {},
     "output_type": "execute_result"
    }
   ],
   "source": [
    "m.coef_[0][0]"
   ]
  },
  {
   "cell_type": "code",
   "execution_count": 34,
   "id": "2b8b7598",
   "metadata": {},
   "outputs": [
    {
     "name": "stdout",
     "output_type": "stream",
     "text": [
      "coefficient is equal to:  -0.8437120730506076\n",
      "\n",
      "interception is equal to:  1.4325500494239256\n"
     ]
    }
   ],
   "source": [
    "print (\"coefficient is equal to: \", m.coef_[0][0])\n",
    "print (\"\\ninterception is equal to: \", m.intercept_[0])"
   ]
  },
  {
   "cell_type": "markdown",
   "id": "670eda4f",
   "metadata": {},
   "source": [
    "## 3.Calculate the probabilities for your data points belonging to the positive class."
   ]
  },
  {
   "cell_type": "code",
   "execution_count": 35,
   "id": "59e94fc1",
   "metadata": {},
   "outputs": [],
   "source": [
    "probs = m.predict_proba(X_train)[:, 1]"
   ]
  },
  {
   "cell_type": "code",
   "execution_count": 36,
   "id": "4a45e367",
   "metadata": {
    "scrolled": false
   },
   "outputs": [
    {
     "data": {
      "text/plain": [
       "array([0.2500049 , 0.64309848, 0.2500049 , 0.64309848, 0.2500049 ,\n",
       "       0.2500049 , 0.64309848, 0.2500049 , 0.2500049 , 0.43662418,\n",
       "       0.2500049 , 0.64309848, 0.2500049 , 0.2500049 , 0.2500049 ,\n",
       "       0.43662418, 0.2500049 , 0.43662418, 0.2500049 , 0.2500049 ,\n",
       "       0.43662418, 0.43662418, 0.2500049 , 0.64309848, 0.2500049 ,\n",
       "       0.2500049 , 0.2500049 , 0.64309848, 0.2500049 , 0.2500049 ,\n",
       "       0.64309848, 0.64309848, 0.2500049 , 0.43662418, 0.64309848,\n",
       "       0.64309848, 0.2500049 , 0.2500049 , 0.2500049 , 0.2500049 ,\n",
       "       0.2500049 , 0.43662418, 0.2500049 , 0.43662418, 0.2500049 ,\n",
       "       0.2500049 , 0.2500049 , 0.2500049 , 0.2500049 , 0.2500049 ,\n",
       "       0.2500049 , 0.2500049 , 0.64309848, 0.43662418, 0.64309848,\n",
       "       0.64309848, 0.43662418, 0.2500049 , 0.43662418, 0.2500049 ,\n",
       "       0.2500049 , 0.64309848, 0.64309848, 0.2500049 , 0.64309848,\n",
       "       0.2500049 , 0.43662418, 0.2500049 , 0.2500049 , 0.2500049 ,\n",
       "       0.43662418, 0.2500049 , 0.43662418, 0.2500049 , 0.2500049 ,\n",
       "       0.2500049 , 0.2500049 , 0.2500049 , 0.43662418, 0.2500049 ,\n",
       "       0.2500049 , 0.2500049 , 0.2500049 , 0.64309848, 0.43662418,\n",
       "       0.2500049 , 0.2500049 , 0.2500049 , 0.64309848, 0.2500049 ,\n",
       "       0.2500049 , 0.2500049 , 0.64309848, 0.2500049 , 0.2500049 ,\n",
       "       0.2500049 , 0.64309848, 0.64309848, 0.43662418, 0.43662418,\n",
       "       0.2500049 , 0.2500049 , 0.64309848, 0.2500049 , 0.2500049 ,\n",
       "       0.2500049 , 0.2500049 , 0.2500049 , 0.2500049 , 0.2500049 ,\n",
       "       0.64309848, 0.2500049 , 0.2500049 , 0.2500049 , 0.2500049 ,\n",
       "       0.2500049 , 0.2500049 , 0.43662418, 0.64309848, 0.2500049 ,\n",
       "       0.43662418, 0.2500049 , 0.43662418, 0.43662418, 0.64309848,\n",
       "       0.2500049 , 0.2500049 , 0.2500049 , 0.2500049 , 0.2500049 ,\n",
       "       0.2500049 , 0.2500049 , 0.2500049 , 0.43662418, 0.43662418,\n",
       "       0.43662418, 0.64309848, 0.64309848, 0.2500049 , 0.64309848,\n",
       "       0.2500049 , 0.2500049 , 0.2500049 , 0.2500049 , 0.43662418,\n",
       "       0.43662418, 0.2500049 , 0.2500049 , 0.43662418, 0.43662418,\n",
       "       0.43662418, 0.64309848, 0.2500049 , 0.2500049 , 0.2500049 ,\n",
       "       0.64309848, 0.2500049 , 0.2500049 , 0.2500049 , 0.2500049 ,\n",
       "       0.2500049 , 0.43662418, 0.2500049 , 0.2500049 , 0.2500049 ,\n",
       "       0.2500049 , 0.64309848, 0.2500049 , 0.64309848, 0.2500049 ,\n",
       "       0.64309848, 0.2500049 , 0.2500049 , 0.2500049 , 0.64309848,\n",
       "       0.2500049 , 0.2500049 , 0.64309848, 0.43662418, 0.2500049 ,\n",
       "       0.2500049 , 0.43662418, 0.2500049 , 0.43662418, 0.2500049 ,\n",
       "       0.64309848, 0.2500049 , 0.64309848, 0.2500049 , 0.2500049 ,\n",
       "       0.43662418, 0.43662418, 0.2500049 , 0.43662418, 0.64309848,\n",
       "       0.64309848, 0.2500049 , 0.2500049 , 0.2500049 , 0.43662418,\n",
       "       0.2500049 , 0.2500049 , 0.2500049 , 0.2500049 , 0.2500049 ,\n",
       "       0.2500049 , 0.2500049 , 0.2500049 , 0.2500049 , 0.64309848,\n",
       "       0.2500049 , 0.43662418, 0.2500049 , 0.43662418, 0.2500049 ,\n",
       "       0.64309848, 0.2500049 , 0.43662418, 0.64309848, 0.43662418,\n",
       "       0.2500049 , 0.43662418, 0.2500049 , 0.2500049 , 0.64309848,\n",
       "       0.2500049 , 0.43662418, 0.2500049 , 0.43662418, 0.2500049 ,\n",
       "       0.64309848, 0.2500049 , 0.43662418, 0.2500049 , 0.43662418,\n",
       "       0.2500049 , 0.43662418, 0.43662418, 0.43662418, 0.43662418,\n",
       "       0.2500049 , 0.2500049 , 0.43662418, 0.2500049 , 0.2500049 ,\n",
       "       0.64309848, 0.2500049 , 0.43662418, 0.64309848, 0.43662418,\n",
       "       0.2500049 , 0.2500049 , 0.64309848, 0.2500049 , 0.2500049 ,\n",
       "       0.2500049 , 0.64309848, 0.64309848, 0.64309848, 0.43662418,\n",
       "       0.2500049 , 0.2500049 , 0.64309848, 0.64309848, 0.2500049 ,\n",
       "       0.43662418, 0.2500049 , 0.2500049 , 0.64309848, 0.64309848,\n",
       "       0.64309848, 0.2500049 , 0.43662418, 0.64309848, 0.2500049 ,\n",
       "       0.64309848, 0.2500049 , 0.43662418, 0.2500049 , 0.2500049 ,\n",
       "       0.2500049 , 0.2500049 , 0.2500049 , 0.2500049 , 0.64309848,\n",
       "       0.2500049 , 0.2500049 , 0.2500049 , 0.43662418, 0.2500049 ,\n",
       "       0.64309848, 0.64309848, 0.43662418, 0.2500049 , 0.2500049 ,\n",
       "       0.64309848, 0.2500049 , 0.64309848, 0.64309848, 0.64309848,\n",
       "       0.2500049 , 0.2500049 , 0.2500049 , 0.43662418, 0.2500049 ,\n",
       "       0.64309848, 0.64309848, 0.64309848, 0.43662418, 0.64309848,\n",
       "       0.64309848, 0.64309848, 0.43662418, 0.2500049 , 0.43662418,\n",
       "       0.2500049 , 0.43662418, 0.43662418, 0.64309848, 0.64309848,\n",
       "       0.2500049 , 0.2500049 , 0.43662418, 0.43662418, 0.2500049 ,\n",
       "       0.64309848, 0.2500049 , 0.43662418, 0.2500049 , 0.64309848,\n",
       "       0.2500049 , 0.64309848, 0.64309848, 0.2500049 , 0.64309848,\n",
       "       0.2500049 , 0.64309848, 0.64309848, 0.2500049 , 0.64309848,\n",
       "       0.43662418, 0.64309848, 0.43662418, 0.43662418, 0.43662418,\n",
       "       0.43662418, 0.43662418, 0.2500049 , 0.2500049 , 0.2500049 ,\n",
       "       0.2500049 , 0.64309848, 0.2500049 , 0.2500049 , 0.2500049 ,\n",
       "       0.2500049 , 0.64309848, 0.43662418, 0.2500049 , 0.2500049 ,\n",
       "       0.2500049 , 0.43662418, 0.2500049 , 0.2500049 , 0.2500049 ,\n",
       "       0.2500049 , 0.64309848, 0.2500049 , 0.2500049 , 0.64309848,\n",
       "       0.64309848, 0.2500049 , 0.2500049 , 0.64309848, 0.2500049 ,\n",
       "       0.64309848, 0.2500049 , 0.64309848, 0.2500049 , 0.2500049 ,\n",
       "       0.64309848, 0.2500049 , 0.2500049 , 0.64309848, 0.2500049 ,\n",
       "       0.43662418, 0.2500049 , 0.43662418, 0.2500049 , 0.43662418,\n",
       "       0.64309848, 0.2500049 , 0.2500049 , 0.64309848, 0.2500049 ,\n",
       "       0.2500049 , 0.2500049 , 0.43662418, 0.43662418, 0.43662418,\n",
       "       0.2500049 , 0.2500049 , 0.2500049 , 0.2500049 , 0.2500049 ,\n",
       "       0.43662418, 0.2500049 , 0.43662418, 0.2500049 , 0.2500049 ,\n",
       "       0.2500049 , 0.2500049 , 0.64309848, 0.43662418, 0.2500049 ,\n",
       "       0.2500049 , 0.43662418, 0.43662418, 0.43662418, 0.2500049 ,\n",
       "       0.2500049 , 0.2500049 , 0.2500049 , 0.2500049 , 0.2500049 ,\n",
       "       0.2500049 , 0.43662418, 0.43662418, 0.2500049 , 0.2500049 ,\n",
       "       0.64309848, 0.2500049 , 0.43662418, 0.2500049 , 0.64309848,\n",
       "       0.64309848, 0.2500049 , 0.43662418, 0.64309848, 0.43662418,\n",
       "       0.43662418, 0.2500049 , 0.2500049 , 0.43662418, 0.2500049 ,\n",
       "       0.64309848, 0.43662418, 0.64309848, 0.2500049 , 0.64309848,\n",
       "       0.43662418, 0.2500049 , 0.64309848, 0.64309848, 0.2500049 ,\n",
       "       0.2500049 , 0.64309848, 0.64309848, 0.43662418, 0.2500049 ,\n",
       "       0.64309848, 0.2500049 , 0.64309848, 0.43662418, 0.2500049 ,\n",
       "       0.2500049 , 0.43662418, 0.64309848, 0.2500049 , 0.2500049 ,\n",
       "       0.2500049 , 0.2500049 , 0.43662418, 0.43662418, 0.2500049 ,\n",
       "       0.64309848, 0.43662418, 0.2500049 , 0.2500049 , 0.2500049 ,\n",
       "       0.2500049 , 0.43662418, 0.2500049 , 0.2500049 , 0.64309848,\n",
       "       0.2500049 , 0.64309848, 0.64309848, 0.2500049 , 0.2500049 ,\n",
       "       0.2500049 , 0.2500049 , 0.64309848, 0.64309848, 0.2500049 ,\n",
       "       0.2500049 , 0.64309848, 0.2500049 , 0.64309848, 0.2500049 ,\n",
       "       0.2500049 , 0.2500049 , 0.2500049 , 0.2500049 , 0.64309848,\n",
       "       0.64309848, 0.43662418, 0.64309848, 0.2500049 , 0.2500049 ,\n",
       "       0.2500049 , 0.2500049 , 0.64309848, 0.64309848, 0.2500049 ,\n",
       "       0.64309848, 0.43662418, 0.2500049 , 0.43662418, 0.2500049 ,\n",
       "       0.64309848, 0.2500049 , 0.2500049 , 0.64309848, 0.2500049 ,\n",
       "       0.2500049 , 0.43662418, 0.64309848, 0.2500049 , 0.43662418,\n",
       "       0.43662418, 0.2500049 , 0.2500049 , 0.2500049 , 0.2500049 ,\n",
       "       0.43662418, 0.64309848, 0.64309848, 0.2500049 , 0.64309848,\n",
       "       0.64309848, 0.2500049 , 0.2500049 , 0.43662418, 0.64309848,\n",
       "       0.64309848, 0.43662418, 0.43662418, 0.2500049 , 0.43662418,\n",
       "       0.64309848, 0.43662418, 0.2500049 , 0.2500049 , 0.2500049 ,\n",
       "       0.64309848, 0.64309848, 0.64309848, 0.64309848, 0.2500049 ,\n",
       "       0.2500049 , 0.2500049 , 0.43662418, 0.2500049 , 0.2500049 ,\n",
       "       0.2500049 , 0.2500049 , 0.2500049 , 0.2500049 , 0.2500049 ,\n",
       "       0.43662418, 0.64309848, 0.64309848, 0.2500049 , 0.2500049 ,\n",
       "       0.2500049 , 0.43662418, 0.64309848, 0.2500049 , 0.2500049 ,\n",
       "       0.43662418, 0.64309848, 0.43662418, 0.64309848, 0.2500049 ,\n",
       "       0.64309848, 0.43662418, 0.64309848, 0.2500049 , 0.2500049 ,\n",
       "       0.2500049 , 0.64309848, 0.2500049 , 0.2500049 , 0.43662418,\n",
       "       0.2500049 , 0.43662418, 0.2500049 , 0.2500049 , 0.64309848,\n",
       "       0.43662418, 0.2500049 , 0.64309848, 0.2500049 , 0.64309848,\n",
       "       0.2500049 , 0.2500049 , 0.64309848, 0.43662418, 0.64309848,\n",
       "       0.2500049 , 0.2500049 , 0.2500049 , 0.2500049 , 0.2500049 ,\n",
       "       0.43662418, 0.2500049 , 0.2500049 , 0.43662418, 0.43662418,\n",
       "       0.2500049 , 0.64309848, 0.2500049 , 0.2500049 , 0.2500049 ,\n",
       "       0.64309848, 0.43662418, 0.64309848, 0.2500049 , 0.2500049 ,\n",
       "       0.64309848, 0.2500049 , 0.64309848, 0.64309848, 0.2500049 ,\n",
       "       0.43662418, 0.2500049 , 0.43662418, 0.2500049 , 0.2500049 ,\n",
       "       0.2500049 , 0.64309848, 0.2500049 , 0.2500049 , 0.2500049 ,\n",
       "       0.64309848, 0.2500049 , 0.64309848, 0.2500049 , 0.2500049 ,\n",
       "       0.2500049 , 0.43662418, 0.2500049 , 0.2500049 , 0.2500049 ,\n",
       "       0.43662418, 0.2500049 , 0.2500049 , 0.43662418, 0.64309848,\n",
       "       0.64309848, 0.2500049 , 0.64309848, 0.2500049 , 0.2500049 ,\n",
       "       0.43662418, 0.43662418, 0.2500049 , 0.2500049 , 0.64309848,\n",
       "       0.43662418, 0.64309848, 0.43662418, 0.43662418, 0.43662418,\n",
       "       0.2500049 , 0.2500049 , 0.2500049 , 0.2500049 , 0.64309848,\n",
       "       0.2500049 , 0.64309848, 0.2500049 , 0.2500049 , 0.43662418,\n",
       "       0.43662418, 0.2500049 , 0.2500049 , 0.2500049 , 0.64309848,\n",
       "       0.64309848, 0.2500049 , 0.2500049 , 0.2500049 , 0.64309848,\n",
       "       0.43662418, 0.2500049 , 0.2500049 , 0.64309848, 0.2500049 ,\n",
       "       0.64309848, 0.64309848, 0.2500049 , 0.2500049 , 0.2500049 ,\n",
       "       0.43662418, 0.43662418, 0.64309848, 0.64309848, 0.2500049 ,\n",
       "       0.64309848, 0.64309848, 0.64309848, 0.2500049 , 0.43662418,\n",
       "       0.2500049 , 0.64309848, 0.43662418, 0.2500049 , 0.2500049 ,\n",
       "       0.43662418, 0.2500049 , 0.43662418, 0.43662418, 0.64309848,\n",
       "       0.2500049 , 0.43662418, 0.2500049 , 0.43662418, 0.2500049 ,\n",
       "       0.64309848, 0.2500049 , 0.43662418, 0.43662418, 0.43662418,\n",
       "       0.2500049 , 0.2500049 , 0.64309848, 0.2500049 , 0.2500049 ,\n",
       "       0.64309848, 0.64309848, 0.64309848, 0.2500049 , 0.2500049 ,\n",
       "       0.64309848, 0.2500049 , 0.43662418, 0.64309848, 0.2500049 ,\n",
       "       0.43662418, 0.2500049 , 0.2500049 , 0.2500049 , 0.43662418,\n",
       "       0.43662418, 0.2500049 , 0.43662418, 0.2500049 , 0.64309848,\n",
       "       0.2500049 , 0.2500049 , 0.2500049 , 0.64309848, 0.2500049 ,\n",
       "       0.64309848, 0.64309848, 0.2500049 , 0.2500049 , 0.2500049 ,\n",
       "       0.2500049 , 0.2500049 , 0.43662418, 0.2500049 , 0.43662418,\n",
       "       0.2500049 , 0.2500049 , 0.2500049 , 0.2500049 , 0.64309848,\n",
       "       0.2500049 , 0.64309848, 0.64309848, 0.2500049 , 0.2500049 ,\n",
       "       0.2500049 , 0.2500049 , 0.2500049 , 0.2500049 , 0.64309848,\n",
       "       0.2500049 , 0.43662418, 0.2500049 , 0.64309848, 0.2500049 ,\n",
       "       0.43662418, 0.64309848, 0.2500049 , 0.2500049 , 0.2500049 ,\n",
       "       0.43662418, 0.43662418, 0.64309848, 0.2500049 , 0.2500049 ,\n",
       "       0.2500049 , 0.64309848, 0.2500049 , 0.43662418, 0.64309848,\n",
       "       0.2500049 , 0.2500049 , 0.43662418, 0.2500049 , 0.2500049 ,\n",
       "       0.64309848, 0.2500049 , 0.43662418, 0.2500049 , 0.2500049 ,\n",
       "       0.64309848, 0.2500049 , 0.64309848, 0.2500049 , 0.2500049 ,\n",
       "       0.2500049 , 0.2500049 , 0.43662418, 0.2500049 , 0.64309848,\n",
       "       0.2500049 , 0.43662418, 0.2500049 , 0.2500049 , 0.2500049 ,\n",
       "       0.64309848, 0.2500049 , 0.2500049 , 0.2500049 , 0.64309848,\n",
       "       0.2500049 , 0.43662418, 0.64309848, 0.2500049 , 0.2500049 ,\n",
       "       0.2500049 , 0.2500049 , 0.2500049 , 0.43662418, 0.64309848,\n",
       "       0.2500049 , 0.2500049 , 0.2500049 , 0.64309848, 0.43662418,\n",
       "       0.2500049 , 0.64309848, 0.64309848, 0.2500049 , 0.2500049 ,\n",
       "       0.2500049 , 0.43662418, 0.64309848, 0.2500049 , 0.43662418,\n",
       "       0.43662418, 0.43662418, 0.64309848, 0.2500049 , 0.2500049 ,\n",
       "       0.2500049 , 0.64309848, 0.64309848, 0.2500049 , 0.43662418,\n",
       "       0.2500049 , 0.2500049 , 0.2500049 , 0.2500049 , 0.64309848,\n",
       "       0.43662418, 0.2500049 , 0.2500049 , 0.43662418, 0.2500049 ,\n",
       "       0.2500049 , 0.43662418, 0.64309848, 0.2500049 , 0.64309848,\n",
       "       0.2500049 ])"
      ]
     },
     "execution_count": 36,
     "metadata": {},
     "output_type": "execute_result"
    }
   ],
   "source": [
    "probs"
   ]
  },
  {
   "cell_type": "markdown",
   "id": "d6220599",
   "metadata": {},
   "source": [
    "## 4.Suppose you classify all points with a probability > 0.9 as positive."
   ]
  },
  {
   "cell_type": "code",
   "execution_count": 37,
   "id": "6408ec3e",
   "metadata": {},
   "outputs": [],
   "source": [
    "predictions = (m.predict_proba(X_train)[:,1] >= 0.9).astype(int)"
   ]
  },
  {
   "cell_type": "code",
   "execution_count": 38,
   "id": "e3dccf57",
   "metadata": {},
   "outputs": [
    {
     "data": {
      "text/plain": [
       "array([0, 0, 0, 0, 0, 0, 0, 0, 0, 0, 0, 0, 0, 0, 0, 0, 0, 0, 0, 0, 0, 0,\n",
       "       0, 0, 0, 0, 0, 0, 0, 0, 0, 0, 0, 0, 0, 0, 0, 0, 0, 0, 0, 0, 0, 0,\n",
       "       0, 0, 0, 0, 0, 0, 0, 0, 0, 0, 0, 0, 0, 0, 0, 0, 0, 0, 0, 0, 0, 0,\n",
       "       0, 0, 0, 0, 0, 0, 0, 0, 0, 0, 0, 0, 0, 0, 0, 0, 0, 0, 0, 0, 0, 0,\n",
       "       0, 0, 0, 0, 0, 0, 0, 0, 0, 0, 0, 0, 0, 0, 0, 0, 0, 0, 0, 0, 0, 0,\n",
       "       0, 0, 0, 0, 0, 0, 0, 0, 0, 0, 0, 0, 0, 0, 0, 0, 0, 0, 0, 0, 0, 0,\n",
       "       0, 0, 0, 0, 0, 0, 0, 0, 0, 0, 0, 0, 0, 0, 0, 0, 0, 0, 0, 0, 0, 0,\n",
       "       0, 0, 0, 0, 0, 0, 0, 0, 0, 0, 0, 0, 0, 0, 0, 0, 0, 0, 0, 0, 0, 0,\n",
       "       0, 0, 0, 0, 0, 0, 0, 0, 0, 0, 0, 0, 0, 0, 0, 0, 0, 0, 0, 0, 0, 0,\n",
       "       0, 0, 0, 0, 0, 0, 0, 0, 0, 0, 0, 0, 0, 0, 0, 0, 0, 0, 0, 0, 0, 0,\n",
       "       0, 0, 0, 0, 0, 0, 0, 0, 0, 0, 0, 0, 0, 0, 0, 0, 0, 0, 0, 0, 0, 0,\n",
       "       0, 0, 0, 0, 0, 0, 0, 0, 0, 0, 0, 0, 0, 0, 0, 0, 0, 0, 0, 0, 0, 0,\n",
       "       0, 0, 0, 0, 0, 0, 0, 0, 0, 0, 0, 0, 0, 0, 0, 0, 0, 0, 0, 0, 0, 0,\n",
       "       0, 0, 0, 0, 0, 0, 0, 0, 0, 0, 0, 0, 0, 0, 0, 0, 0, 0, 0, 0, 0, 0,\n",
       "       0, 0, 0, 0, 0, 0, 0, 0, 0, 0, 0, 0, 0, 0, 0, 0, 0, 0, 0, 0, 0, 0,\n",
       "       0, 0, 0, 0, 0, 0, 0, 0, 0, 0, 0, 0, 0, 0, 0, 0, 0, 0, 0, 0, 0, 0,\n",
       "       0, 0, 0, 0, 0, 0, 0, 0, 0, 0, 0, 0, 0, 0, 0, 0, 0, 0, 0, 0, 0, 0,\n",
       "       0, 0, 0, 0, 0, 0, 0, 0, 0, 0, 0, 0, 0, 0, 0, 0, 0, 0, 0, 0, 0, 0,\n",
       "       0, 0, 0, 0, 0, 0, 0, 0, 0, 0, 0, 0, 0, 0, 0, 0, 0, 0, 0, 0, 0, 0,\n",
       "       0, 0, 0, 0, 0, 0, 0, 0, 0, 0, 0, 0, 0, 0, 0, 0, 0, 0, 0, 0, 0, 0,\n",
       "       0, 0, 0, 0, 0, 0, 0, 0, 0, 0, 0, 0, 0, 0, 0, 0, 0, 0, 0, 0, 0, 0,\n",
       "       0, 0, 0, 0, 0, 0, 0, 0, 0, 0, 0, 0, 0, 0, 0, 0, 0, 0, 0, 0, 0, 0,\n",
       "       0, 0, 0, 0, 0, 0, 0, 0, 0, 0, 0, 0, 0, 0, 0, 0, 0, 0, 0, 0, 0, 0,\n",
       "       0, 0, 0, 0, 0, 0, 0, 0, 0, 0, 0, 0, 0, 0, 0, 0, 0, 0, 0, 0, 0, 0,\n",
       "       0, 0, 0, 0, 0, 0, 0, 0, 0, 0, 0, 0, 0, 0, 0, 0, 0, 0, 0, 0, 0, 0,\n",
       "       0, 0, 0, 0, 0, 0, 0, 0, 0, 0, 0, 0, 0, 0, 0, 0, 0, 0, 0, 0, 0, 0,\n",
       "       0, 0, 0, 0, 0, 0, 0, 0, 0, 0, 0, 0, 0, 0, 0, 0, 0, 0, 0, 0, 0, 0,\n",
       "       0, 0, 0, 0, 0, 0, 0, 0, 0, 0, 0, 0, 0, 0, 0, 0, 0, 0, 0, 0, 0, 0,\n",
       "       0, 0, 0, 0, 0, 0, 0, 0, 0, 0, 0, 0, 0, 0, 0, 0, 0, 0, 0, 0, 0, 0,\n",
       "       0, 0, 0, 0, 0, 0, 0, 0, 0, 0, 0, 0, 0, 0, 0, 0, 0, 0, 0, 0, 0, 0,\n",
       "       0, 0, 0, 0, 0, 0, 0, 0, 0, 0, 0, 0, 0, 0, 0, 0, 0, 0, 0, 0, 0, 0,\n",
       "       0, 0, 0, 0, 0, 0, 0, 0, 0, 0, 0, 0, 0, 0, 0, 0, 0, 0, 0, 0, 0, 0,\n",
       "       0, 0, 0, 0, 0, 0, 0, 0, 0, 0, 0, 0, 0, 0, 0, 0, 0, 0, 0, 0, 0, 0,\n",
       "       0, 0, 0, 0, 0, 0, 0, 0, 0, 0, 0, 0, 0, 0, 0, 0, 0, 0, 0, 0, 0, 0,\n",
       "       0, 0, 0, 0, 0, 0, 0, 0, 0, 0, 0, 0, 0, 0, 0, 0, 0, 0, 0, 0, 0, 0,\n",
       "       0, 0, 0, 0, 0, 0, 0, 0, 0, 0, 0, 0, 0, 0, 0, 0, 0, 0, 0, 0, 0, 0,\n",
       "       0, 0, 0, 0, 0, 0, 0, 0, 0, 0, 0, 0, 0, 0, 0, 0, 0, 0, 0, 0, 0, 0,\n",
       "       0, 0, 0, 0, 0, 0, 0, 0, 0, 0, 0, 0, 0, 0, 0, 0, 0, 0, 0, 0, 0, 0,\n",
       "       0, 0, 0, 0, 0, 0, 0, 0, 0, 0, 0, 0, 0, 0, 0, 0, 0, 0, 0, 0, 0, 0,\n",
       "       0, 0, 0, 0, 0, 0, 0, 0, 0, 0, 0, 0, 0, 0, 0, 0, 0, 0, 0, 0, 0, 0,\n",
       "       0, 0, 0, 0, 0, 0, 0, 0, 0, 0, 0])"
      ]
     },
     "execution_count": 38,
     "metadata": {},
     "output_type": "execute_result"
    }
   ],
   "source": [
    "predictions"
   ]
  },
  {
   "cell_type": "markdown",
   "id": "80aa0dac",
   "metadata": {},
   "source": [
    "## How does the result of your prediction change?"
   ]
  },
  {
   "cell_type": "code",
   "execution_count": 39,
   "id": "ca263844",
   "metadata": {},
   "outputs": [],
   "source": [
    "## they will change to 0. Because we have selected aq very conservative threshold and no point will remain to be classified as positive."
   ]
  },
  {
   "cell_type": "markdown",
   "id": "46f9f5ad",
   "metadata": {},
   "source": [
    "## How does it change if you change the threshold to > 0.1?"
   ]
  },
  {
   "cell_type": "code",
   "execution_count": 40,
   "id": "eb594722",
   "metadata": {},
   "outputs": [
    {
     "data": {
      "text/plain": [
       "array([1, 1, 1, 1, 1, 1, 1, 1, 1, 1, 1, 1, 1, 1, 1, 1, 1, 1, 1, 1, 1, 1,\n",
       "       1, 1, 1, 1, 1, 1, 1, 1, 1, 1, 1, 1, 1, 1, 1, 1, 1, 1, 1, 1, 1, 1,\n",
       "       1, 1, 1, 1, 1, 1, 1, 1, 1, 1, 1, 1, 1, 1, 1, 1, 1, 1, 1, 1, 1, 1,\n",
       "       1, 1, 1, 1, 1, 1, 1, 1, 1, 1, 1, 1, 1, 1, 1, 1, 1, 1, 1, 1, 1, 1,\n",
       "       1, 1, 1, 1, 1, 1, 1, 1, 1, 1, 1, 1, 1, 1, 1, 1, 1, 1, 1, 1, 1, 1,\n",
       "       1, 1, 1, 1, 1, 1, 1, 1, 1, 1, 1, 1, 1, 1, 1, 1, 1, 1, 1, 1, 1, 1,\n",
       "       1, 1, 1, 1, 1, 1, 1, 1, 1, 1, 1, 1, 1, 1, 1, 1, 1, 1, 1, 1, 1, 1,\n",
       "       1, 1, 1, 1, 1, 1, 1, 1, 1, 1, 1, 1, 1, 1, 1, 1, 1, 1, 1, 1, 1, 1,\n",
       "       1, 1, 1, 1, 1, 1, 1, 1, 1, 1, 1, 1, 1, 1, 1, 1, 1, 1, 1, 1, 1, 1,\n",
       "       1, 1, 1, 1, 1, 1, 1, 1, 1, 1, 1, 1, 1, 1, 1, 1, 1, 1, 1, 1, 1, 1,\n",
       "       1, 1, 1, 1, 1, 1, 1, 1, 1, 1, 1, 1, 1, 1, 1, 1, 1, 1, 1, 1, 1, 1,\n",
       "       1, 1, 1, 1, 1, 1, 1, 1, 1, 1, 1, 1, 1, 1, 1, 1, 1, 1, 1, 1, 1, 1,\n",
       "       1, 1, 1, 1, 1, 1, 1, 1, 1, 1, 1, 1, 1, 1, 1, 1, 1, 1, 1, 1, 1, 1,\n",
       "       1, 1, 1, 1, 1, 1, 1, 1, 1, 1, 1, 1, 1, 1, 1, 1, 1, 1, 1, 1, 1, 1,\n",
       "       1, 1, 1, 1, 1, 1, 1, 1, 1, 1, 1, 1, 1, 1, 1, 1, 1, 1, 1, 1, 1, 1,\n",
       "       1, 1, 1, 1, 1, 1, 1, 1, 1, 1, 1, 1, 1, 1, 1, 1, 1, 1, 1, 1, 1, 1,\n",
       "       1, 1, 1, 1, 1, 1, 1, 1, 1, 1, 1, 1, 1, 1, 1, 1, 1, 1, 1, 1, 1, 1,\n",
       "       1, 1, 1, 1, 1, 1, 1, 1, 1, 1, 1, 1, 1, 1, 1, 1, 1, 1, 1, 1, 1, 1,\n",
       "       1, 1, 1, 1, 1, 1, 1, 1, 1, 1, 1, 1, 1, 1, 1, 1, 1, 1, 1, 1, 1, 1,\n",
       "       1, 1, 1, 1, 1, 1, 1, 1, 1, 1, 1, 1, 1, 1, 1, 1, 1, 1, 1, 1, 1, 1,\n",
       "       1, 1, 1, 1, 1, 1, 1, 1, 1, 1, 1, 1, 1, 1, 1, 1, 1, 1, 1, 1, 1, 1,\n",
       "       1, 1, 1, 1, 1, 1, 1, 1, 1, 1, 1, 1, 1, 1, 1, 1, 1, 1, 1, 1, 1, 1,\n",
       "       1, 1, 1, 1, 1, 1, 1, 1, 1, 1, 1, 1, 1, 1, 1, 1, 1, 1, 1, 1, 1, 1,\n",
       "       1, 1, 1, 1, 1, 1, 1, 1, 1, 1, 1, 1, 1, 1, 1, 1, 1, 1, 1, 1, 1, 1,\n",
       "       1, 1, 1, 1, 1, 1, 1, 1, 1, 1, 1, 1, 1, 1, 1, 1, 1, 1, 1, 1, 1, 1,\n",
       "       1, 1, 1, 1, 1, 1, 1, 1, 1, 1, 1, 1, 1, 1, 1, 1, 1, 1, 1, 1, 1, 1,\n",
       "       1, 1, 1, 1, 1, 1, 1, 1, 1, 1, 1, 1, 1, 1, 1, 1, 1, 1, 1, 1, 1, 1,\n",
       "       1, 1, 1, 1, 1, 1, 1, 1, 1, 1, 1, 1, 1, 1, 1, 1, 1, 1, 1, 1, 1, 1,\n",
       "       1, 1, 1, 1, 1, 1, 1, 1, 1, 1, 1, 1, 1, 1, 1, 1, 1, 1, 1, 1, 1, 1,\n",
       "       1, 1, 1, 1, 1, 1, 1, 1, 1, 1, 1, 1, 1, 1, 1, 1, 1, 1, 1, 1, 1, 1,\n",
       "       1, 1, 1, 1, 1, 1, 1, 1, 1, 1, 1, 1, 1, 1, 1, 1, 1, 1, 1, 1, 1, 1,\n",
       "       1, 1, 1, 1, 1, 1, 1, 1, 1, 1, 1, 1, 1, 1, 1, 1, 1, 1, 1, 1, 1, 1,\n",
       "       1, 1, 1, 1, 1, 1, 1, 1, 1, 1, 1, 1, 1, 1, 1, 1, 1, 1, 1, 1, 1, 1,\n",
       "       1, 1, 1, 1, 1, 1, 1, 1, 1, 1, 1, 1, 1, 1, 1, 1, 1, 1, 1, 1, 1, 1,\n",
       "       1, 1, 1, 1, 1, 1, 1, 1, 1, 1, 1, 1, 1, 1, 1, 1, 1, 1, 1, 1, 1, 1,\n",
       "       1, 1, 1, 1, 1, 1, 1, 1, 1, 1, 1, 1, 1, 1, 1, 1, 1, 1, 1, 1, 1, 1,\n",
       "       1, 1, 1, 1, 1, 1, 1, 1, 1, 1, 1, 1, 1, 1, 1, 1, 1, 1, 1, 1, 1, 1,\n",
       "       1, 1, 1, 1, 1, 1, 1, 1, 1, 1, 1, 1, 1, 1, 1, 1, 1, 1, 1, 1, 1, 1,\n",
       "       1, 1, 1, 1, 1, 1, 1, 1, 1, 1, 1, 1, 1, 1, 1, 1, 1, 1, 1, 1, 1, 1,\n",
       "       1, 1, 1, 1, 1, 1, 1, 1, 1, 1, 1, 1, 1, 1, 1, 1, 1, 1, 1, 1, 1, 1,\n",
       "       1, 1, 1, 1, 1, 1, 1, 1, 1, 1, 1])"
      ]
     },
     "execution_count": 40,
     "metadata": {},
     "output_type": "execute_result"
    }
   ],
   "source": [
    "predictions = (m.predict_proba(X_train)[:,1] >= 0.1).astype(int)\n",
    "predictions"
   ]
  },
  {
   "cell_type": "markdown",
   "id": "2e1c771d",
   "metadata": {},
   "source": [
    "# 2.6 feature Engineering"
   ]
  },
  {
   "cell_type": "markdown",
   "id": "bbe50418",
   "metadata": {},
   "source": [
    "## Pick one of the code examples below and follow the instructions in the script."
   ]
  },
  {
   "cell_type": "markdown",
   "id": "e0a237a9",
   "metadata": {},
   "source": [
    "## custom transformation"
   ]
  },
  {
   "cell_type": "code",
   "execution_count": 28,
   "id": "f2733dc5",
   "metadata": {},
   "outputs": [],
   "source": [
    "import pandas as pd\n",
    "df = pd.read_csv('data/all_penguins_clean.csv')"
   ]
  },
  {
   "cell_type": "code",
   "execution_count": 12,
   "id": "33b8200f",
   "metadata": {},
   "outputs": [
    {
     "data": {
      "text/html": [
       "<div>\n",
       "<style scoped>\n",
       "    .dataframe tbody tr th:only-of-type {\n",
       "        vertical-align: middle;\n",
       "    }\n",
       "\n",
       "    .dataframe tbody tr th {\n",
       "        vertical-align: top;\n",
       "    }\n",
       "\n",
       "    .dataframe thead th {\n",
       "        text-align: right;\n",
       "    }\n",
       "</style>\n",
       "<table border=\"1\" class=\"dataframe\">\n",
       "  <thead>\n",
       "    <tr style=\"text-align: right;\">\n",
       "      <th></th>\n",
       "      <th>studyName</th>\n",
       "      <th>Sample Number</th>\n",
       "      <th>Species</th>\n",
       "      <th>Region</th>\n",
       "      <th>Island</th>\n",
       "      <th>Stage</th>\n",
       "      <th>Individual ID</th>\n",
       "      <th>Clutch Completion</th>\n",
       "      <th>Date Egg</th>\n",
       "      <th>Culmen Length (mm)</th>\n",
       "      <th>Culmen Depth (mm)</th>\n",
       "      <th>Flipper Length (mm)</th>\n",
       "      <th>Body Mass (g)</th>\n",
       "      <th>Real ID</th>\n",
       "      <th>Sex</th>\n",
       "    </tr>\n",
       "  </thead>\n",
       "  <tbody>\n",
       "    <tr>\n",
       "      <th>0</th>\n",
       "      <td>PAL0708</td>\n",
       "      <td>1</td>\n",
       "      <td>Adelie</td>\n",
       "      <td>Anvers</td>\n",
       "      <td>Torgersen</td>\n",
       "      <td>Adult, 1 Egg Stage</td>\n",
       "      <td>N1A1</td>\n",
       "      <td>Yes</td>\n",
       "      <td>11/11/07</td>\n",
       "      <td>39.1</td>\n",
       "      <td>18.7</td>\n",
       "      <td>181.0</td>\n",
       "      <td>3750.0</td>\n",
       "      <td>A_0</td>\n",
       "      <td>MALE</td>\n",
       "    </tr>\n",
       "    <tr>\n",
       "      <th>1</th>\n",
       "      <td>PAL0708</td>\n",
       "      <td>2</td>\n",
       "      <td>Adelie</td>\n",
       "      <td>Anvers</td>\n",
       "      <td>Torgersen</td>\n",
       "      <td>Adult, 1 Egg Stage</td>\n",
       "      <td>N1A2</td>\n",
       "      <td>Yes</td>\n",
       "      <td>11/11/07</td>\n",
       "      <td>39.5</td>\n",
       "      <td>17.4</td>\n",
       "      <td>186.0</td>\n",
       "      <td>3800.0</td>\n",
       "      <td>A_1</td>\n",
       "      <td>FEMALE</td>\n",
       "    </tr>\n",
       "    <tr>\n",
       "      <th>2</th>\n",
       "      <td>PAL0708</td>\n",
       "      <td>3</td>\n",
       "      <td>Adelie</td>\n",
       "      <td>Anvers</td>\n",
       "      <td>Torgersen</td>\n",
       "      <td>Adult, 1 Egg Stage</td>\n",
       "      <td>N2A1</td>\n",
       "      <td>Yes</td>\n",
       "      <td>11/16/07</td>\n",
       "      <td>40.3</td>\n",
       "      <td>18.0</td>\n",
       "      <td>195.0</td>\n",
       "      <td>3250.0</td>\n",
       "      <td>A_2</td>\n",
       "      <td>FEMALE</td>\n",
       "    </tr>\n",
       "    <tr>\n",
       "      <th>3</th>\n",
       "      <td>PAL0708</td>\n",
       "      <td>4</td>\n",
       "      <td>Adelie</td>\n",
       "      <td>Anvers</td>\n",
       "      <td>Torgersen</td>\n",
       "      <td>Adult, 1 Egg Stage</td>\n",
       "      <td>N2A2</td>\n",
       "      <td>Yes</td>\n",
       "      <td>11/16/07</td>\n",
       "      <td>NaN</td>\n",
       "      <td>NaN</td>\n",
       "      <td>NaN</td>\n",
       "      <td>NaN</td>\n",
       "      <td>A_3</td>\n",
       "      <td>NaN</td>\n",
       "    </tr>\n",
       "    <tr>\n",
       "      <th>4</th>\n",
       "      <td>PAL0708</td>\n",
       "      <td>5</td>\n",
       "      <td>Adelie</td>\n",
       "      <td>Anvers</td>\n",
       "      <td>Torgersen</td>\n",
       "      <td>Adult, 1 Egg Stage</td>\n",
       "      <td>N3A1</td>\n",
       "      <td>Yes</td>\n",
       "      <td>11/16/07</td>\n",
       "      <td>36.7</td>\n",
       "      <td>19.3</td>\n",
       "      <td>193.0</td>\n",
       "      <td>3450.0</td>\n",
       "      <td>A_4</td>\n",
       "      <td>FEMALE</td>\n",
       "    </tr>\n",
       "  </tbody>\n",
       "</table>\n",
       "</div>"
      ],
      "text/plain": [
       "  studyName  Sample Number Species  Region     Island               Stage  \\\n",
       "0   PAL0708              1  Adelie  Anvers  Torgersen  Adult, 1 Egg Stage   \n",
       "1   PAL0708              2  Adelie  Anvers  Torgersen  Adult, 1 Egg Stage   \n",
       "2   PAL0708              3  Adelie  Anvers  Torgersen  Adult, 1 Egg Stage   \n",
       "3   PAL0708              4  Adelie  Anvers  Torgersen  Adult, 1 Egg Stage   \n",
       "4   PAL0708              5  Adelie  Anvers  Torgersen  Adult, 1 Egg Stage   \n",
       "\n",
       "  Individual ID Clutch Completion  Date Egg  Culmen Length (mm)  \\\n",
       "0          N1A1               Yes  11/11/07                39.1   \n",
       "1          N1A2               Yes  11/11/07                39.5   \n",
       "2          N2A1               Yes  11/16/07                40.3   \n",
       "3          N2A2               Yes  11/16/07                 NaN   \n",
       "4          N3A1               Yes  11/16/07                36.7   \n",
       "\n",
       "   Culmen Depth (mm)  Flipper Length (mm)  Body Mass (g) Real ID     Sex  \n",
       "0               18.7                181.0         3750.0     A_0    MALE  \n",
       "1               17.4                186.0         3800.0     A_1  FEMALE  \n",
       "2               18.0                195.0         3250.0     A_2  FEMALE  \n",
       "3                NaN                  NaN            NaN     A_3     NaN  \n",
       "4               19.3                193.0         3450.0     A_4  FEMALE  "
      ]
     },
     "execution_count": 12,
     "metadata": {},
     "output_type": "execute_result"
    }
   ],
   "source": [
    "df.head()\n"
   ]
  },
  {
   "cell_type": "code",
   "execution_count": 29,
   "id": "84790447",
   "metadata": {},
   "outputs": [],
   "source": [
    "def custom_binner(df):\n",
    "    bins = [-1, 10, 20, np.inf]\n",
    "    labels = ['small', 'medium', 'large']\n",
    "    x_binned = pd.cut(df, bins=bins, labels=labels, retbins=False)\n",
    "    return pd.DataFrame({'x_binned':x_binned}) "
   ]
  },
  {
   "cell_type": "code",
   "execution_count": 30,
   "id": "448301a3",
   "metadata": {},
   "outputs": [],
   "source": [
    "from sklearn.preprocessing import FunctionTransformer"
   ]
  },
  {
   "cell_type": "code",
   "execution_count": 17,
   "id": "2db2642d",
   "metadata": {},
   "outputs": [],
   "source": [
    "# bin a numerical column\n",
    "binner = FunctionTransformer(custom_binner)"
   ]
  },
  {
   "cell_type": "code",
   "execution_count": 18,
   "id": "8038d086",
   "metadata": {},
   "outputs": [],
   "source": [
    "#cols = df[['Culmen Length (mm)']]\n",
    "cols = df['Culmen Length (mm)']"
   ]
  },
  {
   "cell_type": "code",
   "execution_count": null,
   "id": "c9cf0f28",
   "metadata": {},
   "outputs": [],
   "source": []
  },
  {
   "cell_type": "code",
   "execution_count": 19,
   "id": "a1821df7",
   "metadata": {
    "scrolled": true
   },
   "outputs": [
    {
     "data": {
      "text/plain": [
       "FunctionTransformer(func=<function custom_binner at 0x7fe678dc8430>)"
      ]
     },
     "execution_count": 19,
     "metadata": {},
     "output_type": "execute_result"
    }
   ],
   "source": [
    "binner.fit(cols) "
   ]
  },
  {
   "cell_type": "code",
   "execution_count": 70,
   "id": "915a3df7",
   "metadata": {},
   "outputs": [
    {
     "data": {
      "text/html": [
       "<div>\n",
       "<style scoped>\n",
       "    .dataframe tbody tr th:only-of-type {\n",
       "        vertical-align: middle;\n",
       "    }\n",
       "\n",
       "    .dataframe tbody tr th {\n",
       "        vertical-align: top;\n",
       "    }\n",
       "\n",
       "    .dataframe thead th {\n",
       "        text-align: right;\n",
       "    }\n",
       "</style>\n",
       "<table border=\"1\" class=\"dataframe\">\n",
       "  <thead>\n",
       "    <tr style=\"text-align: right;\">\n",
       "      <th></th>\n",
       "      <th>Culmen Length (mm)</th>\n",
       "    </tr>\n",
       "  </thead>\n",
       "  <tbody>\n",
       "    <tr>\n",
       "      <th>0</th>\n",
       "      <td>39.1</td>\n",
       "    </tr>\n",
       "    <tr>\n",
       "      <th>1</th>\n",
       "      <td>39.5</td>\n",
       "    </tr>\n",
       "    <tr>\n",
       "      <th>2</th>\n",
       "      <td>40.3</td>\n",
       "    </tr>\n",
       "    <tr>\n",
       "      <th>3</th>\n",
       "      <td>NaN</td>\n",
       "    </tr>\n",
       "    <tr>\n",
       "      <th>4</th>\n",
       "      <td>36.7</td>\n",
       "    </tr>\n",
       "    <tr>\n",
       "      <th>...</th>\n",
       "      <td>...</td>\n",
       "    </tr>\n",
       "    <tr>\n",
       "      <th>339</th>\n",
       "      <td>NaN</td>\n",
       "    </tr>\n",
       "    <tr>\n",
       "      <th>340</th>\n",
       "      <td>46.8</td>\n",
       "    </tr>\n",
       "    <tr>\n",
       "      <th>341</th>\n",
       "      <td>50.4</td>\n",
       "    </tr>\n",
       "    <tr>\n",
       "      <th>342</th>\n",
       "      <td>45.2</td>\n",
       "    </tr>\n",
       "    <tr>\n",
       "      <th>343</th>\n",
       "      <td>49.9</td>\n",
       "    </tr>\n",
       "  </tbody>\n",
       "</table>\n",
       "<p>344 rows × 1 columns</p>\n",
       "</div>"
      ],
      "text/plain": [
       "     Culmen Length (mm)\n",
       "0                  39.1\n",
       "1                  39.5\n",
       "2                  40.3\n",
       "3                   NaN\n",
       "4                  36.7\n",
       "..                  ...\n",
       "339                 NaN\n",
       "340                46.8\n",
       "341                50.4\n",
       "342                45.2\n",
       "343                49.9\n",
       "\n",
       "[344 rows x 1 columns]"
      ]
     },
     "execution_count": 70,
     "metadata": {},
     "output_type": "execute_result"
    }
   ],
   "source": [
    "cols"
   ]
  },
  {
   "cell_type": "code",
   "execution_count": 24,
   "id": "26f96e8e",
   "metadata": {},
   "outputs": [],
   "source": [
    "import numpy as np\n",
    "t = binner.transform(cols)\n",
    "#t = binner.transform(cols)"
   ]
  },
  {
   "cell_type": "code",
   "execution_count": 25,
   "id": "f2d5b136",
   "metadata": {
    "scrolled": true
   },
   "outputs": [
    {
     "name": "stdout",
     "output_type": "stream",
     "text": [
      "(344, 1)\n"
     ]
    }
   ],
   "source": [
    "print(t.shape)"
   ]
  },
  {
   "cell_type": "code",
   "execution_count": 55,
   "id": "8f18fdb7",
   "metadata": {},
   "outputs": [
    {
     "name": "stdout",
     "output_type": "stream",
     "text": [
      "\n"
     ]
    }
   ],
   "source": [
    "print()"
   ]
  },
  {
   "cell_type": "code",
   "execution_count": 50,
   "id": "606bd13e",
   "metadata": {
    "scrolled": true
   },
   "outputs": [
    {
     "data": {
      "text/html": [
       "<div>\n",
       "<style scoped>\n",
       "    .dataframe tbody tr th:only-of-type {\n",
       "        vertical-align: middle;\n",
       "    }\n",
       "\n",
       "    .dataframe tbody tr th {\n",
       "        vertical-align: top;\n",
       "    }\n",
       "\n",
       "    .dataframe thead th {\n",
       "        text-align: right;\n",
       "    }\n",
       "</style>\n",
       "<table border=\"1\" class=\"dataframe\">\n",
       "  <thead>\n",
       "    <tr style=\"text-align: right;\">\n",
       "      <th></th>\n",
       "      <th>x_binned</th>\n",
       "    </tr>\n",
       "  </thead>\n",
       "  <tbody>\n",
       "    <tr>\n",
       "      <th>0</th>\n",
       "      <td>large</td>\n",
       "    </tr>\n",
       "    <tr>\n",
       "      <th>1</th>\n",
       "      <td>large</td>\n",
       "    </tr>\n",
       "    <tr>\n",
       "      <th>2</th>\n",
       "      <td>large</td>\n",
       "    </tr>\n",
       "    <tr>\n",
       "      <th>3</th>\n",
       "      <td>NaN</td>\n",
       "    </tr>\n",
       "    <tr>\n",
       "      <th>4</th>\n",
       "      <td>large</td>\n",
       "    </tr>\n",
       "    <tr>\n",
       "      <th>...</th>\n",
       "      <td>...</td>\n",
       "    </tr>\n",
       "    <tr>\n",
       "      <th>339</th>\n",
       "      <td>NaN</td>\n",
       "    </tr>\n",
       "    <tr>\n",
       "      <th>340</th>\n",
       "      <td>large</td>\n",
       "    </tr>\n",
       "    <tr>\n",
       "      <th>341</th>\n",
       "      <td>large</td>\n",
       "    </tr>\n",
       "    <tr>\n",
       "      <th>342</th>\n",
       "      <td>large</td>\n",
       "    </tr>\n",
       "    <tr>\n",
       "      <th>343</th>\n",
       "      <td>large</td>\n",
       "    </tr>\n",
       "  </tbody>\n",
       "</table>\n",
       "<p>344 rows × 1 columns</p>\n",
       "</div>"
      ],
      "text/plain": [
       "    x_binned\n",
       "0      large\n",
       "1      large\n",
       "2      large\n",
       "3        NaN\n",
       "4      large\n",
       "..       ...\n",
       "339      NaN\n",
       "340    large\n",
       "341    large\n",
       "342    large\n",
       "343    large\n",
       "\n",
       "[344 rows x 1 columns]"
      ]
     },
     "execution_count": 50,
     "metadata": {},
     "output_type": "execute_result"
    }
   ],
   "source": [
    "t"
   ]
  },
  {
   "cell_type": "code",
   "execution_count": 64,
   "id": "532a0ac7",
   "metadata": {},
   "outputs": [
    {
     "data": {
      "text/plain": [
       "0      39.1\n",
       "1      39.5\n",
       "2      40.3\n",
       "3       NaN\n",
       "4      36.7\n",
       "       ... \n",
       "339     NaN\n",
       "340    46.8\n",
       "341    50.4\n",
       "342    45.2\n",
       "343    49.9\n",
       "Name: Culmen Length (mm), Length: 344, dtype: float64"
      ]
     },
     "execution_count": 64,
     "metadata": {},
     "output_type": "execute_result"
    }
   ],
   "source": [
    "cols"
   ]
  },
  {
   "cell_type": "code",
   "execution_count": 26,
   "id": "17b2e74e",
   "metadata": {
    "scrolled": true
   },
   "outputs": [],
   "source": [
    "cols_new = pd.DataFrame(cols)"
   ]
  },
  {
   "cell_type": "code",
   "execution_count": 63,
   "id": "ceb5151d",
   "metadata": {},
   "outputs": [
    {
     "data": {
      "text/html": [
       "<div>\n",
       "<style scoped>\n",
       "    .dataframe tbody tr th:only-of-type {\n",
       "        vertical-align: middle;\n",
       "    }\n",
       "\n",
       "    .dataframe tbody tr th {\n",
       "        vertical-align: top;\n",
       "    }\n",
       "\n",
       "    .dataframe thead th {\n",
       "        text-align: right;\n",
       "    }\n",
       "</style>\n",
       "<table border=\"1\" class=\"dataframe\">\n",
       "  <thead>\n",
       "    <tr style=\"text-align: right;\">\n",
       "      <th></th>\n",
       "      <th>Culmen Length (mm)</th>\n",
       "    </tr>\n",
       "  </thead>\n",
       "  <tbody>\n",
       "    <tr>\n",
       "      <th>0</th>\n",
       "      <td>39.1</td>\n",
       "    </tr>\n",
       "    <tr>\n",
       "      <th>1</th>\n",
       "      <td>39.5</td>\n",
       "    </tr>\n",
       "    <tr>\n",
       "      <th>2</th>\n",
       "      <td>40.3</td>\n",
       "    </tr>\n",
       "    <tr>\n",
       "      <th>3</th>\n",
       "      <td>NaN</td>\n",
       "    </tr>\n",
       "    <tr>\n",
       "      <th>4</th>\n",
       "      <td>36.7</td>\n",
       "    </tr>\n",
       "    <tr>\n",
       "      <th>...</th>\n",
       "      <td>...</td>\n",
       "    </tr>\n",
       "    <tr>\n",
       "      <th>339</th>\n",
       "      <td>NaN</td>\n",
       "    </tr>\n",
       "    <tr>\n",
       "      <th>340</th>\n",
       "      <td>46.8</td>\n",
       "    </tr>\n",
       "    <tr>\n",
       "      <th>341</th>\n",
       "      <td>50.4</td>\n",
       "    </tr>\n",
       "    <tr>\n",
       "      <th>342</th>\n",
       "      <td>45.2</td>\n",
       "    </tr>\n",
       "    <tr>\n",
       "      <th>343</th>\n",
       "      <td>49.9</td>\n",
       "    </tr>\n",
       "  </tbody>\n",
       "</table>\n",
       "<p>344 rows × 1 columns</p>\n",
       "</div>"
      ],
      "text/plain": [
       "     Culmen Length (mm)\n",
       "0                  39.1\n",
       "1                  39.5\n",
       "2                  40.3\n",
       "3                   NaN\n",
       "4                  36.7\n",
       "..                  ...\n",
       "339                 NaN\n",
       "340                46.8\n",
       "341                50.4\n",
       "342                45.2\n",
       "343                49.9\n",
       "\n",
       "[344 rows x 1 columns]"
      ]
     },
     "execution_count": 63,
     "metadata": {},
     "output_type": "execute_result"
    }
   ],
   "source": [
    "cols_new"
   ]
  },
  {
   "cell_type": "code",
   "execution_count": 27,
   "id": "cb00d97b",
   "metadata": {},
   "outputs": [
    {
     "name": "stdout",
     "output_type": "stream",
     "text": [
      "   Culmen Length (mm)\n",
      "0                 NaN\n",
      "1                 NaN\n",
      "2                 NaN\n",
      "3                 NaN\n",
      "4                 NaN\n"
     ]
    }
   ],
   "source": [
    "cols_scaled = pd.DataFrame(t, columns=cols_new.columns)\n",
    "print(cols_scaled.head())"
   ]
  },
  {
   "cell_type": "code",
   "execution_count": 83,
   "id": "e177e3e5",
   "metadata": {},
   "outputs": [],
   "source": [
    "import pandas as pd\n",
    "import numpy as np\n",
    "from sklearn.impute import SimpleImputer"
   ]
  },
  {
   "cell_type": "code",
   "execution_count": 84,
   "id": "8d24fd0b",
   "metadata": {},
   "outputs": [],
   "source": [
    "df = pd.read_csv('data/all_penguins_clean.csv', na_values='.')"
   ]
  },
  {
   "cell_type": "code",
   "execution_count": 85,
   "id": "c42e0b2f",
   "metadata": {},
   "outputs": [],
   "source": [
    "imputer  =  SimpleImputer(strategy='most_frequent')"
   ]
  },
  {
   "cell_type": "code",
   "execution_count": 86,
   "id": "ffe121a6",
   "metadata": {},
   "outputs": [],
   "source": [
    "cols = df[['Sex']]"
   ]
  },
  {
   "cell_type": "code",
   "execution_count": 87,
   "id": "c4e2b4c4",
   "metadata": {},
   "outputs": [
    {
     "name": "stdout",
     "output_type": "stream",
     "text": [
      "11\n"
     ]
    }
   ],
   "source": [
    "# count the number of missing values\n",
    "print(cols['Sex'].isna().sum())"
   ]
  },
  {
   "cell_type": "code",
   "execution_count": 88,
   "id": "c498a434",
   "metadata": {},
   "outputs": [
    {
     "data": {
      "text/plain": [
       "SimpleImputer(strategy='most_frequent')"
      ]
     },
     "execution_count": 88,
     "metadata": {},
     "output_type": "execute_result"
    }
   ],
   "source": [
    "imputer.fit(cols)"
   ]
  },
  {
   "cell_type": "code",
   "execution_count": 89,
   "id": "5be3e97b",
   "metadata": {},
   "outputs": [
    {
     "name": "stdout",
     "output_type": "stream",
     "text": [
      "(344, 1)\n"
     ]
    }
   ],
   "source": [
    "t = imputer.transform(cols)  # result is a numpy array\n",
    "print(t.shape)"
   ]
  },
  {
   "cell_type": "code",
   "execution_count": 95,
   "id": "11e8e665",
   "metadata": {},
   "outputs": [
    {
     "name": "stdout",
     "output_type": "stream",
     "text": [
      "      Sex\n",
      "0    MALE\n",
      "1  FEMALE\n",
      "2  FEMALE\n",
      "3    MALE\n",
      "4  FEMALE\n"
     ]
    }
   ],
   "source": [
    "# format output as a DataFame\n",
    "cols_imputed = pd.DataFrame(t, columns=cols.columns)\n",
    "#cols_imputed = pd.DataFrame(t, columns=imputer[1].get_feature_names())\n",
    "print(cols_imputed.head())"
   ]
  },
  {
   "cell_type": "code",
   "execution_count": 11,
   "id": "1503ea9e",
   "metadata": {},
   "outputs": [
    {
     "name": "stdout",
     "output_type": "stream",
     "text": [
      "0\n"
     ]
    }
   ],
   "source": [
    "print(cols_imputed['Sex'].isna().sum())"
   ]
  },
  {
   "cell_type": "markdown",
   "id": "00a8f71c",
   "metadata": {},
   "source": [
    "## Pipleline"
   ]
  },
  {
   "cell_type": "code",
   "execution_count": 97,
   "id": "1b591751",
   "metadata": {},
   "outputs": [],
   "source": [
    "import pandas as pd\n",
    "from sklearn.impute import SimpleImputer\n",
    "from sklearn.preprocessing import MinMaxScaler, OneHotEncoder\n",
    "from sklearn.pipeline import make_pipeline"
   ]
  },
  {
   "cell_type": "code",
   "execution_count": 98,
   "id": "f772e57e",
   "metadata": {},
   "outputs": [],
   "source": [
    "df = pd.read_csv(\"data/all_penguins_clean.csv\", na_values=\".\")"
   ]
  },
  {
   "cell_type": "code",
   "execution_count": 99,
   "id": "4ab960d6",
   "metadata": {},
   "outputs": [],
   "source": [
    "# define a pipeline\n",
    "impute_and_encode = make_pipeline(\n",
    "    SimpleImputer(strategy='most_frequent'),\n",
    "    OneHotEncoder(sparse=False)\n",
    ")"
   ]
  },
  {
   "cell_type": "code",
   "execution_count": 100,
   "id": "251f27a4",
   "metadata": {},
   "outputs": [],
   "source": [
    "cols = df[['Sex']]"
   ]
  },
  {
   "cell_type": "code",
   "execution_count": 101,
   "id": "927d2891",
   "metadata": {},
   "outputs": [
    {
     "data": {
      "text/plain": [
       "Pipeline(steps=[('simpleimputer', SimpleImputer(strategy='most_frequent')),\n",
       "                ('onehotencoder', OneHotEncoder(sparse=False))])"
      ]
     },
     "execution_count": 101,
     "metadata": {},
     "output_type": "execute_result"
    }
   ],
   "source": [
    "impute_and_encode.fit(cols)"
   ]
  },
  {
   "cell_type": "code",
   "execution_count": 102,
   "id": "ee0ff58e",
   "metadata": {},
   "outputs": [],
   "source": [
    "t = impute_and_encode.transform(cols)"
   ]
  },
  {
   "cell_type": "code",
   "execution_count": 103,
   "id": "320c0bb3",
   "metadata": {},
   "outputs": [
    {
     "name": "stdout",
     "output_type": "stream",
     "text": [
      "(344, 2)\n"
     ]
    }
   ],
   "source": [
    "print(t.shape)"
   ]
  },
  {
   "cell_type": "code",
   "execution_count": 107,
   "id": "db79fdfc",
   "metadata": {},
   "outputs": [],
   "source": [
    "# create a DataFrame\n",
    "cols_transformed = pd.DataFrame(t, columns=impute_and_encode[1].get_feature_names())"
   ]
  },
  {
   "cell_type": "code",
   "execution_count": 108,
   "id": "1103b1c2",
   "metadata": {},
   "outputs": [
    {
     "name": "stdout",
     "output_type": "stream",
     "text": [
      "   x0_FEMALE  x0_MALE\n",
      "0        0.0      1.0\n",
      "1        1.0      0.0\n",
      "2        1.0      0.0\n",
      "3        0.0      1.0\n",
      "4        1.0      0.0\n"
     ]
    }
   ],
   "source": [
    "print(cols_transformed.head())"
   ]
  },
  {
   "cell_type": "code",
   "execution_count": 137,
   "id": "2131b595",
   "metadata": {},
   "outputs": [
    {
     "data": {
      "text/plain": [
       "x0_FEMALE    0\n",
       "x0_MALE      0\n",
       "dtype: int64"
      ]
     },
     "execution_count": 137,
     "metadata": {},
     "output_type": "execute_result"
    }
   ],
   "source": [
    "cols_transformed.isna().sum()"
   ]
  },
  {
   "cell_type": "markdown",
   "id": "884bc243",
   "metadata": {},
   "source": [
    "# Feature Engineering on the Titanic Data"
   ]
  },
  {
   "cell_type": "markdown",
   "id": "04e6cae1",
   "metadata": {},
   "source": [
    "## Go through each column of the titanic dataset."
   ]
  },
  {
   "cell_type": "markdown",
   "id": "52b404d5",
   "metadata": {},
   "source": [
    "## check wether the column is binary, categorical or metric."
   ]
  },
  {
   "cell_type": "code",
   "execution_count": 138,
   "id": "d4b32735",
   "metadata": {},
   "outputs": [],
   "source": [
    "train = pd.read_csv('data/train.csv', index_col=0)"
   ]
  },
  {
   "cell_type": "code",
   "execution_count": 139,
   "id": "87c0ebea",
   "metadata": {
    "scrolled": true
   },
   "outputs": [
    {
     "data": {
      "text/html": [
       "<div>\n",
       "<style scoped>\n",
       "    .dataframe tbody tr th:only-of-type {\n",
       "        vertical-align: middle;\n",
       "    }\n",
       "\n",
       "    .dataframe tbody tr th {\n",
       "        vertical-align: top;\n",
       "    }\n",
       "\n",
       "    .dataframe thead th {\n",
       "        text-align: right;\n",
       "    }\n",
       "</style>\n",
       "<table border=\"1\" class=\"dataframe\">\n",
       "  <thead>\n",
       "    <tr style=\"text-align: right;\">\n",
       "      <th></th>\n",
       "      <th>Survived</th>\n",
       "      <th>Pclass</th>\n",
       "      <th>Name</th>\n",
       "      <th>Sex</th>\n",
       "      <th>Age</th>\n",
       "      <th>SibSp</th>\n",
       "      <th>Parch</th>\n",
       "      <th>Ticket</th>\n",
       "      <th>Fare</th>\n",
       "      <th>Cabin</th>\n",
       "      <th>Embarked</th>\n",
       "    </tr>\n",
       "    <tr>\n",
       "      <th>PassengerId</th>\n",
       "      <th></th>\n",
       "      <th></th>\n",
       "      <th></th>\n",
       "      <th></th>\n",
       "      <th></th>\n",
       "      <th></th>\n",
       "      <th></th>\n",
       "      <th></th>\n",
       "      <th></th>\n",
       "      <th></th>\n",
       "      <th></th>\n",
       "    </tr>\n",
       "  </thead>\n",
       "  <tbody>\n",
       "    <tr>\n",
       "      <th>1</th>\n",
       "      <td>0</td>\n",
       "      <td>3</td>\n",
       "      <td>Braund, Mr. Owen Harris</td>\n",
       "      <td>male</td>\n",
       "      <td>22.0</td>\n",
       "      <td>1</td>\n",
       "      <td>0</td>\n",
       "      <td>A/5 21171</td>\n",
       "      <td>7.2500</td>\n",
       "      <td>NaN</td>\n",
       "      <td>S</td>\n",
       "    </tr>\n",
       "    <tr>\n",
       "      <th>2</th>\n",
       "      <td>1</td>\n",
       "      <td>1</td>\n",
       "      <td>Cumings, Mrs. John Bradley (Florence Briggs Th...</td>\n",
       "      <td>female</td>\n",
       "      <td>38.0</td>\n",
       "      <td>1</td>\n",
       "      <td>0</td>\n",
       "      <td>PC 17599</td>\n",
       "      <td>71.2833</td>\n",
       "      <td>C85</td>\n",
       "      <td>C</td>\n",
       "    </tr>\n",
       "    <tr>\n",
       "      <th>3</th>\n",
       "      <td>1</td>\n",
       "      <td>3</td>\n",
       "      <td>Heikkinen, Miss. Laina</td>\n",
       "      <td>female</td>\n",
       "      <td>26.0</td>\n",
       "      <td>0</td>\n",
       "      <td>0</td>\n",
       "      <td>STON/O2. 3101282</td>\n",
       "      <td>7.9250</td>\n",
       "      <td>NaN</td>\n",
       "      <td>S</td>\n",
       "    </tr>\n",
       "    <tr>\n",
       "      <th>4</th>\n",
       "      <td>1</td>\n",
       "      <td>1</td>\n",
       "      <td>Futrelle, Mrs. Jacques Heath (Lily May Peel)</td>\n",
       "      <td>female</td>\n",
       "      <td>35.0</td>\n",
       "      <td>1</td>\n",
       "      <td>0</td>\n",
       "      <td>113803</td>\n",
       "      <td>53.1000</td>\n",
       "      <td>C123</td>\n",
       "      <td>S</td>\n",
       "    </tr>\n",
       "    <tr>\n",
       "      <th>5</th>\n",
       "      <td>0</td>\n",
       "      <td>3</td>\n",
       "      <td>Allen, Mr. William Henry</td>\n",
       "      <td>male</td>\n",
       "      <td>35.0</td>\n",
       "      <td>0</td>\n",
       "      <td>0</td>\n",
       "      <td>373450</td>\n",
       "      <td>8.0500</td>\n",
       "      <td>NaN</td>\n",
       "      <td>S</td>\n",
       "    </tr>\n",
       "    <tr>\n",
       "      <th>...</th>\n",
       "      <td>...</td>\n",
       "      <td>...</td>\n",
       "      <td>...</td>\n",
       "      <td>...</td>\n",
       "      <td>...</td>\n",
       "      <td>...</td>\n",
       "      <td>...</td>\n",
       "      <td>...</td>\n",
       "      <td>...</td>\n",
       "      <td>...</td>\n",
       "      <td>...</td>\n",
       "    </tr>\n",
       "    <tr>\n",
       "      <th>887</th>\n",
       "      <td>0</td>\n",
       "      <td>2</td>\n",
       "      <td>Montvila, Rev. Juozas</td>\n",
       "      <td>male</td>\n",
       "      <td>27.0</td>\n",
       "      <td>0</td>\n",
       "      <td>0</td>\n",
       "      <td>211536</td>\n",
       "      <td>13.0000</td>\n",
       "      <td>NaN</td>\n",
       "      <td>S</td>\n",
       "    </tr>\n",
       "    <tr>\n",
       "      <th>888</th>\n",
       "      <td>1</td>\n",
       "      <td>1</td>\n",
       "      <td>Graham, Miss. Margaret Edith</td>\n",
       "      <td>female</td>\n",
       "      <td>19.0</td>\n",
       "      <td>0</td>\n",
       "      <td>0</td>\n",
       "      <td>112053</td>\n",
       "      <td>30.0000</td>\n",
       "      <td>B42</td>\n",
       "      <td>S</td>\n",
       "    </tr>\n",
       "    <tr>\n",
       "      <th>889</th>\n",
       "      <td>0</td>\n",
       "      <td>3</td>\n",
       "      <td>Johnston, Miss. Catherine Helen \"Carrie\"</td>\n",
       "      <td>female</td>\n",
       "      <td>NaN</td>\n",
       "      <td>1</td>\n",
       "      <td>2</td>\n",
       "      <td>W./C. 6607</td>\n",
       "      <td>23.4500</td>\n",
       "      <td>NaN</td>\n",
       "      <td>S</td>\n",
       "    </tr>\n",
       "    <tr>\n",
       "      <th>890</th>\n",
       "      <td>1</td>\n",
       "      <td>1</td>\n",
       "      <td>Behr, Mr. Karl Howell</td>\n",
       "      <td>male</td>\n",
       "      <td>26.0</td>\n",
       "      <td>0</td>\n",
       "      <td>0</td>\n",
       "      <td>111369</td>\n",
       "      <td>30.0000</td>\n",
       "      <td>C148</td>\n",
       "      <td>C</td>\n",
       "    </tr>\n",
       "    <tr>\n",
       "      <th>891</th>\n",
       "      <td>0</td>\n",
       "      <td>3</td>\n",
       "      <td>Dooley, Mr. Patrick</td>\n",
       "      <td>male</td>\n",
       "      <td>32.0</td>\n",
       "      <td>0</td>\n",
       "      <td>0</td>\n",
       "      <td>370376</td>\n",
       "      <td>7.7500</td>\n",
       "      <td>NaN</td>\n",
       "      <td>Q</td>\n",
       "    </tr>\n",
       "  </tbody>\n",
       "</table>\n",
       "<p>891 rows × 11 columns</p>\n",
       "</div>"
      ],
      "text/plain": [
       "             Survived  Pclass  \\\n",
       "PassengerId                     \n",
       "1                   0       3   \n",
       "2                   1       1   \n",
       "3                   1       3   \n",
       "4                   1       1   \n",
       "5                   0       3   \n",
       "...               ...     ...   \n",
       "887                 0       2   \n",
       "888                 1       1   \n",
       "889                 0       3   \n",
       "890                 1       1   \n",
       "891                 0       3   \n",
       "\n",
       "                                                          Name     Sex   Age  \\\n",
       "PassengerId                                                                    \n",
       "1                                      Braund, Mr. Owen Harris    male  22.0   \n",
       "2            Cumings, Mrs. John Bradley (Florence Briggs Th...  female  38.0   \n",
       "3                                       Heikkinen, Miss. Laina  female  26.0   \n",
       "4                 Futrelle, Mrs. Jacques Heath (Lily May Peel)  female  35.0   \n",
       "5                                     Allen, Mr. William Henry    male  35.0   \n",
       "...                                                        ...     ...   ...   \n",
       "887                                      Montvila, Rev. Juozas    male  27.0   \n",
       "888                               Graham, Miss. Margaret Edith  female  19.0   \n",
       "889                   Johnston, Miss. Catherine Helen \"Carrie\"  female   NaN   \n",
       "890                                      Behr, Mr. Karl Howell    male  26.0   \n",
       "891                                        Dooley, Mr. Patrick    male  32.0   \n",
       "\n",
       "             SibSp  Parch            Ticket     Fare Cabin Embarked  \n",
       "PassengerId                                                          \n",
       "1                1      0         A/5 21171   7.2500   NaN        S  \n",
       "2                1      0          PC 17599  71.2833   C85        C  \n",
       "3                0      0  STON/O2. 3101282   7.9250   NaN        S  \n",
       "4                1      0            113803  53.1000  C123        S  \n",
       "5                0      0            373450   8.0500   NaN        S  \n",
       "...            ...    ...               ...      ...   ...      ...  \n",
       "887              0      0            211536  13.0000   NaN        S  \n",
       "888              0      0            112053  30.0000   B42        S  \n",
       "889              1      2        W./C. 6607  23.4500   NaN        S  \n",
       "890              0      0            111369  30.0000  C148        C  \n",
       "891              0      0            370376   7.7500   NaN        Q  \n",
       "\n",
       "[891 rows x 11 columns]"
      ]
     },
     "execution_count": 139,
     "metadata": {},
     "output_type": "execute_result"
    }
   ],
   "source": [
    "train"
   ]
  },
  {
   "cell_type": "code",
   "execution_count": 142,
   "id": "d1db5186",
   "metadata": {},
   "outputs": [
    {
     "data": {
      "text/plain": [
       "PassengerId\n",
       "1      1\n",
       "2      1\n",
       "3      0\n",
       "4      1\n",
       "5      0\n",
       "      ..\n",
       "887    0\n",
       "888    0\n",
       "889    1\n",
       "890    0\n",
       "891    0\n",
       "Name: SibSp, Length: 891, dtype: int64"
      ]
     },
     "execution_count": 142,
     "metadata": {},
     "output_type": "execute_result"
    }
   ],
   "source": [
    "train['SibSp']"
   ]
  },
  {
   "cell_type": "code",
   "execution_count": null,
   "id": "4053aa21",
   "metadata": {},
   "outputs": [],
   "source": [
    "# column  PassengerID: this is metric\n",
    "# column  Survived is binary \n",
    "# column Pclass is categorical\n",
    "# column Name is categorical\n",
    "# column Sex is binary/Categorical\n",
    "# column Age is metric\n",
    "# column ibSp is binary\n",
    "# column Parch is binary\n",
    "# column Ticket is categorical\n",
    "# column Fare is metric\n",
    "# column Cabin is categorical\n",
    "# column Embarked is categorical"
   ]
  },
  {
   "cell_type": "markdown",
   "id": "5bcbcf6e",
   "metadata": {},
   "source": [
    "## check wether the column contains any missing values."
   ]
  },
  {
   "cell_type": "code",
   "execution_count": 150,
   "id": "ed581244",
   "metadata": {},
   "outputs": [
    {
     "data": {
      "text/plain": [
       "Survived      0\n",
       "Pclass        0\n",
       "Name          0\n",
       "Sex           0\n",
       "Age         177\n",
       "SibSp         0\n",
       "Parch         0\n",
       "Ticket        0\n",
       "Fare          0\n",
       "Cabin       687\n",
       "Embarked      2\n",
       "dtype: int64"
      ]
     },
     "execution_count": 150,
     "metadata": {},
     "output_type": "execute_result"
    }
   ],
   "source": [
    "train.isna().sum()"
   ]
  },
  {
   "cell_type": "code",
   "execution_count": 156,
   "id": "bccc498f",
   "metadata": {},
   "outputs": [],
   "source": [
    "import seaborn as sns"
   ]
  },
  {
   "cell_type": "code",
   "execution_count": 159,
   "id": "2c1205c1",
   "metadata": {},
   "outputs": [
    {
     "data": {
      "text/plain": [
       "<AxesSubplot:ylabel='PassengerId'>"
      ]
     },
     "execution_count": 159,
     "metadata": {},
     "output_type": "execute_result"
    },
    {
     "data": {
      "image/png": "[encoded data removed]",
      "text/plain": [
       "<Figure size 432x288 with 2 Axes>"
      ]
     },
     "metadata": {
      "needs_background": "light"
     },
     "output_type": "display_data"
    }
   ],
   "source": [
    "sns.heatmap(train.isna())"
   ]
  },
  {
   "cell_type": "markdown",
   "id": "04749902",
   "metadata": {},
   "source": [
    "## make a list of preprocessors that you want to apply to each column."
   ]
  },
  {
   "cell_type": "code",
   "execution_count": null,
   "id": "b43ff5dd",
   "metadata": {},
   "outputs": [],
   "source": [
    "# column Pclass: OneHotEncoder\n",
    "# column Name: Function Transformer\n",
    "# column Sex: OneHotEncoder\n",
    "# column Age: Imputer, scaler\n",
    "# column SibSp: imputer when necessary\n",
    "# column Parch: imputer when necessary\n",
    "# column Ticket: Drop\n",
    "# column Fare: StdScaler/RobustSclaer\n",
    "# column Cabin:Drop\n",
    "# column Embarked: Imputer, OneHot\n"
   ]
  },
  {
   "cell_type": "markdown",
   "id": "8b848677",
   "metadata": {},
   "source": [
    "# 2.7 Feature Engineering with ColumnTransformers"
   ]
  },
  {
   "cell_type": "markdown",
   "id": "d0604251",
   "metadata": {},
   "source": [
    "## Create a few ColumnTransformers and train them on the Titanic data. Here are a few ideas to work on:"
   ]
  },
  {
   "cell_type": "markdown",
   "id": "1040de9d",
   "metadata": {},
   "source": [
    "## impute the missing values in the Age column"
   ]
  },
  {
   "cell_type": "code",
   "execution_count": 120,
   "id": "1ba9e13b",
   "metadata": {},
   "outputs": [],
   "source": [
    "train = pd.read_csv('data/train.csv', index_col=0)"
   ]
  },
  {
   "cell_type": "code",
   "execution_count": 118,
   "id": "16413668",
   "metadata": {},
   "outputs": [],
   "source": [
    "from sklearn.compose import ColumnTransformer\n",
    "from sklearn.impute import SimpleImputer\n",
    "missing_list = ['Age', 'Cabin', 'Embarked']"
   ]
  },
  {
   "cell_type": "code",
   "execution_count": 121,
   "id": "63fd0e57",
   "metadata": {},
   "outputs": [],
   "source": [
    "del train['Ticket']\n",
    "del train['Cabin']"
   ]
  },
  {
   "cell_type": "code",
   "execution_count": 122,
   "id": "e5737836",
   "metadata": {},
   "outputs": [],
   "source": [
    "X = train.iloc[:, 1:]\n",
    "y= train['Survived']"
   ]
  },
  {
   "cell_type": "code",
   "execution_count": 123,
   "id": "87d2bdcb",
   "metadata": {},
   "outputs": [
    {
     "data": {
      "text/html": [
       "<div>\n",
       "<style scoped>\n",
       "    .dataframe tbody tr th:only-of-type {\n",
       "        vertical-align: middle;\n",
       "    }\n",
       "\n",
       "    .dataframe tbody tr th {\n",
       "        vertical-align: top;\n",
       "    }\n",
       "\n",
       "    .dataframe thead th {\n",
       "        text-align: right;\n",
       "    }\n",
       "</style>\n",
       "<table border=\"1\" class=\"dataframe\">\n",
       "  <thead>\n",
       "    <tr style=\"text-align: right;\">\n",
       "      <th></th>\n",
       "      <th>Pclass</th>\n",
       "      <th>Name</th>\n",
       "      <th>Sex</th>\n",
       "      <th>Age</th>\n",
       "      <th>SibSp</th>\n",
       "      <th>Parch</th>\n",
       "      <th>Fare</th>\n",
       "      <th>Embarked</th>\n",
       "    </tr>\n",
       "    <tr>\n",
       "      <th>PassengerId</th>\n",
       "      <th></th>\n",
       "      <th></th>\n",
       "      <th></th>\n",
       "      <th></th>\n",
       "      <th></th>\n",
       "      <th></th>\n",
       "      <th></th>\n",
       "      <th></th>\n",
       "    </tr>\n",
       "  </thead>\n",
       "  <tbody>\n",
       "    <tr>\n",
       "      <th>1</th>\n",
       "      <td>3</td>\n",
       "      <td>Braund, Mr. Owen Harris</td>\n",
       "      <td>male</td>\n",
       "      <td>22.0</td>\n",
       "      <td>1</td>\n",
       "      <td>0</td>\n",
       "      <td>7.2500</td>\n",
       "      <td>S</td>\n",
       "    </tr>\n",
       "    <tr>\n",
       "      <th>2</th>\n",
       "      <td>1</td>\n",
       "      <td>Cumings, Mrs. John Bradley (Florence Briggs Th...</td>\n",
       "      <td>female</td>\n",
       "      <td>38.0</td>\n",
       "      <td>1</td>\n",
       "      <td>0</td>\n",
       "      <td>71.2833</td>\n",
       "      <td>C</td>\n",
       "    </tr>\n",
       "    <tr>\n",
       "      <th>3</th>\n",
       "      <td>3</td>\n",
       "      <td>Heikkinen, Miss. Laina</td>\n",
       "      <td>female</td>\n",
       "      <td>26.0</td>\n",
       "      <td>0</td>\n",
       "      <td>0</td>\n",
       "      <td>7.9250</td>\n",
       "      <td>S</td>\n",
       "    </tr>\n",
       "    <tr>\n",
       "      <th>4</th>\n",
       "      <td>1</td>\n",
       "      <td>Futrelle, Mrs. Jacques Heath (Lily May Peel)</td>\n",
       "      <td>female</td>\n",
       "      <td>35.0</td>\n",
       "      <td>1</td>\n",
       "      <td>0</td>\n",
       "      <td>53.1000</td>\n",
       "      <td>S</td>\n",
       "    </tr>\n",
       "    <tr>\n",
       "      <th>5</th>\n",
       "      <td>3</td>\n",
       "      <td>Allen, Mr. William Henry</td>\n",
       "      <td>male</td>\n",
       "      <td>35.0</td>\n",
       "      <td>0</td>\n",
       "      <td>0</td>\n",
       "      <td>8.0500</td>\n",
       "      <td>S</td>\n",
       "    </tr>\n",
       "    <tr>\n",
       "      <th>...</th>\n",
       "      <td>...</td>\n",
       "      <td>...</td>\n",
       "      <td>...</td>\n",
       "      <td>...</td>\n",
       "      <td>...</td>\n",
       "      <td>...</td>\n",
       "      <td>...</td>\n",
       "      <td>...</td>\n",
       "    </tr>\n",
       "    <tr>\n",
       "      <th>887</th>\n",
       "      <td>2</td>\n",
       "      <td>Montvila, Rev. Juozas</td>\n",
       "      <td>male</td>\n",
       "      <td>27.0</td>\n",
       "      <td>0</td>\n",
       "      <td>0</td>\n",
       "      <td>13.0000</td>\n",
       "      <td>S</td>\n",
       "    </tr>\n",
       "    <tr>\n",
       "      <th>888</th>\n",
       "      <td>1</td>\n",
       "      <td>Graham, Miss. Margaret Edith</td>\n",
       "      <td>female</td>\n",
       "      <td>19.0</td>\n",
       "      <td>0</td>\n",
       "      <td>0</td>\n",
       "      <td>30.0000</td>\n",
       "      <td>S</td>\n",
       "    </tr>\n",
       "    <tr>\n",
       "      <th>889</th>\n",
       "      <td>3</td>\n",
       "      <td>Johnston, Miss. Catherine Helen \"Carrie\"</td>\n",
       "      <td>female</td>\n",
       "      <td>NaN</td>\n",
       "      <td>1</td>\n",
       "      <td>2</td>\n",
       "      <td>23.4500</td>\n",
       "      <td>S</td>\n",
       "    </tr>\n",
       "    <tr>\n",
       "      <th>890</th>\n",
       "      <td>1</td>\n",
       "      <td>Behr, Mr. Karl Howell</td>\n",
       "      <td>male</td>\n",
       "      <td>26.0</td>\n",
       "      <td>0</td>\n",
       "      <td>0</td>\n",
       "      <td>30.0000</td>\n",
       "      <td>C</td>\n",
       "    </tr>\n",
       "    <tr>\n",
       "      <th>891</th>\n",
       "      <td>3</td>\n",
       "      <td>Dooley, Mr. Patrick</td>\n",
       "      <td>male</td>\n",
       "      <td>32.0</td>\n",
       "      <td>0</td>\n",
       "      <td>0</td>\n",
       "      <td>7.7500</td>\n",
       "      <td>Q</td>\n",
       "    </tr>\n",
       "  </tbody>\n",
       "</table>\n",
       "<p>891 rows × 8 columns</p>\n",
       "</div>"
      ],
      "text/plain": [
       "             Pclass                                               Name  \\\n",
       "PassengerId                                                              \n",
       "1                 3                            Braund, Mr. Owen Harris   \n",
       "2                 1  Cumings, Mrs. John Bradley (Florence Briggs Th...   \n",
       "3                 3                             Heikkinen, Miss. Laina   \n",
       "4                 1       Futrelle, Mrs. Jacques Heath (Lily May Peel)   \n",
       "5                 3                           Allen, Mr. William Henry   \n",
       "...             ...                                                ...   \n",
       "887               2                              Montvila, Rev. Juozas   \n",
       "888               1                       Graham, Miss. Margaret Edith   \n",
       "889               3           Johnston, Miss. Catherine Helen \"Carrie\"   \n",
       "890               1                              Behr, Mr. Karl Howell   \n",
       "891               3                                Dooley, Mr. Patrick   \n",
       "\n",
       "                Sex   Age  SibSp  Parch     Fare Embarked  \n",
       "PassengerId                                                \n",
       "1              male  22.0      1      0   7.2500        S  \n",
       "2            female  38.0      1      0  71.2833        C  \n",
       "3            female  26.0      0      0   7.9250        S  \n",
       "4            female  35.0      1      0  53.1000        S  \n",
       "5              male  35.0      0      0   8.0500        S  \n",
       "...             ...   ...    ...    ...      ...      ...  \n",
       "887            male  27.0      0      0  13.0000        S  \n",
       "888          female  19.0      0      0  30.0000        S  \n",
       "889          female   NaN      1      2  23.4500        S  \n",
       "890            male  26.0      0      0  30.0000        C  \n",
       "891            male  32.0      0      0   7.7500        Q  \n",
       "\n",
       "[891 rows x 8 columns]"
      ]
     },
     "execution_count": 123,
     "metadata": {},
     "output_type": "execute_result"
    }
   ],
   "source": [
    "X"
   ]
  },
  {
   "cell_type": "code",
   "execution_count": 124,
   "id": "7a5fe341",
   "metadata": {},
   "outputs": [],
   "source": [
    "# tuple name, method, columns\n",
    "trans = ColumnTransformer( [('missing', SimpleImputer(strategy='most_frequent'), ['Age'] ),\n",
    "                            ('do nothing', 'passthrough', ['Parch', 'SibSp'])]\n",
    "                          , remainder = 'passthrough')"
   ]
  },
  {
   "cell_type": "code",
   "execution_count": 134,
   "id": "9c0b75e2",
   "metadata": {},
   "outputs": [
    {
     "data": {
      "text/plain": [
       "ColumnTransformer(remainder='passthrough',\n",
       "                  transformers=[('missing',\n",
       "                                 SimpleImputer(strategy='most_frequent'),\n",
       "                                 ['Age']),\n",
       "                                ('do nothing', 'passthrough',\n",
       "                                 ['Parch', 'SibSp'])])"
      ]
     },
     "execution_count": 134,
     "metadata": {},
     "output_type": "execute_result"
    }
   ],
   "source": [
    "trans.fit(X)"
   ]
  },
  {
   "cell_type": "code",
   "execution_count": 135,
   "id": "0051740c",
   "metadata": {},
   "outputs": [],
   "source": [
    "X_transformed = trans.transform(X)"
   ]
  },
  {
   "cell_type": "code",
   "execution_count": 136,
   "id": "a366577a",
   "metadata": {},
   "outputs": [],
   "source": [
    "X_transformed = pd.DataFrame(X_transformed)"
   ]
  },
  {
   "cell_type": "code",
   "execution_count": 137,
   "id": "9615006e",
   "metadata": {},
   "outputs": [
    {
     "data": {
      "text/html": [
       "<div>\n",
       "<style scoped>\n",
       "    .dataframe tbody tr th:only-of-type {\n",
       "        vertical-align: middle;\n",
       "    }\n",
       "\n",
       "    .dataframe tbody tr th {\n",
       "        vertical-align: top;\n",
       "    }\n",
       "\n",
       "    .dataframe thead th {\n",
       "        text-align: right;\n",
       "    }\n",
       "</style>\n",
       "<table border=\"1\" class=\"dataframe\">\n",
       "  <thead>\n",
       "    <tr style=\"text-align: right;\">\n",
       "      <th></th>\n",
       "      <th>0</th>\n",
       "      <th>1</th>\n",
       "      <th>2</th>\n",
       "      <th>3</th>\n",
       "      <th>4</th>\n",
       "      <th>5</th>\n",
       "      <th>6</th>\n",
       "      <th>7</th>\n",
       "    </tr>\n",
       "  </thead>\n",
       "  <tbody>\n",
       "    <tr>\n",
       "      <th>0</th>\n",
       "      <td>22.0</td>\n",
       "      <td>0</td>\n",
       "      <td>1</td>\n",
       "      <td>3</td>\n",
       "      <td>Braund, Mr. Owen Harris</td>\n",
       "      <td>male</td>\n",
       "      <td>7.25</td>\n",
       "      <td>S</td>\n",
       "    </tr>\n",
       "    <tr>\n",
       "      <th>1</th>\n",
       "      <td>38.0</td>\n",
       "      <td>0</td>\n",
       "      <td>1</td>\n",
       "      <td>1</td>\n",
       "      <td>Cumings, Mrs. John Bradley (Florence Briggs Th...</td>\n",
       "      <td>female</td>\n",
       "      <td>71.2833</td>\n",
       "      <td>C</td>\n",
       "    </tr>\n",
       "    <tr>\n",
       "      <th>2</th>\n",
       "      <td>26.0</td>\n",
       "      <td>0</td>\n",
       "      <td>0</td>\n",
       "      <td>3</td>\n",
       "      <td>Heikkinen, Miss. Laina</td>\n",
       "      <td>female</td>\n",
       "      <td>7.925</td>\n",
       "      <td>S</td>\n",
       "    </tr>\n",
       "    <tr>\n",
       "      <th>3</th>\n",
       "      <td>35.0</td>\n",
       "      <td>0</td>\n",
       "      <td>1</td>\n",
       "      <td>1</td>\n",
       "      <td>Futrelle, Mrs. Jacques Heath (Lily May Peel)</td>\n",
       "      <td>female</td>\n",
       "      <td>53.1</td>\n",
       "      <td>S</td>\n",
       "    </tr>\n",
       "    <tr>\n",
       "      <th>4</th>\n",
       "      <td>35.0</td>\n",
       "      <td>0</td>\n",
       "      <td>0</td>\n",
       "      <td>3</td>\n",
       "      <td>Allen, Mr. William Henry</td>\n",
       "      <td>male</td>\n",
       "      <td>8.05</td>\n",
       "      <td>S</td>\n",
       "    </tr>\n",
       "    <tr>\n",
       "      <th>...</th>\n",
       "      <td>...</td>\n",
       "      <td>...</td>\n",
       "      <td>...</td>\n",
       "      <td>...</td>\n",
       "      <td>...</td>\n",
       "      <td>...</td>\n",
       "      <td>...</td>\n",
       "      <td>...</td>\n",
       "    </tr>\n",
       "    <tr>\n",
       "      <th>886</th>\n",
       "      <td>27.0</td>\n",
       "      <td>0</td>\n",
       "      <td>0</td>\n",
       "      <td>2</td>\n",
       "      <td>Montvila, Rev. Juozas</td>\n",
       "      <td>male</td>\n",
       "      <td>13.0</td>\n",
       "      <td>S</td>\n",
       "    </tr>\n",
       "    <tr>\n",
       "      <th>887</th>\n",
       "      <td>19.0</td>\n",
       "      <td>0</td>\n",
       "      <td>0</td>\n",
       "      <td>1</td>\n",
       "      <td>Graham, Miss. Margaret Edith</td>\n",
       "      <td>female</td>\n",
       "      <td>30.0</td>\n",
       "      <td>S</td>\n",
       "    </tr>\n",
       "    <tr>\n",
       "      <th>888</th>\n",
       "      <td>24.0</td>\n",
       "      <td>2</td>\n",
       "      <td>1</td>\n",
       "      <td>3</td>\n",
       "      <td>Johnston, Miss. Catherine Helen \"Carrie\"</td>\n",
       "      <td>female</td>\n",
       "      <td>23.45</td>\n",
       "      <td>S</td>\n",
       "    </tr>\n",
       "    <tr>\n",
       "      <th>889</th>\n",
       "      <td>26.0</td>\n",
       "      <td>0</td>\n",
       "      <td>0</td>\n",
       "      <td>1</td>\n",
       "      <td>Behr, Mr. Karl Howell</td>\n",
       "      <td>male</td>\n",
       "      <td>30.0</td>\n",
       "      <td>C</td>\n",
       "    </tr>\n",
       "    <tr>\n",
       "      <th>890</th>\n",
       "      <td>32.0</td>\n",
       "      <td>0</td>\n",
       "      <td>0</td>\n",
       "      <td>3</td>\n",
       "      <td>Dooley, Mr. Patrick</td>\n",
       "      <td>male</td>\n",
       "      <td>7.75</td>\n",
       "      <td>Q</td>\n",
       "    </tr>\n",
       "  </tbody>\n",
       "</table>\n",
       "<p>891 rows × 8 columns</p>\n",
       "</div>"
      ],
      "text/plain": [
       "        0  1  2  3                                                  4       5  \\\n",
       "0    22.0  0  1  3                            Braund, Mr. Owen Harris    male   \n",
       "1    38.0  0  1  1  Cumings, Mrs. John Bradley (Florence Briggs Th...  female   \n",
       "2    26.0  0  0  3                             Heikkinen, Miss. Laina  female   \n",
       "3    35.0  0  1  1       Futrelle, Mrs. Jacques Heath (Lily May Peel)  female   \n",
       "4    35.0  0  0  3                           Allen, Mr. William Henry    male   \n",
       "..    ... .. .. ..                                                ...     ...   \n",
       "886  27.0  0  0  2                              Montvila, Rev. Juozas    male   \n",
       "887  19.0  0  0  1                       Graham, Miss. Margaret Edith  female   \n",
       "888  24.0  2  1  3           Johnston, Miss. Catherine Helen \"Carrie\"  female   \n",
       "889  26.0  0  0  1                              Behr, Mr. Karl Howell    male   \n",
       "890  32.0  0  0  3                                Dooley, Mr. Patrick    male   \n",
       "\n",
       "           6  7  \n",
       "0       7.25  S  \n",
       "1    71.2833  C  \n",
       "2      7.925  S  \n",
       "3       53.1  S  \n",
       "4       8.05  S  \n",
       "..       ... ..  \n",
       "886     13.0  S  \n",
       "887     30.0  S  \n",
       "888    23.45  S  \n",
       "889     30.0  C  \n",
       "890     7.75  Q  \n",
       "\n",
       "[891 rows x 8 columns]"
      ]
     },
     "execution_count": 137,
     "metadata": {},
     "output_type": "execute_result"
    }
   ],
   "source": [
    "X_transformed"
   ]
  },
  {
   "cell_type": "code",
   "execution_count": 128,
   "id": "f3d3fcaf",
   "metadata": {},
   "outputs": [],
   "source": [
    "column_names = [['Age','SibSp', 'Parch', 'Pclass', 'Name', 'Sex', 'Fare','Embarked']]"
   ]
  },
  {
   "cell_type": "code",
   "execution_count": 129,
   "id": "98454f73",
   "metadata": {},
   "outputs": [],
   "source": [
    "X_transformed = pd.DataFrame(X_transformed, columns=column_names )"
   ]
  },
  {
   "cell_type": "code",
   "execution_count": 230,
   "id": "213ae9df",
   "metadata": {
    "scrolled": true
   },
   "outputs": [
    {
     "data": {
      "text/html": [
       "<div>\n",
       "<style scoped>\n",
       "    .dataframe tbody tr th:only-of-type {\n",
       "        vertical-align: middle;\n",
       "    }\n",
       "\n",
       "    .dataframe tbody tr th {\n",
       "        vertical-align: top;\n",
       "    }\n",
       "\n",
       "    .dataframe thead tr th {\n",
       "        text-align: left;\n",
       "    }\n",
       "</style>\n",
       "<table border=\"1\" class=\"dataframe\">\n",
       "  <thead>\n",
       "    <tr>\n",
       "      <th></th>\n",
       "      <th>Age</th>\n",
       "      <th>SibSp</th>\n",
       "      <th>Parch</th>\n",
       "      <th>Pclass</th>\n",
       "      <th>Name</th>\n",
       "      <th>Sex</th>\n",
       "      <th>Fare</th>\n",
       "      <th>Embarked</th>\n",
       "    </tr>\n",
       "  </thead>\n",
       "  <tbody>\n",
       "    <tr>\n",
       "      <th>0</th>\n",
       "      <td>22.0</td>\n",
       "      <td>0</td>\n",
       "      <td>1</td>\n",
       "      <td>3</td>\n",
       "      <td>Braund, Mr. Owen Harris</td>\n",
       "      <td>male</td>\n",
       "      <td>7.25</td>\n",
       "      <td>S</td>\n",
       "    </tr>\n",
       "    <tr>\n",
       "      <th>1</th>\n",
       "      <td>38.0</td>\n",
       "      <td>0</td>\n",
       "      <td>1</td>\n",
       "      <td>1</td>\n",
       "      <td>Cumings, Mrs. John Bradley (Florence Briggs Th...</td>\n",
       "      <td>female</td>\n",
       "      <td>71.2833</td>\n",
       "      <td>C</td>\n",
       "    </tr>\n",
       "    <tr>\n",
       "      <th>2</th>\n",
       "      <td>26.0</td>\n",
       "      <td>0</td>\n",
       "      <td>0</td>\n",
       "      <td>3</td>\n",
       "      <td>Heikkinen, Miss. Laina</td>\n",
       "      <td>female</td>\n",
       "      <td>7.925</td>\n",
       "      <td>S</td>\n",
       "    </tr>\n",
       "    <tr>\n",
       "      <th>3</th>\n",
       "      <td>35.0</td>\n",
       "      <td>0</td>\n",
       "      <td>1</td>\n",
       "      <td>1</td>\n",
       "      <td>Futrelle, Mrs. Jacques Heath (Lily May Peel)</td>\n",
       "      <td>female</td>\n",
       "      <td>53.1</td>\n",
       "      <td>S</td>\n",
       "    </tr>\n",
       "    <tr>\n",
       "      <th>4</th>\n",
       "      <td>35.0</td>\n",
       "      <td>0</td>\n",
       "      <td>0</td>\n",
       "      <td>3</td>\n",
       "      <td>Allen, Mr. William Henry</td>\n",
       "      <td>male</td>\n",
       "      <td>8.05</td>\n",
       "      <td>S</td>\n",
       "    </tr>\n",
       "    <tr>\n",
       "      <th>...</th>\n",
       "      <td>...</td>\n",
       "      <td>...</td>\n",
       "      <td>...</td>\n",
       "      <td>...</td>\n",
       "      <td>...</td>\n",
       "      <td>...</td>\n",
       "      <td>...</td>\n",
       "      <td>...</td>\n",
       "    </tr>\n",
       "    <tr>\n",
       "      <th>886</th>\n",
       "      <td>27.0</td>\n",
       "      <td>0</td>\n",
       "      <td>0</td>\n",
       "      <td>2</td>\n",
       "      <td>Montvila, Rev. Juozas</td>\n",
       "      <td>male</td>\n",
       "      <td>13.0</td>\n",
       "      <td>S</td>\n",
       "    </tr>\n",
       "    <tr>\n",
       "      <th>887</th>\n",
       "      <td>19.0</td>\n",
       "      <td>0</td>\n",
       "      <td>0</td>\n",
       "      <td>1</td>\n",
       "      <td>Graham, Miss. Margaret Edith</td>\n",
       "      <td>female</td>\n",
       "      <td>30.0</td>\n",
       "      <td>S</td>\n",
       "    </tr>\n",
       "    <tr>\n",
       "      <th>888</th>\n",
       "      <td>24.0</td>\n",
       "      <td>2</td>\n",
       "      <td>1</td>\n",
       "      <td>3</td>\n",
       "      <td>Johnston, Miss. Catherine Helen \"Carrie\"</td>\n",
       "      <td>female</td>\n",
       "      <td>23.45</td>\n",
       "      <td>S</td>\n",
       "    </tr>\n",
       "    <tr>\n",
       "      <th>889</th>\n",
       "      <td>26.0</td>\n",
       "      <td>0</td>\n",
       "      <td>0</td>\n",
       "      <td>1</td>\n",
       "      <td>Behr, Mr. Karl Howell</td>\n",
       "      <td>male</td>\n",
       "      <td>30.0</td>\n",
       "      <td>C</td>\n",
       "    </tr>\n",
       "    <tr>\n",
       "      <th>890</th>\n",
       "      <td>32.0</td>\n",
       "      <td>0</td>\n",
       "      <td>0</td>\n",
       "      <td>3</td>\n",
       "      <td>Dooley, Mr. Patrick</td>\n",
       "      <td>male</td>\n",
       "      <td>7.75</td>\n",
       "      <td>Q</td>\n",
       "    </tr>\n",
       "  </tbody>\n",
       "</table>\n",
       "<p>891 rows × 8 columns</p>\n",
       "</div>"
      ],
      "text/plain": [
       "      Age SibSp Parch Pclass  \\\n",
       "0    22.0     0     1      3   \n",
       "1    38.0     0     1      1   \n",
       "2    26.0     0     0      3   \n",
       "3    35.0     0     1      1   \n",
       "4    35.0     0     0      3   \n",
       "..    ...   ...   ...    ...   \n",
       "886  27.0     0     0      2   \n",
       "887  19.0     0     0      1   \n",
       "888  24.0     2     1      3   \n",
       "889  26.0     0     0      1   \n",
       "890  32.0     0     0      3   \n",
       "\n",
       "                                                  Name     Sex     Fare  \\\n",
       "0                              Braund, Mr. Owen Harris    male     7.25   \n",
       "1    Cumings, Mrs. John Bradley (Florence Briggs Th...  female  71.2833   \n",
       "2                               Heikkinen, Miss. Laina  female    7.925   \n",
       "3         Futrelle, Mrs. Jacques Heath (Lily May Peel)  female     53.1   \n",
       "4                             Allen, Mr. William Henry    male     8.05   \n",
       "..                                                 ...     ...      ...   \n",
       "886                              Montvila, Rev. Juozas    male     13.0   \n",
       "887                       Graham, Miss. Margaret Edith  female     30.0   \n",
       "888           Johnston, Miss. Catherine Helen \"Carrie\"  female    23.45   \n",
       "889                              Behr, Mr. Karl Howell    male     30.0   \n",
       "890                                Dooley, Mr. Patrick    male     7.75   \n",
       "\n",
       "    Embarked  \n",
       "0          S  \n",
       "1          C  \n",
       "2          S  \n",
       "3          S  \n",
       "4          S  \n",
       "..       ...  \n",
       "886        S  \n",
       "887        S  \n",
       "888        S  \n",
       "889        C  \n",
       "890        Q  \n",
       "\n",
       "[891 rows x 8 columns]"
      ]
     },
     "execution_count": 230,
     "metadata": {},
     "output_type": "execute_result"
    }
   ],
   "source": [
    "X_transformed"
   ]
  },
  {
   "cell_type": "code",
   "execution_count": 132,
   "id": "bcb7ebf8",
   "metadata": {
    "scrolled": true
   },
   "outputs": [
    {
     "ename": "AttributeError",
     "evalue": "Transformer missing (type SimpleImputer) does not provide get_feature_names.",
     "output_type": "error",
     "traceback": [
      "\u001b[0;31m---------------------------------------------------------------------------\u001b[0m",
      "\u001b[0;31mAttributeError\u001b[0m                            Traceback (most recent call last)",
      "\u001b[0;32m/tmp/ipykernel_5552/2897694447.py\u001b[0m in \u001b[0;36m<module>\u001b[0;34m\u001b[0m\n\u001b[0;32m----> 1\u001b[0;31m \u001b[0mtrans\u001b[0m\u001b[0;34m.\u001b[0m\u001b[0mget_feature_names\u001b[0m\u001b[0;34m(\u001b[0m\u001b[0;34m)\u001b[0m\u001b[0;34m\u001b[0m\u001b[0;34m\u001b[0m\u001b[0m\n\u001b[0m",
      "\u001b[0;32m~/anaconda3/lib/python3.9/site-packages/sklearn/compose/_column_transformer.py\u001b[0m in \u001b[0;36mget_feature_names\u001b[0;34m(self)\u001b[0m\n\u001b[1;32m    373\u001b[0m                 \u001b[0;32mcontinue\u001b[0m\u001b[0;34m\u001b[0m\u001b[0;34m\u001b[0m\u001b[0m\n\u001b[1;32m    374\u001b[0m             \u001b[0;32mif\u001b[0m \u001b[0;32mnot\u001b[0m \u001b[0mhasattr\u001b[0m\u001b[0;34m(\u001b[0m\u001b[0mtrans\u001b[0m\u001b[0;34m,\u001b[0m \u001b[0;34m'get_feature_names'\u001b[0m\u001b[0;34m)\u001b[0m\u001b[0;34m:\u001b[0m\u001b[0;34m\u001b[0m\u001b[0;34m\u001b[0m\u001b[0m\n\u001b[0;32m--> 375\u001b[0;31m                 raise AttributeError(\"Transformer %s (type %s) does not \"\n\u001b[0m\u001b[1;32m    376\u001b[0m                                      \u001b[0;34m\"provide get_feature_names.\"\u001b[0m\u001b[0;34m\u001b[0m\u001b[0;34m\u001b[0m\u001b[0m\n\u001b[1;32m    377\u001b[0m                                      % (str(name), type(trans).__name__))\n",
      "\u001b[0;31mAttributeError\u001b[0m: Transformer missing (type SimpleImputer) does not provide get_feature_names."
     ]
    }
   ],
   "source": [
    "trans.get_feature_names()"
   ]
  },
  {
   "cell_type": "code",
   "execution_count": 133,
   "id": "08e6bd4b",
   "metadata": {},
   "outputs": [
    {
     "name": "stderr",
     "output_type": "stream",
     "text": [
      "/tmp/ipykernel_5552/4220478432.py:30: UserWarning: Transformer missing (type SimpleImputer) does not provide get_feature_names. Will return input column names if available\n",
      "  warnings.warn(\"Transformer %s (type %s) does not \"\n"
     ]
    },
    {
     "data": {
      "text/plain": [
       "['missing__Age', 'Parch', 'SibSp', 'Pclass', 'Name', 'Sex', 'Fare', 'Embarked']"
      ]
     },
     "execution_count": 133,
     "metadata": {},
     "output_type": "execute_result"
    }
   ],
   "source": [
    "get_feature_names_manual(trans)"
   ]
  },
  {
   "cell_type": "markdown",
   "id": "b490d52e",
   "metadata": {},
   "source": [
    "## one-hot-encode the Embarked column"
   ]
  },
  {
   "cell_type": "code",
   "execution_count": 139,
   "id": "a93b69ed",
   "metadata": {},
   "outputs": [],
   "source": [
    "from sklearn.preprocessing import OneHotEncoder"
   ]
  },
  {
   "cell_type": "code",
   "execution_count": 140,
   "id": "9692f831",
   "metadata": {},
   "outputs": [],
   "source": [
    "trans_onehot = ColumnTransformer( [('OneHot', OneHotEncoder(), ['Embarked'])], remainder = 'passthrough')"
   ]
  },
  {
   "cell_type": "code",
   "execution_count": 141,
   "id": "98cc3f9f",
   "metadata": {},
   "outputs": [
    {
     "data": {
      "text/plain": [
       "ColumnTransformer(remainder='passthrough',\n",
       "                  transformers=[('OneHot', OneHotEncoder(), ['Embarked'])])"
      ]
     },
     "execution_count": 141,
     "metadata": {},
     "output_type": "execute_result"
    }
   ],
   "source": [
    "trans_onehot.fit(X)"
   ]
  },
  {
   "cell_type": "code",
   "execution_count": 143,
   "id": "c75485cc",
   "metadata": {},
   "outputs": [],
   "source": [
    "X_onehoted = trans_onehot.transform(X)"
   ]
  },
  {
   "cell_type": "code",
   "execution_count": 144,
   "id": "f12a04a4",
   "metadata": {},
   "outputs": [
    {
     "data": {
      "text/plain": [
       "['OneHot__x0_C',\n",
       " 'OneHot__x0_Q',\n",
       " 'OneHot__x0_S',\n",
       " 'OneHot__x0_nan',\n",
       " 'Pclass',\n",
       " 'Name',\n",
       " 'Sex',\n",
       " 'Age',\n",
       " 'SibSp',\n",
       " 'Parch',\n",
       " 'Fare']"
      ]
     },
     "execution_count": 144,
     "metadata": {},
     "output_type": "execute_result"
    }
   ],
   "source": [
    "trans_onehot.get_feature_names()"
   ]
  },
  {
   "cell_type": "code",
   "execution_count": 236,
   "id": "a983dcee",
   "metadata": {},
   "outputs": [],
   "source": [
    "X_onehoted = pd.DataFrame(X_onehoted, columns = trans_new.get_feature_names())"
   ]
  },
  {
   "cell_type": "code",
   "execution_count": 237,
   "id": "3c0dca3f",
   "metadata": {},
   "outputs": [
    {
     "data": {
      "text/html": [
       "<div>\n",
       "<style scoped>\n",
       "    .dataframe tbody tr th:only-of-type {\n",
       "        vertical-align: middle;\n",
       "    }\n",
       "\n",
       "    .dataframe tbody tr th {\n",
       "        vertical-align: top;\n",
       "    }\n",
       "\n",
       "    .dataframe thead th {\n",
       "        text-align: right;\n",
       "    }\n",
       "</style>\n",
       "<table border=\"1\" class=\"dataframe\">\n",
       "  <thead>\n",
       "    <tr style=\"text-align: right;\">\n",
       "      <th></th>\n",
       "      <th>OneHot__x0_C</th>\n",
       "      <th>OneHot__x0_Q</th>\n",
       "      <th>OneHot__x0_S</th>\n",
       "      <th>OneHot__x0_nan</th>\n",
       "      <th>Pclass</th>\n",
       "      <th>Name</th>\n",
       "      <th>Sex</th>\n",
       "      <th>Age</th>\n",
       "      <th>SibSp</th>\n",
       "      <th>Parch</th>\n",
       "      <th>Fare</th>\n",
       "    </tr>\n",
       "  </thead>\n",
       "  <tbody>\n",
       "    <tr>\n",
       "      <th>0</th>\n",
       "      <td>0.0</td>\n",
       "      <td>0.0</td>\n",
       "      <td>1.0</td>\n",
       "      <td>0.0</td>\n",
       "      <td>3</td>\n",
       "      <td>Braund, Mr. Owen Harris</td>\n",
       "      <td>male</td>\n",
       "      <td>22.0</td>\n",
       "      <td>1</td>\n",
       "      <td>0</td>\n",
       "      <td>7.25</td>\n",
       "    </tr>\n",
       "    <tr>\n",
       "      <th>1</th>\n",
       "      <td>1.0</td>\n",
       "      <td>0.0</td>\n",
       "      <td>0.0</td>\n",
       "      <td>0.0</td>\n",
       "      <td>1</td>\n",
       "      <td>Cumings, Mrs. John Bradley (Florence Briggs Th...</td>\n",
       "      <td>female</td>\n",
       "      <td>38.0</td>\n",
       "      <td>1</td>\n",
       "      <td>0</td>\n",
       "      <td>71.2833</td>\n",
       "    </tr>\n",
       "    <tr>\n",
       "      <th>2</th>\n",
       "      <td>0.0</td>\n",
       "      <td>0.0</td>\n",
       "      <td>1.0</td>\n",
       "      <td>0.0</td>\n",
       "      <td>3</td>\n",
       "      <td>Heikkinen, Miss. Laina</td>\n",
       "      <td>female</td>\n",
       "      <td>26.0</td>\n",
       "      <td>0</td>\n",
       "      <td>0</td>\n",
       "      <td>7.925</td>\n",
       "    </tr>\n",
       "    <tr>\n",
       "      <th>3</th>\n",
       "      <td>0.0</td>\n",
       "      <td>0.0</td>\n",
       "      <td>1.0</td>\n",
       "      <td>0.0</td>\n",
       "      <td>1</td>\n",
       "      <td>Futrelle, Mrs. Jacques Heath (Lily May Peel)</td>\n",
       "      <td>female</td>\n",
       "      <td>35.0</td>\n",
       "      <td>1</td>\n",
       "      <td>0</td>\n",
       "      <td>53.1</td>\n",
       "    </tr>\n",
       "    <tr>\n",
       "      <th>4</th>\n",
       "      <td>0.0</td>\n",
       "      <td>0.0</td>\n",
       "      <td>1.0</td>\n",
       "      <td>0.0</td>\n",
       "      <td>3</td>\n",
       "      <td>Allen, Mr. William Henry</td>\n",
       "      <td>male</td>\n",
       "      <td>35.0</td>\n",
       "      <td>0</td>\n",
       "      <td>0</td>\n",
       "      <td>8.05</td>\n",
       "    </tr>\n",
       "    <tr>\n",
       "      <th>...</th>\n",
       "      <td>...</td>\n",
       "      <td>...</td>\n",
       "      <td>...</td>\n",
       "      <td>...</td>\n",
       "      <td>...</td>\n",
       "      <td>...</td>\n",
       "      <td>...</td>\n",
       "      <td>...</td>\n",
       "      <td>...</td>\n",
       "      <td>...</td>\n",
       "      <td>...</td>\n",
       "    </tr>\n",
       "    <tr>\n",
       "      <th>886</th>\n",
       "      <td>0.0</td>\n",
       "      <td>0.0</td>\n",
       "      <td>1.0</td>\n",
       "      <td>0.0</td>\n",
       "      <td>2</td>\n",
       "      <td>Montvila, Rev. Juozas</td>\n",
       "      <td>male</td>\n",
       "      <td>27.0</td>\n",
       "      <td>0</td>\n",
       "      <td>0</td>\n",
       "      <td>13.0</td>\n",
       "    </tr>\n",
       "    <tr>\n",
       "      <th>887</th>\n",
       "      <td>0.0</td>\n",
       "      <td>0.0</td>\n",
       "      <td>1.0</td>\n",
       "      <td>0.0</td>\n",
       "      <td>1</td>\n",
       "      <td>Graham, Miss. Margaret Edith</td>\n",
       "      <td>female</td>\n",
       "      <td>19.0</td>\n",
       "      <td>0</td>\n",
       "      <td>0</td>\n",
       "      <td>30.0</td>\n",
       "    </tr>\n",
       "    <tr>\n",
       "      <th>888</th>\n",
       "      <td>0.0</td>\n",
       "      <td>0.0</td>\n",
       "      <td>1.0</td>\n",
       "      <td>0.0</td>\n",
       "      <td>3</td>\n",
       "      <td>Johnston, Miss. Catherine Helen \"Carrie\"</td>\n",
       "      <td>female</td>\n",
       "      <td>NaN</td>\n",
       "      <td>1</td>\n",
       "      <td>2</td>\n",
       "      <td>23.45</td>\n",
       "    </tr>\n",
       "    <tr>\n",
       "      <th>889</th>\n",
       "      <td>1.0</td>\n",
       "      <td>0.0</td>\n",
       "      <td>0.0</td>\n",
       "      <td>0.0</td>\n",
       "      <td>1</td>\n",
       "      <td>Behr, Mr. Karl Howell</td>\n",
       "      <td>male</td>\n",
       "      <td>26.0</td>\n",
       "      <td>0</td>\n",
       "      <td>0</td>\n",
       "      <td>30.0</td>\n",
       "    </tr>\n",
       "    <tr>\n",
       "      <th>890</th>\n",
       "      <td>0.0</td>\n",
       "      <td>1.0</td>\n",
       "      <td>0.0</td>\n",
       "      <td>0.0</td>\n",
       "      <td>3</td>\n",
       "      <td>Dooley, Mr. Patrick</td>\n",
       "      <td>male</td>\n",
       "      <td>32.0</td>\n",
       "      <td>0</td>\n",
       "      <td>0</td>\n",
       "      <td>7.75</td>\n",
       "    </tr>\n",
       "  </tbody>\n",
       "</table>\n",
       "<p>891 rows × 11 columns</p>\n",
       "</div>"
      ],
      "text/plain": [
       "    OneHot__x0_C OneHot__x0_Q OneHot__x0_S OneHot__x0_nan Pclass  \\\n",
       "0            0.0          0.0          1.0            0.0      3   \n",
       "1            1.0          0.0          0.0            0.0      1   \n",
       "2            0.0          0.0          1.0            0.0      3   \n",
       "3            0.0          0.0          1.0            0.0      1   \n",
       "4            0.0          0.0          1.0            0.0      3   \n",
       "..           ...          ...          ...            ...    ...   \n",
       "886          0.0          0.0          1.0            0.0      2   \n",
       "887          0.0          0.0          1.0            0.0      1   \n",
       "888          0.0          0.0          1.0            0.0      3   \n",
       "889          1.0          0.0          0.0            0.0      1   \n",
       "890          0.0          1.0          0.0            0.0      3   \n",
       "\n",
       "                                                  Name     Sex   Age SibSp  \\\n",
       "0                              Braund, Mr. Owen Harris    male  22.0     1   \n",
       "1    Cumings, Mrs. John Bradley (Florence Briggs Th...  female  38.0     1   \n",
       "2                               Heikkinen, Miss. Laina  female  26.0     0   \n",
       "3         Futrelle, Mrs. Jacques Heath (Lily May Peel)  female  35.0     1   \n",
       "4                             Allen, Mr. William Henry    male  35.0     0   \n",
       "..                                                 ...     ...   ...   ...   \n",
       "886                              Montvila, Rev. Juozas    male  27.0     0   \n",
       "887                       Graham, Miss. Margaret Edith  female  19.0     0   \n",
       "888           Johnston, Miss. Catherine Helen \"Carrie\"  female   NaN     1   \n",
       "889                              Behr, Mr. Karl Howell    male  26.0     0   \n",
       "890                                Dooley, Mr. Patrick    male  32.0     0   \n",
       "\n",
       "    Parch     Fare  \n",
       "0       0     7.25  \n",
       "1       0  71.2833  \n",
       "2       0    7.925  \n",
       "3       0     53.1  \n",
       "4       0     8.05  \n",
       "..    ...      ...  \n",
       "886     0     13.0  \n",
       "887     0     30.0  \n",
       "888     2    23.45  \n",
       "889     0     30.0  \n",
       "890     0     7.75  \n",
       "\n",
       "[891 rows x 11 columns]"
      ]
     },
     "execution_count": 237,
     "metadata": {},
     "output_type": "execute_result"
    }
   ],
   "source": [
    "X_onehoted"
   ]
  },
  {
   "cell_type": "markdown",
   "id": "8a1134c4",
   "metadata": {},
   "source": [
    "## bin the imputed Age column into 3 bins (young, middle-aged, old)"
   ]
  },
  {
   "cell_type": "code",
   "execution_count": 58,
   "id": "6ff25758",
   "metadata": {},
   "outputs": [],
   "source": [
    "from sklearn.compose import ColumnTransformer\n",
    "from sklearn.preprocessing import KBinsDiscretizer"
   ]
  },
  {
   "cell_type": "code",
   "execution_count": 59,
   "id": "561c0600",
   "metadata": {
    "scrolled": true
   },
   "outputs": [
    {
     "data": {
      "text/html": [
       "<div>\n",
       "<style scoped>\n",
       "    .dataframe tbody tr th:only-of-type {\n",
       "        vertical-align: middle;\n",
       "    }\n",
       "\n",
       "    .dataframe tbody tr th {\n",
       "        vertical-align: top;\n",
       "    }\n",
       "\n",
       "    .dataframe thead th {\n",
       "        text-align: right;\n",
       "    }\n",
       "</style>\n",
       "<table border=\"1\" class=\"dataframe\">\n",
       "  <thead>\n",
       "    <tr style=\"text-align: right;\">\n",
       "      <th></th>\n",
       "      <th>Pclass</th>\n",
       "      <th>Name</th>\n",
       "      <th>Sex</th>\n",
       "      <th>Age</th>\n",
       "      <th>SibSp</th>\n",
       "      <th>Parch</th>\n",
       "      <th>Fare</th>\n",
       "      <th>Embarked</th>\n",
       "    </tr>\n",
       "    <tr>\n",
       "      <th>PassengerId</th>\n",
       "      <th></th>\n",
       "      <th></th>\n",
       "      <th></th>\n",
       "      <th></th>\n",
       "      <th></th>\n",
       "      <th></th>\n",
       "      <th></th>\n",
       "      <th></th>\n",
       "    </tr>\n",
       "  </thead>\n",
       "  <tbody>\n",
       "    <tr>\n",
       "      <th>1</th>\n",
       "      <td>3</td>\n",
       "      <td>Braund, Mr. Owen Harris</td>\n",
       "      <td>male</td>\n",
       "      <td>22.0</td>\n",
       "      <td>1</td>\n",
       "      <td>0</td>\n",
       "      <td>7.2500</td>\n",
       "      <td>S</td>\n",
       "    </tr>\n",
       "    <tr>\n",
       "      <th>2</th>\n",
       "      <td>1</td>\n",
       "      <td>Cumings, Mrs. John Bradley (Florence Briggs Th...</td>\n",
       "      <td>female</td>\n",
       "      <td>38.0</td>\n",
       "      <td>1</td>\n",
       "      <td>0</td>\n",
       "      <td>71.2833</td>\n",
       "      <td>C</td>\n",
       "    </tr>\n",
       "    <tr>\n",
       "      <th>3</th>\n",
       "      <td>3</td>\n",
       "      <td>Heikkinen, Miss. Laina</td>\n",
       "      <td>female</td>\n",
       "      <td>26.0</td>\n",
       "      <td>0</td>\n",
       "      <td>0</td>\n",
       "      <td>7.9250</td>\n",
       "      <td>S</td>\n",
       "    </tr>\n",
       "    <tr>\n",
       "      <th>4</th>\n",
       "      <td>1</td>\n",
       "      <td>Futrelle, Mrs. Jacques Heath (Lily May Peel)</td>\n",
       "      <td>female</td>\n",
       "      <td>35.0</td>\n",
       "      <td>1</td>\n",
       "      <td>0</td>\n",
       "      <td>53.1000</td>\n",
       "      <td>S</td>\n",
       "    </tr>\n",
       "    <tr>\n",
       "      <th>5</th>\n",
       "      <td>3</td>\n",
       "      <td>Allen, Mr. William Henry</td>\n",
       "      <td>male</td>\n",
       "      <td>35.0</td>\n",
       "      <td>0</td>\n",
       "      <td>0</td>\n",
       "      <td>8.0500</td>\n",
       "      <td>S</td>\n",
       "    </tr>\n",
       "    <tr>\n",
       "      <th>...</th>\n",
       "      <td>...</td>\n",
       "      <td>...</td>\n",
       "      <td>...</td>\n",
       "      <td>...</td>\n",
       "      <td>...</td>\n",
       "      <td>...</td>\n",
       "      <td>...</td>\n",
       "      <td>...</td>\n",
       "    </tr>\n",
       "    <tr>\n",
       "      <th>886</th>\n",
       "      <td>3</td>\n",
       "      <td>Rice, Mrs. William (Margaret Norton)</td>\n",
       "      <td>female</td>\n",
       "      <td>39.0</td>\n",
       "      <td>0</td>\n",
       "      <td>5</td>\n",
       "      <td>29.1250</td>\n",
       "      <td>Q</td>\n",
       "    </tr>\n",
       "    <tr>\n",
       "      <th>887</th>\n",
       "      <td>2</td>\n",
       "      <td>Montvila, Rev. Juozas</td>\n",
       "      <td>male</td>\n",
       "      <td>27.0</td>\n",
       "      <td>0</td>\n",
       "      <td>0</td>\n",
       "      <td>13.0000</td>\n",
       "      <td>S</td>\n",
       "    </tr>\n",
       "    <tr>\n",
       "      <th>888</th>\n",
       "      <td>1</td>\n",
       "      <td>Graham, Miss. Margaret Edith</td>\n",
       "      <td>female</td>\n",
       "      <td>19.0</td>\n",
       "      <td>0</td>\n",
       "      <td>0</td>\n",
       "      <td>30.0000</td>\n",
       "      <td>S</td>\n",
       "    </tr>\n",
       "    <tr>\n",
       "      <th>890</th>\n",
       "      <td>1</td>\n",
       "      <td>Behr, Mr. Karl Howell</td>\n",
       "      <td>male</td>\n",
       "      <td>26.0</td>\n",
       "      <td>0</td>\n",
       "      <td>0</td>\n",
       "      <td>30.0000</td>\n",
       "      <td>C</td>\n",
       "    </tr>\n",
       "    <tr>\n",
       "      <th>891</th>\n",
       "      <td>3</td>\n",
       "      <td>Dooley, Mr. Patrick</td>\n",
       "      <td>male</td>\n",
       "      <td>32.0</td>\n",
       "      <td>0</td>\n",
       "      <td>0</td>\n",
       "      <td>7.7500</td>\n",
       "      <td>Q</td>\n",
       "    </tr>\n",
       "  </tbody>\n",
       "</table>\n",
       "<p>712 rows × 8 columns</p>\n",
       "</div>"
      ],
      "text/plain": [
       "             Pclass                                               Name  \\\n",
       "PassengerId                                                              \n",
       "1                 3                            Braund, Mr. Owen Harris   \n",
       "2                 1  Cumings, Mrs. John Bradley (Florence Briggs Th...   \n",
       "3                 3                             Heikkinen, Miss. Laina   \n",
       "4                 1       Futrelle, Mrs. Jacques Heath (Lily May Peel)   \n",
       "5                 3                           Allen, Mr. William Henry   \n",
       "...             ...                                                ...   \n",
       "886               3               Rice, Mrs. William (Margaret Norton)   \n",
       "887               2                              Montvila, Rev. Juozas   \n",
       "888               1                       Graham, Miss. Margaret Edith   \n",
       "890               1                              Behr, Mr. Karl Howell   \n",
       "891               3                                Dooley, Mr. Patrick   \n",
       "\n",
       "                Sex   Age  SibSp  Parch     Fare Embarked  \n",
       "PassengerId                                                \n",
       "1              male  22.0      1      0   7.2500        S  \n",
       "2            female  38.0      1      0  71.2833        C  \n",
       "3            female  26.0      0      0   7.9250        S  \n",
       "4            female  35.0      1      0  53.1000        S  \n",
       "5              male  35.0      0      0   8.0500        S  \n",
       "...             ...   ...    ...    ...      ...      ...  \n",
       "886          female  39.0      0      5  29.1250        Q  \n",
       "887            male  27.0      0      0  13.0000        S  \n",
       "888          female  19.0      0      0  30.0000        S  \n",
       "890            male  26.0      0      0  30.0000        C  \n",
       "891            male  32.0      0      0   7.7500        Q  \n",
       "\n",
       "[712 rows x 8 columns]"
      ]
     },
     "execution_count": 59,
     "metadata": {},
     "output_type": "execute_result"
    }
   ],
   "source": [
    "X"
   ]
  },
  {
   "cell_type": "code",
   "execution_count": null,
   "id": "c30d28f1",
   "metadata": {},
   "outputs": [],
   "source": []
  },
  {
   "cell_type": "code",
   "execution_count": 60,
   "id": "83ee9e4d",
   "metadata": {
    "scrolled": true
   },
   "outputs": [],
   "source": [
    "X.dropna(inplace=True)"
   ]
  },
  {
   "cell_type": "code",
   "execution_count": 61,
   "id": "9163f4be",
   "metadata": {
    "scrolled": true
   },
   "outputs": [
    {
     "data": {
      "text/plain": [
       "Pclass      0\n",
       "Name        0\n",
       "Sex         0\n",
       "Age         0\n",
       "SibSp       0\n",
       "Parch       0\n",
       "Fare        0\n",
       "Embarked    0\n",
       "dtype: int64"
      ]
     },
     "execution_count": 61,
     "metadata": {},
     "output_type": "execute_result"
    }
   ],
   "source": [
    "X.isna().sum()"
   ]
  },
  {
   "cell_type": "code",
   "execution_count": 62,
   "id": "a8d88da3",
   "metadata": {},
   "outputs": [
    {
     "data": {
      "text/plain": [
       "(712, 8)"
      ]
     },
     "execution_count": 62,
     "metadata": {},
     "output_type": "execute_result"
    }
   ],
   "source": [
    "X.shape"
   ]
  },
  {
   "cell_type": "code",
   "execution_count": 63,
   "id": "585310ee",
   "metadata": {},
   "outputs": [],
   "source": [
    "from sklearn.preprocessing import KBinsDiscretizer"
   ]
  },
  {
   "cell_type": "code",
   "execution_count": 64,
   "id": "145564d5",
   "metadata": {},
   "outputs": [],
   "source": [
    "trans_bin = ColumnTransformer([('binner', KBinsDiscretizer(n_bins=3, encode='onehot-dense', strategy='quantile') ,['Age'])], remainder='passthrough')"
   ]
  },
  {
   "cell_type": "code",
   "execution_count": 66,
   "id": "1e059755",
   "metadata": {},
   "outputs": [
    {
     "data": {
      "text/plain": [
       "ColumnTransformer(remainder='passthrough',\n",
       "                  transformers=[('binner',\n",
       "                                 KBinsDiscretizer(encode='onehot-dense',\n",
       "                                                  n_bins=3),\n",
       "                                 ['Age'])])"
      ]
     },
     "execution_count": 66,
     "metadata": {},
     "output_type": "execute_result"
    }
   ],
   "source": [
    "trans_bin.fit(X)"
   ]
  },
  {
   "cell_type": "code",
   "execution_count": 67,
   "id": "1dd727d4",
   "metadata": {},
   "outputs": [],
   "source": [
    "X_binned = trans_bin.transform(X)"
   ]
  },
  {
   "cell_type": "code",
   "execution_count": 68,
   "id": "b2dbdde1",
   "metadata": {},
   "outputs": [],
   "source": [
    "X_binned = pd.DataFrame(X_binned)"
   ]
  },
  {
   "cell_type": "code",
   "execution_count": 69,
   "id": "7c5112a0",
   "metadata": {},
   "outputs": [
    {
     "data": {
      "text/plain": [
       "(712, 10)"
      ]
     },
     "execution_count": 69,
     "metadata": {},
     "output_type": "execute_result"
    }
   ],
   "source": [
    "X_binned.shape"
   ]
  },
  {
   "cell_type": "code",
   "execution_count": 70,
   "id": "dd06f36f",
   "metadata": {
    "scrolled": false
   },
   "outputs": [
    {
     "data": {
      "text/html": [
       "<div>\n",
       "<style scoped>\n",
       "    .dataframe tbody tr th:only-of-type {\n",
       "        vertical-align: middle;\n",
       "    }\n",
       "\n",
       "    .dataframe tbody tr th {\n",
       "        vertical-align: top;\n",
       "    }\n",
       "\n",
       "    .dataframe thead th {\n",
       "        text-align: right;\n",
       "    }\n",
       "</style>\n",
       "<table border=\"1\" class=\"dataframe\">\n",
       "  <thead>\n",
       "    <tr style=\"text-align: right;\">\n",
       "      <th></th>\n",
       "      <th>0</th>\n",
       "      <th>1</th>\n",
       "      <th>2</th>\n",
       "      <th>3</th>\n",
       "      <th>4</th>\n",
       "      <th>5</th>\n",
       "      <th>6</th>\n",
       "      <th>7</th>\n",
       "      <th>8</th>\n",
       "      <th>9</th>\n",
       "    </tr>\n",
       "  </thead>\n",
       "  <tbody>\n",
       "    <tr>\n",
       "      <th>0</th>\n",
       "      <td>1.0</td>\n",
       "      <td>0.0</td>\n",
       "      <td>0.0</td>\n",
       "      <td>3</td>\n",
       "      <td>Braund, Mr. Owen Harris</td>\n",
       "      <td>male</td>\n",
       "      <td>1</td>\n",
       "      <td>0</td>\n",
       "      <td>7.25</td>\n",
       "      <td>S</td>\n",
       "    </tr>\n",
       "    <tr>\n",
       "      <th>1</th>\n",
       "      <td>0.0</td>\n",
       "      <td>0.0</td>\n",
       "      <td>1.0</td>\n",
       "      <td>1</td>\n",
       "      <td>Cumings, Mrs. John Bradley (Florence Briggs Th...</td>\n",
       "      <td>female</td>\n",
       "      <td>1</td>\n",
       "      <td>0</td>\n",
       "      <td>71.2833</td>\n",
       "      <td>C</td>\n",
       "    </tr>\n",
       "    <tr>\n",
       "      <th>2</th>\n",
       "      <td>0.0</td>\n",
       "      <td>1.0</td>\n",
       "      <td>0.0</td>\n",
       "      <td>3</td>\n",
       "      <td>Heikkinen, Miss. Laina</td>\n",
       "      <td>female</td>\n",
       "      <td>0</td>\n",
       "      <td>0</td>\n",
       "      <td>7.925</td>\n",
       "      <td>S</td>\n",
       "    </tr>\n",
       "    <tr>\n",
       "      <th>3</th>\n",
       "      <td>0.0</td>\n",
       "      <td>0.0</td>\n",
       "      <td>1.0</td>\n",
       "      <td>1</td>\n",
       "      <td>Futrelle, Mrs. Jacques Heath (Lily May Peel)</td>\n",
       "      <td>female</td>\n",
       "      <td>1</td>\n",
       "      <td>0</td>\n",
       "      <td>53.1</td>\n",
       "      <td>S</td>\n",
       "    </tr>\n",
       "    <tr>\n",
       "      <th>4</th>\n",
       "      <td>0.0</td>\n",
       "      <td>0.0</td>\n",
       "      <td>1.0</td>\n",
       "      <td>3</td>\n",
       "      <td>Allen, Mr. William Henry</td>\n",
       "      <td>male</td>\n",
       "      <td>0</td>\n",
       "      <td>0</td>\n",
       "      <td>8.05</td>\n",
       "      <td>S</td>\n",
       "    </tr>\n",
       "    <tr>\n",
       "      <th>...</th>\n",
       "      <td>...</td>\n",
       "      <td>...</td>\n",
       "      <td>...</td>\n",
       "      <td>...</td>\n",
       "      <td>...</td>\n",
       "      <td>...</td>\n",
       "      <td>...</td>\n",
       "      <td>...</td>\n",
       "      <td>...</td>\n",
       "      <td>...</td>\n",
       "    </tr>\n",
       "    <tr>\n",
       "      <th>707</th>\n",
       "      <td>0.0</td>\n",
       "      <td>0.0</td>\n",
       "      <td>1.0</td>\n",
       "      <td>3</td>\n",
       "      <td>Rice, Mrs. William (Margaret Norton)</td>\n",
       "      <td>female</td>\n",
       "      <td>0</td>\n",
       "      <td>5</td>\n",
       "      <td>29.125</td>\n",
       "      <td>Q</td>\n",
       "    </tr>\n",
       "    <tr>\n",
       "      <th>708</th>\n",
       "      <td>0.0</td>\n",
       "      <td>1.0</td>\n",
       "      <td>0.0</td>\n",
       "      <td>2</td>\n",
       "      <td>Montvila, Rev. Juozas</td>\n",
       "      <td>male</td>\n",
       "      <td>0</td>\n",
       "      <td>0</td>\n",
       "      <td>13.0</td>\n",
       "      <td>S</td>\n",
       "    </tr>\n",
       "    <tr>\n",
       "      <th>709</th>\n",
       "      <td>1.0</td>\n",
       "      <td>0.0</td>\n",
       "      <td>0.0</td>\n",
       "      <td>1</td>\n",
       "      <td>Graham, Miss. Margaret Edith</td>\n",
       "      <td>female</td>\n",
       "      <td>0</td>\n",
       "      <td>0</td>\n",
       "      <td>30.0</td>\n",
       "      <td>S</td>\n",
       "    </tr>\n",
       "    <tr>\n",
       "      <th>710</th>\n",
       "      <td>0.0</td>\n",
       "      <td>1.0</td>\n",
       "      <td>0.0</td>\n",
       "      <td>1</td>\n",
       "      <td>Behr, Mr. Karl Howell</td>\n",
       "      <td>male</td>\n",
       "      <td>0</td>\n",
       "      <td>0</td>\n",
       "      <td>30.0</td>\n",
       "      <td>C</td>\n",
       "    </tr>\n",
       "    <tr>\n",
       "      <th>711</th>\n",
       "      <td>0.0</td>\n",
       "      <td>1.0</td>\n",
       "      <td>0.0</td>\n",
       "      <td>3</td>\n",
       "      <td>Dooley, Mr. Patrick</td>\n",
       "      <td>male</td>\n",
       "      <td>0</td>\n",
       "      <td>0</td>\n",
       "      <td>7.75</td>\n",
       "      <td>Q</td>\n",
       "    </tr>\n",
       "  </tbody>\n",
       "</table>\n",
       "<p>712 rows × 10 columns</p>\n",
       "</div>"
      ],
      "text/plain": [
       "       0    1    2  3                                                  4  \\\n",
       "0    1.0  0.0  0.0  3                            Braund, Mr. Owen Harris   \n",
       "1    0.0  0.0  1.0  1  Cumings, Mrs. John Bradley (Florence Briggs Th...   \n",
       "2    0.0  1.0  0.0  3                             Heikkinen, Miss. Laina   \n",
       "3    0.0  0.0  1.0  1       Futrelle, Mrs. Jacques Heath (Lily May Peel)   \n",
       "4    0.0  0.0  1.0  3                           Allen, Mr. William Henry   \n",
       "..   ...  ...  ... ..                                                ...   \n",
       "707  0.0  0.0  1.0  3               Rice, Mrs. William (Margaret Norton)   \n",
       "708  0.0  1.0  0.0  2                              Montvila, Rev. Juozas   \n",
       "709  1.0  0.0  0.0  1                       Graham, Miss. Margaret Edith   \n",
       "710  0.0  1.0  0.0  1                              Behr, Mr. Karl Howell   \n",
       "711  0.0  1.0  0.0  3                                Dooley, Mr. Patrick   \n",
       "\n",
       "          5  6  7        8  9  \n",
       "0      male  1  0     7.25  S  \n",
       "1    female  1  0  71.2833  C  \n",
       "2    female  0  0    7.925  S  \n",
       "3    female  1  0     53.1  S  \n",
       "4      male  0  0     8.05  S  \n",
       "..      ... .. ..      ... ..  \n",
       "707  female  0  5   29.125  Q  \n",
       "708    male  0  0     13.0  S  \n",
       "709  female  0  0     30.0  S  \n",
       "710    male  0  0     30.0  C  \n",
       "711    male  0  0     7.75  Q  \n",
       "\n",
       "[712 rows x 10 columns]"
      ]
     },
     "execution_count": 70,
     "metadata": {},
     "output_type": "execute_result"
    }
   ],
   "source": [
    "X_binned"
   ]
  },
  {
   "cell_type": "code",
   "execution_count": 75,
   "id": "c2e349a7",
   "metadata": {},
   "outputs": [],
   "source": [
    "column_names = [['Young','Middle-ages', 'Old', 'Pclass', 'Name', 'Sex', 'SibSp', 'Parch','Fare','Embarked']]"
   ]
  },
  {
   "cell_type": "code",
   "execution_count": 76,
   "id": "5db71b11",
   "metadata": {
    "scrolled": true
   },
   "outputs": [],
   "source": [
    "X_binned.columns = column_names"
   ]
  },
  {
   "cell_type": "code",
   "execution_count": 77,
   "id": "e51c4b0c",
   "metadata": {
    "scrolled": true
   },
   "outputs": [
    {
     "data": {
      "text/html": [
       "<div>\n",
       "<style scoped>\n",
       "    .dataframe tbody tr th:only-of-type {\n",
       "        vertical-align: middle;\n",
       "    }\n",
       "\n",
       "    .dataframe tbody tr th {\n",
       "        vertical-align: top;\n",
       "    }\n",
       "\n",
       "    .dataframe thead tr th {\n",
       "        text-align: left;\n",
       "    }\n",
       "</style>\n",
       "<table border=\"1\" class=\"dataframe\">\n",
       "  <thead>\n",
       "    <tr>\n",
       "      <th></th>\n",
       "      <th>Young</th>\n",
       "      <th>Middle-ages</th>\n",
       "      <th>Old</th>\n",
       "      <th>Pclass</th>\n",
       "      <th>Name</th>\n",
       "      <th>Sex</th>\n",
       "      <th>SibSp</th>\n",
       "      <th>Parch</th>\n",
       "      <th>Fare</th>\n",
       "      <th>Embarked</th>\n",
       "    </tr>\n",
       "  </thead>\n",
       "  <tbody>\n",
       "    <tr>\n",
       "      <th>0</th>\n",
       "      <td>1.0</td>\n",
       "      <td>0.0</td>\n",
       "      <td>0.0</td>\n",
       "      <td>3</td>\n",
       "      <td>Braund, Mr. Owen Harris</td>\n",
       "      <td>male</td>\n",
       "      <td>1</td>\n",
       "      <td>0</td>\n",
       "      <td>7.25</td>\n",
       "      <td>S</td>\n",
       "    </tr>\n",
       "    <tr>\n",
       "      <th>1</th>\n",
       "      <td>0.0</td>\n",
       "      <td>0.0</td>\n",
       "      <td>1.0</td>\n",
       "      <td>1</td>\n",
       "      <td>Cumings, Mrs. John Bradley (Florence Briggs Th...</td>\n",
       "      <td>female</td>\n",
       "      <td>1</td>\n",
       "      <td>0</td>\n",
       "      <td>71.2833</td>\n",
       "      <td>C</td>\n",
       "    </tr>\n",
       "    <tr>\n",
       "      <th>2</th>\n",
       "      <td>0.0</td>\n",
       "      <td>1.0</td>\n",
       "      <td>0.0</td>\n",
       "      <td>3</td>\n",
       "      <td>Heikkinen, Miss. Laina</td>\n",
       "      <td>female</td>\n",
       "      <td>0</td>\n",
       "      <td>0</td>\n",
       "      <td>7.925</td>\n",
       "      <td>S</td>\n",
       "    </tr>\n",
       "    <tr>\n",
       "      <th>3</th>\n",
       "      <td>0.0</td>\n",
       "      <td>0.0</td>\n",
       "      <td>1.0</td>\n",
       "      <td>1</td>\n",
       "      <td>Futrelle, Mrs. Jacques Heath (Lily May Peel)</td>\n",
       "      <td>female</td>\n",
       "      <td>1</td>\n",
       "      <td>0</td>\n",
       "      <td>53.1</td>\n",
       "      <td>S</td>\n",
       "    </tr>\n",
       "    <tr>\n",
       "      <th>4</th>\n",
       "      <td>0.0</td>\n",
       "      <td>0.0</td>\n",
       "      <td>1.0</td>\n",
       "      <td>3</td>\n",
       "      <td>Allen, Mr. William Henry</td>\n",
       "      <td>male</td>\n",
       "      <td>0</td>\n",
       "      <td>0</td>\n",
       "      <td>8.05</td>\n",
       "      <td>S</td>\n",
       "    </tr>\n",
       "    <tr>\n",
       "      <th>...</th>\n",
       "      <td>...</td>\n",
       "      <td>...</td>\n",
       "      <td>...</td>\n",
       "      <td>...</td>\n",
       "      <td>...</td>\n",
       "      <td>...</td>\n",
       "      <td>...</td>\n",
       "      <td>...</td>\n",
       "      <td>...</td>\n",
       "      <td>...</td>\n",
       "    </tr>\n",
       "    <tr>\n",
       "      <th>707</th>\n",
       "      <td>0.0</td>\n",
       "      <td>0.0</td>\n",
       "      <td>1.0</td>\n",
       "      <td>3</td>\n",
       "      <td>Rice, Mrs. William (Margaret Norton)</td>\n",
       "      <td>female</td>\n",
       "      <td>0</td>\n",
       "      <td>5</td>\n",
       "      <td>29.125</td>\n",
       "      <td>Q</td>\n",
       "    </tr>\n",
       "    <tr>\n",
       "      <th>708</th>\n",
       "      <td>0.0</td>\n",
       "      <td>1.0</td>\n",
       "      <td>0.0</td>\n",
       "      <td>2</td>\n",
       "      <td>Montvila, Rev. Juozas</td>\n",
       "      <td>male</td>\n",
       "      <td>0</td>\n",
       "      <td>0</td>\n",
       "      <td>13.0</td>\n",
       "      <td>S</td>\n",
       "    </tr>\n",
       "    <tr>\n",
       "      <th>709</th>\n",
       "      <td>1.0</td>\n",
       "      <td>0.0</td>\n",
       "      <td>0.0</td>\n",
       "      <td>1</td>\n",
       "      <td>Graham, Miss. Margaret Edith</td>\n",
       "      <td>female</td>\n",
       "      <td>0</td>\n",
       "      <td>0</td>\n",
       "      <td>30.0</td>\n",
       "      <td>S</td>\n",
       "    </tr>\n",
       "    <tr>\n",
       "      <th>710</th>\n",
       "      <td>0.0</td>\n",
       "      <td>1.0</td>\n",
       "      <td>0.0</td>\n",
       "      <td>1</td>\n",
       "      <td>Behr, Mr. Karl Howell</td>\n",
       "      <td>male</td>\n",
       "      <td>0</td>\n",
       "      <td>0</td>\n",
       "      <td>30.0</td>\n",
       "      <td>C</td>\n",
       "    </tr>\n",
       "    <tr>\n",
       "      <th>711</th>\n",
       "      <td>0.0</td>\n",
       "      <td>1.0</td>\n",
       "      <td>0.0</td>\n",
       "      <td>3</td>\n",
       "      <td>Dooley, Mr. Patrick</td>\n",
       "      <td>male</td>\n",
       "      <td>0</td>\n",
       "      <td>0</td>\n",
       "      <td>7.75</td>\n",
       "      <td>Q</td>\n",
       "    </tr>\n",
       "  </tbody>\n",
       "</table>\n",
       "<p>712 rows × 10 columns</p>\n",
       "</div>"
      ],
      "text/plain": [
       "    Young Middle-ages  Old Pclass  \\\n",
       "0     1.0         0.0  0.0      3   \n",
       "1     0.0         0.0  1.0      1   \n",
       "2     0.0         1.0  0.0      3   \n",
       "3     0.0         0.0  1.0      1   \n",
       "4     0.0         0.0  1.0      3   \n",
       "..    ...         ...  ...    ...   \n",
       "707   0.0         0.0  1.0      3   \n",
       "708   0.0         1.0  0.0      2   \n",
       "709   1.0         0.0  0.0      1   \n",
       "710   0.0         1.0  0.0      1   \n",
       "711   0.0         1.0  0.0      3   \n",
       "\n",
       "                                                  Name     Sex SibSp Parch  \\\n",
       "0                              Braund, Mr. Owen Harris    male     1     0   \n",
       "1    Cumings, Mrs. John Bradley (Florence Briggs Th...  female     1     0   \n",
       "2                               Heikkinen, Miss. Laina  female     0     0   \n",
       "3         Futrelle, Mrs. Jacques Heath (Lily May Peel)  female     1     0   \n",
       "4                             Allen, Mr. William Henry    male     0     0   \n",
       "..                                                 ...     ...   ...   ...   \n",
       "707               Rice, Mrs. William (Margaret Norton)  female     0     5   \n",
       "708                              Montvila, Rev. Juozas    male     0     0   \n",
       "709                       Graham, Miss. Margaret Edith  female     0     0   \n",
       "710                              Behr, Mr. Karl Howell    male     0     0   \n",
       "711                                Dooley, Mr. Patrick    male     0     0   \n",
       "\n",
       "        Fare Embarked  \n",
       "0       7.25        S  \n",
       "1    71.2833        C  \n",
       "2      7.925        S  \n",
       "3       53.1        S  \n",
       "4       8.05        S  \n",
       "..       ...      ...  \n",
       "707   29.125        Q  \n",
       "708     13.0        S  \n",
       "709     30.0        S  \n",
       "710     30.0        C  \n",
       "711     7.75        Q  \n",
       "\n",
       "[712 rows x 10 columns]"
      ]
     },
     "execution_count": 77,
     "metadata": {},
     "output_type": "execute_result"
    }
   ],
   "source": [
    "X_binned"
   ]
  },
  {
   "cell_type": "code",
   "execution_count": 109,
   "id": "b7036541",
   "metadata": {},
   "outputs": [
    {
     "name": "stderr",
     "output_type": "stream",
     "text": [
      "/tmp/ipykernel_5552/4220478432.py:30: UserWarning: Transformer binner (type KBinsDiscretizer) does not provide get_feature_names. Will return input column names if available\n",
      "  warnings.warn(\"Transformer %s (type %s) does not \"\n"
     ]
    },
    {
     "data": {
      "text/plain": [
       "['binner__Age', 'Pclass', 'Name', 'Sex', 'SibSp', 'Parch', 'Fare', 'Embarked']"
      ]
     },
     "execution_count": 109,
     "metadata": {},
     "output_type": "execute_result"
    }
   ],
   "source": [
    "get_feature_names_manual(trans_bin)"
   ]
  },
  {
   "cell_type": "markdown",
   "id": "a13a2c0d",
   "metadata": {},
   "source": [
    "## scale the Fare column"
   ]
  },
  {
   "cell_type": "code",
   "execution_count": 81,
   "id": "b82f7a32",
   "metadata": {},
   "outputs": [],
   "source": [
    "import seaborn as sns\n",
    "import matplotlib.pyplot as plt"
   ]
  },
  {
   "cell_type": "code",
   "execution_count": 84,
   "id": "308c5c4b",
   "metadata": {},
   "outputs": [],
   "source": [
    "from sklearn.preprocessing import StandardScaler"
   ]
  },
  {
   "cell_type": "code",
   "execution_count": 85,
   "id": "9e080c3c",
   "metadata": {},
   "outputs": [],
   "source": [
    "trans_scale = ColumnTransformer([('my_scaler', StandardScaler(), ['Fare'])], remainder='passthrough')"
   ]
  },
  {
   "cell_type": "code",
   "execution_count": 88,
   "id": "8dee424f",
   "metadata": {
    "scrolled": true
   },
   "outputs": [
    {
     "data": {
      "text/plain": [
       "ColumnTransformer(remainder='passthrough',\n",
       "                  transformers=[('my_scaler', StandardScaler(), ['Fare'])])"
      ]
     },
     "execution_count": 88,
     "metadata": {},
     "output_type": "execute_result"
    }
   ],
   "source": [
    "trans_scale.fit(X)"
   ]
  },
  {
   "cell_type": "code",
   "execution_count": 89,
   "id": "a994cc75",
   "metadata": {},
   "outputs": [],
   "source": [
    "X_scaled = trans_scale.transform(X)"
   ]
  },
  {
   "cell_type": "code",
   "execution_count": 91,
   "id": "9d855a44",
   "metadata": {},
   "outputs": [],
   "source": [
    "X_scaled = pd.DataFrame(X_scaled)"
   ]
  },
  {
   "cell_type": "code",
   "execution_count": 92,
   "id": "f94c2eb9",
   "metadata": {},
   "outputs": [
    {
     "data": {
      "text/html": [
       "<div>\n",
       "<style scoped>\n",
       "    .dataframe tbody tr th:only-of-type {\n",
       "        vertical-align: middle;\n",
       "    }\n",
       "\n",
       "    .dataframe tbody tr th {\n",
       "        vertical-align: top;\n",
       "    }\n",
       "\n",
       "    .dataframe thead th {\n",
       "        text-align: right;\n",
       "    }\n",
       "</style>\n",
       "<table border=\"1\" class=\"dataframe\">\n",
       "  <thead>\n",
       "    <tr style=\"text-align: right;\">\n",
       "      <th></th>\n",
       "      <th>0</th>\n",
       "      <th>1</th>\n",
       "      <th>2</th>\n",
       "      <th>3</th>\n",
       "      <th>4</th>\n",
       "      <th>5</th>\n",
       "      <th>6</th>\n",
       "      <th>7</th>\n",
       "    </tr>\n",
       "  </thead>\n",
       "  <tbody>\n",
       "    <tr>\n",
       "      <th>0</th>\n",
       "      <td>-0.51638</td>\n",
       "      <td>3</td>\n",
       "      <td>Braund, Mr. Owen Harris</td>\n",
       "      <td>male</td>\n",
       "      <td>22.0</td>\n",
       "      <td>1</td>\n",
       "      <td>0</td>\n",
       "      <td>S</td>\n",
       "    </tr>\n",
       "    <tr>\n",
       "      <th>1</th>\n",
       "      <td>0.694046</td>\n",
       "      <td>1</td>\n",
       "      <td>Cumings, Mrs. John Bradley (Florence Briggs Th...</td>\n",
       "      <td>female</td>\n",
       "      <td>38.0</td>\n",
       "      <td>1</td>\n",
       "      <td>0</td>\n",
       "      <td>C</td>\n",
       "    </tr>\n",
       "    <tr>\n",
       "      <th>2</th>\n",
       "      <td>-0.50362</td>\n",
       "      <td>3</td>\n",
       "      <td>Heikkinen, Miss. Laina</td>\n",
       "      <td>female</td>\n",
       "      <td>26.0</td>\n",
       "      <td>0</td>\n",
       "      <td>0</td>\n",
       "      <td>S</td>\n",
       "    </tr>\n",
       "    <tr>\n",
       "      <th>3</th>\n",
       "      <td>0.350326</td>\n",
       "      <td>1</td>\n",
       "      <td>Futrelle, Mrs. Jacques Heath (Lily May Peel)</td>\n",
       "      <td>female</td>\n",
       "      <td>35.0</td>\n",
       "      <td>1</td>\n",
       "      <td>0</td>\n",
       "      <td>S</td>\n",
       "    </tr>\n",
       "    <tr>\n",
       "      <th>4</th>\n",
       "      <td>-0.501257</td>\n",
       "      <td>3</td>\n",
       "      <td>Allen, Mr. William Henry</td>\n",
       "      <td>male</td>\n",
       "      <td>35.0</td>\n",
       "      <td>0</td>\n",
       "      <td>0</td>\n",
       "      <td>S</td>\n",
       "    </tr>\n",
       "    <tr>\n",
       "      <th>...</th>\n",
       "      <td>...</td>\n",
       "      <td>...</td>\n",
       "      <td>...</td>\n",
       "      <td>...</td>\n",
       "      <td>...</td>\n",
       "      <td>...</td>\n",
       "      <td>...</td>\n",
       "      <td>...</td>\n",
       "    </tr>\n",
       "    <tr>\n",
       "      <th>707</th>\n",
       "      <td>-0.102875</td>\n",
       "      <td>3</td>\n",
       "      <td>Rice, Mrs. William (Margaret Norton)</td>\n",
       "      <td>female</td>\n",
       "      <td>39.0</td>\n",
       "      <td>0</td>\n",
       "      <td>5</td>\n",
       "      <td>Q</td>\n",
       "    </tr>\n",
       "    <tr>\n",
       "      <th>708</th>\n",
       "      <td>-0.407687</td>\n",
       "      <td>2</td>\n",
       "      <td>Montvila, Rev. Juozas</td>\n",
       "      <td>male</td>\n",
       "      <td>27.0</td>\n",
       "      <td>0</td>\n",
       "      <td>0</td>\n",
       "      <td>S</td>\n",
       "    </tr>\n",
       "    <tr>\n",
       "      <th>709</th>\n",
       "      <td>-0.086335</td>\n",
       "      <td>1</td>\n",
       "      <td>Graham, Miss. Margaret Edith</td>\n",
       "      <td>female</td>\n",
       "      <td>19.0</td>\n",
       "      <td>0</td>\n",
       "      <td>0</td>\n",
       "      <td>S</td>\n",
       "    </tr>\n",
       "    <tr>\n",
       "      <th>710</th>\n",
       "      <td>-0.086335</td>\n",
       "      <td>1</td>\n",
       "      <td>Behr, Mr. Karl Howell</td>\n",
       "      <td>male</td>\n",
       "      <td>26.0</td>\n",
       "      <td>0</td>\n",
       "      <td>0</td>\n",
       "      <td>C</td>\n",
       "    </tr>\n",
       "    <tr>\n",
       "      <th>711</th>\n",
       "      <td>-0.506928</td>\n",
       "      <td>3</td>\n",
       "      <td>Dooley, Mr. Patrick</td>\n",
       "      <td>male</td>\n",
       "      <td>32.0</td>\n",
       "      <td>0</td>\n",
       "      <td>0</td>\n",
       "      <td>Q</td>\n",
       "    </tr>\n",
       "  </tbody>\n",
       "</table>\n",
       "<p>712 rows × 8 columns</p>\n",
       "</div>"
      ],
      "text/plain": [
       "            0  1                                                  2       3  \\\n",
       "0    -0.51638  3                            Braund, Mr. Owen Harris    male   \n",
       "1    0.694046  1  Cumings, Mrs. John Bradley (Florence Briggs Th...  female   \n",
       "2    -0.50362  3                             Heikkinen, Miss. Laina  female   \n",
       "3    0.350326  1       Futrelle, Mrs. Jacques Heath (Lily May Peel)  female   \n",
       "4   -0.501257  3                           Allen, Mr. William Henry    male   \n",
       "..        ... ..                                                ...     ...   \n",
       "707 -0.102875  3               Rice, Mrs. William (Margaret Norton)  female   \n",
       "708 -0.407687  2                              Montvila, Rev. Juozas    male   \n",
       "709 -0.086335  1                       Graham, Miss. Margaret Edith  female   \n",
       "710 -0.086335  1                              Behr, Mr. Karl Howell    male   \n",
       "711 -0.506928  3                                Dooley, Mr. Patrick    male   \n",
       "\n",
       "        4  5  6  7  \n",
       "0    22.0  1  0  S  \n",
       "1    38.0  1  0  C  \n",
       "2    26.0  0  0  S  \n",
       "3    35.0  1  0  S  \n",
       "4    35.0  0  0  S  \n",
       "..    ... .. .. ..  \n",
       "707  39.0  0  5  Q  \n",
       "708  27.0  0  0  S  \n",
       "709  19.0  0  0  S  \n",
       "710  26.0  0  0  C  \n",
       "711  32.0  0  0  Q  \n",
       "\n",
       "[712 rows x 8 columns]"
      ]
     },
     "execution_count": 92,
     "metadata": {},
     "output_type": "execute_result"
    }
   ],
   "source": [
    "X_scaled"
   ]
  },
  {
   "cell_type": "code",
   "execution_count": 95,
   "id": "e5c24046",
   "metadata": {},
   "outputs": [],
   "source": [
    "import warnings\n",
    "import sklearn\n",
    "import pandas as pd"
   ]
  },
  {
   "cell_type": "code",
   "execution_count": 98,
   "id": "e553034d",
   "metadata": {},
   "outputs": [],
   "source": [
    "def get_feature_names_manual(column_transformer):\n",
    "    \"\"\"Get feature names from all transformers.\n",
    "    Returns\n",
    "    -------\n",
    "    feature_names : list of strings\n",
    "        Names of the features produced by transform.\n",
    "    \"\"\"\n",
    "    # Remove the internal helper function\n",
    "    #check_is_fitted(column_transformer)\n",
    "    \n",
    "    # Turn loopkup into function for better handling with pipeline later\n",
    "    def get_names(trans):\n",
    "        # >> Original get_feature_names() method\n",
    "        if trans == 'drop' or (\n",
    "                hasattr(column, '__len__') and not len(column)):\n",
    "            return []\n",
    "        if trans == 'passthrough':\n",
    "            if hasattr(column_transformer, '_df_columns'):\n",
    "                if ((not isinstance(column, slice))\n",
    "                        and all(isinstance(col, str) for col in column)):\n",
    "                    return column\n",
    "                else:\n",
    "                    return column_transformer._df_columns[column]\n",
    "            else:\n",
    "                indices = np.arange(column_transformer._n_features)\n",
    "                return ['x%d' % i for i in indices[column]]\n",
    "        if not hasattr(trans, 'get_feature_names'):\n",
    "        # >>> Change: Return input column names if no method avaiable\n",
    "            # Turn error into a warning\n",
    "            warnings.warn(\"Transformer %s (type %s) does not \"\n",
    "                                 \"provide get_feature_names. \"\n",
    "                                 \"Will return input column names if available\"\n",
    "                                 % (str(name), type(trans).__name__))\n",
    "            # For transformers without a get_features_names method, use the input\n",
    "            # names to the column transformer\n",
    "            if column is None:\n",
    "                return []\n",
    "            else:\n",
    "                return [name + \"__\" + f for f in column]\n",
    "\n",
    "        return [name + \"__\" + f for f in trans.get_feature_names()]\n",
    "    \n",
    "    ### Start of processing\n",
    "    feature_names = []\n",
    "    \n",
    "    # Allow transformers to be pipelines. Pipeline steps are named differently, so preprocessing is needed\n",
    "    if type(column_transformer) == sklearn.pipeline.Pipeline:\n",
    "        l_transformers = [(name, trans, None, None) for step, name, trans in column_transformer._iter()]\n",
    "    else:\n",
    "        # For column transformers, follow the original method\n",
    "        l_transformers = list(column_transformer._iter(fitted=True))\n",
    "    \n",
    "    \n",
    "    for name, trans, column, _ in l_transformers: \n",
    "        if type(trans) == sklearn.pipeline.Pipeline:\n",
    "            # Recursive call on pipeline\n",
    "            _names = get_feature_names(trans)\n",
    "            # if pipeline has no transformer that returns names\n",
    "            if len(_names)==0:\n",
    "                _names = [name + \"__\" + f for f in column]\n",
    "            feature_names.extend(_names)\n",
    "        else:\n",
    "            feature_names.extend(get_names(trans))\n",
    "    \n",
    "    return feature_names"
   ]
  },
  {
   "cell_type": "code",
   "execution_count": 99,
   "id": "e75c8999",
   "metadata": {
    "scrolled": true
   },
   "outputs": [
    {
     "name": "stderr",
     "output_type": "stream",
     "text": [
      "/tmp/ipykernel_5552/4220478432.py:30: UserWarning: Transformer my_scaler (type StandardScaler) does not provide get_feature_names. Will return input column names if available\n",
      "  warnings.warn(\"Transformer %s (type %s) does not \"\n"
     ]
    },
    {
     "data": {
      "text/plain": [
       "['my_scaler__Fare',\n",
       " 'Pclass',\n",
       " 'Name',\n",
       " 'Sex',\n",
       " 'Age',\n",
       " 'SibSp',\n",
       " 'Parch',\n",
       " 'Embarked']"
      ]
     },
     "execution_count": 99,
     "metadata": {},
     "output_type": "execute_result"
    }
   ],
   "source": [
    "get_feature_names_manual(trans_scale)"
   ]
  },
  {
   "cell_type": "code",
   "execution_count": 100,
   "id": "143136ea",
   "metadata": {},
   "outputs": [
    {
     "name": "stderr",
     "output_type": "stream",
     "text": [
      "/tmp/ipykernel_5552/4220478432.py:30: UserWarning: Transformer my_scaler (type StandardScaler) does not provide get_feature_names. Will return input column names if available\n",
      "  warnings.warn(\"Transformer %s (type %s) does not \"\n"
     ]
    }
   ],
   "source": [
    "X_scaled.columns = get_feature_names_manual(trans_scale)"
   ]
  },
  {
   "cell_type": "code",
   "execution_count": 101,
   "id": "1d3b05d4",
   "metadata": {},
   "outputs": [
    {
     "data": {
      "text/html": [
       "<div>\n",
       "<style scoped>\n",
       "    .dataframe tbody tr th:only-of-type {\n",
       "        vertical-align: middle;\n",
       "    }\n",
       "\n",
       "    .dataframe tbody tr th {\n",
       "        vertical-align: top;\n",
       "    }\n",
       "\n",
       "    .dataframe thead th {\n",
       "        text-align: right;\n",
       "    }\n",
       "</style>\n",
       "<table border=\"1\" class=\"dataframe\">\n",
       "  <thead>\n",
       "    <tr style=\"text-align: right;\">\n",
       "      <th></th>\n",
       "      <th>my_scaler__Fare</th>\n",
       "      <th>Pclass</th>\n",
       "      <th>Name</th>\n",
       "      <th>Sex</th>\n",
       "      <th>Age</th>\n",
       "      <th>SibSp</th>\n",
       "      <th>Parch</th>\n",
       "      <th>Embarked</th>\n",
       "    </tr>\n",
       "  </thead>\n",
       "  <tbody>\n",
       "    <tr>\n",
       "      <th>0</th>\n",
       "      <td>-0.51638</td>\n",
       "      <td>3</td>\n",
       "      <td>Braund, Mr. Owen Harris</td>\n",
       "      <td>male</td>\n",
       "      <td>22.0</td>\n",
       "      <td>1</td>\n",
       "      <td>0</td>\n",
       "      <td>S</td>\n",
       "    </tr>\n",
       "    <tr>\n",
       "      <th>1</th>\n",
       "      <td>0.694046</td>\n",
       "      <td>1</td>\n",
       "      <td>Cumings, Mrs. John Bradley (Florence Briggs Th...</td>\n",
       "      <td>female</td>\n",
       "      <td>38.0</td>\n",
       "      <td>1</td>\n",
       "      <td>0</td>\n",
       "      <td>C</td>\n",
       "    </tr>\n",
       "    <tr>\n",
       "      <th>2</th>\n",
       "      <td>-0.50362</td>\n",
       "      <td>3</td>\n",
       "      <td>Heikkinen, Miss. Laina</td>\n",
       "      <td>female</td>\n",
       "      <td>26.0</td>\n",
       "      <td>0</td>\n",
       "      <td>0</td>\n",
       "      <td>S</td>\n",
       "    </tr>\n",
       "    <tr>\n",
       "      <th>3</th>\n",
       "      <td>0.350326</td>\n",
       "      <td>1</td>\n",
       "      <td>Futrelle, Mrs. Jacques Heath (Lily May Peel)</td>\n",
       "      <td>female</td>\n",
       "      <td>35.0</td>\n",
       "      <td>1</td>\n",
       "      <td>0</td>\n",
       "      <td>S</td>\n",
       "    </tr>\n",
       "    <tr>\n",
       "      <th>4</th>\n",
       "      <td>-0.501257</td>\n",
       "      <td>3</td>\n",
       "      <td>Allen, Mr. William Henry</td>\n",
       "      <td>male</td>\n",
       "      <td>35.0</td>\n",
       "      <td>0</td>\n",
       "      <td>0</td>\n",
       "      <td>S</td>\n",
       "    </tr>\n",
       "    <tr>\n",
       "      <th>...</th>\n",
       "      <td>...</td>\n",
       "      <td>...</td>\n",
       "      <td>...</td>\n",
       "      <td>...</td>\n",
       "      <td>...</td>\n",
       "      <td>...</td>\n",
       "      <td>...</td>\n",
       "      <td>...</td>\n",
       "    </tr>\n",
       "    <tr>\n",
       "      <th>707</th>\n",
       "      <td>-0.102875</td>\n",
       "      <td>3</td>\n",
       "      <td>Rice, Mrs. William (Margaret Norton)</td>\n",
       "      <td>female</td>\n",
       "      <td>39.0</td>\n",
       "      <td>0</td>\n",
       "      <td>5</td>\n",
       "      <td>Q</td>\n",
       "    </tr>\n",
       "    <tr>\n",
       "      <th>708</th>\n",
       "      <td>-0.407687</td>\n",
       "      <td>2</td>\n",
       "      <td>Montvila, Rev. Juozas</td>\n",
       "      <td>male</td>\n",
       "      <td>27.0</td>\n",
       "      <td>0</td>\n",
       "      <td>0</td>\n",
       "      <td>S</td>\n",
       "    </tr>\n",
       "    <tr>\n",
       "      <th>709</th>\n",
       "      <td>-0.086335</td>\n",
       "      <td>1</td>\n",
       "      <td>Graham, Miss. Margaret Edith</td>\n",
       "      <td>female</td>\n",
       "      <td>19.0</td>\n",
       "      <td>0</td>\n",
       "      <td>0</td>\n",
       "      <td>S</td>\n",
       "    </tr>\n",
       "    <tr>\n",
       "      <th>710</th>\n",
       "      <td>-0.086335</td>\n",
       "      <td>1</td>\n",
       "      <td>Behr, Mr. Karl Howell</td>\n",
       "      <td>male</td>\n",
       "      <td>26.0</td>\n",
       "      <td>0</td>\n",
       "      <td>0</td>\n",
       "      <td>C</td>\n",
       "    </tr>\n",
       "    <tr>\n",
       "      <th>711</th>\n",
       "      <td>-0.506928</td>\n",
       "      <td>3</td>\n",
       "      <td>Dooley, Mr. Patrick</td>\n",
       "      <td>male</td>\n",
       "      <td>32.0</td>\n",
       "      <td>0</td>\n",
       "      <td>0</td>\n",
       "      <td>Q</td>\n",
       "    </tr>\n",
       "  </tbody>\n",
       "</table>\n",
       "<p>712 rows × 8 columns</p>\n",
       "</div>"
      ],
      "text/plain": [
       "    my_scaler__Fare Pclass                                               Name  \\\n",
       "0          -0.51638      3                            Braund, Mr. Owen Harris   \n",
       "1          0.694046      1  Cumings, Mrs. John Bradley (Florence Briggs Th...   \n",
       "2          -0.50362      3                             Heikkinen, Miss. Laina   \n",
       "3          0.350326      1       Futrelle, Mrs. Jacques Heath (Lily May Peel)   \n",
       "4         -0.501257      3                           Allen, Mr. William Henry   \n",
       "..              ...    ...                                                ...   \n",
       "707       -0.102875      3               Rice, Mrs. William (Margaret Norton)   \n",
       "708       -0.407687      2                              Montvila, Rev. Juozas   \n",
       "709       -0.086335      1                       Graham, Miss. Margaret Edith   \n",
       "710       -0.086335      1                              Behr, Mr. Karl Howell   \n",
       "711       -0.506928      3                                Dooley, Mr. Patrick   \n",
       "\n",
       "        Sex   Age SibSp Parch Embarked  \n",
       "0      male  22.0     1     0        S  \n",
       "1    female  38.0     1     0        C  \n",
       "2    female  26.0     0     0        S  \n",
       "3    female  35.0     1     0        S  \n",
       "4      male  35.0     0     0        S  \n",
       "..      ...   ...   ...   ...      ...  \n",
       "707  female  39.0     0     5        Q  \n",
       "708    male  27.0     0     0        S  \n",
       "709  female  19.0     0     0        S  \n",
       "710    male  26.0     0     0        C  \n",
       "711    male  32.0     0     0        Q  \n",
       "\n",
       "[712 rows x 8 columns]"
      ]
     },
     "execution_count": 101,
     "metadata": {},
     "output_type": "execute_result"
    }
   ],
   "source": [
    "X_scaled"
   ]
  },
  {
   "cell_type": "code",
   "execution_count": 104,
   "id": "78d00c4d",
   "metadata": {},
   "outputs": [
    {
     "data": {
      "text/plain": [
       "-6.221614983503335e-17"
      ]
     },
     "execution_count": 104,
     "metadata": {},
     "output_type": "execute_result"
    }
   ],
   "source": [
    "X_scaled['my_scaler__Fare'].mean()"
   ]
  },
  {
   "cell_type": "code",
   "execution_count": 107,
   "id": "da901ecf",
   "metadata": {},
   "outputs": [
    {
     "data": {
      "text/plain": [
       "1.0007029877845375"
      ]
     },
     "execution_count": 107,
     "metadata": {},
     "output_type": "execute_result"
    }
   ],
   "source": [
    "X_scaled['my_scaler__Fare'].std()"
   ]
  },
  {
   "cell_type": "code",
   "execution_count": null,
   "id": "29724ae0",
   "metadata": {},
   "outputs": [],
   "source": []
  }
 ],
 "metadata": {
  "kernelspec": {
   "display_name": "Python 3 (ipykernel)",
   "language": "python",
   "name": "python3"
  },
  "language_info": {
   "codemirror_mode": {
    "name": "ipython",
    "version": 3
   },
   "file_extension": ".py",
   "mimetype": "text/x-python",
   "name": "python",
   "nbconvert_exporter": "python",
   "pygments_lexer": "ipython3",
   "version": "3.9.7"
  }
 },
 "nbformat": 4,
 "nbformat_minor": 5
}
