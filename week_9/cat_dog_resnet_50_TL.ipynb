{
  "cells": [
    {
      "cell_type": "code",
      "execution_count": 1,
      "metadata": {
        "colab": {
          "base_uri": "https://localhost:8080/"
        },
        "id": "vp-HFOO3nwxp",
        "outputId": "35471a92-896e-4471-f5a0-d52cda1f15f0"
      },
      "outputs": [
        {
          "name": "stdout",
          "output_type": "stream",
          "text": [
            "Warning: Looks like you're using an outdated API Version, please consider updating (server 1.5.12 / client 1.5.4)\n",
            "Downloading train.zip to /content\n",
            " 99% 538M/543M [00:03<00:00, 184MB/s]\n",
            "100% 543M/543M [00:03<00:00, 174MB/s]\n",
            "Downloading test1.zip to /content\n",
            " 95% 258M/271M [00:01<00:00, 176MB/s]\n",
            "100% 271M/271M [00:01<00:00, 160MB/s]\n",
            "Downloading sampleSubmission.csv to /content\n",
            "  0% 0.00/86.8k [00:00<?, ?B/s]\n",
            "100% 86.8k/86.8k [00:00<00:00, 87.3MB/s]\n"
          ]
        }
      ],
      "source": [
        "import os\n",
        "os.environ['KAGGLE_USERNAME'] = \"---\" # username from the json file\n",
        "os.environ['KAGGLE_KEY'] = \"---\" # Provide your key from the json file\n",
        "!kaggle competitions download -c dogs-vs-cats # api copied from kaggle"
      ]
    },
    {
      "cell_type": "code",
      "execution_count": 2,
      "metadata": {
        "colab": {
          "base_uri": "https://localhost:8080/"
        },
        "id": "lLMInor0n4U5",
        "outputId": "c1fc7d06-c13e-410d-d6c9-0fb941d3cf5e"
      },
      "outputs": [
        {
          "name": "stdout",
          "output_type": "stream",
          "text": [
            "done\n"
          ]
        }
      ],
      "source": [
        "# Upload data and extract the contents\n",
        "from zipfile import ZipFile\n",
        "\n",
        "file_name = \"/content/train.zip\"    ##extract my training data\n",
        "\n",
        "with ZipFile(file_name, 'r') as zip:\n",
        "  zip.extractall()\n",
        "  print('done')"
      ]
    },
    {
      "cell_type": "code",
      "execution_count": 3,
      "metadata": {
        "id": "Suzm92Nqn64U"
      },
      "outputs": [],
      "source": [
        "import pandas as pd\n",
        "import numpy as np\n",
        "import os\n"
      ]
    },
    {
      "cell_type": "code",
      "execution_count": 4,
      "metadata": {
        "id": "QDgl7UcBn7v2"
      },
      "outputs": [],
      "source": [
        "categories=[]   ####use to create label\n",
        "\n",
        "\n",
        "filenames=os.listdir('/content/train') \n",
        "for img in filenames:\n",
        "    if img.startswith('dog'):\n",
        "        categories.append('dog')\n",
        "        \n",
        "    else:\n",
        "        categories.append('cat') \n",
        "        \n",
        "        \n",
        "df=pd.DataFrame({'data':filenames,\n",
        "                 'category':categories})\n",
        "     \n",
        "from sklearn.model_selection import train_test_split\n",
        "train_df, test_df = train_test_split(df, test_size = 1000, stratify=df['category'])"
      ]
    },
    {
      "cell_type": "code",
      "execution_count": 5,
      "metadata": {
        "id": "XvOZigA9oNg6"
      },
      "outputs": [],
      "source": [
        "####use generator to load the data batch to reduce RAM usage\n",
        "from tensorflow.keras.preprocessing.image import ImageDataGenerator\n",
        "from tensorflow.keras.applications import resnet50\n",
        "#from tensorflow.keras.applications.resnet50 import ResNet50, decode_predictions,preprocess_input\n",
        "from tensorflow.keras import backend as K \n",
        "from tensorflow.keras.models import Sequential   #to create sequence of layer action\n",
        "from tensorflow.keras.layers import  Dense, Flatten, Activation,  Dropout\n",
        "from tensorflow.keras.optimizers import Adam\n",
        "from tensorflow.keras.losses import binary_crossentropy\n",
        "from tensorflow.keras.metrics import categorical_accuracy"
      ]
    },
    {
      "cell_type": "code",
      "execution_count": 5,
      "metadata": {
        "id": "why9W272vFbB"
      },
      "outputs": [],
      "source": []
    },
    {
      "cell_type": "code",
      "execution_count": 6,
      "metadata": {
        "colab": {
          "base_uri": "https://localhost:8080/"
        },
        "id": "uUWb_2-6Otvx",
        "outputId": "6fcd6a2f-2b44-46e1-f466-ad0879e05563"
      },
      "outputs": [
        {
          "name": "stdout",
          "output_type": "stream",
          "text": [
            "Found 18000 validated image filenames belonging to 2 classes.\n",
            "Found 6000 validated image filenames belonging to 2 classes.\n",
            "Found 1000 validated image filenames.\n"
          ]
        }
      ],
      "source": [
        "#initialize image generator and include preprocessing arcitecture to use\n",
        "datagen = ImageDataGenerator(\n",
        "    # define the preprocessing function that should be applied to all images based on\n",
        "    #on pretrained archtecture\n",
        "    preprocessing_function=resnet50.preprocess_input,\n",
        "    validation_split=0.25,\n",
        "    shear_range=0.2\n",
        ")\n",
        "\n",
        "\n",
        "\n",
        "train=datagen.flow_from_dataframe(train_df,\n",
        "                                  directory='/content/train',\n",
        "                                  x_col='data',  ###column with name of image\n",
        "                                  y_col='category', ##column with label in string\n",
        "                                  subset='training',  ##important for the model\n",
        "                                  class_mode='categorical',\n",
        "                                  shuffle=True,\n",
        "                                  target_size=(224, 224), ##resize all image to the specified size\n",
        "                                  batch_size=32 ##run the image 30 at once\n",
        "                                 )\n",
        "\n",
        "\n",
        "val=datagen.flow_from_dataframe(train_df,\n",
        "                                directory='/content/train',\n",
        "                                x_col='data',  ###column with name of image\n",
        "                                y_col='category', ##column with label in string\n",
        "                                subset='validation',\n",
        "                                class_mode='categorical',\n",
        "                                shuffle=True,\n",
        "                                target_size=(224, 224), ##resize all image to the specified size\n",
        "                                batch_size=32 ##run the image 30 at once\n",
        "                                 )\n",
        "\n",
        "###load test data\n",
        "test_datagen=ImageDataGenerator(rescale=1./255.)\n",
        "test=test_datagen.flow_from_dataframe(test_df,\n",
        "                                  directory='/content/train',\n",
        "                                  x_col='data',  ###column with name of image\n",
        "                                  y_col=None, ##column with label in string\n",
        "                                  shuffle=False,\n",
        "                                  class_mode=None, ##we only need the x_colume for prediction\n",
        "                                  target_size=(224, 224), ##resize all image to the specified size\n",
        "                                  batch_size=32 ##run the image 30 at once\n",
        "                                 )"
      ]
    },
    {
      "cell_type": "code",
      "execution_count": 7,
      "metadata": {
        "colab": {
          "base_uri": "https://localhost:8080/"
        },
        "id": "ittDQzuDoea1",
        "outputId": "0036a537-4f14-4234-fb48-3e6fed6e5ab5"
      },
      "outputs": [
        {
          "name": "stdout",
          "output_type": "stream",
          "text": [
            "Downloading data from https://storage.googleapis.com/tensorflow/keras-applications/resnet/resnet50_weights_tf_dim_ordering_tf_kernels_notop.h5\n",
            "94773248/94765736 [==============================] - 1s 0us/step\n",
            "94781440/94765736 [==============================] - 1s 0us/step\n"
          ]
        }
      ],
      "source": [
        "#initialise CNN architecture base (ResNet50)\n",
        "K.clear_session()   #always start your NN session with it\n",
        "base_model = resnet50.ResNet50(\n",
        "    weights='imagenet', ##database of images \n",
        "    pooling='avg',      # applies global average pooling to the output of the last conv layer (like a flattening)\n",
        "    include_top=False,  # to remove the dense layer of the import layer \n",
        "    input_shape=(224, 224, 3)\n",
        ")"
      ]
    },
    {
      "cell_type": "code",
      "execution_count": 8,
      "metadata": {
        "id": "VAoUcf5XounH"
      },
      "outputs": [],
      "source": [
        "#freeze weight of base model, for the model not to learn new weight\n",
        "base_model.trainable = False  "
      ]
    },
    {
      "cell_type": "code",
      "execution_count": 9,
      "metadata": {
        "colab": {
          "base_uri": "https://localhost:8080/"
        },
        "id": "5Lox854JpKzx",
        "outputId": "b840a46f-e638-4b6e-e371-e2e6fed5ea55"
      },
      "outputs": [
        {
          "name": "stdout",
          "output_type": "stream",
          "text": [
            "Model: \"sequential\"\n",
            "_________________________________________________________________\n",
            " Layer (type)                Output Shape              Param #   \n",
            "=================================================================\n",
            " resnet50 (Functional)       (None, 2048)              23587712  \n",
            "                                                                 \n",
            " flatten (Flatten)           (None, 2048)              0         \n",
            "                                                                 \n",
            " dense (Dense)               (None, 512)               1049088   \n",
            "                                                                 \n",
            " dropout (Dropout)           (None, 512)               0         \n",
            "                                                                 \n",
            " dense_1 (Dense)             (None, 2)                 1026      \n",
            "                                                                 \n",
            "=================================================================\n",
            "Total params: 24,637,826\n",
            "Trainable params: 1,050,114\n",
            "Non-trainable params: 23,587,712\n",
            "_________________________________________________________________\n"
          ]
        }
      ],
      "source": [
        "#add  personalized dense layer on the base model\n",
        "model = Sequential()\n",
        "model.add(base_model)\n",
        "model.add(Flatten())\n",
        "model.add(Dense(512, activation='relu'))\n",
        "model.add(Dropout(0.5))\n",
        "model.add(Dense(2, activation='sigmoid'))\n",
        "model.summary()\n"
      ]
    },
    {
      "cell_type": "code",
      "execution_count": 9,
      "metadata": {
        "id": "CWAT5d9ztJPL"
      },
      "outputs": [],
      "source": []
    },
    {
      "cell_type": "code",
      "execution_count": 10,
      "metadata": {
        "id": "l_P4QW1rq5Bn"
      },
      "outputs": [],
      "source": [
        "##compile model\n",
        "model.compile(optimizer=Adam(learning_rate=0.001),\n",
        "              loss=binary_crossentropy,\n",
        "              metrics=[categorical_accuracy])\n",
        "\n"
      ]
    },
    {
      "cell_type": "code",
      "execution_count": 11,
      "metadata": {
        "colab": {
          "base_uri": "https://localhost:8080/"
        },
        "id": "L8-2B8TxPTF9",
        "outputId": "f38244c9-7130-4be2-b0fc-51d45f054215"
      },
      "outputs": [
        {
          "name": "stdout",
          "output_type": "stream",
          "text": [
            "Epoch 1/3\n",
            "563/563 - 393s - loss: 0.0684 - categorical_accuracy: 0.9777 - val_loss: 0.0334 - val_categorical_accuracy: 0.9870 - 393s/epoch - 698ms/step\n",
            "Epoch 2/3\n",
            "563/563 - 372s - loss: 0.0387 - categorical_accuracy: 0.9865 - val_loss: 0.0301 - val_categorical_accuracy: 0.9888 - 372s/epoch - 661ms/step\n",
            "Epoch 3/3\n",
            "563/563 - 357s - loss: 0.0341 - categorical_accuracy: 0.9877 - val_loss: 0.0277 - val_categorical_accuracy: 0.9895 - 357s/epoch - 635ms/step\n"
          ]
        }
      ],
      "source": [
        "##fit model\n",
        "# observe the validation loss and stop when it does not improve after 3 iterations\n",
        "from keras.callbacks import EarlyStopping\n",
        "\n",
        "callback = EarlyStopping(monitor='val_loss', patience=3)\n",
        "\n",
        "history = model.fit(\n",
        "    x=train,\n",
        "    epochs=3,  #3 iterations\n",
        "    verbose=2,\n",
        "    callbacks=callback,\n",
        "    #steps_per_epoch=train.n//train.batch_size,  ##based on length of train\n",
        "    validation_data=val,\n",
        "    #validation_steps=val.n//val.batch_size  ##num of steps for vaidatn iteration\n",
        ")  "
      ]
    },
    {
      "cell_type": "code",
      "execution_count": 12,
      "metadata": {
        "colab": {
          "base_uri": "https://localhost:8080/",
          "height": 573
        },
        "id": "kFrau37J7CY3",
        "outputId": "690b0659-2e2d-4a10-da4e-8c166fa259c4"
      },
      "outputs": [
        {
          "data": {
            "image/png": "[encoded data removed]",
            "text/plain": [
              "<Figure size 432x288 with 1 Axes>"
            ]
          },
          "metadata": {
            "needs_background": "light"
          },
          "output_type": "display_data"
        },
        {
          "data": {
            "image/png": "[encoded data removed]",
            "text/plain": [
              "<Figure size 432x288 with 1 Axes>"
            ]
          },
          "metadata": {
            "needs_background": "light"
          },
          "output_type": "display_data"
        }
      ],
      "source": [
        "#evaluate model using the learningcurve\n",
        "import matplotlib.pyplot as plt\n",
        "#Loss\n",
        "plt.plot(history.history['loss']) \n",
        "plt.plot(history.history['val_loss']) \n",
        "plt.title('Model loss') \n",
        "plt.ylabel('Loss') \n",
        "plt.xlabel('Epoch') \n",
        "plt.legend(['Train', 'Test'], loc='upper left') \n",
        "plt.show()\n",
        "\n",
        "#Accuracy\n",
        "plt.plot(history.history['categorical_accuracy'])\n",
        "plt.plot(history.history['val_categorical_accuracy'])\n",
        "plt.title('Model accuracy')\n",
        "plt.ylabel('Accuracy')\n",
        "plt.xlabel('Epoch')\n",
        "plt.legend(['Train', 'Test'], loc='upper left')\n",
        "plt.show()"
      ]
    },
    {
      "cell_type": "code",
      "execution_count": 13,
      "metadata": {
        "colab": {
          "base_uri": "https://localhost:8080/"
        },
        "id": "Q8ZUs-vNRifi",
        "outputId": "190d7a90-edaf-4a1b-b14e-a2bbd2bd96d5"
      },
      "outputs": [
        {
          "name": "stdout",
          "output_type": "stream",
          "text": [
            "563/563 [==============================] - 278s 494ms/step - loss: 0.0194 - categorical_accuracy: 0.9931\n",
            "Test loss: 0.019394734874367714\n",
            "Test accuracy: 0.9931111335754395\n"
          ]
        }
      ],
      "source": [
        "score_train=model.evaluate(train)\n",
        "print('Test loss:', score_train[0])\n",
        "print('Test accuracy:', score_train[1])"
      ]
    },
    {
      "cell_type": "code",
      "execution_count": 14,
      "metadata": {
        "colab": {
          "base_uri": "https://localhost:8080/"
        },
        "id": "97_MZXCePotv",
        "outputId": "d8a1b7e1-b5a3-4932-ae6b-81b67a416063"
      },
      "outputs": [
        {
          "name": "stdout",
          "output_type": "stream",
          "text": [
            "188/188 [==============================] - 90s 480ms/step - loss: 0.0277 - categorical_accuracy: 0.9890\n",
            "Test loss: 0.027688905596733093\n",
            "Test accuracy: 0.9890000224113464\n"
          ]
        }
      ],
      "source": [
        "##evaluate model performance\n",
        "score=model.evaluate(val)\n",
        "print('Test loss:', score[0])\n",
        "print('Test accuracy:', score[1])"
      ]
    },
    {
      "cell_type": "code",
      "execution_count": 17,
      "metadata": {
        "id": "8TEDPGNURK9G"
      },
      "outputs": [],
      "source": [
        "##predict on test data\n",
        "pred=model.predict(test)"
      ]
    },
    {
      "cell_type": "code",
      "execution_count": 18,
      "metadata": {
        "id": "U2ZmLNGBDH0K"
      },
      "outputs": [],
      "source": [
        "y_pred=np.argmax(pred, axis=1)"
      ]
    },
    {
      "cell_type": "code",
      "execution_count": 20,
      "metadata": {
        "id": "BAuIPkzx6We8"
      },
      "outputs": [],
      "source": []
    },
    {
      "cell_type": "code",
      "execution_count": 20,
      "metadata": {
        "id": "bdkIFyT3uH7e"
      },
      "outputs": [],
      "source": []
    }
  ],
  "metadata": {
    "accelerator": "GPU",
    "colab": {
      "collapsed_sections": [],
      "name": "cat_dog_resnet_50_TL.ipynb",
      "provenance": [],
      "toc_visible": true
    },
    "kernelspec": {
      "display_name": "Python 3",
      "name": "python3"
    },
    "language_info": {
      "name": "python"
    }
  },
  "nbformat": 4,
  "nbformat_minor": 0
}
