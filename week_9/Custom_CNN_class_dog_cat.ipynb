{
  "cells": [
    {
      "cell_type": "code",
      "execution_count": null,
      "metadata": {
        "id": "4KOzQ5Kkm4Or"
      },
      "outputs": [],
      "source": [
        "#data available at https://www.kaggle.com/c/dogs-vs-cats/data"
      ]
    },
    {
      "cell_type": "code",
      "execution_count": 1,
      "metadata": {
        "colab": {
          "base_uri": "https://localhost:8080/"
        },
        "id": "g_nLJwG2GEZ0",
        "outputId": "c7a7ac60-4cfa-4008-a334-a5d991470417"
      },
      "outputs": [
        {
          "name": "stdout",
          "output_type": "stream",
          "text": [
            "Warning: Looks like you're using an outdated API Version, please consider updating (server 1.5.12 / client 1.5.4)\n",
            "sampleSubmission.csv: Skipping, found more recently modified local copy (use --force to force download)\n",
            "train.zip: Skipping, found more recently modified local copy (use --force to force download)\n",
            "test1.zip: Skipping, found more recently modified local copy (use --force to force download)\n"
          ]
        }
      ],
      "source": [
        "import os\n",
        "os.environ['KAGGLE_USERNAME'] = \".....\" # username from the json file find in kaggle personal acct\n",
        "os.environ['KAGGLE_KEY'] = \".....\" # Provide your key from the json file, find in kaggle personal acct\n",
        "!kaggle competitions download -c dogs-vs-cats # api copied from kaggle"
      ]
    },
    {
      "cell_type": "code",
      "execution_count": 2,
      "metadata": {
        "colab": {
          "base_uri": "https://localhost:8080/"
        },
        "id": "3feoxitnHxgW",
        "outputId": "ff38d97a-5c7e-4f26-973a-57a26bbf1df9"
      },
      "outputs": [
        {
          "name": "stdout",
          "output_type": "stream",
          "text": [
            "done\n"
          ]
        }
      ],
      "source": [
        "# load data and extract the contents\n",
        "from zipfile import ZipFile\n",
        "\n",
        "file_name = \"/content/train.zip\"    ##extract my training data\n",
        "\n",
        "with ZipFile(file_name, 'r') as zip:\n",
        "  zip.extractall()\n",
        "  print('done')"
      ]
    },
    {
      "cell_type": "code",
      "execution_count": 3,
      "metadata": {
        "id": "8svSgoN7I9SW"
      },
      "outputs": [],
      "source": [
        "import pandas as pd\n",
        "import numpy as np\n",
        "import os\n"
      ]
    },
    {
      "cell_type": "code",
      "execution_count": 4,
      "metadata": {
        "colab": {
          "base_uri": "https://localhost:8080/",
          "height": 206
        },
        "id": "g6SZSdwnKBq1",
        "outputId": "26094719-8969-48b7-dd1a-c919e317f061"
      },
      "outputs": [
        {
          "data": {
            "text/html": [
              "\n",
              "  <div id=\"df-ae0da27c-85e1-4b71-99ca-4826f29b7344\">\n",
              "    <div class=\"colab-df-container\">\n",
              "      <div>\n",
              "<style scoped>\n",
              "    .dataframe tbody tr th:only-of-type {\n",
              "        vertical-align: middle;\n",
              "    }\n",
              "\n",
              "    .dataframe tbody tr th {\n",
              "        vertical-align: top;\n",
              "    }\n",
              "\n",
              "    .dataframe thead th {\n",
              "        text-align: right;\n",
              "    }\n",
              "</style>\n",
              "<table border=\"1\" class=\"dataframe\">\n",
              "  <thead>\n",
              "    <tr style=\"text-align: right;\">\n",
              "      <th></th>\n",
              "      <th>data</th>\n",
              "      <th>category</th>\n",
              "    </tr>\n",
              "  </thead>\n",
              "  <tbody>\n",
              "    <tr>\n",
              "      <th>0</th>\n",
              "      <td>dog.8866.jpg</td>\n",
              "      <td>dog</td>\n",
              "    </tr>\n",
              "    <tr>\n",
              "      <th>1</th>\n",
              "      <td>cat.2501.jpg</td>\n",
              "      <td>cat</td>\n",
              "    </tr>\n",
              "    <tr>\n",
              "      <th>2</th>\n",
              "      <td>dog.12445.jpg</td>\n",
              "      <td>dog</td>\n",
              "    </tr>\n",
              "    <tr>\n",
              "      <th>3</th>\n",
              "      <td>cat.2993.jpg</td>\n",
              "      <td>cat</td>\n",
              "    </tr>\n",
              "    <tr>\n",
              "      <th>4</th>\n",
              "      <td>dog.10156.jpg</td>\n",
              "      <td>dog</td>\n",
              "    </tr>\n",
              "  </tbody>\n",
              "</table>\n",
              "</div>\n",
              "      <button class=\"colab-df-convert\" onclick=\"convertToInteractive('df-ae0da27c-85e1-4b71-99ca-4826f29b7344')\"\n",
              "              title=\"Convert this dataframe to an interactive table.\"\n",
              "              style=\"display:none;\">\n",
              "        \n",
              "  <svg xmlns=\"http://www.w3.org/2000/svg\" height=\"24px\"viewBox=\"0 0 24 24\"\n",
              "       width=\"24px\">\n",
              "    <path d=\"M0 0h24v24H0V0z\" fill=\"none\"/>\n",
              "    <path d=\"M18.56 5.44l.94 2.06.94-2.06 2.06-.94-2.06-.94-.94-2.06-.94 2.06-2.06.94zm-11 1L8.5 8.5l.94-2.06 2.06-.94-2.06-.94L8.5 2.5l-.94 2.06-2.06.94zm10 10l.94 2.06.94-2.06 2.06-.94-2.06-.94-.94-2.06-.94 2.06-2.06.94z\"/><path d=\"M17.41 7.96l-1.37-1.37c-.4-.4-.92-.59-1.43-.59-.52 0-1.04.2-1.43.59L10.3 9.45l-7.72 7.72c-.78.78-.78 2.05 0 2.83L4 21.41c.39.39.9.59 1.41.59.51 0 1.02-.2 1.41-.59l7.78-7.78 2.81-2.81c.8-.78.8-2.07 0-2.86zM5.41 20L4 18.59l7.72-7.72 1.47 1.35L5.41 20z\"/>\n",
              "  </svg>\n",
              "      </button>\n",
              "      \n",
              "  <style>\n",
              "    .colab-df-container {\n",
              "      display:flex;\n",
              "      flex-wrap:wrap;\n",
              "      gap: 12px;\n",
              "    }\n",
              "\n",
              "    .colab-df-convert {\n",
              "      background-color: #E8F0FE;\n",
              "      border: none;\n",
              "      border-radius: 50%;\n",
              "      cursor: pointer;\n",
              "      display: none;\n",
              "      fill: #1967D2;\n",
              "      height: 32px;\n",
              "      padding: 0 0 0 0;\n",
              "      width: 32px;\n",
              "    }\n",
              "\n",
              "    .colab-df-convert:hover {\n",
              "      background-color: #E2EBFA;\n",
              "      box-shadow: 0px 1px 2px rgba(60, 64, 67, 0.3), 0px 1px 3px 1px rgba(60, 64, 67, 0.15);\n",
              "      fill: #174EA6;\n",
              "    }\n",
              "\n",
              "    [theme=dark] .colab-df-convert {\n",
              "      background-color: #3B4455;\n",
              "      fill: #D2E3FC;\n",
              "    }\n",
              "\n",
              "    [theme=dark] .colab-df-convert:hover {\n",
              "      background-color: #434B5C;\n",
              "      box-shadow: 0px 1px 3px 1px rgba(0, 0, 0, 0.15);\n",
              "      filter: drop-shadow(0px 1px 2px rgba(0, 0, 0, 0.3));\n",
              "      fill: #FFFFFF;\n",
              "    }\n",
              "  </style>\n",
              "\n",
              "      <script>\n",
              "        const buttonEl =\n",
              "          document.querySelector('#df-ae0da27c-85e1-4b71-99ca-4826f29b7344 button.colab-df-convert');\n",
              "        buttonEl.style.display =\n",
              "          google.colab.kernel.accessAllowed ? 'block' : 'none';\n",
              "\n",
              "        async function convertToInteractive(key) {\n",
              "          const element = document.querySelector('#df-ae0da27c-85e1-4b71-99ca-4826f29b7344');\n",
              "          const dataTable =\n",
              "            await google.colab.kernel.invokeFunction('convertToInteractive',\n",
              "                                                     [key], {});\n",
              "          if (!dataTable) return;\n",
              "\n",
              "          const docLinkHtml = 'Like what you see? Visit the ' +\n",
              "            '<a target=\"_blank\" href=https://colab.research.google.com/notebooks/data_table.ipynb>data table notebook</a>'\n",
              "            + ' to learn more about interactive tables.';\n",
              "          element.innerHTML = '';\n",
              "          dataTable['output_type'] = 'display_data';\n",
              "          await google.colab.output.renderOutput(dataTable, element);\n",
              "          const docLink = document.createElement('div');\n",
              "          docLink.innerHTML = docLinkHtml;\n",
              "          element.appendChild(docLink);\n",
              "        }\n",
              "      </script>\n",
              "    </div>\n",
              "  </div>\n",
              "  "
            ],
            "text/plain": [
              "            data category\n",
              "0   dog.8866.jpg      dog\n",
              "1   cat.2501.jpg      cat\n",
              "2  dog.12445.jpg      dog\n",
              "3   cat.2993.jpg      cat\n",
              "4  dog.10156.jpg      dog"
            ]
          },
          "execution_count": 4,
          "metadata": {},
          "output_type": "execute_result"
        }
      ],
      "source": [
        "####create dataframe template to use in datagenerator\n",
        "categories=[]   \n",
        "\n",
        "\n",
        "filenames=os.listdir('/content/train') \n",
        "for img in filenames:\n",
        "    if img.startswith('dog'):\n",
        "        categories.append('dog')\n",
        "        \n",
        "    else:\n",
        "        categories.append('cat') \n",
        "        \n",
        "        \n",
        "df=pd.DataFrame({'data':filenames,\n",
        "                 'category':categories})\n",
        "     \n",
        "df.head()"
      ]
    },
    {
      "cell_type": "code",
      "execution_count": 5,
      "metadata": {
        "id": "um_Z4VUMOELJ"
      },
      "outputs": [],
      "source": [
        "\n",
        "from sklearn.model_selection import train_test_split\n",
        "train_df, test_df = train_test_split(df,test_size = 1000, stratify=df['category'])"
      ]
    },
    {
      "cell_type": "code",
      "execution_count": 6,
      "metadata": {
        "id": "GnTrXyYrOb33"
      },
      "outputs": [],
      "source": [
        "from tensorflow.keras.preprocessing.image import ImageDataGenerator\n",
        "\n",
        "#We need to normalize image\n",
        "##we can specify validation split in the generator, instead of creating 2 new dataframe\n",
        "datagen = ImageDataGenerator(rescale=1./255., validation_split=0.25)"
      ]
    },
    {
      "cell_type": "code",
      "execution_count": 7,
      "metadata": {
        "colab": {
          "base_uri": "https://localhost:8080/"
        },
        "id": "uUWb_2-6Otvx",
        "outputId": "f80288dd-e2e5-4093-9ec9-e73c3103c0bb"
      },
      "outputs": [
        {
          "name": "stdout",
          "output_type": "stream",
          "text": [
            "Found 18000 validated image filenames belonging to 2 classes.\n",
            "Found 6000 validated image filenames belonging to 2 classes.\n",
            "Found 1000 validated image filenames.\n"
          ]
        }
      ],
      "source": [
        "train=datagen.flow_from_dataframe(train_df,\n",
        "                                  directory='/content/train',\n",
        "                                  x_col='data',  ###column with name of image\n",
        "                                  y_col='category', ##column with label in string\n",
        "                                  subset='training',  ##important for the model\n",
        "                                  class_mode='categorical',\n",
        "                                  shuffle=True,\n",
        "                                  target_size=(224, 224), ##resize all image to the specified size\n",
        "                                  batch_size=32 ##run the image 30 at once\n",
        "                                 )\n",
        "\n",
        "\n",
        "val=datagen.flow_from_dataframe(train_df,\n",
        "                                directory='/content/train',\n",
        "                                x_col='data',  ###column with name of image\n",
        "                                y_col='category', ##column with label in string\n",
        "                                subset='validation',\n",
        "                                class_mode='categorical',\n",
        "                                shuffle=True,\n",
        "                                target_size=(224, 224), ##resize all image to the specified size\n",
        "                                batch_size=32 ##run the image 30 at once\n",
        "                                 )\n",
        "\n",
        "###load test data\n",
        "test_datagen=ImageDataGenerator(rescale=1./255.)\n",
        "test=test_datagen.flow_from_dataframe(test_df,\n",
        "                                  directory='/content/train',\n",
        "                                  x_col='data',  ###column with name of image\n",
        "                                  y_col=None, ##column with label in string\n",
        "                                  shuffle=False,\n",
        "                                  class_mode=None, ##we only need the x_colume for prediction\n",
        "                                  target_size=(224, 224), ##resize all image to the specified size\n",
        "                                  batch_size=32 ##run the image 30 at once\n",
        "                                 )"
      ]
    },
    {
      "cell_type": "code",
      "execution_count": 8,
      "metadata": {
        "id": "-qPu7-nQPR82"
      },
      "outputs": [],
      "source": [
        "from tensorflow.keras.models import Sequential   #to create sequence of layer action\n",
        "from tensorflow.keras.layers import Conv2D, Dense, MaxPooling2D, Activation, Flatten, Dropout, BatchNormalization\n",
        "from tensorflow.keras import backend as K\n",
        "from tensorflow.keras.optimizers import Adam\n",
        "from tensorflow.keras.losses import binary_crossentropy\n",
        "from tensorflow.keras.metrics import categorical_accuracy"
      ]
    },
    {
      "cell_type": "code",
      "execution_count": 9,
      "metadata": {
        "id": "KIjqkHIoPSvb"
      },
      "outputs": [],
      "source": [
        "##initialize model and add layers of your NN\n",
        "K.clear_session()   #always start your NN session with it\n",
        "model= Sequential([\n",
        "    Conv2D(filters = 64, kernel_size = (3,3), strides = (1,1), padding = 'same', activation = 'relu' ,input_shape = (224,224,3)),\n",
        "    MaxPooling2D(pool_size = (2,2),strides=(2,2),padding = 'same'), \n",
        "    \n",
        "    Conv2D(filters = 128, kernel_size = (3,3), strides = (1,1), padding = 'same', activation = 'relu'),\n",
        "    Conv2D(filters = 128, kernel_size = (3,3), strides = (1,1), padding = 'same', activation = 'relu'),\n",
        "    MaxPooling2D(pool_size = (2,2),strides=(2,2),padding = 'same'), \n",
        "    \n",
        "        \n",
        "    Conv2D(filters = 256, kernel_size = (3,3), strides = (1,1), padding = 'same', activation = 'relu'),\n",
        "    Conv2D(filters = 256, kernel_size = (3,3), strides = (1,1), padding = 'same', activation = 'relu'),\n",
        "    MaxPooling2D(pool_size = (2,2),strides=(2,2),padding = 'same'), \n",
        "    \n",
        "    Conv2D(filters = 512, kernel_size = (3,3), strides = (1,1), padding = 'same', activation = 'relu'),\n",
        "    Conv2D(filters = 512, kernel_size = (3,3), strides = (1,1), padding = 'same', activation = 'relu'),\n",
        "    MaxPooling2D(pool_size = (2,2),strides=(2,2),padding = 'same'), \n",
        "    \n",
        "    ###steps involve in ordinary ANN\n",
        "    \n",
        "    \n",
        "    Flatten(),  ##convert shape of array to 2 dimension, the number of samples stay the same and\n",
        "               #the other other dimensions i.e pixel sizes (a*b) are mutiplied by the num of channels\n",
        "    \n",
        "    Dense(5000,activation='relu'),\n",
        "    Dropout(0.2),  ##helps to prevent overfitting in NN\n",
        "    Dense(5000,activation='relu'),\n",
        "    Dropout(0.4),\n",
        "    Dense(2, activation = 'sigmoid')   #bctwo classes\n",
        "    \n",
        "])"
      ]
    },
    {
      "cell_type": "code",
      "execution_count": 10,
      "metadata": {
        "colab": {
          "base_uri": "https://localhost:8080/"
        },
        "id": "oUgW2M1kPS6b",
        "outputId": "c160a17c-4f2f-433a-e10f-945ee4f34075"
      },
      "outputs": [
        {
          "name": "stdout",
          "output_type": "stream",
          "text": [
            "Model: \"sequential\"\n",
            "_________________________________________________________________\n",
            " Layer (type)                Output Shape              Param #   \n",
            "=================================================================\n",
            " conv2d (Conv2D)             (None, 224, 224, 64)      1792      \n",
            "                                                                 \n",
            " max_pooling2d (MaxPooling2D  (None, 112, 112, 64)     0         \n",
            " )                                                               \n",
            "                                                                 \n",
            " conv2d_1 (Conv2D)           (None, 112, 112, 128)     73856     \n",
            "                                                                 \n",
            " conv2d_2 (Conv2D)           (None, 112, 112, 128)     147584    \n",
            "                                                                 \n",
            " max_pooling2d_1 (MaxPooling  (None, 56, 56, 128)      0         \n",
            " 2D)                                                             \n",
            "                                                                 \n",
            " conv2d_3 (Conv2D)           (None, 56, 56, 256)       295168    \n",
            "                                                                 \n",
            " conv2d_4 (Conv2D)           (None, 56, 56, 256)       590080    \n",
            "                                                                 \n",
            " max_pooling2d_2 (MaxPooling  (None, 28, 28, 256)      0         \n",
            " 2D)                                                             \n",
            "                                                                 \n",
            " conv2d_5 (Conv2D)           (None, 28, 28, 512)       1180160   \n",
            "                                                                 \n",
            " conv2d_6 (Conv2D)           (None, 28, 28, 512)       2359808   \n",
            "                                                                 \n",
            " max_pooling2d_3 (MaxPooling  (None, 14, 14, 512)      0         \n",
            " 2D)                                                             \n",
            "                                                                 \n",
            " flatten (Flatten)           (None, 100352)            0         \n",
            "                                                                 \n",
            " dense (Dense)               (None, 5000)              501765000 \n",
            "                                                                 \n",
            " dropout (Dropout)           (None, 5000)              0         \n",
            "                                                                 \n",
            " dense_1 (Dense)             (None, 5000)              25005000  \n",
            "                                                                 \n",
            " dropout_1 (Dropout)         (None, 5000)              0         \n",
            "                                                                 \n",
            " dense_2 (Dense)             (None, 2)                 10002     \n",
            "                                                                 \n",
            "=================================================================\n",
            "Total params: 531,428,450\n",
            "Trainable params: 531,428,450\n",
            "Non-trainable params: 0\n",
            "_________________________________________________________________\n"
          ]
        }
      ],
      "source": [
        "#check model summary\n",
        "model.summary()"
      ]
    },
    {
      "cell_type": "code",
      "execution_count": 11,
      "metadata": {
        "id": "lYWQBejcPTAP"
      },
      "outputs": [],
      "source": [
        "model.compile(optimizer=Adam(learning_rate=0.001),\n",
        "              loss=binary_crossentropy,\n",
        "              metrics=[categorical_accuracy])"
      ]
    },
    {
      "cell_type": "code",
      "execution_count": 12,
      "metadata": {
        "colab": {
          "base_uri": "https://localhost:8080/"
        },
        "id": "L8-2B8TxPTF9",
        "outputId": "f251f150-6d64-48ca-8778-74f6f459780b"
      },
      "outputs": [
        {
          "name": "stdout",
          "output_type": "stream",
          "text": [
            "Epoch 1/30\n",
            "562/562 [==============================] - 413s 713ms/step - loss: 0.7521 - categorical_accuracy: 0.4974 - val_loss: 0.6931 - val_categorical_accuracy: 0.5060\n",
            "Epoch 2/30\n",
            "562/562 [==============================] - 394s 701ms/step - loss: 0.6932 - categorical_accuracy: 0.4995 - val_loss: 0.6931 - val_categorical_accuracy: 0.5064\n",
            "Epoch 3/30\n",
            "562/562 [==============================] - 394s 700ms/step - loss: 0.6933 - categorical_accuracy: 0.4965 - val_loss: 0.6932 - val_categorical_accuracy: 0.4938\n",
            "Epoch 4/30\n",
            "562/562 [==============================] - 394s 700ms/step - loss: 0.6932 - categorical_accuracy: 0.4986 - val_loss: 0.6934 - val_categorical_accuracy: 0.4935\n",
            "Epoch 5/30\n",
            "562/562 [==============================] - 394s 700ms/step - loss: 0.6932 - categorical_accuracy: 0.5043 - val_loss: 0.6934 - val_categorical_accuracy: 0.4940\n",
            "Epoch 6/30\n",
            "562/562 [==============================] - 393s 699ms/step - loss: 0.6932 - categorical_accuracy: 0.5001 - val_loss: 0.6932 - val_categorical_accuracy: 0.4936\n",
            "Epoch 7/30\n",
            "562/562 [==============================] - 393s 699ms/step - loss: 0.6932 - categorical_accuracy: 0.5021 - val_loss: 0.6932 - val_categorical_accuracy: 0.4935\n",
            "Epoch 8/30\n",
            "562/562 [==============================] - 393s 699ms/step - loss: 0.6932 - categorical_accuracy: 0.5011 - val_loss: 0.6931 - val_categorical_accuracy: 0.5062\n",
            "Epoch 9/30\n",
            "562/562 [==============================] - 393s 699ms/step - loss: 0.6932 - categorical_accuracy: 0.5003 - val_loss: 0.6932 - val_categorical_accuracy: 0.4938\n",
            "Epoch 10/30\n",
            "562/562 [==============================] - 393s 699ms/step - loss: 0.6932 - categorical_accuracy: 0.5045 - val_loss: 0.6933 - val_categorical_accuracy: 0.4940\n",
            "Epoch 11/30\n",
            "562/562 [==============================] - 393s 700ms/step - loss: 0.6932 - categorical_accuracy: 0.5011 - val_loss: 0.6932 - val_categorical_accuracy: 0.4940\n",
            "Epoch 12/30\n",
            "562/562 [==============================] - 393s 699ms/step - loss: 0.6932 - categorical_accuracy: 0.5018 - val_loss: 0.6931 - val_categorical_accuracy: 0.5065\n"
          ]
        }
      ],
      "source": [
        "##model.fit_generator is use bcos it is datagenrator type of data\n",
        "from keras.callbacks import EarlyStopping\n",
        "\n",
        "\n",
        "# observe the validation loss and stop when it does not improve after 10 iterations\n",
        "callback = EarlyStopping(monitor='val_loss', patience=10)\n",
        "\n",
        "history = model.fit(\n",
        "    x=train,\n",
        "    epochs=30,  #20 iterations\n",
        "    verbose=1,\n",
        "    callbacks=callback,\n",
        "    steps_per_epoch=train.n//train.batch_size,  ##based on length of train\n",
        "    validation_data=val,\n",
        "    validation_steps=val.n//val.batch_size  ##num of steps for vaidatn iteration\n",
        ")  "
      ]
    },
    {
      "cell_type": "code",
      "execution_count": 13,
      "metadata": {
        "colab": {
          "base_uri": "https://localhost:8080/",
          "height": 573
        },
        "id": "np0gjD7vPTNo",
        "outputId": "90c62b5e-d5a2-4e1e-f272-e6963e6872f9"
      },
      "outputs": [
        {
          "data": {
            "image/png": "[encoded data removed]",
            "text/plain": [
              "<Figure size 432x288 with 1 Axes>"
            ]
          },
          "metadata": {
            "needs_background": "light"
          },
          "output_type": "display_data"
        },
        {
          "data": {
            "image/png": "[encoded data removed]",
            "text/plain": [
              "<Figure size 432x288 with 1 Axes>"
            ]
          },
          "metadata": {
            "needs_background": "light"
          },
          "output_type": "display_data"
        }
      ],
      "source": [
        "import matplotlib.pyplot as plt\n",
        "#Loss\n",
        "plt.plot(history.history['loss']) \n",
        "plt.plot(history.history['val_loss']) \n",
        "plt.title('Model loss') \n",
        "plt.ylabel('Loss') \n",
        "plt.xlabel('Epoch') \n",
        "plt.legend(['Train', 'Test'], loc='upper left') \n",
        "plt.show()\n",
        "\n",
        "#Accuracy\n",
        "plt.plot(history.history['categorical_accuracy'])\n",
        "plt.plot(history.history['val_categorical_accuracy'])\n",
        "plt.title('Model accuracy')\n",
        "plt.ylabel('Accuracy')\n",
        "plt.xlabel('Epoch')\n",
        "plt.legend(['Train', 'Test'], loc='upper left')\n",
        "plt.show()"
      ]
    },
    {
      "cell_type": "code",
      "execution_count": null,
      "metadata": {
        "id": "7JCOmf1ymEPc"
      },
      "outputs": [],
      "source": [
        "##The custom model did not perform well \n",
        "##Next_step_ try_transfer_learning_\n",
        "##See week Project"
      ]
    },
    {
      "cell_type": "code",
      "execution_count": null,
      "metadata": {
        "id": "CA9sMnU3nZSs"
      },
      "outputs": [],
      "source": []
    }
  ],
  "metadata": {
    "accelerator": "GPU",
    "colab": {
      "name": "Custom_CNN_class_dog_cat.ipynb",
      "provenance": []
    },
    "kernelspec": {
      "display_name": "Python 3",
      "name": "python3"
    },
    "language_info": {
      "name": "python"
    }
  },
  "nbformat": 4,
  "nbformat_minor": 0
}
