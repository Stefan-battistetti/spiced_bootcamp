{
 "cells": [
  {
   "cell_type": "code",
   "execution_count": null,
   "id": "c9984d1d",
   "metadata": {},
   "outputs": [],
   "source": [
    "import re"
   ]
  },
  {
   "cell_type": "code",
   "execution_count": 1,
   "id": "72d83ce2",
   "metadata": {},
   "outputs": [],
   "source": [
    "##1\n",
    "## print even list\n",
    "def even_printer(mylist):\n",
    "    \n",
    "    \n",
    "    for i in mylist:\n",
    "        if i%2 == 0:\n",
    "            print(i)\n",
    "        else:\n",
    "            continue"
   ]
  },
  {
   "cell_type": "code",
   "execution_count": 2,
   "id": "d6bc9e73",
   "metadata": {},
   "outputs": [
    {
     "name": "stdout",
     "output_type": "stream",
     "text": [
      "2\n",
      "4\n",
      "6\n",
      "8\n"
     ]
    }
   ],
   "source": [
    "even_printer([1, 2, 3, 4, 5, 6, 7, 8, 9])"
   ]
  },
  {
   "cell_type": "code",
   "execution_count": 5,
   "id": "6b04cf40",
   "metadata": {},
   "outputs": [],
   "source": [
    "##2\n",
    "## multpy numbners\n",
    "def multiplyer (mylist):\n",
    "    result = 1\n",
    "    for i in mylist:\n",
    "        result *= i\n",
    "    print(result"
   ]
  },
  {
   "cell_type": "code",
   "execution_count": 6,
   "id": "fdce9b79",
   "metadata": {},
   "outputs": [
    {
     "name": "stdout",
     "output_type": "stream",
     "text": [
      "720\n"
     ]
    }
   ],
   "source": [
    "multiplyer([1,2,3,4,5,6])"
   ]
  },
  {
   "cell_type": "code",
   "execution_count": 9,
   "id": "ac8b46de",
   "metadata": {},
   "outputs": [],
   "source": [
    "##3\n",
    "## unqiue list generator\n",
    "def uni_gen(mylist):\n",
    "    print(list(dict.fromkeys(mylist)))"
   ]
  },
  {
   "cell_type": "code",
   "execution_count": 10,
   "id": "dbb1859e",
   "metadata": {},
   "outputs": [
    {
     "name": "stdout",
     "output_type": "stream",
     "text": [
      "[1, 4]\n"
     ]
    }
   ],
   "source": [
    "uni_gen([1,1,1,1,1,4,4,4,4,4,4])"
   ]
  },
  {
   "cell_type": "code",
   "execution_count": 23,
   "id": "5ccdfc5c",
   "metadata": {},
   "outputs": [],
   "source": [
    "##4\n",
    "def pali_check(mystr):\n",
    "    if mystr == mystr[::-1]:\n",
    "        return True\n",
    "    else:\n",
    "        return False"
   ]
  },
  {
   "cell_type": "code",
   "execution_count": 48,
   "id": "a498071a",
   "metadata": {},
   "outputs": [],
   "source": [
    "## Bonus\n",
    "def pali_check_new(mystr):\n",
    "    mystr = mystr.lower()\n",
    "    mystr = re.sub(r'[\\W]','' , mystr)\n",
    "    if mystr == mystr[::-1]:\n",
    "        return True\n",
    "    else:\n",
    "        return False"
   ]
  },
  {
   "cell_type": "code",
   "execution_count": null,
   "id": "c16ffa04",
   "metadata": {},
   "outputs": [],
   "source": []
  },
  {
   "cell_type": "code",
   "execution_count": null,
   "id": "8b619914",
   "metadata": {},
   "outputs": [],
   "source": []
  },
  {
   "cell_type": "code",
   "execution_count": null,
   "id": "d492740f",
   "metadata": {},
   "outputs": [],
   "source": []
  },
  {
   "cell_type": "code",
   "execution_count": null,
   "id": "d5dbb6be",
   "metadata": {},
   "outputs": [],
   "source": []
  },
  {
   "cell_type": "code",
   "execution_count": null,
   "id": "ed6f5ae0",
   "metadata": {},
   "outputs": [],
   "source": []
  },
  {
   "cell_type": "code",
   "execution_count": null,
   "id": "aa644289",
   "metadata": {},
   "outputs": [],
   "source": []
  },
  {
   "cell_type": "code",
   "execution_count": null,
   "id": "5699985b",
   "metadata": {},
   "outputs": [],
   "source": []
  }
 ],
 "metadata": {
  "kernelspec": {
   "display_name": "Python 3 (ipykernel)",
   "language": "python",
   "name": "python3"
  },
  "language_info": {
   "codemirror_mode": {
    "name": "ipython",
    "version": 3
   },
   "file_extension": ".py",
   "mimetype": "text/x-python",
   "name": "python",
   "nbconvert_exporter": "python",
   "pygments_lexer": "ipython3",
   "version": "3.9.7"
  }
 },
 "nbformat": 4,
 "nbformat_minor": 5
}
