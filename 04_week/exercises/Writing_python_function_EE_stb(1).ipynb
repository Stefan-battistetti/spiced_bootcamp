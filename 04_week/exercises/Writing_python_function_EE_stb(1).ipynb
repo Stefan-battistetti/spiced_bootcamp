{
  "cells": [
    {
      "cell_type": "markdown",
      "metadata": {
        "id": "ROzWEvcp4PiV"
      },
      "source": [
        "# 4.6. Writing Python Functions"
      ]
    },
    {
      "cell_type": "markdown",
      "metadata": {
        "id": "E3ZLzX-f4PiY"
      },
      "source": [
        "#### In programming, a function is a self-contained block of code that performs a specific task or related group of tasks."
      ]
    },
    {
      "cell_type": "code",
      "execution_count": null,
      "metadata": {
        "id": "Wq3yLtom4PiY"
      },
      "outputs": [],
      "source": [
        ""
      ]
    },
    {
      "cell_type": "markdown",
      "metadata": {
        "id": "tSV4TO7t4PiY"
      },
      "source": [
        "### Q. Why should we use functions? "
      ]
    },
    {
      "cell_type": "markdown",
      "metadata": {
        "id": "vDeiiT7y4PiZ"
      },
      "source": [
        "- Don't repeat yourself, avoid repetition\n",
        "- Use and reuse \n",
        "- Functions allow complex problems to be broken into smaller piecies\n",
        "- combine them\n",
        "- decrease a mental load for the coder and the reader"
      ]
    },
    {
      "cell_type": "code",
      "execution_count": 1,
      "metadata": {
        "id": "ZjEmLCkI4Pia"
      },
      "outputs": [],
      "source": [
        "a = ['T', 'U', 'N', 'A']"
      ]
    },
    {
      "cell_type": "code",
      "execution_count": 2,
      "metadata": {
        "colab": {
          "base_uri": "https://localhost:8080/"
        },
        "id": "QMfNZFdF4Pib",
        "outputId": "535d2625-274b-4e3c-91cb-212e4bb7d9d2"
      },
      "outputs": [
        {
          "output_type": "execute_result",
          "data": {
            "text/plain": [
              "4"
            ]
          },
          "metadata": {},
          "execution_count": 2
        }
      ],
      "source": [
        "len(a)"
      ]
    },
    {
      "cell_type": "code",
      "execution_count": 3,
      "metadata": {
        "colab": {
          "base_uri": "https://localhost:8080/"
        },
        "id": "WTa8Ppnp4Pic",
        "outputId": "40b3a179-363c-4959-e8c1-d6195c0df267"
      },
      "outputs": [
        {
          "output_type": "stream",
          "name": "stdout",
          "text": [
            "['T', 'U', 'N', 'A']\n"
          ]
        }
      ],
      "source": [
        "print(a)"
      ]
    },
    {
      "cell_type": "code",
      "execution_count": 4,
      "metadata": {
        "id": "WsKsNM1B4Pid"
      },
      "outputs": [],
      "source": [
        "## You call the function and you pass appropriate arguments.\n",
        "## It will work the same when you define your python function. - User defined functions"
      ]
    },
    {
      "cell_type": "markdown",
      "metadata": {
        "id": "RvSrnqCs4Pie"
      },
      "source": [
        "## 1. How to write functions"
      ]
    },
    {
      "cell_type": "markdown",
      "metadata": {
        "id": "IhTK0T-N4Pif"
      },
      "source": [
        "![Python-Function-Syntax.png](attachment:Python-Function-Syntax.png)"
      ]
    },
    {
      "cell_type": "markdown",
      "metadata": {
        "id": "e06tCglm4Pif"
      },
      "source": [
        "\n",
        "* A function should have a single purpose\n",
        "* You start with the def keyword\n",
        "* This is followed by the function_name in lower case with underscores\n",
        "* Followed by parentheses () and a colon :\n",
        "* After the : you need to indent the code of the function\n",
        "* The indented part, the function definition, should always start with a docstring describing what the function does\n",
        "* Parameters of a function are defined in the ()\n",
        "* One or more return statements (but not mandatory)"
      ]
    },
    {
      "cell_type": "markdown",
      "metadata": {
        "id": "rYsPv0do4Pig"
      },
      "source": [
        "### 1.1 Arguments"
      ]
    },
    {
      "cell_type": "code",
      "execution_count": 5,
      "metadata": {
        "id": "MiqHQVYM4Pih"
      },
      "outputs": [],
      "source": [
        "# data that you pass into the function"
      ]
    },
    {
      "cell_type": "code",
      "execution_count": 6,
      "metadata": {
        "id": "3-NISMF04Pih"
      },
      "outputs": [],
      "source": [
        " def fruits(quantity, fruit, price):\n",
        "    print(f'{quantity} {fruit} cost ${price:.1f}')\n"
      ]
    },
    {
      "cell_type": "code",
      "execution_count": 7,
      "metadata": {
        "colab": {
          "base_uri": "https://localhost:8080/"
        },
        "id": "KWeeH0lY4Pih",
        "outputId": "06628a8c-864b-408b-b6ef-dd92cc50bd9d"
      },
      "outputs": [
        {
          "output_type": "stream",
          "name": "stdout",
          "text": [
            "5 🍏 cost $5.0\n"
          ]
        }
      ],
      "source": [
        "fruits(5, '🍏', 5)    #arguments passed to a function in correct positional order."
      ]
    },
    {
      "cell_type": "markdown",
      "metadata": {
        "id": "AOKBfdaX4Pih"
      },
      "source": [
        "The parameters (quantity, fruit, and price) behave like variables that are defined locally to the function. When the function is called, the arguments that are passed (5, '🍏', and 5) are assiggned to the parameters. \n",
        "Be careful about order and number of arguments that you are passing."
      ]
    },
    {
      "cell_type": "code",
      "execution_count": 8,
      "metadata": {
        "id": "fQIT2add4Pii"
      },
      "outputs": [],
      "source": [
        " def fruits(quantity, fruit, price):\n",
        "    print(f'{quantity} {fruit} cost ${price:.3f}')\n"
      ]
    },
    {
      "cell_type": "code",
      "execution_count": 9,
      "metadata": {
        "colab": {
          "base_uri": "https://localhost:8080/"
        },
        "id": "A935XllK4Pij",
        "outputId": "28e79c26-bad0-4e27-ea45-b88d08ae66dc"
      },
      "outputs": [
        {
          "output_type": "stream",
          "name": "stdout",
          "text": [
            "1 🍏 cost $1.000\n"
          ]
        }
      ],
      "source": [
        "fruits(quantity=1, fruit='🍏', price=1) #keyword argument"
      ]
    },
    {
      "cell_type": "code",
      "execution_count": 11,
      "metadata": {
        "colab": {
          "base_uri": "https://localhost:8080/"
        },
        "id": "9b4rW5Df4Pij",
        "outputId": "624f4868-5ca6-4c93-e317-e1420a9706f1"
      },
      "outputs": [
        {
          "output_type": "stream",
          "name": "stdout",
          "text": [
            "1 2 cost $3.000\n"
          ]
        }
      ],
      "source": [
        "fruits(1,2,3)"
      ]
    },
    {
      "cell_type": "code",
      "execution_count": 19,
      "metadata": {
        "id": "aBUi4_Y24Pij"
      },
      "outputs": [],
      "source": [
        " def fruits(quantity=1, fruit='🍌', price=0.5):       #default argument\n",
        "    print(f'{quantity} {fruit} cost ${price:.1f}')"
      ]
    },
    {
      "cell_type": "code",
      "execution_count": 20,
      "metadata": {
        "colab": {
          "base_uri": "https://localhost:8080/"
        },
        "id": "uIIdCrw04Pik",
        "outputId": "9a7261da-8a5b-46da-8137-4655bf92a031"
      },
      "outputs": [
        {
          "output_type": "stream",
          "name": "stdout",
          "text": [
            "1 🍌 cost $0.5\n"
          ]
        }
      ],
      "source": [
        "fruits()"
      ]
    },
    {
      "cell_type": "code",
      "execution_count": 14,
      "metadata": {
        "colab": {
          "base_uri": "https://localhost:8080/"
        },
        "id": "5yDOJlik4Pil",
        "outputId": "a5a54ad2-2ff5-4a72-f774-73ff42bde746"
      },
      "outputs": [
        {
          "output_type": "stream",
          "name": "stdout",
          "text": [
            "1 🍓 cost $1.50\n"
          ]
        }
      ],
      "source": [
        "fruits(1, '🍓', 1.5)"
      ]
    },
    {
      "cell_type": "markdown",
      "metadata": {
        "id": "qGe8RXq04Pil"
      },
      "source": [
        "### 2. Docstring\n",
        "\n",
        "\n",
        "* Gives information about the functio*n"
      ]
    },
    {
      "cell_type": "code",
      "execution_count": 15,
      "metadata": {
        "id": "uwc-63bp4Pil"
      },
      "outputs": [],
      "source": [
        " def fruits(quantity, fruit, price):\n",
        "    \"\"\"my first doc string\n",
        "              \n",
        "     Expectation of the def: a price - should be passed as an integer\n",
        "     Modifies: the price is \n",
        "    returns price of the fruit:  \"\"\"\n",
        "        \n",
        "    print(f'{quantity} {fruit} cost ${price:.2f}')     "
      ]
    },
    {
      "cell_type": "code",
      "source": [
        "help(fruits)"
      ],
      "metadata": {
        "colab": {
          "base_uri": "https://localhost:8080/"
        },
        "id": "ME_d3O1u-X1T",
        "outputId": "6a04ee53-0856-4cef-e013-dbbd1e729044"
      },
      "execution_count": 16,
      "outputs": [
        {
          "output_type": "stream",
          "name": "stdout",
          "text": [
            "Help on function fruits in module __main__:\n",
            "\n",
            "fruits(quantity, fruit, price)\n",
            "    my first doc string\n",
            "              \n",
            "     price - should be integer\n",
            "    returns price of the fruit:\n",
            "\n"
          ]
        }
      ]
    },
    {
      "cell_type": "code",
      "execution_count": 22,
      "metadata": {
        "scrolled": true,
        "colab": {
          "base_uri": "https://localhost:8080/"
        },
        "id": "a8uGS8lr4Pim",
        "outputId": "c732bb38-ea38-4637-bd77-61c8e82beb53"
      },
      "outputs": [
        {
          "output_type": "stream",
          "name": "stdout",
          "text": [
            "2 🍊 cost $2.0\n"
          ]
        }
      ],
      "source": [
        "fruits(2, '🍊', 2)"
      ]
    },
    {
      "cell_type": "code",
      "execution_count": 23,
      "metadata": {
        "id": "GZO9jqNp4Pim"
      },
      "outputs": [],
      "source": [
        "fruits??"
      ]
    },
    {
      "cell_type": "markdown",
      "metadata": {
        "id": "uvTMzGTA4Pim"
      },
      "source": [
        "### 3. *args and **kwargs\n",
        "\n",
        "- If we don't know how many arg do we need\n",
        "\n",
        "* *args\n",
        "- list for additional unnamed parameters\n",
        "\n",
        "\n",
        "* **kwargs\n",
        "- dict for additional named parameters"
      ]
    },
    {
      "cell_type": "code",
      "execution_count": 24,
      "metadata": {
        "id": "Y2uLFtv54Pin"
      },
      "outputs": [],
      "source": [
        "def family(name, members, *children):\n",
        "    \"\"\" \"\"\"\n",
        "    print(f\"My family-name is {name}\")\n",
        "    print(f\"There are {members} of us.\")\n",
        "    if children: \n",
        "        print(f\"And these  are the children {children}.\")"
      ]
    },
    {
      "cell_type": "code",
      "execution_count": null,
      "metadata": {
        "id": "6hn1HL024Pin"
      },
      "outputs": [],
      "source": [
        "family(\"Euclidean\", 14, \"Ada\", \"Bob\", \"Tuna\") "
      ]
    },
    {
      "cell_type": "code",
      "execution_count": null,
      "metadata": {
        "id": "bWnJo6Q84Pin"
      },
      "outputs": [],
      "source": [
        ""
      ]
    },
    {
      "cell_type": "code",
      "execution_count": null,
      "metadata": {
        "id": "7zzeSaWR4Pin"
      },
      "outputs": [],
      "source": [
        ""
      ]
    },
    {
      "cell_type": "code",
      "execution_count": null,
      "metadata": {
        "id": "6kvF8lZT4Pio"
      },
      "outputs": [],
      "source": [
        "# Example how this could be used in the project: \n",
        "def scrape_some_artists(*artists):\n",
        "    \"\"\" \"\"\"\n",
        "\n",
        "    for a in artists:\n",
        "        # scrape lyrics for each artist\n",
        "        print(a)\n",
        "        \n",
        "    return artists"
      ]
    },
    {
      "cell_type": "code",
      "execution_count": null,
      "metadata": {
        "scrolled": true,
        "id": "kPIeIjL04Pio"
      },
      "outputs": [],
      "source": [
        "scrape_some_artists('queen', 'beatles', 'dolly parton')"
      ]
    },
    {
      "cell_type": "code",
      "execution_count": null,
      "metadata": {
        "id": "m0uNPmAl4Pip"
      },
      "outputs": [],
      "source": [
        ""
      ]
    },
    {
      "cell_type": "code",
      "execution_count": null,
      "metadata": {
        "id": "KWbNXWSA4Pip"
      },
      "outputs": [],
      "source": [
        "# **kwargs\n",
        "# work pretty similar, but we have to give them as keywords"
      ]
    },
    {
      "cell_type": "code",
      "execution_count": null,
      "metadata": {
        "id": "yg8A_ZXQ4Pip"
      },
      "outputs": [],
      "source": [
        "def family(name, members, *children, **parents):\n",
        "    \"\"\" \"\"\"\n",
        "    \n",
        "    print(f\"My family-name is {name}\")\n",
        "    print(f\"There are {members} of us.\")\n",
        "    if children: \n",
        "        print(f\"And there are the children {children}.\")\n",
        "    if parents: \n",
        "        print(parents['mum'])\n",
        "        print(parents['dad'])\n",
        "     "
      ]
    },
    {
      "cell_type": "code",
      "execution_count": null,
      "metadata": {
        "id": "Op-ulrJP4Pip"
      },
      "outputs": [],
      "source": [
        "family(\"Euclidean\", 14, \"ada\", \"bob\", 'Tuna', dad='Marco', mum='Tina')"
      ]
    },
    {
      "cell_type": "code",
      "execution_count": null,
      "metadata": {
        "id": "rS_Q72dY4Piq"
      },
      "outputs": [],
      "source": [
        "def familys(name, *children, members=5, **parents):      ##put all the param together\n",
        "    \"\"\" \"\"\"\n",
        "    \n",
        "    print(f\"My family-name is {name}\")\n",
        "    print(f\"There are {members} of us.\")\n",
        "    if children: \n",
        "        print(f\"And there are the children {children}.\")\n",
        "      \n",
        "    if parents: \n",
        "        for parent in parents:\n",
        "            print(f\"{parents[parent]} is the {parent}.\")\n"
      ]
    },
    {
      "cell_type": "code",
      "execution_count": null,
      "metadata": {
        "id": "FeDvJXFB4Piq"
      },
      "outputs": [],
      "source": [
        "familys(\"Convex\", \"ada\", {\"son\":\"Bob\"}, mum=\"Ana\")"
      ]
    },
    {
      "cell_type": "markdown",
      "metadata": {
        "id": "VkPpVnLn4Pir"
      },
      "source": [
        "### 4. Return"
      ]
    },
    {
      "cell_type": "code",
      "execution_count": null,
      "metadata": {
        "id": "PPP62a3Q4Pir"
      },
      "outputs": [],
      "source": [
        "def num_square(n) :\n",
        "    \"\"\"\n",
        "    gives back square of numbers\n",
        "    \n",
        "    \"\"\"\n",
        "    \n",
        "    square = n**2\n",
        "    return square"
      ]
    },
    {
      "cell_type": "code",
      "execution_count": null,
      "metadata": {
        "id": "1gNGlACU4Pir"
      },
      "outputs": [],
      "source": [
        "num_square(2)"
      ]
    },
    {
      "cell_type": "code",
      "execution_count": null,
      "metadata": {
        "id": "YKeHozd_4Pir"
      },
      "outputs": [],
      "source": [
        "# Two return statements\n",
        "def count_up(range_number):\n",
        "    \"\"\" \"\"\"\n",
        "    \n",
        "    result= 0\n",
        "    if range_number > 200:\n",
        "        return(\"Too big\")\n",
        "    else: \n",
        "        for n in range(range_number):\n",
        "            result += 0.775\n",
        "        return (result)"
      ]
    },
    {
      "cell_type": "code",
      "execution_count": null,
      "metadata": {
        "id": "T9idlmM64Pir"
      },
      "outputs": [],
      "source": [
        "count_up(100)"
      ]
    },
    {
      "cell_type": "code",
      "execution_count": null,
      "metadata": {
        "id": "gQDsBKpc4Pir"
      },
      "outputs": [],
      "source": [
        ""
      ]
    },
    {
      "cell_type": "markdown",
      "metadata": {
        "id": "axZ7JDeY4Pir"
      },
      "source": [
        "# !! Project Example"
      ]
    },
    {
      "cell_type": "code",
      "execution_count": null,
      "metadata": {
        "id": "0uapPv_14Pir"
      },
      "outputs": [],
      "source": [
        "# from yesterday notebook BeautifulSoup"
      ]
    },
    {
      "cell_type": "code",
      "execution_count": 29,
      "metadata": {
        "id": "6g_I-lkR4Pir"
      },
      "outputs": [],
      "source": [
        "spiced = 'https://www.spiced-academy.com/en/program/data-science'"
      ]
    },
    {
      "cell_type": "code",
      "execution_count": 28,
      "metadata": {
        "id": "AMaz8H4l4Pis"
      },
      "outputs": [],
      "source": [
        "import requests\n",
        "from bs4 import BeautifulSoup\n",
        "import pandas as pd\n",
        "\n",
        "\n",
        "def make_dataframe(url):\n",
        "    '''\n",
        "   BeautifulSoup \n",
        "    '''\n",
        "    response = requests.get(url)\n",
        "    spiced_html = response.text\n",
        "    spiced_soup = BeautifulSoup(spiced_html)\n",
        "    ds_curriculum = spiced_soup.find_all(class_ = 'curriculum-mini-section')\n",
        "    topic = []\n",
        "    description = []\n",
        "\n",
        "    for items in ds_curriculum:\n",
        "        topic.append(items.h3.text)\n",
        "        description.append(items.find(class_ = \"mob-hidden\").text)\n",
        "    \n",
        "    dataframe = pd.DataFrame({'topic':topic, 'description':description})\n",
        "\n",
        "    return dataframe"
      ]
    },
    {
      "cell_type": "code",
      "execution_count": 30,
      "metadata": {
        "colab": {
          "base_uri": "https://localhost:8080/",
          "height": 238
        },
        "id": "h4zKfxlS4Pis",
        "outputId": "42600049-4ef1-4334-ed7f-75579b74eb5b"
      },
      "outputs": [
        {
          "output_type": "execute_result",
          "data": {
            "text/html": [
              "\n",
              "  <div id=\"df-f4ea4a2b-172d-489e-aa6a-63fcdc8bce10\">\n",
              "    <div class=\"colab-df-container\">\n",
              "      <div>\n",
              "<style scoped>\n",
              "    .dataframe tbody tr th:only-of-type {\n",
              "        vertical-align: middle;\n",
              "    }\n",
              "\n",
              "    .dataframe tbody tr th {\n",
              "        vertical-align: top;\n",
              "    }\n",
              "\n",
              "    .dataframe thead th {\n",
              "        text-align: right;\n",
              "    }\n",
              "</style>\n",
              "<table border=\"1\" class=\"dataframe\">\n",
              "  <thead>\n",
              "    <tr style=\"text-align: right;\">\n",
              "      <th></th>\n",
              "      <th>topic</th>\n",
              "      <th>description</th>\n",
              "    </tr>\n",
              "  </thead>\n",
              "  <tbody>\n",
              "    <tr>\n",
              "      <th>0</th>\n",
              "      <td>Data Analysis in Python</td>\n",
              "      <td>Become fluent in using Python to collect, anal...</td>\n",
              "    </tr>\n",
              "    <tr>\n",
              "      <th>1</th>\n",
              "      <td>Machine Learning</td>\n",
              "      <td>Delve into the world of supervised and unsuper...</td>\n",
              "    </tr>\n",
              "    <tr>\n",
              "      <th>2</th>\n",
              "      <td>PostgreSQL</td>\n",
              "      <td>Organize data in SQL databases like PostgreSQL...</td>\n",
              "    </tr>\n",
              "    <tr>\n",
              "      <th>3</th>\n",
              "      <td>Data Infrastructure</td>\n",
              "      <td>Deploy code on remote servers using Docker and...</td>\n",
              "    </tr>\n",
              "    <tr>\n",
              "      <th>4</th>\n",
              "      <td>Software Engineering</td>\n",
              "      <td>Acquire state-of-the-art engineering tools to ...</td>\n",
              "    </tr>\n",
              "    <tr>\n",
              "      <th>5</th>\n",
              "      <td>Git &amp; Bash</td>\n",
              "      <td>Use Git and GitHub throughout the course to co...</td>\n",
              "    </tr>\n",
              "  </tbody>\n",
              "</table>\n",
              "</div>\n",
              "      <button class=\"colab-df-convert\" onclick=\"convertToInteractive('df-f4ea4a2b-172d-489e-aa6a-63fcdc8bce10')\"\n",
              "              title=\"Convert this dataframe to an interactive table.\"\n",
              "              style=\"display:none;\">\n",
              "        \n",
              "  <svg xmlns=\"http://www.w3.org/2000/svg\" height=\"24px\"viewBox=\"0 0 24 24\"\n",
              "       width=\"24px\">\n",
              "    <path d=\"M0 0h24v24H0V0z\" fill=\"none\"/>\n",
              "    <path d=\"M18.56 5.44l.94 2.06.94-2.06 2.06-.94-2.06-.94-.94-2.06-.94 2.06-2.06.94zm-11 1L8.5 8.5l.94-2.06 2.06-.94-2.06-.94L8.5 2.5l-.94 2.06-2.06.94zm10 10l.94 2.06.94-2.06 2.06-.94-2.06-.94-.94-2.06-.94 2.06-2.06.94z\"/><path d=\"M17.41 7.96l-1.37-1.37c-.4-.4-.92-.59-1.43-.59-.52 0-1.04.2-1.43.59L10.3 9.45l-7.72 7.72c-.78.78-.78 2.05 0 2.83L4 21.41c.39.39.9.59 1.41.59.51 0 1.02-.2 1.41-.59l7.78-7.78 2.81-2.81c.8-.78.8-2.07 0-2.86zM5.41 20L4 18.59l7.72-7.72 1.47 1.35L5.41 20z\"/>\n",
              "  </svg>\n",
              "      </button>\n",
              "      \n",
              "  <style>\n",
              "    .colab-df-container {\n",
              "      display:flex;\n",
              "      flex-wrap:wrap;\n",
              "      gap: 12px;\n",
              "    }\n",
              "\n",
              "    .colab-df-convert {\n",
              "      background-color: #E8F0FE;\n",
              "      border: none;\n",
              "      border-radius: 50%;\n",
              "      cursor: pointer;\n",
              "      display: none;\n",
              "      fill: #1967D2;\n",
              "      height: 32px;\n",
              "      padding: 0 0 0 0;\n",
              "      width: 32px;\n",
              "    }\n",
              "\n",
              "    .colab-df-convert:hover {\n",
              "      background-color: #E2EBFA;\n",
              "      box-shadow: 0px 1px 2px rgba(60, 64, 67, 0.3), 0px 1px 3px 1px rgba(60, 64, 67, 0.15);\n",
              "      fill: #174EA6;\n",
              "    }\n",
              "\n",
              "    [theme=dark] .colab-df-convert {\n",
              "      background-color: #3B4455;\n",
              "      fill: #D2E3FC;\n",
              "    }\n",
              "\n",
              "    [theme=dark] .colab-df-convert:hover {\n",
              "      background-color: #434B5C;\n",
              "      box-shadow: 0px 1px 3px 1px rgba(0, 0, 0, 0.15);\n",
              "      filter: drop-shadow(0px 1px 2px rgba(0, 0, 0, 0.3));\n",
              "      fill: #FFFFFF;\n",
              "    }\n",
              "  </style>\n",
              "\n",
              "      <script>\n",
              "        const buttonEl =\n",
              "          document.querySelector('#df-f4ea4a2b-172d-489e-aa6a-63fcdc8bce10 button.colab-df-convert');\n",
              "        buttonEl.style.display =\n",
              "          google.colab.kernel.accessAllowed ? 'block' : 'none';\n",
              "\n",
              "        async function convertToInteractive(key) {\n",
              "          const element = document.querySelector('#df-f4ea4a2b-172d-489e-aa6a-63fcdc8bce10');\n",
              "          const dataTable =\n",
              "            await google.colab.kernel.invokeFunction('convertToInteractive',\n",
              "                                                     [key], {});\n",
              "          if (!dataTable) return;\n",
              "\n",
              "          const docLinkHtml = 'Like what you see? Visit the ' +\n",
              "            '<a target=\"_blank\" href=https://colab.research.google.com/notebooks/data_table.ipynb>data table notebook</a>'\n",
              "            + ' to learn more about interactive tables.';\n",
              "          element.innerHTML = '';\n",
              "          dataTable['output_type'] = 'display_data';\n",
              "          await google.colab.output.renderOutput(dataTable, element);\n",
              "          const docLink = document.createElement('div');\n",
              "          docLink.innerHTML = docLinkHtml;\n",
              "          element.appendChild(docLink);\n",
              "        }\n",
              "      </script>\n",
              "    </div>\n",
              "  </div>\n",
              "  "
            ],
            "text/plain": [
              "                     topic                                        description\n",
              "0  Data Analysis in Python  Become fluent in using Python to collect, anal...\n",
              "1         Machine Learning  Delve into the world of supervised and unsuper...\n",
              "2               PostgreSQL  Organize data in SQL databases like PostgreSQL...\n",
              "3      Data Infrastructure  Deploy code on remote servers using Docker and...\n",
              "4     Software Engineering  Acquire state-of-the-art engineering tools to ...\n",
              "5               Git & Bash  Use Git and GitHub throughout the course to co..."
            ]
          },
          "metadata": {},
          "execution_count": 30
        }
      ],
      "source": [
        "make_dataframe(spiced)"
      ]
    },
    {
      "cell_type": "code",
      "execution_count": 25,
      "metadata": {
        "id": "GyaX9G7c4Pis"
      },
      "outputs": [],
      "source": [
        "def even_number_printer(mylist): \n",
        "    \"\"\" Python program to print the even numbers from a given list.\"\"\"\n",
        "    #print(mylist[1::2])\n",
        "\n",
        "    for i in mylist:\n",
        "        if i%2 == 0:\n",
        "            print(i)\n",
        "        else:\n",
        "            continue"
      ]
    },
    {
      "cell_type": "code",
      "source": [
        "mylist = [1,2,4,5,6,7,8,9,10,11,44,60]\n",
        "\n",
        "even_number_printer(mylist)\n"
      ],
      "metadata": {
        "colab": {
          "base_uri": "https://localhost:8080/"
        },
        "id": "xVAloswnJ6fr",
        "outputId": "771856b8-d89c-4bee-c2e7-7a30d5f4c04d"
      },
      "execution_count": 27,
      "outputs": [
        {
          "output_type": "stream",
          "name": "stdout",
          "text": [
            "2\n",
            "4\n",
            "6\n",
            "8\n",
            "10\n",
            "44\n",
            "60\n"
          ]
        }
      ]
    },
    {
      "cell_type": "code",
      "execution_count": 60,
      "metadata": {
        "id": "c1NvvrKt4Pis"
      },
      "outputs": [],
      "source": [
        "lst = [1, 2, 3, 4, 5, 6, 7, 8, 9]\n",
        "def my_function(lst):\n",
        "    for num in lst:\n",
        "        if num %2 == 0: \n",
        "          print(num)\n",
        "        else:\n",
        "            continue\n",
        "# 2 % 2 will result in a 0. Two divided by two results in a 1 with a remainder of 0\n",
        "# 3 % 2 will result in a 1. Three divided by two results in a 1 with a remainder of 1  "
      ]
    },
    {
      "cell_type": "code",
      "source": [
        "my_function(lst)"
      ],
      "metadata": {
        "colab": {
          "base_uri": "https://localhost:8080/"
        },
        "id": "s--5DchfKlKr",
        "outputId": "ac9b4ced-0f35-4d01-f03a-72e91a48f6ea"
      },
      "execution_count": 61,
      "outputs": [
        {
          "output_type": "stream",
          "name": "stdout",
          "text": [
            "2\n",
            "4\n",
            "6\n",
            "8\n"
          ]
        },
        {
          "output_type": "execute_result",
          "data": {
            "text/plain": [
              "9"
            ]
          },
          "metadata": {},
          "execution_count": 61
        }
      ]
    },
    {
      "cell_type": "code",
      "execution_count": 39,
      "metadata": {
        "colab": {
          "base_uri": "https://localhost:8080/"
        },
        "id": "cdl8EHug4Pit",
        "outputId": "b54e36bb-4a48-4ad0-9952-35df77787f35"
      },
      "outputs": [
        {
          "output_type": "stream",
          "name": "stdout",
          "text": [
            "Yes\n"
          ]
        }
      ],
      "source": [
        "#the function checks if the word, numbers are spelled back and forwards the same\n",
        "\n",
        "def is_palindrome(x):\n",
        "    return  x == x[::-1]\n",
        "x = \"110011\"\n",
        "ans = is_palindrome(x)\n",
        "if ans:\n",
        "    print('Yes')\n",
        "else :\n",
        "    print('No')"
      ]
    },
    {
      "cell_type": "markdown",
      "source": [
        "**Exercise 4.6.1**"
      ],
      "metadata": {
        "id": "xNVKpH5MPJvb"
      }
    },
    {
      "cell_type": "code",
      "source": [
        "def calc_price(fruit, n):\n",
        "    '''Returns the price of fruits.'''\n",
        "    if fruit == 'banana':\n",
        "        return 0.75 * n\n",
        "\n",
        "\n"
      ],
      "metadata": {
        "id": "CIIttwZsPJbp"
      },
      "execution_count": 62,
      "outputs": []
    },
    {
      "cell_type": "code",
      "source": [
        "print(calc_price('banana', 10))"
      ],
      "metadata": {
        "colab": {
          "base_uri": "https://localhost:8080/"
        },
        "id": "oygpMbGkPOAN",
        "outputId": "23f60940-d734-4f86-f404-1e102773effa"
      },
      "execution_count": 64,
      "outputs": [
        {
          "output_type": "stream",
          "name": "stdout",
          "text": [
            "7.5\n"
          ]
        }
      ]
    },
    {
      "cell_type": "code",
      "source": [
        "help(calc_price)"
      ],
      "metadata": {
        "colab": {
          "base_uri": "https://localhost:8080/"
        },
        "id": "vJBF_R0LPP0T",
        "outputId": "10272f55-1075-4027-fb73-14372a1d4ede"
      },
      "execution_count": 63,
      "outputs": [
        {
          "output_type": "stream",
          "name": "stdout",
          "text": [
            "Help on function calc_price in module __main__:\n",
            "\n",
            "calc_price(fruit, n)\n",
            "    Returns the price of fruits.\n",
            "\n"
          ]
        }
      ]
    },
    {
      "cell_type": "markdown",
      "source": [
        "**4.6.6. Short functions**"
      ],
      "metadata": {
        "id": "wfv-jtPHPwE-"
      }
    },
    {
      "cell_type": "code",
      "source": [
        "#A Python function does not have to be long to be useful. Many functions are one-liners. \n",
        "#For instance, we can define functions identifying odd and even values:\n",
        "\n",
        "def odd(**x):\n",
        "    return x % 2\n",
        "\n",
        "def square(x):\n",
        "    return x ** 2"
      ],
      "metadata": {
        "id": "93zszyzLPPtV"
      },
      "execution_count": 78,
      "outputs": []
    },
    {
      "cell_type": "code",
      "source": [
        "odd(x=2,9\n",
        "    )"
      ],
      "metadata": {
        "colab": {
          "base_uri": "https://localhost:8080/",
          "height": 134
        },
        "id": "wCm2HkdYP3eK",
        "outputId": "d8acabc8-754a-45da-cb56-b1c8961ef1b2"
      },
      "execution_count": 79,
      "outputs": [
        {
          "output_type": "error",
          "ename": "SyntaxError",
          "evalue": "ignored",
          "traceback": [
            "\u001b[0;36m  File \u001b[0;32m\"<ipython-input-79-8c68b9ada681>\"\u001b[0;36m, line \u001b[0;32m1\u001b[0m\n\u001b[0;31m    odd(x=2,9\u001b[0m\n\u001b[0m           ^\u001b[0m\n\u001b[0;31mSyntaxError\u001b[0m\u001b[0;31m:\u001b[0m positional argument follows keyword argument\n"
          ]
        }
      ]
    },
    {
      "cell_type": "code",
      "source": [
        "square(4)"
      ],
      "metadata": {
        "colab": {
          "base_uri": "https://localhost:8080/"
        },
        "id": "oRZgnvQfP3Xe",
        "outputId": "03fed9f4-e153-4aa6-cdea-c7e311146ca9"
      },
      "execution_count": 71,
      "outputs": [
        {
          "output_type": "execute_result",
          "data": {
            "text/plain": [
              "16"
            ]
          },
          "metadata": {},
          "execution_count": 71
        }
      ]
    },
    {
      "cell_type": "code",
      "source": [
        ""
      ],
      "metadata": {
        "id": "gM_4CjrmQEto"
      },
      "execution_count": null,
      "outputs": []
    }
  ],
  "metadata": {
    "kernelspec": {
      "display_name": "Python 3",
      "language": "python",
      "name": "python3"
    },
    "language_info": {
      "codemirror_mode": {
        "name": "ipython",
        "version": 3
      },
      "file_extension": ".py",
      "mimetype": "text/x-python",
      "name": "python",
      "nbconvert_exporter": "python",
      "pygments_lexer": "ipython3",
      "version": "3.8.5"
    },
    "colab": {
      "name": "Writing_python_function_EE_stb.ipynb",
      "provenance": [],
      "collapsed_sections": [
        "VkPpVnLn4Pir"
      ]
    }
  },
  "nbformat": 4,
  "nbformat_minor": 0
}