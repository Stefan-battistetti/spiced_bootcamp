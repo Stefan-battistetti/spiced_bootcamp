{
  "nbformat": 4,
  "nbformat_minor": 0,
  "metadata": {
    "colab": {
      "name": "webscarping_01_stb.ipynb",
      "provenance": [],
      "collapsed_sections": []
    },
    "kernelspec": {
      "name": "python3",
      "display_name": "Python 3"
    },
    "language_info": {
      "name": "python"
    }
  },
  "cells": [
    {
      "cell_type": "code",
      "execution_count": 1,
      "metadata": {
        "id": "mkAWqef-261A"
      },
      "outputs": [],
      "source": [
        "import requests"
      ]
    },
    {
      "cell_type": "code",
      "source": [
        "r = requests.get('http://spiced-academy.com/')"
      ],
      "metadata": {
        "id": "4zJVe7Ja282E"
      },
      "execution_count": 2,
      "outputs": []
    },
    {
      "cell_type": "code",
      "source": [
        "print(r.status_code)\n",
        "print(r.text[:184])\n"
      ],
      "metadata": {
        "colab": {
          "base_uri": "https://localhost:8080/"
        },
        "id": "YoApnC362_IZ",
        "outputId": "da39ff52-cf94-4e83-994e-d1c51d131ed7"
      },
      "execution_count": 3,
      "outputs": [
        {
          "output_type": "stream",
          "name": "stdout",
          "text": [
            "200\n",
            "<!DOCTYPE html>\n",
            "<html lang=\"en\" prefix=\"og: http://ogp.me/ns# fb: http://ogp.me/ns/fb#\" dir=\"ltr\">\n",
            "\n",
            "<head>\n",
            "    <title>Your new career starts here | Spiced Academy</title>\r\n",
            "    <meta na\n"
          ]
        }
      ]
    },
    {
      "cell_type": "code",
      "source": [
        "headers = {'User-Agent': 'Mozilla/5.0 (Macintosh; Intel Mac OS X 10_10_1) AppleWebKit/537.36 (KHTML, like Gecko) Chrome/39.0.2171.95 Safari/537.36'}\n",
        "page = requests.get(url, headers=headers)"
      ],
      "metadata": {
        "id": "mSGseFrBTRc4"
      },
      "execution_count": 5,
      "outputs": []
    },
    {
      "cell_type": "code",
      "source": [
        "url = \"http://eutils.ncbi.nlm.nih.gov/entrez/eutils/esearch.fcgi\"\n",
        "param_dict = {'db':'pubmed', 'term':'escherichia', 'rettype':'uilist'}\n"
      ],
      "metadata": {
        "id": "QcoYS8P23LW3"
      },
      "execution_count": 6,
      "outputs": []
    },
    {
      "cell_type": "code",
      "source": [
        "\n",
        "r = requests.get(url, params=param_dict)\n",
        "print(r.text)"
      ],
      "metadata": {
        "colab": {
          "base_uri": "https://localhost:8080/"
        },
        "id": "i7J8QA_B3LAC",
        "outputId": "680b3e99-f667-44db-f99b-dfa73d07c20b"
      },
      "execution_count": 7,
      "outputs": [
        {
          "output_type": "stream",
          "name": "stdout",
          "text": [
            "<?xml version=\"1.0\" encoding=\"UTF-8\" ?>\n",
            "<!DOCTYPE eSearchResult PUBLIC \"-//NLM//DTD esearch 20060628//EN\" \"https://eutils.ncbi.nlm.nih.gov/eutils/dtd/20060628/esearch.dtd\">\n",
            "<eSearchResult><Count>409514</Count><RetMax>20</RetMax><RetStart>0</RetStart><IdList>\n",
            "<Id>34982979</Id>\n",
            "<Id>34982827</Id>\n",
            "<Id>34982815</Id>\n",
            "<Id>34982792</Id>\n",
            "<Id>34982597</Id>\n",
            "<Id>34982571</Id>\n",
            "<Id>34982373</Id>\n",
            "<Id>34982257</Id>\n",
            "<Id>34982243</Id>\n",
            "<Id>34982178</Id>\n",
            "<Id>34982090</Id>\n",
            "<Id>34981936</Id>\n",
            "<Id>34981697</Id>\n",
            "<Id>34980706</Id>\n",
            "<Id>34980441</Id>\n",
            "<Id>34980417</Id>\n",
            "<Id>34980222</Id>\n",
            "<Id>34980188</Id>\n",
            "<Id>34980082</Id>\n",
            "<Id>34979948</Id>\n",
            "</IdList><TranslationSet><Translation>     <From>escherichia</From>     <To>\"escherichia\"[MeSH Terms] OR \"escherichia\"[All Fields]</To>    </Translation></TranslationSet><TranslationStack>   <TermSet>    <Term>\"escherichia\"[MeSH Terms]</Term>    <Field>MeSH Terms</Field>    <Count>292803</Count>    <Explode>Y</Explode>   </TermSet>   <TermSet>    <Term>\"escherichia\"[All Fields]</Term>    <Field>All Fields</Field>    <Count>409519</Count>    <Explode>N</Explode>   </TermSet>   <OP>OR</OP>   <OP>GROUP</OP>  </TranslationStack><QueryTranslation>\"escherichia\"[MeSH Terms] OR \"escherichia\"[All Fields]</QueryTranslation></eSearchResult>\n",
            "\n"
          ]
        }
      ]
    },
    {
      "cell_type": "markdown",
      "source": [
        "**Exercise I: Go to lyrics.com and search your fav artist and scrape the whole site**"
      ],
      "metadata": {
        "id": "nvZyMKNoUUfb"
      }
    },
    {
      "cell_type": "code",
      "source": [
        "from typing import Text\n",
        "url = \"https://www.lyrics.com/artist/Talking+Heads/5594\"\n",
        "form_values = {'query': 'trna'}\n",
        "\n",
        "response = requests.post(url, form_values)\n",
        "print(response)  # if you see \"200\", the website returned something\n",
        "\n",
        "html = response.text  # contents of the result page\n",
        "open('lyrics_com_talking_heads_2.html', 'w').write(html)\n",
        "# you can open the result in a browser now"
      ],
      "metadata": {
        "id": "QFLkTFGZTcb0",
        "colab": {
          "base_uri": "https://localhost:8080/"
        },
        "outputId": "b2f4b351-a524-4407-8199-2eacbe6f7e9f"
      },
      "execution_count": 12,
      "outputs": [
        {
          "output_type": "stream",
          "name": "stdout",
          "text": [
            "<Response [200]>\n"
          ]
        },
        {
          "output_type": "execute_result",
          "data": {
            "text/plain": [
              "73533"
            ]
          },
          "metadata": {},
          "execution_count": 12
        }
      ]
    },
    {
      "cell_type": "code",
      "source": [
        ""
      ],
      "metadata": {
        "id": "ksdesd4STXzV"
      },
      "execution_count": null,
      "outputs": []
    }
  ]
}