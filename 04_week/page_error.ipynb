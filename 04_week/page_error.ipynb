{
 "cells": [
  {
   "cell_type": "code",
   "execution_count": 3,
   "metadata": {},
   "outputs": [],
   "source": [
    "import requests\n",
    "from bs4 import BeautifulSoup"
   ]
  },
  {
   "cell_type": "code",
   "execution_count": 17,
   "metadata": {},
   "outputs": [],
   "source": [
    "url_1 = 'https://www.lyrics.com//lyric/36437994/J.+Cole/Jodeci+Freestyle'\n",
    "url_2 = 'https://www.lyrics.com//lyric/31597199/J.+Cole/Love+Yourz'"
   ]
  },
  {
   "cell_type": "code",
   "execution_count": 39,
   "metadata": {},
   "outputs": [
    {
     "data": {
      "text/plain": [
       "\"Yeah \\r\\n26, on my third GQ cover\\r\\nYour new shit sound like you do covers\\r\\nOf all of my old shit, oh shit\\r\\nI'm devoted to making sure that shit goes unnoticed\\r\\nSwear you niggas is hopeless\\r\\nI should run a clinic for niggas that think that they're winning\\r\\nOn some coach shit, 50 Ms for a three month road trip\\r\\nI see straight through them like fish tanks with no fish in them\\r\\nDrizzy still got some '06 in him\\r\\nIRS all in my books getting they Matlock on\\r\\nAll this capital it's like I left the caps lock on\\r\\nIt's like every time I plot a return I seem to shift the game\\r\\nSee I can still talk keys without pitchin' cane\\r\\nPay yourself and owe yourself\\r\\nBefore you come to my city, just know yourself\\r\\nKnow where you at\\r\\nI'm good in every town, I'ma be there doing shows where you at\\r\\nThe lights hit and women screaming like Jodeci's back, nigga\\r\\n\\r\\nBut that's, that's where all this, that's where the feeling is\\r\\nThat's where all that shit comes from, man I mean like\\r\\nThe music that you and I used to listen to, uh, was just\\r\\nAbsolutely phenomenal, because we went through it all\\r\\nWe went through everything\\r\\nI remember you loved Jodeci\\r\\nI mean like studied, you even made me a CD\\r\\n\\r\\nYour money is just a little Barney's Co-Op for you to be trynna show out\\r\\nI'm in your girl's ear planting seeds like a grow-op\\r\\nWe move the operation to Cali soon as the snow drop\\r\\nOh stop, please stop arguin' 'bout who's the best MC\\r\\nI think everyone would agree, they know that you're not\\r\\nI know I'm a sure shot, middle finger poking you in your sore spot\\r\\nBars sound like I'm under oath nigga\\r\\nI comedy central roast niggas and turn 'em to ghost niggas\\r\\nEither I'm gettin' bigger or you're just gettin' smaller or it's both nigga\\r\\nI'm just as unforgivin' as most niggas\\r\\nYou bit the hand, now starve, it's not a joke, nigga\\r\\nI'll hang you with it after I teach you the ropes, nigga\\r\\nOh well, bitches paint OVO on their toenails\\r\\nAnd show up at the show, the afterparty, and the hotel\\r\\nThat five star in your city, they know where we at\\r\\nI hit the lobby, women's screaming like Jodeci's back, nigga\\r\\n\\r\\nJodeci's back\\r\\nYou bitches screamin' like Jodeci's back\\r\\nI call the front desk for condoms, she's sayin' they ain't got none\\r\\nThe way that I'm respondin', she know that we black, nigga\\r\\n(F*ck you mean you ain't got no condoms)\\r\\nJodeci's back\\r\\nFuckin' hoes like Jodeci's back\\r\\nI paint pictures and flip words\\r\\nNigga woulda thought Def Poetry back (Cole)\\r\\n\\r\\nRoof top, hoes turnt up\\r\\nLookin' for your bitch, bet she won't turn up\\r\\nWonder where she is, f*ck could she be\\r\\nShe's a ho, she's a slut, she's a freak\\r\\nHeard a couple niggas hatin' but them f*ck niggas weak\\r\\nCount a hundred thousand dollars like it sucks to be me\\r\\nAin't that what you wanted? Stuntin' on you niggas\\r\\nCame in this game never frontin' on you niggas\\r\\nGave you heart and soul, stories of my pain\\r\\nFeel naked 'cause I laid out all my glory and my shame\\r\\nCaught fire just to have niggas ignore me and my flame\\r\\n'Bout to burn down the house, they trynna put me in the rain, no\\r\\nF*ck your list, you lame niggas and doubters\\r\\nI'm undoubtedly the hottest, and that's just me bein' modest\\r\\nGo check the numbers dummy, that's just me gettin' started\\r\\nI'm artistic, you niggas is autistic, retarded\\r\\nStarted, hold your applause\\r\\nWho gives a poker face when you jokers showed me your cards?\\r\\nDavid and Goliath, takin' on the giants\\r\\nNo need for pause when I tell you my balls bigger than yours\\r\\nNo false gods, young Mike playin' against the Monstars\\r\\nTappin' into '94 Nas\\r\\nOr that '96 Jay, or that Chronic shit, Dre\\r\\nWhich was really just Slim Shady, I'm silly, my pen crazy\\r\\nToday I'm out in Philly, my fans waitin' for 12 hours\\r\\nJust to get their dollar signed\\r\\nThoughts stream like I'm Spotifyin'\\r\\nTrenchcoat flow, bottom line\\r\\nTo these too-cool-for-school niggas, I'm Columbine\\r\\nFlow dumber than your projections\\r\\nThis makes twice now, I doubled what you expected, yet\\r\\nYour covers keep perplexin' me\\r\\nMaybe it's too complex for me\\r\\nBut is this 'bout skills or is this 'bout sales?\\r\\n'Cause either fuckin' way, man all them niggas is less to me\\r\\nYou legends know that we rap\\r\\nBitches screamin' like Jodeci's back\""
      ]
     },
     "execution_count": 39,
     "metadata": {},
     "output_type": "execute_result"
    }
   ],
   "source": [
    "response = requests.get(url_1)\n",
    "lyrics = response.text\n",
    "    \n",
    "lyrics_soup = BeautifulSoup(lyrics, 'html.parser')\n",
    "lyrics_text = lyrics_soup.body.find('pre', attrs={'class': 'lyric-body'}).text\n",
    "lyrics_text"
   ]
  },
  {
   "cell_type": "code",
   "execution_count": 40,
   "metadata": {},
   "outputs": [
    {
     "data": {
      "text/plain": [
       "200"
      ]
     },
     "execution_count": 40,
     "metadata": {},
     "output_type": "execute_result"
    }
   ],
   "source": [
    "response.status_code"
   ]
  },
  {
   "cell_type": "code",
   "execution_count": 41,
   "metadata": {},
   "outputs": [
    {
     "ename": "IndexError",
     "evalue": "list index out of range",
     "output_type": "error",
     "traceback": [
      "\u001b[0;31m---------------------------------------------------------------------------\u001b[0m",
      "\u001b[0;31mIndexError\u001b[0m                                Traceback (most recent call last)",
      "\u001b[0;32m/var/folders/fs/bmr1lyws1dx3sp07l0gytvmc0000gn/T/ipykernel_12619/2461084242.py\u001b[0m in \u001b[0;36m<module>\u001b[0;34m\u001b[0m\n\u001b[1;32m      1\u001b[0m \u001b[0mhistory\u001b[0m \u001b[0;34m=\u001b[0m \u001b[0mresponse\u001b[0m\u001b[0;34m.\u001b[0m\u001b[0mhistory\u001b[0m\u001b[0;34m\u001b[0m\u001b[0;34m\u001b[0m\u001b[0m\n\u001b[0;32m----> 2\u001b[0;31m \u001b[0mhistory\u001b[0m\u001b[0;34m[\u001b[0m\u001b[0;36m0\u001b[0m\u001b[0;34m]\u001b[0m\u001b[0;34m.\u001b[0m\u001b[0mstatus_code\u001b[0m\u001b[0;34m\u001b[0m\u001b[0;34m\u001b[0m\u001b[0m\n\u001b[0m",
      "\u001b[0;31mIndexError\u001b[0m: list index out of range"
     ]
    }
   ],
   "source": [
    "history = response.history\n",
    "history[0].status_code"
   ]
  },
  {
   "cell_type": "code",
   "execution_count": null,
   "metadata": {},
   "outputs": [],
   "source": []
  }
 ],
 "metadata": {
  "interpreter": {
   "hash": "40d3a090f54c6569ab1632332b64b2c03c39dcf918b08424e98f38b5ae0af88f"
  },
  "kernelspec": {
   "display_name": "Python 3.8.5 64-bit ('base': conda)",
   "name": "python3"
  },
  "language_info": {
   "codemirror_mode": {
    "name": "ipython",
    "version": 3
   },
   "file_extension": ".py",
   "mimetype": "text/x-python",
   "name": "python",
   "nbconvert_exporter": "python",
   "pygments_lexer": "ipython3",
   "version": "3.8.5"
  },
  "orig_nbformat": 4
 },
 "nbformat": 4,
 "nbformat_minor": 2
}
