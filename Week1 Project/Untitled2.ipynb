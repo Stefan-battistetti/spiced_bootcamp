{
 "cells": [
  {
   "cell_type": "code",
   "execution_count": 1,
   "id": "3439d636",
   "metadata": {},
   "outputs": [],
   "source": [
    "# Project Week 1\n",
    "\n",
    "import pandas as pd\n",
    "import numpy as np\n",
    "import matplotlib.pyplot as plt\n",
    "import seaborn as sns"
   ]
  },
  {
   "cell_type": "code",
   "execution_count": 2,
   "id": "fac683d5",
   "metadata": {},
   "outputs": [],
   "source": [
    "#Import files\n",
    "\n",
    "fert = pd.read_csv('gapminder_total_fertility.csv', index_col=0)\n",
    "life = pd.read_excel('gapminder_lifeexpectancy.xlsx', index_col=0)\n",
    "df_3 = pd.read_excel('gapminder_population.xlsx')"
   ]
  },
  {
   "cell_type": "code",
   "execution_count": 3,
   "id": "a88c459a",
   "metadata": {},
   "outputs": [
    {
     "name": "stdout",
     "output_type": "stream",
     "text": [
      "(260, 217)\n"
     ]
    }
   ],
   "source": [
    "print(life.shape)"
   ]
  },
  {
   "cell_type": "code",
   "execution_count": 4,
   "id": "515d58e7",
   "metadata": {},
   "outputs": [
    {
     "data": {
      "text/plain": [
       "Index([], dtype='object')"
      ]
     },
     "execution_count": 4,
     "metadata": {},
     "output_type": "execute_result"
    }
   ],
   "source": [
    "fert.columns"
   ]
  },
  {
   "cell_type": "code",
   "execution_count": 5,
   "id": "93094229",
   "metadata": {},
   "outputs": [
    {
     "data": {
      "text/plain": [
       "Int64Index([1800, 1801, 1802, 1803, 1804, 1805, 1806, 1807, 1808, 1809,\n",
       "            ...\n",
       "            2007, 2008, 2009, 2010, 2011, 2012, 2013, 2014, 2015, 2016],\n",
       "           dtype='int64', length=217)"
      ]
     },
     "execution_count": 5,
     "metadata": {},
     "output_type": "execute_result"
    }
   ],
   "source": [
    "life.columns"
   ]
  },
  {
   "cell_type": "code",
   "execution_count": 6,
   "id": "0d5310e2",
   "metadata": {},
   "outputs": [],
   "source": [
    "fert.columns = fert.columns.astype(int)"
   ]
  },
  {
   "cell_type": "code",
   "execution_count": 7,
   "id": "df82e484",
   "metadata": {},
   "outputs": [
    {
     "data": {
      "text/plain": [
       "Int64Index([], dtype='int64')"
      ]
     },
     "execution_count": 7,
     "metadata": {},
     "output_type": "execute_result"
    }
   ],
   "source": [
    "fert.columns "
   ]
  },
  {
   "cell_type": "code",
   "execution_count": 8,
   "id": "9636552e",
   "metadata": {},
   "outputs": [
    {
     "data": {
      "text/plain": [
       "Index(['Abkhazia;;;;;;;;;;;;;;;;;;;;;;;;;;;;;;;;;;;;;;;;;;;;;;;;;;;;;;;;;;;;;;;;;;;;;;;;;;;;;;;;;;;;;;;;;;;;;;;;;;;;;;;;;;;;;;;;;;;;;;;;;;;;;;;;;;;;;;;;;;;;;;;;;;;;;;;;;;;;;;;;;;;;;;;;;;;;;;;;;;;;;;;;;;;;;;;;;;;;;;;;;;;;;;;;;;;;;;;;;',\n",
       "       'Afghanistan;7.0;7.0;7.0;7.0;7.0;7.0;7.0;7.0;7.0;7.0;7.0;7.0;7.0;7.0;7.0;7.0;7.0;7.0;7.0;7.0;7.0;7.0;7.0;7.0;7.0;7.0;7.0;7.0;7.0;7.0;7.0;7.0;7.0;7.0;7.0;7.0;7.0;7.0;7.0;7.0;7.0;7.0;7.0;7.0;7.0;7.0;7.0;7.0;7.0;7.0;7.0;7.0;7.0;7.0;7.0;7.0;7.0;7.0;7.0;7.0;7.0;7.0;7.0;7.0;7.0;7.0;7.0;7.0;7.0;7.0;7.0;7.0;7.0;7.0;7.0;7.0;7.0;7.0;7.0;7.0;7.0;7.0;7.0;7.0;7.0;7.0;7.0;7.0;7.0;7.0;7.0;7.0;7.0;7.0;7.0;7.0;7.0;7.0;7.0;7.0;7.0;7.0;7.0;7.0;7.0;7.0;7.0;7.0;7.0;7.0;7.0;7.0;7.0;7.0;7.0;7.0;7.0;7.0;7.0;7.0;7.0;7.0;7.0;7.0;7.0;7.0;07. Mrz;07. Mai;07. Aug;07. Nov;Jul 14;Jul 16;Jul 19;Jul 22;Jul 24;Jul 27;07. Mrz;Jul 32;Jul 35;Jul 38;07. Apr;Jul 43;Jul 46;Jul 48;Jul 51;Jul 54;Jul 56;Jul 59;Jul 62;Jul 64;Jul 67;Jul 67;Jul 67;Jul 67;Jul 67;Jul 67;Jul 67;Jul 67;Jul 67;Jul 67;Jul 67;Jul 67;Jul 67;Jul 67;Jul 67;Jul 67;Jul 67;Jul 67;Jul 67;Jul 67;Jul 67;Jul 67;Jul 67;Jul 67;Jul 67;Jul 67;Jul 67;Jul 67;Jul 67;Jul 67;Jul 67;Jul 67;Jul 67;Jul 67;Jul 68;Jul 68;Jul 68;Jul 68;Jul 68;Jul 68;Jul 69;07. Jul;Jul 73;Jul 76;07. Aug;Jul 83;Jul 86;Jul 87;Jul 85;Jul 81;Jul 73;Jul 62;Jul 48;Jul 32;Jul 14;Jun 93;06. Jul;Jun 46;06. Feb;Mai 93;Mai 66;05. Apr;Mai 14;04. Sep;Apr 68;Apr 47;',\n",
       "       'Akrotiri and Dhekelia;;;;;;;;;;;;;;;;;;;;;;;;;;;;;;;;;;;;;;;;;;;;;;;;;;;;;;;;;;;;;;;;;;;;;;;;;;;;;;;;;;;;;;;;;;;;;;;;;;;;;;;;;;;;;;;;;;;;;;;;;;;;;;;;;;;;;;;;;;;;;;;;;;;;;;;;;;;;;;;;;;;;;;;;;;;;;;;;;;;;;;;;;;;;;;;;;;;;;;;;;;;;;;;;;;;;;;;;;',\n",
       "       'Albania;04. Jun;04. Jun;04. Jun;04. Jun;04. Jun;04. Jun;04. Jun;04. Jun;04. Jun;04. Jun;04. Jun;04. Jun;04. Jun;04. Jun;04. Jun;04. Jun;04. Jun;04. Jun;04. Jun;04. Jun;04. Jun;04. Jun;04. Jun;04. Jun;04. Jun;04. Jun;04. Jun;04. Jun;04. Jun;04. Jun;04. Jun;04. Jun;04. Jun;04. Jun;04. Jun;04. Jun;04. Jun;04. Jun;04. Jun;04. Jun;04. Jun;04. Jun;04. Jun;04. Jun;04. Jun;04. Jun;04. Jun;04. Jun;04. Jun;04. Jun;04. Jun;04. Jun;04. Jun;04. Jun;04. Jun;04. Jun;04. Jun;04. Jun;04. Jun;04. Jun;04. Jun;04. Jun;04. Jun;04. Jun;04. Jun;04. Jun;04. Jun;04. Jun;04. Jun;04. Jun;04. Jun;04. Jun;04. Jun;04. Jun;04. Jun;04. Jun;04. Jun;04. Jun;04. Jun;04. Jun;04. Jun;04. Jun;04. Jun;04. Jun;04. Jun;04. Jun;04. Jun;04. Jun;04. Jun;04. Jun;04. Jun;04. Jun;04. Jun;04. Jun;04. Jun;04. Jun;04. Jun;04. Jun;04. Jun;04. Jun;04. Jun;04. Jun;04. Jun;04. Jun;04. Jun;04. Jun;04. Jun;04. Jun;04. Jun;04. Jun;04. Jun;04. Jun;04. Jun;04. Jun;04. Jun;04. Jun;04. Jun;04. Jun;04. Jun;04. Jun;04. Jun;04. Jun;04. Jun;04. Jun;04. Jun;04. Jun;Apr 42;Apr 25;04. Jul;Mrz 89;Mrz 72;Mrz 54;Mrz 36;Mrz 57;Mrz 77;Mrz 98;Apr 19;Apr 39;04. Jun;Mrz 74;Apr 19;Mrz 75;Apr 41;Apr 58;Apr 76;Apr 93;05. Jan;Mai 28;Mai 45;Mai 63;05. Aug;05. Sep;06. Jul;Jun 21;Jun 31;Jun 37;06. Apr;Jun 39;Jun 35;Jun 28;Jun 19;06. Aug;Mai 96;Mai 83;Mai 71;Mai 59;Mai 48;Mai 38;Mai 27;Mai 16;05. Mai;Apr 93;Apr 81;Apr 68;Apr 54;Apr 39;Apr 24;04. Sep;Mrz 95;Mrz 81;Mrz 68;Mrz 56;Mrz 46;Mrz 37;03. Mrz;Mrz 23;Mrz 18;Mrz 13;03. Aug;03. Feb;Feb 97;Feb 92;Feb 87;Feb 82;Feb 77;Feb 72;Feb 67;Feb 61;Feb 54;Feb 47;Feb 38;Feb 29;02. Feb;02. Jan;2.0;Jan 92;Jan 85;01. Aug;Jan 76;Jan 74;Jan 74;Jan 75;Jan 76;Jan 77;Jan 78;Jan 78;',\n",
       "       'Algeria;Jun 99;Jun 99;Jun 99;Jun 99;Jun 99;Jun 99;Jun 99;Jun 99;Jun 99;Jun 99;Jun 99;Jun 99;Jun 99;Jun 99;Jun 99;Jun 99;Jun 99;Jun 99;Jun 99;Jun 99;Jun 99;Jun 99;Jun 99;Jun 99;Jun 99;Jun 99;Jun 99;Jun 99;Jun 99;Jun 99;Jun 99;Jun 99;Jun 99;Jun 99;Jun 99;Jun 99;Jun 99;Jun 99;Jun 99;Jun 99;Jun 99;Jun 99;Jun 99;Jun 99;Jun 99;Jun 99;Jun 99;Jun 99;Jun 99;Jun 99;Jun 99;Jun 99;Jun 99;Jun 99;Jun 99;Jun 99;Jun 99;Jun 99;Jun 99;Jun 99;Jun 99;Jun 99;Jun 99;Jun 99;Jun 99;Jun 99;Jun 99;Jun 99;Jun 99;Jun 99;Jun 99;Jun 99;Jun 99;Jun 99;Jun 99;Jun 99;Jun 99;Jun 99;Jun 99;Jun 99;Jun 99;Jun 99;Jun 99;Jun 99;Jun 99;Jun 99;Jun 99;Jun 99;Jun 99;Jun 99;Jun 99;Jun 99;Jun 99;Jun 99;Jun 99;Jun 99;Jun 99;Jun 99;Jun 99;Jun 99;Jun 99;Jun 99;Jun 99;Jun 99;Jun 99;Jun 99;Jun 99;Jun 99;Jun 99;Jun 99;Jun 99;Jun 99;Jun 99;Jun 99;Jun 99;Jun 99;Jun 99;Jun 99;Jun 99;Jun 99;Jun 99;Jun 99;Jun 99;Jun 99;Jun 99;Jun 99;07. Feb;07. Mai;07. Jul;07. Jan;07. Dez;Jul 15;Jul 18;07. Feb;Jul 23;Jul 26;Jul 28;Jul 31;Jul 33;Jul 36;Jul 39;Jul 41;Jul 44;Jul 46;Jul 49;Jul 52;Jul 54;Jul 57;Jul 59;Jul 62;Jul 65;Jul 65;Jul 65;Jul 65;Jul 65;Jul 65;Jul 65;Jul 65;Jul 65;Jul 65;Jul 65;Jul 65;Jul 65;Jul 65;Jul 65;Jul 66;Jul 66;Jul 66;Jul 66;Jul 65;Jul 64;Jul 62;Jul 59;Jul 55;Jul 49;Jul 42;Jul 34;Jul 24;Jul 14;07. Feb;Jun 89;Jun 74;Jun 58;Jun 39;Jun 19;Mai 98;Mai 75;Mai 51;Mai 26;05. Jan;Apr 76;04. Mai;Apr 24;Mrz 97;Mrz 71;Mrz 45;Mrz 21;Feb 99;Feb 79;Feb 63;Feb 51;Feb 44;Feb 41;Feb 41;Feb 45;Feb 51;Feb 58;Feb 66;Feb 73;Feb 78;Feb 82;Feb 83;Feb 82;02. Aug;Feb 76;Feb 71;',\n",
       "       'American Samoa;;;;;;;;;;;;;;;;;;;;;;;;;;;;;;;;;;;;;;;;;;;;;;;;;;;;;;;;;;;;;;;;;;;;;;;;;;;;;;;;;;;;;;;;;;;;;;;;;;;;;;;;;;;;;;;;;;;;;;;;;;;;;;;;;;;;;;;;;;;;;;;;;;;;;;;;;;;;;;;;;;;;;;;;;;;;;;;;;;;;;;;;;;;;;;;;;;;;;;;;;;;;;;;;;;;;;;;;;',\n",
       "       'Andorra;;;;;;;;;;;;;;;;;;;;;;;;;;;;;;;;;;;;;;;;;;;;;;;;;;;;;;;;;;;;;;;;;;;;;;;;;;;;;;;;;;;;;;;;;;;;;;;;;;;;;;;;;;;;;;;;;;;;;;;;;;;;;;;;;;;;;;;;;;;;;;;;;;;;;;;;;;;;;;;;;;;;;;;;;;;;;;;;;;;;;;;;;;;;;;;;;;;;;;;;;;;;;;;;;;;;;;;;;',\n",
       "       'Angola;Jun 93;Jun 93;Jun 93;Jun 93;Jun 93;Jun 93;Jun 93;Jun 94;Jun 94;Jun 94;Jun 94;Jun 94;Jun 94;Jun 94;Jun 94;Jun 94;Jun 94;Jun 94;Jun 94;Jun 94;Jun 94;Jun 95;Jun 95;Jun 95;Jun 95;Jun 95;Jun 95;Jun 95;Jun 95;Jun 95;Jun 95;Jun 95;Jun 95;Jun 95;Jun 95;Jun 96;Jun 96;Jun 96;Jun 96;Jun 96;Jun 96;Jun 96;Jun 96;Jun 96;Jun 96;Jun 96;Jun 96;Jun 96;Jun 96;Jun 97;Jun 97;Jun 97;Jun 97;Jun 97;Jun 97;Jun 97;Jun 97;Jun 97;Jun 97;Jun 97;Jun 97;Jun 97;Jun 97;Jun 98;Jun 98;Jun 98;Jun 98;Jun 98;Jun 98;Jun 98;Jun 98;Jun 98;Jun 98;Jun 98;Jun 98;Jun 98;Jun 98;Jun 99;Jun 99;Jun 99;Jun 99;Jun 99;Jun 99;Jun 99;Jun 99;Jun 99;Jun 99;Jun 99;Jun 99;Jun 99;Jun 99;7.0;7.0;7.0;7.0;7.0;7.0;7.0;7.0;7.0;7.0;7.0;7.0;7.0;7.0;07. Jan;07. Jan;07. Jan;07. Jan;07. Jan;07. Jan;07. Jan;07. Jan;07. Jan;07. Jan;07. Jan;07. Jan;07. Jan;07. Jan;07. Feb;07. Feb;07. Feb;07. Feb;07. Feb;07. Feb;07. Feb;07. Feb;07. Jan;07. Jan;7.0;7.0;7.0;Jun 99;Jun 99;Jun 99;Jun 98;Jun 98;Jun 97;Jun 97;Jun 97;Jun 96;Jun 96;Jun 96;Jun 95;Jun 95;Jun 94;Jun 94;Jun 94;Jun 93;Jun 93;Jun 93;Jun 94;Jun 98;07. Feb;07. Jun;07. Jan;Jul 14;Jul 19;Jul 23;Jul 28;Jul 32;Jul 35;Jul 39;Jul 41;Jul 43;Jul 43;Jul 42;07. Apr;Jul 38;Jul 34;07. Mrz;Jul 26;Jul 23;Jul 21;Jul 19;Jul 19;Jul 19;Jul 19;Jul 19;07. Feb;07. Feb;07. Feb;07. Feb;Jul 21;Jul 21;Jul 21;Jul 21;07. Feb;Jul 19;Jul 18;Jul 17;Jul 14;07. Dez;07. Sep;07. Mai;07. Feb;Jun 98;Jun 95;Jun 91;Jun 88;Jun 84;Jun 81;Jun 78;Jun 74;06. Jul;Jun 66;06. Jun;Jun 52;Jun 43;Jun 33;Jun 22;06. Jan;Mai 98;Mai 86;Mai 75;Mai 65;',\n",
       "       'Anguilla;;;;;;;;;;;;;;;;;;;;;;;;;;;;;;;;;;;;;;;;;;;;;;;;;;;;;;;;;;;;;;;;;;;;;;;;;;;;;;;;;;;;;;;;;;;;;;;;;;;;;;;;;;;;;;;;;;;;;;;;;;;;;;;;;;;;;;;;;;;;;;;;;;;;;;;;;;;;;;;;;;;;;;;;;;;;;;;;;;;;;;;;;;;;;;;;;;;;;;;;;;;;;;;;;;;;;;;;;',\n",
       "       'Antigua and Barbuda;5.0;5.0;Apr 99;Apr 99;Apr 99;Apr 98;Apr 98;Apr 97;Apr 97;Apr 97;Apr 96;Apr 96;Apr 96;Apr 95;Apr 95;Apr 94;Apr 94;Apr 94;Apr 93;Apr 93;Apr 93;Apr 92;Apr 92;Apr 92;Apr 91;Apr 91;04. Sep;04. Sep;04. Sep;Apr 89;Apr 89;Apr 89;Apr 88;Apr 88;Apr 87;Apr 87;Apr 87;Apr 86;Apr 86;Apr 86;Apr 85;Apr 85;Apr 84;Apr 84;Apr 84;Apr 83;Apr 83;Apr 83;Apr 82;Apr 82;Apr 82;Apr 81;Apr 81;04. Aug;04. Aug;04. Aug;Apr 79;Apr 79;Apr 79;Apr 78;Apr 78;Apr 77;Apr 77;Apr 77;Apr 76;Apr 76;Apr 76;Apr 75;Apr 75;Apr 75;Apr 74;Apr 74;Apr 73;Apr 73;Apr 73;Apr 72;Apr 72;Apr 72;Apr 71;Apr 71;04. Jul;04. Jul;04. Jul;Apr 69;Apr 69;Apr 69;Apr 68;Apr 68;Apr 67;Apr 67;Apr 67;Apr 66;Apr 66;Apr 66;Apr 65;Apr 65;Apr 65;Apr 64;Apr 64;Apr 63;Apr 63;Apr 63;Apr 62;Apr 62;Apr 62;Apr 61;Apr 61;04. Jun;04. Jun;04. Jun;Apr 59;Apr 59;Apr 59;Apr 58;Apr 58;Apr 58;Apr 57;Apr 57;Apr 56;Apr 56;Apr 56;Apr 55;Apr 55;Apr 55;Apr 54;Apr 54;Apr 53;Apr 53;Apr 53;Apr 52;Apr 52;Apr 52;Apr 51;Apr 51;Apr 51;04. Mai;04. Mai;Apr 49;Apr 49;Apr 49;Apr 48;Apr 48;Apr 48;Apr 47;Apr 47;Apr 46;Apr 46;Apr 46;Apr 45;Apr 45;Apr 45;Apr 46;04. Mai;Apr 52;Apr 53;Apr 53;Apr 53;Apr 51;Apr 49;Apr 46;Apr 43;Apr 39;Apr 34;04. Mrz;Apr 25;Apr 19;Apr 13;04. Apr;Mrz 94;Mrz 82;Mrz 68;Mrz 52;Mrz 33;03. Dez;Feb 91;02. Jul;Feb 51;Feb 36;Feb 24;Feb 16;02. Dez;02. Jan;02. Jan;02. Jan;02. Jan;02. Sep;02. Aug;02. Jul;02. Jun;02. Jun;02. Jun;02. Jul;02. Jan;Feb 13;Feb 17;Feb 21;Feb 25;Feb 28;02. Mrz;Feb 32;Feb 32;Feb 31;Feb 29;Feb 27;Feb 25;Feb 22;02. Feb;Feb 18;Feb 16;Feb 15;Feb 13;02. Dez;02. Jan;02. Sep;02. Aug;02. Jun;',\n",
       "       ...\n",
       "       'Vietnam;04. Jul;04. Jul;04. Jul;04. Jul;04. Jul;04. Jul;04. Jul;04. Jul;04. Jul;04. Jul;04. Jul;04. Jul;04. Jul;04. Jul;04. Jul;04. Jul;04. Jul;04. Jul;04. Jul;04. Jul;04. Jul;04. Jul;04. Jul;04. Jul;04. Jul;04. Jul;04. Jul;04. Jul;04. Jul;04. Jul;04. Jul;04. Jul;04. Jul;04. Jul;04. Jul;04. Jul;04. Jul;04. Jul;04. Jul;04. Jul;04. Jul;04. Jul;04. Jul;04. Jul;04. Jul;04. Jul;04. Jul;04. Jul;04. Jul;04. Jul;04. Jul;04. Jul;04. Jul;04. Jul;04. Jul;04. Jul;04. Jul;04. Jul;04. Jul;04. Jul;04. Jul;04. Jul;04. Jul;04. Jul;04. Jul;04. Jul;04. Jul;04. Jul;04. Jul;04. Jul;04. Jul;04. Jul;04. Jul;04. Jul;04. Jul;04. Jul;04. Jul;04. Jul;04. Jul;04. Jul;04. Jul;04. Jul;04. Jul;04. Jul;04. Jul;04. Jul;04. Jul;04. Jul;04. Jul;04. Jul;04. Jul;04. Jul;04. Jul;04. Jul;04. Jul;04. Jul;04. Jul;04. Jul;04. Jul;04. Jul;04. Jul;Apr 66;Apr 62;Apr 57;Apr 53;Apr 49;Apr 45;Apr 41;Apr 36;Apr 32;Apr 28;Apr 24;04. Feb;Apr 15;Apr 15;Apr 42;Apr 42;Apr 69;Apr 69;Apr 29;Apr 15;Apr 29;Apr 69;Apr 49;Apr 76;Apr 73;04. Jul;04. Jul;Apr 66;Apr 78;05. Mrz;Apr 69;Apr 69;Apr 73;Mai 19;Apr 92;Apr 97;05. Apr;05. Mrz;05. Mrz;05. Feb;05. Feb;05. Jan;5.0;5.0;Apr 99;Apr 99;Apr 98;Apr 97;Apr 97;Apr 96;05. Aug;Mai 31;Mai 52;05. Jul;Mai 86;6.0;06. Dez;Jun 21;Jun 29;Jun 35;Jun 39;Jun 43;Jun 45;Jun 46;Jun 48;Jun 49;Jun 49;Jun 49;Jun 49;Jun 47;Jun 42;Jun 35;Jun 25;Jun 13;Mai 97;05. Aug;Mai 61;Mai 42;Mai 23;05. Mai;Apr 87;Apr 69;Apr 52;Apr 36;Apr 21;04. Jun;Mrz 93;Mrz 81;Mrz 68;Mrz 56;Mrz 42;Mrz 26;03. Jul;Feb 88;Feb 68;Feb 48;Feb 31;Feb 17;02. Jun;Jan 98;Jan 94;Jan 92;Jan 91;01. Sep;01. Sep;Jan 89;Jan 88;Jan 86;Jan 84;Jan 82;Jan 79;Jan 77;Jan 74;Jan 72;01. Jul;',\n",
       "       'Virgin Islands (U.S.);Mai 55;Mai 55;Mai 55;Mai 55;Mai 55;Mai 55;Mai 55;Mai 55;Mai 55;Mai 55;Mai 55;Mai 55;Mai 55;Mai 55;Mai 55;Mai 55;Mai 55;Mai 55;Mai 55;Mai 55;Mai 55;Mai 55;Mai 55;Mai 55;Mai 55;Mai 55;Mai 55;Mai 55;Mai 55;Mai 55;Mai 55;Mai 55;Mai 55;Mai 55;Mai 55;Mai 55;Mai 55;Mai 55;Mai 55;Mai 55;Mai 55;Mai 55;Mai 55;Mai 55;Mai 55;Mai 55;Mai 55;Mai 55;Mai 55;Mai 55;Mai 55;Mai 55;Mai 55;Mai 55;Mai 55;Mai 55;Mai 55;Mai 55;Mai 55;Mai 55;Mai 55;Mai 55;Mai 55;Mai 55;Mai 55;Mai 55;Mai 55;Mai 55;Mai 55;Mai 55;Mai 55;Mai 55;Mai 55;Mai 55;Mai 55;Mai 55;Mai 55;Mai 55;Mai 55;Mai 55;Mai 55;Mai 55;Mai 55;Mai 55;Mai 55;Mai 55;Mai 55;Mai 55;Mai 55;Mai 55;Mai 55;Mai 55;Mai 55;Mai 55;Mai 55;Mai 55;Mai 55;Mai 55;Mai 55;Mai 55;Mai 55;Mai 55;Mai 55;Mai 55;Mai 55;Mai 55;Mai 55;Mai 55;Mai 55;Mai 55;Mai 55;Mai 55;Mai 55;Mai 55;Mai 55;Mai 55;Mai 55;Mai 55;Mai 55;Mai 55;Mai 55;Mai 55;Mai 55;Mai 55;Mai 55;Mai 55;Mai 53;Mai 52;05. Mai;Mai 48;Mai 47;Mai 45;Mai 44;Mai 42;05. Apr;Mai 39;Mai 37;Mai 35;Mai 34;Mai 32;Mai 31;Mai 29;Mai 27;Mai 26;Mai 24;Mai 22;Mai 21;Mai 19;Mai 17;Mai 16;Mai 14;Mai 17;Mai 23;Mai 28;Mai 33;Mai 38;Mai 43;Mai 48;Mai 53;Mai 57;Mai 62;Mai 65;Mai 68;05. Jul;05. Jul;Mai 68;Mai 63;Mai 56;Mai 46;Mai 33;Mai 17;Apr 98;Apr 76;Apr 53;Apr 29;04. Mai;Mrz 82;Mrz 61;Mrz 42;Mrz 26;Mrz 14;03. Mai;3.0;Feb 97;Feb 97;Feb 97;Feb 99;3.0;3.0;Feb 99;Feb 95;02. Sep;Feb 81;Feb 71;02. Jun;Feb 48;Feb 37;Feb 27;Feb 18;Feb 13;02. Jan;02. Jan;Feb 13;Feb 17;Feb 22;Feb 28;Feb 34;Feb 39;Feb 44;Feb 47;Feb 49;02. Mai;02. Mai;Feb 49;Feb 47;Feb 45;',\n",
       "       'North Yemen (former);;;;;;;;;;;;;;;;;;;;;;;;;;;;;;;;;;;;;;;;;;;;;;;;;;;;;;;;;;;;;;;;;;;;;;;;;;;;;;;;;;;;;;;;;;;;;;;;;;;;;;;;;;;;;;;;;;;;;;;;;;;;;;;;;;;;;;;;;;;;;;;;;;;;;;;;;;;;;;;;;;;;;;;;;;;;;;;;;;;;;;;;;;;;;;;;;;;;;;;;;;;;;;;;;;;;;;;;;',\n",
       "       'South Yemen (former);;;;;;;;;;;;;;;;;;;;;;;;;;;;;;;;;;;;;;;;;;;;;;;;;;;;;;;;;;;;;;;;;;;;;;;;;;;;;;;;;;;;;;;;;;;;;;;;;;;;;;;;;;;;;;;;;;;;;;;;;;;;;;;;;;;;;;;;;;;;;;;;;;;;;;;;;;;;;;;;;;;;;;;;;;;;;;;;;;;;;;;;;;;;;;;;;;;;;;;;;;;;;;;;;;;;;;;;;',\n",
       "       'Yemen;Jun 88;Jun 88;Jun 88;Jun 88;Jun 88;Jun 88;Jun 88;Jun 88;Jun 88;Jun 88;Jun 88;Jun 88;Jun 88;Jun 88;Jun 88;Jun 88;Jun 88;Jun 88;Jun 88;Jun 88;Jun 88;Jun 88;Jun 88;Jun 88;Jun 88;Jun 88;Jun 88;Jun 88;Jun 88;Jun 88;Jun 88;Jun 88;Jun 88;Jun 88;Jun 88;Jun 88;Jun 88;Jun 88;Jun 88;Jun 88;Jun 88;Jun 88;Jun 88;Jun 88;Jun 88;Jun 88;Jun 88;Jun 88;Jun 88;Jun 88;Jun 88;Jun 88;Jun 88;Jun 88;Jun 88;Jun 88;Jun 88;Jun 88;Jun 88;Jun 88;Jun 88;Jun 88;Jun 88;Jun 88;Jun 88;Jun 88;Jun 88;Jun 88;Jun 88;Jun 88;Jun 88;Jun 88;Jun 88;Jun 88;Jun 88;Jun 88;Jun 88;Jun 88;Jun 88;Jun 88;Jun 88;Jun 88;Jun 88;Jun 88;Jun 88;Jun 88;Jun 88;Jun 88;Jun 88;Jun 88;Jun 88;Jun 88;Jun 88;Jun 88;Jun 88;Jun 88;Jun 88;Jun 88;Jun 88;Jun 88;Jun 88;Jun 88;Jun 88;Jun 88;Jun 88;Jun 88;Jun 88;Jun 88;Jun 88;Jun 88;Jun 88;Jun 88;Jun 88;Jun 88;Jun 88;Jun 88;Jun 88;Jun 88;Jun 88;Jun 88;Jun 88;Jun 88;Jun 88;Jun 88;Jun 88;Jun 88;06. Sep;Jun 91;Jun 93;Jun 94;Jun 96;Jun 98;Jun 99;07. Jan;07. Feb;07. Apr;07. Mai;07. Jul;07. Sep;07. Jan;07. Dez;Jul 13;Jul 15;Jul 16;Jul 18;07. Feb;Jul 21;Jul 23;Jul 24;Jul 26;Jul 27;Jul 27;Jul 27;Jul 27;Jul 27;Jul 27;Jul 27;Jul 27;Jul 28;Jul 28;Jul 29;Jul 31;Jul 33;Jul 35;Jul 39;Jul 42;Jul 45;Jul 47;Jul 49;Jul 51;Jul 54;Jul 59;Jul 67;Jul 78;Jul 92;08. Sep;Aug 28;Aug 47;Aug 67;Aug 84;Aug 99;09. Nov;Sep 19;Sep 22;Sep 22;Sep 19;09. Dez;09. Mrz;Aug 93;Aug 81;Aug 67;08. Mai;Aug 31;08. Sep;Jul 84;Jul 58;Jul 31;07. Mai;06. Aug;Jun 57;Jun 36;Jun 17;Mai 98;Mai 78;Mai 59;Mai 39;05. Feb;05. Jan;Apr 83;Apr 66;04. Mai;Apr 35;Apr 21;04. Aug;Mrz 95;Mrz 83;',\n",
       "       'Yugoslavia;;;;;;;;;;;;;;;;;;;;;;;;;;;;;;;;;;;;;;;;;;;;;;;;;;;;;;;;;;;;;;;;;;;;;;;;;;;;;;;;;;;;;;;;;;;;;;;;;;;;;;;;;;;;;;;;;;;;;;;;;;;;;;;;;;;;;;;;;;;;;;;;;;;;;;;;;;;;;;;;;;;;;;;;;;;;;;;;;;;;;;;;;;;;;;;;;;;;;;;;;;;;;;;;;;;;;;;;;',\n",
       "       'Zambia;Jun 71;Jun 71;Jun 71;Jun 71;Jun 71;Jun 71;Jun 71;Jun 71;Jun 71;Jun 71;Jun 71;Jun 71;Jun 71;Jun 71;Jun 71;Jun 71;Jun 71;Jun 71;Jun 71;Jun 71;Jun 71;Jun 71;Jun 71;Jun 71;Jun 71;Jun 71;Jun 71;Jun 71;Jun 71;Jun 71;Jun 71;Jun 71;Jun 71;Jun 71;Jun 71;Jun 71;Jun 71;Jun 71;Jun 71;Jun 71;Jun 71;Jun 71;Jun 71;Jun 71;Jun 71;Jun 71;Jun 71;Jun 71;Jun 71;Jun 71;Jun 71;Jun 71;Jun 71;Jun 71;Jun 71;Jun 71;Jun 71;Jun 71;Jun 71;Jun 71;Jun 71;Jun 71;Jun 71;Jun 71;Jun 71;Jun 71;Jun 71;Jun 71;Jun 71;Jun 71;Jun 71;Jun 71;Jun 71;Jun 71;Jun 71;Jun 71;Jun 71;Jun 71;Jun 71;Jun 71;Jun 71;Jun 71;Jun 71;Jun 71;Jun 71;Jun 71;Jun 71;Jun 71;Jun 71;Jun 71;Jun 71;Jun 71;Jun 71;Jun 71;Jun 71;Jun 71;Jun 71;Jun 71;Jun 71;Jun 71;Jun 71;Jun 71;Jun 71;Jun 71;Jun 71;Jun 71;Jun 71;Jun 71;Jun 71;Jun 71;Jun 71;Jun 71;Jun 71;Jun 71;Jun 71;Jun 71;Jun 71;Jun 71;Jun 71;Jun 71;Jun 71;Jun 71;Jun 71;Jun 71;Jun 71;Jun 71;Jun 71;Jun 71;Jun 71;Jun 71;Jun 71;Jun 71;Jun 71;Jun 71;Jun 71;Jun 71;Jun 71;Jun 71;Jun 71;Jun 71;Jun 71;Jun 71;Jun 71;Jun 71;Jun 71;Jun 71;Jun 71;Jun 71;Jun 71;Jun 71;Jun 71;Jun 72;Jun 74;Jun 76;Jun 78;Jun 81;Jun 84;Jun 88;Jun 92;Jun 97;07. Feb;07. Jul;Jul 13;Jul 18;Jul 24;Jul 29;Jul 34;Jul 38;Jul 41;Jul 43;Jul 44;Jul 44;Jul 45;Jul 45;Jul 44;Jul 44;Jul 41;Jul 38;Jul 33;Jul 26;Jul 18;07. Jan;07. Feb;Jun 94;Jun 87;06. Aug;Jun 74;Jun 67;Jun 61;Jun 54;Jun 47;06. Apr;Jun 34;Jun 29;Jun 25;Jun 21;Jun 18;Jun 15;Jun 13;06. Jan;06. Jul;06. Apr;06. Feb;6.0;Mai 97;Mai 95;Mai 93;Mai 91;Mai 88;Mai 85;Mai 81;Mai 77;Mai 73;Mai 69;Mai 64;Mai 59;',\n",
       "       'Zimbabwe;Jun 75;Jun 75;Jun 75;Jun 75;Jun 75;Jun 75;Jun 75;Jun 75;Jun 75;Jun 75;Jun 75;Jun 75;Jun 75;Jun 75;Jun 75;Jun 75;Jun 75;Jun 75;Jun 75;Jun 75;Jun 75;Jun 75;Jun 75;Jun 75;Jun 75;Jun 75;Jun 75;Jun 75;Jun 75;Jun 75;Jun 75;Jun 75;Jun 75;Jun 75;Jun 75;Jun 75;Jun 75;Jun 75;Jun 75;Jun 75;Jun 75;Jun 75;Jun 75;Jun 75;Jun 75;Jun 75;Jun 75;Jun 75;Jun 75;Jun 75;Jun 75;Jun 75;Jun 75;Jun 75;Jun 75;Jun 75;Jun 75;Jun 75;Jun 75;Jun 75;Jun 75;Jun 75;Jun 75;Jun 75;Jun 75;Jun 75;Jun 75;Jun 75;Jun 75;Jun 75;Jun 75;Jun 75;Jun 75;Jun 75;Jun 75;Jun 75;Jun 75;Jun 75;Jun 75;Jun 75;Jun 75;Jun 75;Jun 75;Jun 75;Jun 75;Jun 75;Jun 75;Jun 75;Jun 75;Jun 75;Jun 75;Jun 75;Jun 75;Jun 75;Jun 75;Jun 75;Jun 75;Jun 75;Jun 75;Jun 75;Jun 75;Jun 75;Jun 75;Jun 75;Jun 75;Jun 75;Jun 75;Jun 75;Jun 75;Jun 75;Jun 75;Jun 75;Jun 75;Jun 75;Jun 75;Jun 75;Jun 75;Jun 75;Jun 75;Jun 75;Jun 75;Jun 75;Jun 75;Jun 75;Jun 75;Jun 75;Jun 75;Jun 75;Jun 75;Jun 75;Jun 75;Jun 75;Jun 75;Jun 75;Jun 75;Jun 75;Jun 75;Jun 75;Jun 75;Jun 75;Jun 75;Jun 75;Jun 75;Jun 75;Jun 75;Jun 75;Jun 75;Jun 75;Jun 75;Jun 75;Jun 75;Jun 76;Jun 78;Jun 81;Jun 84;Jun 88;Jun 93;Jun 98;07. Apr;07. Jan;Jul 16;Jul 22;Jul 27;Jul 31;Jul 35;Jul 37;Jul 39;07. Apr;Jul 41;Jul 42;Jul 42;Jul 42;Jul 42;Jul 42;Jul 41;07. Apr;Jul 37;Jul 33;Jul 27;07. Feb;07. Jan;Jun 97;Jun 81;Jun 63;Jun 44;Jun 22;6.0;Mai 78;Mai 57;Mai 37;Mai 18;5.0;Apr 84;Apr 69;Apr 55;Apr 43;Apr 33;Apr 24;Apr 17;04. Nov;04. Jul;04. Apr;04. Feb;4.0;Mrz 99;Mrz 97;Mrz 94;03. Sep;Mrz 85;Mrz 79;Mrz 72;Mrz 64;Mrz 56;Mrz 49;Mrz 41;Mrz 35;',\n",
       "       'Åland;;;;;;;;;;;;;;;;;;;;;;;;;;;;;;;;;;;;;;;;;;;;;;;;;;;;;;;;;;;;;;;;;;;;;;;;;;;;;;;;;;;;;;;;;;;;;;;;;;;;;;;;;;;;;;;;;;;;;;;;;;;;;;;;;;;;;;;;;;;;;;;;;;;;;;;;;;;;;;;;;;;;;;;;;;;;;;;;;;;;;;;;;;;;;;;;;;;;;;;;;;;;;;;;;;;;;;;;;',\n",
       "       'Åland;;;;;;;;;;;;;;;;;;;;;;;;;;;;;;;;;;;;;;;;;;;;;;;;;;;;;;;;;;;;;;;;;;;;;;;;;;;;;;;;;;;;;;;;;;;;;;;;;;;;;;;;;;;;;;;;;;;;;;;;;;;;;;;;;;;;;;;;;;;;;;;;;;;;;;;;;;;;;;;;;;;;;;;;;;;;;;;;;;;;;;;;;;;;;;;;;;;;;;;;;;;;;;;;;;;;;;;;;'],\n",
       "      dtype='object', name='Total fertility rate;1800;1801;1802;1803;1804;1805;1806;1807;1808;1809;1810;1811;1812;1813;1814;1815;1816;1817;1818;1819;1820;1821;1822;1823;1824;1825;1826;1827;1828;1829;1830;1831;1832;1833;1834;1835;1836;1837;1838;1839;1840;1841;1842;1843;1844;1845;1846;1847;1848;1849;1850;1851;1852;1853;1854;1855;1856;1857;1858;1859;1860;1861;1862;1863;1864;1865;1866;1867;1868;1869;1870;1871;1872;1873;1874;1875;1876;1877;1878;1879;1880;1881;1882;1883;1884;1885;1886;1887;1888;1889;1890;1891;1892;1893;1894;1895;1896;1897;1898;1899;1900;1901;1902;1903;1904;1905;1906;1907;1908;1909;1910;1911;1912;1913;1914;1915;1916;1917;1918;1919;1920;1921;1922;1923;1924;1925;1926;1927;1928;1929;1930;1931;1932;1933;1934;1935;1936;1937;1938;1939;1940;1941;1942;1943;1944;1945;1946;1947;1948;1949;1950;1951;1952;1953;1954;1955;1956;1957;1958;1959;1960;1961;1962;1963;1964;1965;1966;1967;1968;1969;1970;1971;1972;1973;1974;1975;1976;1977;1978;1979;1980;1981;1982;1983;1984;1985;1986;1987;1988;1989;1990;1991;1992;1993;1994;1995;1996;1997;1998;1999;2000;2001;2002;2003;2004;2005;2006;2007;2008;2009;2010;2011;2012;2013;2014;2015;', length=260)"
      ]
     },
     "execution_count": 8,
     "metadata": {},
     "output_type": "execute_result"
    }
   ],
   "source": [
    "fert.index"
   ]
  },
  {
   "cell_type": "code",
   "execution_count": 9,
   "id": "6d42be40",
   "metadata": {},
   "outputs": [],
   "source": [
    "fert.index.name = 'country'"
   ]
  },
  {
   "cell_type": "code",
   "execution_count": 10,
   "id": "24580e35",
   "metadata": {},
   "outputs": [],
   "source": [
    "fert = fert.reset_index()"
   ]
  },
  {
   "cell_type": "code",
   "execution_count": 11,
   "id": "1d8704e4",
   "metadata": {},
   "outputs": [],
   "source": [
    "fert = fert.melt(id_vars='country', var_name='year', value_name='fertility_rate')"
   ]
  },
  {
   "cell_type": "code",
   "execution_count": 12,
   "id": "23009335",
   "metadata": {},
   "outputs": [
    {
     "data": {
      "text/plain": [
       "Index(['Abkhazia', 'Afghanistan', 'Akrotiri and Dhekelia', 'Albania',\n",
       "       'Algeria', 'American Samoa', 'Andorra', 'Angola', 'Anguilla',\n",
       "       'Antigua and Barbuda',\n",
       "       ...\n",
       "       'Vietnam', 'Virgin Islands (U.S.)', 'North Yemen (former)',\n",
       "       'South Yemen (former)', 'Yemen', 'Yugoslavia', 'Zambia', 'Zimbabwe',\n",
       "       'Åland', 'South Sudan'],\n",
       "      dtype='object', name='Life expectancy', length=260)"
      ]
     },
     "execution_count": 12,
     "metadata": {},
     "output_type": "execute_result"
    }
   ],
   "source": [
    "life.index"
   ]
  },
  {
   "cell_type": "code",
   "execution_count": 15,
   "id": "1c685ee6",
   "metadata": {},
   "outputs": [],
   "source": [
    "life.index.name = 'country'"
   ]
  },
  {
   "cell_type": "code",
   "execution_count": 16,
   "id": "643ccc9a",
   "metadata": {},
   "outputs": [],
   "source": [
    "life = life.reset_index()"
   ]
  },
  {
   "cell_type": "code",
   "execution_count": 14,
   "id": "225c9f12",
   "metadata": {},
   "outputs": [
    {
     "ename": "KeyError",
     "evalue": "'country'",
     "output_type": "error",
     "traceback": [
      "\u001b[1;31m---------------------------------------------------------------------------\u001b[0m",
      "\u001b[1;31mKeyError\u001b[0m                                  Traceback (most recent call last)",
      "\u001b[1;32m~\\anaconda3\\lib\\site-packages\\pandas\\core\\indexes\\base.py\u001b[0m in \u001b[0;36mget_loc\u001b[1;34m(self, key, method, tolerance)\u001b[0m\n\u001b[0;32m   3079\u001b[0m             \u001b[1;32mtry\u001b[0m\u001b[1;33m:\u001b[0m\u001b[1;33m\u001b[0m\u001b[1;33m\u001b[0m\u001b[0m\n\u001b[1;32m-> 3080\u001b[1;33m                 \u001b[1;32mreturn\u001b[0m \u001b[0mself\u001b[0m\u001b[1;33m.\u001b[0m\u001b[0m_engine\u001b[0m\u001b[1;33m.\u001b[0m\u001b[0mget_loc\u001b[0m\u001b[1;33m(\u001b[0m\u001b[0mcasted_key\u001b[0m\u001b[1;33m)\u001b[0m\u001b[1;33m\u001b[0m\u001b[1;33m\u001b[0m\u001b[0m\n\u001b[0m\u001b[0;32m   3081\u001b[0m             \u001b[1;32mexcept\u001b[0m \u001b[0mKeyError\u001b[0m \u001b[1;32mas\u001b[0m \u001b[0merr\u001b[0m\u001b[1;33m:\u001b[0m\u001b[1;33m\u001b[0m\u001b[1;33m\u001b[0m\u001b[0m\n",
      "\u001b[1;32mpandas\\_libs\\index.pyx\u001b[0m in \u001b[0;36mpandas._libs.index.IndexEngine.get_loc\u001b[1;34m()\u001b[0m\n",
      "\u001b[1;32mpandas\\_libs\\index.pyx\u001b[0m in \u001b[0;36mpandas._libs.index.IndexEngine.get_loc\u001b[1;34m()\u001b[0m\n",
      "\u001b[1;32mpandas\\_libs\\hashtable_class_helper.pxi\u001b[0m in \u001b[0;36mpandas._libs.hashtable.PyObjectHashTable.get_item\u001b[1;34m()\u001b[0m\n",
      "\u001b[1;32mpandas\\_libs\\hashtable_class_helper.pxi\u001b[0m in \u001b[0;36mpandas._libs.hashtable.PyObjectHashTable.get_item\u001b[1;34m()\u001b[0m\n",
      "\u001b[1;31mKeyError\u001b[0m: 'country'",
      "\nThe above exception was the direct cause of the following exception:\n",
      "\u001b[1;31mKeyError\u001b[0m                                  Traceback (most recent call last)",
      "\u001b[1;32m<ipython-input-14-c67abf16a012>\u001b[0m in \u001b[0;36m<module>\u001b[1;34m\u001b[0m\n\u001b[1;32m----> 1\u001b[1;33m \u001b[0mlife\u001b[0m \u001b[1;33m=\u001b[0m \u001b[0mlife\u001b[0m\u001b[1;33m.\u001b[0m\u001b[0mmelt\u001b[0m\u001b[1;33m(\u001b[0m\u001b[0mid_vars\u001b[0m\u001b[1;33m=\u001b[0m\u001b[1;34m'country'\u001b[0m\u001b[1;33m,\u001b[0m \u001b[0mvar_name\u001b[0m\u001b[1;33m=\u001b[0m\u001b[1;34m'year'\u001b[0m\u001b[1;33m,\u001b[0m \u001b[0mvalue_name\u001b[0m\u001b[1;33m=\u001b[0m\u001b[1;34m'life expectancy'\u001b[0m\u001b[1;33m)\u001b[0m\u001b[1;33m\u001b[0m\u001b[1;33m\u001b[0m\u001b[0m\n\u001b[0m",
      "\u001b[1;32m~\\anaconda3\\lib\\site-packages\\pandas\\core\\frame.py\u001b[0m in \u001b[0;36mmelt\u001b[1;34m(self, id_vars, value_vars, var_name, value_name, col_level, ignore_index)\u001b[0m\n\u001b[0;32m   7365\u001b[0m     ) -> DataFrame:\n\u001b[0;32m   7366\u001b[0m \u001b[1;33m\u001b[0m\u001b[0m\n\u001b[1;32m-> 7367\u001b[1;33m         return melt(\n\u001b[0m\u001b[0;32m   7368\u001b[0m             \u001b[0mself\u001b[0m\u001b[1;33m,\u001b[0m\u001b[1;33m\u001b[0m\u001b[1;33m\u001b[0m\u001b[0m\n\u001b[0;32m   7369\u001b[0m             \u001b[0mid_vars\u001b[0m\u001b[1;33m=\u001b[0m\u001b[0mid_vars\u001b[0m\u001b[1;33m,\u001b[0m\u001b[1;33m\u001b[0m\u001b[1;33m\u001b[0m\u001b[0m\n",
      "\u001b[1;32m~\\anaconda3\\lib\\site-packages\\pandas\\core\\reshape\\melt.py\u001b[0m in \u001b[0;36mmelt\u001b[1;34m(frame, id_vars, value_vars, var_name, value_name, col_level, ignore_index)\u001b[0m\n\u001b[0;32m    117\u001b[0m     \u001b[0mmdata\u001b[0m \u001b[1;33m=\u001b[0m \u001b[1;33m{\u001b[0m\u001b[1;33m}\u001b[0m\u001b[1;33m\u001b[0m\u001b[1;33m\u001b[0m\u001b[0m\n\u001b[0;32m    118\u001b[0m     \u001b[1;32mfor\u001b[0m \u001b[0mcol\u001b[0m \u001b[1;32min\u001b[0m \u001b[0mid_vars\u001b[0m\u001b[1;33m:\u001b[0m\u001b[1;33m\u001b[0m\u001b[1;33m\u001b[0m\u001b[0m\n\u001b[1;32m--> 119\u001b[1;33m         \u001b[0mid_data\u001b[0m \u001b[1;33m=\u001b[0m \u001b[0mframe\u001b[0m\u001b[1;33m.\u001b[0m\u001b[0mpop\u001b[0m\u001b[1;33m(\u001b[0m\u001b[0mcol\u001b[0m\u001b[1;33m)\u001b[0m\u001b[1;33m\u001b[0m\u001b[1;33m\u001b[0m\u001b[0m\n\u001b[0m\u001b[0;32m    120\u001b[0m         \u001b[1;32mif\u001b[0m \u001b[0mis_extension_array_dtype\u001b[0m\u001b[1;33m(\u001b[0m\u001b[0mid_data\u001b[0m\u001b[1;33m)\u001b[0m\u001b[1;33m:\u001b[0m\u001b[1;33m\u001b[0m\u001b[1;33m\u001b[0m\u001b[0m\n\u001b[0;32m    121\u001b[0m             \u001b[0mid_data\u001b[0m \u001b[1;33m=\u001b[0m \u001b[0mcast\u001b[0m\u001b[1;33m(\u001b[0m\u001b[1;34m\"Series\"\u001b[0m\u001b[1;33m,\u001b[0m \u001b[0mconcat\u001b[0m\u001b[1;33m(\u001b[0m\u001b[1;33m[\u001b[0m\u001b[0mid_data\u001b[0m\u001b[1;33m]\u001b[0m \u001b[1;33m*\u001b[0m \u001b[0mK\u001b[0m\u001b[1;33m,\u001b[0m \u001b[0mignore_index\u001b[0m\u001b[1;33m=\u001b[0m\u001b[1;32mTrue\u001b[0m\u001b[1;33m)\u001b[0m\u001b[1;33m)\u001b[0m\u001b[1;33m\u001b[0m\u001b[1;33m\u001b[0m\u001b[0m\n",
      "\u001b[1;32m~\\anaconda3\\lib\\site-packages\\pandas\\core\\frame.py\u001b[0m in \u001b[0;36mpop\u001b[1;34m(self, item)\u001b[0m\n\u001b[0;32m   4510\u001b[0m         \u001b[1;36m3\u001b[0m  \u001b[0mmonkey\u001b[0m        \u001b[0mNaN\u001b[0m\u001b[1;33m\u001b[0m\u001b[1;33m\u001b[0m\u001b[0m\n\u001b[0;32m   4511\u001b[0m         \"\"\"\n\u001b[1;32m-> 4512\u001b[1;33m         \u001b[1;32mreturn\u001b[0m \u001b[0msuper\u001b[0m\u001b[1;33m(\u001b[0m\u001b[1;33m)\u001b[0m\u001b[1;33m.\u001b[0m\u001b[0mpop\u001b[0m\u001b[1;33m(\u001b[0m\u001b[0mitem\u001b[0m\u001b[1;33m=\u001b[0m\u001b[0mitem\u001b[0m\u001b[1;33m)\u001b[0m\u001b[1;33m\u001b[0m\u001b[1;33m\u001b[0m\u001b[0m\n\u001b[0m\u001b[0;32m   4513\u001b[0m \u001b[1;33m\u001b[0m\u001b[0m\n\u001b[0;32m   4514\u001b[0m     \u001b[1;33m@\u001b[0m\u001b[0mdoc\u001b[0m\u001b[1;33m(\u001b[0m\u001b[0mNDFrame\u001b[0m\u001b[1;33m.\u001b[0m\u001b[0mreplace\u001b[0m\u001b[1;33m,\u001b[0m \u001b[1;33m**\u001b[0m\u001b[0m_shared_doc_kwargs\u001b[0m\u001b[1;33m)\u001b[0m\u001b[1;33m\u001b[0m\u001b[1;33m\u001b[0m\u001b[0m\n",
      "\u001b[1;32m~\\anaconda3\\lib\\site-packages\\pandas\\core\\generic.py\u001b[0m in \u001b[0;36mpop\u001b[1;34m(self, item)\u001b[0m\n\u001b[0;32m    767\u001b[0m \u001b[1;33m\u001b[0m\u001b[0m\n\u001b[0;32m    768\u001b[0m     \u001b[1;32mdef\u001b[0m \u001b[0mpop\u001b[0m\u001b[1;33m(\u001b[0m\u001b[0mself\u001b[0m\u001b[1;33m,\u001b[0m \u001b[0mitem\u001b[0m\u001b[1;33m:\u001b[0m \u001b[0mLabel\u001b[0m\u001b[1;33m)\u001b[0m \u001b[1;33m->\u001b[0m \u001b[0mUnion\u001b[0m\u001b[1;33m[\u001b[0m\u001b[0mSeries\u001b[0m\u001b[1;33m,\u001b[0m \u001b[0mAny\u001b[0m\u001b[1;33m]\u001b[0m\u001b[1;33m:\u001b[0m\u001b[1;33m\u001b[0m\u001b[1;33m\u001b[0m\u001b[0m\n\u001b[1;32m--> 769\u001b[1;33m         \u001b[0mresult\u001b[0m \u001b[1;33m=\u001b[0m \u001b[0mself\u001b[0m\u001b[1;33m[\u001b[0m\u001b[0mitem\u001b[0m\u001b[1;33m]\u001b[0m\u001b[1;33m\u001b[0m\u001b[1;33m\u001b[0m\u001b[0m\n\u001b[0m\u001b[0;32m    770\u001b[0m         \u001b[1;32mdel\u001b[0m \u001b[0mself\u001b[0m\u001b[1;33m[\u001b[0m\u001b[0mitem\u001b[0m\u001b[1;33m]\u001b[0m\u001b[1;33m\u001b[0m\u001b[1;33m\u001b[0m\u001b[0m\n\u001b[0;32m    771\u001b[0m         \u001b[1;32mif\u001b[0m \u001b[0mself\u001b[0m\u001b[1;33m.\u001b[0m\u001b[0mndim\u001b[0m \u001b[1;33m==\u001b[0m \u001b[1;36m2\u001b[0m\u001b[1;33m:\u001b[0m\u001b[1;33m\u001b[0m\u001b[1;33m\u001b[0m\u001b[0m\n",
      "\u001b[1;32m~\\anaconda3\\lib\\site-packages\\pandas\\core\\frame.py\u001b[0m in \u001b[0;36m__getitem__\u001b[1;34m(self, key)\u001b[0m\n\u001b[0;32m   3022\u001b[0m             \u001b[1;32mif\u001b[0m \u001b[0mself\u001b[0m\u001b[1;33m.\u001b[0m\u001b[0mcolumns\u001b[0m\u001b[1;33m.\u001b[0m\u001b[0mnlevels\u001b[0m \u001b[1;33m>\u001b[0m \u001b[1;36m1\u001b[0m\u001b[1;33m:\u001b[0m\u001b[1;33m\u001b[0m\u001b[1;33m\u001b[0m\u001b[0m\n\u001b[0;32m   3023\u001b[0m                 \u001b[1;32mreturn\u001b[0m \u001b[0mself\u001b[0m\u001b[1;33m.\u001b[0m\u001b[0m_getitem_multilevel\u001b[0m\u001b[1;33m(\u001b[0m\u001b[0mkey\u001b[0m\u001b[1;33m)\u001b[0m\u001b[1;33m\u001b[0m\u001b[1;33m\u001b[0m\u001b[0m\n\u001b[1;32m-> 3024\u001b[1;33m             \u001b[0mindexer\u001b[0m \u001b[1;33m=\u001b[0m \u001b[0mself\u001b[0m\u001b[1;33m.\u001b[0m\u001b[0mcolumns\u001b[0m\u001b[1;33m.\u001b[0m\u001b[0mget_loc\u001b[0m\u001b[1;33m(\u001b[0m\u001b[0mkey\u001b[0m\u001b[1;33m)\u001b[0m\u001b[1;33m\u001b[0m\u001b[1;33m\u001b[0m\u001b[0m\n\u001b[0m\u001b[0;32m   3025\u001b[0m             \u001b[1;32mif\u001b[0m \u001b[0mis_integer\u001b[0m\u001b[1;33m(\u001b[0m\u001b[0mindexer\u001b[0m\u001b[1;33m)\u001b[0m\u001b[1;33m:\u001b[0m\u001b[1;33m\u001b[0m\u001b[1;33m\u001b[0m\u001b[0m\n\u001b[0;32m   3026\u001b[0m                 \u001b[0mindexer\u001b[0m \u001b[1;33m=\u001b[0m \u001b[1;33m[\u001b[0m\u001b[0mindexer\u001b[0m\u001b[1;33m]\u001b[0m\u001b[1;33m\u001b[0m\u001b[1;33m\u001b[0m\u001b[0m\n",
      "\u001b[1;32m~\\anaconda3\\lib\\site-packages\\pandas\\core\\indexes\\base.py\u001b[0m in \u001b[0;36mget_loc\u001b[1;34m(self, key, method, tolerance)\u001b[0m\n\u001b[0;32m   3080\u001b[0m                 \u001b[1;32mreturn\u001b[0m \u001b[0mself\u001b[0m\u001b[1;33m.\u001b[0m\u001b[0m_engine\u001b[0m\u001b[1;33m.\u001b[0m\u001b[0mget_loc\u001b[0m\u001b[1;33m(\u001b[0m\u001b[0mcasted_key\u001b[0m\u001b[1;33m)\u001b[0m\u001b[1;33m\u001b[0m\u001b[1;33m\u001b[0m\u001b[0m\n\u001b[0;32m   3081\u001b[0m             \u001b[1;32mexcept\u001b[0m \u001b[0mKeyError\u001b[0m \u001b[1;32mas\u001b[0m \u001b[0merr\u001b[0m\u001b[1;33m:\u001b[0m\u001b[1;33m\u001b[0m\u001b[1;33m\u001b[0m\u001b[0m\n\u001b[1;32m-> 3082\u001b[1;33m                 \u001b[1;32mraise\u001b[0m \u001b[0mKeyError\u001b[0m\u001b[1;33m(\u001b[0m\u001b[0mkey\u001b[0m\u001b[1;33m)\u001b[0m \u001b[1;32mfrom\u001b[0m \u001b[0merr\u001b[0m\u001b[1;33m\u001b[0m\u001b[1;33m\u001b[0m\u001b[0m\n\u001b[0m\u001b[0;32m   3083\u001b[0m \u001b[1;33m\u001b[0m\u001b[0m\n\u001b[0;32m   3084\u001b[0m         \u001b[1;32mif\u001b[0m \u001b[0mtolerance\u001b[0m \u001b[1;32mis\u001b[0m \u001b[1;32mnot\u001b[0m \u001b[1;32mNone\u001b[0m\u001b[1;33m:\u001b[0m\u001b[1;33m\u001b[0m\u001b[1;33m\u001b[0m\u001b[0m\n",
      "\u001b[1;31mKeyError\u001b[0m: 'country'"
     ]
    }
   ],
   "source": [
    "life = life.melt(id_vars='country', var_name='year', value_name='life expectancy')"
   ]
  },
  {
   "cell_type": "code",
   "execution_count": 94,
   "id": "bfa9b299",
   "metadata": {},
   "outputs": [
    {
     "data": {
      "text/plain": [
       "Index(['Abkhazia', 'Afghanistan', 'Akrotiri and Dhekelia', 'Albania',\n",
       "       'Algeria', 'American Samoa', 'Andorra', 'Angola', 'Anguilla',\n",
       "       'Antigua and Barbuda',\n",
       "       ...\n",
       "       'Vietnam', 'Virgin Islands (U.S.)', 'North Yemen (former)',\n",
       "       'South Yemen (former)', 'Yemen', 'Yugoslavia', 'Zambia', 'Zimbabwe',\n",
       "       'Åland', 'South Sudan'],\n",
       "      dtype='object', name='country', length=260)"
      ]
     },
     "execution_count": 94,
     "metadata": {},
     "output_type": "execute_result"
    }
   ],
   "source": [
    "popu.index"
   ]
  },
  {
   "cell_type": "code",
   "execution_count": 97,
   "id": "72a56c69",
   "metadata": {},
   "outputs": [
    {
     "data": {
      "text/plain": [
       "Int64Index([1800, 1801, 1802, 1803, 1804, 1805, 1806, 1807, 1808, 1809,\n",
       "            ...\n",
       "            2007, 2008, 2009, 2010, 2011, 2012, 2013, 2014, 2015, 2016],\n",
       "           dtype='int64', length=217)"
      ]
     },
     "execution_count": 97,
     "metadata": {},
     "output_type": "execute_result"
    }
   ],
   "source": [
    "popu.columns"
   ]
  },
  {
   "cell_type": "code",
   "execution_count": 99,
   "id": "53e13b29",
   "metadata": {},
   "outputs": [
    {
     "ename": "KeyError",
     "evalue": "'country'",
     "output_type": "error",
     "traceback": [
      "\u001b[1;31m---------------------------------------------------------------------------\u001b[0m",
      "\u001b[1;31mKeyError\u001b[0m                                  Traceback (most recent call last)",
      "\u001b[1;32m~\\anaconda3\\lib\\site-packages\\pandas\\core\\indexes\\base.py\u001b[0m in \u001b[0;36mget_loc\u001b[1;34m(self, key, method, tolerance)\u001b[0m\n\u001b[0;32m   3079\u001b[0m             \u001b[1;32mtry\u001b[0m\u001b[1;33m:\u001b[0m\u001b[1;33m\u001b[0m\u001b[1;33m\u001b[0m\u001b[0m\n\u001b[1;32m-> 3080\u001b[1;33m                 \u001b[1;32mreturn\u001b[0m \u001b[0mself\u001b[0m\u001b[1;33m.\u001b[0m\u001b[0m_engine\u001b[0m\u001b[1;33m.\u001b[0m\u001b[0mget_loc\u001b[0m\u001b[1;33m(\u001b[0m\u001b[0mcasted_key\u001b[0m\u001b[1;33m)\u001b[0m\u001b[1;33m\u001b[0m\u001b[1;33m\u001b[0m\u001b[0m\n\u001b[0m\u001b[0;32m   3081\u001b[0m             \u001b[1;32mexcept\u001b[0m \u001b[0mKeyError\u001b[0m \u001b[1;32mas\u001b[0m \u001b[0merr\u001b[0m\u001b[1;33m:\u001b[0m\u001b[1;33m\u001b[0m\u001b[1;33m\u001b[0m\u001b[0m\n",
      "\u001b[1;32mpandas\\_libs\\index.pyx\u001b[0m in \u001b[0;36mpandas._libs.index.IndexEngine.get_loc\u001b[1;34m()\u001b[0m\n",
      "\u001b[1;32mpandas\\_libs\\index.pyx\u001b[0m in \u001b[0;36mpandas._libs.index.IndexEngine.get_loc\u001b[1;34m()\u001b[0m\n",
      "\u001b[1;32mpandas\\_libs\\index_class_helper.pxi\u001b[0m in \u001b[0;36mpandas._libs.index.Int64Engine._check_type\u001b[1;34m()\u001b[0m\n",
      "\u001b[1;31mKeyError\u001b[0m: 'country'",
      "\nThe above exception was the direct cause of the following exception:\n",
      "\u001b[1;31mKeyError\u001b[0m                                  Traceback (most recent call last)",
      "\u001b[1;32m<ipython-input-99-e9988fe9466e>\u001b[0m in \u001b[0;36m<module>\u001b[1;34m\u001b[0m\n\u001b[1;32m----> 1\u001b[1;33m \u001b[0mpopu\u001b[0m \u001b[1;33m=\u001b[0m \u001b[0mpopu\u001b[0m\u001b[1;33m.\u001b[0m\u001b[0mmelt\u001b[0m\u001b[1;33m(\u001b[0m\u001b[0mid_vars\u001b[0m\u001b[1;33m=\u001b[0m\u001b[1;34m'country'\u001b[0m\u001b[1;33m,\u001b[0m \u001b[0mvar_name\u001b[0m\u001b[1;33m=\u001b[0m\u001b[1;34m'year'\u001b[0m\u001b[1;33m,\u001b[0m \u001b[0mvalue_name\u001b[0m\u001b[1;33m=\u001b[0m\u001b[1;34m'population_rate'\u001b[0m\u001b[1;33m)\u001b[0m\u001b[1;33m\u001b[0m\u001b[1;33m\u001b[0m\u001b[0m\n\u001b[0m",
      "\u001b[1;32m~\\anaconda3\\lib\\site-packages\\pandas\\core\\frame.py\u001b[0m in \u001b[0;36mmelt\u001b[1;34m(self, id_vars, value_vars, var_name, value_name, col_level, ignore_index)\u001b[0m\n\u001b[0;32m   7365\u001b[0m     ) -> DataFrame:\n\u001b[0;32m   7366\u001b[0m \u001b[1;33m\u001b[0m\u001b[0m\n\u001b[1;32m-> 7367\u001b[1;33m         return melt(\n\u001b[0m\u001b[0;32m   7368\u001b[0m             \u001b[0mself\u001b[0m\u001b[1;33m,\u001b[0m\u001b[1;33m\u001b[0m\u001b[1;33m\u001b[0m\u001b[0m\n\u001b[0;32m   7369\u001b[0m             \u001b[0mid_vars\u001b[0m\u001b[1;33m=\u001b[0m\u001b[0mid_vars\u001b[0m\u001b[1;33m,\u001b[0m\u001b[1;33m\u001b[0m\u001b[1;33m\u001b[0m\u001b[0m\n",
      "\u001b[1;32m~\\anaconda3\\lib\\site-packages\\pandas\\core\\reshape\\melt.py\u001b[0m in \u001b[0;36mmelt\u001b[1;34m(frame, id_vars, value_vars, var_name, value_name, col_level, ignore_index)\u001b[0m\n\u001b[0;32m    117\u001b[0m     \u001b[0mmdata\u001b[0m \u001b[1;33m=\u001b[0m \u001b[1;33m{\u001b[0m\u001b[1;33m}\u001b[0m\u001b[1;33m\u001b[0m\u001b[1;33m\u001b[0m\u001b[0m\n\u001b[0;32m    118\u001b[0m     \u001b[1;32mfor\u001b[0m \u001b[0mcol\u001b[0m \u001b[1;32min\u001b[0m \u001b[0mid_vars\u001b[0m\u001b[1;33m:\u001b[0m\u001b[1;33m\u001b[0m\u001b[1;33m\u001b[0m\u001b[0m\n\u001b[1;32m--> 119\u001b[1;33m         \u001b[0mid_data\u001b[0m \u001b[1;33m=\u001b[0m \u001b[0mframe\u001b[0m\u001b[1;33m.\u001b[0m\u001b[0mpop\u001b[0m\u001b[1;33m(\u001b[0m\u001b[0mcol\u001b[0m\u001b[1;33m)\u001b[0m\u001b[1;33m\u001b[0m\u001b[1;33m\u001b[0m\u001b[0m\n\u001b[0m\u001b[0;32m    120\u001b[0m         \u001b[1;32mif\u001b[0m \u001b[0mis_extension_array_dtype\u001b[0m\u001b[1;33m(\u001b[0m\u001b[0mid_data\u001b[0m\u001b[1;33m)\u001b[0m\u001b[1;33m:\u001b[0m\u001b[1;33m\u001b[0m\u001b[1;33m\u001b[0m\u001b[0m\n\u001b[0;32m    121\u001b[0m             \u001b[0mid_data\u001b[0m \u001b[1;33m=\u001b[0m \u001b[0mcast\u001b[0m\u001b[1;33m(\u001b[0m\u001b[1;34m\"Series\"\u001b[0m\u001b[1;33m,\u001b[0m \u001b[0mconcat\u001b[0m\u001b[1;33m(\u001b[0m\u001b[1;33m[\u001b[0m\u001b[0mid_data\u001b[0m\u001b[1;33m]\u001b[0m \u001b[1;33m*\u001b[0m \u001b[0mK\u001b[0m\u001b[1;33m,\u001b[0m \u001b[0mignore_index\u001b[0m\u001b[1;33m=\u001b[0m\u001b[1;32mTrue\u001b[0m\u001b[1;33m)\u001b[0m\u001b[1;33m)\u001b[0m\u001b[1;33m\u001b[0m\u001b[1;33m\u001b[0m\u001b[0m\n",
      "\u001b[1;32m~\\anaconda3\\lib\\site-packages\\pandas\\core\\frame.py\u001b[0m in \u001b[0;36mpop\u001b[1;34m(self, item)\u001b[0m\n\u001b[0;32m   4510\u001b[0m         \u001b[1;36m3\u001b[0m  \u001b[0mmonkey\u001b[0m        \u001b[0mNaN\u001b[0m\u001b[1;33m\u001b[0m\u001b[1;33m\u001b[0m\u001b[0m\n\u001b[0;32m   4511\u001b[0m         \"\"\"\n\u001b[1;32m-> 4512\u001b[1;33m         \u001b[1;32mreturn\u001b[0m \u001b[0msuper\u001b[0m\u001b[1;33m(\u001b[0m\u001b[1;33m)\u001b[0m\u001b[1;33m.\u001b[0m\u001b[0mpop\u001b[0m\u001b[1;33m(\u001b[0m\u001b[0mitem\u001b[0m\u001b[1;33m=\u001b[0m\u001b[0mitem\u001b[0m\u001b[1;33m)\u001b[0m\u001b[1;33m\u001b[0m\u001b[1;33m\u001b[0m\u001b[0m\n\u001b[0m\u001b[0;32m   4513\u001b[0m \u001b[1;33m\u001b[0m\u001b[0m\n\u001b[0;32m   4514\u001b[0m     \u001b[1;33m@\u001b[0m\u001b[0mdoc\u001b[0m\u001b[1;33m(\u001b[0m\u001b[0mNDFrame\u001b[0m\u001b[1;33m.\u001b[0m\u001b[0mreplace\u001b[0m\u001b[1;33m,\u001b[0m \u001b[1;33m**\u001b[0m\u001b[0m_shared_doc_kwargs\u001b[0m\u001b[1;33m)\u001b[0m\u001b[1;33m\u001b[0m\u001b[1;33m\u001b[0m\u001b[0m\n",
      "\u001b[1;32m~\\anaconda3\\lib\\site-packages\\pandas\\core\\generic.py\u001b[0m in \u001b[0;36mpop\u001b[1;34m(self, item)\u001b[0m\n\u001b[0;32m    767\u001b[0m \u001b[1;33m\u001b[0m\u001b[0m\n\u001b[0;32m    768\u001b[0m     \u001b[1;32mdef\u001b[0m \u001b[0mpop\u001b[0m\u001b[1;33m(\u001b[0m\u001b[0mself\u001b[0m\u001b[1;33m,\u001b[0m \u001b[0mitem\u001b[0m\u001b[1;33m:\u001b[0m \u001b[0mLabel\u001b[0m\u001b[1;33m)\u001b[0m \u001b[1;33m->\u001b[0m \u001b[0mUnion\u001b[0m\u001b[1;33m[\u001b[0m\u001b[0mSeries\u001b[0m\u001b[1;33m,\u001b[0m \u001b[0mAny\u001b[0m\u001b[1;33m]\u001b[0m\u001b[1;33m:\u001b[0m\u001b[1;33m\u001b[0m\u001b[1;33m\u001b[0m\u001b[0m\n\u001b[1;32m--> 769\u001b[1;33m         \u001b[0mresult\u001b[0m \u001b[1;33m=\u001b[0m \u001b[0mself\u001b[0m\u001b[1;33m[\u001b[0m\u001b[0mitem\u001b[0m\u001b[1;33m]\u001b[0m\u001b[1;33m\u001b[0m\u001b[1;33m\u001b[0m\u001b[0m\n\u001b[0m\u001b[0;32m    770\u001b[0m         \u001b[1;32mdel\u001b[0m \u001b[0mself\u001b[0m\u001b[1;33m[\u001b[0m\u001b[0mitem\u001b[0m\u001b[1;33m]\u001b[0m\u001b[1;33m\u001b[0m\u001b[1;33m\u001b[0m\u001b[0m\n\u001b[0;32m    771\u001b[0m         \u001b[1;32mif\u001b[0m \u001b[0mself\u001b[0m\u001b[1;33m.\u001b[0m\u001b[0mndim\u001b[0m \u001b[1;33m==\u001b[0m \u001b[1;36m2\u001b[0m\u001b[1;33m:\u001b[0m\u001b[1;33m\u001b[0m\u001b[1;33m\u001b[0m\u001b[0m\n",
      "\u001b[1;32m~\\anaconda3\\lib\\site-packages\\pandas\\core\\frame.py\u001b[0m in \u001b[0;36m__getitem__\u001b[1;34m(self, key)\u001b[0m\n\u001b[0;32m   3022\u001b[0m             \u001b[1;32mif\u001b[0m \u001b[0mself\u001b[0m\u001b[1;33m.\u001b[0m\u001b[0mcolumns\u001b[0m\u001b[1;33m.\u001b[0m\u001b[0mnlevels\u001b[0m \u001b[1;33m>\u001b[0m \u001b[1;36m1\u001b[0m\u001b[1;33m:\u001b[0m\u001b[1;33m\u001b[0m\u001b[1;33m\u001b[0m\u001b[0m\n\u001b[0;32m   3023\u001b[0m                 \u001b[1;32mreturn\u001b[0m \u001b[0mself\u001b[0m\u001b[1;33m.\u001b[0m\u001b[0m_getitem_multilevel\u001b[0m\u001b[1;33m(\u001b[0m\u001b[0mkey\u001b[0m\u001b[1;33m)\u001b[0m\u001b[1;33m\u001b[0m\u001b[1;33m\u001b[0m\u001b[0m\n\u001b[1;32m-> 3024\u001b[1;33m             \u001b[0mindexer\u001b[0m \u001b[1;33m=\u001b[0m \u001b[0mself\u001b[0m\u001b[1;33m.\u001b[0m\u001b[0mcolumns\u001b[0m\u001b[1;33m.\u001b[0m\u001b[0mget_loc\u001b[0m\u001b[1;33m(\u001b[0m\u001b[0mkey\u001b[0m\u001b[1;33m)\u001b[0m\u001b[1;33m\u001b[0m\u001b[1;33m\u001b[0m\u001b[0m\n\u001b[0m\u001b[0;32m   3025\u001b[0m             \u001b[1;32mif\u001b[0m \u001b[0mis_integer\u001b[0m\u001b[1;33m(\u001b[0m\u001b[0mindexer\u001b[0m\u001b[1;33m)\u001b[0m\u001b[1;33m:\u001b[0m\u001b[1;33m\u001b[0m\u001b[1;33m\u001b[0m\u001b[0m\n\u001b[0;32m   3026\u001b[0m                 \u001b[0mindexer\u001b[0m \u001b[1;33m=\u001b[0m \u001b[1;33m[\u001b[0m\u001b[0mindexer\u001b[0m\u001b[1;33m]\u001b[0m\u001b[1;33m\u001b[0m\u001b[1;33m\u001b[0m\u001b[0m\n",
      "\u001b[1;32m~\\anaconda3\\lib\\site-packages\\pandas\\core\\indexes\\base.py\u001b[0m in \u001b[0;36mget_loc\u001b[1;34m(self, key, method, tolerance)\u001b[0m\n\u001b[0;32m   3080\u001b[0m                 \u001b[1;32mreturn\u001b[0m \u001b[0mself\u001b[0m\u001b[1;33m.\u001b[0m\u001b[0m_engine\u001b[0m\u001b[1;33m.\u001b[0m\u001b[0mget_loc\u001b[0m\u001b[1;33m(\u001b[0m\u001b[0mcasted_key\u001b[0m\u001b[1;33m)\u001b[0m\u001b[1;33m\u001b[0m\u001b[1;33m\u001b[0m\u001b[0m\n\u001b[0;32m   3081\u001b[0m             \u001b[1;32mexcept\u001b[0m \u001b[0mKeyError\u001b[0m \u001b[1;32mas\u001b[0m \u001b[0merr\u001b[0m\u001b[1;33m:\u001b[0m\u001b[1;33m\u001b[0m\u001b[1;33m\u001b[0m\u001b[0m\n\u001b[1;32m-> 3082\u001b[1;33m                 \u001b[1;32mraise\u001b[0m \u001b[0mKeyError\u001b[0m\u001b[1;33m(\u001b[0m\u001b[0mkey\u001b[0m\u001b[1;33m)\u001b[0m \u001b[1;32mfrom\u001b[0m \u001b[0merr\u001b[0m\u001b[1;33m\u001b[0m\u001b[1;33m\u001b[0m\u001b[0m\n\u001b[0m\u001b[0;32m   3083\u001b[0m \u001b[1;33m\u001b[0m\u001b[0m\n\u001b[0;32m   3084\u001b[0m         \u001b[1;32mif\u001b[0m \u001b[0mtolerance\u001b[0m \u001b[1;32mis\u001b[0m \u001b[1;32mnot\u001b[0m \u001b[1;32mNone\u001b[0m\u001b[1;33m:\u001b[0m\u001b[1;33m\u001b[0m\u001b[1;33m\u001b[0m\u001b[0m\n",
      "\u001b[1;31mKeyError\u001b[0m: 'country'"
     ]
    }
   ],
   "source": [
    "popu = popu.melt(id_vars='country', var_name='year', value_name='population_rate')"
   ]
  },
  {
   "cell_type": "code",
   "execution_count": null,
   "id": "3725c722",
   "metadata": {},
   "outputs": [],
   "source": []
  },
  {
   "cell_type": "code",
   "execution_count": null,
   "id": "a3903780",
   "metadata": {},
   "outputs": [],
   "source": []
  },
  {
   "cell_type": "code",
   "execution_count": null,
   "id": "62909634",
   "metadata": {},
   "outputs": [],
   "source": []
  }
 ],
 "metadata": {
  "kernelspec": {
   "display_name": "Python 3",
   "language": "python",
   "name": "python3"
  },
  "language_info": {
   "codemirror_mode": {
    "name": "ipython",
    "version": 3
   },
   "file_extension": ".py",
   "mimetype": "text/x-python",
   "name": "python",
   "nbconvert_exporter": "python",
   "pygments_lexer": "ipython3",
   "version": "3.8.8"
  }
 },
 "nbformat": 4,
 "nbformat_minor": 5
}
