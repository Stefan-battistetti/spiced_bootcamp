{
 "cells": [
  {
   "cell_type": "code",
   "execution_count": 40,
   "id": "50a941c9",
   "metadata": {},
   "outputs": [],
   "source": [
    "import pandas as pd\n",
    "import matplotlib.pyplot as plt\n",
    "import seaborn as sns \n",
    "import numpy as np"
   ]
  },
  {
   "cell_type": "code",
   "execution_count": 41,
   "id": "639a2d62",
   "metadata": {},
   "outputs": [],
   "source": [
    "def value_to_float(x):\n",
    "    if type(x) == float or type(x) == int:\n",
    "        return x\n",
    "    if 'k' in x:\n",
    "        if len(x) > 1:\n",
    "            return float(x.replace('k', '')) * 1000\n",
    "        return 1000.0\n",
    "    return float(x)"
   ]
  },
  {
   "cell_type": "code",
   "execution_count": 42,
   "id": "f2a28877",
   "metadata": {},
   "outputs": [],
   "source": [
    "def standardize(X):\n",
    "    return (X-X.mean())/X.std()"
   ]
  },
  {
   "cell_type": "code",
   "execution_count": 43,
   "id": "0304f20c",
   "metadata": {},
   "outputs": [],
   "source": [
    "df_i = pd.read_csv('income_per_person_gdppercapita_ppp_inflation_adjusted.csv', index_col=0)\n",
    "dfh = pd.read_csv(\"hapiscore_whr.csv\", index_col=0)\n",
    "df_l = pd.read_csv('life_expectancy_years.csv', index_col=0)\n",
    "df_c = pd.read_csv('continents.csv', sep=';')"
   ]
  },
  {
   "cell_type": "code",
   "execution_count": 44,
   "id": "9fc6d45a",
   "metadata": {},
   "outputs": [],
   "source": [
    "df_i.columns = df_i.columns.astype(int)\n",
    "df_l.columns = df_l.columns.astype(int)"
   ]
  },
  {
   "cell_type": "code",
   "execution_count": 45,
   "id": "ad3c5258",
   "metadata": {},
   "outputs": [],
   "source": [
    "df_i = df_i.reset_index()\n",
    "df_l = df_l.reset_index()\n",
    "dfh.columns = dfh.columns.astype(int)\n",
    "dfh = dfh.reset_index()"
   ]
  },
  {
   "cell_type": "code",
   "execution_count": 46,
   "id": "176730d7",
   "metadata": {},
   "outputs": [],
   "source": [
    "dfh = dfh.melt(id_vars='country', var_name='year', value_name='happiness_rate')\n",
    "df_i = df_i.melt(id_vars='country', var_name='year', value_name='income')"
   ]
  },
  {
   "cell_type": "code",
   "execution_count": 47,
   "id": "03096536",
   "metadata": {},
   "outputs": [],
   "source": [
    "df_i['income'] = df_i['income'].apply(value_to_float)\n",
    "# df_i['income'] = df_i['income'].apply(standardize)"
   ]
  },
  {
   "cell_type": "code",
   "execution_count": 48,
   "id": "896c27bf",
   "metadata": {},
   "outputs": [
    {
     "data": {
      "text/html": [
       "<div>\n",
       "<style scoped>\n",
       "    .dataframe tbody tr th:only-of-type {\n",
       "        vertical-align: middle;\n",
       "    }\n",
       "\n",
       "    .dataframe tbody tr th {\n",
       "        vertical-align: top;\n",
       "    }\n",
       "\n",
       "    .dataframe thead th {\n",
       "        text-align: right;\n",
       "    }\n",
       "</style>\n",
       "<table border=\"1\" class=\"dataframe\">\n",
       "  <thead>\n",
       "    <tr style=\"text-align: right;\">\n",
       "      <th></th>\n",
       "      <th>country</th>\n",
       "      <th>year</th>\n",
       "      <th>income</th>\n",
       "      <th>happiness_rate</th>\n",
       "      <th>lifeExp</th>\n",
       "      <th>continent</th>\n",
       "    </tr>\n",
       "  </thead>\n",
       "  <tbody>\n",
       "    <tr>\n",
       "      <th>0</th>\n",
       "      <td>Afghanistan</td>\n",
       "      <td>2005</td>\n",
       "      <td>1290.0</td>\n",
       "      <td>NaN</td>\n",
       "      <td>57.6</td>\n",
       "      <td>Asia</td>\n",
       "    </tr>\n",
       "    <tr>\n",
       "      <th>1</th>\n",
       "      <td>Afghanistan</td>\n",
       "      <td>2006</td>\n",
       "      <td>1320.0</td>\n",
       "      <td>NaN</td>\n",
       "      <td>58.0</td>\n",
       "      <td>Asia</td>\n",
       "    </tr>\n",
       "    <tr>\n",
       "      <th>2</th>\n",
       "      <td>Afghanistan</td>\n",
       "      <td>2007</td>\n",
       "      <td>1460.0</td>\n",
       "      <td>NaN</td>\n",
       "      <td>58.5</td>\n",
       "      <td>Asia</td>\n",
       "    </tr>\n",
       "    <tr>\n",
       "      <th>3</th>\n",
       "      <td>Afghanistan</td>\n",
       "      <td>2008</td>\n",
       "      <td>1480.0</td>\n",
       "      <td>37.2</td>\n",
       "      <td>59.2</td>\n",
       "      <td>Asia</td>\n",
       "    </tr>\n",
       "    <tr>\n",
       "      <th>4</th>\n",
       "      <td>Afghanistan</td>\n",
       "      <td>2009</td>\n",
       "      <td>1760.0</td>\n",
       "      <td>44.0</td>\n",
       "      <td>59.9</td>\n",
       "      <td>Asia</td>\n",
       "    </tr>\n",
       "  </tbody>\n",
       "</table>\n",
       "</div>"
      ],
      "text/plain": [
       "       country  year  income  happiness_rate  lifeExp continent\n",
       "0  Afghanistan  2005  1290.0             NaN     57.6      Asia\n",
       "1  Afghanistan  2006  1320.0             NaN     58.0      Asia\n",
       "2  Afghanistan  2007  1460.0             NaN     58.5      Asia\n",
       "3  Afghanistan  2008  1480.0            37.2     59.2      Asia\n",
       "4  Afghanistan  2009  1760.0            44.0     59.9      Asia"
      ]
     },
     "execution_count": 48,
     "metadata": {},
     "output_type": "execute_result"
    }
   ],
   "source": [
    "df_l = df_l.melt(id_vars='country', var_name='year', value_name='lifeExp')\n",
    "df_f = df_i.merge(dfh, on=['year','country'], how='inner')\n",
    "df_f = df_f.merge(df_l, on=['year', 'country'], how='inner')\n",
    "df_f = df_f.merge(df_c, on='country', how='inner')\n",
    "df_f.head()\n"
   ]
  },
  {
   "cell_type": "code",
   "execution_count": 49,
   "id": "14bd1e4d",
   "metadata": {
    "scrolled": true
   },
   "outputs": [
    {
     "name": "stderr",
     "output_type": "stream",
     "text": [
      "posx and posy should be finite values\n",
      "posx and posy should be finite values\n",
      "posx and posy should be finite values\n",
      "posx and posy should be finite values\n",
      "posx and posy should be finite values\n",
      "posx and posy should be finite values\n",
      "posx and posy should be finite values\n",
      "posx and posy should be finite values\n",
      "posx and posy should be finite values\n",
      "posx and posy should be finite values\n",
      "posx and posy should be finite values\n",
      "posx and posy should be finite values\n",
      "posx and posy should be finite values\n",
      "posx and posy should be finite values\n",
      "posx and posy should be finite values\n",
      "posx and posy should be finite values\n",
      "posx and posy should be finite values\n",
      "posx and posy should be finite values\n",
      "posx and posy should be finite values\n",
      "posx and posy should be finite values\n",
      "posx and posy should be finite values\n",
      "posx and posy should be finite values\n",
      "posx and posy should be finite values\n",
      "posx and posy should be finite values\n",
      "posx and posy should be finite values\n",
      "posx and posy should be finite values\n"
     ]
    }
   ],
   "source": [
    "# df_f.to_csv('test.csv')\n",
    "\n",
    "# df_f.loc[df_f['year']==2006].sort_values(by=['happiness_rate']).to_csv('2006.csv')\n",
    "# df_f.loc[df_f['year']==2012].sort_values(by=['happiness_rate']).to_csv('2012.csv')\n",
    "# df_f.loc[df_f['year']==2019].sort_values(by=['happiness_rate']).to_csv('2019.csv')\n",
    "\n",
    "# plt.figure(figsize=(40,40))\n",
    "\n",
    "for i in range(2005, 2020):\n",
    "    plt.figure(figsize=(10,8))\n",
    "    df_subset = df_f.loc[df_f['year'] == i]\n",
    "\n",
    "    g = sns.scatterplot(x='happiness_rate', hue='continent', size='income', y='lifeExp',  sizes=(2, 250), data=df_subset, alpha=0.6, linewidth=2)\n",
    "    \n",
    "    g.set(xlabel=\"Happiness Rate\", ylabel = \"Life Expectancy\")\n",
    "    g.set(xlim=(30,82))\n",
    "    g.set(ylim=(50,86)) \n",
    "    plt.title('Year ' + str(i))\n",
    "    plt.legend(loc='lower right', fontsize= 13)  \n",
    "    China = df_f[(df_f['year']==i) & (df_f['country'] == 'China')]\n",
    "    India = df_f[(df_f['year']==i) & (df_f['country'] == 'India')]\n",
    "    USA = df_f[(df_f['year']==i) & (df_f['country'] == 'United States')]\n",
    "    Germany = df_f[(df_f['year']==i) & (df_f['country'] == 'Germany')]\n",
    "    Japan = df_f[(df_f['year']==i) & (df_f['country'] == 'Japan')]\n",
    "    Costa_rica = df_f[(df_f['year']==i) & (df_f['country'] == 'Costa Rica')]\n",
    "    Nigeria = df_f[(df_f['year']==i) & (df_f['country'] == 'Nigeria')]\n",
    "    Afghanistan = df_f[(df_f['year']==i) & (df_f['country'] == 'Afghanistan')]\n",
    "    Saudi_Arabia = df_f[(df_f['year']==i) & (df_f['country'] == 'Saudi Arabia')]\n",
    "\n",
    "    plt.text(India['happiness_rate']+1.1,India['lifeExp'], 'India')\n",
    "    plt.text(China['happiness_rate']+1.1,China['lifeExp'], 'China')\n",
    "    plt.text(USA['happiness_rate']+1.1,USA['lifeExp'], 'USA')\n",
    "    plt.text(Germany['happiness_rate']+1.1,Germany['lifeExp'], 'Germany')\n",
    "    plt.text(Japan['happiness_rate']+1.1,Japan['lifeExp'], 'Japan')\n",
    "    plt.text(Costa_rica['happiness_rate']+1.1,Costa_rica['lifeExp'], 'Costa Rica')\n",
    "    plt.text(Nigeria['happiness_rate']+1.1,Nigeria['lifeExp'], 'Nigeria')\n",
    "    plt.text(Afghanistan['happiness_rate']+1.1,Afghanistan['lifeExp'], 'Afghanistan')\n",
    "    plt.text(Saudi_Arabia['happiness_rate']+1.1,Saudi_Arabia['lifeExp'], 'Saudi Arabia')\n",
    "\n",
    "    plt.savefig(str(i) + '.png', dpi=100)\n",
    "    plt.close()\n",
    "\n",
    "    \n",
    "    "
   ]
  },
  {
   "cell_type": "code",
   "execution_count": 50,
   "id": "c50f43c8",
   "metadata": {},
   "outputs": [],
   "source": [
    "import imageio\n",
    "\n",
    "images = []\n",
    "\n",
    "for i in range(2005, 2020):\n",
    "    filename = '{}.png'.format(i)\n",
    "    images.append(imageio.imread(filename))\n",
    "\n",
    "imageio.mimsave('output.gif', images, fps=1)"
   ]
  },
  {
   "cell_type": "code",
   "execution_count": null,
   "id": "a7d54ee7",
   "metadata": {},
   "outputs": [],
   "source": []
  },
  {
   "cell_type": "code",
   "execution_count": null,
   "id": "a6a0090e",
   "metadata": {},
   "outputs": [],
   "source": []
  }
 ],
 "metadata": {
  "kernelspec": {
   "display_name": "Python 3",
   "language": "python",
   "name": "python3"
  },
  "language_info": {
   "codemirror_mode": {
    "name": "ipython",
    "version": 3
   },
   "file_extension": ".py",
   "mimetype": "text/x-python",
   "name": "python",
   "nbconvert_exporter": "python",
   "pygments_lexer": "ipython3",
   "version": "3.8.8"
  }
 },
 "nbformat": 4,
 "nbformat_minor": 5
}
