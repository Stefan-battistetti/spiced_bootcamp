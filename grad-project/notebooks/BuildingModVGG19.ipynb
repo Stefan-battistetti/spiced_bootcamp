{
 "cells": [
  {
   "cell_type": "code",
   "execution_count": null,
   "metadata": {},
   "outputs": [],
   "source": [
    "def VGGMod_model(len_classes=9, dropout_rate=0.2):\n",
    "    \n",
    "    # Input layer\n",
    "    input = layers.Input(shape=(224, 224, 3))\n",
    "\n",
    "    x = tf.keras.layers.Conv2D(filters=64, kernel_size=3, strides=1, padding='same' name='conv1_1')(input)"
   ]
  },
  {
   "cell_type": "code",
   "execution_count": null,
   "metadata": {},
   "outputs": [],
   "source": [
    "    x = tf.keras.layers.Conv2D(filters=64, kernel_size=3, strides=1, padding='same' name='conv1')(input)\n",
    "    #x = tf.keras.layers.Dropout(dropout_rate)(x)\n",
    "    x = tf.keras.layers.BatchNormalization(name='bn1')(x)\n",
    "    x = tf.keras.layers.Activation('relu')(x)\n",
    "    x = tf.keras.layers.Conv2D(filters=64, kernel_size=3, padding='same' name='conv2')(x)\n",
    "    #x = tf.keras.layers.Dropout(dropout_rate)(x)\n",
    "    x = tf.keras.layers.BatchNormalization(name='bn2')(x)\n",
    "    x = tf.keras.layers.Activation('relu')(x)\n",
    "    x = tf.keras.layers.MaxPooling2D()(x)"
   ]
  }
 ],
 "metadata": {
  "language_info": {
   "name": "python"
  },
  "orig_nbformat": 4
 },
 "nbformat": 4,
 "nbformat_minor": 2
}
