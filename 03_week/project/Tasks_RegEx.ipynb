{
 "cells": [
  {
   "cell_type": "code",
   "execution_count": null,
   "id": "6a802b85",
   "metadata": {},
   "outputs": [],
   "source": [
    "ls"
   ]
  },
  {
   "cell_type": "code",
   "execution_count": 1,
   "id": "2c5cafbb",
   "metadata": {},
   "outputs": [],
   "source": [
    "import os\n",
    "import re\n",
    "import pandas as pd\n",
    "import pprint\n",
    "import requests\n",
    "from bs4 import BeautifulSoup\n",
    "from sklearn.feature_extraction.text import CountVectorizer,TfidfVectorizer\n",
    "from sklearn.naive_bayes import MultinomialNB\n",
    "from sklearn.model_selection import train_test_split\n",
    "import nltk  \n",
    "# nltk.download(\"wordnet\")  # only done once! we have to download the WordNet database locally\n",
    "from nltk.tokenize import TreebankWordTokenizer # very good tokenizer for english, considers sentence structure\n",
    "from nltk.stem import WordNetLemmatizer"
   ]
  },
  {
   "cell_type": "code",
   "execution_count": null,
   "id": "f4fba9d4",
   "metadata": {},
   "outputs": [],
   "source": [
    "# r = requests.get('https://www.lyrics.com/artist/2Pac/50051')\n",
    "# # r = r.text"
   ]
  },
  {
   "cell_type": "code",
   "execution_count": null,
   "id": "f2747076",
   "metadata": {},
   "outputs": [],
   "source": [
    "URL_artist = 'https://www.lyrics.com/artist/2Pac/50051'\n",
    "# URL_artist = 'https://www.lyrics.com/artist/The-Notorious-B.I.G./44889'\n",
    "page_artist = requests.get(URL_artist)\n",
    "soup_artist = BeautifulSoup(page_artist.content, \"html.parser\")"
   ]
  },
  {
   "cell_type": "code",
   "execution_count": null,
   "id": "ceb681f2",
   "metadata": {},
   "outputs": [],
   "source": [
    "song_albums = []\n",
    "album_names = []\n",
    "\n",
    "for link in soup_artist.find_all(href=re.compile('/album')):\n",
    "    song_albums.append(link.get('href'))\n",
    "    album_names.append(link.get_text())"
   ]
  },
  {
   "cell_type": "code",
   "execution_count": null,
   "id": "b4177f33",
   "metadata": {
    "scrolled": true
   },
   "outputs": [],
   "source": [
    "page_album = []\n",
    "url = 0\n",
    "\n",
    "for i in song_albums:\n",
    "    page_album.append(requests.get(f'https://www.lyrics.com{song_albums[url]}'))\n",
    "    url += 1"
   ]
  },
  {
   "cell_type": "code",
   "execution_count": null,
   "id": "40b8b777",
   "metadata": {},
   "outputs": [],
   "source": [
    "soup_album = []\n",
    "page = 0\n",
    "\n",
    "for i in page_album:\n",
    "    soup_album.append(BeautifulSoup(page_album[page].content, \"html.parser\"))\n",
    "    page += 1"
   ]
  },
  {
   "cell_type": "code",
   "execution_count": null,
   "id": "42cae92c",
   "metadata": {},
   "outputs": [],
   "source": [
    "lyrics = []\n",
    "\n",
    "for link in soup_album:\n",
    "    lyrics.append(link.find_all(href=re.compile('/lyric/[^\"]+')))"
   ]
  },
  {
   "cell_type": "code",
   "execution_count": null,
   "id": "afc855c6",
   "metadata": {
    "scrolled": true
   },
   "outputs": [],
   "source": [
    "lyrics_href = []\n",
    "lyrics_name = []\n",
    "i = 0\n",
    "\n",
    "for href in lyrics:\n",
    "    for hrefi in href:\n",
    "        lyrics_href.append(hrefi.get('href'))\n",
    "        lyrics_name.append(hrefi.get_text())\n",
    "# remove duplicate lyrics\n",
    "lyrics_href = list(dict.fromkeys(lyrics_href))\n",
    "lyrics_name = list(dict.fromkeys(lyrics_name))\n",
    "\n",
    "lyrics_href = lyrics_href[:150]\n",
    "lyrics_name = lyrics_name[:150]"
   ]
  },
  {
   "cell_type": "code",
   "execution_count": null,
   "id": "22bd0dd3",
   "metadata": {
    "scrolled": true
   },
   "outputs": [],
   "source": [
    "cd tupac/"
   ]
  },
  {
   "cell_type": "code",
   "execution_count": null,
   "id": "1ce80e17",
   "metadata": {
    "scrolled": true
   },
   "outputs": [],
   "source": [
    "j = 0\n",
    "\n",
    "for i in lyrics_href:\n",
    "    URL_lyric = f'https://www.lyrics.com{i}'\n",
    "    page_lyric = requests.get(URL_lyric)\n",
    "    soup_lyric = BeautifulSoup(page_lyric.content, \"html.parser\")\n",
    "    soup_lyric = soup_lyric.find(id=\"lyric-body-text\")\n",
    "    soup_lyric = soup_lyric.get_text()\n",
    "    \n",
    "    with open (f'Tupac_{lyrics_name[j]}.txt', 'w') as f:\n",
    "        soup_lyric = f.write(soup_lyric)\n",
    "        j += 1"
   ]
  },
  {
   "cell_type": "code",
   "execution_count": 2,
   "id": "6b54635f",
   "metadata": {},
   "outputs": [
    {
     "name": "stdout",
     "output_type": "stream",
     "text": [
      "/Users/oguzhanbekar/OneDrive/Spiced/euclidean-eukalyptus-student-code/03_week/project/tupac\n"
     ]
    }
   ],
   "source": [
    "cd tupac/"
   ]
  },
  {
   "cell_type": "code",
   "execution_count": 3,
   "id": "14db62b6",
   "metadata": {},
   "outputs": [],
   "source": [
    "lyrics_text = []\n",
    "artist_name = []\n",
    "\n",
    "for fn in os.listdir():\n",
    "    try:\n",
    "        text = open(fn).read()\n",
    "        lyrics_text.append(text.replace('\\n', ' ').replace('\\r', ''))\n",
    "# .lower().replace('tupac','').replace('2pac','').replace('pac','').replace('biggie','').replace('big','').replace('b.i.g',''))\n",
    "        artist_name.append(fn.split(sep='_')[0])\n",
    "    except:\n",
    "        pass\n",
    "    \n",
    "lyrics = pd.DataFrame({'artist':artist_name,'lyric':lyrics_text})"
   ]
  },
  {
   "cell_type": "code",
   "execution_count": 4,
   "id": "de64cac4",
   "metadata": {},
   "outputs": [],
   "source": [
    "tokenizer = TreebankWordTokenizer()\n",
    "lemmatizer = WordNetLemmatizer()\n",
    "i=0\n",
    "\n",
    "for doc in lyrics['lyric']:\n",
    "    tokens = tokenizer.tokenize(text=doc)\n",
    "    clean_doc = \" \".join(lemmatizer.lemmatize(token) for token in tokens)\n",
    "    lyrics['lyric'][i] = clean_doc\n",
    "    i+=1"
   ]
  },
  {
   "cell_type": "code",
   "execution_count": 5,
   "id": "250d820a",
   "metadata": {},
   "outputs": [],
   "source": [
    "X_train,X_test,y_train,y_test = train_test_split(lyrics['lyric'], lyrics['artist'], test_size=0.2)"
   ]
  },
  {
   "cell_type": "code",
   "execution_count": 6,
   "id": "e97ead08",
   "metadata": {
    "scrolled": false
   },
   "outputs": [
    {
     "data": {
      "text/plain": [
       "((227,), (57,), (227,), (57,))"
      ]
     },
     "execution_count": 6,
     "metadata": {},
     "output_type": "execute_result"
    }
   ],
   "source": [
    "X_train.shape,X_test.shape,y_train.shape,y_test.shape"
   ]
  },
  {
   "cell_type": "code",
   "execution_count": 7,
   "id": "3761f202",
   "metadata": {},
   "outputs": [
    {
     "data": {
      "text/plain": [
       "MultinomialNB()"
      ]
     },
     "execution_count": 7,
     "metadata": {},
     "output_type": "execute_result"
    }
   ],
   "source": [
    "vectorizer = TfidfVectorizer(max_df=0.8,stop_words='english',lowercase=True)\n",
    "X_train = vectorizer.fit_transform(X_train)\n",
    "X_train_df = pd.DataFrame(X_train.todense(), columns=vectorizer.get_feature_names(), index=y_train)\n",
    "clf = MultinomialNB()\n",
    "clf.fit(X_train, y_train)"
   ]
  },
  {
   "cell_type": "code",
   "execution_count": 8,
   "id": "c8d8d83b",
   "metadata": {
    "scrolled": true
   },
   "outputs": [
    {
     "data": {
      "text/plain": [
       "0.9691629955947136"
      ]
     },
     "execution_count": 8,
     "metadata": {},
     "output_type": "execute_result"
    }
   ],
   "source": [
    "clf.score(X_train,y_train)"
   ]
  },
  {
   "cell_type": "code",
   "execution_count": null,
   "id": "22bc2a80",
   "metadata": {},
   "outputs": [],
   "source": [
    "# vectors_test2 = vectorizer.transform(Xtesting)\n",
    "# predtesting = clf.predict(vectors_test2)\n",
    "# # clf.score(vectors_test2,predtesting)\n",
    "# predtesting"
   ]
  },
  {
   "cell_type": "code",
   "execution_count": null,
   "id": "bf842468",
   "metadata": {},
   "outputs": [],
   "source": [
    "ycontrol = pd.DataFrame({'test':y_test,'preds':pred,'controls':y_test == pred})"
   ]
  },
  {
   "cell_type": "code",
   "execution_count": 9,
   "id": "f0a817b9",
   "metadata": {},
   "outputs": [
    {
     "data": {
      "text/plain": [
       "0.6842105263157895"
      ]
     },
     "execution_count": 9,
     "metadata": {},
     "output_type": "execute_result"
    }
   ],
   "source": [
    "vectors_test = vectorizer.transform(X_test)\n",
    "pred = clf.predict(vectors_test)\n",
    "# pred,\n",
    "clf.score(vectors_test,y_test)\n"
   ]
  },
  {
   "cell_type": "code",
   "execution_count": null,
   "id": "9ff5f147",
   "metadata": {},
   "outputs": [],
   "source": []
  },
  {
   "cell_type": "code",
   "execution_count": null,
   "id": "7870d06b",
   "metadata": {},
   "outputs": [],
   "source": []
  }
 ],
 "metadata": {
  "kernelspec": {
   "display_name": "Python 3",
   "language": "python",
   "name": "python3"
  },
  "language_info": {
   "codemirror_mode": {
    "name": "ipython",
    "version": 3
   },
   "file_extension": ".py",
   "mimetype": "text/x-python",
   "name": "python",
   "nbconvert_exporter": "python",
   "pygments_lexer": "ipython3",
   "version": "3.8.8"
  }
 },
 "nbformat": 4,
 "nbformat_minor": 5
}
