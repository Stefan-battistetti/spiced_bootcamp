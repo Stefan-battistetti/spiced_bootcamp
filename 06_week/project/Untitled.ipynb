{
 "cells": [
  {
   "cell_type": "code",
   "execution_count": 3,
   "id": "822d179b",
   "metadata": {},
   "outputs": [],
   "source": [
    "# pip install pyjokes\n",
    "import pyjokes\n",
    "import requests\n",
    "\n",
    "\n",
    "joke = pyjokes.get_joke()\n",
    "\n",
    "data = {'text': joke}\n",
    "# requests.post(url=webhook_url, json = data)"
   ]
  },
  {
   "cell_type": "code",
   "execution_count": 5,
   "id": "7b036024",
   "metadata": {},
   "outputs": [
    {
     "data": {
      "text/plain": [
       "str"
      ]
     },
     "execution_count": 5,
     "metadata": {},
     "output_type": "execute_result"
    }
   ],
   "source": [
    "type(joke)"
   ]
  },
  {
   "cell_type": "code",
   "execution_count": 7,
   "id": "972530ab",
   "metadata": {},
   "outputs": [
    {
     "data": {
      "text/plain": [
       "dict"
      ]
     },
     "execution_count": 7,
     "metadata": {},
     "output_type": "execute_result"
    }
   ],
   "source": [
    "type(data)Ω"
   ]
  },
  {
   "cell_type": "code",
   "execution_count": null,
   "id": "2f2ed868",
   "metadata": {},
   "outputs": [],
   "source": []
  }
 ],
 "metadata": {
  "kernelspec": {
   "display_name": "Python 3.8.8 64-bit ('base': conda)",
   "language": "python",
   "name": "python388jvsc74a57bd0c76f8804dd022981786944f286593bef7aa3f26a502143004d39671b94a5867d"
  },
  "language_info": {
   "codemirror_mode": {
    "name": "ipython",
    "version": 3
   },
   "file_extension": ".py",
   "mimetype": "text/x-python",
   "name": "python",
   "nbconvert_exporter": "python",
   "pygments_lexer": "ipython3",
   "version": "3.8.8"
  }
 },
 "nbformat": 4,
 "nbformat_minor": 5
}
