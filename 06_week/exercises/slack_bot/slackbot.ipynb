{
 "cells": [
  {
   "cell_type": "code",
   "execution_count": 1,
   "metadata": {},
   "outputs": [
    {
     "name": "stdout",
     "output_type": "stream",
     "text": [
      "Collecting pyjokes\n",
      "  Downloading pyjokes-0.6.0-py2.py3-none-any.whl (26 kB)\n",
      "Installing collected packages: pyjokes\n",
      "Successfully installed pyjokes-0.6.0\n",
      "Note: you may need to restart the kernel to use updated packages.\n"
     ]
    }
   ],
   "source": [
    "#pip install pyjokes"
   ]
  },
  {
   "cell_type": "code",
   "execution_count": 13,
   "metadata": {},
   "outputs": [],
   "source": [
    "import os\n",
    "import pyjokes\n",
    "import requests\n",
    "from faker import Faker\n",
    "import random"
   ]
  },
  {
   "cell_type": "code",
   "execution_count": null,
   "metadata": {},
   "outputs": [],
   "source": [
    "webhook_url = \"\""
   ]
  },
  {
   "cell_type": "markdown",
   "metadata": {},
   "source": [
    "pyjokes example"
   ]
  },
  {
   "cell_type": "code",
   "execution_count": null,
   "metadata": {},
   "outputs": [],
   "source": [
    "joke = pyjokes.get_joke()"
   ]
  },
  {
   "cell_type": "code",
   "execution_count": null,
   "metadata": {},
   "outputs": [],
   "source": [
    "data = {'text': joke}\n",
    "requests.post(url=webhook_url, json=data)"
   ]
  },
  {
   "cell_type": "markdown",
   "metadata": {},
   "source": [
    "faker example"
   ]
  },
  {
   "cell_type": "code",
   "execution_count": 14,
   "metadata": {},
   "outputs": [],
   "source": [
    "locales = ['de_DE', 'en_GB', 'en_US', 'es_ES', 'fr_FR', 'it_IT', 'pl_PL', 'ru_RU', ]"
   ]
  },
  {
   "cell_type": "code",
   "execution_count": 15,
   "metadata": {},
   "outputs": [],
   "source": [
    "fake = Faker(locale=random.choice(locales))\n",
    "address = fake.address().replace(\"\\n\", \", \")"
   ]
  },
  {
   "cell_type": "code",
   "execution_count": 16,
   "metadata": {},
   "outputs": [],
   "source": [
    "text = f'Hi fellow humans! I am a new Spiced student! '\n",
    "text += f'My name is {fake.name()} and I come from {fake.city()}. '\n",
    "text += f'I currently live at `{address}`. '\n",
    "text += 'Please do not go to my house, though. '\n",
    "text += f'Anyways nice to meet you! My favorite color is *{fake.color_name()}*. What is your favorite color? '\n",
    "text += f'As you can tell, I am a real person and I look forward to becoming friends. '\n",
    "text += f'You can send me your bank details at {fake.ascii_company_email()}'"
   ]
  },
  {
   "cell_type": "code",
   "execution_count": 17,
   "metadata": {},
   "outputs": [
    {
     "data": {
      "text/plain": [
       "'Hi fellow humans! I am a new Spiced student! My name is Sara Junitz B.Sc. and I come from Viersen. I currently live at `Almut-Pechel-Ring 47, 29918 Kamenz`. Please do not go to my house, though. Anyways nice to meet you! My favorite color is *MistyRose*. What is your favorite color? As you can tell, I am a real person and I look forward to becoming friends. You can send me your bank details at abrahammende@scholl.de'"
      ]
     },
     "execution_count": 17,
     "metadata": {},
     "output_type": "execute_result"
    }
   ],
   "source": [
    "text"
   ]
  },
  {
   "cell_type": "code",
   "execution_count": 18,
   "metadata": {},
   "outputs": [
    {
     "data": {
      "text/plain": [
       "<Response [200]>"
      ]
     },
     "execution_count": 18,
     "metadata": {},
     "output_type": "execute_result"
    }
   ],
   "source": [
    "data = {'text': text}\n",
    "requests.post(url=webhook_url, json=data)"
   ]
  }
 ],
 "metadata": {
  "kernelspec": {
   "display_name": "Python 3.8.5 64-bit ('anaconda3': virtualenv)",
   "language": "python",
   "name": "python385jvsc74a57bd086a6e36cae497197777c70e82ebac18f44667011d85d4dfa35cc8da0e057b101"
  },
  "language_info": {
   "codemirror_mode": {
    "name": "ipython",
    "version": 3
   },
   "file_extension": ".py",
   "mimetype": "text/x-python",
   "name": "python",
   "nbconvert_exporter": "python",
   "pygments_lexer": "ipython3",
   "version": "3.8.5"
  }
 },
 "nbformat": 4,
 "nbformat_minor": 4
}
