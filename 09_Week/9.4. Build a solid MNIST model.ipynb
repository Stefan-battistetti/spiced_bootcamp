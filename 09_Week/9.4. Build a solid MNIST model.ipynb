{
 "cells": [
  {
   "cell_type": "code",
   "execution_count": 1,
   "metadata": {},
   "outputs": [],
   "source": [
    "from tensorflow.keras.datasets import mnist\n",
    "from matplotlib import pyplot as plt\n",
    "from tensorflow.keras.models import Sequential\n",
    "from tensorflow.keras.layers import Dense, Activation\n",
    "import numpy as np\n",
    "from tensorflow.keras import backend as K\n",
    "import tensorflow as tf\n",
    "from tensorflow.keras.utils import to_categorical\n",
    "import pandas as pd"
   ]
  },
  {
   "cell_type": "markdown",
   "metadata": {},
   "source": [
    "# Load 'fashion_mnist' data"
   ]
  },
  {
   "cell_type": "code",
   "execution_count": 2,
   "metadata": {},
   "outputs": [],
   "source": [
    "fashion_mnist = tf.keras.datasets.fashion_mnist\n",
    "\n",
    "(train_images, train_labels), (test_images, test_labels) = fashion_mnist.load_data()"
   ]
  },
  {
   "cell_type": "code",
   "execution_count": 3,
   "metadata": {},
   "outputs": [
    {
     "data": {
      "text/plain": [
       "((60000, 28, 28), (60000,), (10000, 28, 28), (10000,))"
      ]
     },
     "execution_count": 3,
     "metadata": {},
     "output_type": "execute_result"
    }
   ],
   "source": [
    "train_images.shape, train_labels.shape, test_images.shape, test_labels.shape"
   ]
  },
  {
   "cell_type": "markdown",
   "metadata": {},
   "source": [
    "# Scale the values to a range of 0 to 1 of both data sets"
   ]
  },
  {
   "cell_type": "code",
   "execution_count": 4,
   "metadata": {},
   "outputs": [],
   "source": [
    "train_images = train_images / 255.0\n",
    "test_images = test_images / 255.0"
   ]
  },
  {
   "cell_type": "markdown",
   "metadata": {},
   "source": [
    "# Flatten input data"
   ]
  },
  {
   "cell_type": "code",
   "execution_count": 5,
   "metadata": {},
   "outputs": [],
   "source": [
    "X_train = train_images.reshape(60000,-1)\n",
    "X_test = test_images.reshape(10000, -1)"
   ]
  },
  {
   "cell_type": "code",
   "execution_count": 6,
   "metadata": {},
   "outputs": [
    {
     "data": {
      "text/plain": [
       "((60000, 784), (10000, 784))"
      ]
     },
     "execution_count": 6,
     "metadata": {},
     "output_type": "execute_result"
    }
   ],
   "source": [
    "X_train.shape , X_test.shape"
   ]
  },
  {
   "cell_type": "markdown",
   "metadata": {},
   "source": [
    "# one-hot-encodes labels"
   ]
  },
  {
   "cell_type": "code",
   "execution_count": 7,
   "metadata": {},
   "outputs": [],
   "source": [
    "ytrain = to_categorical(train_labels)"
   ]
  },
  {
   "cell_type": "code",
   "execution_count": 8,
   "metadata": {},
   "outputs": [
    {
     "data": {
      "text/plain": [
       "(60000, 10)"
      ]
     },
     "execution_count": 8,
     "metadata": {},
     "output_type": "execute_result"
    }
   ],
   "source": [
    "ytrain.shape"
   ]
  },
  {
   "cell_type": "markdown",
   "metadata": {},
   "source": [
    "# Build the model"
   ]
  },
  {
   "cell_type": "code",
   "execution_count": 9,
   "metadata": {},
   "outputs": [],
   "source": [
    "K.clear_session()"
   ]
  },
  {
   "cell_type": "code",
   "execution_count": 10,
   "metadata": {},
   "outputs": [],
   "source": [
    "model_01 = Sequential([\n",
    "                    Dense(units=128, activation='relu', input_shape=X_train[0].shape),\n",
    "                    Dense(units=10, activation='softmax')\n",
    "])"
   ]
  },
  {
   "cell_type": "code",
   "execution_count": 11,
   "metadata": {},
   "outputs": [],
   "source": [
    "model_01.compile(\n",
    "            optimizer='adam',\n",
    "            loss= 'categorical_crossentropy',\n",
    "            metrics=['accuracy']\n",
    ")"
   ]
  },
  {
   "cell_type": "code",
   "execution_count": 12,
   "metadata": {},
   "outputs": [
    {
     "name": "stdout",
     "output_type": "stream",
     "text": [
      "Model: \"sequential\"\n",
      "_________________________________________________________________\n",
      "Layer (type)                 Output Shape              Param #   \n",
      "=================================================================\n",
      "dense (Dense)                (None, 128)               100480    \n",
      "_________________________________________________________________\n",
      "dense_1 (Dense)              (None, 10)                1290      \n",
      "=================================================================\n",
      "Total params: 101,770\n",
      "Trainable params: 101,770\n",
      "Non-trainable params: 0\n",
      "_________________________________________________________________\n"
     ]
    }
   ],
   "source": [
    "model_01.summary()"
   ]
  },
  {
   "cell_type": "code",
   "execution_count": 13,
   "metadata": {},
   "outputs": [
    {
     "name": "stdout",
     "output_type": "stream",
     "text": [
      "Epoch 1/30\n",
      "240/240 [==============================] - 3s 7ms/step - loss: 0.6286 - accuracy: 0.7907 - val_loss: 0.4712 - val_accuracy: 0.8391\n",
      "Epoch 2/30\n",
      "240/240 [==============================] - 1s 6ms/step - loss: 0.4424 - accuracy: 0.8467 - val_loss: 0.4176 - val_accuracy: 0.8577\n",
      "Epoch 3/30\n",
      "240/240 [==============================] - 1s 6ms/step - loss: 0.3936 - accuracy: 0.8629 - val_loss: 0.4037 - val_accuracy: 0.8560\n",
      "Epoch 4/30\n",
      "240/240 [==============================] - 1s 6ms/step - loss: 0.3703 - accuracy: 0.8699 - val_loss: 0.3692 - val_accuracy: 0.8703\n",
      "Epoch 5/30\n",
      "240/240 [==============================] - 2s 7ms/step - loss: 0.3498 - accuracy: 0.8758 - val_loss: 0.3548 - val_accuracy: 0.8745\n",
      "Epoch 6/30\n",
      "240/240 [==============================] - 1s 6ms/step - loss: 0.3302 - accuracy: 0.8817 - val_loss: 0.3474 - val_accuracy: 0.8790\n",
      "Epoch 7/30\n",
      "240/240 [==============================] - 2s 7ms/step - loss: 0.3168 - accuracy: 0.8863 - val_loss: 0.3640 - val_accuracy: 0.8718\n",
      "Epoch 8/30\n",
      "240/240 [==============================] - 1s 4ms/step - loss: 0.3063 - accuracy: 0.8888 - val_loss: 0.3617 - val_accuracy: 0.8697\n",
      "Epoch 9/30\n",
      "240/240 [==============================] - 1s 6ms/step - loss: 0.2926 - accuracy: 0.8949 - val_loss: 0.3360 - val_accuracy: 0.8790\n",
      "Epoch 10/30\n",
      "240/240 [==============================] - 2s 7ms/step - loss: 0.2828 - accuracy: 0.8972 - val_loss: 0.3352 - val_accuracy: 0.8793\n",
      "Epoch 11/30\n",
      "240/240 [==============================] - 1s 4ms/step - loss: 0.2751 - accuracy: 0.9003 - val_loss: 0.3349 - val_accuracy: 0.8780\n",
      "Epoch 12/30\n",
      "240/240 [==============================] - 1s 6ms/step - loss: 0.2651 - accuracy: 0.9053 - val_loss: 0.3262 - val_accuracy: 0.8824\n",
      "Epoch 13/30\n",
      "240/240 [==============================] - 1s 5ms/step - loss: 0.2609 - accuracy: 0.9045 - val_loss: 0.3455 - val_accuracy: 0.8783\n",
      "Epoch 14/30\n",
      "240/240 [==============================] - 1s 6ms/step - loss: 0.2532 - accuracy: 0.9078 - val_loss: 0.3247 - val_accuracy: 0.8856\n",
      "Epoch 15/30\n",
      "240/240 [==============================] - 1s 6ms/step - loss: 0.2450 - accuracy: 0.9120 - val_loss: 0.3168 - val_accuracy: 0.8863\n",
      "Epoch 16/30\n",
      "240/240 [==============================] - 1s 6ms/step - loss: 0.2379 - accuracy: 0.9136 - val_loss: 0.3171 - val_accuracy: 0.8869\n",
      "Epoch 17/30\n",
      "240/240 [==============================] - 1s 5ms/step - loss: 0.2335 - accuracy: 0.9146 - val_loss: 0.3241 - val_accuracy: 0.8847\n",
      "Epoch 18/30\n",
      "240/240 [==============================] - 2s 7ms/step - loss: 0.2253 - accuracy: 0.9177 - val_loss: 0.3083 - val_accuracy: 0.8901\n",
      "Epoch 19/30\n",
      "240/240 [==============================] - 1s 6ms/step - loss: 0.2238 - accuracy: 0.9191 - val_loss: 0.3186 - val_accuracy: 0.8866\n",
      "Epoch 20/30\n",
      "240/240 [==============================] - 1s 6ms/step - loss: 0.2170 - accuracy: 0.9213 - val_loss: 0.3059 - val_accuracy: 0.8891\n",
      "Epoch 21/30\n",
      "240/240 [==============================] - 2s 6ms/step - loss: 0.2125 - accuracy: 0.9236 - val_loss: 0.3070 - val_accuracy: 0.8941\n",
      "Epoch 22/30\n",
      "240/240 [==============================] - 2s 7ms/step - loss: 0.2092 - accuracy: 0.9242 - val_loss: 0.3529 - val_accuracy: 0.8767\n",
      "Epoch 23/30\n",
      "240/240 [==============================] - 1s 6ms/step - loss: 0.2046 - accuracy: 0.9251 - val_loss: 0.3192 - val_accuracy: 0.8890\n",
      "Epoch 24/30\n",
      "240/240 [==============================] - 1s 6ms/step - loss: 0.1993 - accuracy: 0.9278 - val_loss: 0.3238 - val_accuracy: 0.8863\n",
      "Epoch 25/30\n",
      "240/240 [==============================] - 1s 6ms/step - loss: 0.1943 - accuracy: 0.9302 - val_loss: 0.3212 - val_accuracy: 0.8869\n",
      "Epoch 26/30\n",
      "240/240 [==============================] - 2s 7ms/step - loss: 0.1903 - accuracy: 0.9311 - val_loss: 0.3119 - val_accuracy: 0.8926\n",
      "Epoch 27/30\n",
      "240/240 [==============================] - 2s 6ms/step - loss: 0.1887 - accuracy: 0.9309 - val_loss: 0.3269 - val_accuracy: 0.8866\n",
      "Epoch 28/30\n",
      "240/240 [==============================] - 2s 7ms/step - loss: 0.1828 - accuracy: 0.9329 - val_loss: 0.3124 - val_accuracy: 0.8918\n",
      "Epoch 29/30\n",
      "240/240 [==============================] - 2s 7ms/step - loss: 0.1834 - accuracy: 0.9339 - val_loss: 0.3092 - val_accuracy: 0.8948\n",
      "Epoch 30/30\n",
      "240/240 [==============================] - 2s 7ms/step - loss: 0.1760 - accuracy: 0.9369 - val_loss: 0.3258 - val_accuracy: 0.8885\n"
     ]
    }
   ],
   "source": [
    "hist = model_01.fit(X_train,ytrain, batch_size=200, epochs=30, verbose='auto', validation_split=0.2)"
   ]
  },
  {
   "cell_type": "code",
   "execution_count": 14,
   "metadata": {},
   "outputs": [
    {
     "data": {
      "text/plain": [
       "Text(0.5, 0, 'Epochs')"
      ]
     },
     "execution_count": 14,
     "metadata": {},
     "output_type": "execute_result"
    },
    {
     "data": {
      "image/png": "[encoded data removed]",
      "text/plain": [
       "<Figure size 432x288 with 1 Axes>"
      ]
     },
     "metadata": {
      "needs_background": "light"
     },
     "output_type": "display_data"
    }
   ],
   "source": [
    "pd.DataFrame(hist.history).plot()\n",
    "plt.grid(True)\n",
    "plt.gca().set_ylim(0,1)\n",
    "plt.xlabel('Epochs')"
   ]
  },
  {
   "cell_type": "code",
   "execution_count": 15,
   "metadata": {},
   "outputs": [],
   "source": [
    "model_01.save('/Users/Disalo/SPICED/euclidean_eukalyptus/payam_work/Week_09/imageclassifier/models/Solid_MNIST_model.h5')"
   ]
  }
 ],
 "metadata": {
  "interpreter": {
   "hash": "4c5e7003d8d4ac2a02dc9677ea9835bb0061807716712328aa6609ab61169f6d"
  },
  "kernelspec": {
   "display_name": "Python 3.6.13 ('PS_NN')",
   "language": "python",
   "name": "python3"
  },
  "language_info": {
   "codemirror_mode": {
    "name": "ipython",
    "version": 3
   },
   "file_extension": ".py",
   "mimetype": "text/x-python",
   "name": "python",
   "nbconvert_exporter": "python",
   "pygments_lexer": "ipython3",
   "version": "3.6.13"
  },
  "orig_nbformat": 4
 },
 "nbformat": 4,
 "nbformat_minor": 2
}
