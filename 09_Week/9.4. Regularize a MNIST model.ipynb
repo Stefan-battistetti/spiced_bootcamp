{
 "cells": [
  {
   "cell_type": "code",
   "execution_count": 1,
   "metadata": {},
   "outputs": [],
   "source": [
    "from tensorflow.keras.datasets import mnist\n",
    "from matplotlib import pyplot as plt\n",
    "from tensorflow.keras.models import Sequential\n",
    "from tensorflow.keras.layers import Dense, Activation\n",
    "import numpy as np\n",
    "from tensorflow.keras import backend as K\n",
    "import tensorflow as tf\n",
    "from tensorflow.keras.utils import to_categorical\n",
    "import pandas as pd"
   ]
  },
  {
   "cell_type": "markdown",
   "metadata": {},
   "source": [
    "# Load 'fashion_mnist' data"
   ]
  },
  {
   "cell_type": "code",
   "execution_count": 2,
   "metadata": {},
   "outputs": [],
   "source": [
    "fashion_mnist = tf.keras.datasets.fashion_mnist\n",
    "\n",
    "(train_images, train_labels), (test_images, test_labels) = fashion_mnist.load_data()"
   ]
  },
  {
   "cell_type": "code",
   "execution_count": 3,
   "metadata": {},
   "outputs": [
    {
     "data": {
      "text/plain": [
       "((60000, 28, 28), (60000,), (10000, 28, 28), (10000,))"
      ]
     },
     "execution_count": 3,
     "metadata": {},
     "output_type": "execute_result"
    }
   ],
   "source": [
    "train_images.shape, train_labels.shape, test_images.shape, test_labels.shape"
   ]
  },
  {
   "cell_type": "markdown",
   "metadata": {},
   "source": [
    "# Scale the values to a range of 0 to 1 of both data sets"
   ]
  },
  {
   "cell_type": "code",
   "execution_count": 4,
   "metadata": {},
   "outputs": [],
   "source": [
    "train_images = train_images / 255.0\n",
    "test_images = test_images / 255.0"
   ]
  },
  {
   "cell_type": "markdown",
   "metadata": {},
   "source": [
    "# Flatten input data"
   ]
  },
  {
   "cell_type": "code",
   "execution_count": 5,
   "metadata": {},
   "outputs": [],
   "source": [
    "X_train = train_images.reshape(60000,-1)\n",
    "X_test = test_images.reshape(10000, -1)"
   ]
  },
  {
   "cell_type": "code",
   "execution_count": 6,
   "metadata": {},
   "outputs": [
    {
     "data": {
      "text/plain": [
       "((60000, 784), (10000, 784))"
      ]
     },
     "execution_count": 6,
     "metadata": {},
     "output_type": "execute_result"
    }
   ],
   "source": [
    "X_train.shape , X_test.shape"
   ]
  },
  {
   "cell_type": "markdown",
   "metadata": {},
   "source": [
    "# one-hot-encodes labels"
   ]
  },
  {
   "cell_type": "code",
   "execution_count": 7,
   "metadata": {},
   "outputs": [],
   "source": [
    "ytrain = to_categorical(train_labels)"
   ]
  },
  {
   "cell_type": "code",
   "execution_count": 8,
   "metadata": {},
   "outputs": [
    {
     "data": {
      "text/plain": [
       "(60000, 10)"
      ]
     },
     "execution_count": 8,
     "metadata": {},
     "output_type": "execute_result"
    }
   ],
   "source": [
    "ytrain.shape"
   ]
  },
  {
   "cell_type": "markdown",
   "metadata": {},
   "source": [
    "# Step 1"
   ]
  },
  {
   "cell_type": "code",
   "execution_count": 9,
   "metadata": {},
   "outputs": [],
   "source": [
    "K.clear_session()"
   ]
  },
  {
   "cell_type": "code",
   "execution_count": 10,
   "metadata": {},
   "outputs": [],
   "source": [
    "model = Sequential([\n",
    "                    Dense(units=25, activation='relu', input_shape=X_train[0].shape),\n",
    "                    Dense(units=25, activation='relu'),\n",
    "                    Dense(units=25, activation='relu'),\n",
    "                    Dense(units=25, activation='relu'),\n",
    "                    Dense(units=25, activation='relu'),\n",
    "                    Dense(units=10, activation='softmax')\n",
    "])"
   ]
  },
  {
   "cell_type": "markdown",
   "metadata": {},
   "source": [
    "# Step 2"
   ]
  },
  {
   "cell_type": "code",
   "execution_count": 11,
   "metadata": {},
   "outputs": [],
   "source": [
    "model.compile(\n",
    "            optimizer='adam',\n",
    "            loss= 'categorical_crossentropy',\n",
    "            metrics=['accuracy']\n",
    ")"
   ]
  },
  {
   "cell_type": "code",
   "execution_count": 12,
   "metadata": {},
   "outputs": [
    {
     "name": "stdout",
     "output_type": "stream",
     "text": [
      "Model: \"sequential\"\n",
      "_________________________________________________________________\n",
      "Layer (type)                 Output Shape              Param #   \n",
      "=================================================================\n",
      "dense (Dense)                (None, 25)                19625     \n",
      "_________________________________________________________________\n",
      "dense_1 (Dense)              (None, 25)                650       \n",
      "_________________________________________________________________\n",
      "dense_2 (Dense)              (None, 25)                650       \n",
      "_________________________________________________________________\n",
      "dense_3 (Dense)              (None, 25)                650       \n",
      "_________________________________________________________________\n",
      "dense_4 (Dense)              (None, 25)                650       \n",
      "_________________________________________________________________\n",
      "dense_5 (Dense)              (None, 10)                260       \n",
      "=================================================================\n",
      "Total params: 22,485\n",
      "Trainable params: 22,485\n",
      "Non-trainable params: 0\n",
      "_________________________________________________________________\n"
     ]
    }
   ],
   "source": [
    "model.summary()"
   ]
  },
  {
   "cell_type": "code",
   "execution_count": 13,
   "metadata": {},
   "outputs": [
    {
     "name": "stdout",
     "output_type": "stream",
     "text": [
      "Epoch 1/100\n",
      "96/96 [==============================] - 3s 12ms/step - loss: 1.3471 - accuracy: 0.4864 - val_loss: 0.7264 - val_accuracy: 0.7393\n",
      "Epoch 2/100\n",
      "96/96 [==============================] - 1s 8ms/step - loss: 0.6102 - accuracy: 0.7841 - val_loss: 0.5447 - val_accuracy: 0.8126\n",
      "Epoch 3/100\n",
      "96/96 [==============================] - 1s 10ms/step - loss: 0.5091 - accuracy: 0.8226 - val_loss: 0.4892 - val_accuracy: 0.8278\n",
      "Epoch 4/100\n",
      "96/96 [==============================] - 1s 8ms/step - loss: 0.4631 - accuracy: 0.8400 - val_loss: 0.4682 - val_accuracy: 0.8331\n",
      "Epoch 5/100\n",
      "96/96 [==============================] - 1s 9ms/step - loss: 0.4372 - accuracy: 0.8469 - val_loss: 0.4420 - val_accuracy: 0.8453\n",
      "Epoch 6/100\n",
      "96/96 [==============================] - 1s 9ms/step - loss: 0.4171 - accuracy: 0.8530 - val_loss: 0.4276 - val_accuracy: 0.8468\n",
      "Epoch 7/100\n",
      "96/96 [==============================] - 1s 8ms/step - loss: 0.4024 - accuracy: 0.8582 - val_loss: 0.4102 - val_accuracy: 0.8555\n",
      "Epoch 8/100\n",
      "96/96 [==============================] - 1s 8ms/step - loss: 0.3849 - accuracy: 0.8629 - val_loss: 0.4074 - val_accuracy: 0.8568\n",
      "Epoch 9/100\n",
      "96/96 [==============================] - 1s 7ms/step - loss: 0.3744 - accuracy: 0.8647 - val_loss: 0.4007 - val_accuracy: 0.8578\n",
      "Epoch 10/100\n",
      "96/96 [==============================] - 1s 8ms/step - loss: 0.3698 - accuracy: 0.8681 - val_loss: 0.3891 - val_accuracy: 0.8611\n",
      "Epoch 11/100\n",
      "96/96 [==============================] - 1s 6ms/step - loss: 0.3581 - accuracy: 0.8729 - val_loss: 0.3880 - val_accuracy: 0.8605\n",
      "Epoch 12/100\n",
      "96/96 [==============================] - 1s 7ms/step - loss: 0.3499 - accuracy: 0.8746 - val_loss: 0.3861 - val_accuracy: 0.8602\n",
      "Epoch 13/100\n",
      "96/96 [==============================] - 1s 6ms/step - loss: 0.3467 - accuracy: 0.8746 - val_loss: 0.4109 - val_accuracy: 0.8471\n",
      "Epoch 14/100\n",
      "96/96 [==============================] - 1s 8ms/step - loss: 0.3482 - accuracy: 0.8748 - val_loss: 0.4147 - val_accuracy: 0.8472\n",
      "Epoch 15/100\n",
      "96/96 [==============================] - 1s 6ms/step - loss: 0.3323 - accuracy: 0.8796 - val_loss: 0.3698 - val_accuracy: 0.8679\n",
      "Epoch 16/100\n",
      "96/96 [==============================] - 1s 6ms/step - loss: 0.3260 - accuracy: 0.8821 - val_loss: 0.3707 - val_accuracy: 0.8692\n",
      "Epoch 17/100\n",
      "96/96 [==============================] - 1s 7ms/step - loss: 0.3219 - accuracy: 0.8826 - val_loss: 0.3803 - val_accuracy: 0.8643\n",
      "Epoch 18/100\n",
      "96/96 [==============================] - 1s 6ms/step - loss: 0.3180 - accuracy: 0.8834 - val_loss: 0.3686 - val_accuracy: 0.8707\n",
      "Epoch 19/100\n",
      "96/96 [==============================] - 1s 6ms/step - loss: 0.3159 - accuracy: 0.8851 - val_loss: 0.3639 - val_accuracy: 0.8725\n",
      "Epoch 20/100\n",
      "96/96 [==============================] - 1s 7ms/step - loss: 0.3076 - accuracy: 0.8876 - val_loss: 0.3689 - val_accuracy: 0.8704\n",
      "Epoch 21/100\n",
      "96/96 [==============================] - 1s 7ms/step - loss: 0.3069 - accuracy: 0.8881 - val_loss: 0.3583 - val_accuracy: 0.8746\n",
      "Epoch 22/100\n",
      "96/96 [==============================] - 1s 7ms/step - loss: 0.3006 - accuracy: 0.8901 - val_loss: 0.3598 - val_accuracy: 0.8719\n",
      "Epoch 23/100\n",
      "96/96 [==============================] - 1s 9ms/step - loss: 0.2989 - accuracy: 0.8896 - val_loss: 0.3601 - val_accuracy: 0.8726\n",
      "Epoch 24/100\n",
      "96/96 [==============================] - 1s 7ms/step - loss: 0.3012 - accuracy: 0.8889 - val_loss: 0.3847 - val_accuracy: 0.8606\n",
      "Epoch 25/100\n",
      "96/96 [==============================] - 1s 8ms/step - loss: 0.2941 - accuracy: 0.8928 - val_loss: 0.3623 - val_accuracy: 0.8716\n",
      "Epoch 26/100\n",
      "96/96 [==============================] - 1s 7ms/step - loss: 0.2938 - accuracy: 0.8907 - val_loss: 0.3600 - val_accuracy: 0.8742\n",
      "Epoch 27/100\n",
      "96/96 [==============================] - 1s 7ms/step - loss: 0.2867 - accuracy: 0.8954 - val_loss: 0.3713 - val_accuracy: 0.8704\n",
      "Epoch 28/100\n",
      "96/96 [==============================] - 1s 6ms/step - loss: 0.2841 - accuracy: 0.8956 - val_loss: 0.3586 - val_accuracy: 0.8733\n",
      "Epoch 29/100\n",
      "96/96 [==============================] - 1s 6ms/step - loss: 0.2804 - accuracy: 0.8968 - val_loss: 0.3651 - val_accuracy: 0.8712\n",
      "Epoch 30/100\n",
      "96/96 [==============================] - 1s 7ms/step - loss: 0.2786 - accuracy: 0.8979 - val_loss: 0.3630 - val_accuracy: 0.8731\n",
      "Epoch 31/100\n",
      "96/96 [==============================] - 1s 7ms/step - loss: 0.2752 - accuracy: 0.8980 - val_loss: 0.3629 - val_accuracy: 0.8746\n",
      "Epoch 32/100\n",
      "96/96 [==============================] - 1s 6ms/step - loss: 0.2758 - accuracy: 0.8982 - val_loss: 0.3576 - val_accuracy: 0.8753\n",
      "Epoch 33/100\n",
      "96/96 [==============================] - 1s 10ms/step - loss: 0.2704 - accuracy: 0.9006 - val_loss: 0.3874 - val_accuracy: 0.8620\n",
      "Epoch 34/100\n",
      "96/96 [==============================] - 1s 7ms/step - loss: 0.2713 - accuracy: 0.9000 - val_loss: 0.3680 - val_accuracy: 0.8731\n",
      "Epoch 35/100\n",
      "96/96 [==============================] - 1s 7ms/step - loss: 0.2700 - accuracy: 0.9000 - val_loss: 0.3664 - val_accuracy: 0.8742\n",
      "Epoch 36/100\n",
      "96/96 [==============================] - 1s 6ms/step - loss: 0.2663 - accuracy: 0.9010 - val_loss: 0.3607 - val_accuracy: 0.8737\n",
      "Epoch 37/100\n",
      "96/96 [==============================] - 1s 7ms/step - loss: 0.2651 - accuracy: 0.9009 - val_loss: 0.3550 - val_accuracy: 0.8767\n",
      "Epoch 38/100\n",
      "96/96 [==============================] - 1s 7ms/step - loss: 0.2642 - accuracy: 0.9019 - val_loss: 0.3787 - val_accuracy: 0.8701\n",
      "Epoch 39/100\n",
      "96/96 [==============================] - 1s 6ms/step - loss: 0.2567 - accuracy: 0.9050 - val_loss: 0.3626 - val_accuracy: 0.8775\n",
      "Epoch 40/100\n",
      "96/96 [==============================] - 1s 7ms/step - loss: 0.2534 - accuracy: 0.9072 - val_loss: 0.3702 - val_accuracy: 0.8745\n",
      "Epoch 41/100\n",
      "96/96 [==============================] - 1s 8ms/step - loss: 0.2556 - accuracy: 0.9052 - val_loss: 0.3674 - val_accuracy: 0.8724\n",
      "Epoch 42/100\n",
      "96/96 [==============================] - 1s 8ms/step - loss: 0.2564 - accuracy: 0.9052 - val_loss: 0.3617 - val_accuracy: 0.8750\n",
      "Epoch 43/100\n",
      "96/96 [==============================] - 1s 6ms/step - loss: 0.2502 - accuracy: 0.9078 - val_loss: 0.3681 - val_accuracy: 0.8775\n",
      "Epoch 44/100\n",
      "96/96 [==============================] - 1s 7ms/step - loss: 0.2476 - accuracy: 0.9088 - val_loss: 0.3828 - val_accuracy: 0.8727\n",
      "Epoch 45/100\n",
      "96/96 [==============================] - 1s 7ms/step - loss: 0.2479 - accuracy: 0.9086 - val_loss: 0.3853 - val_accuracy: 0.8725\n",
      "Epoch 46/100\n",
      "96/96 [==============================] - 1s 6ms/step - loss: 0.2591 - accuracy: 0.9032 - val_loss: 0.3670 - val_accuracy: 0.8752\n",
      "Epoch 47/100\n",
      "96/96 [==============================] - 1s 6ms/step - loss: 0.2458 - accuracy: 0.9097 - val_loss: 0.3746 - val_accuracy: 0.8748\n",
      "Epoch 48/100\n",
      "96/96 [==============================] - 1s 7ms/step - loss: 0.2426 - accuracy: 0.9095 - val_loss: 0.3666 - val_accuracy: 0.8754\n",
      "Epoch 49/100\n",
      "96/96 [==============================] - 1s 7ms/step - loss: 0.2388 - accuracy: 0.9124 - val_loss: 0.3755 - val_accuracy: 0.8731\n",
      "Epoch 50/100\n",
      "96/96 [==============================] - 1s 7ms/step - loss: 0.2363 - accuracy: 0.9121 - val_loss: 0.3726 - val_accuracy: 0.8738\n",
      "Epoch 51/100\n",
      "96/96 [==============================] - 1s 7ms/step - loss: 0.2376 - accuracy: 0.9117 - val_loss: 0.3678 - val_accuracy: 0.8733\n",
      "Epoch 52/100\n",
      "96/96 [==============================] - 1s 7ms/step - loss: 0.2362 - accuracy: 0.9132 - val_loss: 0.3842 - val_accuracy: 0.8737\n",
      "Epoch 53/100\n",
      "96/96 [==============================] - 1s 8ms/step - loss: 0.2365 - accuracy: 0.9127 - val_loss: 0.3660 - val_accuracy: 0.8778\n",
      "Epoch 54/100\n",
      "96/96 [==============================] - 1s 7ms/step - loss: 0.2307 - accuracy: 0.9148 - val_loss: 0.3760 - val_accuracy: 0.8752\n",
      "Epoch 55/100\n",
      "96/96 [==============================] - 1s 8ms/step - loss: 0.2310 - accuracy: 0.9143 - val_loss: 0.3850 - val_accuracy: 0.8742\n",
      "Epoch 56/100\n",
      "96/96 [==============================] - 1s 6ms/step - loss: 0.2318 - accuracy: 0.9138 - val_loss: 0.3781 - val_accuracy: 0.8778\n",
      "Epoch 57/100\n",
      "96/96 [==============================] - 1s 6ms/step - loss: 0.2316 - accuracy: 0.9146 - val_loss: 0.3834 - val_accuracy: 0.8744\n",
      "Epoch 58/100\n",
      "96/96 [==============================] - 1s 6ms/step - loss: 0.2290 - accuracy: 0.9147 - val_loss: 0.4016 - val_accuracy: 0.8721\n",
      "Epoch 59/100\n",
      "96/96 [==============================] - 1s 7ms/step - loss: 0.2263 - accuracy: 0.9155 - val_loss: 0.3869 - val_accuracy: 0.8739\n",
      "Epoch 60/100\n",
      "96/96 [==============================] - 1s 9ms/step - loss: 0.2269 - accuracy: 0.9148 - val_loss: 0.4006 - val_accuracy: 0.8720\n",
      "Epoch 61/100\n",
      "96/96 [==============================] - 1s 6ms/step - loss: 0.2216 - accuracy: 0.9182 - val_loss: 0.3831 - val_accuracy: 0.8772\n",
      "Epoch 62/100\n",
      "96/96 [==============================] - 1s 6ms/step - loss: 0.2211 - accuracy: 0.9183 - val_loss: 0.3874 - val_accuracy: 0.8742\n",
      "Epoch 63/100\n",
      "96/96 [==============================] - 1s 7ms/step - loss: 0.2241 - accuracy: 0.9167 - val_loss: 0.3897 - val_accuracy: 0.8759\n",
      "Epoch 64/100\n",
      "96/96 [==============================] - 1s 7ms/step - loss: 0.2183 - accuracy: 0.9208 - val_loss: 0.3983 - val_accuracy: 0.8737\n",
      "Epoch 65/100\n",
      "96/96 [==============================] - 1s 7ms/step - loss: 0.2204 - accuracy: 0.9184 - val_loss: 0.3979 - val_accuracy: 0.8743\n",
      "Epoch 66/100\n",
      "96/96 [==============================] - 1s 6ms/step - loss: 0.2127 - accuracy: 0.9220 - val_loss: 0.4021 - val_accuracy: 0.8736\n",
      "Epoch 67/100\n",
      "96/96 [==============================] - 1s 6ms/step - loss: 0.2108 - accuracy: 0.9226 - val_loss: 0.3930 - val_accuracy: 0.8768\n",
      "Epoch 68/100\n",
      "96/96 [==============================] - 1s 7ms/step - loss: 0.2146 - accuracy: 0.9206 - val_loss: 0.4298 - val_accuracy: 0.8698\n",
      "Epoch 69/100\n",
      "96/96 [==============================] - 1s 9ms/step - loss: 0.2141 - accuracy: 0.9212 - val_loss: 0.4036 - val_accuracy: 0.8767\n",
      "Epoch 70/100\n",
      "96/96 [==============================] - 1s 7ms/step - loss: 0.2138 - accuracy: 0.9211 - val_loss: 0.3953 - val_accuracy: 0.8747\n",
      "Epoch 71/100\n",
      "96/96 [==============================] - 1s 7ms/step - loss: 0.2091 - accuracy: 0.9228 - val_loss: 0.3997 - val_accuracy: 0.8757\n",
      "Epoch 72/100\n",
      "96/96 [==============================] - 1s 6ms/step - loss: 0.2116 - accuracy: 0.9214 - val_loss: 0.4062 - val_accuracy: 0.8737\n",
      "Epoch 73/100\n",
      "96/96 [==============================] - 1s 8ms/step - loss: 0.2066 - accuracy: 0.9247 - val_loss: 0.4313 - val_accuracy: 0.8685\n",
      "Epoch 74/100\n",
      "96/96 [==============================] - 1s 7ms/step - loss: 0.2039 - accuracy: 0.9249 - val_loss: 0.4135 - val_accuracy: 0.8747\n",
      "Epoch 75/100\n",
      "96/96 [==============================] - 1s 8ms/step - loss: 0.2089 - accuracy: 0.9231 - val_loss: 0.4245 - val_accuracy: 0.8734\n",
      "Epoch 76/100\n",
      "96/96 [==============================] - ETA: 0s - loss: 0.2072 - accuracy: 0.92 - 1s 7ms/step - loss: 0.2074 - accuracy: 0.9237 - val_loss: 0.4153 - val_accuracy: 0.8717\n",
      "Epoch 77/100\n",
      "96/96 [==============================] - 1s 6ms/step - loss: 0.2033 - accuracy: 0.9239 - val_loss: 0.4250 - val_accuracy: 0.8727\n",
      "Epoch 78/100\n",
      "96/96 [==============================] - 1s 6ms/step - loss: 0.2043 - accuracy: 0.9237 - val_loss: 0.4096 - val_accuracy: 0.8767\n",
      "Epoch 79/100\n",
      "96/96 [==============================] - 1s 7ms/step - loss: 0.2031 - accuracy: 0.9252 - val_loss: 0.4492 - val_accuracy: 0.8708\n",
      "Epoch 80/100\n",
      "96/96 [==============================] - 1s 7ms/step - loss: 0.2045 - accuracy: 0.9248 - val_loss: 0.4134 - val_accuracy: 0.8759\n",
      "Epoch 81/100\n",
      "96/96 [==============================] - 1s 7ms/step - loss: 0.2014 - accuracy: 0.9256 - val_loss: 0.4288 - val_accuracy: 0.8741\n",
      "Epoch 82/100\n",
      "96/96 [==============================] - 1s 7ms/step - loss: 0.1965 - accuracy: 0.9279 - val_loss: 0.4082 - val_accuracy: 0.8767\n",
      "Epoch 83/100\n",
      "96/96 [==============================] - 1s 6ms/step - loss: 0.1967 - accuracy: 0.9278 - val_loss: 0.4275 - val_accuracy: 0.8751\n",
      "Epoch 84/100\n",
      "96/96 [==============================] - 1s 8ms/step - loss: 0.1982 - accuracy: 0.9261 - val_loss: 0.4345 - val_accuracy: 0.8747\n",
      "Epoch 85/100\n",
      "96/96 [==============================] - 1s 7ms/step - loss: 0.1990 - accuracy: 0.9268 - val_loss: 0.4386 - val_accuracy: 0.8710\n",
      "Epoch 86/100\n",
      "96/96 [==============================] - 1s 7ms/step - loss: 0.1956 - accuracy: 0.9273 - val_loss: 0.4285 - val_accuracy: 0.8731\n",
      "Epoch 87/100\n",
      "96/96 [==============================] - 1s 7ms/step - loss: 0.1950 - accuracy: 0.9275 - val_loss: 0.4316 - val_accuracy: 0.8748\n",
      "Epoch 88/100\n",
      "96/96 [==============================] - 1s 8ms/step - loss: 0.1925 - accuracy: 0.9277 - val_loss: 0.4483 - val_accuracy: 0.8719\n",
      "Epoch 89/100\n",
      "96/96 [==============================] - 1s 8ms/step - loss: 0.1964 - accuracy: 0.9277 - val_loss: 0.4343 - val_accuracy: 0.8724\n",
      "Epoch 90/100\n",
      "96/96 [==============================] - 1s 6ms/step - loss: 0.1945 - accuracy: 0.9287 - val_loss: 0.4498 - val_accuracy: 0.8712\n",
      "Epoch 91/100\n",
      "96/96 [==============================] - 1s 7ms/step - loss: 0.1920 - accuracy: 0.9296 - val_loss: 0.4406 - val_accuracy: 0.8701\n",
      "Epoch 92/100\n",
      "96/96 [==============================] - 1s 6ms/step - loss: 0.1900 - accuracy: 0.9296 - val_loss: 0.4532 - val_accuracy: 0.8712\n",
      "Epoch 93/100\n",
      "96/96 [==============================] - 1s 8ms/step - loss: 0.1938 - accuracy: 0.9292 - val_loss: 0.4393 - val_accuracy: 0.8767\n",
      "Epoch 94/100\n",
      "96/96 [==============================] - 1s 7ms/step - loss: 0.1887 - accuracy: 0.9308 - val_loss: 0.4571 - val_accuracy: 0.8717\n",
      "Epoch 95/100\n",
      "96/96 [==============================] - 1s 7ms/step - loss: 0.1859 - accuracy: 0.9325 - val_loss: 0.4490 - val_accuracy: 0.8771\n",
      "Epoch 96/100\n",
      "96/96 [==============================] - 1s 6ms/step - loss: 0.1842 - accuracy: 0.9326 - val_loss: 0.4391 - val_accuracy: 0.8759\n",
      "Epoch 97/100\n",
      "96/96 [==============================] - 1s 7ms/step - loss: 0.1840 - accuracy: 0.9324 - val_loss: 0.4820 - val_accuracy: 0.8713\n",
      "Epoch 98/100\n",
      "96/96 [==============================] - 1s 7ms/step - loss: 0.1894 - accuracy: 0.9304 - val_loss: 0.4454 - val_accuracy: 0.8729\n",
      "Epoch 99/100\n",
      "96/96 [==============================] - 1s 8ms/step - loss: 0.1815 - accuracy: 0.9330 - val_loss: 0.4491 - val_accuracy: 0.8763\n",
      "Epoch 100/100\n",
      "96/96 [==============================] - 1s 6ms/step - loss: 0.1830 - accuracy: 0.9331 - val_loss: 0.4550 - val_accuracy: 0.8747\n"
     ]
    }
   ],
   "source": [
    "hist = model.fit(X_train,ytrain, batch_size=500, epochs=100, verbose='auto', validation_split=0.2)"
   ]
  },
  {
   "cell_type": "code",
   "execution_count": 14,
   "metadata": {},
   "outputs": [
    {
     "data": {
      "text/plain": [
       "Text(0.5, 0, 'Epochs')"
      ]
     },
     "execution_count": 14,
     "metadata": {},
     "output_type": "execute_result"
    },
    {
     "data": {
      "image/png": "[encoded data removed]",
      "text/plain": [
       "<Figure size 432x288 with 1 Axes>"
      ]
     },
     "metadata": {
      "needs_background": "light"
     },
     "output_type": "display_data"
    }
   ],
   "source": [
    "pd.DataFrame(hist.history).plot()\n",
    "plt.grid(True)\n",
    "plt.gca().set_ylim(0,1)\n",
    "plt.xlabel('Epochs')"
   ]
  },
  {
   "cell_type": "markdown",
   "metadata": {},
   "source": [
    "# Step 3"
   ]
  },
  {
   "cell_type": "code",
   "execution_count": 15,
   "metadata": {},
   "outputs": [],
   "source": [
    "K.clear_session()"
   ]
  },
  {
   "cell_type": "code",
   "execution_count": 16,
   "metadata": {},
   "outputs": [],
   "source": [
    "from tensorflow.keras.callbacks import EarlyStopping"
   ]
  },
  {
   "cell_type": "code",
   "execution_count": 17,
   "metadata": {},
   "outputs": [],
   "source": [
    "callback = EarlyStopping(monitor='val_loss', patience=3)"
   ]
  },
  {
   "cell_type": "code",
   "execution_count": 18,
   "metadata": {},
   "outputs": [
    {
     "name": "stdout",
     "output_type": "stream",
     "text": [
      "Epoch 1/100\n",
      "96/96 [==============================] - 1s 11ms/step - loss: 0.1816 - accuracy: 0.9328 - val_loss: 0.4582 - val_accuracy: 0.8728\n",
      "Epoch 2/100\n",
      "96/96 [==============================] - 1s 11ms/step - loss: 0.1823 - accuracy: 0.9326 - val_loss: 0.4628 - val_accuracy: 0.8717\n",
      "Epoch 3/100\n",
      "96/96 [==============================] - 2s 18ms/step - loss: 0.1777 - accuracy: 0.9353 - val_loss: 0.4652 - val_accuracy: 0.8708\n",
      "Epoch 4/100\n",
      "96/96 [==============================] - 1s 10ms/step - loss: 0.1887 - accuracy: 0.9302 - val_loss: 0.4609 - val_accuracy: 0.8743\n"
     ]
    }
   ],
   "source": [
    "hist_EarlyStopping = model.fit(X_train,ytrain, batch_size=500, epochs=100, callbacks=[callback], validation_split=0.2)"
   ]
  },
  {
   "cell_type": "markdown",
   "metadata": {},
   "source": [
    "##### It stops after 4 epochs"
   ]
  },
  {
   "cell_type": "markdown",
   "metadata": {},
   "source": [
    "# Step 4"
   ]
  },
  {
   "cell_type": "code",
   "execution_count": 19,
   "metadata": {},
   "outputs": [],
   "source": [
    "K.clear_session()"
   ]
  },
  {
   "cell_type": "code",
   "execution_count": 20,
   "metadata": {},
   "outputs": [],
   "source": [
    "from tensorflow.keras.layers import BatchNormalization"
   ]
  },
  {
   "cell_type": "code",
   "execution_count": 21,
   "metadata": {},
   "outputs": [],
   "source": [
    "model_Reg = Sequential()\n",
    "model_Reg.add(Dense(units=25, activation='relu',input_shape=X_train[0].shape))\n",
    "model_Reg.add(BatchNormalization())\n",
    "model_Reg.add(Dense(units=25, activation='relu'))\n",
    "model_Reg.add(BatchNormalization())\n",
    "model_Reg.add(Dense(units=25, activation='relu'))\n",
    "model_Reg.add(BatchNormalization())\n",
    "model_Reg.add(Dense(units=25, activation='relu'))\n",
    "model_Reg.add(BatchNormalization())\n",
    "model_Reg.add(Dense(units=25, activation='relu'))\n",
    "model_Reg.add(BatchNormalization())\n",
    "model_Reg.add(Dense(units=10, activation='softmax'))"
   ]
  },
  {
   "cell_type": "code",
   "execution_count": 22,
   "metadata": {},
   "outputs": [],
   "source": [
    "model_Reg.compile(\n",
    "            optimizer='adam',\n",
    "            loss= 'categorical_crossentropy',\n",
    "            metrics=['accuracy']\n",
    ")"
   ]
  },
  {
   "cell_type": "code",
   "execution_count": 23,
   "metadata": {},
   "outputs": [
    {
     "name": "stdout",
     "output_type": "stream",
     "text": [
      "Epoch 1/100\n",
      "96/96 [==============================] - 6s 18ms/step - loss: 1.1893 - accuracy: 0.6318 - val_loss: 1.5344 - val_accuracy: 0.6394\n",
      "Epoch 2/100\n",
      "96/96 [==============================] - 1s 9ms/step - loss: 0.5778 - accuracy: 0.8051 - val_loss: 0.7716 - val_accuracy: 0.7859\n",
      "Epoch 3/100\n",
      "96/96 [==============================] - 1s 12ms/step - loss: 0.4660 - accuracy: 0.8401 - val_loss: 0.4924 - val_accuracy: 0.8349\n",
      "Epoch 4/100\n",
      "96/96 [==============================] - 2s 16ms/step - loss: 0.4137 - accuracy: 0.8567 - val_loss: 0.4360 - val_accuracy: 0.8494\n",
      "Epoch 5/100\n",
      "96/96 [==============================] - 1s 15ms/step - loss: 0.3871 - accuracy: 0.8662 - val_loss: 0.4115 - val_accuracy: 0.8529\n",
      "Epoch 6/100\n",
      "96/96 [==============================] - 1s 15ms/step - loss: 0.3710 - accuracy: 0.8700 - val_loss: 0.4306 - val_accuracy: 0.8487\n",
      "Epoch 7/100\n",
      "96/96 [==============================] - 1s 15ms/step - loss: 0.3555 - accuracy: 0.8737 - val_loss: 0.3973 - val_accuracy: 0.8585\n",
      "Epoch 8/100\n",
      "96/96 [==============================] - 1s 13ms/step - loss: 0.3425 - accuracy: 0.8785 - val_loss: 0.3999 - val_accuracy: 0.8550\n",
      "Epoch 9/100\n",
      "96/96 [==============================] - 1s 12ms/step - loss: 0.3327 - accuracy: 0.8811 - val_loss: 0.3776 - val_accuracy: 0.8674\n",
      "Epoch 10/100\n",
      "96/96 [==============================] - 1s 13ms/step - loss: 0.3248 - accuracy: 0.8844 - val_loss: 0.3712 - val_accuracy: 0.8687\n",
      "Epoch 11/100\n",
      "96/96 [==============================] - 1s 11ms/step - loss: 0.3174 - accuracy: 0.8856 - val_loss: 0.3945 - val_accuracy: 0.8564\n",
      "Epoch 12/100\n",
      "96/96 [==============================] - 1s 12ms/step - loss: 0.3114 - accuracy: 0.8878 - val_loss: 0.3977 - val_accuracy: 0.8588\n",
      "Epoch 13/100\n",
      "96/96 [==============================] - 1s 9ms/step - loss: 0.3040 - accuracy: 0.8911 - val_loss: 0.3981 - val_accuracy: 0.8584\n",
      "Epoch 14/100\n",
      "96/96 [==============================] - 1s 10ms/step - loss: 0.3003 - accuracy: 0.8919 - val_loss: 0.3648 - val_accuracy: 0.8699\n",
      "Epoch 15/100\n",
      "96/96 [==============================] - 1s 13ms/step - loss: 0.2927 - accuracy: 0.8950 - val_loss: 0.4037 - val_accuracy: 0.8552\n",
      "Epoch 16/100\n",
      "96/96 [==============================] - 1s 15ms/step - loss: 0.2889 - accuracy: 0.8954 - val_loss: 0.3832 - val_accuracy: 0.8642\n",
      "Epoch 17/100\n",
      "96/96 [==============================] - 2s 16ms/step - loss: 0.2873 - accuracy: 0.8960 - val_loss: 0.3787 - val_accuracy: 0.8652\n",
      "Epoch 18/100\n",
      "96/96 [==============================] - 1s 13ms/step - loss: 0.2782 - accuracy: 0.8989 - val_loss: 0.3874 - val_accuracy: 0.8639\n",
      "Epoch 19/100\n",
      "96/96 [==============================] - 1s 16ms/step - loss: 0.2772 - accuracy: 0.8995 - val_loss: 0.3681 - val_accuracy: 0.8712\n",
      "Epoch 20/100\n",
      "96/96 [==============================] - 1s 13ms/step - loss: 0.2724 - accuracy: 0.9006 - val_loss: 0.4438 - val_accuracy: 0.8432\n",
      "Epoch 21/100\n",
      "96/96 [==============================] - 1s 14ms/step - loss: 0.2703 - accuracy: 0.9007 - val_loss: 0.3941 - val_accuracy: 0.8586\n",
      "Epoch 22/100\n",
      "96/96 [==============================] - 2s 16ms/step - loss: 0.2656 - accuracy: 0.9032 - val_loss: 0.3848 - val_accuracy: 0.8680\n",
      "Epoch 23/100\n",
      "96/96 [==============================] - 1s 15ms/step - loss: 0.2642 - accuracy: 0.9034 - val_loss: 0.3699 - val_accuracy: 0.8709\n",
      "Epoch 24/100\n",
      "96/96 [==============================] - 1s 13ms/step - loss: 0.2615 - accuracy: 0.9049 - val_loss: 0.3718 - val_accuracy: 0.8720\n",
      "Epoch 25/100\n",
      "96/96 [==============================] - 3s 27ms/step - loss: 0.2574 - accuracy: 0.9057 - val_loss: 0.3830 - val_accuracy: 0.8680\n",
      "Epoch 26/100\n",
      "96/96 [==============================] - 1s 13ms/step - loss: 0.2589 - accuracy: 0.9053 - val_loss: 0.3880 - val_accuracy: 0.8687\n",
      "Epoch 27/100\n",
      "96/96 [==============================] - 1s 11ms/step - loss: 0.2510 - accuracy: 0.9088 - val_loss: 0.4138 - val_accuracy: 0.8580\n",
      "Epoch 28/100\n",
      "96/96 [==============================] - 1s 9ms/step - loss: 0.2505 - accuracy: 0.9088 - val_loss: 0.3742 - val_accuracy: 0.8745\n",
      "Epoch 29/100\n",
      "96/96 [==============================] - 1s 9ms/step - loss: 0.2458 - accuracy: 0.9105 - val_loss: 0.3967 - val_accuracy: 0.8690\n",
      "Epoch 30/100\n",
      "96/96 [==============================] - 1s 12ms/step - loss: 0.2453 - accuracy: 0.9102 - val_loss: 0.3847 - val_accuracy: 0.8652\n",
      "Epoch 31/100\n",
      "96/96 [==============================] - 1s 10ms/step - loss: 0.2465 - accuracy: 0.9087 - val_loss: 0.3999 - val_accuracy: 0.8657\n",
      "Epoch 32/100\n",
      "96/96 [==============================] - 1s 12ms/step - loss: 0.2459 - accuracy: 0.9098 - val_loss: 0.4025 - val_accuracy: 0.8697\n",
      "Epoch 33/100\n",
      "96/96 [==============================] - 1s 13ms/step - loss: 0.2410 - accuracy: 0.9108 - val_loss: 0.3872 - val_accuracy: 0.8690\n",
      "Epoch 34/100\n",
      "96/96 [==============================] - 1s 9ms/step - loss: 0.2373 - accuracy: 0.9128 - val_loss: 0.3935 - val_accuracy: 0.8633\n",
      "Epoch 35/100\n",
      "96/96 [==============================] - 1s 9ms/step - loss: 0.2373 - accuracy: 0.9137 - val_loss: 0.3858 - val_accuracy: 0.8730\n",
      "Epoch 36/100\n",
      "96/96 [==============================] - 1s 10ms/step - loss: 0.2367 - accuracy: 0.9119 - val_loss: 0.4169 - val_accuracy: 0.8667\n",
      "Epoch 37/100\n",
      "96/96 [==============================] - 1s 12ms/step - loss: 0.2333 - accuracy: 0.9141 - val_loss: 0.3857 - val_accuracy: 0.8720\n",
      "Epoch 38/100\n",
      "96/96 [==============================] - 1s 13ms/step - loss: 0.2307 - accuracy: 0.9151 - val_loss: 0.4095 - val_accuracy: 0.8609\n",
      "Epoch 39/100\n",
      "96/96 [==============================] - 1s 9ms/step - loss: 0.2289 - accuracy: 0.9151 - val_loss: 0.3891 - val_accuracy: 0.8677\n",
      "Epoch 40/100\n",
      "96/96 [==============================] - 1s 9ms/step - loss: 0.2290 - accuracy: 0.9159 - val_loss: 0.4067 - val_accuracy: 0.8684\n",
      "Epoch 41/100\n",
      "96/96 [==============================] - 1s 10ms/step - loss: 0.2279 - accuracy: 0.9158 - val_loss: 0.4016 - val_accuracy: 0.8690\n",
      "Epoch 42/100\n",
      "96/96 [==============================] - 1s 10ms/step - loss: 0.2288 - accuracy: 0.9161 - val_loss: 0.4040 - val_accuracy: 0.8650\n",
      "Epoch 43/100\n",
      "96/96 [==============================] - 1s 9ms/step - loss: 0.2247 - accuracy: 0.9176 - val_loss: 0.4443 - val_accuracy: 0.8499\n",
      "Epoch 44/100\n",
      "96/96 [==============================] - 1s 10ms/step - loss: 0.2215 - accuracy: 0.9175 - val_loss: 0.4286 - val_accuracy: 0.8593\n",
      "Epoch 45/100\n",
      "96/96 [==============================] - 1s 11ms/step - loss: 0.2201 - accuracy: 0.9194 - val_loss: 0.4180 - val_accuracy: 0.8673\n",
      "Epoch 46/100\n",
      "96/96 [==============================] - 1s 10ms/step - loss: 0.2200 - accuracy: 0.9191 - val_loss: 0.4050 - val_accuracy: 0.8660\n",
      "Epoch 47/100\n",
      "96/96 [==============================] - 1s 11ms/step - loss: 0.2187 - accuracy: 0.9199 - val_loss: 0.4426 - val_accuracy: 0.8555\n",
      "Epoch 48/100\n",
      "96/96 [==============================] - 1s 10ms/step - loss: 0.2182 - accuracy: 0.9203 - val_loss: 0.4033 - val_accuracy: 0.8665\n",
      "Epoch 49/100\n",
      "96/96 [==============================] - 1s 12ms/step - loss: 0.2153 - accuracy: 0.9201 - val_loss: 0.4199 - val_accuracy: 0.8618\n",
      "Epoch 50/100\n",
      "96/96 [==============================] - 1s 11ms/step - loss: 0.2127 - accuracy: 0.9218 - val_loss: 0.4210 - val_accuracy: 0.8664\n",
      "Epoch 51/100\n",
      "96/96 [==============================] - 1s 10ms/step - loss: 0.2157 - accuracy: 0.9199 - val_loss: 0.4236 - val_accuracy: 0.8623\n",
      "Epoch 52/100\n",
      "96/96 [==============================] - 1s 9ms/step - loss: 0.2100 - accuracy: 0.9231 - val_loss: 0.4143 - val_accuracy: 0.8664\n",
      "Epoch 53/100\n",
      "96/96 [==============================] - 1s 10ms/step - loss: 0.2090 - accuracy: 0.9245 - val_loss: 0.4637 - val_accuracy: 0.8488\n",
      "Epoch 54/100\n",
      "96/96 [==============================] - 1s 10ms/step - loss: 0.2091 - accuracy: 0.9228 - val_loss: 0.4401 - val_accuracy: 0.8618\n",
      "Epoch 55/100\n",
      "96/96 [==============================] - 1s 10ms/step - loss: 0.2075 - accuracy: 0.9236 - val_loss: 0.4562 - val_accuracy: 0.8633\n",
      "Epoch 56/100\n",
      "96/96 [==============================] - 1s 10ms/step - loss: 0.2114 - accuracy: 0.9222 - val_loss: 0.4202 - val_accuracy: 0.8655\n",
      "Epoch 57/100\n",
      "96/96 [==============================] - 1s 9ms/step - loss: 0.2084 - accuracy: 0.9231 - val_loss: 0.4117 - val_accuracy: 0.8682\n",
      "Epoch 58/100\n",
      "96/96 [==============================] - 1s 8ms/step - loss: 0.2062 - accuracy: 0.9239 - val_loss: 0.4265 - val_accuracy: 0.8698\n",
      "Epoch 59/100\n",
      "96/96 [==============================] - 1s 9ms/step - loss: 0.2080 - accuracy: 0.9240 - val_loss: 0.4157 - val_accuracy: 0.8688\n",
      "Epoch 60/100\n",
      "96/96 [==============================] - 1s 8ms/step - loss: 0.2031 - accuracy: 0.9258 - val_loss: 0.4419 - val_accuracy: 0.8553\n",
      "Epoch 61/100\n",
      "96/96 [==============================] - 1s 8ms/step - loss: 0.2025 - accuracy: 0.9250 - val_loss: 0.4862 - val_accuracy: 0.8557\n",
      "Epoch 62/100\n",
      "96/96 [==============================] - 1s 7ms/step - loss: 0.2033 - accuracy: 0.9251 - val_loss: 0.4604 - val_accuracy: 0.8594\n",
      "Epoch 63/100\n",
      "96/96 [==============================] - 1s 7ms/step - loss: 0.2022 - accuracy: 0.9261 - val_loss: 0.4569 - val_accuracy: 0.8603\n",
      "Epoch 64/100\n",
      "96/96 [==============================] - 1s 7ms/step - loss: 0.2021 - accuracy: 0.9255 - val_loss: 0.4654 - val_accuracy: 0.8532\n",
      "Epoch 65/100\n",
      "96/96 [==============================] - 1s 7ms/step - loss: 0.1996 - accuracy: 0.9263 - val_loss: 0.4445 - val_accuracy: 0.8654\n",
      "Epoch 66/100\n",
      "96/96 [==============================] - 1s 7ms/step - loss: 0.2012 - accuracy: 0.9251 - val_loss: 0.4361 - val_accuracy: 0.8681\n",
      "Epoch 67/100\n",
      "96/96 [==============================] - 1s 7ms/step - loss: 0.1995 - accuracy: 0.9270 - val_loss: 0.4392 - val_accuracy: 0.8662\n",
      "Epoch 68/100\n",
      "96/96 [==============================] - 1s 7ms/step - loss: 0.1975 - accuracy: 0.9285 - val_loss: 0.4782 - val_accuracy: 0.8614\n",
      "Epoch 69/100\n",
      "96/96 [==============================] - 1s 7ms/step - loss: 0.1956 - accuracy: 0.9288 - val_loss: 0.4345 - val_accuracy: 0.8687\n",
      "Epoch 70/100\n",
      "96/96 [==============================] - 1s 8ms/step - loss: 0.1950 - accuracy: 0.9293 - val_loss: 0.4372 - val_accuracy: 0.8674\n",
      "Epoch 71/100\n",
      "96/96 [==============================] - 1s 9ms/step - loss: 0.1957 - accuracy: 0.9276 - val_loss: 0.4564 - val_accuracy: 0.8690\n",
      "Epoch 72/100\n",
      "96/96 [==============================] - 1s 8ms/step - loss: 0.1961 - accuracy: 0.9287 - val_loss: 0.4353 - val_accuracy: 0.8638\n",
      "Epoch 73/100\n",
      "96/96 [==============================] - 1s 8ms/step - loss: 0.1941 - accuracy: 0.9278 - val_loss: 0.4789 - val_accuracy: 0.8578\n",
      "Epoch 74/100\n",
      "96/96 [==============================] - 1s 8ms/step - loss: 0.1921 - accuracy: 0.9306 - val_loss: 0.4611 - val_accuracy: 0.8617\n",
      "Epoch 75/100\n",
      "96/96 [==============================] - 1s 8ms/step - loss: 0.1916 - accuracy: 0.9310 - val_loss: 0.4641 - val_accuracy: 0.8585\n",
      "Epoch 76/100\n",
      "96/96 [==============================] - 1s 9ms/step - loss: 0.1953 - accuracy: 0.9278 - val_loss: 0.4496 - val_accuracy: 0.8615\n",
      "Epoch 77/100\n",
      "96/96 [==============================] - 1s 8ms/step - loss: 0.1920 - accuracy: 0.9294 - val_loss: 0.4402 - val_accuracy: 0.8681\n",
      "Epoch 78/100\n",
      "96/96 [==============================] - 1s 10ms/step - loss: 0.1886 - accuracy: 0.9305 - val_loss: 0.4571 - val_accuracy: 0.8652\n",
      "Epoch 79/100\n",
      "96/96 [==============================] - 1s 9ms/step - loss: 0.1905 - accuracy: 0.9293 - val_loss: 0.4532 - val_accuracy: 0.8698\n",
      "Epoch 80/100\n",
      "96/96 [==============================] - 1s 7ms/step - loss: 0.1886 - accuracy: 0.9316 - val_loss: 0.5141 - val_accuracy: 0.8557\n",
      "Epoch 81/100\n",
      "96/96 [==============================] - 1s 8ms/step - loss: 0.1896 - accuracy: 0.9297 - val_loss: 0.4582 - val_accuracy: 0.8649\n",
      "Epoch 82/100\n",
      "96/96 [==============================] - 1s 9ms/step - loss: 0.1904 - accuracy: 0.9292 - val_loss: 0.4706 - val_accuracy: 0.8615\n",
      "Epoch 83/100\n",
      "96/96 [==============================] - 1s 7ms/step - loss: 0.1855 - accuracy: 0.9320 - val_loss: 0.5191 - val_accuracy: 0.8492\n",
      "Epoch 84/100\n",
      "96/96 [==============================] - 1s 7ms/step - loss: 0.1845 - accuracy: 0.9329 - val_loss: 0.4668 - val_accuracy: 0.8628\n",
      "Epoch 85/100\n",
      "96/96 [==============================] - 1s 7ms/step - loss: 0.1838 - accuracy: 0.9324 - val_loss: 0.4864 - val_accuracy: 0.8564\n",
      "Epoch 86/100\n",
      "96/96 [==============================] - 1s 7ms/step - loss: 0.1876 - accuracy: 0.9309 - val_loss: 0.4685 - val_accuracy: 0.8600\n",
      "Epoch 87/100\n",
      "96/96 [==============================] - 1s 7ms/step - loss: 0.1842 - accuracy: 0.9330 - val_loss: 0.4810 - val_accuracy: 0.8581\n",
      "Epoch 88/100\n",
      "96/96 [==============================] - 1s 7ms/step - loss: 0.1856 - accuracy: 0.9318 - val_loss: 0.4613 - val_accuracy: 0.8640\n",
      "Epoch 89/100\n",
      "96/96 [==============================] - 1s 7ms/step - loss: 0.1842 - accuracy: 0.9325 - val_loss: 0.4818 - val_accuracy: 0.8643\n",
      "Epoch 90/100\n",
      "96/96 [==============================] - 1s 7ms/step - loss: 0.1832 - accuracy: 0.9320 - val_loss: 0.4980 - val_accuracy: 0.8612\n",
      "Epoch 91/100\n",
      "96/96 [==============================] - 1s 7ms/step - loss: 0.1840 - accuracy: 0.9316 - val_loss: 0.4801 - val_accuracy: 0.8665\n",
      "Epoch 92/100\n",
      "96/96 [==============================] - 1s 7ms/step - loss: 0.1834 - accuracy: 0.9331 - val_loss: 0.4872 - val_accuracy: 0.8574\n",
      "Epoch 93/100\n",
      "96/96 [==============================] - 1s 7ms/step - loss: 0.1820 - accuracy: 0.9319 - val_loss: 0.4999 - val_accuracy: 0.8536\n",
      "Epoch 94/100\n",
      "96/96 [==============================] - 1s 7ms/step - loss: 0.1790 - accuracy: 0.9348 - val_loss: 0.4880 - val_accuracy: 0.8561\n",
      "Epoch 95/100\n",
      "96/96 [==============================] - 1s 7ms/step - loss: 0.1779 - accuracy: 0.9353 - val_loss: 0.4822 - val_accuracy: 0.8602\n",
      "Epoch 96/100\n",
      "96/96 [==============================] - 1s 8ms/step - loss: 0.1805 - accuracy: 0.9347 - val_loss: 0.4672 - val_accuracy: 0.8698\n",
      "Epoch 97/100\n",
      "96/96 [==============================] - 1s 7ms/step - loss: 0.1763 - accuracy: 0.9348 - val_loss: 0.4813 - val_accuracy: 0.8643\n",
      "Epoch 98/100\n",
      "96/96 [==============================] - 1s 7ms/step - loss: 0.1774 - accuracy: 0.9351 - val_loss: 0.4818 - val_accuracy: 0.8681\n",
      "Epoch 99/100\n",
      "96/96 [==============================] - 1s 7ms/step - loss: 0.1768 - accuracy: 0.9363 - val_loss: 0.4890 - val_accuracy: 0.8677\n",
      "Epoch 100/100\n",
      "96/96 [==============================] - 1s 7ms/step - loss: 0.1806 - accuracy: 0.9336 - val_loss: 0.5162 - val_accuracy: 0.8596\n"
     ]
    }
   ],
   "source": [
    "hist_Reg = model_Reg.fit(X_train,ytrain, batch_size=500, epochs=100, verbose='auto', validation_split=0.2)"
   ]
  },
  {
   "cell_type": "code",
   "execution_count": 24,
   "metadata": {},
   "outputs": [
    {
     "data": {
      "image/png": "[encoded data removed]",
      "text/plain": [
       "<Figure size 432x288 with 1 Axes>"
      ]
     },
     "metadata": {
      "needs_background": "light"
     },
     "output_type": "display_data"
    }
   ],
   "source": [
    "pd.DataFrame(hist_Reg.history).plot()\n",
    "plt.grid(True)\n",
    "plt.gca().set_ylim(0,1)\n",
    "plt.xlabel('hist_Reg')\n",
    "plt.show()"
   ]
  },
  {
   "cell_type": "markdown",
   "metadata": {},
   "source": [
    "# Step 5"
   ]
  },
  {
   "cell_type": "code",
   "execution_count": 25,
   "metadata": {},
   "outputs": [],
   "source": [
    "K.clear_session()"
   ]
  },
  {
   "cell_type": "code",
   "execution_count": 26,
   "metadata": {},
   "outputs": [],
   "source": [
    "from tensorflow.keras.layers import Dropout"
   ]
  },
  {
   "cell_type": "code",
   "execution_count": 27,
   "metadata": {},
   "outputs": [],
   "source": [
    "model_Reg_Dr = Sequential()\n",
    "model_Reg_Dr.add(Dense(units=25, activation='relu',input_shape=X_train[0].shape))\n",
    "model_Reg_Dr.add(Dropout(0.2))\n",
    "model_Reg_Dr.add(Dense(units=25, activation='relu'))\n",
    "model_Reg_Dr.add(Dropout(0.2))\n",
    "model_Reg_Dr.add(Dense(units=25, activation='relu'))\n",
    "model_Reg_Dr.add(Dropout(0.2))\n",
    "model_Reg_Dr.add(Dense(units=25, activation='relu'))\n",
    "model_Reg_Dr.add(Dropout(0.2))\n",
    "model_Reg_Dr.add(Dense(units=25, activation='relu'))\n",
    "model_Reg_Dr.add(Dropout(0.2))\n",
    "model_Reg_Dr.add(Dense(units=10, activation='softmax'))"
   ]
  },
  {
   "cell_type": "code",
   "execution_count": 28,
   "metadata": {},
   "outputs": [],
   "source": [
    "model_Reg_Dr.compile(\n",
    "            optimizer='adam',\n",
    "            loss= 'categorical_crossentropy',\n",
    "            metrics=['accuracy']\n",
    ")"
   ]
  },
  {
   "cell_type": "code",
   "execution_count": 29,
   "metadata": {},
   "outputs": [
    {
     "name": "stdout",
     "output_type": "stream",
     "text": [
      "Epoch 1/100\n",
      "96/96 [==============================] - 2s 9ms/step - loss: 1.9297 - accuracy: 0.2924 - val_loss: 1.2382 - val_accuracy: 0.5748\n",
      "Epoch 2/100\n",
      "96/96 [==============================] - 1s 7ms/step - loss: 1.2052 - accuracy: 0.5604 - val_loss: 0.7711 - val_accuracy: 0.7016\n",
      "Epoch 3/100\n",
      "96/96 [==============================] - 1s 6ms/step - loss: 0.9412 - accuracy: 0.6351 - val_loss: 0.6702 - val_accuracy: 0.7238\n",
      "Epoch 4/100\n",
      "96/96 [==============================] - 1s 6ms/step - loss: 0.8369 - accuracy: 0.6698 - val_loss: 0.6319 - val_accuracy: 0.7327\n",
      "Epoch 5/100\n",
      "96/96 [==============================] - 1s 6ms/step - loss: 0.7883 - accuracy: 0.6891 - val_loss: 0.6128 - val_accuracy: 0.7388\n",
      "Epoch 6/100\n",
      "96/96 [==============================] - 1s 6ms/step - loss: 0.7536 - accuracy: 0.6989 - val_loss: 0.5994 - val_accuracy: 0.7433\n",
      "Epoch 7/100\n",
      "96/96 [==============================] - 1s 6ms/step - loss: 0.7318 - accuracy: 0.7099 - val_loss: 0.5952 - val_accuracy: 0.7401\n",
      "Epoch 8/100\n",
      "96/96 [==============================] - 1s 6ms/step - loss: 0.7142 - accuracy: 0.7157 - val_loss: 0.5937 - val_accuracy: 0.7475\n",
      "Epoch 9/100\n",
      "96/96 [==============================] - 1s 6ms/step - loss: 0.6968 - accuracy: 0.7201 - val_loss: 0.5838 - val_accuracy: 0.7467\n",
      "Epoch 10/100\n",
      "96/96 [==============================] - 1s 6ms/step - loss: 0.6954 - accuracy: 0.7191 - val_loss: 0.5878 - val_accuracy: 0.7447\n",
      "Epoch 11/100\n",
      "96/96 [==============================] - 1s 7ms/step - loss: 0.6799 - accuracy: 0.7253 - val_loss: 0.5810 - val_accuracy: 0.7476\n",
      "Epoch 12/100\n",
      "96/96 [==============================] - 1s 7ms/step - loss: 0.6716 - accuracy: 0.7262 - val_loss: 0.5741 - val_accuracy: 0.7471\n",
      "Epoch 13/100\n",
      "96/96 [==============================] - 1s 6ms/step - loss: 0.6686 - accuracy: 0.7291 - val_loss: 0.5724 - val_accuracy: 0.7501\n",
      "Epoch 14/100\n",
      "96/96 [==============================] - 1s 10ms/step - loss: 0.6571 - accuracy: 0.7309 - val_loss: 0.5673 - val_accuracy: 0.7491\n",
      "Epoch 15/100\n",
      "96/96 [==============================] - 1s 11ms/step - loss: 0.6538 - accuracy: 0.7298 - val_loss: 0.5715 - val_accuracy: 0.7495\n",
      "Epoch 16/100\n",
      "96/96 [==============================] - 1s 12ms/step - loss: 0.6493 - accuracy: 0.7346 - val_loss: 0.5713 - val_accuracy: 0.7506\n",
      "Epoch 17/100\n",
      "96/96 [==============================] - 1s 9ms/step - loss: 0.6465 - accuracy: 0.7369 - val_loss: 0.5645 - val_accuracy: 0.7617\n",
      "Epoch 18/100\n",
      "96/96 [==============================] - 1s 9ms/step - loss: 0.6369 - accuracy: 0.7456 - val_loss: 0.5565 - val_accuracy: 0.7809\n",
      "Epoch 19/100\n",
      "96/96 [==============================] - 1s 8ms/step - loss: 0.6222 - accuracy: 0.7515 - val_loss: 0.5434 - val_accuracy: 0.7791\n",
      "Epoch 20/100\n",
      "96/96 [==============================] - 1s 8ms/step - loss: 0.6213 - accuracy: 0.7546 - val_loss: 0.5403 - val_accuracy: 0.7772\n",
      "Epoch 21/100\n",
      "96/96 [==============================] - 1s 8ms/step - loss: 0.6155 - accuracy: 0.7557 - val_loss: 0.5427 - val_accuracy: 0.7800\n",
      "Epoch 22/100\n",
      "96/96 [==============================] - 1s 8ms/step - loss: 0.6164 - accuracy: 0.7562 - val_loss: 0.5363 - val_accuracy: 0.7850\n",
      "Epoch 23/100\n",
      "96/96 [==============================] - 1s 7ms/step - loss: 0.6068 - accuracy: 0.7611 - val_loss: 0.5286 - val_accuracy: 0.7766\n",
      "Epoch 24/100\n",
      "96/96 [==============================] - 1s 8ms/step - loss: 0.6010 - accuracy: 0.7620 - val_loss: 0.5345 - val_accuracy: 0.7879\n",
      "Epoch 25/100\n",
      "96/96 [==============================] - 1s 9ms/step - loss: 0.6011 - accuracy: 0.7613 - val_loss: 0.5312 - val_accuracy: 0.7879\n",
      "Epoch 26/100\n",
      "96/96 [==============================] - 1s 11ms/step - loss: 0.5897 - accuracy: 0.7663 - val_loss: 0.5238 - val_accuracy: 0.7876\n",
      "Epoch 27/100\n",
      "96/96 [==============================] - 1s 9ms/step - loss: 0.5945 - accuracy: 0.7626 - val_loss: 0.5317 - val_accuracy: 0.7845\n",
      "Epoch 28/100\n",
      "96/96 [==============================] - 1s 9ms/step - loss: 0.5886 - accuracy: 0.7671 - val_loss: 0.5291 - val_accuracy: 0.7818\n",
      "Epoch 29/100\n",
      "96/96 [==============================] - 1s 10ms/step - loss: 0.5859 - accuracy: 0.7657 - val_loss: 0.5232 - val_accuracy: 0.7883\n",
      "Epoch 30/100\n",
      "96/96 [==============================] - 1s 8ms/step - loss: 0.5835 - accuracy: 0.7679 - val_loss: 0.5201 - val_accuracy: 0.7952\n",
      "Epoch 31/100\n",
      "96/96 [==============================] - 1s 9ms/step - loss: 0.5902 - accuracy: 0.7664 - val_loss: 0.5211 - val_accuracy: 0.7924\n",
      "Epoch 32/100\n",
      "96/96 [==============================] - 1s 10ms/step - loss: 0.5840 - accuracy: 0.7696 - val_loss: 0.5179 - val_accuracy: 0.7893\n",
      "Epoch 33/100\n",
      "96/96 [==============================] - 1s 11ms/step - loss: 0.5879 - accuracy: 0.7690 - val_loss: 0.5257 - val_accuracy: 0.7891\n",
      "Epoch 34/100\n",
      "96/96 [==============================] - 1s 9ms/step - loss: 0.5760 - accuracy: 0.7708 - val_loss: 0.5343 - val_accuracy: 0.7862\n",
      "Epoch 35/100\n",
      "96/96 [==============================] - 1s 11ms/step - loss: 0.5784 - accuracy: 0.7694 - val_loss: 0.5212 - val_accuracy: 0.7892\n",
      "Epoch 36/100\n",
      "96/96 [==============================] - 1s 11ms/step - loss: 0.5780 - accuracy: 0.7708 - val_loss: 0.5272 - val_accuracy: 0.7890\n",
      "Epoch 37/100\n",
      "96/96 [==============================] - 1s 10ms/step - loss: 0.5738 - accuracy: 0.7701 - val_loss: 0.5155 - val_accuracy: 0.7942\n",
      "Epoch 38/100\n",
      "96/96 [==============================] - 1s 9ms/step - loss: 0.5732 - accuracy: 0.7695 - val_loss: 0.5192 - val_accuracy: 0.7905\n",
      "Epoch 39/100\n",
      "96/96 [==============================] - 1s 10ms/step - loss: 0.5747 - accuracy: 0.7685 - val_loss: 0.5170 - val_accuracy: 0.7905\n",
      "Epoch 40/100\n",
      "96/96 [==============================] - 1s 9ms/step - loss: 0.5733 - accuracy: 0.7693 - val_loss: 0.5179 - val_accuracy: 0.7931\n",
      "Epoch 41/100\n",
      "96/96 [==============================] - 1s 11ms/step - loss: 0.5660 - accuracy: 0.7735 - val_loss: 0.5130 - val_accuracy: 0.7951\n",
      "Epoch 42/100\n",
      "96/96 [==============================] - 1s 10ms/step - loss: 0.5687 - accuracy: 0.7726 - val_loss: 0.5227 - val_accuracy: 0.7848\n",
      "Epoch 43/100\n",
      "96/96 [==============================] - 1s 12ms/step - loss: 0.5617 - accuracy: 0.7741 - val_loss: 0.5287 - val_accuracy: 0.7937\n",
      "Epoch 44/100\n",
      "96/96 [==============================] - 1s 9ms/step - loss: 0.5692 - accuracy: 0.7746 - val_loss: 0.5151 - val_accuracy: 0.7955\n",
      "Epoch 45/100\n",
      "96/96 [==============================] - 1s 12ms/step - loss: 0.5603 - accuracy: 0.7762 - val_loss: 0.5254 - val_accuracy: 0.7909\n",
      "Epoch 46/100\n",
      "96/96 [==============================] - 1s 15ms/step - loss: 0.5598 - accuracy: 0.7737 - val_loss: 0.5298 - val_accuracy: 0.7868\n",
      "Epoch 47/100\n",
      "96/96 [==============================] - 1s 9ms/step - loss: 0.5608 - accuracy: 0.7758 - val_loss: 0.5224 - val_accuracy: 0.7907\n",
      "Epoch 48/100\n",
      "96/96 [==============================] - 1s 14ms/step - loss: 0.5610 - accuracy: 0.7750 - val_loss: 0.5113 - val_accuracy: 0.7950\n",
      "Epoch 49/100\n",
      "96/96 [==============================] - 1s 8ms/step - loss: 0.5579 - accuracy: 0.7753 - val_loss: 0.5208 - val_accuracy: 0.7886\n",
      "Epoch 50/100\n",
      "96/96 [==============================] - 1s 10ms/step - loss: 0.5569 - accuracy: 0.7770 - val_loss: 0.5196 - val_accuracy: 0.7916\n",
      "Epoch 51/100\n",
      "96/96 [==============================] - 1s 11ms/step - loss: 0.5568 - accuracy: 0.7770 - val_loss: 0.5257 - val_accuracy: 0.7928\n",
      "Epoch 52/100\n",
      "96/96 [==============================] - 1s 9ms/step - loss: 0.5511 - accuracy: 0.7788 - val_loss: 0.5076 - val_accuracy: 0.7977\n",
      "Epoch 53/100\n",
      "96/96 [==============================] - 1s 9ms/step - loss: 0.5549 - accuracy: 0.7751 - val_loss: 0.5140 - val_accuracy: 0.7958\n",
      "Epoch 54/100\n",
      "96/96 [==============================] - 1s 11ms/step - loss: 0.5537 - accuracy: 0.7794 - val_loss: 0.5312 - val_accuracy: 0.7937\n",
      "Epoch 55/100\n",
      "96/96 [==============================] - 1s 12ms/step - loss: 0.5456 - accuracy: 0.7792 - val_loss: 0.5252 - val_accuracy: 0.7975\n",
      "Epoch 56/100\n",
      "96/96 [==============================] - 1s 10ms/step - loss: 0.5542 - accuracy: 0.7769 - val_loss: 0.5213 - val_accuracy: 0.7952\n",
      "Epoch 57/100\n",
      "96/96 [==============================] - 1s 10ms/step - loss: 0.5474 - accuracy: 0.7771 - val_loss: 0.5089 - val_accuracy: 0.7938\n",
      "Epoch 58/100\n",
      "96/96 [==============================] - 1s 9ms/step - loss: 0.5457 - accuracy: 0.7781 - val_loss: 0.5132 - val_accuracy: 0.7972\n",
      "Epoch 59/100\n",
      "96/96 [==============================] - 1s 11ms/step - loss: 0.5460 - accuracy: 0.7787 - val_loss: 0.5217 - val_accuracy: 0.7957\n",
      "Epoch 60/100\n",
      "96/96 [==============================] - 1s 12ms/step - loss: 0.5535 - accuracy: 0.7748 - val_loss: 0.5205 - val_accuracy: 0.7890\n",
      "Epoch 61/100\n",
      "96/96 [==============================] - 1s 12ms/step - loss: 0.5447 - accuracy: 0.7787 - val_loss: 0.5213 - val_accuracy: 0.7928\n",
      "Epoch 62/100\n",
      "96/96 [==============================] - 1s 9ms/step - loss: 0.5474 - accuracy: 0.7777 - val_loss: 0.5193 - val_accuracy: 0.7993\n",
      "Epoch 63/100\n",
      "96/96 [==============================] - 1s 11ms/step - loss: 0.5438 - accuracy: 0.7800 - val_loss: 0.5190 - val_accuracy: 0.7983\n",
      "Epoch 64/100\n",
      "96/96 [==============================] - 1s 9ms/step - loss: 0.5392 - accuracy: 0.7805 - val_loss: 0.5172 - val_accuracy: 0.7958\n",
      "Epoch 65/100\n",
      "96/96 [==============================] - 1s 9ms/step - loss: 0.5405 - accuracy: 0.7813 - val_loss: 0.5158 - val_accuracy: 0.7959\n",
      "Epoch 66/100\n",
      "96/96 [==============================] - 1s 13ms/step - loss: 0.5388 - accuracy: 0.7789 - val_loss: 0.5197 - val_accuracy: 0.7966\n",
      "Epoch 67/100\n",
      "96/96 [==============================] - 1s 12ms/step - loss: 0.5310 - accuracy: 0.7838 - val_loss: 0.5122 - val_accuracy: 0.7976\n",
      "Epoch 68/100\n",
      "96/96 [==============================] - 1s 12ms/step - loss: 0.5376 - accuracy: 0.7812 - val_loss: 0.5125 - val_accuracy: 0.7983\n",
      "Epoch 69/100\n",
      "96/96 [==============================] - 1s 12ms/step - loss: 0.5368 - accuracy: 0.7818 - val_loss: 0.5201 - val_accuracy: 0.7916\n",
      "Epoch 70/100\n",
      "96/96 [==============================] - 1s 13ms/step - loss: 0.5371 - accuracy: 0.7811 - val_loss: 0.5102 - val_accuracy: 0.7966\n",
      "Epoch 71/100\n",
      "96/96 [==============================] - 1s 12ms/step - loss: 0.5375 - accuracy: 0.7798 - val_loss: 0.5325 - val_accuracy: 0.7878\n",
      "Epoch 72/100\n",
      "96/96 [==============================] - 1s 12ms/step - loss: 0.5353 - accuracy: 0.7826 - val_loss: 0.5167 - val_accuracy: 0.7961\n",
      "Epoch 73/100\n",
      "96/96 [==============================] - 1s 9ms/step - loss: 0.5331 - accuracy: 0.7822 - val_loss: 0.5130 - val_accuracy: 0.7960\n",
      "Epoch 74/100\n",
      "96/96 [==============================] - 1s 8ms/step - loss: 0.5331 - accuracy: 0.7825 - val_loss: 0.5151 - val_accuracy: 0.7894\n",
      "Epoch 75/100\n",
      "96/96 [==============================] - 1s 9ms/step - loss: 0.5344 - accuracy: 0.7843 - val_loss: 0.5126 - val_accuracy: 0.8009\n",
      "Epoch 76/100\n",
      "96/96 [==============================] - 1s 11ms/step - loss: 0.5304 - accuracy: 0.7839 - val_loss: 0.5141 - val_accuracy: 0.7962\n",
      "Epoch 77/100\n",
      "96/96 [==============================] - 1s 9ms/step - loss: 0.5275 - accuracy: 0.7851 - val_loss: 0.5038 - val_accuracy: 0.8027\n",
      "Epoch 78/100\n",
      "96/96 [==============================] - 1s 9ms/step - loss: 0.5227 - accuracy: 0.7881 - val_loss: 0.5150 - val_accuracy: 0.8012\n",
      "Epoch 79/100\n",
      "96/96 [==============================] - 1s 10ms/step - loss: 0.5275 - accuracy: 0.7863 - val_loss: 0.5112 - val_accuracy: 0.7984\n",
      "Epoch 80/100\n",
      "96/96 [==============================] - 1s 11ms/step - loss: 0.5227 - accuracy: 0.7865 - val_loss: 0.5158 - val_accuracy: 0.7964\n",
      "Epoch 81/100\n",
      "96/96 [==============================] - 1s 12ms/step - loss: 0.5248 - accuracy: 0.7857 - val_loss: 0.5196 - val_accuracy: 0.7957\n",
      "Epoch 82/100\n",
      "96/96 [==============================] - 1s 13ms/step - loss: 0.5248 - accuracy: 0.7846 - val_loss: 0.5190 - val_accuracy: 0.7973\n",
      "Epoch 83/100\n",
      "96/96 [==============================] - 1s 10ms/step - loss: 0.5271 - accuracy: 0.7849 - val_loss: 0.5143 - val_accuracy: 0.7991\n",
      "Epoch 84/100\n",
      "96/96 [==============================] - 1s 12ms/step - loss: 0.5307 - accuracy: 0.7831 - val_loss: 0.5081 - val_accuracy: 0.8015\n",
      "Epoch 85/100\n",
      "96/96 [==============================] - 1s 13ms/step - loss: 0.5305 - accuracy: 0.7838 - val_loss: 0.5242 - val_accuracy: 0.7964\n",
      "Epoch 86/100\n",
      "96/96 [==============================] - 1s 11ms/step - loss: 0.5228 - accuracy: 0.7863 - val_loss: 0.5167 - val_accuracy: 0.7923\n",
      "Epoch 87/100\n",
      "96/96 [==============================] - 1s 15ms/step - loss: 0.5254 - accuracy: 0.7886 - val_loss: 0.5217 - val_accuracy: 0.8019\n",
      "Epoch 88/100\n",
      "96/96 [==============================] - 1s 9ms/step - loss: 0.5237 - accuracy: 0.7869 - val_loss: 0.5089 - val_accuracy: 0.8027\n",
      "Epoch 89/100\n",
      "96/96 [==============================] - 1s 10ms/step - loss: 0.5225 - accuracy: 0.7858 - val_loss: 0.5057 - val_accuracy: 0.7993\n",
      "Epoch 90/100\n",
      "96/96 [==============================] - 1s 11ms/step - loss: 0.5212 - accuracy: 0.7858 - val_loss: 0.5217 - val_accuracy: 0.7996\n",
      "Epoch 91/100\n",
      "96/96 [==============================] - 1s 9ms/step - loss: 0.5204 - accuracy: 0.7865 - val_loss: 0.5147 - val_accuracy: 0.7996\n",
      "Epoch 92/100\n",
      "96/96 [==============================] - 1s 11ms/step - loss: 0.5294 - accuracy: 0.7842 - val_loss: 0.5178 - val_accuracy: 0.8012\n",
      "Epoch 93/100\n",
      "96/96 [==============================] - 1s 10ms/step - loss: 0.5220 - accuracy: 0.7885 - val_loss: 0.5151 - val_accuracy: 0.7972\n",
      "Epoch 94/100\n",
      "96/96 [==============================] - 1s 9ms/step - loss: 0.5212 - accuracy: 0.7873 - val_loss: 0.5209 - val_accuracy: 0.8004\n",
      "Epoch 95/100\n",
      "96/96 [==============================] - 1s 11ms/step - loss: 0.5176 - accuracy: 0.7893 - val_loss: 0.5211 - val_accuracy: 0.7972\n",
      "Epoch 96/100\n",
      "96/96 [==============================] - 1s 11ms/step - loss: 0.5130 - accuracy: 0.7881 - val_loss: 0.5115 - val_accuracy: 0.8018\n",
      "Epoch 97/100\n",
      "96/96 [==============================] - 1s 10ms/step - loss: 0.5229 - accuracy: 0.7861 - val_loss: 0.5148 - val_accuracy: 0.8004\n",
      "Epoch 98/100\n",
      "96/96 [==============================] - 1s 8ms/step - loss: 0.5195 - accuracy: 0.7889 - val_loss: 0.5116 - val_accuracy: 0.8020\n",
      "Epoch 99/100\n",
      "96/96 [==============================] - 1s 11ms/step - loss: 0.5145 - accuracy: 0.7891 - val_loss: 0.5268 - val_accuracy: 0.7964\n",
      "Epoch 100/100\n",
      "96/96 [==============================] - 1s 13ms/step - loss: 0.5156 - accuracy: 0.7894 - val_loss: 0.5098 - val_accuracy: 0.7960\n"
     ]
    }
   ],
   "source": [
    "hist_Reg_Dr = model_Reg_Dr.fit(X_train,ytrain, batch_size=500, epochs=100, verbose='auto', validation_split=0.2)"
   ]
  },
  {
   "cell_type": "code",
   "execution_count": 30,
   "metadata": {},
   "outputs": [
    {
     "data": {
      "image/png": "[encoded data removed]",
      "text/plain": [
       "<Figure size 432x288 with 1 Axes>"
      ]
     },
     "metadata": {
      "needs_background": "light"
     },
     "output_type": "display_data"
    },
    {
     "data": {
      "image/png": "[encoded data removed]",
      "text/plain": [
       "<Figure size 432x288 with 1 Axes>"
      ]
     },
     "metadata": {
      "needs_background": "light"
     },
     "output_type": "display_data"
    },
    {
     "data": {
      "image/png": "[encoded data removed]",
      "text/plain": [
       "<Figure size 432x288 with 1 Axes>"
      ]
     },
     "metadata": {
      "needs_background": "light"
     },
     "output_type": "display_data"
    },
    {
     "data": {
      "image/png": "[encoded data removed]",
      "text/plain": [
       "<Figure size 432x288 with 1 Axes>"
      ]
     },
     "metadata": {
      "needs_background": "light"
     },
     "output_type": "display_data"
    }
   ],
   "source": [
    "history_list = [hist, hist_EarlyStopping, hist_Reg, hist_Reg_Dr]\n",
    "labels = ['hist', 'hist_EarlyStopping', 'hist_Reg', 'hist_Reg_Dr']\n",
    "for i in history_list:\n",
    "    pd.DataFrame(i.history).plot()\n",
    "    plt.grid(True)\n",
    "    plt.gca().set_ylim(0,1)\n",
    "    for j in labels:\n",
    "        plt.xlabel(j)"
   ]
  },
  {
   "cell_type": "code",
   "execution_count": 31,
   "metadata": {},
   "outputs": [],
   "source": [
    "model_Reg.save('/Users/Disalo/SPICED/euclidean_eukalyptus/payam_work/Week_09/imageclassifier/models/Solid_MNIST_Regularized with BatchNormalization_model.h5')"
   ]
  },
  {
   "cell_type": "code",
   "execution_count": 32,
   "metadata": {},
   "outputs": [],
   "source": [
    "model_Reg_Dr.save('/Users/Disalo/SPICED/euclidean_eukalyptus/payam_work/Week_09/imageclassifier/models/Solid_MNIST_Regularized with Dropout_model.h5')"
   ]
  },
  {
   "cell_type": "code",
   "execution_count": null,
   "metadata": {},
   "outputs": [],
   "source": []
  }
 ],
 "metadata": {
  "interpreter": {
   "hash": "4c5e7003d8d4ac2a02dc9677ea9835bb0061807716712328aa6609ab61169f6d"
  },
  "kernelspec": {
   "display_name": "Python 3.6.13 ('PS_NN')",
   "language": "python",
   "name": "python3"
  },
  "language_info": {
   "codemirror_mode": {
    "name": "ipython",
    "version": 3
   },
   "file_extension": ".py",
   "mimetype": "text/x-python",
   "name": "python",
   "nbconvert_exporter": "python",
   "pygments_lexer": "ipython3",
   "version": "3.6.13"
  },
  "orig_nbformat": 4
 },
 "nbformat": 4,
 "nbformat_minor": 2
}
