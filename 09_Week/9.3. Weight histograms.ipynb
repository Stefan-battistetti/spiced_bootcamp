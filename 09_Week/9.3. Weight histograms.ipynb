{
 "cells": [
  {
   "cell_type": "code",
   "execution_count": 1,
   "id": "047ec4c9",
   "metadata": {},
   "outputs": [],
   "source": [
    "from tensorflow.keras.datasets import mnist\n",
    "from matplotlib import pyplot as plt\n",
    "from tensorflow.keras.models import Sequential\n",
    "from tensorflow.keras.layers import Dense, Activation\n",
    "import numpy as np\n",
    "from tensorflow.keras import backend as K"
   ]
  },
  {
   "cell_type": "code",
   "execution_count": 2,
   "id": "a82c0f9d",
   "metadata": {},
   "outputs": [],
   "source": [
    "(xtrain, ytrain), (xtest, ytest) = mnist.load_data()"
   ]
  },
  {
   "cell_type": "code",
   "execution_count": 3,
   "id": "a67211c6",
   "metadata": {},
   "outputs": [
    {
     "data": {
      "text/plain": [
       "(60000,)"
      ]
     },
     "execution_count": 3,
     "metadata": {},
     "output_type": "execute_result"
    }
   ],
   "source": [
    "ytrain.shape"
   ]
  },
  {
   "cell_type": "code",
   "execution_count": 4,
   "id": "7334ec76",
   "metadata": {},
   "outputs": [
    {
     "data": {
      "text/plain": [
       "(28, 28)"
      ]
     },
     "execution_count": 4,
     "metadata": {},
     "output_type": "execute_result"
    }
   ],
   "source": [
    "xtrain[0].shape"
   ]
  },
  {
   "cell_type": "markdown",
   "id": "de395a3b",
   "metadata": {},
   "source": [
    "### to flatten the images"
   ]
  },
  {
   "cell_type": "code",
   "execution_count": 5,
   "id": "e855c8f6",
   "metadata": {},
   "outputs": [],
   "source": [
    "X_train = xtrain.reshape(60000, 784)\n",
    "X_test = xtest.reshape(10000, 784)"
   ]
  },
  {
   "cell_type": "code",
   "execution_count": 6,
   "id": "066200ba",
   "metadata": {},
   "outputs": [
    {
     "data": {
      "text/plain": [
       "(784,)"
      ]
     },
     "execution_count": 6,
     "metadata": {},
     "output_type": "execute_result"
    }
   ],
   "source": [
    "X_train[0].shape"
   ]
  },
  {
   "cell_type": "code",
   "execution_count": 7,
   "id": "4a33ebca",
   "metadata": {},
   "outputs": [],
   "source": [
    "K.clear_session()"
   ]
  },
  {
   "cell_type": "code",
   "execution_count": 8,
   "id": "00a2d6d0",
   "metadata": {},
   "outputs": [],
   "source": [
    "model = Sequential([\n",
    "                    Dense(units=10, activation='sigmoid', input_shape=X_train[0].shape),\n",
    "                    Dense(units=10, activation='softmax')\n",
    "\n",
    "])"
   ]
  },
  {
   "cell_type": "code",
   "execution_count": 9,
   "id": "0210613e",
   "metadata": {},
   "outputs": [],
   "source": [
    "model.compile(optimizer='Adam',\n",
    "              loss='categorical_crossentropy',\n",
    "              metrics='Precision'\n",
    ")"
   ]
  },
  {
   "cell_type": "code",
   "execution_count": 10,
   "id": "efd4e318",
   "metadata": {},
   "outputs": [
    {
     "name": "stdout",
     "output_type": "stream",
     "text": [
      "Model: \"sequential\"\n",
      "_________________________________________________________________\n",
      "Layer (type)                 Output Shape              Param #   \n",
      "=================================================================\n",
      "dense (Dense)                (None, 10)                7850      \n",
      "_________________________________________________________________\n",
      "dense_1 (Dense)              (None, 10)                110       \n",
      "=================================================================\n",
      "Total params: 7,960\n",
      "Trainable params: 7,960\n",
      "Non-trainable params: 0\n",
      "_________________________________________________________________\n"
     ]
    }
   ],
   "source": [
    "model.summary()"
   ]
  },
  {
   "cell_type": "markdown",
   "id": "ea08fb82",
   "metadata": {},
   "source": [
    "### We need to define labels as categorical feature using 'from tensorflow.keras.utils import to_categorical'"
   ]
  },
  {
   "cell_type": "code",
   "execution_count": 11,
   "id": "c15f1e37",
   "metadata": {},
   "outputs": [],
   "source": [
    "from tensorflow.keras.utils import to_categorical"
   ]
  },
  {
   "cell_type": "code",
   "execution_count": 12,
   "id": "69403a42",
   "metadata": {},
   "outputs": [],
   "source": [
    "y_train = to_categorical(ytrain)\n",
    "y_test = to_categorical(ytest)"
   ]
  },
  {
   "cell_type": "code",
   "execution_count": 13,
   "id": "1ec7fff3",
   "metadata": {},
   "outputs": [
    {
     "data": {
      "text/plain": [
       "(60000, 10)"
      ]
     },
     "execution_count": 13,
     "metadata": {},
     "output_type": "execute_result"
    }
   ],
   "source": [
    "y_train.shape"
   ]
  },
  {
   "cell_type": "markdown",
   "id": "205acd1b",
   "metadata": {},
   "source": [
    "# Plot a histogram of the network weights before training"
   ]
  },
  {
   "cell_type": "code",
   "execution_count": 14,
   "id": "73136201",
   "metadata": {},
   "outputs": [],
   "source": [
    "hidden = model.get_layer('dense')\n",
    "output = model.get_layer('dense_1')"
   ]
  },
  {
   "cell_type": "code",
   "execution_count": 15,
   "id": "fefca98e",
   "metadata": {},
   "outputs": [],
   "source": [
    "weigths_hid, biases_hid = hidden.get_weights()\n",
    "weigths_out, biases_out = output.get_weights()"
   ]
  },
  {
   "cell_type": "code",
   "execution_count": 17,
   "id": "8b92d67a",
   "metadata": {},
   "outputs": [
    {
     "data": {
      "image/png": "[encoded data removed]",
      "text/plain": [
       "<Figure size 432x288 with 1 Axes>"
      ]
     },
     "metadata": {
      "needs_background": "light"
     },
     "output_type": "display_data"
    }
   ],
   "source": [
    "plt.hist(weigths_hid, bins=50, histtype='step')\n",
    "plt.show() "
   ]
  },
  {
   "cell_type": "code",
   "execution_count": 18,
   "id": "23c90b47",
   "metadata": {},
   "outputs": [
    {
     "data": {
      "image/png": "[encoded data removed]",
      "text/plain": [
       "<Figure size 432x288 with 1 Axes>"
      ]
     },
     "metadata": {
      "needs_background": "light"
     },
     "output_type": "display_data"
    }
   ],
   "source": [
    "plt.hist(weigths_out, bins=50, histtype='step')\n",
    "plt.show()"
   ]
  },
  {
   "cell_type": "markdown",
   "id": "dd8968b6",
   "metadata": {},
   "source": [
    "# Fit the model"
   ]
  },
  {
   "cell_type": "code",
   "execution_count": 19,
   "id": "87664347",
   "metadata": {},
   "outputs": [
    {
     "name": "stdout",
     "output_type": "stream",
     "text": [
      "Epoch 1/5\n",
      "3200/3200 [==============================] - 10s 3ms/step - loss: 1.2269 - precision: 0.9097 - val_loss: 0.7808 - val_precision: 0.9153\n",
      "Epoch 2/5\n",
      "3200/3200 [==============================] - 11s 3ms/step - loss: 0.7629 - precision: 0.8787 - val_loss: 0.6875 - val_precision: 0.8792\n",
      "Epoch 3/5\n",
      "3200/3200 [==============================] - 10s 3ms/step - loss: 0.6440 - precision: 0.8777 - val_loss: 0.5685 - val_precision: 0.8863\n",
      "Epoch 4/5\n",
      "3200/3200 [==============================] - 11s 3ms/step - loss: 0.6079 - precision: 0.8708 - val_loss: 0.5649 - val_precision: 0.8816\n",
      "Epoch 5/5\n",
      "3200/3200 [==============================] - 11s 3ms/step - loss: 0.5880 - precision: 0.8707 - val_loss: 0.6008 - val_precision: 0.8603\n"
     ]
    },
    {
     "data": {
      "text/plain": [
       "<keras.callbacks.History at 0x7fa99b962ef0>"
      ]
     },
     "execution_count": 19,
     "metadata": {},
     "output_type": "execute_result"
    }
   ],
   "source": [
    "model.fit(X_train,y_train, epochs = 5, batch_size = 15, verbose = 1, validation_split=0.2)"
   ]
  },
  {
   "cell_type": "markdown",
   "id": "ae0e5f5f",
   "metadata": {},
   "source": [
    "# Plot a histogram of the network weights after training"
   ]
  },
  {
   "cell_type": "code",
   "execution_count": 20,
   "id": "f54ec22c",
   "metadata": {},
   "outputs": [],
   "source": [
    "hidden = model.get_layer('dense')\n",
    "output = model.get_layer('dense_1')"
   ]
  },
  {
   "cell_type": "code",
   "execution_count": 21,
   "id": "029de5b4",
   "metadata": {},
   "outputs": [],
   "source": [
    "weigths_hid, biases_hid = hidden.get_weights()\n",
    "weigths_out, biases_out = output.get_weights()"
   ]
  },
  {
   "cell_type": "code",
   "execution_count": 23,
   "id": "9b056a35",
   "metadata": {},
   "outputs": [
    {
     "data": {
      "image/png": "[encoded data removed]",
      "text/plain": [
       "<Figure size 432x288 with 1 Axes>"
      ]
     },
     "metadata": {
      "needs_background": "light"
     },
     "output_type": "display_data"
    }
   ],
   "source": [
    "plt.hist(weigths_hid, bins=50, histtype='step')\n",
    "plt.show()"
   ]
  },
  {
   "cell_type": "code",
   "execution_count": 24,
   "id": "e84b7cf3",
   "metadata": {},
   "outputs": [
    {
     "data": {
      "image/png": "[encoded data removed]",
      "text/plain": [
       "<Figure size 432x288 with 1 Axes>"
      ]
     },
     "metadata": {
      "needs_background": "light"
     },
     "output_type": "display_data"
    }
   ],
   "source": [
    "plt.hist(weigths_out, bins=50, histtype='step')\n",
    "plt.show()"
   ]
  },
  {
   "cell_type": "code",
   "execution_count": null,
   "id": "384917b8",
   "metadata": {},
   "outputs": [],
   "source": []
  }
 ],
 "metadata": {
  "kernelspec": {
   "display_name": "Python 3",
   "language": "python",
   "name": "python3"
  },
  "language_info": {
   "codemirror_mode": {
    "name": "ipython",
    "version": 3
   },
   "file_extension": ".py",
   "mimetype": "text/x-python",
   "name": "python",
   "nbconvert_exporter": "python",
   "pygments_lexer": "ipython3",
   "version": "3.6.13"
  }
 },
 "nbformat": 4,
 "nbformat_minor": 5
}
