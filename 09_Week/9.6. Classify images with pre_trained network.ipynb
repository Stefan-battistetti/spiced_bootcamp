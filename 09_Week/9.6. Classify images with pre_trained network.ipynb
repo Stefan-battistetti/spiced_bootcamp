{
 "cells": [
  {
   "cell_type": "code",
   "execution_count": 40,
   "metadata": {},
   "outputs": [],
   "source": [
    "import os\n",
    "from os import listdir\n",
    "import matplotlib.image as mpimg\n",
    "import cv2\n",
    "import numpy as np\n",
    "import pandas as pd\n",
    "import tensorflow as tf\n",
    "from tensorflow.keras.preprocessing import image\n",
    "from tensorflow.keras.layers import Conv2D, Dense, MaxPooling2D, Activation, Flatten, Dropout, BatchNormalization\n",
    "from tensorflow.keras import models, layers\n",
    "from tensorflow.keras.utils import to_categorical\n",
    "from tensorflow.keras.applications.resnet50 import ResNet50, decode_predictions, preprocess_input\n",
    "from tensorflow.keras import backend as K\n",
    "from tensorflow.keras.preprocessing.image import load_img"
   ]
  },
  {
   "cell_type": "markdown",
   "metadata": {},
   "source": [
    "# Define the path for loading the images of all categories"
   ]
  },
  {
   "cell_type": "code",
   "execution_count": 41,
   "metadata": {},
   "outputs": [],
   "source": [
    "base_path = '/Users/Disalo/SPICED/euclidean_eukalyptus/payam_work/Week_09/imageclassifier/data/'\n",
    "classes = os.listdir(base_path)"
   ]
  },
  {
   "cell_type": "code",
   "execution_count": 42,
   "metadata": {},
   "outputs": [
    {
     "name": "stdout",
     "output_type": "stream",
     "text": [
      "Hand\n",
      "empty\n",
      "Gloves\n",
      "Me\n"
     ]
    }
   ],
   "source": [
    "for class_ in classes:\n",
    "    print(class_)"
   ]
  },
  {
   "cell_type": "markdown",
   "metadata": {},
   "source": [
    "# Define a function to load images"
   ]
  },
  {
   "cell_type": "code",
   "execution_count": 43,
   "metadata": {},
   "outputs": [],
   "source": [
    "def load_image(base_path):\n",
    "    \"\"\"it loads all the image into X and the classes in y \"\"\"\n",
    "    X_list = []\n",
    "    y_list = []\n",
    "    classes = os.listdir(base_path)\n",
    "    for class_ in classes:\n",
    "        files = os.listdir(base_path+class_)\n",
    "        #print(files)\n",
    "        for file in files:\n",
    "            if file[-3:] == 'png':\n",
    "                pic = tf.keras.utils.load_img(path=base_path+class_+'/'+f'{file}',target_size=(224,224))\n",
    "                numpy_image = np.array(pic)\n",
    "                processed_image = preprocess_input(numpy_image)\n",
    "                X_list.append(processed_image)\n",
    "                y_list.append(class_)\n",
    "            \n",
    "    X = np.array(X_list)\n",
    "    y = np.array(y_list)\n",
    "    \n",
    "    return X, y, classes"
   ]
  },
  {
   "cell_type": "code",
   "execution_count": 44,
   "metadata": {},
   "outputs": [],
   "source": [
    "X,y,classes= load_image(base_path)"
   ]
  },
  {
   "cell_type": "code",
   "execution_count": 45,
   "metadata": {},
   "outputs": [
    {
     "data": {
      "text/plain": [
       "(308, 224, 224, 3)"
      ]
     },
     "execution_count": 45,
     "metadata": {},
     "output_type": "execute_result"
    }
   ],
   "source": [
    "X.shape"
   ]
  },
  {
   "cell_type": "markdown",
   "metadata": {},
   "source": [
    "# Define a dictionary to factorize the labels"
   ]
  },
  {
   "cell_type": "code",
   "execution_count": 46,
   "metadata": {},
   "outputs": [
    {
     "data": {
      "text/plain": [
       "array(['Hand', 'Hand', 'Hand', 'Hand', 'Hand', 'Hand', 'Hand', 'Hand',\n",
       "       'Hand', 'Hand', 'Hand', 'Hand', 'Hand', 'Hand', 'Hand', 'Hand',\n",
       "       'Hand', 'Hand', 'Hand', 'Hand', 'Hand', 'Hand', 'Hand', 'Hand',\n",
       "       'Hand', 'Hand', 'Hand', 'Hand', 'Hand', 'Hand', 'Hand', 'Hand',\n",
       "       'Hand', 'Hand', 'Hand', 'Hand', 'Hand', 'Hand', 'Hand', 'Hand',\n",
       "       'Hand', 'Hand', 'Hand', 'Hand', 'Hand', 'Hand', 'Hand', 'Hand',\n",
       "       'Hand', 'Hand', 'Hand', 'Hand', 'Hand', 'Hand', 'Hand', 'Hand',\n",
       "       'Hand', 'Hand', 'Hand', 'Hand', 'Hand', 'Hand', 'Hand', 'Hand',\n",
       "       'Hand', 'Hand', 'Hand', 'Hand', 'Hand', 'Hand', 'Hand', 'Hand',\n",
       "       'Hand', 'Hand', 'Hand', 'Hand', 'Hand', 'Hand', 'Hand', 'Hand',\n",
       "       'Hand', 'Hand', 'Hand', 'Hand', 'Hand', 'Hand', 'Hand', 'Hand',\n",
       "       'Hand', 'Hand', 'Hand', 'Hand', 'Hand', 'Hand', 'Hand', 'Hand',\n",
       "       'Hand', 'Hand', 'Hand', 'Hand', 'Hand', 'Hand', 'Gloves', 'Gloves',\n",
       "       'Gloves', 'Gloves', 'Gloves', 'Gloves', 'Gloves', 'Gloves',\n",
       "       'Gloves', 'Gloves', 'Gloves', 'Gloves', 'Gloves', 'Gloves',\n",
       "       'Gloves', 'Gloves', 'Gloves', 'Gloves', 'Gloves', 'Gloves',\n",
       "       'Gloves', 'Gloves', 'Gloves', 'Gloves', 'Gloves', 'Gloves',\n",
       "       'Gloves', 'Gloves', 'Gloves', 'Gloves', 'Gloves', 'Gloves',\n",
       "       'Gloves', 'Gloves', 'Gloves', 'Gloves', 'Gloves', 'Gloves',\n",
       "       'Gloves', 'Gloves', 'Gloves', 'Gloves', 'Gloves', 'Gloves',\n",
       "       'Gloves', 'Gloves', 'Gloves', 'Gloves', 'Gloves', 'Gloves',\n",
       "       'Gloves', 'Gloves', 'Gloves', 'Gloves', 'Gloves', 'Gloves',\n",
       "       'Gloves', 'Gloves', 'Gloves', 'Gloves', 'Gloves', 'Gloves',\n",
       "       'Gloves', 'Gloves', 'Gloves', 'Gloves', 'Gloves', 'Gloves',\n",
       "       'Gloves', 'Gloves', 'Gloves', 'Gloves', 'Gloves', 'Gloves',\n",
       "       'Gloves', 'Gloves', 'Gloves', 'Gloves', 'Gloves', 'Gloves',\n",
       "       'Gloves', 'Gloves', 'Gloves', 'Gloves', 'Gloves', 'Gloves',\n",
       "       'Gloves', 'Gloves', 'Gloves', 'Gloves', 'Gloves', 'Gloves',\n",
       "       'Gloves', 'Gloves', 'Gloves', 'Gloves', 'Gloves', 'Gloves',\n",
       "       'Gloves', 'Gloves', 'Gloves', 'Gloves', 'Gloves', 'Gloves', 'Me',\n",
       "       'Me', 'Me', 'Me', 'Me', 'Me', 'Me', 'Me', 'Me', 'Me', 'Me', 'Me',\n",
       "       'Me', 'Me', 'Me', 'Me', 'Me', 'Me', 'Me', 'Me', 'Me', 'Me', 'Me',\n",
       "       'Me', 'Me', 'Me', 'Me', 'Me', 'Me', 'Me', 'Me', 'Me', 'Me', 'Me',\n",
       "       'Me', 'Me', 'Me', 'Me', 'Me', 'Me', 'Me', 'Me', 'Me', 'Me', 'Me',\n",
       "       'Me', 'Me', 'Me', 'Me', 'Me', 'Me', 'Me', 'Me', 'Me', 'Me', 'Me',\n",
       "       'Me', 'Me', 'Me', 'Me', 'Me', 'Me', 'Me', 'Me', 'Me', 'Me', 'Me',\n",
       "       'Me', 'Me', 'Me', 'Me', 'Me', 'Me', 'Me', 'Me', 'Me', 'Me', 'Me',\n",
       "       'Me', 'Me', 'Me', 'Me', 'Me', 'Me', 'Me', 'Me', 'Me', 'Me', 'Me',\n",
       "       'Me', 'Me', 'Me', 'Me', 'Me', 'Me', 'Me', 'Me', 'Me', 'Me', 'Me',\n",
       "       'Me', 'Me'], dtype='<U6')"
      ]
     },
     "execution_count": 46,
     "metadata": {},
     "output_type": "execute_result"
    }
   ],
   "source": [
    "y"
   ]
  },
  {
   "cell_type": "code",
   "execution_count": 47,
   "metadata": {},
   "outputs": [],
   "source": [
    "my_dict = {\"Me\":0, \"Hand\":1, \"Gloves\":2}"
   ]
  },
  {
   "cell_type": "code",
   "execution_count": 48,
   "metadata": {},
   "outputs": [],
   "source": [
    "y = np.vectorize(my_dict.get)(y)"
   ]
  },
  {
   "cell_type": "markdown",
   "metadata": {},
   "source": [
    "# Categorize the labels"
   ]
  },
  {
   "cell_type": "code",
   "execution_count": 49,
   "metadata": {},
   "outputs": [],
   "source": [
    "y = to_categorical(y)"
   ]
  },
  {
   "cell_type": "code",
   "execution_count": 50,
   "metadata": {},
   "outputs": [
    {
     "data": {
      "text/plain": [
       "(308, 3)"
      ]
     },
     "execution_count": 50,
     "metadata": {},
     "output_type": "execute_result"
    }
   ],
   "source": [
    "y.shape"
   ]
  },
  {
   "cell_type": "markdown",
   "metadata": {},
   "source": [
    "# Classify with pre_trained Network 'ResNet50'"
   ]
  },
  {
   "cell_type": "code",
   "execution_count": 51,
   "metadata": {},
   "outputs": [],
   "source": [
    "from tensorflow.keras.preprocessing import image\n",
    "from tensorflow.keras.applications.mobilenet_v2 import MobileNetV2, preprocess_input, decode_predictions\n",
    "from tensorflow.keras.applications.resnet50 import ResNet50, decode_predictions,preprocess_input"
   ]
  },
  {
   "cell_type": "code",
   "execution_count": 52,
   "metadata": {},
   "outputs": [],
   "source": [
    "model = ResNet50()"
   ]
  },
  {
   "cell_type": "code",
   "execution_count": 53,
   "metadata": {},
   "outputs": [],
   "source": [
    "img = image.load_img('15-22-14-189991 copy.png')"
   ]
  },
  {
   "cell_type": "code",
   "execution_count": 54,
   "metadata": {},
   "outputs": [
    {
     "data": {
      "text/plain": [
       "(224, 224, 3)"
      ]
     },
     "execution_count": 54,
     "metadata": {},
     "output_type": "execute_result"
    }
   ],
   "source": [
    "a = image.img_to_array(img, dtype = 'uint8')\n",
    "a.shape"
   ]
  },
  {
   "cell_type": "code",
   "execution_count": 55,
   "metadata": {},
   "outputs": [],
   "source": [
    "a = preprocess_input(a)"
   ]
  },
  {
   "cell_type": "code",
   "execution_count": 56,
   "metadata": {},
   "outputs": [],
   "source": [
    "a = np.expand_dims(a, axis=0)"
   ]
  },
  {
   "cell_type": "code",
   "execution_count": 57,
   "metadata": {},
   "outputs": [],
   "source": [
    "pred = model.predict(a)"
   ]
  },
  {
   "cell_type": "code",
   "execution_count": 58,
   "metadata": {},
   "outputs": [
    {
     "data": {
      "text/plain": [
       "[[('n03124043', 'cowboy_boot', 0.4799868),\n",
       "  ('n03680355', 'Loafer', 0.03734339),\n",
       "  ('n03146219', 'cuirass', 0.033770435),\n",
       "  ('n04141327', 'scabbard', 0.03146993),\n",
       "  ('n03201208', 'dining_table', 0.021857075)]]"
      ]
     },
     "execution_count": 58,
     "metadata": {},
     "output_type": "execute_result"
    }
   ],
   "source": [
    "resnet_labels = decode_predictions(pred, top=5)\n",
    "resnet_labels"
   ]
  },
  {
   "cell_type": "code",
   "execution_count": 59,
   "metadata": {},
   "outputs": [
    {
     "name": "stdout",
     "output_type": "stream",
     "text": [
      "WARNING:tensorflow:Compiled the loaded model, but the compiled metrics have yet to be built. `model.compile_metrics` will be empty until you train or evaluate the model.\n"
     ]
    }
   ],
   "source": [
    "model.save('/Users/Disalo/SPICED/euclidean_eukalyptus/payam_work/Week_09/imageclassifier/models/Pre_trained_CNN_model.h5')"
   ]
  },
  {
   "cell_type": "code",
   "execution_count": null,
   "metadata": {},
   "outputs": [],
   "source": []
  }
 ],
 "metadata": {
  "interpreter": {
   "hash": "4c5e7003d8d4ac2a02dc9677ea9835bb0061807716712328aa6609ab61169f6d"
  },
  "kernelspec": {
   "display_name": "Python 3.6.13 ('PS_NN')",
   "language": "python",
   "name": "python3"
  },
  "language_info": {
   "codemirror_mode": {
    "name": "ipython",
    "version": 3
   },
   "file_extension": ".py",
   "mimetype": "text/x-python",
   "name": "python",
   "nbconvert_exporter": "python",
   "pygments_lexer": "ipython3",
   "version": "3.6.13"
  },
  "orig_nbformat": 4
 },
 "nbformat": 4,
 "nbformat_minor": 2
}
