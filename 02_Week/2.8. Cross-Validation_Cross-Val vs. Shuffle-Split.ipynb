{
 "cells": [
  {
   "cell_type": "code",
   "execution_count": 1,
   "id": "adac6e68",
   "metadata": {},
   "outputs": [],
   "source": [
    "from sklearn.model_selection import train_test_split\n",
    "from sklearn.linear_model import LogisticRegression\n",
    "\n",
    "import matplotlib.pyplot as plt\n",
    "import seaborn as sns\n",
    "import pandas as pd\n",
    "\n",
    "from sklearn.pipeline import Pipeline, make_pipeline\n",
    "from sklearn.preprocessing import FunctionTransformer\n",
    "from sklearn.compose import ColumnTransformer\n",
    "\n",
    "from sklearn.impute import SimpleImputer\n",
    "from sklearn.preprocessing import RobustScaler\n",
    "from sklearn.preprocessing import MinMaxScaler\n",
    "from sklearn.preprocessing import OneHotEncoder\n",
    "from sklearn.preprocessing import KBinsDiscretizer"
   ]
  },
  {
   "cell_type": "markdown",
   "id": "eb17b02c",
   "metadata": {},
   "source": [
    "# Explore Data"
   ]
  },
  {
   "cell_type": "code",
   "execution_count": 2,
   "id": "79b9430c",
   "metadata": {},
   "outputs": [],
   "source": [
    "df = pd.read_csv('train.csv')"
   ]
  },
  {
   "cell_type": "markdown",
   "id": "74d2718e",
   "metadata": {},
   "source": [
    "### Remove 'Ticket', 'PassengerId','Cabin'"
   ]
  },
  {
   "cell_type": "code",
   "execution_count": 3,
   "id": "e2f6a874",
   "metadata": {},
   "outputs": [],
   "source": [
    "df.drop(['PassengerId','Ticket'], axis=1, inplace=True)"
   ]
  },
  {
   "cell_type": "markdown",
   "id": "62bb38d6",
   "metadata": {},
   "source": [
    "### Convert Names & Cabin to theri character length"
   ]
  },
  {
   "cell_type": "code",
   "execution_count": 4,
   "id": "c310773f",
   "metadata": {},
   "outputs": [],
   "source": [
    "df['Name'] = df['Name'].str.len()\n",
    "df['Cabin'] = df['Cabin'].str.len()"
   ]
  },
  {
   "cell_type": "markdown",
   "id": "e8bb4bfc",
   "metadata": {},
   "source": [
    "### Select target and features"
   ]
  },
  {
   "cell_type": "code",
   "execution_count": 5,
   "id": "355b85f6",
   "metadata": {},
   "outputs": [],
   "source": [
    "X = df.iloc[:,1:]\n",
    "y = df['Survived']"
   ]
  },
  {
   "cell_type": "markdown",
   "id": "4463bacb",
   "metadata": {},
   "source": [
    "### Split data to train and test"
   ]
  },
  {
   "cell_type": "code",
   "execution_count": 6,
   "id": "be4a608d",
   "metadata": {},
   "outputs": [],
   "source": [
    "X_train, X_test, y_train, y_test = train_test_split(X, y, test_size=0.4, random_state= 42)"
   ]
  },
  {
   "cell_type": "code",
   "execution_count": 7,
   "id": "7972f9f1",
   "metadata": {},
   "outputs": [
    {
     "data": {
      "text/plain": [
       "((534, 9), (357, 9))"
      ]
     },
     "execution_count": 7,
     "metadata": {},
     "output_type": "execute_result"
    }
   ],
   "source": [
    "X_train.shape, X_test.shape"
   ]
  },
  {
   "cell_type": "markdown",
   "id": "e2ad196f",
   "metadata": {},
   "source": [
    "### Categorizing numeric and categorical features"
   ]
  },
  {
   "cell_type": "code",
   "execution_count": 8,
   "id": "719a6def",
   "metadata": {},
   "outputs": [],
   "source": [
    "numeric_features = ['Name', 'Fare','Age','Cabin']\n",
    "numeric_transformer = make_pipeline(\n",
    "    SimpleImputer(strategy=\"mean\"), \n",
    "    RobustScaler()\n",
    "    )"
   ]
  },
  {
   "cell_type": "code",
   "execution_count": 9,
   "id": "aa7e068b",
   "metadata": {},
   "outputs": [],
   "source": [
    "categorical_features = ['Embarked', 'Sex','Pclass']\n",
    "categorical_transformer = make_pipeline(\n",
    "    SimpleImputer(strategy=\"most_frequent\"), \n",
    "    OneHotEncoder(handle_unknown=\"ignore\")\n",
    "    )"
   ]
  },
  {
   "cell_type": "markdown",
   "id": "aed3a5b3",
   "metadata": {},
   "source": [
    "### Pre-Process transformations"
   ]
  },
  {
   "cell_type": "code",
   "execution_count": 10,
   "id": "d7b814ac",
   "metadata": {},
   "outputs": [],
   "source": [
    "preprocessor = ColumnTransformer(\n",
    "    transformers=[('num', numeric_transformer, numeric_features),\n",
    "                  ('cat',categorical_transformer, categorical_features),\n",
    "                  ('do_nothing', 'passthrough',['Parch','SibSp'])])"
   ]
  },
  {
   "cell_type": "code",
   "execution_count": 11,
   "id": "e70e4fe8",
   "metadata": {},
   "outputs": [],
   "source": [
    "pipeline_lr = make_pipeline(preprocessor, LogisticRegression(max_iter=100))"
   ]
  },
  {
   "cell_type": "markdown",
   "id": "430c21d9",
   "metadata": {},
   "source": [
    "### Fit the train data with 'LogisticRegression'"
   ]
  },
  {
   "cell_type": "code",
   "execution_count": 12,
   "id": "082b3f50",
   "metadata": {},
   "outputs": [
    {
     "data": {
      "text/plain": [
       "Pipeline(steps=[('columntransformer',\n",
       "                 ColumnTransformer(transformers=[('num',\n",
       "                                                  Pipeline(steps=[('simpleimputer',\n",
       "                                                                   SimpleImputer()),\n",
       "                                                                  ('robustscaler',\n",
       "                                                                   RobustScaler())]),\n",
       "                                                  ['Name', 'Fare', 'Age',\n",
       "                                                   'Cabin']),\n",
       "                                                 ('cat',\n",
       "                                                  Pipeline(steps=[('simpleimputer',\n",
       "                                                                   SimpleImputer(strategy='most_frequent')),\n",
       "                                                                  ('onehotencoder',\n",
       "                                                                   OneHotEncoder(handle_unknown='ignore'))]),\n",
       "                                                  ['Embarked', 'Sex',\n",
       "                                                   'Pclass']),\n",
       "                                                 ('do_nothing', 'passthrough',\n",
       "                                                  ['Parch', 'SibSp'])])),\n",
       "                ('logisticregression', LogisticRegression())])"
      ]
     },
     "execution_count": 12,
     "metadata": {},
     "output_type": "execute_result"
    }
   ],
   "source": [
    "pipeline_lr.fit(X_train, y_train)"
   ]
  },
  {
   "cell_type": "markdown",
   "id": "a3744889",
   "metadata": {},
   "source": [
    "### Cross-Val vs. Shuffle-Split"
   ]
  },
  {
   "cell_type": "code",
   "execution_count": 39,
   "id": "0650c2a0",
   "metadata": {},
   "outputs": [
    {
     "data": {
      "text/plain": [
       "0    0.805325\n",
       "dtype: float64"
      ]
     },
     "execution_count": 39,
     "metadata": {},
     "output_type": "execute_result"
    }
   ],
   "source": [
    "from sklearn.model_selection import cross_val_score\n",
    "\n",
    "cv = cross_val_score(pipeline_lr, X_train, y_train,\n",
    "                    cv=5,\n",
    "                    scoring='accuracy'\n",
    ")\n",
    "cv = pd.DataFrame(cv)\n",
    "cv.mean()"
   ]
  },
  {
   "cell_type": "code",
   "execution_count": 40,
   "id": "73cee6e2",
   "metadata": {},
   "outputs": [
    {
     "data": {
      "text/plain": [
       "0.8099378881987578"
      ]
     },
     "execution_count": 40,
     "metadata": {},
     "output_type": "execute_result"
    }
   ],
   "source": [
    "from sklearn.model_selection import ShuffleSplit\n",
    "ss = ShuffleSplit(n_splits=5, test_size=0.3, random_state=0)\n",
    "ss_cv = cross_val_score(pipeline_lr, X_train, y_train, cv=ss)\n",
    "ss_cv.mean()"
   ]
  }
 ],
 "metadata": {
  "kernelspec": {
   "display_name": "Python 3",
   "language": "python",
   "name": "python3"
  },
  "language_info": {
   "codemirror_mode": {
    "name": "ipython",
    "version": 3
   },
   "file_extension": ".py",
   "mimetype": "text/x-python",
   "name": "python",
   "nbconvert_exporter": "python",
   "pygments_lexer": "ipython3",
   "version": "3.8.8"
  }
 },
 "nbformat": 4,
 "nbformat_minor": 5
}
