{
 "cells": [
  {
   "cell_type": "markdown",
   "id": "65c8bcb8",
   "metadata": {},
   "source": [
    "# 1. Read in the penguins dataset"
   ]
  },
  {
   "cell_type": "code",
   "execution_count": 1,
   "id": "b5f50317",
   "metadata": {},
   "outputs": [],
   "source": [
    "import pandas as pd\n",
    "import seaborn as sns\n",
    "import numpy as np\n",
    "\n",
    "df = sns.load_dataset('penguins')"
   ]
  },
  {
   "cell_type": "markdown",
   "id": "0aa787e9",
   "metadata": {},
   "source": [
    "### To make a binary classification problem"
   ]
  },
  {
   "cell_type": "code",
   "execution_count": 2,
   "id": "c206d1cd",
   "metadata": {},
   "outputs": [],
   "source": [
    "df = df[df[\"species\"]!=\"Gentoo\"]"
   ]
  },
  {
   "cell_type": "markdown",
   "id": "92e50574",
   "metadata": {},
   "source": [
    "### Drop all rows that contain missing values."
   ]
  },
  {
   "cell_type": "code",
   "execution_count": 3,
   "id": "f582a68f",
   "metadata": {},
   "outputs": [],
   "source": [
    "df.dropna(axis=0, inplace=True)"
   ]
  },
  {
   "cell_type": "code",
   "execution_count": 4,
   "id": "271e36fb",
   "metadata": {},
   "outputs": [
    {
     "data": {
      "text/plain": [
       "<AxesSubplot:>"
      ]
     },
     "execution_count": 4,
     "metadata": {},
     "output_type": "execute_result"
    },
    {
     "data": {
      "image/png": "[encoded data removed]",
      "text/plain": [
       "<Figure size 432x288 with 2 Axes>"
      ]
     },
     "metadata": {
      "needs_background": "light"
     },
     "output_type": "display_data"
    }
   ],
   "source": [
    "sns.heatmap(df.isna())"
   ]
  },
  {
   "cell_type": "markdown",
   "id": "0ee14bce",
   "metadata": {},
   "source": [
    "# 2. Select a target column y and features X"
   ]
  },
  {
   "cell_type": "code",
   "execution_count": 24,
   "id": "16033800",
   "metadata": {},
   "outputs": [],
   "source": [
    "y = (df['species'] == 'Chinstrap').astype(int)\n",
    "X = df[[\"bill_depth_mm\", \"bill_length_mm\"]]"
   ]
  },
  {
   "cell_type": "markdown",
   "id": "be09674a",
   "metadata": {},
   "source": [
    "# 3. Define a function for the linear predictor"
   ]
  },
  {
   "cell_type": "code",
   "execution_count": 19,
   "id": "24425a3c",
   "metadata": {},
   "outputs": [],
   "source": [
    "def linear_predictor(X, w):\n",
    "    return w[0]+w[1]*X['bill_depth_mm']+w[2]*X['bill_length_mm']"
   ]
  },
  {
   "cell_type": "markdown",
   "id": "4ec17615",
   "metadata": {},
   "source": [
    "# 4. Define a function for the sigmoid transformation"
   ]
  },
  {
   "cell_type": "code",
   "execution_count": 20,
   "id": "4c744475",
   "metadata": {},
   "outputs": [],
   "source": [
    "def sigmoid(a):\n",
    "    return 1/(1+np.exp(-a))"
   ]
  },
  {
   "cell_type": "markdown",
   "id": "57db4658",
   "metadata": {},
   "source": [
    "# 5. Define a function for the log-loss"
   ]
  },
  {
   "cell_type": "code",
   "execution_count": 21,
   "id": "b941bef5",
   "metadata": {},
   "outputs": [],
   "source": [
    "def log_loss(y, probas):\n",
    "    return (-1)*np.mean((y*np.log(probas))+(1-y)*np.log(1-probas))"
   ]
  },
  {
   "cell_type": "markdown",
   "id": "8e88f972",
   "metadata": {},
   "source": [
    "# 6. Put everything together and minimize the loss function!"
   ]
  },
  {
   "cell_type": "code",
   "execution_count": 22,
   "id": "b36ae1db",
   "metadata": {},
   "outputs": [],
   "source": [
    "def logreg(w):\n",
    "    probas = sigmoid(linear_predictor(X, w))\n",
    "    return log_loss(y, probas)"
   ]
  },
  {
   "cell_type": "code",
   "execution_count": 23,
   "id": "e90cde0c",
   "metadata": {},
   "outputs": [
    {
     "data": {
      "text/plain": [
       "      fun: 0.043670794083330494\n",
       " hess_inv: array([[34925.70593527,  -198.38697919,  -733.8106043 ],\n",
       "       [ -198.38697918,   407.48441868,  -163.68731703],\n",
       "       [ -733.8106043 ,  -163.68731703,    84.7831301 ]])\n",
       "      jac: array([-7.35744834e-08, -1.27358362e-06, -2.52109021e-06])\n",
       "  message: 'Optimization terminated successfully.'\n",
       "     nfev: 172\n",
       "      nit: 40\n",
       "     njev: 43\n",
       "   status: 0\n",
       "  success: True\n",
       "        x: array([-24.09070254,  -3.97814367,   2.20062066])"
      ]
     },
     "execution_count": 23,
     "metadata": {},
     "output_type": "execute_result"
    }
   ],
   "source": [
    "from scipy.optimize import minimize\n",
    "\n",
    "minimize(logreg, [0, 0, 0])"
   ]
  }
 ],
 "metadata": {
  "kernelspec": {
   "display_name": "Python 3",
   "language": "python",
   "name": "python3"
  },
  "language_info": {
   "codemirror_mode": {
    "name": "ipython",
    "version": 3
   },
   "file_extension": ".py",
   "mimetype": "text/x-python",
   "name": "python",
   "nbconvert_exporter": "python",
   "pygments_lexer": "ipython3",
   "version": "3.8.8"
  }
 },
 "nbformat": 4,
 "nbformat_minor": 5
}
