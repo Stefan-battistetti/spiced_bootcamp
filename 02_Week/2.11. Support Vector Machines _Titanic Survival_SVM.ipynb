{
 "cells": [
  {
   "cell_type": "code",
   "execution_count": 1,
   "id": "adac6e68",
   "metadata": {},
   "outputs": [],
   "source": [
    "from sklearn.model_selection import train_test_split\n",
    "\n",
    "import matplotlib.pyplot as plt\n",
    "import seaborn as sns\n",
    "import pandas as pd\n",
    "\n",
    "from sklearn.pipeline import Pipeline, make_pipeline\n",
    "from sklearn.preprocessing import FunctionTransformer\n",
    "from sklearn.compose import ColumnTransformer\n",
    "\n",
    "from sklearn.impute import SimpleImputer\n",
    "from sklearn.preprocessing import RobustScaler\n",
    "from sklearn.preprocessing import MinMaxScaler\n",
    "from sklearn.preprocessing import OneHotEncoder\n",
    "from sklearn.preprocessing import KBinsDiscretizer\n",
    "\n",
    "from sklearn.svm import SVC"
   ]
  },
  {
   "cell_type": "markdown",
   "id": "eb17b02c",
   "metadata": {},
   "source": [
    "# Explore Data"
   ]
  },
  {
   "cell_type": "code",
   "execution_count": 2,
   "id": "79b9430c",
   "metadata": {},
   "outputs": [],
   "source": [
    "df = pd.read_csv('train.csv')"
   ]
  },
  {
   "cell_type": "markdown",
   "id": "74d2718e",
   "metadata": {},
   "source": [
    "### Remove 'Ticket', 'PassengerId','Cabin'"
   ]
  },
  {
   "cell_type": "code",
   "execution_count": 3,
   "id": "e2f6a874",
   "metadata": {},
   "outputs": [],
   "source": [
    "df.drop(['PassengerId','Ticket'], axis=1, inplace=True)"
   ]
  },
  {
   "cell_type": "markdown",
   "id": "62bb38d6",
   "metadata": {},
   "source": [
    "### Convert Names & Cabin to theri character length"
   ]
  },
  {
   "cell_type": "code",
   "execution_count": 4,
   "id": "c310773f",
   "metadata": {},
   "outputs": [],
   "source": [
    "df['Name'] = df['Name'].str.len()\n",
    "df['Cabin'] = df['Cabin'].str.len()"
   ]
  },
  {
   "cell_type": "markdown",
   "id": "e8bb4bfc",
   "metadata": {},
   "source": [
    "### Select target and features"
   ]
  },
  {
   "cell_type": "code",
   "execution_count": 5,
   "id": "355b85f6",
   "metadata": {},
   "outputs": [],
   "source": [
    "X = df.iloc[:,1:]\n",
    "y = df['Survived']"
   ]
  },
  {
   "cell_type": "markdown",
   "id": "4463bacb",
   "metadata": {},
   "source": [
    "### Split data to train and test"
   ]
  },
  {
   "cell_type": "code",
   "execution_count": 6,
   "id": "be4a608d",
   "metadata": {},
   "outputs": [],
   "source": [
    "X_train, X_test, y_train, y_test = train_test_split(X, y, test_size=0.4, random_state= 42)"
   ]
  },
  {
   "cell_type": "code",
   "execution_count": 7,
   "id": "7972f9f1",
   "metadata": {},
   "outputs": [
    {
     "data": {
      "text/plain": [
       "((534, 9), (357, 9))"
      ]
     },
     "execution_count": 7,
     "metadata": {},
     "output_type": "execute_result"
    }
   ],
   "source": [
    "X_train.shape, X_test.shape"
   ]
  },
  {
   "cell_type": "markdown",
   "id": "e2ad196f",
   "metadata": {},
   "source": [
    "### Categorizing numeric and categorical features"
   ]
  },
  {
   "cell_type": "code",
   "execution_count": 9,
   "id": "719a6def",
   "metadata": {},
   "outputs": [],
   "source": [
    "numeric_features = ['Name', 'Fare','Age','Cabin']\n",
    "numeric_transformer = make_pipeline(\n",
    "    SimpleImputer(strategy=\"mean\"), \n",
    "    RobustScaler()\n",
    "    )"
   ]
  },
  {
   "cell_type": "code",
   "execution_count": 10,
   "id": "aa7e068b",
   "metadata": {},
   "outputs": [],
   "source": [
    "categorical_features = ['Embarked', 'Sex','Pclass']\n",
    "categorical_transformer = make_pipeline(\n",
    "    SimpleImputer(strategy=\"most_frequent\"), \n",
    "    OneHotEncoder(handle_unknown=\"ignore\")\n",
    "    )"
   ]
  },
  {
   "cell_type": "markdown",
   "id": "aed3a5b3",
   "metadata": {},
   "source": [
    "### Pre-Process transformations"
   ]
  },
  {
   "cell_type": "code",
   "execution_count": 11,
   "id": "d7b814ac",
   "metadata": {},
   "outputs": [],
   "source": [
    "preprocessor = ColumnTransformer(\n",
    "    transformers=[('num', numeric_transformer, numeric_features),\n",
    "                  ('cat',categorical_transformer, categorical_features),\n",
    "                  ('do_nothing', 'passthrough',['Parch','SibSp'])])"
   ]
  },
  {
   "cell_type": "code",
   "execution_count": null,
   "id": "5d300930",
   "metadata": {},
   "outputs": [],
   "source": []
  },
  {
   "cell_type": "markdown",
   "id": "60f14aa5",
   "metadata": {},
   "source": [
    "# A. Model creation with 'LogisticRegression'"
   ]
  },
  {
   "cell_type": "code",
   "execution_count": 13,
   "id": "e70e4fe8",
   "metadata": {},
   "outputs": [],
   "source": [
    "pipeline_SVC = make_pipeline(preprocessor, SVC(kernel='rbf', C=0.1))"
   ]
  },
  {
   "cell_type": "markdown",
   "id": "430c21d9",
   "metadata": {},
   "source": [
    "### Fit the train data with 'LogisticRegression'"
   ]
  },
  {
   "cell_type": "code",
   "execution_count": 14,
   "id": "082b3f50",
   "metadata": {},
   "outputs": [
    {
     "data": {
      "text/plain": [
       "Pipeline(steps=[('columntransformer',\n",
       "                 ColumnTransformer(transformers=[('num',\n",
       "                                                  Pipeline(steps=[('simpleimputer',\n",
       "                                                                   SimpleImputer()),\n",
       "                                                                  ('robustscaler',\n",
       "                                                                   RobustScaler())]),\n",
       "                                                  ['Name', 'Fare', 'Age',\n",
       "                                                   'Cabin']),\n",
       "                                                 ('cat',\n",
       "                                                  Pipeline(steps=[('simpleimputer',\n",
       "                                                                   SimpleImputer(strategy='most_frequent')),\n",
       "                                                                  ('onehotencoder',\n",
       "                                                                   OneHotEncoder(handle_unknown='ignore'))]),\n",
       "                                                  ['Embarked', 'Sex',\n",
       "                                                   'Pclass']),\n",
       "                                                 ('do_nothing', 'passthrough',\n",
       "                                                  ['Parch', 'SibSp'])])),\n",
       "                ('svc', SVC(C=0.1))])"
      ]
     },
     "execution_count": 14,
     "metadata": {},
     "output_type": "execute_result"
    }
   ],
   "source": [
    "pipeline_SVC.fit(X_train, y_train)"
   ]
  },
  {
   "cell_type": "markdown",
   "id": "a3744889",
   "metadata": {},
   "source": [
    "### Calculate a cross-validation score with 5 folds"
   ]
  },
  {
   "cell_type": "code",
   "execution_count": 16,
   "id": "0650c2a0",
   "metadata": {},
   "outputs": [
    {
     "name": "stdout",
     "output_type": "stream",
     "text": [
      "   fit_time  score_time  test_score  train_score\n",
      "0  0.062140    0.043111    0.813084     0.768150\n",
      "1  0.048043    0.016244    0.775701     0.786885\n",
      "2  0.032417    0.012627    0.757009     0.810304\n",
      "3  0.025706    0.015650    0.691589     0.810304\n",
      "4  0.022711    0.011570    0.811321     0.780374\n"
     ]
    }
   ],
   "source": [
    "from sklearn.model_selection import cross_validate\n",
    "\n",
    "cv_SVC = cross_validate(pipeline_SVC, X_train, y_train,\n",
    "                    cv=5,\n",
    "                    scoring='accuracy',\n",
    "                    return_train_score=True\n",
    ")\n",
    "# convert the dictionary of lists into a DataFrame\n",
    "cv_SVC = pd.DataFrame(cv_SVC)\n",
    "print(cv_SVC)"
   ]
  },
  {
   "cell_type": "code",
   "execution_count": 17,
   "id": "c4041107",
   "metadata": {},
   "outputs": [
    {
     "data": {
      "text/plain": [
       "fit_time       0.038203\n",
       "score_time     0.019840\n",
       "test_score     0.769741\n",
       "train_score    0.791204\n",
       "dtype: float64"
      ]
     },
     "execution_count": 17,
     "metadata": {},
     "output_type": "execute_result"
    }
   ],
   "source": [
    "cv_SVC.mean()"
   ]
  },
  {
   "cell_type": "markdown",
   "id": "9ea3d774",
   "metadata": {},
   "source": [
    "### Calculate the train and test accuracy"
   ]
  },
  {
   "cell_type": "code",
   "execution_count": 18,
   "id": "abce3c50",
   "metadata": {},
   "outputs": [
    {
     "name": "stdout",
     "output_type": "stream",
     "text": [
      "train acc 0.805\n",
      "test acc  0.798\n"
     ]
    }
   ],
   "source": [
    "print('train acc', round(pipeline_SVC.score(X_train, y_train), 3))\n",
    "print('test acc ', round(pipeline_SVC.score(X_test, y_test), 3))"
   ]
  },
  {
   "cell_type": "markdown",
   "id": "ef94d1dc",
   "metadata": {},
   "source": [
    "### Predict on new test data with 'Support Vector Machine'"
   ]
  },
  {
   "cell_type": "code",
   "execution_count": 22,
   "id": "033574d2",
   "metadata": {},
   "outputs": [],
   "source": [
    "df_test = pd.read_csv('test.csv')"
   ]
  },
  {
   "cell_type": "code",
   "execution_count": 23,
   "id": "33441925",
   "metadata": {},
   "outputs": [],
   "source": [
    "df_test.drop(['Ticket'], axis=1, inplace=True)\n",
    "df_test['Name'] = df_test['Name'].str.len()\n",
    "df_test['Cabin'] = df_test['Cabin'].str.len()\n",
    "pred_log_reg_SVC=df_test[['PassengerId']]\n",
    "del df_test['PassengerId']"
   ]
  },
  {
   "cell_type": "code",
   "execution_count": 24,
   "id": "4409793b",
   "metadata": {},
   "outputs": [],
   "source": [
    "test_pred_SVC = pipeline_SVC.predict(df_test)"
   ]
  },
  {
   "cell_type": "code",
   "execution_count": 25,
   "id": "935841c2",
   "metadata": {},
   "outputs": [
    {
     "name": "stderr",
     "output_type": "stream",
     "text": [
      "<ipython-input-25-0743a2683741>:1: SettingWithCopyWarning: \n",
      "A value is trying to be set on a copy of a slice from a DataFrame.\n",
      "Try using .loc[row_indexer,col_indexer] = value instead\n",
      "\n",
      "See the caveats in the documentation: https://pandas.pydata.org/pandas-docs/stable/user_guide/indexing.html#returning-a-view-versus-a-copy\n",
      "  pred_log_reg_SVC['Survived']=test_pred_SVC\n"
     ]
    }
   ],
   "source": [
    "pred_log_reg_SVC['Survived']=test_pred_SVC"
   ]
  },
  {
   "cell_type": "code",
   "execution_count": 26,
   "id": "93e1df5b",
   "metadata": {},
   "outputs": [],
   "source": [
    "pred_log_reg_SVC.to_csv('Survived_SVC.csv', index=False)"
   ]
  }
 ],
 "metadata": {
  "kernelspec": {
   "display_name": "Python 3",
   "language": "python",
   "name": "python3"
  },
  "language_info": {
   "codemirror_mode": {
    "name": "ipython",
    "version": 3
   },
   "file_extension": ".py",
   "mimetype": "text/x-python",
   "name": "python",
   "nbconvert_exporter": "python",
   "pygments_lexer": "ipython3",
   "version": "3.8.8"
  }
 },
 "nbformat": 4,
 "nbformat_minor": 5
}
