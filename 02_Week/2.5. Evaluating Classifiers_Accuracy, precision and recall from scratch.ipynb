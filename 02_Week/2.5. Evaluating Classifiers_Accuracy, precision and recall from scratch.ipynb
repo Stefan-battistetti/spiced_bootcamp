{
 "cells": [
  {
   "cell_type": "code",
   "execution_count": 17,
   "id": "93c5981d",
   "metadata": {},
   "outputs": [],
   "source": [
    "from sklearn.metrics import accuracy_score  \n",
    "from sklearn.metrics import precision_score, recall_score\n",
    "from sklearn.metrics import confusion_matrix\n",
    "import pandas as pd"
   ]
  },
  {
   "cell_type": "code",
   "execution_count": 20,
   "id": "79fb374f",
   "metadata": {},
   "outputs": [],
   "source": [
    "y_test = [1, 1, 1, 0, 0, 0, 1, 0]\n",
    "y_proba = [0.9, 0.7, 0.1, 0.2, 0.4, 0.6, 0.7, 0.1]"
   ]
  },
  {
   "cell_type": "code",
   "execution_count": 13,
   "id": "4f8a50ba",
   "metadata": {},
   "outputs": [
    {
     "data": {
      "text/plain": [
       "[1, 1, 0, 0, 0, 1, 1, 0]"
      ]
     },
     "execution_count": 13,
     "metadata": {},
     "output_type": "execute_result"
    }
   ],
   "source": [
    "y_pred = []\n",
    "for i in y_proba:\n",
    "    if i>=0.5:\n",
    "        i=1\n",
    "        y_pred.append(i)\n",
    "    if i<0.5:\n",
    "        i=0\n",
    "        y_pred.append(i)\n",
    "y_pred"
   ]
  },
  {
   "cell_type": "code",
   "execution_count": 25,
   "id": "20a17a0e",
   "metadata": {},
   "outputs": [
    {
     "data": {
      "text/plain": [
       "array([[3, 1],\n",
       "       [1, 3]])"
      ]
     },
     "execution_count": 25,
     "metadata": {},
     "output_type": "execute_result"
    }
   ],
   "source": [
    "conf = confusion_matrix(y_test,y_pred)\n",
    "conf"
   ]
  },
  {
   "cell_type": "code",
   "execution_count": 27,
   "id": "e7d69ee0",
   "metadata": {},
   "outputs": [
    {
     "name": "stdout",
     "output_type": "stream",
     "text": [
      "0.75 0.75\n"
     ]
    }
   ],
   "source": [
    "precision = precision_score(y_test,y_pred)\n",
    "recall = recall_score(y_test,y_pred)\n",
    "\n",
    "print(precision_score(y_test,y_pred), recall_score(y_test,y_pred))"
   ]
  }
 ],
 "metadata": {
  "kernelspec": {
   "display_name": "Python 3",
   "language": "python",
   "name": "python3"
  },
  "language_info": {
   "codemirror_mode": {
    "name": "ipython",
    "version": 3
   },
   "file_extension": ".py",
   "mimetype": "text/x-python",
   "name": "python",
   "nbconvert_exporter": "python",
   "pygments_lexer": "ipython3",
   "version": "3.8.8"
  }
 },
 "nbformat": 4,
 "nbformat_minor": 5
}
