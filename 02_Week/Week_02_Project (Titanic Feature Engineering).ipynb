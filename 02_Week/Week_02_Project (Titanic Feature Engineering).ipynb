{
 "cells": [
  {
   "cell_type": "code",
   "execution_count": 44,
   "id": "adac6e68",
   "metadata": {},
   "outputs": [],
   "source": [
    "from sklearn.model_selection import train_test_split\n",
    "from sklearn.linear_model import LogisticRegression\n",
    "import matplotlib.pyplot as plt\n",
    "import seaborn as sns\n",
    "import pandas as pd\n",
    "from sklearn.impute import SimpleImputer\n",
    "from sklearn.preprocessing import MinMaxScaler\n",
    "from sklearn.preprocessing import KBinsDiscretizer\n",
    "from sklearn.preprocessing import OneHotEncoder"
   ]
  },
  {
   "cell_type": "markdown",
   "id": "c07e0866",
   "metadata": {},
   "source": [
    "# Explore the Titanic dataset"
   ]
  },
  {
   "cell_type": "code",
   "execution_count": 45,
   "id": "79b9430c",
   "metadata": {},
   "outputs": [
    {
     "data": {
      "text/plain": [
       "(891, 12)"
      ]
     },
     "execution_count": 45,
     "metadata": {},
     "output_type": "execute_result"
    }
   ],
   "source": [
    "df = pd.read_csv('train.csv')\n",
    "df.shape"
   ]
  },
  {
   "cell_type": "code",
   "execution_count": 46,
   "id": "63e9bf6e",
   "metadata": {},
   "outputs": [
    {
     "data": {
      "text/html": [
       "<div>\n",
       "<style scoped>\n",
       "    .dataframe tbody tr th:only-of-type {\n",
       "        vertical-align: middle;\n",
       "    }\n",
       "\n",
       "    .dataframe tbody tr th {\n",
       "        vertical-align: top;\n",
       "    }\n",
       "\n",
       "    .dataframe thead th {\n",
       "        text-align: right;\n",
       "    }\n",
       "</style>\n",
       "<table border=\"1\" class=\"dataframe\">\n",
       "  <thead>\n",
       "    <tr style=\"text-align: right;\">\n",
       "      <th></th>\n",
       "      <th>Survived</th>\n",
       "      <th>Pclass</th>\n",
       "      <th>Name</th>\n",
       "      <th>Sex</th>\n",
       "      <th>Age</th>\n",
       "      <th>SibSp</th>\n",
       "      <th>Parch</th>\n",
       "      <th>Fare</th>\n",
       "      <th>Embarked</th>\n",
       "    </tr>\n",
       "  </thead>\n",
       "  <tbody>\n",
       "    <tr>\n",
       "      <th>0</th>\n",
       "      <td>0</td>\n",
       "      <td>3</td>\n",
       "      <td>Braund, Mr. Owen Harris</td>\n",
       "      <td>male</td>\n",
       "      <td>22.0</td>\n",
       "      <td>1</td>\n",
       "      <td>0</td>\n",
       "      <td>7.2500</td>\n",
       "      <td>S</td>\n",
       "    </tr>\n",
       "    <tr>\n",
       "      <th>1</th>\n",
       "      <td>1</td>\n",
       "      <td>1</td>\n",
       "      <td>Cumings, Mrs. John Bradley (Florence Briggs Th...</td>\n",
       "      <td>female</td>\n",
       "      <td>38.0</td>\n",
       "      <td>1</td>\n",
       "      <td>0</td>\n",
       "      <td>71.2833</td>\n",
       "      <td>C</td>\n",
       "    </tr>\n",
       "    <tr>\n",
       "      <th>2</th>\n",
       "      <td>1</td>\n",
       "      <td>3</td>\n",
       "      <td>Heikkinen, Miss. Laina</td>\n",
       "      <td>female</td>\n",
       "      <td>26.0</td>\n",
       "      <td>0</td>\n",
       "      <td>0</td>\n",
       "      <td>7.9250</td>\n",
       "      <td>S</td>\n",
       "    </tr>\n",
       "    <tr>\n",
       "      <th>3</th>\n",
       "      <td>1</td>\n",
       "      <td>1</td>\n",
       "      <td>Futrelle, Mrs. Jacques Heath (Lily May Peel)</td>\n",
       "      <td>female</td>\n",
       "      <td>35.0</td>\n",
       "      <td>1</td>\n",
       "      <td>0</td>\n",
       "      <td>53.1000</td>\n",
       "      <td>S</td>\n",
       "    </tr>\n",
       "    <tr>\n",
       "      <th>4</th>\n",
       "      <td>0</td>\n",
       "      <td>3</td>\n",
       "      <td>Allen, Mr. William Henry</td>\n",
       "      <td>male</td>\n",
       "      <td>35.0</td>\n",
       "      <td>0</td>\n",
       "      <td>0</td>\n",
       "      <td>8.0500</td>\n",
       "      <td>S</td>\n",
       "    </tr>\n",
       "  </tbody>\n",
       "</table>\n",
       "</div>"
      ],
      "text/plain": [
       "   Survived  Pclass                                               Name  \\\n",
       "0         0       3                            Braund, Mr. Owen Harris   \n",
       "1         1       1  Cumings, Mrs. John Bradley (Florence Briggs Th...   \n",
       "2         1       3                             Heikkinen, Miss. Laina   \n",
       "3         1       1       Futrelle, Mrs. Jacques Heath (Lily May Peel)   \n",
       "4         0       3                           Allen, Mr. William Henry   \n",
       "\n",
       "      Sex   Age  SibSp  Parch     Fare Embarked  \n",
       "0    male  22.0      1      0   7.2500        S  \n",
       "1  female  38.0      1      0  71.2833        C  \n",
       "2  female  26.0      0      0   7.9250        S  \n",
       "3  female  35.0      1      0  53.1000        S  \n",
       "4    male  35.0      0      0   8.0500        S  "
      ]
     },
     "execution_count": 46,
     "metadata": {},
     "output_type": "execute_result"
    }
   ],
   "source": [
    "df.drop(['PassengerId','Ticket','Cabin'], axis=1, inplace=True)\n",
    "df.head()"
   ]
  },
  {
   "cell_type": "code",
   "execution_count": 4,
   "id": "27dd2d84",
   "metadata": {},
   "outputs": [
    {
     "name": "stdout",
     "output_type": "stream",
     "text": [
      "<class 'pandas.core.frame.DataFrame'>\n",
      "RangeIndex: 891 entries, 0 to 890\n",
      "Data columns (total 11 columns):\n",
      " #   Column    Non-Null Count  Dtype  \n",
      "---  ------    --------------  -----  \n",
      " 0   Survived  891 non-null    int64  \n",
      " 1   Pclass    891 non-null    int64  \n",
      " 2   Name      891 non-null    object \n",
      " 3   Sex       891 non-null    object \n",
      " 4   Age       714 non-null    float64\n",
      " 5   SibSp     891 non-null    int64  \n",
      " 6   Parch     891 non-null    int64  \n",
      " 7   Ticket    891 non-null    object \n",
      " 8   Fare      891 non-null    float64\n",
      " 9   Cabin     204 non-null    object \n",
      " 10  Embarked  889 non-null    object \n",
      "dtypes: float64(2), int64(4), object(5)\n",
      "memory usage: 76.7+ KB\n"
     ]
    }
   ],
   "source": [
    "df.info()"
   ]
  },
  {
   "cell_type": "markdown",
   "id": "a8082306",
   "metadata": {},
   "source": [
    "### Check Correlations"
   ]
  },
  {
   "cell_type": "code",
   "execution_count": 5,
   "id": "8ec873a4",
   "metadata": {},
   "outputs": [
    {
     "data": {
      "text/plain": [
       "<AxesSubplot:>"
      ]
     },
     "execution_count": 5,
     "metadata": {},
     "output_type": "execute_result"
    },
    {
     "data": {
      "image/png": "[encoded data removed]",
      "text/plain": [
       "<Figure size 432x288 with 2 Axes>"
      ]
     },
     "metadata": {
      "needs_background": "light"
     },
     "output_type": "display_data"
    }
   ],
   "source": [
    "sns.heatmap(df.corr().abs(),annot=True)"
   ]
  },
  {
   "cell_type": "code",
   "execution_count": 6,
   "id": "06dc4c1f",
   "metadata": {},
   "outputs": [],
   "source": [
    "#sns.pairplot(df, hue='Survived')"
   ]
  },
  {
   "cell_type": "markdown",
   "id": "d2f11f4b",
   "metadata": {},
   "source": [
    "### Check missing cells"
   ]
  },
  {
   "cell_type": "code",
   "execution_count": 7,
   "id": "d7f487fa",
   "metadata": {},
   "outputs": [
    {
     "data": {
      "text/plain": [
       "<AxesSubplot:>"
      ]
     },
     "execution_count": 7,
     "metadata": {},
     "output_type": "execute_result"
    },
    {
     "data": {
      "image/png": "[encoded data removed]",
      "text/plain": [
       "<Figure size 432x288 with 2 Axes>"
      ]
     },
     "metadata": {
      "needs_background": "light"
     },
     "output_type": "display_data"
    }
   ],
   "source": [
    "sns.heatmap(df.isna())"
   ]
  },
  {
   "cell_type": "markdown",
   "id": "41a734d3",
   "metadata": {},
   "source": [
    "# Name"
   ]
  },
  {
   "cell_type": "markdown",
   "id": "2d95c00f",
   "metadata": {},
   "source": [
    "### To take name feature in account, 'Name' is replaced with 'Name Length'"
   ]
  },
  {
   "cell_type": "code",
   "execution_count": 8,
   "id": "dc0edc68",
   "metadata": {},
   "outputs": [],
   "source": [
    "df[\"Name\"]= df[\"Name\"].str.len()"
   ]
  },
  {
   "cell_type": "code",
   "execution_count": 9,
   "id": "10a10b19",
   "metadata": {},
   "outputs": [
    {
     "name": "stdout",
     "output_type": "stream",
     "text": [
      "<class 'pandas.core.frame.DataFrame'>\n",
      "RangeIndex: 891 entries, 0 to 890\n",
      "Data columns (total 11 columns):\n",
      " #   Column    Non-Null Count  Dtype  \n",
      "---  ------    --------------  -----  \n",
      " 0   Survived  891 non-null    int64  \n",
      " 1   Pclass    891 non-null    int64  \n",
      " 2   Name      891 non-null    int64  \n",
      " 3   Sex       891 non-null    object \n",
      " 4   Age       714 non-null    float64\n",
      " 5   SibSp     891 non-null    int64  \n",
      " 6   Parch     891 non-null    int64  \n",
      " 7   Ticket    891 non-null    object \n",
      " 8   Fare      891 non-null    float64\n",
      " 9   Cabin     204 non-null    object \n",
      " 10  Embarked  889 non-null    object \n",
      "dtypes: float64(2), int64(5), object(4)\n",
      "memory usage: 76.7+ KB\n"
     ]
    }
   ],
   "source": [
    "df.info()"
   ]
  },
  {
   "cell_type": "markdown",
   "id": "1dd95bd6",
   "metadata": {},
   "source": [
    "### Scale 'Name Length' using MinMaxScaler"
   ]
  },
  {
   "cell_type": "code",
   "execution_count": 10,
   "id": "3a172f2a",
   "metadata": {},
   "outputs": [],
   "source": [
    "df_Name_scaled = pd.DataFrame(MinMaxScaler().fit(df[['Name']]).transform(df[['Name']]), \n",
    "                              columns=df[['Name']].columns)\n",
    "df[\"Name\"] = df_Name_scaled "
   ]
  },
  {
   "cell_type": "code",
   "execution_count": 11,
   "id": "c12de7a6",
   "metadata": {},
   "outputs": [
    {
     "name": "stdout",
     "output_type": "stream",
     "text": [
      "<class 'pandas.core.frame.DataFrame'>\n",
      "RangeIndex: 891 entries, 0 to 890\n",
      "Data columns (total 11 columns):\n",
      " #   Column    Non-Null Count  Dtype  \n",
      "---  ------    --------------  -----  \n",
      " 0   Survived  891 non-null    int64  \n",
      " 1   Pclass    891 non-null    int64  \n",
      " 2   Name      891 non-null    float64\n",
      " 3   Sex       891 non-null    object \n",
      " 4   Age       714 non-null    float64\n",
      " 5   SibSp     891 non-null    int64  \n",
      " 6   Parch     891 non-null    int64  \n",
      " 7   Ticket    891 non-null    object \n",
      " 8   Fare      891 non-null    float64\n",
      " 9   Cabin     204 non-null    object \n",
      " 10  Embarked  889 non-null    object \n",
      "dtypes: float64(3), int64(4), object(4)\n",
      "memory usage: 76.7+ KB\n"
     ]
    }
   ],
   "source": [
    "df.info()"
   ]
  },
  {
   "cell_type": "markdown",
   "id": "d7737dc1",
   "metadata": {},
   "source": [
    "# Sex"
   ]
  },
  {
   "cell_type": "markdown",
   "id": "6ffbb11b",
   "metadata": {},
   "source": [
    "### Encode 'Sex' using OneHotEncoder"
   ]
  },
  {
   "cell_type": "code",
   "execution_count": 12,
   "id": "bc3b83fa",
   "metadata": {},
   "outputs": [],
   "source": [
    "ohe = OneHotEncoder(sparse=False, handle_unknown='ignore')\n",
    "ohe.fit(df[['Sex']])\n",
    "Sex_labels = ['male','female']\n",
    "ohe_Sex = pd.DataFrame(ohe.transform(df[['Sex']]), columns=Sex_labels)"
   ]
  },
  {
   "cell_type": "markdown",
   "id": "3e88877f",
   "metadata": {},
   "source": [
    "### Join encoded 'Sex' feature to dataframe"
   ]
  },
  {
   "cell_type": "code",
   "execution_count": 13,
   "id": "2d41ed62",
   "metadata": {},
   "outputs": [
    {
     "name": "stdout",
     "output_type": "stream",
     "text": [
      "<class 'pandas.core.frame.DataFrame'>\n",
      "Int64Index: 891 entries, 0 to 890\n",
      "Data columns (total 13 columns):\n",
      " #   Column    Non-Null Count  Dtype  \n",
      "---  ------    --------------  -----  \n",
      " 0   Survived  891 non-null    int64  \n",
      " 1   Pclass    891 non-null    int64  \n",
      " 2   Name      891 non-null    float64\n",
      " 3   Sex       891 non-null    object \n",
      " 4   Age       714 non-null    float64\n",
      " 5   SibSp     891 non-null    int64  \n",
      " 6   Parch     891 non-null    int64  \n",
      " 7   Ticket    891 non-null    object \n",
      " 8   Fare      891 non-null    float64\n",
      " 9   Cabin     204 non-null    object \n",
      " 10  Embarked  889 non-null    object \n",
      " 11  male      891 non-null    float64\n",
      " 12  female    891 non-null    float64\n",
      "dtypes: float64(5), int64(4), object(4)\n",
      "memory usage: 129.7+ KB\n"
     ]
    }
   ],
   "source": [
    "df = df.join(ohe_Sex, how='outer')\n",
    "df.info()"
   ]
  },
  {
   "cell_type": "markdown",
   "id": "84b54abc",
   "metadata": {},
   "source": [
    "# Age"
   ]
  },
  {
   "cell_type": "markdown",
   "id": "0383ade7",
   "metadata": {},
   "source": [
    "### To impute missing values in 'Age'"
   ]
  },
  {
   "cell_type": "code",
   "execution_count": 14,
   "id": "85aeb365",
   "metadata": {},
   "outputs": [],
   "source": [
    "imputer_age = SimpleImputer(strategy='mean',)\n",
    "imputer_age.fit(df[['Age']])\n",
    "age_imputed = pd.DataFrame(imputer_age.transform(df[['Age']]))\n",
    "df[['Age']] = age_imputed"
   ]
  },
  {
   "cell_type": "markdown",
   "id": "68cda914",
   "metadata": {},
   "source": [
    "### Bin the imputed Age column into 3 bins (young, middle-aged, old)"
   ]
  },
  {
   "cell_type": "code",
   "execution_count": 15,
   "id": "4c1d0a33",
   "metadata": {},
   "outputs": [
    {
     "name": "stdout",
     "output_type": "stream",
     "text": [
      "<class 'pandas.core.frame.DataFrame'>\n",
      "RangeIndex: 891 entries, 0 to 890\n",
      "Data columns (total 3 columns):\n",
      " #   Column       Non-Null Count  Dtype  \n",
      "---  ------       --------------  -----  \n",
      " 0   young        891 non-null    float64\n",
      " 1   middle-aged  891 non-null    float64\n",
      " 2   old          891 non-null    float64\n",
      "dtypes: float64(3)\n",
      "memory usage: 21.0 KB\n"
     ]
    }
   ],
   "source": [
    "kbins = KBinsDiscretizer(n_bins=3, encode='onehot-dense', strategy='quantile')\n",
    "kbins.fit(age_imputed)\n",
    "\n",
    "labels = ['young', 'middle-aged', 'old']\n",
    "age_bins = pd.DataFrame(kbins.transform(age_imputed), columns=labels)\n",
    "age_bins.info()"
   ]
  },
  {
   "cell_type": "markdown",
   "id": "41eb6fd4",
   "metadata": {},
   "source": [
    "### Join binned 'Age' into dataframe"
   ]
  },
  {
   "cell_type": "code",
   "execution_count": 16,
   "id": "2a21ae99",
   "metadata": {},
   "outputs": [
    {
     "name": "stdout",
     "output_type": "stream",
     "text": [
      "<class 'pandas.core.frame.DataFrame'>\n",
      "Int64Index: 891 entries, 0 to 890\n",
      "Data columns (total 16 columns):\n",
      " #   Column       Non-Null Count  Dtype  \n",
      "---  ------       --------------  -----  \n",
      " 0   Survived     891 non-null    int64  \n",
      " 1   Pclass       891 non-null    int64  \n",
      " 2   Name         891 non-null    float64\n",
      " 3   Sex          891 non-null    object \n",
      " 4   Age          891 non-null    float64\n",
      " 5   SibSp        891 non-null    int64  \n",
      " 6   Parch        891 non-null    int64  \n",
      " 7   Ticket       891 non-null    object \n",
      " 8   Fare         891 non-null    float64\n",
      " 9   Cabin        204 non-null    object \n",
      " 10  Embarked     889 non-null    object \n",
      " 11  male         891 non-null    float64\n",
      " 12  female       891 non-null    float64\n",
      " 13  young        891 non-null    float64\n",
      " 14  middle-aged  891 non-null    float64\n",
      " 15  old          891 non-null    float64\n",
      "dtypes: float64(8), int64(4), object(4)\n",
      "memory usage: 150.6+ KB\n"
     ]
    }
   ],
   "source": [
    "df= df.join(age_bins, how='outer')\n",
    "df.info()"
   ]
  },
  {
   "cell_type": "markdown",
   "id": "ab03faf7",
   "metadata": {},
   "source": [
    "# Embarked"
   ]
  },
  {
   "cell_type": "markdown",
   "id": "5f42c5df",
   "metadata": {},
   "source": [
    "### To impute missing values in 'Embarked'"
   ]
  },
  {
   "cell_type": "code",
   "execution_count": 17,
   "id": "faf4328e",
   "metadata": {},
   "outputs": [],
   "source": [
    "imputer_emb = SimpleImputer(strategy='most_frequent',)\n",
    "imputer_emb.fit(df[['Embarked']])\n",
    "emb_imputed = pd.DataFrame(imputer_emb.transform(df[['Embarked']]))\n",
    "df[['Embarked']] = emb_imputed"
   ]
  },
  {
   "cell_type": "markdown",
   "id": "b05b5d1b",
   "metadata": {},
   "source": [
    "### Encode 'Embarked' using OneHotEncoder"
   ]
  },
  {
   "cell_type": "code",
   "execution_count": 18,
   "id": "6defa29f",
   "metadata": {},
   "outputs": [],
   "source": [
    "ohe = OneHotEncoder(sparse=False, handle_unknown='ignore')\n",
    "ohe.fit(df[['Embarked']])\n",
    "Embarked_labels = ['em1','em2','em3']\n",
    "ohe_Embarked = pd.DataFrame(ohe.transform(df[['Embarked']]), columns=Embarked_labels)"
   ]
  },
  {
   "cell_type": "markdown",
   "id": "37c31ed5",
   "metadata": {},
   "source": [
    "### Join encoded 'ohe_Embarked' into dataframe"
   ]
  },
  {
   "cell_type": "code",
   "execution_count": 19,
   "id": "da5a556d",
   "metadata": {},
   "outputs": [
    {
     "name": "stdout",
     "output_type": "stream",
     "text": [
      "<class 'pandas.core.frame.DataFrame'>\n",
      "Int64Index: 891 entries, 0 to 890\n",
      "Data columns (total 19 columns):\n",
      " #   Column       Non-Null Count  Dtype  \n",
      "---  ------       --------------  -----  \n",
      " 0   Survived     891 non-null    int64  \n",
      " 1   Pclass       891 non-null    int64  \n",
      " 2   Name         891 non-null    float64\n",
      " 3   Sex          891 non-null    object \n",
      " 4   Age          891 non-null    float64\n",
      " 5   SibSp        891 non-null    int64  \n",
      " 6   Parch        891 non-null    int64  \n",
      " 7   Ticket       891 non-null    object \n",
      " 8   Fare         891 non-null    float64\n",
      " 9   Cabin        204 non-null    object \n",
      " 10  Embarked     891 non-null    object \n",
      " 11  male         891 non-null    float64\n",
      " 12  female       891 non-null    float64\n",
      " 13  young        891 non-null    float64\n",
      " 14  middle-aged  891 non-null    float64\n",
      " 15  old          891 non-null    float64\n",
      " 16  em1          891 non-null    float64\n",
      " 17  em2          891 non-null    float64\n",
      " 18  em3          891 non-null    float64\n",
      "dtypes: float64(11), int64(4), object(4)\n",
      "memory usage: 171.5+ KB\n"
     ]
    }
   ],
   "source": [
    "df = df.join(ohe_Embarked, how='outer')\n",
    "df.info()"
   ]
  },
  {
   "cell_type": "markdown",
   "id": "8c8f7f24",
   "metadata": {},
   "source": [
    "# Fare"
   ]
  },
  {
   "cell_type": "markdown",
   "id": "de32064e",
   "metadata": {},
   "source": [
    "### Scale the Fare column"
   ]
  },
  {
   "cell_type": "code",
   "execution_count": 20,
   "id": "b136551e",
   "metadata": {},
   "outputs": [
    {
     "data": {
      "text/plain": [
       "0      0.014151\n",
       "1      0.139136\n",
       "2      0.015469\n",
       "3      0.103644\n",
       "4      0.015713\n",
       "         ...   \n",
       "886    0.025374\n",
       "887    0.058556\n",
       "888    0.045771\n",
       "889    0.058556\n",
       "890    0.015127\n",
       "Name: Fare, Length: 891, dtype: float64"
      ]
     },
     "execution_count": 20,
     "metadata": {},
     "output_type": "execute_result"
    }
   ],
   "source": [
    "df_Fare_scaled = pd.DataFrame(MinMaxScaler().fit(df[['Fare']]).transform(df[['Fare']]), \n",
    "                              columns=df[['Fare']].columns)\n",
    "df['Fare'] = df_Fare_scaled\n",
    "df['Fare']"
   ]
  }
 ],
 "metadata": {
  "kernelspec": {
   "display_name": "Python 3",
   "language": "python",
   "name": "python3"
  },
  "language_info": {
   "codemirror_mode": {
    "name": "ipython",
    "version": 3
   },
   "file_extension": ".py",
   "mimetype": "text/x-python",
   "name": "python",
   "nbconvert_exporter": "python",
   "pygments_lexer": "ipython3",
   "version": "3.8.8"
  }
 },
 "nbformat": 4,
 "nbformat_minor": 5
}
