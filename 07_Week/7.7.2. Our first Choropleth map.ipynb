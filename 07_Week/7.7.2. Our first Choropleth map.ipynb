{
 "cells": [
  {
   "cell_type": "markdown",
   "metadata": {},
   "source": [
    "import pandas as pd\n",
    "import plotly.express as px\n",
    "\n",
    "df = pd.DataFrame({\n",
    "    'iso3_country': ['DEU', 'USA', 'IRN', 'CHN'],\n",
    "    'value': [100, 120, 78, 23]\n",
    "})\n",
    "\n",
    "fig = px.choropleth(df, locations='iso3_country',\n",
    "                    projection='gnomonic',\n",
    "                    scope='world',\n",
    "                    color='value', locationmode='ISO-3')\n",
    "fig.write_html('map.html')"
   ]
  },
  {
   "cell_type": "code",
   "execution_count": 2,
   "metadata": {},
   "outputs": [],
   "source": [
    "import pandas as pd\n",
    "import plotly.express as px\n",
    "\n",
    "\n",
    "data = pd.DataFrame({\n",
    "   'lat': [50.9375, 52.5200, 53.5511, 48.7758],\n",
    "   'lon': [6.9603, 13.4050, 9.9937, 9.1829],\n",
    "   'city': ['Cologne', 'Berlin', 'Hamburg', 'Stuttgart'],\n",
    "   'population': [1086000, 3645000, 1841000, 634830]\n",
    "})\n",
    "\n",
    "\n",
    "fig = px.scatter_mapbox(data,\n",
    "                        lat=\"lat\", lon=\"lon\",\n",
    "                        hover_name=\"city\", size=\"population\",\n",
    "                        # start location and zoom level\n",
    "                        zoom=4, center={'lat': 51.1657, 'lon': 10.4515},\n",
    "                        mapbox_style='carto-positron')\n",
    "\n",
    "fig.write_html('map.html')"
   ]
  },
  {
   "cell_type": "code",
   "execution_count": null,
   "metadata": {},
   "outputs": [],
   "source": []
  }
 ],
 "metadata": {
  "interpreter": {
   "hash": "ef262637371f0e955c99f59ba6bc9da0dcca8f574b4a8ccc6c22cf2dccc86746"
  },
  "kernelspec": {
   "display_name": "Python 3.9.7 64-bit ('base': conda)",
   "language": "python",
   "name": "python3"
  },
  "language_info": {
   "codemirror_mode": {
    "name": "ipython",
    "version": 3
   },
   "file_extension": ".py",
   "mimetype": "text/x-python",
   "name": "python",
   "nbconvert_exporter": "python",
   "pygments_lexer": "ipython3",
   "version": "3.9.7"
  },
  "orig_nbformat": 4
 },
 "nbformat": 4,
 "nbformat_minor": 2
}
