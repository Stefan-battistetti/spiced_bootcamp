{
  "nbformat": 4,
  "nbformat_minor": 0,
  "metadata": {
    "colab": {
      "name": "Within_class_Wrangling.ipynb",
      "provenance": [],
      "collapsed_sections": []
    },
    "kernelspec": {
      "name": "python3",
      "display_name": "Python 3"
    },
    "language_info": {
      "name": "python"
    }
  },
  "cells": [
    {
      "cell_type": "code",
      "metadata": {
        "id": "DOgvnWd3AeXw"
      },
      "source": [
        "import pandas as pd\n",
        "import seaborn as sns\n",
        "import matplotlib.pyplot as plt\n",
        "import numpy as np\n"
      ],
      "execution_count": 1,
      "outputs": []
    },
    {
      "cell_type": "code",
      "metadata": {
        "colab": {
          "base_uri": "https://localhost:8080/"
        },
        "id": "iTZIVx9CAsW6",
        "outputId": "bd14a434-cffc-4856-d692-b323402b5b17"
      },
      "source": [
        "!ls"
      ],
      "execution_count": 2,
      "outputs": [
        {
          "output_type": "stream",
          "name": "stdout",
          "text": [
            "concat.png\t     penguins_adelie.csv     sample_data\n",
            "merge_leftright.png  penguins_chinstrap.csv  sex_data_penguins.csv\n",
            "merge.png\t     penguins_gentoo.csv\n"
          ]
        }
      ]
    },
    {
      "cell_type": "code",
      "metadata": {
        "id": "KdWzIk4XAvh6"
      },
      "source": [
        "# load single files\n",
        "adelie_df=pd.read_csv('penguins_adelie.csv', index_col=0)\n",
        "chinstrap_df=pd.read_csv('penguins_chinstrap.csv', index_col=0)\n",
        "gentoo_df=pd.read_csv('penguins_gentoo.csv', index_col=0)\n",
        "sex_data_df=pd.read_csv('sex_data_penguins.csv')"
      ],
      "execution_count": 3,
      "outputs": []
    },
    {
      "cell_type": "code",
      "metadata": {
        "id": "iHmRkgtfThXP"
      },
      "source": [
        "sex_data_df_2=pd.read_csv('sex_data_penguins.csv')"
      ],
      "execution_count": 27,
      "outputs": []
    },
    {
      "cell_type": "code",
      "metadata": {
        "id": "YTOgtcFdCChE"
      },
      "source": [
        "# automate the \"read\"\n",
        "import os "
      ],
      "execution_count": 4,
      "outputs": []
    },
    {
      "cell_type": "code",
      "metadata": {
        "colab": {
          "base_uri": "https://localhost:8080/"
        },
        "id": "xtCqYoWiCKg4",
        "outputId": "643c9780-506f-4c9f-9a8e-0ec7096b026d"
      },
      "source": [
        "#return results of ls as a list\n",
        "os.listdir()"
      ],
      "execution_count": 5,
      "outputs": [
        {
          "output_type": "execute_result",
          "data": {
            "text/plain": [
              "['.config',\n",
              " 'penguins_chinstrap.csv',\n",
              " 'concat.png',\n",
              " 'merge_leftright.png',\n",
              " 'penguins_gentoo.csv',\n",
              " 'penguins_adelie.csv',\n",
              " 'merge.png',\n",
              " 'sex_data_penguins.csv',\n",
              " 'sample_data']"
            ]
          },
          "metadata": {},
          "execution_count": 5
        }
      ]
    },
    {
      "cell_type": "code",
      "metadata": {
        "id": "CbAnqinOCUbr"
      },
      "source": [
        "# load multiple dataframes into a list\n",
        "df_list=[]\n",
        "for file in os.listdir():\n",
        "  if file.startswith('penguins'):\n",
        "    df=pd.read_csv(file)\n",
        "    df_list.append(df)"
      ],
      "execution_count": 6,
      "outputs": []
    },
    {
      "cell_type": "code",
      "metadata": {
        "colab": {
          "base_uri": "https://localhost:8080/"
        },
        "id": "VA5E_xhsDL83",
        "outputId": "d1f64550-17e7-4447-ee34-3d52868b27d3"
      },
      "source": [
        "df_list   # a list that contains multiple dataframes "
      ],
      "execution_count": 7,
      "outputs": [
        {
          "output_type": "execute_result",
          "data": {
            "text/plain": [
              "[   studyName  Sample Number  ... Body Mass (g) Comments\n",
              " 0    PAL0708              1  ...        3500.0      NaN\n",
              " 1    PAL0708              2  ...        3900.0      NaN\n",
              " 2    PAL0708              3  ...        3650.0      NaN\n",
              " 3    PAL0708              4  ...        3525.0      NaN\n",
              " 4    PAL0708              5  ...        3725.0      NaN\n",
              " ..       ...            ...  ...           ...      ...\n",
              " 63   PAL0910             64  ...        4000.0      NaN\n",
              " 64   PAL0910             65  ...        3400.0      NaN\n",
              " 65   PAL0910             66  ...        3775.0      NaN\n",
              " 66   PAL0910             67  ...        4100.0      NaN\n",
              " 67   PAL0910             68  ...        3775.0      NaN\n",
              " \n",
              " [68 rows x 12 columns],\n",
              "     studyName  Sample Number  ... Body Mass (g) Comments\n",
              " 0     PAL0708              1  ...        4500.0      NaN\n",
              " 1     PAL0708              2  ...        5700.0      NaN\n",
              " 2     PAL0708              3  ...        4450.0      NaN\n",
              " 3     PAL0708              4  ...        5700.0      NaN\n",
              " 4     PAL0708              5  ...        5400.0      NaN\n",
              " ..        ...            ...  ...           ...      ...\n",
              " 119   PAL0910            120  ...           NaN      NaN\n",
              " 120   PAL0910            121  ...        4850.0      NaN\n",
              " 121   PAL0910            122  ...        5750.0      NaN\n",
              " 122   PAL0910            123  ...        5200.0      NaN\n",
              " 123   PAL0910            124  ...        5400.0      NaN\n",
              " \n",
              " [124 rows x 12 columns],\n",
              "     studyName  Sample Number  ... Body Mass (g)                        Comments\n",
              " 0     PAL0708              1  ...        3750.0  Not enough blood for isotopes.\n",
              " 1     PAL0708              2  ...        3800.0                             NaN\n",
              " 2     PAL0708              3  ...        3250.0                             NaN\n",
              " 3     PAL0708              4  ...           NaN              Adult not sampled.\n",
              " 4     PAL0708              5  ...        3450.0                             NaN\n",
              " ..        ...            ...  ...           ...                             ...\n",
              " 147   PAL0910            148  ...        3475.0                             NaN\n",
              " 148   PAL0910            149  ...        3450.0                             NaN\n",
              " 149   PAL0910            150  ...        3750.0                             NaN\n",
              " 150   PAL0910            151  ...        3700.0                             NaN\n",
              " 151   PAL0910            152  ...        4000.0                             NaN\n",
              " \n",
              " [152 rows x 12 columns]]"
            ]
          },
          "metadata": {},
          "execution_count": 7
        }
      ]
    },
    {
      "cell_type": "code",
      "metadata": {
        "colab": {
          "base_uri": "https://localhost:8080/"
        },
        "id": "4z5OWRc_Eeuf",
        "outputId": "1eaa1cf4-587b-467d-9e1f-bb4621746dd8"
      },
      "source": [
        "len(df_list)"
      ],
      "execution_count": 8,
      "outputs": [
        {
          "output_type": "execute_result",
          "data": {
            "text/plain": [
              "3"
            ]
          },
          "metadata": {},
          "execution_count": 8
        }
      ]
    },
    {
      "cell_type": "code",
      "metadata": {
        "colab": {
          "base_uri": "https://localhost:8080/",
          "height": 204
        },
        "id": "NnYiMbsYDTFm",
        "outputId": "739fa18e-86fa-47a3-f582-2d756bce652a"
      },
      "source": [
        "df_list[1].head()"
      ],
      "execution_count": 9,
      "outputs": [
        {
          "output_type": "execute_result",
          "data": {
            "text/html": [
              "<div>\n",
              "<style scoped>\n",
              "    .dataframe tbody tr th:only-of-type {\n",
              "        vertical-align: middle;\n",
              "    }\n",
              "\n",
              "    .dataframe tbody tr th {\n",
              "        vertical-align: top;\n",
              "    }\n",
              "\n",
              "    .dataframe thead th {\n",
              "        text-align: right;\n",
              "    }\n",
              "</style>\n",
              "<table border=\"1\" class=\"dataframe\">\n",
              "  <thead>\n",
              "    <tr style=\"text-align: right;\">\n",
              "      <th></th>\n",
              "      <th>studyName</th>\n",
              "      <th>Sample Number</th>\n",
              "      <th>Species</th>\n",
              "      <th>Sample ID</th>\n",
              "      <th>Region</th>\n",
              "      <th>Island</th>\n",
              "      <th>Individual ID</th>\n",
              "      <th>Culmen Length (mm)</th>\n",
              "      <th>Culmen Depth (mm)</th>\n",
              "      <th>Flipper Length (mm)</th>\n",
              "      <th>Body Mass (g)</th>\n",
              "      <th>Comments</th>\n",
              "    </tr>\n",
              "  </thead>\n",
              "  <tbody>\n",
              "    <tr>\n",
              "      <th>0</th>\n",
              "      <td>PAL0708</td>\n",
              "      <td>1</td>\n",
              "      <td>Gentoo</td>\n",
              "      <td>G_1</td>\n",
              "      <td>Anvers</td>\n",
              "      <td>Biscoe</td>\n",
              "      <td>N31A1</td>\n",
              "      <td>46.1</td>\n",
              "      <td>13.2</td>\n",
              "      <td>211.0</td>\n",
              "      <td>4500.0</td>\n",
              "      <td>NaN</td>\n",
              "    </tr>\n",
              "    <tr>\n",
              "      <th>1</th>\n",
              "      <td>PAL0708</td>\n",
              "      <td>2</td>\n",
              "      <td>Gentoo</td>\n",
              "      <td>G_2</td>\n",
              "      <td>Anvers</td>\n",
              "      <td>Biscoe</td>\n",
              "      <td>N31A2</td>\n",
              "      <td>50.0</td>\n",
              "      <td>16.3</td>\n",
              "      <td>230.0</td>\n",
              "      <td>5700.0</td>\n",
              "      <td>NaN</td>\n",
              "    </tr>\n",
              "    <tr>\n",
              "      <th>2</th>\n",
              "      <td>PAL0708</td>\n",
              "      <td>3</td>\n",
              "      <td>Gentoo</td>\n",
              "      <td>G_3</td>\n",
              "      <td>Anvers</td>\n",
              "      <td>Biscoe</td>\n",
              "      <td>N32A1</td>\n",
              "      <td>48.7</td>\n",
              "      <td>14.1</td>\n",
              "      <td>210.0</td>\n",
              "      <td>4450.0</td>\n",
              "      <td>NaN</td>\n",
              "    </tr>\n",
              "    <tr>\n",
              "      <th>3</th>\n",
              "      <td>PAL0708</td>\n",
              "      <td>4</td>\n",
              "      <td>Gentoo</td>\n",
              "      <td>G_4</td>\n",
              "      <td>Anvers</td>\n",
              "      <td>Biscoe</td>\n",
              "      <td>N32A2</td>\n",
              "      <td>50.0</td>\n",
              "      <td>15.2</td>\n",
              "      <td>218.0</td>\n",
              "      <td>5700.0</td>\n",
              "      <td>NaN</td>\n",
              "    </tr>\n",
              "    <tr>\n",
              "      <th>4</th>\n",
              "      <td>PAL0708</td>\n",
              "      <td>5</td>\n",
              "      <td>Gentoo</td>\n",
              "      <td>G_5</td>\n",
              "      <td>Anvers</td>\n",
              "      <td>Biscoe</td>\n",
              "      <td>N33A1</td>\n",
              "      <td>47.6</td>\n",
              "      <td>14.5</td>\n",
              "      <td>215.0</td>\n",
              "      <td>5400.0</td>\n",
              "      <td>NaN</td>\n",
              "    </tr>\n",
              "  </tbody>\n",
              "</table>\n",
              "</div>"
            ],
            "text/plain": [
              "  studyName  Sample Number  ... Body Mass (g) Comments\n",
              "0   PAL0708              1  ...        4500.0      NaN\n",
              "1   PAL0708              2  ...        5700.0      NaN\n",
              "2   PAL0708              3  ...        4450.0      NaN\n",
              "3   PAL0708              4  ...        5700.0      NaN\n",
              "4   PAL0708              5  ...        5400.0      NaN\n",
              "\n",
              "[5 rows x 12 columns]"
            ]
          },
          "metadata": {},
          "execution_count": 9
        }
      ]
    },
    {
      "cell_type": "code",
      "metadata": {
        "colab": {
          "base_uri": "https://localhost:8080/",
          "height": 204
        },
        "id": "zL_Nfks7DX6F",
        "outputId": "5b392222-73ee-4136-d721-d384595d4bfa"
      },
      "source": [
        "# Combine all three dataframes in a dataframe\n",
        "df_all=pd.concat(df_list).reset_index(drop=True)\n",
        "df_all.head()"
      ],
      "execution_count": 10,
      "outputs": [
        {
          "output_type": "execute_result",
          "data": {
            "text/html": [
              "<div>\n",
              "<style scoped>\n",
              "    .dataframe tbody tr th:only-of-type {\n",
              "        vertical-align: middle;\n",
              "    }\n",
              "\n",
              "    .dataframe tbody tr th {\n",
              "        vertical-align: top;\n",
              "    }\n",
              "\n",
              "    .dataframe thead th {\n",
              "        text-align: right;\n",
              "    }\n",
              "</style>\n",
              "<table border=\"1\" class=\"dataframe\">\n",
              "  <thead>\n",
              "    <tr style=\"text-align: right;\">\n",
              "      <th></th>\n",
              "      <th>studyName</th>\n",
              "      <th>Sample Number</th>\n",
              "      <th>Species</th>\n",
              "      <th>Sample ID</th>\n",
              "      <th>Region</th>\n",
              "      <th>Island</th>\n",
              "      <th>Individual ID</th>\n",
              "      <th>Culmen Length (mm)</th>\n",
              "      <th>Culmen Depth (mm)</th>\n",
              "      <th>Flipper Length (mm)</th>\n",
              "      <th>Body Mass (g)</th>\n",
              "      <th>Comments</th>\n",
              "    </tr>\n",
              "  </thead>\n",
              "  <tbody>\n",
              "    <tr>\n",
              "      <th>0</th>\n",
              "      <td>PAL0708</td>\n",
              "      <td>1</td>\n",
              "      <td>Chinstrap</td>\n",
              "      <td>C_1</td>\n",
              "      <td>Anvers</td>\n",
              "      <td>Dream</td>\n",
              "      <td>N61A1</td>\n",
              "      <td>46.5</td>\n",
              "      <td>17.9</td>\n",
              "      <td>192.0</td>\n",
              "      <td>3500.0</td>\n",
              "      <td>NaN</td>\n",
              "    </tr>\n",
              "    <tr>\n",
              "      <th>1</th>\n",
              "      <td>PAL0708</td>\n",
              "      <td>2</td>\n",
              "      <td>Chinstrap</td>\n",
              "      <td>C_2</td>\n",
              "      <td>Anvers</td>\n",
              "      <td>Dream</td>\n",
              "      <td>N61A2</td>\n",
              "      <td>50.0</td>\n",
              "      <td>19.5</td>\n",
              "      <td>196.0</td>\n",
              "      <td>3900.0</td>\n",
              "      <td>NaN</td>\n",
              "    </tr>\n",
              "    <tr>\n",
              "      <th>2</th>\n",
              "      <td>PAL0708</td>\n",
              "      <td>3</td>\n",
              "      <td>Chinstrap</td>\n",
              "      <td>C_3</td>\n",
              "      <td>Anvers</td>\n",
              "      <td>Dream</td>\n",
              "      <td>N62A1</td>\n",
              "      <td>51.3</td>\n",
              "      <td>19.2</td>\n",
              "      <td>193.0</td>\n",
              "      <td>3650.0</td>\n",
              "      <td>NaN</td>\n",
              "    </tr>\n",
              "    <tr>\n",
              "      <th>3</th>\n",
              "      <td>PAL0708</td>\n",
              "      <td>4</td>\n",
              "      <td>Chinstrap</td>\n",
              "      <td>C_4</td>\n",
              "      <td>Anvers</td>\n",
              "      <td>Dream</td>\n",
              "      <td>N62A2</td>\n",
              "      <td>45.4</td>\n",
              "      <td>18.7</td>\n",
              "      <td>188.0</td>\n",
              "      <td>3525.0</td>\n",
              "      <td>NaN</td>\n",
              "    </tr>\n",
              "    <tr>\n",
              "      <th>4</th>\n",
              "      <td>PAL0708</td>\n",
              "      <td>5</td>\n",
              "      <td>Chinstrap</td>\n",
              "      <td>C_5</td>\n",
              "      <td>Anvers</td>\n",
              "      <td>Dream</td>\n",
              "      <td>N64A1</td>\n",
              "      <td>52.7</td>\n",
              "      <td>19.8</td>\n",
              "      <td>197.0</td>\n",
              "      <td>3725.0</td>\n",
              "      <td>NaN</td>\n",
              "    </tr>\n",
              "  </tbody>\n",
              "</table>\n",
              "</div>"
            ],
            "text/plain": [
              "  studyName  Sample Number  ... Body Mass (g) Comments\n",
              "0   PAL0708              1  ...        3500.0      NaN\n",
              "1   PAL0708              2  ...        3900.0      NaN\n",
              "2   PAL0708              3  ...        3650.0      NaN\n",
              "3   PAL0708              4  ...        3525.0      NaN\n",
              "4   PAL0708              5  ...        3725.0      NaN\n",
              "\n",
              "[5 rows x 12 columns]"
            ]
          },
          "metadata": {},
          "execution_count": 10
        }
      ]
    },
    {
      "cell_type": "code",
      "metadata": {
        "colab": {
          "base_uri": "https://localhost:8080/"
        },
        "id": "sEhD2Y33EM-6",
        "outputId": "7ecdcd92-7c2c-4645-845f-e20e99695cd1"
      },
      "source": [
        "df_all.shape"
      ],
      "execution_count": 11,
      "outputs": [
        {
          "output_type": "execute_result",
          "data": {
            "text/plain": [
              "(344, 12)"
            ]
          },
          "metadata": {},
          "execution_count": 11
        }
      ]
    },
    {
      "cell_type": "code",
      "metadata": {
        "colab": {
          "base_uri": "https://localhost:8080/",
          "height": 204
        },
        "id": "2WA9W_6tGTOv",
        "outputId": "8ddf3d5b-2787-48ff-f86c-443393374b1d"
      },
      "source": [
        "sex_data_df.head()"
      ],
      "execution_count": 12,
      "outputs": [
        {
          "output_type": "execute_result",
          "data": {
            "text/html": [
              "<div>\n",
              "<style scoped>\n",
              "    .dataframe tbody tr th:only-of-type {\n",
              "        vertical-align: middle;\n",
              "    }\n",
              "\n",
              "    .dataframe tbody tr th {\n",
              "        vertical-align: top;\n",
              "    }\n",
              "\n",
              "    .dataframe thead th {\n",
              "        text-align: right;\n",
              "    }\n",
              "</style>\n",
              "<table border=\"1\" class=\"dataframe\">\n",
              "  <thead>\n",
              "    <tr style=\"text-align: right;\">\n",
              "      <th></th>\n",
              "      <th>Sex</th>\n",
              "      <th>Sample Number</th>\n",
              "      <th>Species</th>\n",
              "    </tr>\n",
              "  </thead>\n",
              "  <tbody>\n",
              "    <tr>\n",
              "      <th>0</th>\n",
              "      <td>MALE</td>\n",
              "      <td>1</td>\n",
              "      <td>Adelie</td>\n",
              "    </tr>\n",
              "    <tr>\n",
              "      <th>1</th>\n",
              "      <td>FEMALE</td>\n",
              "      <td>2</td>\n",
              "      <td>Adelie</td>\n",
              "    </tr>\n",
              "    <tr>\n",
              "      <th>2</th>\n",
              "      <td>FEMALE</td>\n",
              "      <td>3</td>\n",
              "      <td>Adelie</td>\n",
              "    </tr>\n",
              "    <tr>\n",
              "      <th>3</th>\n",
              "      <td>NaN</td>\n",
              "      <td>4</td>\n",
              "      <td>Adelie</td>\n",
              "    </tr>\n",
              "    <tr>\n",
              "      <th>4</th>\n",
              "      <td>FEMALE</td>\n",
              "      <td>5</td>\n",
              "      <td>Adelie</td>\n",
              "    </tr>\n",
              "  </tbody>\n",
              "</table>\n",
              "</div>"
            ],
            "text/plain": [
              "      Sex  Sample Number Species\n",
              "0    MALE              1  Adelie\n",
              "1  FEMALE              2  Adelie\n",
              "2  FEMALE              3  Adelie\n",
              "3     NaN              4  Adelie\n",
              "4  FEMALE              5  Adelie"
            ]
          },
          "metadata": {},
          "execution_count": 12
        }
      ]
    },
    {
      "cell_type": "code",
      "metadata": {
        "colab": {
          "base_uri": "https://localhost:8080/"
        },
        "id": "qyZuknHHGrYq",
        "outputId": "1d3ab0f3-18de-48cc-f010-6db19e66c97c"
      },
      "source": [
        "sex_data_df['Sample Number'].nunique()"
      ],
      "execution_count": 13,
      "outputs": [
        {
          "output_type": "execute_result",
          "data": {
            "text/plain": [
              "152"
            ]
          },
          "metadata": {},
          "execution_count": 13
        }
      ]
    },
    {
      "cell_type": "code",
      "metadata": {
        "id": "YJcc8h_tJMZM"
      },
      "source": [
        "# create sample ID column (use the same dataframe)\n",
        "sex_data_df['Sample ID']=sex_data_df['Species'].str[0] +'_' +sex_data_df['Sample Number'].astype(str)"
      ],
      "execution_count": 14,
      "outputs": []
    },
    {
      "cell_type": "code",
      "metadata": {
        "colab": {
          "base_uri": "https://localhost:8080/",
          "height": 204
        },
        "id": "LmcMmCtdLjn2",
        "outputId": "25626f68-ef50-4f50-ae6b-b6f339bc6d88"
      },
      "source": [
        "sex_data_df.head()"
      ],
      "execution_count": 15,
      "outputs": [
        {
          "output_type": "execute_result",
          "data": {
            "text/html": [
              "<div>\n",
              "<style scoped>\n",
              "    .dataframe tbody tr th:only-of-type {\n",
              "        vertical-align: middle;\n",
              "    }\n",
              "\n",
              "    .dataframe tbody tr th {\n",
              "        vertical-align: top;\n",
              "    }\n",
              "\n",
              "    .dataframe thead th {\n",
              "        text-align: right;\n",
              "    }\n",
              "</style>\n",
              "<table border=\"1\" class=\"dataframe\">\n",
              "  <thead>\n",
              "    <tr style=\"text-align: right;\">\n",
              "      <th></th>\n",
              "      <th>Sex</th>\n",
              "      <th>Sample Number</th>\n",
              "      <th>Species</th>\n",
              "      <th>Sample ID</th>\n",
              "    </tr>\n",
              "  </thead>\n",
              "  <tbody>\n",
              "    <tr>\n",
              "      <th>0</th>\n",
              "      <td>MALE</td>\n",
              "      <td>1</td>\n",
              "      <td>Adelie</td>\n",
              "      <td>A_1</td>\n",
              "    </tr>\n",
              "    <tr>\n",
              "      <th>1</th>\n",
              "      <td>FEMALE</td>\n",
              "      <td>2</td>\n",
              "      <td>Adelie</td>\n",
              "      <td>A_2</td>\n",
              "    </tr>\n",
              "    <tr>\n",
              "      <th>2</th>\n",
              "      <td>FEMALE</td>\n",
              "      <td>3</td>\n",
              "      <td>Adelie</td>\n",
              "      <td>A_3</td>\n",
              "    </tr>\n",
              "    <tr>\n",
              "      <th>3</th>\n",
              "      <td>NaN</td>\n",
              "      <td>4</td>\n",
              "      <td>Adelie</td>\n",
              "      <td>A_4</td>\n",
              "    </tr>\n",
              "    <tr>\n",
              "      <th>4</th>\n",
              "      <td>FEMALE</td>\n",
              "      <td>5</td>\n",
              "      <td>Adelie</td>\n",
              "      <td>A_5</td>\n",
              "    </tr>\n",
              "  </tbody>\n",
              "</table>\n",
              "</div>"
            ],
            "text/plain": [
              "      Sex  Sample Number Species Sample ID\n",
              "0    MALE              1  Adelie       A_1\n",
              "1  FEMALE              2  Adelie       A_2\n",
              "2  FEMALE              3  Adelie       A_3\n",
              "3     NaN              4  Adelie       A_4\n",
              "4  FEMALE              5  Adelie       A_5"
            ]
          },
          "metadata": {},
          "execution_count": 15
        }
      ]
    },
    {
      "cell_type": "code",
      "metadata": {
        "id": "CiKqbC4FLRfM"
      },
      "source": [
        "# drop unnecessary columns\n",
        "sex_data_df.drop(['Sample Number','Species'], axis=1, inplace=True) #axis= 1 --> column , 0 --> rows"
      ],
      "execution_count": 16,
      "outputs": []
    },
    {
      "cell_type": "code",
      "metadata": {
        "colab": {
          "base_uri": "https://localhost:8080/",
          "height": 204
        },
        "id": "jHr3RAF4PMVu",
        "outputId": "086f470d-0d93-4ff7-b0e0-25b3334d022d"
      },
      "source": [
        "sex_data_df.head()"
      ],
      "execution_count": 17,
      "outputs": [
        {
          "output_type": "execute_result",
          "data": {
            "text/html": [
              "<div>\n",
              "<style scoped>\n",
              "    .dataframe tbody tr th:only-of-type {\n",
              "        vertical-align: middle;\n",
              "    }\n",
              "\n",
              "    .dataframe tbody tr th {\n",
              "        vertical-align: top;\n",
              "    }\n",
              "\n",
              "    .dataframe thead th {\n",
              "        text-align: right;\n",
              "    }\n",
              "</style>\n",
              "<table border=\"1\" class=\"dataframe\">\n",
              "  <thead>\n",
              "    <tr style=\"text-align: right;\">\n",
              "      <th></th>\n",
              "      <th>Sex</th>\n",
              "      <th>Sample ID</th>\n",
              "    </tr>\n",
              "  </thead>\n",
              "  <tbody>\n",
              "    <tr>\n",
              "      <th>0</th>\n",
              "      <td>MALE</td>\n",
              "      <td>A_1</td>\n",
              "    </tr>\n",
              "    <tr>\n",
              "      <th>1</th>\n",
              "      <td>FEMALE</td>\n",
              "      <td>A_2</td>\n",
              "    </tr>\n",
              "    <tr>\n",
              "      <th>2</th>\n",
              "      <td>FEMALE</td>\n",
              "      <td>A_3</td>\n",
              "    </tr>\n",
              "    <tr>\n",
              "      <th>3</th>\n",
              "      <td>NaN</td>\n",
              "      <td>A_4</td>\n",
              "    </tr>\n",
              "    <tr>\n",
              "      <th>4</th>\n",
              "      <td>FEMALE</td>\n",
              "      <td>A_5</td>\n",
              "    </tr>\n",
              "  </tbody>\n",
              "</table>\n",
              "</div>"
            ],
            "text/plain": [
              "      Sex Sample ID\n",
              "0    MALE       A_1\n",
              "1  FEMALE       A_2\n",
              "2  FEMALE       A_3\n",
              "3     NaN       A_4\n",
              "4  FEMALE       A_5"
            ]
          },
          "metadata": {},
          "execution_count": 17
        }
      ]
    },
    {
      "cell_type": "code",
      "metadata": {
        "id": "qditRQcoN7qp"
      },
      "source": [
        "df_completed=pd.merge(df_all,sex_data_df,on='Sample ID')"
      ],
      "execution_count": 46,
      "outputs": []
    },
    {
      "cell_type": "code",
      "metadata": {
        "colab": {
          "base_uri": "https://localhost:8080/",
          "height": 204
        },
        "id": "zOvFFEW7PAST",
        "outputId": "071a6f00-e544-4ed7-c20b-0894db448715"
      },
      "source": [
        "df_completed.head()"
      ],
      "execution_count": 47,
      "outputs": [
        {
          "output_type": "execute_result",
          "data": {
            "text/html": [
              "<div>\n",
              "<style scoped>\n",
              "    .dataframe tbody tr th:only-of-type {\n",
              "        vertical-align: middle;\n",
              "    }\n",
              "\n",
              "    .dataframe tbody tr th {\n",
              "        vertical-align: top;\n",
              "    }\n",
              "\n",
              "    .dataframe thead th {\n",
              "        text-align: right;\n",
              "    }\n",
              "</style>\n",
              "<table border=\"1\" class=\"dataframe\">\n",
              "  <thead>\n",
              "    <tr style=\"text-align: right;\">\n",
              "      <th></th>\n",
              "      <th>studyName</th>\n",
              "      <th>Sample Number</th>\n",
              "      <th>Species</th>\n",
              "      <th>Sample ID</th>\n",
              "      <th>Region</th>\n",
              "      <th>Island</th>\n",
              "      <th>Individual ID</th>\n",
              "      <th>Culmen Length (mm)</th>\n",
              "      <th>Culmen Depth (mm)</th>\n",
              "      <th>Flipper Length (mm)</th>\n",
              "      <th>Body Mass (g)</th>\n",
              "      <th>Comments</th>\n",
              "      <th>Sex</th>\n",
              "    </tr>\n",
              "  </thead>\n",
              "  <tbody>\n",
              "    <tr>\n",
              "      <th>0</th>\n",
              "      <td>PAL0708</td>\n",
              "      <td>1</td>\n",
              "      <td>Chinstrap</td>\n",
              "      <td>C_1</td>\n",
              "      <td>Anvers</td>\n",
              "      <td>Dream</td>\n",
              "      <td>N61A1</td>\n",
              "      <td>46.5</td>\n",
              "      <td>17.9</td>\n",
              "      <td>192.0</td>\n",
              "      <td>3500.0</td>\n",
              "      <td>NaN</td>\n",
              "      <td>FEMALE</td>\n",
              "    </tr>\n",
              "    <tr>\n",
              "      <th>1</th>\n",
              "      <td>PAL0708</td>\n",
              "      <td>2</td>\n",
              "      <td>Chinstrap</td>\n",
              "      <td>C_2</td>\n",
              "      <td>Anvers</td>\n",
              "      <td>Dream</td>\n",
              "      <td>N61A2</td>\n",
              "      <td>50.0</td>\n",
              "      <td>19.5</td>\n",
              "      <td>196.0</td>\n",
              "      <td>3900.0</td>\n",
              "      <td>NaN</td>\n",
              "      <td>MALE</td>\n",
              "    </tr>\n",
              "    <tr>\n",
              "      <th>2</th>\n",
              "      <td>PAL0708</td>\n",
              "      <td>3</td>\n",
              "      <td>Chinstrap</td>\n",
              "      <td>C_3</td>\n",
              "      <td>Anvers</td>\n",
              "      <td>Dream</td>\n",
              "      <td>N62A1</td>\n",
              "      <td>51.3</td>\n",
              "      <td>19.2</td>\n",
              "      <td>193.0</td>\n",
              "      <td>3650.0</td>\n",
              "      <td>NaN</td>\n",
              "      <td>MALE</td>\n",
              "    </tr>\n",
              "    <tr>\n",
              "      <th>3</th>\n",
              "      <td>PAL0708</td>\n",
              "      <td>4</td>\n",
              "      <td>Chinstrap</td>\n",
              "      <td>C_4</td>\n",
              "      <td>Anvers</td>\n",
              "      <td>Dream</td>\n",
              "      <td>N62A2</td>\n",
              "      <td>45.4</td>\n",
              "      <td>18.7</td>\n",
              "      <td>188.0</td>\n",
              "      <td>3525.0</td>\n",
              "      <td>NaN</td>\n",
              "      <td>FEMALE</td>\n",
              "    </tr>\n",
              "    <tr>\n",
              "      <th>4</th>\n",
              "      <td>PAL0708</td>\n",
              "      <td>5</td>\n",
              "      <td>Chinstrap</td>\n",
              "      <td>C_5</td>\n",
              "      <td>Anvers</td>\n",
              "      <td>Dream</td>\n",
              "      <td>N64A1</td>\n",
              "      <td>52.7</td>\n",
              "      <td>19.8</td>\n",
              "      <td>197.0</td>\n",
              "      <td>3725.0</td>\n",
              "      <td>NaN</td>\n",
              "      <td>MALE</td>\n",
              "    </tr>\n",
              "  </tbody>\n",
              "</table>\n",
              "</div>"
            ],
            "text/plain": [
              "  studyName  Sample Number    Species  ... Body Mass (g) Comments     Sex\n",
              "0   PAL0708              1  Chinstrap  ...        3500.0      NaN  FEMALE\n",
              "1   PAL0708              2  Chinstrap  ...        3900.0      NaN    MALE\n",
              "2   PAL0708              3  Chinstrap  ...        3650.0      NaN    MALE\n",
              "3   PAL0708              4  Chinstrap  ...        3525.0      NaN  FEMALE\n",
              "4   PAL0708              5  Chinstrap  ...        3725.0      NaN    MALE\n",
              "\n",
              "[5 rows x 13 columns]"
            ]
          },
          "metadata": {},
          "execution_count": 47
        }
      ]
    },
    {
      "cell_type": "code",
      "metadata": {
        "id": "i9-XnEsPTb-E"
      },
      "source": [
        "test=df_completed=pd.merge(df_all,sex_data_df_2,on=['Sample Number','Species'])"
      ],
      "execution_count": 28,
      "outputs": []
    },
    {
      "cell_type": "code",
      "metadata": {
        "colab": {
          "base_uri": "https://localhost:8080/",
          "height": 204
        },
        "id": "lCF3AGuCTuMJ",
        "outputId": "8faba21f-c940-455a-ecef-f975825f2078"
      },
      "source": [
        "test.head()"
      ],
      "execution_count": 29,
      "outputs": [
        {
          "output_type": "execute_result",
          "data": {
            "text/html": [
              "<div>\n",
              "<style scoped>\n",
              "    .dataframe tbody tr th:only-of-type {\n",
              "        vertical-align: middle;\n",
              "    }\n",
              "\n",
              "    .dataframe tbody tr th {\n",
              "        vertical-align: top;\n",
              "    }\n",
              "\n",
              "    .dataframe thead th {\n",
              "        text-align: right;\n",
              "    }\n",
              "</style>\n",
              "<table border=\"1\" class=\"dataframe\">\n",
              "  <thead>\n",
              "    <tr style=\"text-align: right;\">\n",
              "      <th></th>\n",
              "      <th>studyName</th>\n",
              "      <th>Sample Number</th>\n",
              "      <th>Species</th>\n",
              "      <th>Sample ID</th>\n",
              "      <th>Region</th>\n",
              "      <th>Island</th>\n",
              "      <th>Individual ID</th>\n",
              "      <th>Culmen Length (mm)</th>\n",
              "      <th>Culmen Depth (mm)</th>\n",
              "      <th>Flipper Length (mm)</th>\n",
              "      <th>Body Mass (g)</th>\n",
              "      <th>Comments</th>\n",
              "      <th>Sex</th>\n",
              "    </tr>\n",
              "  </thead>\n",
              "  <tbody>\n",
              "    <tr>\n",
              "      <th>0</th>\n",
              "      <td>PAL0708</td>\n",
              "      <td>1</td>\n",
              "      <td>Chinstrap</td>\n",
              "      <td>C_1</td>\n",
              "      <td>Anvers</td>\n",
              "      <td>Dream</td>\n",
              "      <td>N61A1</td>\n",
              "      <td>46.5</td>\n",
              "      <td>17.9</td>\n",
              "      <td>192.0</td>\n",
              "      <td>3500.0</td>\n",
              "      <td>NaN</td>\n",
              "      <td>FEMALE</td>\n",
              "    </tr>\n",
              "    <tr>\n",
              "      <th>1</th>\n",
              "      <td>PAL0708</td>\n",
              "      <td>2</td>\n",
              "      <td>Chinstrap</td>\n",
              "      <td>C_2</td>\n",
              "      <td>Anvers</td>\n",
              "      <td>Dream</td>\n",
              "      <td>N61A2</td>\n",
              "      <td>50.0</td>\n",
              "      <td>19.5</td>\n",
              "      <td>196.0</td>\n",
              "      <td>3900.0</td>\n",
              "      <td>NaN</td>\n",
              "      <td>MALE</td>\n",
              "    </tr>\n",
              "    <tr>\n",
              "      <th>2</th>\n",
              "      <td>PAL0708</td>\n",
              "      <td>3</td>\n",
              "      <td>Chinstrap</td>\n",
              "      <td>C_3</td>\n",
              "      <td>Anvers</td>\n",
              "      <td>Dream</td>\n",
              "      <td>N62A1</td>\n",
              "      <td>51.3</td>\n",
              "      <td>19.2</td>\n",
              "      <td>193.0</td>\n",
              "      <td>3650.0</td>\n",
              "      <td>NaN</td>\n",
              "      <td>MALE</td>\n",
              "    </tr>\n",
              "    <tr>\n",
              "      <th>3</th>\n",
              "      <td>PAL0708</td>\n",
              "      <td>4</td>\n",
              "      <td>Chinstrap</td>\n",
              "      <td>C_4</td>\n",
              "      <td>Anvers</td>\n",
              "      <td>Dream</td>\n",
              "      <td>N62A2</td>\n",
              "      <td>45.4</td>\n",
              "      <td>18.7</td>\n",
              "      <td>188.0</td>\n",
              "      <td>3525.0</td>\n",
              "      <td>NaN</td>\n",
              "      <td>FEMALE</td>\n",
              "    </tr>\n",
              "    <tr>\n",
              "      <th>4</th>\n",
              "      <td>PAL0708</td>\n",
              "      <td>5</td>\n",
              "      <td>Chinstrap</td>\n",
              "      <td>C_5</td>\n",
              "      <td>Anvers</td>\n",
              "      <td>Dream</td>\n",
              "      <td>N64A1</td>\n",
              "      <td>52.7</td>\n",
              "      <td>19.8</td>\n",
              "      <td>197.0</td>\n",
              "      <td>3725.0</td>\n",
              "      <td>NaN</td>\n",
              "      <td>MALE</td>\n",
              "    </tr>\n",
              "  </tbody>\n",
              "</table>\n",
              "</div>"
            ],
            "text/plain": [
              "  studyName  Sample Number    Species  ... Body Mass (g) Comments     Sex\n",
              "0   PAL0708              1  Chinstrap  ...        3500.0      NaN  FEMALE\n",
              "1   PAL0708              2  Chinstrap  ...        3900.0      NaN    MALE\n",
              "2   PAL0708              3  Chinstrap  ...        3650.0      NaN    MALE\n",
              "3   PAL0708              4  Chinstrap  ...        3525.0      NaN  FEMALE\n",
              "4   PAL0708              5  Chinstrap  ...        3725.0      NaN    MALE\n",
              "\n",
              "[5 rows x 13 columns]"
            ]
          },
          "metadata": {},
          "execution_count": 29
        }
      ]
    },
    {
      "cell_type": "markdown",
      "metadata": {
        "id": "T9oqK69lRRyD"
      },
      "source": [
        "# **Missing values**"
      ]
    },
    {
      "cell_type": "code",
      "metadata": {
        "colab": {
          "base_uri": "https://localhost:8080/"
        },
        "id": "FL8TJUnTPCI_",
        "outputId": "f2f8c189-92bc-4140-c606-b664f96a49b8"
      },
      "source": [
        "df_completed.info()"
      ],
      "execution_count": 20,
      "outputs": [
        {
          "output_type": "stream",
          "name": "stdout",
          "text": [
            "<class 'pandas.core.frame.DataFrame'>\n",
            "Int64Index: 344 entries, 0 to 343\n",
            "Data columns (total 13 columns):\n",
            " #   Column               Non-Null Count  Dtype  \n",
            "---  ------               --------------  -----  \n",
            " 0   studyName            344 non-null    object \n",
            " 1   Sample Number        344 non-null    int64  \n",
            " 2   Species              344 non-null    object \n",
            " 3   Sample ID            344 non-null    object \n",
            " 4   Region               344 non-null    object \n",
            " 5   Island               344 non-null    object \n",
            " 6   Individual ID        344 non-null    object \n",
            " 7   Culmen Length (mm)   342 non-null    float64\n",
            " 8   Culmen Depth (mm)    342 non-null    float64\n",
            " 9   Flipper Length (mm)  342 non-null    float64\n",
            " 10  Body Mass (g)        342 non-null    float64\n",
            " 11  Comments             26 non-null     object \n",
            " 12  Sex                  334 non-null    object \n",
            "dtypes: float64(4), int64(1), object(8)\n",
            "memory usage: 37.6+ KB\n"
          ]
        }
      ]
    },
    {
      "cell_type": "markdown",
      "metadata": {
        "id": "tqgeEkcHSAfC"
      },
      "source": [
        "\n",
        "\n",
        "```\n",
        " isna()\n",
        "```\n",
        "```\n",
        "isnull()\n",
        "```\n",
        "are the similar \n"
      ]
    },
    {
      "cell_type": "code",
      "metadata": {
        "colab": {
          "base_uri": "https://localhost:8080/"
        },
        "id": "kVPBfxENRXVG",
        "outputId": "3167d834-f11c-47b4-86e9-ba07dca4d332"
      },
      "source": [
        "df_completed.isna().sum()"
      ],
      "execution_count": 21,
      "outputs": [
        {
          "output_type": "execute_result",
          "data": {
            "text/plain": [
              "studyName                0\n",
              "Sample Number            0\n",
              "Species                  0\n",
              "Sample ID                0\n",
              "Region                   0\n",
              "Island                   0\n",
              "Individual ID            0\n",
              "Culmen Length (mm)       2\n",
              "Culmen Depth (mm)        2\n",
              "Flipper Length (mm)      2\n",
              "Body Mass (g)            2\n",
              "Comments               318\n",
              "Sex                     10\n",
              "dtype: int64"
            ]
          },
          "metadata": {},
          "execution_count": 21
        }
      ]
    },
    {
      "cell_type": "code",
      "metadata": {
        "colab": {
          "base_uri": "https://localhost:8080/"
        },
        "id": "1-hE_DFKRqGK",
        "outputId": "74795f4a-49aa-47c6-fd9f-ee87442785ce"
      },
      "source": [
        "df_completed.isnull().sum()"
      ],
      "execution_count": 22,
      "outputs": [
        {
          "output_type": "execute_result",
          "data": {
            "text/plain": [
              "studyName                0\n",
              "Sample Number            0\n",
              "Species                  0\n",
              "Sample ID                0\n",
              "Region                   0\n",
              "Island                   0\n",
              "Individual ID            0\n",
              "Culmen Length (mm)       2\n",
              "Culmen Depth (mm)        2\n",
              "Flipper Length (mm)      2\n",
              "Body Mass (g)            2\n",
              "Comments               318\n",
              "Sex                     10\n",
              "dtype: int64"
            ]
          },
          "metadata": {},
          "execution_count": 22
        }
      ]
    },
    {
      "cell_type": "code",
      "metadata": {
        "colab": {
          "base_uri": "https://localhost:8080/",
          "height": 383
        },
        "id": "hLCGP5l3Rs5s",
        "outputId": "96f5ad8c-4ac3-4f4d-be54-5b3ddc46208a"
      },
      "source": [
        "# Visualize the NaN with seaborn heatmap\n",
        "sns.heatmap(df_completed.isnull())"
      ],
      "execution_count": 23,
      "outputs": [
        {
          "output_type": "execute_result",
          "data": {
            "text/plain": [
              "<matplotlib.axes._subplots.AxesSubplot at 0x7fb7c5542750>"
            ]
          },
          "metadata": {},
          "execution_count": 23
        },
        {
          "output_type": "display_data",
          "data": {
            "image/png": "[encoded data removed]",
            "text/plain": [
              "<Figure size 432x288 with 2 Axes>"
            ]
          },
          "metadata": {
            "needs_background": "light"
          }
        }
      ]
    },
    {
      "cell_type": "code",
      "metadata": {
        "colab": {
          "base_uri": "https://localhost:8080/",
          "height": 204
        },
        "id": "G5lGfWc3Sfk-",
        "outputId": "80033cf4-217d-4481-ee62-04ba6aff7174"
      },
      "source": [
        "# drop Nan with threshold\n",
        "df_completed.dropna(thresh=318,axis=1, inplace=True)\n",
        "df_completed.head()"
      ],
      "execution_count": 48,
      "outputs": [
        {
          "output_type": "execute_result",
          "data": {
            "text/html": [
              "<div>\n",
              "<style scoped>\n",
              "    .dataframe tbody tr th:only-of-type {\n",
              "        vertical-align: middle;\n",
              "    }\n",
              "\n",
              "    .dataframe tbody tr th {\n",
              "        vertical-align: top;\n",
              "    }\n",
              "\n",
              "    .dataframe thead th {\n",
              "        text-align: right;\n",
              "    }\n",
              "</style>\n",
              "<table border=\"1\" class=\"dataframe\">\n",
              "  <thead>\n",
              "    <tr style=\"text-align: right;\">\n",
              "      <th></th>\n",
              "      <th>studyName</th>\n",
              "      <th>Sample Number</th>\n",
              "      <th>Species</th>\n",
              "      <th>Sample ID</th>\n",
              "      <th>Region</th>\n",
              "      <th>Island</th>\n",
              "      <th>Individual ID</th>\n",
              "      <th>Culmen Length (mm)</th>\n",
              "      <th>Culmen Depth (mm)</th>\n",
              "      <th>Flipper Length (mm)</th>\n",
              "      <th>Body Mass (g)</th>\n",
              "      <th>Sex</th>\n",
              "    </tr>\n",
              "  </thead>\n",
              "  <tbody>\n",
              "    <tr>\n",
              "      <th>0</th>\n",
              "      <td>PAL0708</td>\n",
              "      <td>1</td>\n",
              "      <td>Chinstrap</td>\n",
              "      <td>C_1</td>\n",
              "      <td>Anvers</td>\n",
              "      <td>Dream</td>\n",
              "      <td>N61A1</td>\n",
              "      <td>46.5</td>\n",
              "      <td>17.9</td>\n",
              "      <td>192.0</td>\n",
              "      <td>3500.0</td>\n",
              "      <td>FEMALE</td>\n",
              "    </tr>\n",
              "    <tr>\n",
              "      <th>1</th>\n",
              "      <td>PAL0708</td>\n",
              "      <td>2</td>\n",
              "      <td>Chinstrap</td>\n",
              "      <td>C_2</td>\n",
              "      <td>Anvers</td>\n",
              "      <td>Dream</td>\n",
              "      <td>N61A2</td>\n",
              "      <td>50.0</td>\n",
              "      <td>19.5</td>\n",
              "      <td>196.0</td>\n",
              "      <td>3900.0</td>\n",
              "      <td>MALE</td>\n",
              "    </tr>\n",
              "    <tr>\n",
              "      <th>2</th>\n",
              "      <td>PAL0708</td>\n",
              "      <td>3</td>\n",
              "      <td>Chinstrap</td>\n",
              "      <td>C_3</td>\n",
              "      <td>Anvers</td>\n",
              "      <td>Dream</td>\n",
              "      <td>N62A1</td>\n",
              "      <td>51.3</td>\n",
              "      <td>19.2</td>\n",
              "      <td>193.0</td>\n",
              "      <td>3650.0</td>\n",
              "      <td>MALE</td>\n",
              "    </tr>\n",
              "    <tr>\n",
              "      <th>3</th>\n",
              "      <td>PAL0708</td>\n",
              "      <td>4</td>\n",
              "      <td>Chinstrap</td>\n",
              "      <td>C_4</td>\n",
              "      <td>Anvers</td>\n",
              "      <td>Dream</td>\n",
              "      <td>N62A2</td>\n",
              "      <td>45.4</td>\n",
              "      <td>18.7</td>\n",
              "      <td>188.0</td>\n",
              "      <td>3525.0</td>\n",
              "      <td>FEMALE</td>\n",
              "    </tr>\n",
              "    <tr>\n",
              "      <th>4</th>\n",
              "      <td>PAL0708</td>\n",
              "      <td>5</td>\n",
              "      <td>Chinstrap</td>\n",
              "      <td>C_5</td>\n",
              "      <td>Anvers</td>\n",
              "      <td>Dream</td>\n",
              "      <td>N64A1</td>\n",
              "      <td>52.7</td>\n",
              "      <td>19.8</td>\n",
              "      <td>197.0</td>\n",
              "      <td>3725.0</td>\n",
              "      <td>MALE</td>\n",
              "    </tr>\n",
              "  </tbody>\n",
              "</table>\n",
              "</div>"
            ],
            "text/plain": [
              "  studyName  Sample Number  ... Body Mass (g)     Sex\n",
              "0   PAL0708              1  ...        3500.0  FEMALE\n",
              "1   PAL0708              2  ...        3900.0    MALE\n",
              "2   PAL0708              3  ...        3650.0    MALE\n",
              "3   PAL0708              4  ...        3525.0  FEMALE\n",
              "4   PAL0708              5  ...        3725.0    MALE\n",
              "\n",
              "[5 rows x 12 columns]"
            ]
          },
          "metadata": {},
          "execution_count": 48
        }
      ]
    },
    {
      "cell_type": "code",
      "metadata": {
        "colab": {
          "base_uri": "https://localhost:8080/",
          "height": 383
        },
        "id": "q-Mv1iaITCL-",
        "outputId": "b3154d37-ca27-4301-e4e8-84da0719c5e5"
      },
      "source": [
        "sns.heatmap(df_completed.isnull())"
      ],
      "execution_count": 26,
      "outputs": [
        {
          "output_type": "execute_result",
          "data": {
            "text/plain": [
              "<matplotlib.axes._subplots.AxesSubplot at 0x7fb7bcc140d0>"
            ]
          },
          "metadata": {},
          "execution_count": 26
        },
        {
          "output_type": "display_data",
          "data": {
            "image/png": "[encoded data removed]",
            "text/plain": [
              "<Figure size 432x288 with 2 Axes>"
            ]
          },
          "metadata": {
            "needs_background": "light"
          }
        }
      ]
    },
    {
      "cell_type": "code",
      "metadata": {
        "id": "Kr9_d3AxTHyl"
      },
      "source": [
        "df_completed['Culmen Depth (mm)'].fillna(value=df_completed['Culmen Depth (mm)'].mean(), inplace=True)\n",
        "df_completed['Culmen Length (mm)'].fillna(value=df_completed['Culmen Length (mm)'].mean(), inplace=True)\n",
        "df_completed['Flipper Length (mm)'].fillna(value=df_completed['Flipper Length (mm)'].mean(), inplace=True)"
      ],
      "execution_count": 52,
      "outputs": []
    },
    {
      "cell_type": "code",
      "metadata": {
        "colab": {
          "base_uri": "https://localhost:8080/"
        },
        "id": "mra-pelLUmTV",
        "outputId": "2d2d199d-30a6-4d1c-ad69-7fe769e4989f"
      },
      "source": [
        "df_completed.info()"
      ],
      "execution_count": 53,
      "outputs": [
        {
          "output_type": "stream",
          "name": "stdout",
          "text": [
            "<class 'pandas.core.frame.DataFrame'>\n",
            "Int64Index: 344 entries, 0 to 343\n",
            "Data columns (total 12 columns):\n",
            " #   Column               Non-Null Count  Dtype  \n",
            "---  ------               --------------  -----  \n",
            " 0   studyName            344 non-null    object \n",
            " 1   Sample Number        344 non-null    int64  \n",
            " 2   Species              344 non-null    object \n",
            " 3   Sample ID            344 non-null    object \n",
            " 4   Region               344 non-null    object \n",
            " 5   Island               344 non-null    object \n",
            " 6   Individual ID        344 non-null    object \n",
            " 7   Culmen Length (mm)   344 non-null    float64\n",
            " 8   Culmen Depth (mm)    344 non-null    float64\n",
            " 9   Flipper Length (mm)  344 non-null    float64\n",
            " 10  Body Mass (g)        342 non-null    float64\n",
            " 11  Sex                  334 non-null    object \n",
            "dtypes: float64(4), int64(1), object(7)\n",
            "memory usage: 34.9+ KB\n"
          ]
        }
      ]
    },
    {
      "cell_type": "code",
      "metadata": {
        "id": "tFqkkqpsUq0r"
      },
      "source": [
        ""
      ],
      "execution_count": null,
      "outputs": []
    }
  ]
}