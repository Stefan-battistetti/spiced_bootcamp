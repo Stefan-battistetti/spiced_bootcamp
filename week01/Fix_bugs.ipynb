{
  "nbformat": 4,
  "nbformat_minor": 0,
  "metadata": {
    "colab": {
      "name": "Fix_bugs.ipynb",
      "provenance": [],
      "collapsed_sections": []
    },
    "kernelspec": {
      "name": "python3",
      "display_name": "Python 3"
    },
    "language_info": {
      "name": "python"
    }
  },
  "cells": [
    {
      "cell_type": "code",
      "metadata": {
        "colab": {
          "base_uri": "https://localhost:8080/"
        },
        "id": "AZxdOJhDMTp1",
        "outputId": "34aeff00-5e91-4fac-9a0c-ba9638a928c6"
      },
      "source": [
        "\n",
        "import pandas as pd                                                             # change made here\n",
        "\n",
        "spices = ['One-Hot Chili Peppers',\n",
        "          'Bayesian Basil',\n",
        "          'Tensor Thyme'\n",
        "          'Linear Lavender',\n",
        "          'Artificial Neural Nutmeg',\n",
        "          'Polynomial Peppermint',\n",
        "          'Sigmoid Saffron'\n",
        "          ]\n",
        "participants = [2, 6, 9, 9, 9, 8]\n",
        "\n",
        "# \n",
        "df = pd.DataFrame({'name': spices,\n",
        "                   'participants': participants\n",
        "                   })\n",
        "\n",
        "print(df.sort_values(by='participants', ascending=False))                       # change made here\n",
        "\n",
        "print(\"\\ntotal participants:\", df['participants'].sum())                        # change made here"
      ],
      "execution_count": 10,
      "outputs": [
        {
          "output_type": "stream",
          "name": "stdout",
          "text": [
            "                          name  participants\n",
            "2  Tensor ThymeLinear Lavender             9\n",
            "3     Artificial Neural Nutmeg             9\n",
            "4        Polynomial Peppermint             9\n",
            "5              Sigmoid Saffron             8\n",
            "1               Bayesian Basil             6\n",
            "0        One-Hot Chili Peppers             2\n",
            "\n",
            "total participants: 43\n"
          ]
        }
      ]
    }
  ]
}