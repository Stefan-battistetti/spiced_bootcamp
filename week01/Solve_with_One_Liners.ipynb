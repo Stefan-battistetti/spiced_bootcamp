{
  "nbformat": 4,
  "nbformat_minor": 0,
  "metadata": {
    "colab": {
      "name": "Solve with One-Liners.ipynb",
      "provenance": [],
      "collapsed_sections": []
    },
    "kernelspec": {
      "name": "python3",
      "display_name": "Python 3"
    },
    "language_info": {
      "name": "python"
    }
  },
  "cells": [
    {
      "cell_type": "code",
      "metadata": {
        "id": "scyYH_VkOGWy",
        "colab": {
          "base_uri": "https://localhost:8080/"
        },
        "outputId": "c3599925-9878-4a5a-e951-4450ebc2c36f"
      },
      "source": [
        "import pandas as pd\n",
        "\n",
        "# 1. read the file into a DataFrame\n",
        "df = pd.read_csv('continents.csv', sep = ';')\n",
        "\n",
        "# 2. display the number of rows and columns\n",
        "print(df.shape)\n",
        "print(df.head())\n",
        "\n",
        "# 3. display the first 5 countries in the alphabet\n",
        "print(df.sort_values(by='country', ascending=True).head())\n",
        "\n",
        "# 4. which continent has the most countries?\n",
        "print(df.groupby('continent').count().head())\n",
        "\n",
        "# 5. find out on which continent Cyprus is\n",
        "print(df.iloc[df[df['country'] == 'Cyprus'].index.values,0])\n",
        "\n",
        "# 6. define a DataFrame with all African countries\n",
        "africa = df[df['continent']=='Africa']\n",
        "print(africa.head())\n",
        "\n",
        "# 7. define a DataFrame with countries 80 through 100\n",
        "subset = df.iloc[79:99,:]\n",
        "print(subset.head())\n",
        "\n",
        "# 8. select every second country\n",
        "subset_2 = df.iloc[::2]\n",
        "print(subset_2.head())\n",
        "\n",
        "\n"
      ],
      "execution_count": 127,
      "outputs": [
        {
          "output_type": "stream",
          "name": "stdout",
          "text": [
            "(194, 2)\n",
            "  continent   country\n",
            "0    Africa   Algeria\n",
            "1    Africa    Angola\n",
            "2    Africa     Benin\n",
            "3    Africa  Botswana\n",
            "4    Africa   Burkina\n",
            "   continent      country\n",
            "54      Asia  Afghanistan\n",
            "98    Europe      Albania\n",
            "0     Africa      Algeria\n",
            "99    Europe      Andorra\n",
            "1     Africa       Angola\n",
            "                       country\n",
            "continent                     \n",
            "Africa                      54\n",
            "Asia                        44\n",
            "Australia and Oceania       14\n",
            "Europe                      47\n",
            "North America               23\n",
            "108    Europe\n",
            "Name: continent, dtype: object\n",
            "  continent   country\n",
            "0    Africa   Algeria\n",
            "1    Africa    Angola\n",
            "2    Africa     Benin\n",
            "3    Africa  Botswana\n",
            "4    Africa   Burkina\n",
            "   continent      country\n",
            "79      Asia     Mongolia\n",
            "80      Asia        Nepal\n",
            "81      Asia         Oman\n",
            "82      Asia     Pakistan\n",
            "83      Asia  Philippines\n",
            "  continent                   country\n",
            "0    Africa                   Algeria\n",
            "2    Africa                     Benin\n",
            "4    Africa                   Burkina\n",
            "6    Africa                  Cameroon\n",
            "8    Africa  Central African Republic\n"
          ]
        }
      ]
    }
  ]
}