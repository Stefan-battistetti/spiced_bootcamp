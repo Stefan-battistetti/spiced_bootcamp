{
  "nbformat": 4,
  "nbformat_minor": 0,
  "metadata": {
    "kernelspec": {
      "display_name": "Python 3",
      "language": "python",
      "name": "python3"
    },
    "language_info": {
      "codemirror_mode": {
        "name": "ipython",
        "version": 3
      },
      "file_extension": ".py",
      "mimetype": "text/x-python",
      "name": "python",
      "nbconvert_exporter": "python",
      "pygments_lexer": "ipython3",
      "version": "3.8.3"
    },
    "varInspector": {
      "cols": {
        "lenName": 16,
        "lenType": 16,
        "lenVar": 40
      },
      "kernels_config": {
        "python": {
          "delete_cmd_postfix": "",
          "delete_cmd_prefix": "del ",
          "library": "var_list.py",
          "varRefreshCmd": "print(var_dic_list())"
        },
        "r": {
          "delete_cmd_postfix": ") ",
          "delete_cmd_prefix": "rm(",
          "library": "var_list.r",
          "varRefreshCmd": "cat(var_dic_list()) "
        }
      },
      "types_to_exclude": [
        "module",
        "function",
        "builtin_function_or_method",
        "instance",
        "_Feature"
      ],
      "window_display": false
    },
    "colab": {
      "name": "data_round_trip.ipynb",
      "provenance": []
    }
  },
  "cells": [
    {
      "cell_type": "markdown",
      "metadata": {
        "id": "rHJjsgIgPTXt"
      },
      "source": [
        "# Data Round-Trip"
      ]
    },
    {
      "cell_type": "code",
      "metadata": {
        "id": "1TCFsXDdPTXu"
      },
      "source": [
        "import pandas as pd"
      ],
      "execution_count": 1,
      "outputs": []
    },
    {
      "cell_type": "markdown",
      "metadata": {
        "id": "rVjJM9c9PTXv"
      },
      "source": [
        "## CSV\n",
        "\n",
        "Read the CSV file `large_countries_2015.csv`"
      ]
    },
    {
      "cell_type": "code",
      "metadata": {
        "id": "tK5ni3fGPTXw"
      },
      "source": [
        "df=pd.read_csv('large_countries_2015.csv', index_col=0)"
      ],
      "execution_count": 7,
      "outputs": []
    },
    {
      "cell_type": "markdown",
      "metadata": {
        "id": "fQlhwq46PTXw"
      },
      "source": [
        "## Excel\n",
        "\n",
        "* Write the data into an Excel file\n",
        "* Read the data again"
      ]
    },
    {
      "cell_type": "code",
      "metadata": {
        "id": "wOyBXRZtPTXw"
      },
      "source": [
        "df.to_excel('large_countries_2015.xlsx')"
      ],
      "execution_count": 8,
      "outputs": []
    },
    {
      "cell_type": "markdown",
      "metadata": {
        "id": "xMPYUSX_PTXx"
      },
      "source": [
        "## JSON - Java Script Object Notation\n",
        "\n",
        "* Write the data into a JSON file\n",
        "* Read the data again"
      ]
    },
    {
      "cell_type": "code",
      "metadata": {
        "id": "UWeNY16VPTXx"
      },
      "source": [
        "df.to_json('large_countries_2015.json')\n",
        "df_2=pd.read_json('large_countries_2015.json')"
      ],
      "execution_count": 13,
      "outputs": []
    },
    {
      "cell_type": "markdown",
      "metadata": {
        "id": "2Lzq5qBPPTXx"
      },
      "source": [
        "## SQL\n",
        "\n",
        "Install the library SQLAlchemy:"
      ]
    },
    {
      "cell_type": "code",
      "metadata": {
        "colab": {
          "base_uri": "https://localhost:8080/"
        },
        "id": "fB5h6F9UPTXx",
        "outputId": "380d1bef-f674-41e7-ab4c-f20335a07581"
      },
      "source": [
        "!pip install sqlalchemy"
      ],
      "execution_count": 14,
      "outputs": [
        {
          "output_type": "stream",
          "name": "stdout",
          "text": [
            "Requirement already satisfied: sqlalchemy in /usr/local/lib/python3.7/dist-packages (1.4.27)\n",
            "Requirement already satisfied: importlib-metadata in /usr/local/lib/python3.7/dist-packages (from sqlalchemy) (4.8.2)\n",
            "Requirement already satisfied: greenlet!=0.4.17 in /usr/local/lib/python3.7/dist-packages (from sqlalchemy) (1.1.2)\n",
            "Requirement already satisfied: zipp>=0.5 in /usr/local/lib/python3.7/dist-packages (from importlib-metadata->sqlalchemy) (3.6.0)\n",
            "Requirement already satisfied: typing-extensions>=3.6.4 in /usr/local/lib/python3.7/dist-packages (from importlib-metadata->sqlalchemy) (3.10.0.2)\n"
          ]
        }
      ]
    },
    {
      "cell_type": "markdown",
      "metadata": {
        "id": "xV97YvUEPTXy"
      },
      "source": [
        "Create a connection to a new SQLite database:"
      ]
    },
    {
      "cell_type": "code",
      "metadata": {
        "id": "Ce92iTkNPTXy"
      },
      "source": [
        "from sqlalchemy import create_engine\n",
        "db = create_engine('sqlite:///mydatabase.db')"
      ],
      "execution_count": 15,
      "outputs": []
    },
    {
      "cell_type": "markdown",
      "metadata": {
        "id": "polYrPkrPTXy"
      },
      "source": [
        "Write the data into the database:"
      ]
    },
    {
      "cell_type": "code",
      "metadata": {
        "id": "DNjY6FaiPTXz"
      },
      "source": [
        "df.to_sql('countries', db)"
      ],
      "execution_count": 16,
      "outputs": []
    },
    {
      "cell_type": "markdown",
      "metadata": {
        "id": "h6BGiQChPTXz"
      },
      "source": [
        "Check that a database file has been created in your current working directory:"
      ]
    },
    {
      "cell_type": "code",
      "metadata": {
        "colab": {
          "base_uri": "https://localhost:8080/"
        },
        "id": "s4QV8KbtPTXz",
        "outputId": "85a68098-dc76-41b1-ec77-f2b11c155ff7"
      },
      "source": [
        "!ls"
      ],
      "execution_count": 17,
      "outputs": [
        {
          "output_type": "stream",
          "name": "stdout",
          "text": [
            "large_countries_2015.csv   large_countries_2015.xlsx  sample_data\n",
            "large_countries_2015.json  mydatabase.db\t      test.xlsx\n"
          ]
        }
      ]
    },
    {
      "cell_type": "markdown",
      "metadata": {
        "id": "7sNZH28QPTX0"
      },
      "source": [
        "Inspect the file that was created in a text editor. Do not spend more than 1-2 minutes on this."
      ]
    },
    {
      "cell_type": "markdown",
      "metadata": {
        "id": "sv6lIU-8PTX0"
      },
      "source": [
        "*Dont worry if this is completely new to you. We will cover SQL later in the course*"
      ]
    },
    {
      "cell_type": "code",
      "metadata": {
        "id": "Xrtu55wLPTX0"
      },
      "source": [
        ""
      ],
      "execution_count": null,
      "outputs": []
    }
  ]
}