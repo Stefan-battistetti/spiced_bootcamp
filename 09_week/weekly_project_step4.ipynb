{
 "cells": [
  {
   "cell_type": "code",
   "execution_count": 1,
   "metadata": {
    "collapsed": true
   },
   "outputs": [
    {
     "name": "stderr",
     "output_type": "stream",
     "text": [
      "2022-02-12 10:46:35.943117: W tensorflow/stream_executor/platform/default/dso_loader.cc:64] Could not load dynamic library 'libcudart.so.11.0'; dlerror: libcudart.so.11.0: cannot open shared object file: No such file or directory\n",
      "2022-02-12 10:46:35.943145: I tensorflow/stream_executor/cuda/cudart_stub.cc:29] Ignore above cudart dlerror if you do not have a GPU set up on your machine.\n"
     ]
    }
   ],
   "source": [
    "import keras.backend\n",
    "from tensorflow.keras.models import Sequential\n",
    "from tensorflow.keras.layers import Conv2D, Dense, MaxPooling2D, Activation, Flatten, Dropout, BatchNormalization\n",
    "from tensorflow.keras import models, layers\n",
    "import matplotlib.pyplot as plt\n",
    "from tensorflow.keras.datasets import mnist\n",
    "from tensorflow.keras.utils import to_categorical\n",
    "import numpy as np"
   ]
  },
  {
   "cell_type": "code",
   "execution_count": 2,
   "outputs": [],
   "source": [
    "# load the data\n",
    "(xtrain, ytrain), (xtest, ytest) = mnist.load_data()"
   ],
   "metadata": {
    "collapsed": false,
    "pycharm": {
     "name": "#%%\n"
    }
   }
  },
  {
   "cell_type": "code",
   "execution_count": 3,
   "outputs": [],
   "source": [
    "#reshape the data\n",
    "xtrain = xtrain.reshape(60000, 28, 28, 1)\n",
    "xtest = xtest.reshape(10000, 28, 28, 1)"
   ],
   "metadata": {
    "collapsed": false,
    "pycharm": {
     "name": "#%%\n"
    }
   }
  },
  {
   "cell_type": "code",
   "execution_count": 4,
   "outputs": [],
   "source": [
    "ytest_true = ytest.copy()\n",
    "#plt.imshow(xtrain[0], cmap='gray')\n",
    "ytrain = to_categorical(ytrain)\n",
    "ytest = to_categorical(ytest)"
   ],
   "metadata": {
    "collapsed": false,
    "pycharm": {
     "name": "#%%\n"
    }
   }
  },
  {
   "cell_type": "code",
   "execution_count": 5,
   "outputs": [
    {
     "name": "stderr",
     "output_type": "stream",
     "text": [
      "2022-02-12 10:47:02.727026: W tensorflow/stream_executor/platform/default/dso_loader.cc:64] Could not load dynamic library 'libcuda.so.1'; dlerror: libcuda.so.1: cannot open shared object file: No such file or directory\n",
      "2022-02-12 10:47:02.727057: W tensorflow/stream_executor/cuda/cuda_driver.cc:269] failed call to cuInit: UNKNOWN ERROR (303)\n",
      "2022-02-12 10:47:02.727083: I tensorflow/stream_executor/cuda/cuda_diagnostics.cc:156] kernel driver does not appear to be running on this host (Jaguar): /proc/driver/nvidia/version does not exist\n",
      "2022-02-12 10:47:02.727771: I tensorflow/core/platform/cpu_feature_guard.cc:151] This TensorFlow binary is optimized with oneAPI Deep Neural Network Library (oneDNN) to use the following CPU instructions in performance-critical operations:  AVX2 FMA\n",
      "To enable them in other operations, rebuild TensorFlow with the appropriate compiler flags.\n"
     ]
    }
   ],
   "source": [
    "#Cov2D\n",
    "from tensorflow.keras import backend as k\n",
    "k.clear_session()\n",
    "model = Sequential([\n",
    "    Conv2D(filters=6, kernel_size=(3,3), strides=(1,1), padding='same',\n",
    "           activation='relu', input_shape=(28, 28, 1)),\n",
    "    MaxPooling2D(pool_size=(2,2), strides=(2,2), padding='same'),\n",
    "    BatchNormalization(),\n",
    "    Conv2D(filters=16, kernel_size=(3,3), strides=(1,1), padding='same', activation='relu'),\n",
    "    MaxPooling2D(pool_size=(2,2), strides=(2,2), padding='same'),\n",
    "\n",
    "    Flatten(),\n",
    "\n",
    "    Dense(120, activation='relu'),\n",
    "    Dropout(0.2),\n",
    "    Dense(84, activation='relu'),\n",
    "    Dense(10, activation='softmax')\n",
    "])"
   ],
   "metadata": {
    "collapsed": false,
    "pycharm": {
     "name": "#%%\n"
    }
   }
  },
  {
   "cell_type": "code",
   "execution_count": 6,
   "outputs": [
    {
     "name": "stdout",
     "output_type": "stream",
     "text": [
      "Model: \"sequential\"\n",
      "_________________________________________________________________\n",
      " Layer (type)                Output Shape              Param #   \n",
      "=================================================================\n",
      " conv2d (Conv2D)             (None, 28, 28, 6)         60        \n",
      "                                                                 \n",
      " max_pooling2d (MaxPooling2D  (None, 14, 14, 6)        0         \n",
      " )                                                               \n",
      "                                                                 \n",
      " batch_normalization (BatchN  (None, 14, 14, 6)        24        \n",
      " ormalization)                                                   \n",
      "                                                                 \n",
      " conv2d_1 (Conv2D)           (None, 14, 14, 16)        880       \n",
      "                                                                 \n",
      " max_pooling2d_1 (MaxPooling  (None, 7, 7, 16)         0         \n",
      " 2D)                                                             \n",
      "                                                                 \n",
      " flatten (Flatten)           (None, 784)               0         \n",
      "                                                                 \n",
      " dense (Dense)               (None, 120)               94200     \n",
      "                                                                 \n",
      " dropout (Dropout)           (None, 120)               0         \n",
      "                                                                 \n",
      " dense_1 (Dense)             (None, 84)                10164     \n",
      "                                                                 \n",
      " dense_2 (Dense)             (None, 10)                850       \n",
      "                                                                 \n",
      "=================================================================\n",
      "Total params: 106,178\n",
      "Trainable params: 106,166\n",
      "Non-trainable params: 12\n",
      "_________________________________________________________________\n"
     ]
    }
   ],
   "source": [
    "model.summary()"
   ],
   "metadata": {
    "collapsed": false,
    "pycharm": {
     "name": "#%%\n"
    }
   }
  },
  {
   "cell_type": "code",
   "execution_count": 7,
   "outputs": [],
   "source": [
    "##Compile the model\n",
    "from tensorflow.keras.optimizers import Adam\n",
    "model.compile(optimizer=Adam(learning_rate=0.001), loss='categorical_crossentropy',metrics=['accuracy'])\n"
   ],
   "metadata": {
    "collapsed": false,
    "pycharm": {
     "name": "#%%\n"
    }
   }
  },
  {
   "cell_type": "code",
   "execution_count": 8,
   "outputs": [
    {
     "name": "stdout",
     "output_type": "stream",
     "text": [
      "Epoch 1/10\n",
      "1500/1500 [==============================] - 31s 20ms/step - loss: 0.2102 - accuracy: 0.9327 - val_loss: 0.0811 - val_accuracy: 0.9757\n",
      "Epoch 2/10\n",
      "1500/1500 [==============================] - 25s 17ms/step - loss: 0.0822 - accuracy: 0.9742 - val_loss: 0.0571 - val_accuracy: 0.9838\n",
      "Epoch 3/10\n",
      "1500/1500 [==============================] - 31s 21ms/step - loss: 0.0606 - accuracy: 0.9812 - val_loss: 0.0522 - val_accuracy: 0.9847\n",
      "Epoch 4/10\n",
      "1500/1500 [==============================] - 28s 18ms/step - loss: 0.0498 - accuracy: 0.9841 - val_loss: 0.0582 - val_accuracy: 0.9833\n",
      "Epoch 5/10\n",
      "1500/1500 [==============================] - 22s 14ms/step - loss: 0.0389 - accuracy: 0.9871 - val_loss: 0.0562 - val_accuracy: 0.9827\n",
      "Epoch 6/10\n",
      "1500/1500 [==============================] - 25s 17ms/step - loss: 0.0352 - accuracy: 0.9886 - val_loss: 0.0425 - val_accuracy: 0.9882\n",
      "Epoch 7/10\n",
      "1500/1500 [==============================] - 25s 17ms/step - loss: 0.0299 - accuracy: 0.9901 - val_loss: 0.0552 - val_accuracy: 0.9858\n",
      "Epoch 8/10\n",
      "1500/1500 [==============================] - 26s 17ms/step - loss: 0.0266 - accuracy: 0.9911 - val_loss: 0.0415 - val_accuracy: 0.9887\n",
      "Epoch 9/10\n",
      "1500/1500 [==============================] - 25s 16ms/step - loss: 0.0264 - accuracy: 0.9918 - val_loss: 0.0491 - val_accuracy: 0.9866\n",
      "Epoch 10/10\n",
      "1500/1500 [==============================] - 25s 17ms/step - loss: 0.0221 - accuracy: 0.9930 - val_loss: 0.0487 - val_accuracy: 0.9881\n"
     ]
    },
    {
     "data": {
      "text/plain": "{'loss': [0.21020843088626862,\n  0.08221191167831421,\n  0.06059536710381508,\n  0.049759022891521454,\n  0.038919847458601,\n  0.035158365964889526,\n  0.029907964169979095,\n  0.026630094274878502,\n  0.026351887732744217,\n  0.02206912264227867],\n 'accuracy': [0.9327499866485596,\n  0.9742083549499512,\n  0.981208324432373,\n  0.9840624928474426,\n  0.9870625138282776,\n  0.9885833263397217,\n  0.9900624752044678,\n  0.9911458492279053,\n  0.991812527179718,\n  0.9929583072662354],\n 'val_loss': [0.08113713562488556,\n  0.057050690054893494,\n  0.052159007638692856,\n  0.05817678943276405,\n  0.05623242259025574,\n  0.04248006269335747,\n  0.05522054061293602,\n  0.04149748757481575,\n  0.04908200725913048,\n  0.04867624491453171],\n 'val_accuracy': [0.9756666421890259,\n  0.9838333129882812,\n  0.984666645526886,\n  0.9833333492279053,\n  0.9827499985694885,\n  0.9881666898727417,\n  0.9858333468437195,\n  0.9886666536331177,\n  0.9865833520889282,\n  0.9880833625793457]}"
     },
     "execution_count": 8,
     "metadata": {},
     "output_type": "execute_result"
    }
   ],
   "source": [
    "history = model.fit(xtrain, ytrain, batch_size=32, epochs=10, validation_split=0.2)\n",
    "history.history"
   ],
   "metadata": {
    "collapsed": false,
    "pycharm": {
     "name": "#%%\n"
    }
   }
  },
  {
   "cell_type": "code",
   "execution_count": 9,
   "outputs": [
    {
     "data": {
      "text/plain": "Text(0, 0.5, 'accuracy')"
     },
     "execution_count": 9,
     "metadata": {},
     "output_type": "execute_result"
    },
    {
     "data": {
      "text/plain": "<Figure size 432x288 with 1 Axes>",
      "image/png": "[encoded data removed]"
     },
     "metadata": {
      "needs_background": "light"
     },
     "output_type": "display_data"
    }
   ],
   "source": [
    "from matplotlib import pyplot as plt\n",
    "plt.plot(history.history['accuracy'])\n",
    "plt.plot(history.history['val_accuracy'])\n",
    "plt.xlabel ('epochs')\n",
    "plt.ylabel('accuracy')"
   ],
   "metadata": {
    "collapsed": false,
    "pycharm": {
     "name": "#%%\n"
    }
   }
  },
  {
   "cell_type": "code",
   "execution_count": 10,
   "outputs": [
    {
     "data": {
      "text/plain": "Text(0, 0.5, 'loss')"
     },
     "execution_count": 10,
     "metadata": {},
     "output_type": "execute_result"
    },
    {
     "data": {
      "text/plain": "<Figure size 432x288 with 1 Axes>",
      "image/png": "[encoded data removed]"
     },
     "metadata": {
      "needs_background": "light"
     },
     "output_type": "display_data"
    }
   ],
   "source": [
    "plt.plot(history.history['loss'])\n",
    "plt.plot(history.history['val_loss'])\n",
    "plt.xlabel ('epochs')\n",
    "plt.ylabel('loss')"
   ],
   "metadata": {
    "collapsed": false,
    "pycharm": {
     "name": "#%%\n"
    }
   }
  },
  {
   "cell_type": "code",
   "execution_count": 11,
   "outputs": [
    {
     "data": {
      "text/plain": "array([0., 0., 0., 0., 0., 1., 0., 0., 0., 0.], dtype=float32)"
     },
     "execution_count": 11,
     "metadata": {},
     "output_type": "execute_result"
    }
   ],
   "source": [
    "pred = model.predict(xtest)\n",
    "pred[8]\n",
    "ytest_true[8]\n",
    "ytest[8]\n"
   ],
   "metadata": {
    "collapsed": false,
    "pycharm": {
     "name": "#%%\n"
    }
   }
  },
  {
   "cell_type": "code",
   "execution_count": 12,
   "outputs": [
    {
     "data": {
      "text/plain": "<sklearn.metrics._plot.confusion_matrix.ConfusionMatrixDisplay at 0x7f4911aa4250>"
     },
     "execution_count": 12,
     "metadata": {},
     "output_type": "execute_result"
    },
    {
     "data": {
      "text/plain": "<Figure size 432x288 with 2 Axes>",
      "image/png": "[encoded data removed]"
     },
     "metadata": {
      "needs_background": "light"
     },
     "output_type": "display_data"
    }
   ],
   "source": [
    "from sklearn.metrics import confusion_matrix, ConfusionMatrixDisplay\n",
    "\n",
    "cm = confusion_matrix(y_true=ytest_true, y_pred=np.argmax(pred, axis=1))\n",
    "disp = ConfusionMatrixDisplay(confusion_matrix=cm, display_labels=np.unique(ytest_true))\n",
    "disp.plot()"
   ],
   "metadata": {
    "collapsed": false,
    "pycharm": {
     "name": "#%%\n"
    }
   }
  },
  {
   "cell_type": "code",
   "execution_count": 13,
   "outputs": [],
   "source": [
    "from tensorflow.keras.models import Model\n",
    "from tensorflow.keras.preprocessing.image import img_to_array\n",
    "from numpy import expand_dims"
   ],
   "metadata": {
    "collapsed": false,
    "pycharm": {
     "name": "#%%\n"
    }
   }
  },
  {
   "cell_type": "code",
   "execution_count": 14,
   "outputs": [
    {
     "data": {
      "text/plain": "[<keras.layers.convolutional.Conv2D at 0x7f49a06d8b20>,\n <keras.layers.pooling.MaxPooling2D at 0x7f493d274f70>,\n <keras.layers.normalization.batch_normalization.BatchNormalization at 0x7f49c81a5a00>,\n <keras.layers.convolutional.Conv2D at 0x7f49ccc987f0>,\n <keras.layers.pooling.MaxPooling2D at 0x7f49ccc98160>,\n <keras.layers.core.flatten.Flatten at 0x7f49cccf1c40>,\n <keras.layers.core.dense.Dense at 0x7f493d297790>,\n <keras.layers.core.dropout.Dropout at 0x7f493d297a90>,\n <keras.layers.core.dense.Dense at 0x7f493d297c70>,\n <keras.layers.core.dense.Dense at 0x7f493c9ad070>]"
     },
     "execution_count": 14,
     "metadata": {},
     "output_type": "execute_result"
    }
   ],
   "source": [
    "model.layers"
   ],
   "metadata": {
    "collapsed": false,
    "pycharm": {
     "name": "#%%\n"
    }
   }
  },
  {
   "cell_type": "code",
   "execution_count": null,
   "outputs": [],
   "source": [],
   "metadata": {
    "collapsed": false,
    "pycharm": {
     "name": "#%%\n"
    }
   }
  }
 ],
 "metadata": {
  "kernelspec": {
   "display_name": "Python 3",
   "language": "python",
   "name": "python3"
  },
  "language_info": {
   "codemirror_mode": {
    "name": "ipython",
    "version": 2
   },
   "file_extension": ".py",
   "mimetype": "text/x-python",
   "name": "python",
   "nbconvert_exporter": "python",
   "pygments_lexer": "ipython2",
   "version": "2.7.6"
  }
 },
 "nbformat": 4,
 "nbformat_minor": 0
}