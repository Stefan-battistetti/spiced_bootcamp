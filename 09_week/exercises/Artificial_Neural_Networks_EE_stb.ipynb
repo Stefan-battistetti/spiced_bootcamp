{
 "cells": [
  {
   "cell_type": "markdown",
   "metadata": {},
   "source": [
    "# 9.1. Artificial Neural Networks 🧠"
   ]
  },
  {
   "cell_type": "markdown",
   "metadata": {},
   "source": [
    "## Build an ANN from scratch for a classification problem\n",
    "+ Architecture of  feed-forward network\n",
    "\n",
    "\n",
    "![Feed_forward_network](FFNN.png)\n",
    "\n",
    "Feed-forward for a network with 1 hidden layer:\n",
    "\n",
    "$$\\hat{y} = \\sigma^{out}[\\sigma^{hidden}(X^{in} \\cdot w^{in} + bias^{in} * w^{in}_0)\\: \\cdot \\: w^{out} + bias^{out} * w^{out}_0 ]$$\n",
    "\n",
    "+ $\\sigma$:\n",
    "    + activation function\n",
    "+ $X \\cdot w$:\n",
    "    + dot product: $x_{1}*w_{1} + x_{2}*w_{2}$"
   ]
  },
  {
   "cell_type": "code",
   "execution_count": 1,
   "metadata": {},
   "outputs": [],
   "source": [
    "import matplotlib.pyplot as plt\n",
    "import numpy as np\n",
    "import random\n",
    "import seaborn as sns\n",
    "plt.rcParams['figure.figsize']=(8,6)"
   ]
  },
  {
   "cell_type": "markdown",
   "metadata": {},
   "source": [
    "### Step 1: Create training data"
   ]
  },
  {
   "cell_type": "code",
   "execution_count": 2,
   "metadata": {},
   "outputs": [],
   "source": [
    "from sklearn.datasets import make_moons\n",
    "X,y = make_moons(n_samples = 50, noise = 0.2, random_state= 42)"
   ]
  },
  {
   "cell_type": "markdown",
   "metadata": {},
   "source": [
    "### Step 2: Check shape"
   ]
  },
  {
   "cell_type": "code",
   "execution_count": 3,
   "metadata": {},
   "outputs": [
    {
     "data": {
      "text/plain": [
       "((50, 2), (50,))"
      ]
     },
     "execution_count": 3,
     "metadata": {},
     "output_type": "execute_result"
    }
   ],
   "source": [
    "X.shape, y.shape"
   ]
  },
  {
   "cell_type": "code",
   "execution_count": 4,
   "metadata": {},
   "outputs": [
    {
     "data": {
      "image/png": "[encoded data removed]",
      "text/plain": [
       "<Figure size 576x432 with 1 Axes>"
      ]
     },
     "metadata": {
      "needs_background": "light"
     },
     "output_type": "display_data"
    }
   ],
   "source": [
    "# Make a scatterplot of the 2 columns of X\n",
    "# Color the data points according to the labels y\n",
    "plt.scatter(X[:,0],X[:,1],c=y)\n",
    "sns.despine()"
   ]
  },
  {
   "cell_type": "markdown",
   "metadata": {},
   "source": [
    "> We can't draw a linear boundary between the blue and yellow dots. FFN allows us to draw a non-linear boundary."
   ]
  },
  {
   "cell_type": "markdown",
   "metadata": {},
   "source": [
    "### Step 3: Add a bias (parameter b) column to X\n",
    "\n",
    "To apply the feed-forward function we need:\n",
    "+ add bias to the input (aka add a third column of '1' to X)\n",
    "+ randomly generate weights for input layer and output layer"
   ]
  },
  {
   "cell_type": "markdown",
   "metadata": {},
   "source": [
    "#### Add bias to X"
   ]
  },
  {
   "cell_type": "code",
   "execution_count": 20,
   "metadata": {},
   "outputs": [
    {
     "data": {
      "text/plain": [
       "array([[-0.15856989,  0.98480618],\n",
       "       [ 1.10900374, -0.62160223],\n",
       "       [ 0.39641523,  0.20740869],\n",
       "       [ 1.79239122,  0.07511293],\n",
       "       [-0.84739307,  0.71154296],\n",
       "       [ 1.90209657,  0.67432213],\n",
       "       [ 0.0731551 ,  0.09079042],\n",
       "       [-0.43566685,  0.29122072],\n",
       "       [ 0.42577731, -0.22851359],\n",
       "       [-0.64418143,  0.24144478],\n",
       "       [ 0.11289285,  1.00510013],\n",
       "       [ 0.96066405,  0.63183812],\n",
       "       [ 1.46814927, -0.28580296],\n",
       "       [ 0.5192833 ,  0.94984582],\n",
       "       [ 0.73327397,  0.17310931],\n",
       "       [ 0.33197143,  0.43375035],\n",
       "       [ 1.62726102, -0.54736954],\n",
       "       [ 2.01908805,  0.37804882],\n",
       "       [ 2.00824323,  0.36058988],\n",
       "       [-0.56195047,  0.90148197],\n",
       "       [ 0.67647169,  0.69909987],\n",
       "       [-0.30999892,  1.2113287 ],\n",
       "       [-0.90842298, -0.33685748],\n",
       "       [ 0.68268561, -0.44010332],\n",
       "       [ 0.38645217, -0.05988231],\n",
       "       [ 0.84405962, -0.16877927],\n",
       "       [ 1.76324657, -0.30187296],\n",
       "       [ 0.06417199,  0.2184967 ],\n",
       "       [ 1.02670564, -0.57104358],\n",
       "       [ 0.63694378,  0.69355004],\n",
       "       [ 0.30851562,  0.4574452 ],\n",
       "       [ 0.45511029,  1.15619148],\n",
       "       [ 0.92808566, -0.31211878],\n",
       "       [ 0.86938046,  0.06729301],\n",
       "       [-1.22036438,  0.33691393],\n",
       "       [ 1.15845408,  0.21688056],\n",
       "       [ 1.5522982 , -0.27906241],\n",
       "       [ 0.88599761, -0.51707875],\n",
       "       [-0.82146062, -0.13173865],\n",
       "       [ 1.20862244, -0.52520818],\n",
       "       [-0.00317109,  1.55465851],\n",
       "       [-1.18517899,  0.44179591],\n",
       "       [-0.84031891,  0.60434928],\n",
       "       [ 2.06026456,  0.20829662],\n",
       "       [-0.99857307,  0.47070544],\n",
       "       [ 0.43955803,  0.62885547],\n",
       "       [ 1.82610683, -0.09235596],\n",
       "       [-0.34717225,  0.94909281],\n",
       "       [ 0.32352368, -0.16797921],\n",
       "       [ 1.19813072, -0.09653062]])"
      ]
     },
     "execution_count": 20,
     "metadata": {},
     "output_type": "execute_result"
    }
   ],
   "source": [
    "X"
   ]
  },
  {
   "cell_type": "code",
   "execution_count": null,
   "metadata": {},
   "outputs": [],
   "source": []
  },
  {
   "cell_type": "code",
   "execution_count": 6,
   "metadata": {},
   "outputs": [],
   "source": [
    "def add_ones(X):\n",
    "    \"\"\" It returns the input-NumPy array X with an additional column of ones\n",
    "    Parameter\n",
    "    *********\n",
    "    X: numpy array \n",
    "   \n",
    "    return X_with_ones \"\"\"\n",
    "     # Create an array of 1 with same number of rows as X\n",
    "    ones = np.ones(shape=(X.shape[0],1))\n",
    "     #add ones to X\n",
    "    X_with_ones = np.hstack((X,ones))\n",
    "    return X_with_ones\n",
    "   \n",
    "    "
   ]
  },
  {
   "cell_type": "code",
   "execution_count": 7,
   "metadata": {},
   "outputs": [],
   "source": [
    "X_with_ones = add_ones(X)  #add bias"
   ]
  },
  {
   "cell_type": "code",
   "execution_count": 9,
   "metadata": {
    "scrolled": true
   },
   "outputs": [
    {
     "data": {
      "text/plain": [
       "(50, 3)"
      ]
     },
     "execution_count": 9,
     "metadata": {},
     "output_type": "execute_result"
    }
   ],
   "source": [
    "X_with_ones.shape"
   ]
  },
  {
   "cell_type": "markdown",
   "metadata": {},
   "source": [
    "#### Weights\n",
    "Mapping of Input layer --> Hidden layer:\n",
    "+ w_in shape 3x2 to map (2 neurons + bias)   to 2 hidden neurons \n",
    "\n",
    "Mapping of Hidden layer --> Output layer:\n",
    "+ w_out shape 3x1 to map (2 neurons + bias) to 1 output neuron\n",
    "\n",
    "![Feed_forward_network](FFNN.png)"
   ]
  },
  {
   "cell_type": "markdown",
   "metadata": {},
   "source": [
    "**Initialize the network with random weights**"
   ]
  },
  {
   "cell_type": "code",
   "execution_count": 10,
   "metadata": {},
   "outputs": [],
   "source": [
    "# Random Input weights\n",
    "w_in = np.random.normal(size=(3,2))    # ---> rand return random within [0, 1)"
   ]
  },
  {
   "cell_type": "code",
   "execution_count": 11,
   "metadata": {},
   "outputs": [
    {
     "data": {
      "text/plain": [
       "array([[0.5457815 , 0.14218175],\n",
       "       [1.67826312, 1.20338218],\n",
       "       [1.3978774 , 0.14667048]])"
      ]
     },
     "execution_count": 11,
     "metadata": {},
     "output_type": "execute_result"
    }
   ],
   "source": [
    "w_in"
   ]
  },
  {
   "cell_type": "code",
   "execution_count": 12,
   "metadata": {},
   "outputs": [],
   "source": [
    "# Random output weights\n",
    "w_out = np.random.normal(size=(3,1))\n"
   ]
  },
  {
   "cell_type": "code",
   "execution_count": 14,
   "metadata": {},
   "outputs": [
    {
     "data": {
      "text/plain": [
       "array([[-1.18126092],\n",
       "       [-0.69564679],\n",
       "       [ 1.47526539]])"
      ]
     },
     "execution_count": 14,
     "metadata": {},
     "output_type": "execute_result"
    }
   ],
   "source": [
    "w_out"
   ]
  },
  {
   "cell_type": "code",
   "execution_count": 13,
   "metadata": {},
   "outputs": [
    {
     "data": {
      "text/plain": [
       "((3, 2), (3, 1))"
      ]
     },
     "execution_count": 13,
     "metadata": {},
     "output_type": "execute_result"
    }
   ],
   "source": [
    "# Check the shapes\n",
    "w_in.shape, w_out.shape"
   ]
  },
  {
   "cell_type": "markdown",
   "metadata": {},
   "source": [
    "### Step 4:  Define activation function"
   ]
  },
  {
   "cell_type": "markdown",
   "metadata": {},
   "source": [
    "- Sigmoid function:\n",
    "$s =  \\frac{\\mathrm{1} }{\\mathrm{1} + e^-z } $"
   ]
  },
  {
   "cell_type": "code",
   "execution_count": 15,
   "metadata": {},
   "outputs": [],
   "source": [
    "def sigmoid(z):\n",
    "    s = 1/(1+np.exp(-z))\n",
    "    return s"
   ]
  },
  {
   "cell_type": "code",
   "execution_count": 16,
   "metadata": {},
   "outputs": [],
   "source": [
    "##### Test if you have the correct function with following code\n",
    "a = np.array([-10.0, -1.0, 0.0, 1.0])\n",
    "expected = np.array([0.0, 0.27, 0.5, 0.73])\n",
    "assert np.all(sigmoid(a).round(2) == expected)"
   ]
  },
  {
   "cell_type": "code",
   "execution_count": 19,
   "metadata": {},
   "outputs": [
    {
     "data": {
      "text/plain": [
       "Text(0, 0.5, 'Activation function sigmoid')"
      ]
     },
     "execution_count": 19,
     "metadata": {},
     "output_type": "execute_result"
    },
    {
     "data": {
      "image/png": "[encoded data removed]",
      "text/plain": [
       "<Figure size 576x432 with 1 Axes>"
      ]
     },
     "metadata": {
      "needs_background": "light"
     },
     "output_type": "display_data"
    }
   ],
   "source": [
    "z = np.linspace(-10,10,100)\n",
    "#plt.plot(0,0.5,marker='o')\n",
    "plt.plot(z,sigmoid(z))\n",
    "plt.xlabel('X')\n",
    "plt.ylabel('Activation function sigmoid')"
   ]
  },
  {
   "cell_type": "markdown",
   "metadata": {},
   "source": [
    "### Step 5: Connect all the pieces and \"build\" the network!"
   ]
  },
  {
   "cell_type": "markdown",
   "metadata": {},
   "source": [
    "### Fill in exercise!"
   ]
  },
  {
   "cell_type": "code",
   "execution_count": 23,
   "metadata": {},
   "outputs": [],
   "source": [
    "def feed_forward(X, w_in, w_out):\n",
    "\n",
    "    \"\"\"\n",
    "    1. Step 1: Calculate the dot product of X\n",
    "       and the weights of the first layer.\n",
    "\n",
    "    2. Step 2: Apply the sigmoid function on the result of Step 1.\n",
    "\n",
    "    3. Step 3: Append an extra column of ones to the result (i.e. the bias).\n",
    "\n",
    "    4. Step 4: Calculate the dot product of the previous step\n",
    "       with the weights of the second (i.e. outer) layer.\n",
    "\n",
    "    5. Step 5: Apply the sigmoid function on the result.\n",
    "\n",
    "    6. Step 6: Return all intermediate results (i.e. anything that is outputted\n",
    "       by an activation function).\n",
    "    \"\"\"\n",
    "    # 1. HL_in\n",
    "    HL_in = np.dot(X_with_ones, w_in) #remember X already contains the bias\n",
    "    print(f'Shape of HL_in = {HL_in.shape}')\n",
    "    #print('HL_in')\n",
    "  \n",
    "    \n",
    "    # 2. _out\n",
    "    output_1 = sigmoid(HL_in)\n",
    "    #print('HL_out')\n",
    "    #print(output_1)\n",
    "    \n",
    "    # 3. add bias\n",
    "    HL_out = add_ones(output_1)\n",
    "    #print('H_out with bias')\n",
    "\n",
    "    \n",
    "    # 4. O_in\n",
    "    O_in = np.dot(HL_out, w_out)\n",
    "    print(f'Shape of H_out = {O_in.shape}')\n",
    "  \n",
    "    \n",
    "    \n",
    "    # 5. O_out -> actual prediction\n",
    "    output_2 = sigmoid(O_in)\n",
    "    #print('O_out')\n",
    "    #print(output_2)      \n",
    "    \n",
    "    # 6.\n",
    "    return output_1, output_2"
   ]
  },
  {
   "cell_type": "code",
   "execution_count": 24,
   "metadata": {},
   "outputs": [
    {
     "name": "stdout",
     "output_type": "stream",
     "text": [
      "Shape of HL_in = (50, 2)\n",
      "Shape of H_out = (50, 1)\n"
     ]
    }
   ],
   "source": [
    "out1, out2 = feed_forward(X, w_in, w_out)"
   ]
  },
  {
   "cell_type": "code",
   "execution_count": 30,
   "metadata": {},
   "outputs": [
    {
     "data": {
      "text/plain": [
       "(50, 1)"
      ]
     },
     "execution_count": 30,
     "metadata": {},
     "output_type": "execute_result"
    }
   ],
   "source": [
    "out2"
   ]
  },
  {
   "cell_type": "markdown",
   "metadata": {},
   "source": [
    "### Plot the result"
   ]
  },
  {
   "cell_type": "code",
   "execution_count": 25,
   "metadata": {},
   "outputs": [
    {
     "data": {
      "text/plain": [
       "array([0, 1, 1, 1, 0, 1, 1, 1, 1, 0, 0, 0, 1, 0, 0, 0, 1, 1, 1, 0, 0, 0,\n",
       "       0, 1, 1, 0, 1, 1, 1, 0, 1, 0, 1, 0, 0, 0, 1, 1, 0, 1, 0, 0, 0, 1,\n",
       "       0, 0, 1, 0, 1, 1])"
      ]
     },
     "execution_count": 25,
     "metadata": {},
     "output_type": "execute_result"
    }
   ],
   "source": [
    "y"
   ]
  },
  {
   "cell_type": "code",
   "execution_count": 26,
   "metadata": {},
   "outputs": [
    {
     "data": {
      "image/png": "[encoded data removed]",
      "text/plain": [
       "<Figure size 576x432 with 2 Axes>"
      ]
     },
     "metadata": {
      "needs_background": "light"
     },
     "output_type": "display_data"
    }
   ],
   "source": [
    "plt.scatter(X[:,0], X[:,1], c = y)\n",
    "plt.colorbar()\n",
    "sns.despine()"
   ]
  },
  {
   "cell_type": "code",
   "execution_count": 27,
   "metadata": {},
   "outputs": [
    {
     "data": {
      "image/png": "[encoded data removed]",
      "text/plain": [
       "<Figure size 576x432 with 2 Axes>"
      ]
     },
     "metadata": {
      "needs_background": "light"
     },
     "output_type": "display_data"
    }
   ],
   "source": [
    "plt.scatter(X[:,0], X[:,1], c = out2)\n",
    "plt.colorbar()\n",
    "sns.despine()"
   ]
  },
  {
   "cell_type": "markdown",
   "metadata": {},
   "source": [
    "### What does this result mean?\n"
   ]
  },
  {
   "cell_type": "markdown",
   "metadata": {},
   "source": [
    "### How does the neural network learn?\n",
    "\n",
    "\n"
   ]
  },
  {
   "cell_type": "markdown",
   "metadata": {},
   "source": [
    "### What next ? 👀"
   ]
  },
  {
   "cell_type": "markdown",
   "metadata": {},
   "source": [
    "\n",
    "* Create a virtual enviroment and install TensorFlow and OpenCV.\n",
    "[See this](https://spiced.space/euclidean-eukalyptus/ds-course/chapters/project_deep_learning/README.html)\n",
    "* Decide on categories of images you want to build a network to identify, and start collecting images with your webcam. \n",
    "[See this](https://spiced.space/euclidean-eukalyptus/ds-course/chapters/project_deep_learning/README.html)\n",
    "* Watch 3 Blue 1 Brown Neural Network Series \n",
    "[3 Blue 1 Brown](https://www.youtube.com/watch?time_continue=2&v=aircAruvnKk&feature=emb_title)"
   ]
  },
  {
   "cell_type": "code",
   "execution_count": null,
   "metadata": {},
   "outputs": [],
   "source": []
  }
 ],
 "metadata": {
  "kernelspec": {
   "display_name": "Python 3 (ipykernel)",
   "language": "python",
   "name": "python3"
  },
  "language_info": {
   "codemirror_mode": {
    "name": "ipython",
    "version": 3
   },
   "file_extension": ".py",
   "mimetype": "text/x-python",
   "name": "python",
   "nbconvert_exporter": "python",
   "pygments_lexer": "ipython3",
   "version": "3.8.8"
  }
 },
 "nbformat": 4,
 "nbformat_minor": 4
}
