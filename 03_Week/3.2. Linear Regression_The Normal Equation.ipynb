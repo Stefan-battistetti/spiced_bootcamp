{
 "cells": [
  {
   "cell_type": "code",
   "execution_count": 1,
   "metadata": {
    "collapsed": true
   },
   "outputs": [],
   "source": [
    "import matplotlib.pyplot as plt\n",
    "import numpy as np\n",
    "import pandas as pd\n",
    "import seaborn as sns\n",
    "\n",
    "np.random.seed(42)"
   ]
  },
  {
   "cell_type": "code",
   "execution_count": 2,
   "metadata": {
    "collapsed": true
   },
   "outputs": [],
   "source": [
    "data = pd.read_csv('gd_data.csv', header=None)\n",
    "X = np.array(data.iloc[:,:2])\n",
    "y = np.array(data.iloc[:,-1])"
   ]
  },
  {
   "cell_type": "code",
   "execution_count": 3,
   "metadata": {},
   "outputs": [
    {
     "data": {
      "text/plain": [
       "((100, 2), (100,))"
      ]
     },
     "execution_count": 3,
     "metadata": {},
     "output_type": "execute_result"
    }
   ],
   "source": [
    "(X.shape, y.shape)"
   ]
  },
  {
   "cell_type": "code",
   "execution_count": 4,
   "metadata": {},
   "outputs": [],
   "source": [
    "def sigmoid(x):\n",
    "    return 1/(1+np.exp(-x))"
   ]
  },
  {
   "cell_type": "code",
   "execution_count": 5,
   "metadata": {},
   "outputs": [],
   "source": [
    "def output_formula(features, weights, bias):\n",
    "    return sigmoid(np.dot(features, weights) + bias)"
   ]
  },
  {
   "cell_type": "code",
   "execution_count": 6,
   "metadata": {},
   "outputs": [],
   "source": [
    "def error_formula(y, output):\n",
    "    return -y * np.log10(output) - (1 - y) * np.log10(1-output)"
   ]
  },
  {
   "cell_type": "code",
   "execution_count": 7,
   "metadata": {},
   "outputs": [],
   "source": [
    "def update_weights(x, y, weights, bias, learnrate):\n",
    "    weights = weights - learnrate * ((-1) * (y - output_formula(x, weights, bias)) * x)\n",
    "    bias = bias - learnrate * ((-1) * (y - output_formula(x, weights, bias)))\n",
    "    return weights, bias"
   ]
  },
  {
   "cell_type": "code",
   "execution_count": 8,
   "metadata": {
    "collapsed": true
   },
   "outputs": [],
   "source": [
    "epochs = 500\n",
    "learnrate = 0.1\n",
    "\n",
    "def train(features, targets, epochs, learnrate):\n",
    "    \n",
    "    errors = []\n",
    "    _, n_features = features.shape\n",
    "    weights = np.random.normal(size=n_features)\n",
    "    bias = 0\n",
    "\n",
    "    for e in range(epochs):\n",
    "        for x, y in zip(features, targets):\n",
    "            weights, bias = update_weights(x, y, weights, bias, learnrate)\n",
    "        \n",
    "        out = output_formula(features, weights, bias)\n",
    "        loss = np.mean(error_formula(targets, out))\n",
    "        errors.append(loss)\n",
    "        \n",
    "        if e % (epochs / 10) == 0:\n",
    "            print(\"\\n================ Epoch\", e,\"================\")\n",
    "            print(\"Train loss: \", loss)\n",
    "            \n",
    "            predictions = out > 0.5\n",
    "            accuracy = np.mean(predictions == targets)\n",
    "            print(\"Accuracy: \", accuracy)\n",
    "            \n",
    "\n",
    "    # Error plot\n",
    "    plt.xlabel('Number of epochs')\n",
    "    plt.ylabel('Error')\n",
    "    plt.plot(errors)\n",
    "    plt.show()"
   ]
  },
  {
   "cell_type": "code",
   "execution_count": 9,
   "metadata": {
    "collapsed": true
   },
   "outputs": [
    {
     "name": "stdout",
     "output_type": "stream",
     "text": [
      "\n",
      "================ Epoch 0 ================\n",
      "Train loss:  0.35883771924450236\n",
      "Accuracy:  0.5\n",
      "\n",
      "================ Epoch 50 ================\n",
      "Train loss:  0.08332156732952552\n",
      "Accuracy:  0.93\n",
      "\n",
      "================ Epoch 100 ================\n",
      "Train loss:  0.06999659466044181\n",
      "Accuracy:  0.93\n",
      "\n",
      "================ Epoch 150 ================\n",
      "Train loss:  0.06559832361824823\n",
      "Accuracy:  0.94\n",
      "\n",
      "================ Epoch 200 ================\n",
      "Train loss:  0.06349708257673296\n",
      "Accuracy:  0.94\n",
      "\n",
      "================ Epoch 250 ================\n",
      "Train loss:  0.06231032814556954\n",
      "Accuracy:  0.94\n",
      "\n",
      "================ Epoch 300 ================\n",
      "Train loss:  0.06157235240023306\n",
      "Accuracy:  0.94\n",
      "\n",
      "================ Epoch 350 ================\n",
      "Train loss:  0.06108391979300579\n",
      "Accuracy:  0.94\n",
      "\n",
      "================ Epoch 400 ================\n",
      "Train loss:  0.06074627176691794\n",
      "Accuracy:  0.94\n",
      "\n",
      "================ Epoch 450 ================\n",
      "Train loss:  0.0605052768239939\n",
      "Accuracy:  0.94\n"
     ]
    },
    {
     "data": {
      "image/png": "[encoded data removed]",
      "text/plain": [
       "<Figure size 432x288 with 1 Axes>"
      ]
     },
     "metadata": {
      "needs_background": "light"
     },
     "output_type": "display_data"
    }
   ],
   "source": [
    "train(X, y, epochs, learnrate)"
   ]
  },
  {
   "cell_type": "code",
   "execution_count": null,
   "metadata": {},
   "outputs": [],
   "source": []
  }
 ],
 "metadata": {
  "interpreter": {
   "hash": "dca0ade3e726a953b501b15e8e990130d2b7799f14cfd9f4271676035ebe5511"
  },
  "kernelspec": {
   "display_name": "Python 3.8.8 64-bit ('base': conda)",
   "name": "python3"
  },
  "language_info": {
   "codemirror_mode": {
    "name": "ipython",
    "version": 3
   },
   "file_extension": ".py",
   "mimetype": "text/x-python",
   "name": "python",
   "nbconvert_exporter": "python",
   "pygments_lexer": "ipython3",
   "version": "3.8.8"
  }
 },
 "nbformat": 4,
 "nbformat_minor": 2
}
