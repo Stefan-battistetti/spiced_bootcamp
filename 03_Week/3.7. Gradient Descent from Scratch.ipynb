{
 "cells": [
  {
   "cell_type": "code",
   "execution_count": 66,
   "metadata": {},
   "outputs": [],
   "source": [
    "import pandas as pd\n",
    "import matplotlib.pyplot as plt\n",
    "import numpy as np"
   ]
  },
  {
   "cell_type": "code",
   "execution_count": 67,
   "metadata": {},
   "outputs": [],
   "source": [
    "def make_line(x, w0, w1):\n",
    "  ypred = w0+w1*x # calculate the predicted values\n",
    "  return ypred"
   ]
  },
  {
   "cell_type": "code",
   "execution_count": 68,
   "metadata": {},
   "outputs": [],
   "source": [
    "w0 = 2.5\n",
    "w1 = 1.5"
   ]
  },
  {
   "cell_type": "code",
   "execution_count": 69,
   "metadata": {},
   "outputs": [],
   "source": [
    "x = np.random.uniform(low=0, high=100, size= 200)\n",
    "y = w0 + w1*x + np.random.normal(loc = 20, scale = 30, size = 200)\n",
    "#Y = np.random.uniform(low=0, high=100, size= 100)"
   ]
  },
  {
   "cell_type": "code",
   "execution_count": 70,
   "metadata": {},
   "outputs": [
    {
     "data": {
      "text/plain": [
       "[<matplotlib.lines.Line2D at 0x7f86f1141790>]"
      ]
     },
     "execution_count": 70,
     "metadata": {},
     "output_type": "execute_result"
    },
    {
     "data": {
      "image/png": "[encoded data removed]",
      "text/plain": [
       "<Figure size 432x288 with 1 Axes>"
      ]
     },
     "metadata": {
      "needs_background": "light"
     },
     "output_type": "display_data"
    }
   ],
   "source": [
    "#plt.scatter(X, Y)\n",
    "#plt.plot(X, make_line(X, 1.0, 2.0), color =\"r\")\n",
    "plt.scatter(x,y)\n",
    "plt.plot(x,w0 + w1*x, color =\"r\")"
   ]
  },
  {
   "cell_type": "code",
   "execution_count": 71,
   "metadata": {},
   "outputs": [],
   "source": [
    "def mse(ytrue, ypred):\n",
    "  error = np.mean(ytrue - ypred)**2\n",
    "  return error"
   ]
  },
  {
   "cell_type": "code",
   "execution_count": 72,
   "metadata": {},
   "outputs": [],
   "source": [
    "a = np.array([1.0, 1.2, 1.4, 1.6])\n",
    "b = np.array([0.2, 0.4, 0.6, 0.8])\n",
    "\n",
    "assert round(mse(a,b), 2) == 0.64"
   ]
  },
  {
   "cell_type": "code",
   "execution_count": 77,
   "metadata": {},
   "outputs": [],
   "source": [
    "def calc_gradient(x, y, w0, w1):\n",
    "\n",
    "  dw = 0.01\n",
    "  lr = 0.01\n",
    "  ypred = w0+w1*x\n",
    "\n",
    "\n",
    "  '''tweak first parameter'''\n",
    "  w1_change = w1 + dw\n",
    "  # calculate predictions using w0 and w1_change\n",
    "  ypred_w1 = w0 + w1_change * x\n",
    "  g_mse_w1 = (mse(y, ypred_w1) - mse(y, ypred)) / dw\n",
    "  w1 = w1 + lr * g_mse_w1\n",
    "\n",
    "  '''tweak second parameter'''\n",
    "  w0_change = w0 + dw\n",
    "  # calculate predictions using w0_change and w1\n",
    "  ypred_w0 = w0_change + w1_change * x\n",
    "  g_mse_w0 = (mse(y, ypred_w0) - mse(y, ypred)) / dw\n",
    "  w0 = w0 + lr * g_mse_w0\n",
    "\n",
    "  return [w1, w0 ]"
   ]
  },
  {
   "cell_type": "code",
   "execution_count": null,
   "metadata": {},
   "outputs": [],
   "source": []
  }
 ],
 "metadata": {
  "interpreter": {
   "hash": "ef262637371f0e955c99f59ba6bc9da0dcca8f574b4a8ccc6c22cf2dccc86746"
  },
  "kernelspec": {
   "display_name": "Python 3.8.8 64-bit ('base': conda)",
   "language": "python",
   "name": "python3"
  },
  "language_info": {
   "codemirror_mode": {
    "name": "ipython",
    "version": 3
   },
   "file_extension": ".py",
   "mimetype": "text/x-python",
   "name": "python",
   "nbconvert_exporter": "python",
   "pygments_lexer": "ipython3",
   "version": "3.8.8"
  },
  "orig_nbformat": 4
 },
 "nbformat": 4,
 "nbformat_minor": 2
}
