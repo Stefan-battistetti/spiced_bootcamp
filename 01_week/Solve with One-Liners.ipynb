{
 "cells": [
  {
   "cell_type": "code",
   "execution_count": 12,
   "id": "61fc41df",
   "metadata": {},
   "outputs": [
    {
     "name": "stdout",
     "output_type": "stream",
     "text": [
      "         continent    country\n",
      "0           Africa    Algeria\n",
      "1           Africa     Angola\n",
      "2           Africa      Benin\n",
      "3           Africa   Botswana\n",
      "4           Africa    Burkina\n",
      "..             ...        ...\n",
      "189  South America   Paraguay\n",
      "190  South America       Peru\n",
      "191  South America   Suriname\n",
      "192  South America    Uruguay\n",
      "193  South America  Venezuela\n",
      "\n",
      "[194 rows x 2 columns]\n"
     ]
    }
   ],
   "source": [
    "import pandas as pd\n",
    "\n",
    "# 1. read the file into a DataFrame\n",
    "df = pd.read_csv('continents.csv', sep=';')\n",
    "print(df)\n",
    "\n",
    "\n",
    "\n",
    "\n",
    "# 6. define a DataFrame with all African countries\n",
    "africa = ...\n",
    "\n",
    "# 7. define a DataFrame with countries 80 through 100\n",
    "subset = ...\n",
    "\n",
    "# 8. select every second country"
   ]
  },
  {
   "cell_type": "code",
   "execution_count": 13,
   "id": "4407c455",
   "metadata": {},
   "outputs": [
    {
     "data": {
      "text/plain": [
       "(194, 2)"
      ]
     },
     "execution_count": 13,
     "metadata": {},
     "output_type": "execute_result"
    }
   ],
   "source": [
    "# 2. display the number of rows and columns\n",
    "df.shape"
   ]
  },
  {
   "cell_type": "code",
   "execution_count": 14,
   "id": "bc418614",
   "metadata": {},
   "outputs": [
    {
     "name": "stdout",
     "output_type": "stream",
     "text": [
      "   continent      country\n",
      "54      Asia  Afghanistan\n",
      "98    Europe      Albania\n",
      "0     Africa      Algeria\n",
      "99    Europe      Andorra\n",
      "1     Africa       Angola\n"
     ]
    }
   ],
   "source": [
    "# 3. display the first 5 countries in the alphabet\n",
    "print(df.sort_values(by='country', ascending=True).head(5))"
   ]
  },
  {
   "cell_type": "code",
   "execution_count": 22,
   "id": "72d082df",
   "metadata": {},
   "outputs": [
    {
     "name": "stdout",
     "output_type": "stream",
     "text": [
      "           country\n",
      "continent         \n",
      "Africa          54\n"
     ]
    }
   ],
   "source": [
    "# 4. which continent has the most countries?\n",
    "print(df.groupby('continent').count().head(1))\n"
   ]
  },
  {
   "cell_type": "code",
   "execution_count": 31,
   "id": "6de8d543",
   "metadata": {},
   "outputs": [
    {
     "name": "stdout",
     "output_type": "stream",
     "text": [
      "108    Europe\n",
      "Name: continent, dtype: object\n"
     ]
    }
   ],
   "source": [
    "# 5. find out on which continent Cyprus is\n",
    "print(df.iloc[df[df['country'] == 'Cyprus'].index.values,0])"
   ]
  },
  {
   "cell_type": "code",
   "execution_count": 33,
   "id": "dbbb24b1",
   "metadata": {},
   "outputs": [
    {
     "name": "stdout",
     "output_type": "stream",
     "text": [
      "  continent   country\n",
      "0    Africa   Algeria\n",
      "1    Africa    Angola\n",
      "2    Africa     Benin\n",
      "3    Africa  Botswana\n",
      "4    Africa   Burkina\n"
     ]
    }
   ],
   "source": [
    "# 6. define a DataFrame with all African countries\n",
    "\n",
    "africa = df[df['continent'] == 'Africa']\n",
    "print(africa.head())\n"
   ]
  },
  {
   "cell_type": "code",
   "execution_count": 38,
   "id": "1a42a949",
   "metadata": {},
   "outputs": [
    {
     "name": "stdout",
     "output_type": "stream",
     "text": [
      "   continent      country\n",
      "79      Asia     Mongolia\n",
      "80      Asia        Nepal\n",
      "81      Asia         Oman\n",
      "82      Asia     Pakistan\n",
      "83      Asia  Philippines\n"
     ]
    }
   ],
   "source": [
    "# 7. define a DataFrame with countries 80 through 100\n",
    "subset = df.iloc[79:99,:]\n",
    "print(subset.head())"
   ]
  },
  {
   "cell_type": "code",
   "execution_count": 49,
   "id": "71621573",
   "metadata": {},
   "outputs": [
    {
     "name": "stdout",
     "output_type": "stream",
     "text": [
      "  continent                   country\n",
      "0    Africa                   Algeria\n",
      "2    Africa                     Benin\n",
      "4    Africa                   Burkina\n",
      "6    Africa                  Cameroon\n",
      "8    Africa  Central African Republic\n"
     ]
    }
   ],
   "source": [
    "# 8. select every second country\n",
    "\n",
    "subset_2 = df.iloc[::2]\n",
    "print(subset_2.head())\n",
    "\n",
    "\n",
    "#df_even=pd.DataFrame()\n",
    "#i=0\n",
    "#intermediate_variable = list()\n",
    "\n",
    "#for index, row in df.iterrows():\n",
    "    \n",
    "   # if index%2 == 0:\n",
    "        \n",
    "    #    i=i+1\n",
    "     #   print(index, ':',row['continent'], 'and', row['country'])\n",
    "      #  intermediate_variable = pd.Series(index, ':',row['continent'], 'and', row['country']) \n",
    "        \n",
    "        \n",
    "       # df_even.append(index, ':',row['continent'], 'and', row[country])\n",
    "        #print(df_even)\n",
    "\n",
    "        \n",
    "        #intermediate_variable = pd.DataFrame(dictionary, df.iloc[index,:])\n",
    "        #df_even.append(dictionary, ignore_index=True)\n",
    "        \n",
    "        \n",
    "        #print(index, ':',row['country'])\n",
    "        \n"
   ]
  },
  {
   "cell_type": "code",
   "execution_count": null,
   "id": "e27b782d",
   "metadata": {},
   "outputs": [],
   "source": []
  },
  {
   "cell_type": "code",
   "execution_count": null,
   "id": "4139eb43",
   "metadata": {},
   "outputs": [],
   "source": []
  }
 ],
 "metadata": {
  "kernelspec": {
   "display_name": "Python 3",
   "language": "python",
   "name": "python3"
  },
  "language_info": {
   "codemirror_mode": {
    "name": "ipython",
    "version": 3
   },
   "file_extension": ".py",
   "mimetype": "text/x-python",
   "name": "python",
   "nbconvert_exporter": "python",
   "pygments_lexer": "ipython3",
   "version": "3.8.8"
  }
 },
 "nbformat": 4,
 "nbformat_minor": 5
}
