{
  "nbformat": 4,
  "nbformat_minor": 0,
  "metadata": {
    "colab": {
      "name": "Combine two DataFrames.ipynb",
      "provenance": [],
      "collapsed_sections": []
    },
    "kernelspec": {
      "name": "python3",
      "display_name": "Python 3"
    },
    "language_info": {
      "name": "python"
    }
  },
  "cells": [
    {
      "cell_type": "code",
      "metadata": {
        "id": "DviaPWkLehaI"
      },
      "source": [
        "import pandas as pd\n",
        "import numpy as np\n",
        "import matplotlib.pyplot as plt\n",
        "import seaborn as sns\n",
        "\n"
      ],
      "execution_count": 1,
      "outputs": []
    },
    {
      "cell_type": "code",
      "metadata": {
        "id": "znAgcRBTe9f9"
      },
      "source": [
        "df = pd.read_excel('/content/gapminder_lifeexpectancy.xlsx')"
      ],
      "execution_count": 7,
      "outputs": []
    },
    {
      "cell_type": "code",
      "metadata": {
        "id": "BoHnLmggfjRw"
      },
      "source": [
        "df2 = pd.read_csv('/content/continents.csv', sep=\";\")"
      ],
      "execution_count": 9,
      "outputs": []
    },
    {
      "cell_type": "code",
      "metadata": {
        "colab": {
          "base_uri": "https://localhost:8080/",
          "height": 290
        },
        "id": "-mKwn8mgfQbU",
        "outputId": "5e20f4cc-ea2f-4855-928e-a24d4a004c28"
      },
      "source": [
        "df.head(5)"
      ],
      "execution_count": 6,
      "outputs": [
        {
          "output_type": "execute_result",
          "data": {
            "text/html": [
              "<div>\n",
              "<style scoped>\n",
              "    .dataframe tbody tr th:only-of-type {\n",
              "        vertical-align: middle;\n",
              "    }\n",
              "\n",
              "    .dataframe tbody tr th {\n",
              "        vertical-align: top;\n",
              "    }\n",
              "\n",
              "    .dataframe thead th {\n",
              "        text-align: right;\n",
              "    }\n",
              "</style>\n",
              "<table border=\"1\" class=\"dataframe\">\n",
              "  <thead>\n",
              "    <tr style=\"text-align: right;\">\n",
              "      <th></th>\n",
              "      <th>Life expectancy</th>\n",
              "      <th>1800</th>\n",
              "      <th>1801</th>\n",
              "      <th>1802</th>\n",
              "      <th>1803</th>\n",
              "      <th>1804</th>\n",
              "      <th>1805</th>\n",
              "      <th>1806</th>\n",
              "      <th>1807</th>\n",
              "      <th>1808</th>\n",
              "      <th>1809</th>\n",
              "      <th>1810</th>\n",
              "      <th>1811</th>\n",
              "      <th>1812</th>\n",
              "      <th>1813</th>\n",
              "      <th>1814</th>\n",
              "      <th>1815</th>\n",
              "      <th>1816</th>\n",
              "      <th>1817</th>\n",
              "      <th>1818</th>\n",
              "      <th>1819</th>\n",
              "      <th>1820</th>\n",
              "      <th>1821</th>\n",
              "      <th>1822</th>\n",
              "      <th>1823</th>\n",
              "      <th>1824</th>\n",
              "      <th>1825</th>\n",
              "      <th>1826</th>\n",
              "      <th>1827</th>\n",
              "      <th>1828</th>\n",
              "      <th>1829</th>\n",
              "      <th>1830</th>\n",
              "      <th>1831</th>\n",
              "      <th>1832</th>\n",
              "      <th>1833</th>\n",
              "      <th>1834</th>\n",
              "      <th>1835</th>\n",
              "      <th>1836</th>\n",
              "      <th>1837</th>\n",
              "      <th>1838</th>\n",
              "      <th>...</th>\n",
              "      <th>1977</th>\n",
              "      <th>1978</th>\n",
              "      <th>1979</th>\n",
              "      <th>1980</th>\n",
              "      <th>1981</th>\n",
              "      <th>1982</th>\n",
              "      <th>1983</th>\n",
              "      <th>1984</th>\n",
              "      <th>1985</th>\n",
              "      <th>1986</th>\n",
              "      <th>1987</th>\n",
              "      <th>1988</th>\n",
              "      <th>1989</th>\n",
              "      <th>1990</th>\n",
              "      <th>1991</th>\n",
              "      <th>1992</th>\n",
              "      <th>1993</th>\n",
              "      <th>1994</th>\n",
              "      <th>1995</th>\n",
              "      <th>1996</th>\n",
              "      <th>1997</th>\n",
              "      <th>1998</th>\n",
              "      <th>1999</th>\n",
              "      <th>2000</th>\n",
              "      <th>2001</th>\n",
              "      <th>2002</th>\n",
              "      <th>2003</th>\n",
              "      <th>2004</th>\n",
              "      <th>2005</th>\n",
              "      <th>2006</th>\n",
              "      <th>2007</th>\n",
              "      <th>2008</th>\n",
              "      <th>2009</th>\n",
              "      <th>2010</th>\n",
              "      <th>2011</th>\n",
              "      <th>2012</th>\n",
              "      <th>2013</th>\n",
              "      <th>2014</th>\n",
              "      <th>2015</th>\n",
              "      <th>2016</th>\n",
              "    </tr>\n",
              "  </thead>\n",
              "  <tbody>\n",
              "    <tr>\n",
              "      <th>0</th>\n",
              "      <td>Abkhazia</td>\n",
              "      <td>NaN</td>\n",
              "      <td>NaN</td>\n",
              "      <td>NaN</td>\n",
              "      <td>NaN</td>\n",
              "      <td>NaN</td>\n",
              "      <td>NaN</td>\n",
              "      <td>NaN</td>\n",
              "      <td>NaN</td>\n",
              "      <td>NaN</td>\n",
              "      <td>NaN</td>\n",
              "      <td>NaN</td>\n",
              "      <td>NaN</td>\n",
              "      <td>NaN</td>\n",
              "      <td>NaN</td>\n",
              "      <td>NaN</td>\n",
              "      <td>NaN</td>\n",
              "      <td>NaN</td>\n",
              "      <td>NaN</td>\n",
              "      <td>NaN</td>\n",
              "      <td>NaN</td>\n",
              "      <td>NaN</td>\n",
              "      <td>NaN</td>\n",
              "      <td>NaN</td>\n",
              "      <td>NaN</td>\n",
              "      <td>NaN</td>\n",
              "      <td>NaN</td>\n",
              "      <td>NaN</td>\n",
              "      <td>NaN</td>\n",
              "      <td>NaN</td>\n",
              "      <td>NaN</td>\n",
              "      <td>NaN</td>\n",
              "      <td>NaN</td>\n",
              "      <td>NaN</td>\n",
              "      <td>NaN</td>\n",
              "      <td>NaN</td>\n",
              "      <td>NaN</td>\n",
              "      <td>NaN</td>\n",
              "      <td>NaN</td>\n",
              "      <td>NaN</td>\n",
              "      <td>...</td>\n",
              "      <td>NaN</td>\n",
              "      <td>NaN</td>\n",
              "      <td>NaN</td>\n",
              "      <td>NaN</td>\n",
              "      <td>NaN</td>\n",
              "      <td>NaN</td>\n",
              "      <td>NaN</td>\n",
              "      <td>NaN</td>\n",
              "      <td>NaN</td>\n",
              "      <td>NaN</td>\n",
              "      <td>NaN</td>\n",
              "      <td>NaN</td>\n",
              "      <td>NaN</td>\n",
              "      <td>NaN</td>\n",
              "      <td>NaN</td>\n",
              "      <td>NaN</td>\n",
              "      <td>NaN</td>\n",
              "      <td>NaN</td>\n",
              "      <td>NaN</td>\n",
              "      <td>NaN</td>\n",
              "      <td>NaN</td>\n",
              "      <td>NaN</td>\n",
              "      <td>NaN</td>\n",
              "      <td>NaN</td>\n",
              "      <td>NaN</td>\n",
              "      <td>NaN</td>\n",
              "      <td>NaN</td>\n",
              "      <td>NaN</td>\n",
              "      <td>NaN</td>\n",
              "      <td>NaN</td>\n",
              "      <td>NaN</td>\n",
              "      <td>NaN</td>\n",
              "      <td>NaN</td>\n",
              "      <td>NaN</td>\n",
              "      <td>NaN</td>\n",
              "      <td>NaN</td>\n",
              "      <td>NaN</td>\n",
              "      <td>NaN</td>\n",
              "      <td>NaN</td>\n",
              "      <td>NaN</td>\n",
              "    </tr>\n",
              "    <tr>\n",
              "      <th>1</th>\n",
              "      <td>Afghanistan</td>\n",
              "      <td>28.21</td>\n",
              "      <td>28.20</td>\n",
              "      <td>28.19</td>\n",
              "      <td>28.18</td>\n",
              "      <td>28.17</td>\n",
              "      <td>28.16</td>\n",
              "      <td>28.15</td>\n",
              "      <td>28.14</td>\n",
              "      <td>28.13</td>\n",
              "      <td>28.12</td>\n",
              "      <td>28.11</td>\n",
              "      <td>28.10</td>\n",
              "      <td>28.09</td>\n",
              "      <td>28.08</td>\n",
              "      <td>28.07</td>\n",
              "      <td>28.06</td>\n",
              "      <td>28.05</td>\n",
              "      <td>28.04</td>\n",
              "      <td>28.03</td>\n",
              "      <td>28.02</td>\n",
              "      <td>28.01</td>\n",
              "      <td>28.00</td>\n",
              "      <td>27.99</td>\n",
              "      <td>27.98</td>\n",
              "      <td>27.97</td>\n",
              "      <td>27.95</td>\n",
              "      <td>27.94</td>\n",
              "      <td>27.93</td>\n",
              "      <td>27.92</td>\n",
              "      <td>27.91</td>\n",
              "      <td>27.90</td>\n",
              "      <td>27.89</td>\n",
              "      <td>27.88</td>\n",
              "      <td>27.87</td>\n",
              "      <td>27.86</td>\n",
              "      <td>27.85</td>\n",
              "      <td>27.84</td>\n",
              "      <td>27.83</td>\n",
              "      <td>27.82</td>\n",
              "      <td>...</td>\n",
              "      <td>40.53</td>\n",
              "      <td>40.98</td>\n",
              "      <td>41.46</td>\n",
              "      <td>41.96</td>\n",
              "      <td>42.51</td>\n",
              "      <td>43.11</td>\n",
              "      <td>43.75</td>\n",
              "      <td>44.45</td>\n",
              "      <td>45.21</td>\n",
              "      <td>46.02</td>\n",
              "      <td>46.87</td>\n",
              "      <td>47.74</td>\n",
              "      <td>48.62</td>\n",
              "      <td>49.5</td>\n",
              "      <td>49.3</td>\n",
              "      <td>49.4</td>\n",
              "      <td>49.5</td>\n",
              "      <td>48.9</td>\n",
              "      <td>49.4</td>\n",
              "      <td>49.7</td>\n",
              "      <td>49.5</td>\n",
              "      <td>48.6</td>\n",
              "      <td>50.0</td>\n",
              "      <td>50.1</td>\n",
              "      <td>50.4</td>\n",
              "      <td>51.0</td>\n",
              "      <td>51.4</td>\n",
              "      <td>51.8</td>\n",
              "      <td>52.0</td>\n",
              "      <td>52.1</td>\n",
              "      <td>52.4</td>\n",
              "      <td>52.8</td>\n",
              "      <td>53.3</td>\n",
              "      <td>53.6</td>\n",
              "      <td>54.0</td>\n",
              "      <td>54.4</td>\n",
              "      <td>54.8</td>\n",
              "      <td>54.9</td>\n",
              "      <td>53.8</td>\n",
              "      <td>52.72</td>\n",
              "    </tr>\n",
              "    <tr>\n",
              "      <th>2</th>\n",
              "      <td>Akrotiri and Dhekelia</td>\n",
              "      <td>NaN</td>\n",
              "      <td>NaN</td>\n",
              "      <td>NaN</td>\n",
              "      <td>NaN</td>\n",
              "      <td>NaN</td>\n",
              "      <td>NaN</td>\n",
              "      <td>NaN</td>\n",
              "      <td>NaN</td>\n",
              "      <td>NaN</td>\n",
              "      <td>NaN</td>\n",
              "      <td>NaN</td>\n",
              "      <td>NaN</td>\n",
              "      <td>NaN</td>\n",
              "      <td>NaN</td>\n",
              "      <td>NaN</td>\n",
              "      <td>NaN</td>\n",
              "      <td>NaN</td>\n",
              "      <td>NaN</td>\n",
              "      <td>NaN</td>\n",
              "      <td>NaN</td>\n",
              "      <td>NaN</td>\n",
              "      <td>NaN</td>\n",
              "      <td>NaN</td>\n",
              "      <td>NaN</td>\n",
              "      <td>NaN</td>\n",
              "      <td>NaN</td>\n",
              "      <td>NaN</td>\n",
              "      <td>NaN</td>\n",
              "      <td>NaN</td>\n",
              "      <td>NaN</td>\n",
              "      <td>NaN</td>\n",
              "      <td>NaN</td>\n",
              "      <td>NaN</td>\n",
              "      <td>NaN</td>\n",
              "      <td>NaN</td>\n",
              "      <td>NaN</td>\n",
              "      <td>NaN</td>\n",
              "      <td>NaN</td>\n",
              "      <td>NaN</td>\n",
              "      <td>...</td>\n",
              "      <td>NaN</td>\n",
              "      <td>NaN</td>\n",
              "      <td>NaN</td>\n",
              "      <td>NaN</td>\n",
              "      <td>NaN</td>\n",
              "      <td>NaN</td>\n",
              "      <td>NaN</td>\n",
              "      <td>NaN</td>\n",
              "      <td>NaN</td>\n",
              "      <td>NaN</td>\n",
              "      <td>NaN</td>\n",
              "      <td>NaN</td>\n",
              "      <td>NaN</td>\n",
              "      <td>NaN</td>\n",
              "      <td>NaN</td>\n",
              "      <td>NaN</td>\n",
              "      <td>NaN</td>\n",
              "      <td>NaN</td>\n",
              "      <td>NaN</td>\n",
              "      <td>NaN</td>\n",
              "      <td>NaN</td>\n",
              "      <td>NaN</td>\n",
              "      <td>NaN</td>\n",
              "      <td>NaN</td>\n",
              "      <td>NaN</td>\n",
              "      <td>NaN</td>\n",
              "      <td>NaN</td>\n",
              "      <td>NaN</td>\n",
              "      <td>NaN</td>\n",
              "      <td>NaN</td>\n",
              "      <td>NaN</td>\n",
              "      <td>NaN</td>\n",
              "      <td>NaN</td>\n",
              "      <td>NaN</td>\n",
              "      <td>NaN</td>\n",
              "      <td>NaN</td>\n",
              "      <td>NaN</td>\n",
              "      <td>NaN</td>\n",
              "      <td>NaN</td>\n",
              "      <td>NaN</td>\n",
              "    </tr>\n",
              "    <tr>\n",
              "      <th>3</th>\n",
              "      <td>Albania</td>\n",
              "      <td>35.40</td>\n",
              "      <td>35.40</td>\n",
              "      <td>35.40</td>\n",
              "      <td>35.40</td>\n",
              "      <td>35.40</td>\n",
              "      <td>35.40</td>\n",
              "      <td>35.40</td>\n",
              "      <td>35.40</td>\n",
              "      <td>35.40</td>\n",
              "      <td>35.40</td>\n",
              "      <td>35.40</td>\n",
              "      <td>35.40</td>\n",
              "      <td>35.40</td>\n",
              "      <td>35.40</td>\n",
              "      <td>35.40</td>\n",
              "      <td>35.40</td>\n",
              "      <td>35.40</td>\n",
              "      <td>35.40</td>\n",
              "      <td>35.40</td>\n",
              "      <td>35.40</td>\n",
              "      <td>35.40</td>\n",
              "      <td>35.40</td>\n",
              "      <td>35.40</td>\n",
              "      <td>35.40</td>\n",
              "      <td>35.40</td>\n",
              "      <td>35.40</td>\n",
              "      <td>35.40</td>\n",
              "      <td>35.40</td>\n",
              "      <td>35.40</td>\n",
              "      <td>35.40</td>\n",
              "      <td>35.40</td>\n",
              "      <td>35.40</td>\n",
              "      <td>35.40</td>\n",
              "      <td>35.40</td>\n",
              "      <td>35.40</td>\n",
              "      <td>35.40</td>\n",
              "      <td>35.40</td>\n",
              "      <td>35.40</td>\n",
              "      <td>35.40</td>\n",
              "      <td>...</td>\n",
              "      <td>70.54</td>\n",
              "      <td>70.86</td>\n",
              "      <td>71.14</td>\n",
              "      <td>71.39</td>\n",
              "      <td>71.63</td>\n",
              "      <td>71.88</td>\n",
              "      <td>72.15</td>\n",
              "      <td>72.42</td>\n",
              "      <td>72.71</td>\n",
              "      <td>72.96</td>\n",
              "      <td>73.14</td>\n",
              "      <td>73.25</td>\n",
              "      <td>73.30</td>\n",
              "      <td>73.3</td>\n",
              "      <td>73.4</td>\n",
              "      <td>73.6</td>\n",
              "      <td>73.6</td>\n",
              "      <td>73.6</td>\n",
              "      <td>73.7</td>\n",
              "      <td>73.8</td>\n",
              "      <td>74.1</td>\n",
              "      <td>74.2</td>\n",
              "      <td>74.2</td>\n",
              "      <td>74.7</td>\n",
              "      <td>75.1</td>\n",
              "      <td>75.5</td>\n",
              "      <td>75.7</td>\n",
              "      <td>75.9</td>\n",
              "      <td>76.2</td>\n",
              "      <td>76.4</td>\n",
              "      <td>76.6</td>\n",
              "      <td>76.8</td>\n",
              "      <td>77.0</td>\n",
              "      <td>77.2</td>\n",
              "      <td>77.4</td>\n",
              "      <td>77.5</td>\n",
              "      <td>77.7</td>\n",
              "      <td>77.9</td>\n",
              "      <td>78.0</td>\n",
              "      <td>78.10</td>\n",
              "    </tr>\n",
              "    <tr>\n",
              "      <th>4</th>\n",
              "      <td>Algeria</td>\n",
              "      <td>28.82</td>\n",
              "      <td>28.82</td>\n",
              "      <td>28.82</td>\n",
              "      <td>28.82</td>\n",
              "      <td>28.82</td>\n",
              "      <td>28.82</td>\n",
              "      <td>28.82</td>\n",
              "      <td>28.82</td>\n",
              "      <td>28.82</td>\n",
              "      <td>28.82</td>\n",
              "      <td>28.82</td>\n",
              "      <td>28.82</td>\n",
              "      <td>28.82</td>\n",
              "      <td>28.82</td>\n",
              "      <td>28.82</td>\n",
              "      <td>28.82</td>\n",
              "      <td>28.82</td>\n",
              "      <td>28.82</td>\n",
              "      <td>28.82</td>\n",
              "      <td>28.82</td>\n",
              "      <td>28.82</td>\n",
              "      <td>28.82</td>\n",
              "      <td>28.82</td>\n",
              "      <td>28.82</td>\n",
              "      <td>28.82</td>\n",
              "      <td>28.82</td>\n",
              "      <td>28.82</td>\n",
              "      <td>28.82</td>\n",
              "      <td>28.82</td>\n",
              "      <td>28.82</td>\n",
              "      <td>28.82</td>\n",
              "      <td>28.82</td>\n",
              "      <td>28.82</td>\n",
              "      <td>28.82</td>\n",
              "      <td>28.82</td>\n",
              "      <td>28.82</td>\n",
              "      <td>28.82</td>\n",
              "      <td>28.82</td>\n",
              "      <td>28.82</td>\n",
              "      <td>...</td>\n",
              "      <td>57.13</td>\n",
              "      <td>58.28</td>\n",
              "      <td>59.56</td>\n",
              "      <td>60.92</td>\n",
              "      <td>62.31</td>\n",
              "      <td>63.69</td>\n",
              "      <td>64.97</td>\n",
              "      <td>66.15</td>\n",
              "      <td>67.18</td>\n",
              "      <td>68.04</td>\n",
              "      <td>68.75</td>\n",
              "      <td>69.33</td>\n",
              "      <td>69.81</td>\n",
              "      <td>70.2</td>\n",
              "      <td>70.5</td>\n",
              "      <td>70.9</td>\n",
              "      <td>71.2</td>\n",
              "      <td>71.4</td>\n",
              "      <td>71.6</td>\n",
              "      <td>72.1</td>\n",
              "      <td>72.4</td>\n",
              "      <td>72.6</td>\n",
              "      <td>73.0</td>\n",
              "      <td>73.3</td>\n",
              "      <td>73.5</td>\n",
              "      <td>73.8</td>\n",
              "      <td>73.9</td>\n",
              "      <td>74.4</td>\n",
              "      <td>74.8</td>\n",
              "      <td>75.0</td>\n",
              "      <td>75.3</td>\n",
              "      <td>75.5</td>\n",
              "      <td>75.7</td>\n",
              "      <td>76.0</td>\n",
              "      <td>76.1</td>\n",
              "      <td>76.2</td>\n",
              "      <td>76.3</td>\n",
              "      <td>76.3</td>\n",
              "      <td>76.4</td>\n",
              "      <td>76.50</td>\n",
              "    </tr>\n",
              "  </tbody>\n",
              "</table>\n",
              "<p>5 rows × 218 columns</p>\n",
              "</div>"
            ],
            "text/plain": [
              "         Life expectancy   1800   1801   1802  ...  2013  2014  2015   2016\n",
              "0               Abkhazia    NaN    NaN    NaN  ...   NaN   NaN   NaN    NaN\n",
              "1            Afghanistan  28.21  28.20  28.19  ...  54.8  54.9  53.8  52.72\n",
              "2  Akrotiri and Dhekelia    NaN    NaN    NaN  ...   NaN   NaN   NaN    NaN\n",
              "3                Albania  35.40  35.40  35.40  ...  77.7  77.9  78.0  78.10\n",
              "4                Algeria  28.82  28.82  28.82  ...  76.3  76.3  76.4  76.50\n",
              "\n",
              "[5 rows x 218 columns]"
            ]
          },
          "metadata": {},
          "execution_count": 6
        }
      ]
    },
    {
      "cell_type": "code",
      "metadata": {
        "colab": {
          "base_uri": "https://localhost:8080/",
          "height": 206
        },
        "id": "UwWc32dCfkJ0",
        "outputId": "11655520-a72e-40da-9af3-1ca5020e6f19"
      },
      "source": [
        "df2.head(5)"
      ],
      "execution_count": 11,
      "outputs": [
        {
          "output_type": "execute_result",
          "data": {
            "text/html": [
              "<div>\n",
              "<style scoped>\n",
              "    .dataframe tbody tr th:only-of-type {\n",
              "        vertical-align: middle;\n",
              "    }\n",
              "\n",
              "    .dataframe tbody tr th {\n",
              "        vertical-align: top;\n",
              "    }\n",
              "\n",
              "    .dataframe thead th {\n",
              "        text-align: right;\n",
              "    }\n",
              "</style>\n",
              "<table border=\"1\" class=\"dataframe\">\n",
              "  <thead>\n",
              "    <tr style=\"text-align: right;\">\n",
              "      <th></th>\n",
              "      <th>continent</th>\n",
              "      <th>country</th>\n",
              "    </tr>\n",
              "  </thead>\n",
              "  <tbody>\n",
              "    <tr>\n",
              "      <th>0</th>\n",
              "      <td>Africa</td>\n",
              "      <td>Algeria</td>\n",
              "    </tr>\n",
              "    <tr>\n",
              "      <th>1</th>\n",
              "      <td>Africa</td>\n",
              "      <td>Angola</td>\n",
              "    </tr>\n",
              "    <tr>\n",
              "      <th>2</th>\n",
              "      <td>Africa</td>\n",
              "      <td>Benin</td>\n",
              "    </tr>\n",
              "    <tr>\n",
              "      <th>3</th>\n",
              "      <td>Africa</td>\n",
              "      <td>Botswana</td>\n",
              "    </tr>\n",
              "    <tr>\n",
              "      <th>4</th>\n",
              "      <td>Africa</td>\n",
              "      <td>Burkina</td>\n",
              "    </tr>\n",
              "  </tbody>\n",
              "</table>\n",
              "</div>"
            ],
            "text/plain": [
              "  continent   country\n",
              "0    Africa   Algeria\n",
              "1    Africa    Angola\n",
              "2    Africa     Benin\n",
              "3    Africa  Botswana\n",
              "4    Africa   Burkina"
            ]
          },
          "metadata": {},
          "execution_count": 11
        }
      ]
    },
    {
      "cell_type": "code",
      "metadata": {
        "colab": {
          "base_uri": "https://localhost:8080/",
          "height": 424
        },
        "id": "ZX9ZnFBDf4U_",
        "outputId": "4a2c1533-6230-4e01-b191-c7f759992bd9"
      },
      "source": [
        "df1 = df[['Life expectancy',2000]]\n",
        "#df1 = pd.DataFrame([2000])\n",
        "df1"
      ],
      "execution_count": 24,
      "outputs": [
        {
          "output_type": "execute_result",
          "data": {
            "text/html": [
              "<div>\n",
              "<style scoped>\n",
              "    .dataframe tbody tr th:only-of-type {\n",
              "        vertical-align: middle;\n",
              "    }\n",
              "\n",
              "    .dataframe tbody tr th {\n",
              "        vertical-align: top;\n",
              "    }\n",
              "\n",
              "    .dataframe thead th {\n",
              "        text-align: right;\n",
              "    }\n",
              "</style>\n",
              "<table border=\"1\" class=\"dataframe\">\n",
              "  <thead>\n",
              "    <tr style=\"text-align: right;\">\n",
              "      <th></th>\n",
              "      <th>Life expectancy</th>\n",
              "      <th>2000</th>\n",
              "    </tr>\n",
              "  </thead>\n",
              "  <tbody>\n",
              "    <tr>\n",
              "      <th>0</th>\n",
              "      <td>Abkhazia</td>\n",
              "      <td>NaN</td>\n",
              "    </tr>\n",
              "    <tr>\n",
              "      <th>1</th>\n",
              "      <td>Afghanistan</td>\n",
              "      <td>50.1</td>\n",
              "    </tr>\n",
              "    <tr>\n",
              "      <th>2</th>\n",
              "      <td>Akrotiri and Dhekelia</td>\n",
              "      <td>NaN</td>\n",
              "    </tr>\n",
              "    <tr>\n",
              "      <th>3</th>\n",
              "      <td>Albania</td>\n",
              "      <td>74.7</td>\n",
              "    </tr>\n",
              "    <tr>\n",
              "      <th>4</th>\n",
              "      <td>Algeria</td>\n",
              "      <td>73.3</td>\n",
              "    </tr>\n",
              "    <tr>\n",
              "      <th>...</th>\n",
              "      <td>...</td>\n",
              "      <td>...</td>\n",
              "    </tr>\n",
              "    <tr>\n",
              "      <th>255</th>\n",
              "      <td>Yugoslavia</td>\n",
              "      <td>NaN</td>\n",
              "    </tr>\n",
              "    <tr>\n",
              "      <th>256</th>\n",
              "      <td>Zambia</td>\n",
              "      <td>44.8</td>\n",
              "    </tr>\n",
              "    <tr>\n",
              "      <th>257</th>\n",
              "      <td>Zimbabwe</td>\n",
              "      <td>47.9</td>\n",
              "    </tr>\n",
              "    <tr>\n",
              "      <th>258</th>\n",
              "      <td>Åland</td>\n",
              "      <td>80.0</td>\n",
              "    </tr>\n",
              "    <tr>\n",
              "      <th>259</th>\n",
              "      <td>South Sudan</td>\n",
              "      <td>54.4</td>\n",
              "    </tr>\n",
              "  </tbody>\n",
              "</table>\n",
              "<p>260 rows × 2 columns</p>\n",
              "</div>"
            ],
            "text/plain": [
              "           Life expectancy  2000\n",
              "0                 Abkhazia   NaN\n",
              "1              Afghanistan  50.1\n",
              "2    Akrotiri and Dhekelia   NaN\n",
              "3                  Albania  74.7\n",
              "4                  Algeria  73.3\n",
              "..                     ...   ...\n",
              "255             Yugoslavia   NaN\n",
              "256                 Zambia  44.8\n",
              "257               Zimbabwe  47.9\n",
              "258                  Åland  80.0\n",
              "259            South Sudan  54.4\n",
              "\n",
              "[260 rows x 2 columns]"
            ]
          },
          "metadata": {},
          "execution_count": 24
        }
      ]
    },
    {
      "cell_type": "code",
      "metadata": {
        "colab": {
          "base_uri": "https://localhost:8080/",
          "height": 206
        },
        "id": "9nyxGP-Dg8GS",
        "outputId": "fba912a5-3e80-4445-9334-e2d2182fd2ca"
      },
      "source": [
        "df1.head()"
      ],
      "execution_count": 19,
      "outputs": [
        {
          "output_type": "execute_result",
          "data": {
            "text/html": [
              "<div>\n",
              "<style scoped>\n",
              "    .dataframe tbody tr th:only-of-type {\n",
              "        vertical-align: middle;\n",
              "    }\n",
              "\n",
              "    .dataframe tbody tr th {\n",
              "        vertical-align: top;\n",
              "    }\n",
              "\n",
              "    .dataframe thead th {\n",
              "        text-align: right;\n",
              "    }\n",
              "</style>\n",
              "<table border=\"1\" class=\"dataframe\">\n",
              "  <thead>\n",
              "    <tr style=\"text-align: right;\">\n",
              "      <th></th>\n",
              "      <th>Life expectancy</th>\n",
              "      <th>2000</th>\n",
              "    </tr>\n",
              "  </thead>\n",
              "  <tbody>\n",
              "    <tr>\n",
              "      <th>0</th>\n",
              "      <td>Abkhazia</td>\n",
              "      <td>NaN</td>\n",
              "    </tr>\n",
              "    <tr>\n",
              "      <th>1</th>\n",
              "      <td>Afghanistan</td>\n",
              "      <td>50.1</td>\n",
              "    </tr>\n",
              "    <tr>\n",
              "      <th>2</th>\n",
              "      <td>Akrotiri and Dhekelia</td>\n",
              "      <td>NaN</td>\n",
              "    </tr>\n",
              "    <tr>\n",
              "      <th>3</th>\n",
              "      <td>Albania</td>\n",
              "      <td>74.7</td>\n",
              "    </tr>\n",
              "    <tr>\n",
              "      <th>4</th>\n",
              "      <td>Algeria</td>\n",
              "      <td>73.3</td>\n",
              "    </tr>\n",
              "  </tbody>\n",
              "</table>\n",
              "</div>"
            ],
            "text/plain": [
              "         Life expectancy  2000\n",
              "0               Abkhazia   NaN\n",
              "1            Afghanistan  50.1\n",
              "2  Akrotiri and Dhekelia   NaN\n",
              "3                Albania  74.7\n",
              "4                Algeria  73.3"
            ]
          },
          "metadata": {},
          "execution_count": 19
        }
      ]
    },
    {
      "cell_type": "code",
      "metadata": {
        "colab": {
          "base_uri": "https://localhost:8080/",
          "height": 424
        },
        "id": "3bybbQOzgUzb",
        "outputId": "8fbf7897-63f5-4cec-be09-3b6afdbff5c6"
      },
      "source": [
        "df1 = df1.rename(columns={'Life expectancy': 'country',2000: 'Life expectancy'})\n",
        "df1"
      ],
      "execution_count": 25,
      "outputs": [
        {
          "output_type": "execute_result",
          "data": {
            "text/html": [
              "<div>\n",
              "<style scoped>\n",
              "    .dataframe tbody tr th:only-of-type {\n",
              "        vertical-align: middle;\n",
              "    }\n",
              "\n",
              "    .dataframe tbody tr th {\n",
              "        vertical-align: top;\n",
              "    }\n",
              "\n",
              "    .dataframe thead th {\n",
              "        text-align: right;\n",
              "    }\n",
              "</style>\n",
              "<table border=\"1\" class=\"dataframe\">\n",
              "  <thead>\n",
              "    <tr style=\"text-align: right;\">\n",
              "      <th></th>\n",
              "      <th>country</th>\n",
              "      <th>Life expectancy</th>\n",
              "    </tr>\n",
              "  </thead>\n",
              "  <tbody>\n",
              "    <tr>\n",
              "      <th>0</th>\n",
              "      <td>Abkhazia</td>\n",
              "      <td>NaN</td>\n",
              "    </tr>\n",
              "    <tr>\n",
              "      <th>1</th>\n",
              "      <td>Afghanistan</td>\n",
              "      <td>50.1</td>\n",
              "    </tr>\n",
              "    <tr>\n",
              "      <th>2</th>\n",
              "      <td>Akrotiri and Dhekelia</td>\n",
              "      <td>NaN</td>\n",
              "    </tr>\n",
              "    <tr>\n",
              "      <th>3</th>\n",
              "      <td>Albania</td>\n",
              "      <td>74.7</td>\n",
              "    </tr>\n",
              "    <tr>\n",
              "      <th>4</th>\n",
              "      <td>Algeria</td>\n",
              "      <td>73.3</td>\n",
              "    </tr>\n",
              "    <tr>\n",
              "      <th>...</th>\n",
              "      <td>...</td>\n",
              "      <td>...</td>\n",
              "    </tr>\n",
              "    <tr>\n",
              "      <th>255</th>\n",
              "      <td>Yugoslavia</td>\n",
              "      <td>NaN</td>\n",
              "    </tr>\n",
              "    <tr>\n",
              "      <th>256</th>\n",
              "      <td>Zambia</td>\n",
              "      <td>44.8</td>\n",
              "    </tr>\n",
              "    <tr>\n",
              "      <th>257</th>\n",
              "      <td>Zimbabwe</td>\n",
              "      <td>47.9</td>\n",
              "    </tr>\n",
              "    <tr>\n",
              "      <th>258</th>\n",
              "      <td>Åland</td>\n",
              "      <td>80.0</td>\n",
              "    </tr>\n",
              "    <tr>\n",
              "      <th>259</th>\n",
              "      <td>South Sudan</td>\n",
              "      <td>54.4</td>\n",
              "    </tr>\n",
              "  </tbody>\n",
              "</table>\n",
              "<p>260 rows × 2 columns</p>\n",
              "</div>"
            ],
            "text/plain": [
              "                   country  Life expectancy\n",
              "0                 Abkhazia              NaN\n",
              "1              Afghanistan             50.1\n",
              "2    Akrotiri and Dhekelia              NaN\n",
              "3                  Albania             74.7\n",
              "4                  Algeria             73.3\n",
              "..                     ...              ...\n",
              "255             Yugoslavia              NaN\n",
              "256                 Zambia             44.8\n",
              "257               Zimbabwe             47.9\n",
              "258                  Åland             80.0\n",
              "259            South Sudan             54.4\n",
              "\n",
              "[260 rows x 2 columns]"
            ]
          },
          "metadata": {},
          "execution_count": 25
        }
      ]
    },
    {
      "cell_type": "code",
      "metadata": {
        "colab": {
          "base_uri": "https://localhost:8080/",
          "height": 677
        },
        "id": "xQHwvpDNgU5p",
        "outputId": "9d3333f1-9026-4ad4-b10f-07befd9bca8c"
      },
      "source": [
        "df_merged = pd.merge(df1,df2,how='outer',on='country')\n",
        "df_merged.head(20)"
      ],
      "execution_count": 43,
      "outputs": [
        {
          "output_type": "execute_result",
          "data": {
            "text/html": [
              "<div>\n",
              "<style scoped>\n",
              "    .dataframe tbody tr th:only-of-type {\n",
              "        vertical-align: middle;\n",
              "    }\n",
              "\n",
              "    .dataframe tbody tr th {\n",
              "        vertical-align: top;\n",
              "    }\n",
              "\n",
              "    .dataframe thead th {\n",
              "        text-align: right;\n",
              "    }\n",
              "</style>\n",
              "<table border=\"1\" class=\"dataframe\">\n",
              "  <thead>\n",
              "    <tr style=\"text-align: right;\">\n",
              "      <th></th>\n",
              "      <th>country</th>\n",
              "      <th>Life expectancy</th>\n",
              "      <th>continent</th>\n",
              "    </tr>\n",
              "  </thead>\n",
              "  <tbody>\n",
              "    <tr>\n",
              "      <th>0</th>\n",
              "      <td>Abkhazia</td>\n",
              "      <td>NaN</td>\n",
              "      <td>NaN</td>\n",
              "    </tr>\n",
              "    <tr>\n",
              "      <th>1</th>\n",
              "      <td>Afghanistan</td>\n",
              "      <td>50.10</td>\n",
              "      <td>Asia</td>\n",
              "    </tr>\n",
              "    <tr>\n",
              "      <th>2</th>\n",
              "      <td>Akrotiri and Dhekelia</td>\n",
              "      <td>NaN</td>\n",
              "      <td>NaN</td>\n",
              "    </tr>\n",
              "    <tr>\n",
              "      <th>3</th>\n",
              "      <td>Albania</td>\n",
              "      <td>74.70</td>\n",
              "      <td>Europe</td>\n",
              "    </tr>\n",
              "    <tr>\n",
              "      <th>4</th>\n",
              "      <td>Algeria</td>\n",
              "      <td>73.30</td>\n",
              "      <td>Africa</td>\n",
              "    </tr>\n",
              "    <tr>\n",
              "      <th>5</th>\n",
              "      <td>American Samoa</td>\n",
              "      <td>71.70</td>\n",
              "      <td>NaN</td>\n",
              "    </tr>\n",
              "    <tr>\n",
              "      <th>6</th>\n",
              "      <td>Andorra</td>\n",
              "      <td>83.70</td>\n",
              "      <td>Europe</td>\n",
              "    </tr>\n",
              "    <tr>\n",
              "      <th>7</th>\n",
              "      <td>Angola</td>\n",
              "      <td>52.30</td>\n",
              "      <td>Africa</td>\n",
              "    </tr>\n",
              "    <tr>\n",
              "      <th>8</th>\n",
              "      <td>Anguilla</td>\n",
              "      <td>NaN</td>\n",
              "      <td>NaN</td>\n",
              "    </tr>\n",
              "    <tr>\n",
              "      <th>9</th>\n",
              "      <td>Antigua and Barbuda</td>\n",
              "      <td>73.80</td>\n",
              "      <td>North America</td>\n",
              "    </tr>\n",
              "    <tr>\n",
              "      <th>10</th>\n",
              "      <td>Argentina</td>\n",
              "      <td>74.20</td>\n",
              "      <td>South America</td>\n",
              "    </tr>\n",
              "    <tr>\n",
              "      <th>11</th>\n",
              "      <td>Armenia</td>\n",
              "      <td>71.30</td>\n",
              "      <td>Europe</td>\n",
              "    </tr>\n",
              "    <tr>\n",
              "      <th>12</th>\n",
              "      <td>Aruba</td>\n",
              "      <td>73.78</td>\n",
              "      <td>NaN</td>\n",
              "    </tr>\n",
              "    <tr>\n",
              "      <th>13</th>\n",
              "      <td>Australia</td>\n",
              "      <td>79.80</td>\n",
              "      <td>Australia and Oceania</td>\n",
              "    </tr>\n",
              "    <tr>\n",
              "      <th>14</th>\n",
              "      <td>Austria</td>\n",
              "      <td>78.20</td>\n",
              "      <td>Europe</td>\n",
              "    </tr>\n",
              "    <tr>\n",
              "      <th>15</th>\n",
              "      <td>Azerbaijan</td>\n",
              "      <td>66.50</td>\n",
              "      <td>Europe</td>\n",
              "    </tr>\n",
              "    <tr>\n",
              "      <th>16</th>\n",
              "      <td>Bahamas</td>\n",
              "      <td>70.20</td>\n",
              "      <td>North America</td>\n",
              "    </tr>\n",
              "    <tr>\n",
              "      <th>17</th>\n",
              "      <td>Bahrain</td>\n",
              "      <td>73.70</td>\n",
              "      <td>Asia</td>\n",
              "    </tr>\n",
              "    <tr>\n",
              "      <th>18</th>\n",
              "      <td>Bangladesh</td>\n",
              "      <td>64.90</td>\n",
              "      <td>Asia</td>\n",
              "    </tr>\n",
              "    <tr>\n",
              "      <th>19</th>\n",
              "      <td>Barbados</td>\n",
              "      <td>74.00</td>\n",
              "      <td>North America</td>\n",
              "    </tr>\n",
              "  </tbody>\n",
              "</table>\n",
              "</div>"
            ],
            "text/plain": [
              "                  country  Life expectancy              continent\n",
              "0                Abkhazia              NaN                    NaN\n",
              "1             Afghanistan            50.10                   Asia\n",
              "2   Akrotiri and Dhekelia              NaN                    NaN\n",
              "3                 Albania            74.70                 Europe\n",
              "4                 Algeria            73.30                 Africa\n",
              "5          American Samoa            71.70                    NaN\n",
              "6                 Andorra            83.70                 Europe\n",
              "7                  Angola            52.30                 Africa\n",
              "8                Anguilla              NaN                    NaN\n",
              "9     Antigua and Barbuda            73.80          North America\n",
              "10              Argentina            74.20          South America\n",
              "11                Armenia            71.30                 Europe\n",
              "12                  Aruba            73.78                    NaN\n",
              "13              Australia            79.80  Australia and Oceania\n",
              "14                Austria            78.20                 Europe\n",
              "15             Azerbaijan            66.50                 Europe\n",
              "16                Bahamas            70.20          North America\n",
              "17                Bahrain            73.70                   Asia\n",
              "18             Bangladesh            64.90                   Asia\n",
              "19               Barbados            74.00          North America"
            ]
          },
          "metadata": {},
          "execution_count": 43
        }
      ]
    },
    {
      "cell_type": "code",
      "metadata": {
        "colab": {
          "base_uri": "https://localhost:8080/"
        },
        "id": "sLtY__0bjTWh",
        "outputId": "f01e23d5-4825-46c2-f340-7f788b33a6e6"
      },
      "source": [
        "df_merged.info()"
      ],
      "execution_count": 33,
      "outputs": [
        {
          "output_type": "stream",
          "name": "stdout",
          "text": [
            "<class 'pandas.core.frame.DataFrame'>\n",
            "Int64Index: 278 entries, 0 to 277\n",
            "Data columns (total 3 columns):\n",
            " #   Column           Non-Null Count  Dtype  \n",
            "---  ------           --------------  -----  \n",
            " 0   country          278 non-null    object \n",
            " 1   Life expectancy  209 non-null    float64\n",
            " 2   continent        194 non-null    object \n",
            "dtypes: float64(1), object(2)\n",
            "memory usage: 8.7+ KB\n"
          ]
        }
      ]
    },
    {
      "cell_type": "code",
      "metadata": {
        "colab": {
          "base_uri": "https://localhost:8080/",
          "height": 424
        },
        "id": "bKfxr0-Zk4y8",
        "outputId": "62d33a5b-8dba-4dac-a857-a7b3cad0fbff"
      },
      "source": [
        "df_merged.dropna()"
      ],
      "execution_count": 59,
      "outputs": [
        {
          "output_type": "execute_result",
          "data": {
            "text/html": [
              "<div>\n",
              "<style scoped>\n",
              "    .dataframe tbody tr th:only-of-type {\n",
              "        vertical-align: middle;\n",
              "    }\n",
              "\n",
              "    .dataframe tbody tr th {\n",
              "        vertical-align: top;\n",
              "    }\n",
              "\n",
              "    .dataframe thead th {\n",
              "        text-align: right;\n",
              "    }\n",
              "</style>\n",
              "<table border=\"1\" class=\"dataframe\">\n",
              "  <thead>\n",
              "    <tr style=\"text-align: right;\">\n",
              "      <th></th>\n",
              "      <th>country</th>\n",
              "      <th>Life expectancy</th>\n",
              "      <th>continent</th>\n",
              "    </tr>\n",
              "  </thead>\n",
              "  <tbody>\n",
              "    <tr>\n",
              "      <th>1</th>\n",
              "      <td>Afghanistan</td>\n",
              "      <td>50.1</td>\n",
              "      <td>Asia</td>\n",
              "    </tr>\n",
              "    <tr>\n",
              "      <th>3</th>\n",
              "      <td>Albania</td>\n",
              "      <td>74.7</td>\n",
              "      <td>Europe</td>\n",
              "    </tr>\n",
              "    <tr>\n",
              "      <th>4</th>\n",
              "      <td>Algeria</td>\n",
              "      <td>73.3</td>\n",
              "      <td>Africa</td>\n",
              "    </tr>\n",
              "    <tr>\n",
              "      <th>6</th>\n",
              "      <td>Andorra</td>\n",
              "      <td>83.7</td>\n",
              "      <td>Europe</td>\n",
              "    </tr>\n",
              "    <tr>\n",
              "      <th>7</th>\n",
              "      <td>Angola</td>\n",
              "      <td>52.3</td>\n",
              "      <td>Africa</td>\n",
              "    </tr>\n",
              "    <tr>\n",
              "      <th>...</th>\n",
              "      <td>...</td>\n",
              "      <td>...</td>\n",
              "      <td>...</td>\n",
              "    </tr>\n",
              "    <tr>\n",
              "      <th>250</th>\n",
              "      <td>Vietnam</td>\n",
              "      <td>72.0</td>\n",
              "      <td>Asia</td>\n",
              "    </tr>\n",
              "    <tr>\n",
              "      <th>254</th>\n",
              "      <td>Yemen</td>\n",
              "      <td>62.4</td>\n",
              "      <td>Asia</td>\n",
              "    </tr>\n",
              "    <tr>\n",
              "      <th>256</th>\n",
              "      <td>Zambia</td>\n",
              "      <td>44.8</td>\n",
              "      <td>Africa</td>\n",
              "    </tr>\n",
              "    <tr>\n",
              "      <th>257</th>\n",
              "      <td>Zimbabwe</td>\n",
              "      <td>47.9</td>\n",
              "      <td>Africa</td>\n",
              "    </tr>\n",
              "    <tr>\n",
              "      <th>259</th>\n",
              "      <td>South Sudan</td>\n",
              "      <td>54.4</td>\n",
              "      <td>Africa</td>\n",
              "    </tr>\n",
              "  </tbody>\n",
              "</table>\n",
              "<p>170 rows × 3 columns</p>\n",
              "</div>"
            ],
            "text/plain": [
              "         country  Life expectancy continent\n",
              "1    Afghanistan             50.1      Asia\n",
              "3        Albania             74.7    Europe\n",
              "4        Algeria             73.3    Africa\n",
              "6        Andorra             83.7    Europe\n",
              "7         Angola             52.3    Africa\n",
              "..           ...              ...       ...\n",
              "250      Vietnam             72.0      Asia\n",
              "254        Yemen             62.4      Asia\n",
              "256       Zambia             44.8    Africa\n",
              "257     Zimbabwe             47.9    Africa\n",
              "259  South Sudan             54.4    Africa\n",
              "\n",
              "[170 rows x 3 columns]"
            ]
          },
          "metadata": {},
          "execution_count": 59
        }
      ]
    },
    {
      "cell_type": "code",
      "metadata": {
        "colab": {
          "base_uri": "https://localhost:8080/",
          "height": 424
        },
        "id": "jF-7mWR8r1BQ",
        "outputId": "79d367b0-f368-4d0e-f4ad-f12f23cceb4f"
      },
      "source": [
        "df_merged.dropna(thresh=2,axis=0)"
      ],
      "execution_count": 61,
      "outputs": [
        {
          "output_type": "execute_result",
          "data": {
            "text/html": [
              "<div>\n",
              "<style scoped>\n",
              "    .dataframe tbody tr th:only-of-type {\n",
              "        vertical-align: middle;\n",
              "    }\n",
              "\n",
              "    .dataframe tbody tr th {\n",
              "        vertical-align: top;\n",
              "    }\n",
              "\n",
              "    .dataframe thead th {\n",
              "        text-align: right;\n",
              "    }\n",
              "</style>\n",
              "<table border=\"1\" class=\"dataframe\">\n",
              "  <thead>\n",
              "    <tr style=\"text-align: right;\">\n",
              "      <th></th>\n",
              "      <th>country</th>\n",
              "      <th>Life expectancy</th>\n",
              "      <th>continent</th>\n",
              "    </tr>\n",
              "  </thead>\n",
              "  <tbody>\n",
              "    <tr>\n",
              "      <th>1</th>\n",
              "      <td>Afghanistan</td>\n",
              "      <td>50.1</td>\n",
              "      <td>Asia</td>\n",
              "    </tr>\n",
              "    <tr>\n",
              "      <th>3</th>\n",
              "      <td>Albania</td>\n",
              "      <td>74.7</td>\n",
              "      <td>Europe</td>\n",
              "    </tr>\n",
              "    <tr>\n",
              "      <th>4</th>\n",
              "      <td>Algeria</td>\n",
              "      <td>73.3</td>\n",
              "      <td>Africa</td>\n",
              "    </tr>\n",
              "    <tr>\n",
              "      <th>5</th>\n",
              "      <td>American Samoa</td>\n",
              "      <td>71.7</td>\n",
              "      <td>NaN</td>\n",
              "    </tr>\n",
              "    <tr>\n",
              "      <th>6</th>\n",
              "      <td>Andorra</td>\n",
              "      <td>83.7</td>\n",
              "      <td>Europe</td>\n",
              "    </tr>\n",
              "    <tr>\n",
              "      <th>...</th>\n",
              "      <td>...</td>\n",
              "      <td>...</td>\n",
              "      <td>...</td>\n",
              "    </tr>\n",
              "    <tr>\n",
              "      <th>273</th>\n",
              "      <td>Vatican City</td>\n",
              "      <td>NaN</td>\n",
              "      <td>Europe</td>\n",
              "    </tr>\n",
              "    <tr>\n",
              "      <th>274</th>\n",
              "      <td>Saint Kitts and Nevis</td>\n",
              "      <td>NaN</td>\n",
              "      <td>North America</td>\n",
              "    </tr>\n",
              "    <tr>\n",
              "      <th>275</th>\n",
              "      <td>Saint Lucia</td>\n",
              "      <td>NaN</td>\n",
              "      <td>North America</td>\n",
              "    </tr>\n",
              "    <tr>\n",
              "      <th>276</th>\n",
              "      <td>Saint Vincent and the Grenadines</td>\n",
              "      <td>NaN</td>\n",
              "      <td>North America</td>\n",
              "    </tr>\n",
              "    <tr>\n",
              "      <th>277</th>\n",
              "      <td>Micronesia</td>\n",
              "      <td>NaN</td>\n",
              "      <td>Australia and Oceania</td>\n",
              "    </tr>\n",
              "  </tbody>\n",
              "</table>\n",
              "<p>233 rows × 3 columns</p>\n",
              "</div>"
            ],
            "text/plain": [
              "                              country  Life expectancy              continent\n",
              "1                         Afghanistan             50.1                   Asia\n",
              "3                             Albania             74.7                 Europe\n",
              "4                             Algeria             73.3                 Africa\n",
              "5                      American Samoa             71.7                    NaN\n",
              "6                             Andorra             83.7                 Europe\n",
              "..                                ...              ...                    ...\n",
              "273                      Vatican City              NaN                 Europe\n",
              "274             Saint Kitts and Nevis              NaN          North America\n",
              "275                       Saint Lucia              NaN          North America\n",
              "276  Saint Vincent and the Grenadines              NaN          North America\n",
              "277                        Micronesia              NaN  Australia and Oceania\n",
              "\n",
              "[233 rows x 3 columns]"
            ]
          },
          "metadata": {},
          "execution_count": 61
        }
      ]
    },
    {
      "cell_type": "code",
      "metadata": {
        "colab": {
          "base_uri": "https://localhost:8080/"
        },
        "id": "Ip9DRpUmlilW",
        "outputId": "f18bce9e-406a-435c-9aae-b08ce7092dc8"
      },
      "source": [
        "df_merged.isna().sum()"
      ],
      "execution_count": 45,
      "outputs": [
        {
          "output_type": "execute_result",
          "data": {
            "text/plain": [
              "country             0\n",
              "Life expectancy    69\n",
              "continent          84\n",
              "dtype: int64"
            ]
          },
          "metadata": {},
          "execution_count": 45
        }
      ]
    },
    {
      "cell_type": "code",
      "metadata": {
        "id": "MH0MN8ZrjV2y"
      },
      "source": [
        "\"Task: remove all rows with empty values\"\n",
        "\n",
        "\"This removes single objects of the df\"\n",
        "\n",
        "#df_merged_clean = df_merged.dropna(inplace=True)\n",
        "#df_merged_clean"
      ],
      "execution_count": 37,
      "outputs": []
    },
    {
      "cell_type": "code",
      "metadata": {
        "id": "NnV91qnhkb90"
      },
      "source": [
        "#df_merged_clean.info()"
      ],
      "execution_count": 46,
      "outputs": []
    },
    {
      "cell_type": "code",
      "metadata": {
        "colab": {
          "base_uri": "https://localhost:8080/",
          "height": 323
        },
        "id": "5jPubB0YkeNi",
        "outputId": "699689b5-de31-4838-9850-7120df4a3f8e"
      },
      "source": [
        "df_merged.drop(['Sample Number','Species'],axis=1,inplace=True)"
      ],
      "execution_count": 47,
      "outputs": [
        {
          "output_type": "error",
          "ename": "KeyError",
          "evalue": "ignored",
          "traceback": [
            "\u001b[0;31m---------------------------------------------------------------------------\u001b[0m",
            "\u001b[0;31mKeyError\u001b[0m                                  Traceback (most recent call last)",
            "\u001b[0;32m<ipython-input-47-b45f840243b6>\u001b[0m in \u001b[0;36m<module>\u001b[0;34m()\u001b[0m\n\u001b[0;32m----> 1\u001b[0;31m \u001b[0mdf_merged\u001b[0m\u001b[0;34m.\u001b[0m\u001b[0mdrop\u001b[0m\u001b[0;34m(\u001b[0m\u001b[0;34m[\u001b[0m\u001b[0;34m'Sample Number'\u001b[0m\u001b[0;34m,\u001b[0m\u001b[0;34m'Species'\u001b[0m\u001b[0;34m]\u001b[0m\u001b[0;34m,\u001b[0m\u001b[0maxis\u001b[0m\u001b[0;34m=\u001b[0m\u001b[0;36m1\u001b[0m\u001b[0;34m,\u001b[0m\u001b[0minplace\u001b[0m\u001b[0;34m=\u001b[0m\u001b[0;32mTrue\u001b[0m\u001b[0;34m)\u001b[0m\u001b[0;34m\u001b[0m\u001b[0;34m\u001b[0m\u001b[0m\n\u001b[0m",
            "\u001b[0;32m/usr/local/lib/python3.7/dist-packages/pandas/core/frame.py\u001b[0m in \u001b[0;36mdrop\u001b[0;34m(self, labels, axis, index, columns, level, inplace, errors)\u001b[0m\n\u001b[1;32m   4172\u001b[0m             \u001b[0mlevel\u001b[0m\u001b[0;34m=\u001b[0m\u001b[0mlevel\u001b[0m\u001b[0;34m,\u001b[0m\u001b[0;34m\u001b[0m\u001b[0;34m\u001b[0m\u001b[0m\n\u001b[1;32m   4173\u001b[0m             \u001b[0minplace\u001b[0m\u001b[0;34m=\u001b[0m\u001b[0minplace\u001b[0m\u001b[0;34m,\u001b[0m\u001b[0;34m\u001b[0m\u001b[0;34m\u001b[0m\u001b[0m\n\u001b[0;32m-> 4174\u001b[0;31m             \u001b[0merrors\u001b[0m\u001b[0;34m=\u001b[0m\u001b[0merrors\u001b[0m\u001b[0;34m,\u001b[0m\u001b[0;34m\u001b[0m\u001b[0;34m\u001b[0m\u001b[0m\n\u001b[0m\u001b[1;32m   4175\u001b[0m         )\n\u001b[1;32m   4176\u001b[0m \u001b[0;34m\u001b[0m\u001b[0m\n",
            "\u001b[0;32m/usr/local/lib/python3.7/dist-packages/pandas/core/generic.py\u001b[0m in \u001b[0;36mdrop\u001b[0;34m(self, labels, axis, index, columns, level, inplace, errors)\u001b[0m\n\u001b[1;32m   3887\u001b[0m         \u001b[0;32mfor\u001b[0m \u001b[0maxis\u001b[0m\u001b[0;34m,\u001b[0m \u001b[0mlabels\u001b[0m \u001b[0;32min\u001b[0m \u001b[0maxes\u001b[0m\u001b[0;34m.\u001b[0m\u001b[0mitems\u001b[0m\u001b[0;34m(\u001b[0m\u001b[0;34m)\u001b[0m\u001b[0;34m:\u001b[0m\u001b[0;34m\u001b[0m\u001b[0;34m\u001b[0m\u001b[0m\n\u001b[1;32m   3888\u001b[0m             \u001b[0;32mif\u001b[0m \u001b[0mlabels\u001b[0m \u001b[0;32mis\u001b[0m \u001b[0;32mnot\u001b[0m \u001b[0;32mNone\u001b[0m\u001b[0;34m:\u001b[0m\u001b[0;34m\u001b[0m\u001b[0;34m\u001b[0m\u001b[0m\n\u001b[0;32m-> 3889\u001b[0;31m                 \u001b[0mobj\u001b[0m \u001b[0;34m=\u001b[0m \u001b[0mobj\u001b[0m\u001b[0;34m.\u001b[0m\u001b[0m_drop_axis\u001b[0m\u001b[0;34m(\u001b[0m\u001b[0mlabels\u001b[0m\u001b[0;34m,\u001b[0m \u001b[0maxis\u001b[0m\u001b[0;34m,\u001b[0m \u001b[0mlevel\u001b[0m\u001b[0;34m=\u001b[0m\u001b[0mlevel\u001b[0m\u001b[0;34m,\u001b[0m \u001b[0merrors\u001b[0m\u001b[0;34m=\u001b[0m\u001b[0merrors\u001b[0m\u001b[0;34m)\u001b[0m\u001b[0;34m\u001b[0m\u001b[0;34m\u001b[0m\u001b[0m\n\u001b[0m\u001b[1;32m   3890\u001b[0m \u001b[0;34m\u001b[0m\u001b[0m\n\u001b[1;32m   3891\u001b[0m         \u001b[0;32mif\u001b[0m \u001b[0minplace\u001b[0m\u001b[0;34m:\u001b[0m\u001b[0;34m\u001b[0m\u001b[0;34m\u001b[0m\u001b[0m\n",
            "\u001b[0;32m/usr/local/lib/python3.7/dist-packages/pandas/core/generic.py\u001b[0m in \u001b[0;36m_drop_axis\u001b[0;34m(self, labels, axis, level, errors)\u001b[0m\n\u001b[1;32m   3921\u001b[0m                 \u001b[0mnew_axis\u001b[0m \u001b[0;34m=\u001b[0m \u001b[0maxis\u001b[0m\u001b[0;34m.\u001b[0m\u001b[0mdrop\u001b[0m\u001b[0;34m(\u001b[0m\u001b[0mlabels\u001b[0m\u001b[0;34m,\u001b[0m \u001b[0mlevel\u001b[0m\u001b[0;34m=\u001b[0m\u001b[0mlevel\u001b[0m\u001b[0;34m,\u001b[0m \u001b[0merrors\u001b[0m\u001b[0;34m=\u001b[0m\u001b[0merrors\u001b[0m\u001b[0;34m)\u001b[0m\u001b[0;34m\u001b[0m\u001b[0;34m\u001b[0m\u001b[0m\n\u001b[1;32m   3922\u001b[0m             \u001b[0;32melse\u001b[0m\u001b[0;34m:\u001b[0m\u001b[0;34m\u001b[0m\u001b[0;34m\u001b[0m\u001b[0m\n\u001b[0;32m-> 3923\u001b[0;31m                 \u001b[0mnew_axis\u001b[0m \u001b[0;34m=\u001b[0m \u001b[0maxis\u001b[0m\u001b[0;34m.\u001b[0m\u001b[0mdrop\u001b[0m\u001b[0;34m(\u001b[0m\u001b[0mlabels\u001b[0m\u001b[0;34m,\u001b[0m \u001b[0merrors\u001b[0m\u001b[0;34m=\u001b[0m\u001b[0merrors\u001b[0m\u001b[0;34m)\u001b[0m\u001b[0;34m\u001b[0m\u001b[0;34m\u001b[0m\u001b[0m\n\u001b[0m\u001b[1;32m   3924\u001b[0m             \u001b[0mresult\u001b[0m \u001b[0;34m=\u001b[0m \u001b[0mself\u001b[0m\u001b[0;34m.\u001b[0m\u001b[0mreindex\u001b[0m\u001b[0;34m(\u001b[0m\u001b[0;34m**\u001b[0m\u001b[0;34m{\u001b[0m\u001b[0maxis_name\u001b[0m\u001b[0;34m:\u001b[0m \u001b[0mnew_axis\u001b[0m\u001b[0;34m}\u001b[0m\u001b[0;34m)\u001b[0m\u001b[0;34m\u001b[0m\u001b[0;34m\u001b[0m\u001b[0m\n\u001b[1;32m   3925\u001b[0m \u001b[0;34m\u001b[0m\u001b[0m\n",
            "\u001b[0;32m/usr/local/lib/python3.7/dist-packages/pandas/core/indexes/base.py\u001b[0m in \u001b[0;36mdrop\u001b[0;34m(self, labels, errors)\u001b[0m\n\u001b[1;32m   5285\u001b[0m         \u001b[0;32mif\u001b[0m \u001b[0mmask\u001b[0m\u001b[0;34m.\u001b[0m\u001b[0many\u001b[0m\u001b[0;34m(\u001b[0m\u001b[0;34m)\u001b[0m\u001b[0;34m:\u001b[0m\u001b[0;34m\u001b[0m\u001b[0;34m\u001b[0m\u001b[0m\n\u001b[1;32m   5286\u001b[0m             \u001b[0;32mif\u001b[0m \u001b[0merrors\u001b[0m \u001b[0;34m!=\u001b[0m \u001b[0;34m\"ignore\"\u001b[0m\u001b[0;34m:\u001b[0m\u001b[0;34m\u001b[0m\u001b[0;34m\u001b[0m\u001b[0m\n\u001b[0;32m-> 5287\u001b[0;31m                 \u001b[0;32mraise\u001b[0m \u001b[0mKeyError\u001b[0m\u001b[0;34m(\u001b[0m\u001b[0;34mf\"{labels[mask]} not found in axis\"\u001b[0m\u001b[0;34m)\u001b[0m\u001b[0;34m\u001b[0m\u001b[0;34m\u001b[0m\u001b[0m\n\u001b[0m\u001b[1;32m   5288\u001b[0m             \u001b[0mindexer\u001b[0m \u001b[0;34m=\u001b[0m \u001b[0mindexer\u001b[0m\u001b[0;34m[\u001b[0m\u001b[0;34m~\u001b[0m\u001b[0mmask\u001b[0m\u001b[0;34m]\u001b[0m\u001b[0;34m\u001b[0m\u001b[0;34m\u001b[0m\u001b[0m\n\u001b[1;32m   5289\u001b[0m         \u001b[0;32mreturn\u001b[0m \u001b[0mself\u001b[0m\u001b[0;34m.\u001b[0m\u001b[0mdelete\u001b[0m\u001b[0;34m(\u001b[0m\u001b[0mindexer\u001b[0m\u001b[0;34m)\u001b[0m\u001b[0;34m\u001b[0m\u001b[0;34m\u001b[0m\u001b[0m\n",
            "\u001b[0;31mKeyError\u001b[0m: \"['Sample Number' 'Species'] not found in axis\""
          ]
        }
      ]
    },
    {
      "cell_type": "code",
      "metadata": {
        "colab": {
          "base_uri": "https://localhost:8080/",
          "height": 424
        },
        "id": "0QjZlrdapb5s",
        "outputId": "2454c09a-7d7b-4e15-ee95-f8d4b0fa9235"
      },
      "source": [
        "unwanted_lifeexpectancy = df_merged[df_merged['Life expectancy'].isna()]\n",
        "unwanted_lifeexpectancy"
      ],
      "execution_count": 50,
      "outputs": [
        {
          "output_type": "execute_result",
          "data": {
            "text/html": [
              "<div>\n",
              "<style scoped>\n",
              "    .dataframe tbody tr th:only-of-type {\n",
              "        vertical-align: middle;\n",
              "    }\n",
              "\n",
              "    .dataframe tbody tr th {\n",
              "        vertical-align: top;\n",
              "    }\n",
              "\n",
              "    .dataframe thead th {\n",
              "        text-align: right;\n",
              "    }\n",
              "</style>\n",
              "<table border=\"1\" class=\"dataframe\">\n",
              "  <thead>\n",
              "    <tr style=\"text-align: right;\">\n",
              "      <th></th>\n",
              "      <th>country</th>\n",
              "      <th>Life expectancy</th>\n",
              "      <th>continent</th>\n",
              "    </tr>\n",
              "  </thead>\n",
              "  <tbody>\n",
              "    <tr>\n",
              "      <th>0</th>\n",
              "      <td>Abkhazia</td>\n",
              "      <td>NaN</td>\n",
              "      <td>NaN</td>\n",
              "    </tr>\n",
              "    <tr>\n",
              "      <th>2</th>\n",
              "      <td>Akrotiri and Dhekelia</td>\n",
              "      <td>NaN</td>\n",
              "      <td>NaN</td>\n",
              "    </tr>\n",
              "    <tr>\n",
              "      <th>8</th>\n",
              "      <td>Anguilla</td>\n",
              "      <td>NaN</td>\n",
              "      <td>NaN</td>\n",
              "    </tr>\n",
              "    <tr>\n",
              "      <th>30</th>\n",
              "      <td>British Virgin Islands</td>\n",
              "      <td>NaN</td>\n",
              "      <td>NaN</td>\n",
              "    </tr>\n",
              "    <tr>\n",
              "      <th>39</th>\n",
              "      <td>Cayman Islands</td>\n",
              "      <td>NaN</td>\n",
              "      <td>NaN</td>\n",
              "    </tr>\n",
              "    <tr>\n",
              "      <th>...</th>\n",
              "      <td>...</td>\n",
              "      <td>...</td>\n",
              "      <td>...</td>\n",
              "    </tr>\n",
              "    <tr>\n",
              "      <th>273</th>\n",
              "      <td>Vatican City</td>\n",
              "      <td>NaN</td>\n",
              "      <td>Europe</td>\n",
              "    </tr>\n",
              "    <tr>\n",
              "      <th>274</th>\n",
              "      <td>Saint Kitts and Nevis</td>\n",
              "      <td>NaN</td>\n",
              "      <td>North America</td>\n",
              "    </tr>\n",
              "    <tr>\n",
              "      <th>275</th>\n",
              "      <td>Saint Lucia</td>\n",
              "      <td>NaN</td>\n",
              "      <td>North America</td>\n",
              "    </tr>\n",
              "    <tr>\n",
              "      <th>276</th>\n",
              "      <td>Saint Vincent and the Grenadines</td>\n",
              "      <td>NaN</td>\n",
              "      <td>North America</td>\n",
              "    </tr>\n",
              "    <tr>\n",
              "      <th>277</th>\n",
              "      <td>Micronesia</td>\n",
              "      <td>NaN</td>\n",
              "      <td>Australia and Oceania</td>\n",
              "    </tr>\n",
              "  </tbody>\n",
              "</table>\n",
              "<p>69 rows × 3 columns</p>\n",
              "</div>"
            ],
            "text/plain": [
              "                              country  Life expectancy              continent\n",
              "0                            Abkhazia              NaN                    NaN\n",
              "2               Akrotiri and Dhekelia              NaN                    NaN\n",
              "8                            Anguilla              NaN                    NaN\n",
              "30             British Virgin Islands              NaN                    NaN\n",
              "39                     Cayman Islands              NaN                    NaN\n",
              "..                                ...              ...                    ...\n",
              "273                      Vatican City              NaN                 Europe\n",
              "274             Saint Kitts and Nevis              NaN          North America\n",
              "275                       Saint Lucia              NaN          North America\n",
              "276  Saint Vincent and the Grenadines              NaN          North America\n",
              "277                        Micronesia              NaN  Australia and Oceania\n",
              "\n",
              "[69 rows x 3 columns]"
            ]
          },
          "metadata": {},
          "execution_count": 50
        }
      ]
    },
    {
      "cell_type": "code",
      "metadata": {
        "colab": {
          "base_uri": "https://localhost:8080/",
          "height": 1000
        },
        "id": "nwv3Y6OOpuKF",
        "outputId": "e442dc38-42fb-4fbb-f6f4-3f14132010d5"
      },
      "source": [
        "unwanted_continent = unwanted_lifeexpectancy[unwanted_lifeexpectancy['continent'].isna()]\n",
        "unwanted_continent\n"
      ],
      "execution_count": 57,
      "outputs": [
        {
          "output_type": "execute_result",
          "data": {
            "text/html": [
              "<div>\n",
              "<style scoped>\n",
              "    .dataframe tbody tr th:only-of-type {\n",
              "        vertical-align: middle;\n",
              "    }\n",
              "\n",
              "    .dataframe tbody tr th {\n",
              "        vertical-align: top;\n",
              "    }\n",
              "\n",
              "    .dataframe thead th {\n",
              "        text-align: right;\n",
              "    }\n",
              "</style>\n",
              "<table border=\"1\" class=\"dataframe\">\n",
              "  <thead>\n",
              "    <tr style=\"text-align: right;\">\n",
              "      <th></th>\n",
              "      <th>country</th>\n",
              "      <th>Life expectancy</th>\n",
              "      <th>continent</th>\n",
              "    </tr>\n",
              "  </thead>\n",
              "  <tbody>\n",
              "    <tr>\n",
              "      <th>0</th>\n",
              "      <td>Abkhazia</td>\n",
              "      <td>NaN</td>\n",
              "      <td>NaN</td>\n",
              "    </tr>\n",
              "    <tr>\n",
              "      <th>2</th>\n",
              "      <td>Akrotiri and Dhekelia</td>\n",
              "      <td>NaN</td>\n",
              "      <td>NaN</td>\n",
              "    </tr>\n",
              "    <tr>\n",
              "      <th>8</th>\n",
              "      <td>Anguilla</td>\n",
              "      <td>NaN</td>\n",
              "      <td>NaN</td>\n",
              "    </tr>\n",
              "    <tr>\n",
              "      <th>30</th>\n",
              "      <td>British Virgin Islands</td>\n",
              "      <td>NaN</td>\n",
              "      <td>NaN</td>\n",
              "    </tr>\n",
              "    <tr>\n",
              "      <th>39</th>\n",
              "      <td>Cayman Islands</td>\n",
              "      <td>NaN</td>\n",
              "      <td>NaN</td>\n",
              "    </tr>\n",
              "    <tr>\n",
              "      <th>45</th>\n",
              "      <td>Christmas Island</td>\n",
              "      <td>NaN</td>\n",
              "      <td>NaN</td>\n",
              "    </tr>\n",
              "    <tr>\n",
              "      <th>46</th>\n",
              "      <td>Cocos Island</td>\n",
              "      <td>NaN</td>\n",
              "      <td>NaN</td>\n",
              "    </tr>\n",
              "    <tr>\n",
              "      <th>51</th>\n",
              "      <td>Cook Is</td>\n",
              "      <td>NaN</td>\n",
              "      <td>NaN</td>\n",
              "    </tr>\n",
              "    <tr>\n",
              "      <th>58</th>\n",
              "      <td>Czechoslovakia</td>\n",
              "      <td>NaN</td>\n",
              "      <td>NaN</td>\n",
              "    </tr>\n",
              "    <tr>\n",
              "      <th>63</th>\n",
              "      <td>East Germany</td>\n",
              "      <td>NaN</td>\n",
              "      <td>NaN</td>\n",
              "    </tr>\n",
              "    <tr>\n",
              "      <th>69</th>\n",
              "      <td>Eritrea and Ethiopia</td>\n",
              "      <td>NaN</td>\n",
              "      <td>NaN</td>\n",
              "    </tr>\n",
              "    <tr>\n",
              "      <th>72</th>\n",
              "      <td>Faeroe Islands</td>\n",
              "      <td>NaN</td>\n",
              "      <td>NaN</td>\n",
              "    </tr>\n",
              "    <tr>\n",
              "      <th>73</th>\n",
              "      <td>Falkland Is (Malvinas)</td>\n",
              "      <td>NaN</td>\n",
              "      <td>NaN</td>\n",
              "    </tr>\n",
              "    <tr>\n",
              "      <th>84</th>\n",
              "      <td>Gibraltar</td>\n",
              "      <td>NaN</td>\n",
              "      <td>NaN</td>\n",
              "    </tr>\n",
              "    <tr>\n",
              "      <th>91</th>\n",
              "      <td>Guernsey</td>\n",
              "      <td>NaN</td>\n",
              "      <td>NaN</td>\n",
              "    </tr>\n",
              "    <tr>\n",
              "      <th>96</th>\n",
              "      <td>Holy See</td>\n",
              "      <td>NaN</td>\n",
              "      <td>NaN</td>\n",
              "    </tr>\n",
              "    <tr>\n",
              "      <th>106</th>\n",
              "      <td>Isle of Man</td>\n",
              "      <td>NaN</td>\n",
              "      <td>NaN</td>\n",
              "    </tr>\n",
              "    <tr>\n",
              "      <th>111</th>\n",
              "      <td>Jersey</td>\n",
              "      <td>NaN</td>\n",
              "      <td>NaN</td>\n",
              "    </tr>\n",
              "    <tr>\n",
              "      <th>118</th>\n",
              "      <td>United Korea (former)\\n</td>\n",
              "      <td>NaN</td>\n",
              "      <td>NaN</td>\n",
              "    </tr>\n",
              "    <tr>\n",
              "      <th>119</th>\n",
              "      <td>Kosovo</td>\n",
              "      <td>NaN</td>\n",
              "      <td>NaN</td>\n",
              "    </tr>\n",
              "    <tr>\n",
              "      <th>150</th>\n",
              "      <td>Montserrat</td>\n",
              "      <td>NaN</td>\n",
              "      <td>NaN</td>\n",
              "    </tr>\n",
              "    <tr>\n",
              "      <th>161</th>\n",
              "      <td>Ngorno-Karabakh</td>\n",
              "      <td>NaN</td>\n",
              "      <td>NaN</td>\n",
              "    </tr>\n",
              "    <tr>\n",
              "      <th>165</th>\n",
              "      <td>Niue</td>\n",
              "      <td>NaN</td>\n",
              "      <td>NaN</td>\n",
              "    </tr>\n",
              "    <tr>\n",
              "      <th>166</th>\n",
              "      <td>Norfolk Island</td>\n",
              "      <td>NaN</td>\n",
              "      <td>NaN</td>\n",
              "    </tr>\n",
              "    <tr>\n",
              "      <th>167</th>\n",
              "      <td>Northern Cyprus</td>\n",
              "      <td>NaN</td>\n",
              "      <td>NaN</td>\n",
              "    </tr>\n",
              "    <tr>\n",
              "      <th>178</th>\n",
              "      <td>Pitcairn</td>\n",
              "      <td>NaN</td>\n",
              "      <td>NaN</td>\n",
              "    </tr>\n",
              "    <tr>\n",
              "      <th>187</th>\n",
              "      <td>St. Barthélemy</td>\n",
              "      <td>NaN</td>\n",
              "      <td>NaN</td>\n",
              "    </tr>\n",
              "    <tr>\n",
              "      <th>188</th>\n",
              "      <td>St. Helena</td>\n",
              "      <td>NaN</td>\n",
              "      <td>NaN</td>\n",
              "    </tr>\n",
              "    <tr>\n",
              "      <th>189</th>\n",
              "      <td>St. Kitts and Nevis</td>\n",
              "      <td>NaN</td>\n",
              "      <td>NaN</td>\n",
              "    </tr>\n",
              "    <tr>\n",
              "      <th>191</th>\n",
              "      <td>St. Martin</td>\n",
              "      <td>NaN</td>\n",
              "      <td>NaN</td>\n",
              "    </tr>\n",
              "    <tr>\n",
              "      <th>193</th>\n",
              "      <td>St.-Pierre-et-Miquelon</td>\n",
              "      <td>NaN</td>\n",
              "      <td>NaN</td>\n",
              "    </tr>\n",
              "    <tr>\n",
              "      <th>200</th>\n",
              "      <td>Serbia and Montenegro</td>\n",
              "      <td>NaN</td>\n",
              "      <td>NaN</td>\n",
              "    </tr>\n",
              "    <tr>\n",
              "      <th>201</th>\n",
              "      <td>Serbia excluding Kosovo</td>\n",
              "      <td>NaN</td>\n",
              "      <td>NaN</td>\n",
              "    </tr>\n",
              "    <tr>\n",
              "      <th>209</th>\n",
              "      <td>Somaliland</td>\n",
              "      <td>NaN</td>\n",
              "      <td>NaN</td>\n",
              "    </tr>\n",
              "    <tr>\n",
              "      <th>211</th>\n",
              "      <td>South Ossetia</td>\n",
              "      <td>NaN</td>\n",
              "      <td>NaN</td>\n",
              "    </tr>\n",
              "    <tr>\n",
              "      <th>216</th>\n",
              "      <td>Svalbard</td>\n",
              "      <td>NaN</td>\n",
              "      <td>NaN</td>\n",
              "    </tr>\n",
              "    <tr>\n",
              "      <th>227</th>\n",
              "      <td>Tokelau</td>\n",
              "      <td>NaN</td>\n",
              "      <td>NaN</td>\n",
              "    </tr>\n",
              "    <tr>\n",
              "      <th>229</th>\n",
              "      <td>Transnistria</td>\n",
              "      <td>NaN</td>\n",
              "      <td>NaN</td>\n",
              "    </tr>\n",
              "    <tr>\n",
              "      <th>234</th>\n",
              "      <td>Turks and Caicos Islands</td>\n",
              "      <td>NaN</td>\n",
              "      <td>NaN</td>\n",
              "    </tr>\n",
              "    <tr>\n",
              "      <th>242</th>\n",
              "      <td>USSR</td>\n",
              "      <td>NaN</td>\n",
              "      <td>NaN</td>\n",
              "    </tr>\n",
              "    <tr>\n",
              "      <th>244</th>\n",
              "      <td>Wallis et Futuna</td>\n",
              "      <td>NaN</td>\n",
              "      <td>NaN</td>\n",
              "    </tr>\n",
              "    <tr>\n",
              "      <th>248</th>\n",
              "      <td>West Germany</td>\n",
              "      <td>NaN</td>\n",
              "      <td>NaN</td>\n",
              "    </tr>\n",
              "    <tr>\n",
              "      <th>252</th>\n",
              "      <td>North Yemen (former)</td>\n",
              "      <td>NaN</td>\n",
              "      <td>NaN</td>\n",
              "    </tr>\n",
              "    <tr>\n",
              "      <th>253</th>\n",
              "      <td>South Yemen (former)</td>\n",
              "      <td>NaN</td>\n",
              "      <td>NaN</td>\n",
              "    </tr>\n",
              "    <tr>\n",
              "      <th>255</th>\n",
              "      <td>Yugoslavia</td>\n",
              "      <td>NaN</td>\n",
              "      <td>NaN</td>\n",
              "    </tr>\n",
              "  </tbody>\n",
              "</table>\n",
              "</div>"
            ],
            "text/plain": [
              "                      country  Life expectancy continent\n",
              "0                    Abkhazia              NaN       NaN\n",
              "2       Akrotiri and Dhekelia              NaN       NaN\n",
              "8                    Anguilla              NaN       NaN\n",
              "30     British Virgin Islands              NaN       NaN\n",
              "39             Cayman Islands              NaN       NaN\n",
              "45           Christmas Island              NaN       NaN\n",
              "46               Cocos Island              NaN       NaN\n",
              "51                    Cook Is              NaN       NaN\n",
              "58             Czechoslovakia              NaN       NaN\n",
              "63               East Germany              NaN       NaN\n",
              "69       Eritrea and Ethiopia              NaN       NaN\n",
              "72             Faeroe Islands              NaN       NaN\n",
              "73     Falkland Is (Malvinas)              NaN       NaN\n",
              "84                  Gibraltar              NaN       NaN\n",
              "91                   Guernsey              NaN       NaN\n",
              "96                   Holy See              NaN       NaN\n",
              "106               Isle of Man              NaN       NaN\n",
              "111                    Jersey              NaN       NaN\n",
              "118   United Korea (former)\\n              NaN       NaN\n",
              "119                    Kosovo              NaN       NaN\n",
              "150                Montserrat              NaN       NaN\n",
              "161           Ngorno-Karabakh              NaN       NaN\n",
              "165                      Niue              NaN       NaN\n",
              "166            Norfolk Island              NaN       NaN\n",
              "167           Northern Cyprus              NaN       NaN\n",
              "178                  Pitcairn              NaN       NaN\n",
              "187            St. Barthélemy              NaN       NaN\n",
              "188                St. Helena              NaN       NaN\n",
              "189       St. Kitts and Nevis              NaN       NaN\n",
              "191                St. Martin              NaN       NaN\n",
              "193    St.-Pierre-et-Miquelon              NaN       NaN\n",
              "200     Serbia and Montenegro              NaN       NaN\n",
              "201   Serbia excluding Kosovo              NaN       NaN\n",
              "209                Somaliland              NaN       NaN\n",
              "211             South Ossetia              NaN       NaN\n",
              "216                  Svalbard              NaN       NaN\n",
              "227                   Tokelau              NaN       NaN\n",
              "229              Transnistria              NaN       NaN\n",
              "234  Turks and Caicos Islands              NaN       NaN\n",
              "242                      USSR              NaN       NaN\n",
              "244          Wallis et Futuna              NaN       NaN\n",
              "248              West Germany              NaN       NaN\n",
              "252      North Yemen (former)              NaN       NaN\n",
              "253      South Yemen (former)              NaN       NaN\n",
              "255                Yugoslavia              NaN       NaN"
            ]
          },
          "metadata": {},
          "execution_count": 57
        }
      ]
    },
    {
      "cell_type": "code",
      "metadata": {
        "colab": {
          "base_uri": "https://localhost:8080/"
        },
        "id": "epTr8u5bqtwG",
        "outputId": "bc37f75e-5fb4-4752-f9da-e027cad3f0ce"
      },
      "source": [
        "unwanted_continent.info()"
      ],
      "execution_count": 58,
      "outputs": [
        {
          "output_type": "stream",
          "name": "stdout",
          "text": [
            "<class 'pandas.core.frame.DataFrame'>\n",
            "Int64Index: 45 entries, 0 to 255\n",
            "Data columns (total 3 columns):\n",
            " #   Column           Non-Null Count  Dtype  \n",
            "---  ------           --------------  -----  \n",
            " 0   country          45 non-null     object \n",
            " 1   Life expectancy  0 non-null      float64\n",
            " 2   continent        0 non-null      object \n",
            "dtypes: float64(1), object(2)\n",
            "memory usage: 1.4+ KB\n"
          ]
        }
      ]
    },
    {
      "cell_type": "code",
      "metadata": {
        "id": "GT2DAm_EqG_N"
      },
      "source": [
        "#df_no_null = pd.concat(df_merged, unwanted_continent)"
      ],
      "execution_count": 73,
      "outputs": []
    },
    {
      "cell_type": "code",
      "metadata": {
        "colab": {
          "base_uri": "https://localhost:8080/"
        },
        "id": "VQ2T4ut9wCNz",
        "outputId": "2586bfa9-0952-4465-cc88-3eff52ee40ac"
      },
      "source": [
        "df_merged['continent'].unique()"
      ],
      "execution_count": 74,
      "outputs": [
        {
          "output_type": "execute_result",
          "data": {
            "text/plain": [
              "array([nan, 'Asia', 'Europe', 'Africa', 'North America', 'South America',\n",
              "       'Australia and Oceania'], dtype=object)"
            ]
          },
          "metadata": {},
          "execution_count": 74
        }
      ]
    },
    {
      "cell_type": "code",
      "metadata": {
        "colab": {
          "base_uri": "https://localhost:8080/"
        },
        "id": "csENJiJ2tRF1",
        "outputId": "f0458413-27c4-4f64-f029-8cf15bb42cf4"
      },
      "source": [
        "df_asia = df_merged['Life expectancy'][df_merged['continent']=='Asia'].describe()\n",
        "df_asia"
      ],
      "execution_count": 65,
      "outputs": [
        {
          "output_type": "execute_result",
          "data": {
            "text/plain": [
              "count    37.000000\n",
              "mean     69.851351\n",
              "std       6.477766\n",
              "min      50.100000\n",
              "25%      65.200000\n",
              "50%      71.400000\n",
              "75%      74.400000\n",
              "max      81.000000\n",
              "Name: Life expectancy, dtype: float64"
            ]
          },
          "metadata": {},
          "execution_count": 65
        }
      ]
    },
    {
      "cell_type": "code",
      "metadata": {
        "colab": {
          "base_uri": "https://localhost:8080/"
        },
        "id": "RB_M_Ai5taDP",
        "outputId": "49910d8a-44ff-4e70-dfe1-e6b8de13b4df"
      },
      "source": [
        "df_asia_2 = df_merged['Life expectancy'][df_merged['continent']=='Asia'].describe()['max']\n",
        "print('Asias max lifeexpectancy', df_asia_2)"
      ],
      "execution_count": 68,
      "outputs": [
        {
          "output_type": "stream",
          "name": "stdout",
          "text": [
            "Asias max lifeexpectancy 81.0\n"
          ]
        }
      ]
    },
    {
      "cell_type": "code",
      "metadata": {
        "colab": {
          "base_uri": "https://localhost:8080/"
        },
        "id": "4MdAX0lhvWts",
        "outputId": "31eba132-fd69-46ec-f022-6030afe7d7ff"
      },
      "source": [
        "df_europe = df_merged['Life expectancy'][df_merged['continent']=='Europe'].describe()['max']\n",
        "print('Europes max lifeexpectancy', df_europe)"
      ],
      "execution_count": 70,
      "outputs": [
        {
          "output_type": "stream",
          "name": "stdout",
          "text": [
            "Europes max lifeexpectancy 83.7\n"
          ]
        }
      ]
    },
    {
      "cell_type": "code",
      "metadata": {
        "colab": {
          "base_uri": "https://localhost:8080/"
        },
        "id": "2By_jwefxBxG",
        "outputId": "900d3890-361c-4235-8ac1-587ac8f0d65a"
      },
      "source": [
        "df_europe_min = df_merged['Life expectancy'][df_merged['continent']=='Europe'].describe()['min']\n",
        "print('Europe min lifeexpectancy', df_europe_min)"
      ],
      "execution_count": 82,
      "outputs": [
        {
          "output_type": "stream",
          "name": "stdout",
          "text": [
            "Europe min lifeexpectancy 66.5\n"
          ]
        }
      ]
    },
    {
      "cell_type": "code",
      "metadata": {
        "colab": {
          "base_uri": "https://localhost:8080/"
        },
        "id": "xIaQncRfvoXL",
        "outputId": "21737a8e-d3fc-4477-dbac-eba634569a1e"
      },
      "source": [
        "df_africa = df_merged['Life expectancy'][df_merged['continent']=='Africa'].describe()['max']\n",
        "print('Africas max lifeexpectancy', df_africa)"
      ],
      "execution_count": 72,
      "outputs": [
        {
          "output_type": "stream",
          "name": "stdout",
          "text": [
            "Africas max lifeexpectancy 75.0\n"
          ]
        }
      ]
    },
    {
      "cell_type": "code",
      "metadata": {
        "colab": {
          "base_uri": "https://localhost:8080/"
        },
        "id": "ddrmVl3Vw3p6",
        "outputId": "64766cc4-e59b-47af-a3df-772927411a0c"
      },
      "source": [
        "df_africa_min = df_merged['Life expectancy'][df_merged['continent']=='Africa'].describe()['min']\n",
        "print('Africa min lifeexpectancy', df_africa_min)"
      ],
      "execution_count": 81,
      "outputs": [
        {
          "output_type": "stream",
          "name": "stdout",
          "text": [
            "Africa min lifeexpectancy 37.6\n"
          ]
        }
      ]
    },
    {
      "cell_type": "code",
      "metadata": {
        "colab": {
          "base_uri": "https://localhost:8080/"
        },
        "id": "GpJjVUyrvw8A",
        "outputId": "649210d1-6c7f-4886-8310-87d58f61defd"
      },
      "source": [
        "df_ausandoceania = df_merged['Life expectancy'][df_merged['continent']=='Australia and Oceania'].describe()['max']\n",
        "print('Australia and Oceania max lifeexpectancy', df_ausandoceania)"
      ],
      "execution_count": 77,
      "outputs": [
        {
          "output_type": "stream",
          "name": "stdout",
          "text": [
            "Australia and Oceania max and lifeexpectancy 79.8\n"
          ]
        }
      ]
    },
    {
      "cell_type": "code",
      "metadata": {
        "colab": {
          "base_uri": "https://localhost:8080/"
        },
        "id": "oCQraGpQwsM4",
        "outputId": "60ce5919-6857-4737-ccf5-1470a8bdb593"
      },
      "source": [
        "df_ausandoceania_min = df_merged['Life expectancy'][df_merged['continent']=='Australia and Oceania'].describe()['min']\n",
        "print('Australia and Oceania min lifeexpectancy', df_ausandoceania_min)"
      ],
      "execution_count": 84,
      "outputs": [
        {
          "output_type": "stream",
          "name": "stdout",
          "text": [
            "Australia and Oceania min lifeexpectancy 57.5\n"
          ]
        }
      ]
    },
    {
      "cell_type": "code",
      "metadata": {
        "colab": {
          "base_uri": "https://localhost:8080/"
        },
        "id": "ScuDo0Oexc1M",
        "outputId": "9904296d-3ab5-4d6e-940b-76ec0897680a"
      },
      "source": [
        "df_namerica = df_merged['Life expectancy'][df_merged['continent']=='North America'].describe()['max']\n",
        "print('North America max lifeexpectancy', df_namerica)"
      ],
      "execution_count": 85,
      "outputs": [
        {
          "output_type": "stream",
          "name": "stdout",
          "text": [
            "North America max lifeexpectancy 79.2\n"
          ]
        }
      ]
    },
    {
      "cell_type": "code",
      "metadata": {
        "colab": {
          "base_uri": "https://localhost:8080/"
        },
        "id": "WnvHXM6nxQm_",
        "outputId": "5631640d-6184-465d-89ae-0d9d468dddd3"
      },
      "source": [
        "df_namerica_min = df_merged['Life expectancy'][df_merged['continent']=='North America'].describe()['min']\n",
        "print('North America min lifeexpectancy', df_namerica_min)"
      ],
      "execution_count": 87,
      "outputs": [
        {
          "output_type": "stream",
          "name": "stdout",
          "text": [
            "North America min lifeexpectancy 58.7\n"
          ]
        }
      ]
    },
    {
      "cell_type": "code",
      "metadata": {
        "colab": {
          "base_uri": "https://localhost:8080/"
        },
        "id": "xNi8LU-cxuvl",
        "outputId": "48ac3ed2-6700-4b1f-8235-68a8c6004941"
      },
      "source": [
        "df_samerica = df_merged['Life expectancy'][df_merged['continent']=='South America'].describe()['max']\n",
        "print('South America max lifeexpectancy', df_samerica)"
      ],
      "execution_count": 88,
      "outputs": [
        {
          "output_type": "stream",
          "name": "stdout",
          "text": [
            "South America max lifeexpectancy 77.3\n"
          ]
        }
      ]
    },
    {
      "cell_type": "code",
      "metadata": {
        "colab": {
          "base_uri": "https://localhost:8080/"
        },
        "id": "b1lh3lVgxmxn",
        "outputId": "5fa40eaa-f6e4-496a-df28-880b51509906"
      },
      "source": [
        "df_samerica_min = df_merged['Life expectancy'][df_merged['continent']=='South America'].describe()['min']\n",
        "print('South America min lifeexpectancy', df_samerica_min)"
      ],
      "execution_count": 89,
      "outputs": [
        {
          "output_type": "stream",
          "name": "stdout",
          "text": [
            "South America min lifeexpectancy 64.2\n"
          ]
        }
      ]
    },
    {
      "cell_type": "code",
      "metadata": {
        "colab": {
          "base_uri": "https://localhost:8080/",
          "height": 388
        },
        "id": "Jjf4LJavx1LN",
        "outputId": "b9381e3e-8b77-46ef-9347-cf62e5296758"
      },
      "source": [
        "\"Its time to plo the data\"\n",
        "\n",
        "ax = sns.scatterplot(x='continent', y='Life expectancy', data=df_merged)\n",
        "plt.xticks(rotation = 60)"
      ],
      "execution_count": 97,
      "outputs": [
        {
          "output_type": "execute_result",
          "data": {
            "text/plain": [
              "([0, 1, 2, 3, 4, 5], <a list of 6 Text major ticklabel objects>)"
            ]
          },
          "metadata": {},
          "execution_count": 97
        },
        {
          "output_type": "display_data",
          "data": {
            "image/png": "[encoded data removed]",
            "text/plain": [
              "<Figure size 432x288 with 1 Axes>"
            ]
          },
          "metadata": {
            "needs_background": "light"
          }
        }
      ]
    },
    {
      "cell_type": "code",
      "metadata": {
        "colab": {
          "base_uri": "https://localhost:8080/",
          "height": 388
        },
        "id": "DG6YqKlK3Fll",
        "outputId": "ca129390-7e67-428a-e712-5d96bf19f51d"
      },
      "source": [
        "ax = sns.boxplot(x=\"continent\", y=\"Life expectancy\", data=df_merged)\n",
        "plt.xticks(rotation = 60)"
      ],
      "execution_count": 99,
      "outputs": [
        {
          "output_type": "execute_result",
          "data": {
            "text/plain": [
              "(array([0, 1, 2, 3, 4, 5]), <a list of 6 Text major ticklabel objects>)"
            ]
          },
          "metadata": {},
          "execution_count": 99
        },
        {
          "output_type": "display_data",
          "data": {
            "image/png": "[encoded data removed]",
            "text/plain": [
              "<Figure size 432x288 with 1 Axes>"
            ]
          },
          "metadata": {
            "needs_background": "light"
          }
        }
      ]
    }
  ]
}