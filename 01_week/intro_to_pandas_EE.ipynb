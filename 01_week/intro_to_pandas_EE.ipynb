{
 "cells": [
  {
   "cell_type": "code",
   "execution_count": 1,
   "id": "35f90478",
   "metadata": {
    "hide_input": false
   },
   "outputs": [],
   "source": [
    "import pandas as pd"
   ]
  },
  {
   "cell_type": "markdown",
   "id": "178d9fbe",
   "metadata": {},
   "source": [
    "# Introduction to Pandas"
   ]
  },
  {
   "cell_type": "markdown",
   "id": "7c52e73b",
   "metadata": {},
   "source": [
    "## What is Pandas? "
   ]
  },
  {
   "cell_type": "markdown",
   "id": "3e633117",
   "metadata": {},
   "source": [
    "A very widely used python data analysis library\n",
    "   - data structures based on numpy \n",
    "   - plotting depends on matplotlib\n",
    "   "
   ]
  },
  {
   "cell_type": "markdown",
   "id": "63a1d616",
   "metadata": {},
   "source": [
    "## What are the data structures in Pandas?"
   ]
  },
  {
   "cell_type": "markdown",
   "id": "ad3e013a",
   "metadata": {},
   "source": [
    "### Series"
   ]
  },
  {
   "cell_type": "markdown",
   "id": "c234dde2",
   "metadata": {},
   "source": [
    "A one-dimensional labelled array of any datatype\n",
    "   - It is possible to have mixed datatypes but this should be avoided.\n",
    "   - Labels are called the **index**"
   ]
  },
  {
   "cell_type": "markdown",
   "id": "082f3be2",
   "metadata": {},
   "source": [
    "#### Creating Series"
   ]
  },
  {
   "cell_type": "code",
   "execution_count": 2,
   "id": "f64a3dda",
   "metadata": {},
   "outputs": [],
   "source": [
    "# From tuple\n",
    "my_tuple =(1, 3, 5, 7, 12)\n",
    "my_tuple_series= pd.Series(my_tuple)"
   ]
  },
  {
   "cell_type": "code",
   "execution_count": 3,
   "id": "5ff95dc7",
   "metadata": {},
   "outputs": [
    {
     "data": {
      "text/plain": [
       "0     1\n",
       "1     3\n",
       "2     5\n",
       "3     7\n",
       "4    12\n",
       "dtype: int64"
      ]
     },
     "execution_count": 3,
     "metadata": {},
     "output_type": "execute_result"
    }
   ],
   "source": [
    "my_tuple_series"
   ]
  },
  {
   "cell_type": "code",
   "execution_count": 4,
   "id": "73161fc0",
   "metadata": {},
   "outputs": [
    {
     "data": {
      "text/plain": [
       "0     2\n",
       "1     3\n",
       "2     5\n",
       "3     7\n",
       "4    12\n",
       "dtype: int64"
      ]
     },
     "execution_count": 4,
     "metadata": {},
     "output_type": "execute_result"
    }
   ],
   "source": [
    "# From list\n",
    "my_list = [1, 3, 5, 7, 12]\n",
    "my_list[0]=2\n",
    "pd.Series(my_list)"
   ]
  },
  {
   "cell_type": "code",
   "execution_count": 5,
   "id": "8e7c5fa8",
   "metadata": {},
   "outputs": [
    {
     "data": {
      "text/plain": [
       "{'names': ['Bob', 'Alice'], 'ages': [25, 34]}"
      ]
     },
     "execution_count": 5,
     "metadata": {},
     "output_type": "execute_result"
    }
   ],
   "source": [
    "# From dictionary\n",
    "my_dictionary = {'names':['Bob', 'Alice'], 'ages':[25, 34]}\n",
    "my_dictionary"
   ]
  },
  {
   "cell_type": "code",
   "execution_count": 6,
   "id": "e027d035",
   "metadata": {},
   "outputs": [
    {
     "data": {
      "text/plain": [
       "names    [Bob, Alice]\n",
       "ages         [25, 34]\n",
       "dtype: object"
      ]
     },
     "execution_count": 6,
     "metadata": {},
     "output_type": "execute_result"
    }
   ],
   "source": [
    "pd.Series(my_dictionary)"
   ]
  },
  {
   "cell_type": "code",
   "execution_count": null,
   "id": "6515c10c",
   "metadata": {},
   "outputs": [],
   "source": []
  },
  {
   "cell_type": "markdown",
   "id": "df0ca4b7",
   "metadata": {},
   "source": [
    "### Index and RangeIndex"
   ]
  },
  {
   "cell_type": "markdown",
   "id": "d31ce501",
   "metadata": {},
   "source": [
    "Index is the name of the labels given to the data in a Series. It is automatically generated if not explicitly passed. \n",
    "\n",
    "Automatic index is a range of integers from 0 to len(Series)-1, called RangeIndex\n",
    "\n",
    "Can be also passed as eg. a list of the same length of as the series. Python automatically assigns first entry to first label etc. "
   ]
  },
  {
   "cell_type": "code",
   "execution_count": 109,
   "id": "ba09a387",
   "metadata": {},
   "outputs": [],
   "source": [
    "# pandas.RangeIndex start, stop, step (can be negative)\n",
    "my_list = [1, 3, 5, 7, 12]\n",
    "my_list_series = pd.Series(my_list)"
   ]
  },
  {
   "cell_type": "code",
   "execution_count": 111,
   "id": "5cd2f2b1",
   "metadata": {},
   "outputs": [
    {
     "data": {
      "text/plain": [
       "RangeIndex(start=0, stop=5, step=1)"
      ]
     },
     "execution_count": 111,
     "metadata": {},
     "output_type": "execute_result"
    }
   ],
   "source": [
    "my_list_series.index"
   ]
  },
  {
   "cell_type": "code",
   "execution_count": 113,
   "id": "3d692178",
   "metadata": {},
   "outputs": [
    {
     "data": {
      "text/plain": [
       "[10, 9, 8, 7, 6, 5, 4, 3, 2, 1, 0, -1, -2, -3, -4, -5, -6, -7, -8, -9]"
      ]
     },
     "execution_count": 113,
     "metadata": {},
     "output_type": "execute_result"
    }
   ],
   "source": [
    "list(pd.RangeIndex(10, -10, step=-1))"
   ]
  },
  {
   "cell_type": "markdown",
   "id": "53a6c894",
   "metadata": {},
   "source": [
    "A rangeindex is an **immutable object** - it cannot be changed once it is made, if we want a new one we need to create a brand new one and save it elsewhere in memory. Pandas does this for performance optimisation reasons."
   ]
  },
  {
   "cell_type": "markdown",
   "id": "04544ae4",
   "metadata": {},
   "source": [
    "### DataFrames"
   ]
  },
  {
   "cell_type": "markdown",
   "id": "ccf78c24",
   "metadata": {},
   "source": [
    "The main data structure in Pandas - a two dimensional array of labelled indices and columns.\n"
   ]
  },
  {
   "cell_type": "code",
   "execution_count": 115,
   "id": "b3813d12",
   "metadata": {},
   "outputs": [
    {
     "data": {
      "text/html": [
       "<div>\n",
       "<style scoped>\n",
       "    .dataframe tbody tr th:only-of-type {\n",
       "        vertical-align: middle;\n",
       "    }\n",
       "\n",
       "    .dataframe tbody tr th {\n",
       "        vertical-align: top;\n",
       "    }\n",
       "\n",
       "    .dataframe thead th {\n",
       "        text-align: right;\n",
       "    }\n",
       "</style>\n",
       "<table border=\"1\" class=\"dataframe\">\n",
       "  <thead>\n",
       "    <tr style=\"text-align: right;\">\n",
       "      <th></th>\n",
       "      <th>names</th>\n",
       "      <th>ages</th>\n",
       "    </tr>\n",
       "  </thead>\n",
       "  <tbody>\n",
       "    <tr>\n",
       "      <th>0</th>\n",
       "      <td>Bob</td>\n",
       "      <td>25</td>\n",
       "    </tr>\n",
       "    <tr>\n",
       "      <th>1</th>\n",
       "      <td>Alice</td>\n",
       "      <td>34</td>\n",
       "    </tr>\n",
       "  </tbody>\n",
       "</table>\n",
       "</div>"
      ],
      "text/plain": [
       "   names  ages\n",
       "0    Bob    25\n",
       "1  Alice    34"
      ]
     },
     "execution_count": 115,
     "metadata": {},
     "output_type": "execute_result"
    }
   ],
   "source": [
    "# Can make dataframe from dictionary:\n",
    "pd.DataFrame(my_dictionary)"
   ]
  },
  {
   "cell_type": "code",
   "execution_count": 117,
   "id": "8df2283e",
   "metadata": {},
   "outputs": [
    {
     "data": {
      "text/html": [
       "<div>\n",
       "<style scoped>\n",
       "    .dataframe tbody tr th:only-of-type {\n",
       "        vertical-align: middle;\n",
       "    }\n",
       "\n",
       "    .dataframe tbody tr th {\n",
       "        vertical-align: top;\n",
       "    }\n",
       "\n",
       "    .dataframe thead th {\n",
       "        text-align: right;\n",
       "    }\n",
       "</style>\n",
       "<table border=\"1\" class=\"dataframe\">\n",
       "  <thead>\n",
       "    <tr style=\"text-align: right;\">\n",
       "      <th></th>\n",
       "      <th>0</th>\n",
       "      <th>1</th>\n",
       "      <th>2</th>\n",
       "    </tr>\n",
       "  </thead>\n",
       "  <tbody>\n",
       "    <tr>\n",
       "      <th>0</th>\n",
       "      <td>Alice</td>\n",
       "      <td>Bob</td>\n",
       "      <td>Charlie</td>\n",
       "    </tr>\n",
       "    <tr>\n",
       "      <th>1</th>\n",
       "      <td>12</td>\n",
       "      <td>14</td>\n",
       "      <td>13</td>\n",
       "    </tr>\n",
       "  </tbody>\n",
       "</table>\n",
       "</div>"
      ],
      "text/plain": [
       "       0    1        2\n",
       "0  Alice  Bob  Charlie\n",
       "1     12   14       13"
      ]
     },
     "execution_count": 117,
     "metadata": {},
     "output_type": "execute_result"
    }
   ],
   "source": [
    "# from 2D nested lists:\n",
    "data= [['Alice', 'Bob', 'Charlie'], [12, 14, 13]]\n",
    "pd.DataFrame(data)"
   ]
  },
  {
   "cell_type": "code",
   "execution_count": 118,
   "id": "eee8cfed",
   "metadata": {},
   "outputs": [
    {
     "name": "stdout",
     "output_type": "stream",
     "text": [
      "/Users/spiced/testing/week_01\r\n"
     ]
    }
   ],
   "source": [
    "!pwd"
   ]
  },
  {
   "cell_type": "code",
   "execution_count": 124,
   "id": "c0fa971f",
   "metadata": {},
   "outputs": [],
   "source": [
    "# import as a csv file:\n",
    "\n",
    "df = pd.read_csv('large_countries_2015.csv', index_col=0)"
   ]
  },
  {
   "cell_type": "code",
   "execution_count": 125,
   "id": "b80863ff",
   "metadata": {},
   "outputs": [
    {
     "data": {
      "text/html": [
       "<div>\n",
       "<style scoped>\n",
       "    .dataframe tbody tr th:only-of-type {\n",
       "        vertical-align: middle;\n",
       "    }\n",
       "\n",
       "    .dataframe tbody tr th {\n",
       "        vertical-align: top;\n",
       "    }\n",
       "\n",
       "    .dataframe thead th {\n",
       "        text-align: right;\n",
       "    }\n",
       "</style>\n",
       "<table border=\"1\" class=\"dataframe\">\n",
       "  <thead>\n",
       "    <tr style=\"text-align: right;\">\n",
       "      <th></th>\n",
       "      <th>population</th>\n",
       "      <th>fertility</th>\n",
       "      <th>continent</th>\n",
       "    </tr>\n",
       "  </thead>\n",
       "  <tbody>\n",
       "    <tr>\n",
       "      <th>Bangladesh</th>\n",
       "      <td>1.609956e+08</td>\n",
       "      <td>2.12</td>\n",
       "      <td>Asia</td>\n",
       "    </tr>\n",
       "    <tr>\n",
       "      <th>Brazil</th>\n",
       "      <td>2.078475e+08</td>\n",
       "      <td>1.78</td>\n",
       "      <td>South America</td>\n",
       "    </tr>\n",
       "    <tr>\n",
       "      <th>China</th>\n",
       "      <td>1.376049e+09</td>\n",
       "      <td>1.57</td>\n",
       "      <td>Asia</td>\n",
       "    </tr>\n",
       "    <tr>\n",
       "      <th>India</th>\n",
       "      <td>1.311051e+09</td>\n",
       "      <td>2.43</td>\n",
       "      <td>Asia</td>\n",
       "    </tr>\n",
       "    <tr>\n",
       "      <th>Indonesia</th>\n",
       "      <td>2.575638e+08</td>\n",
       "      <td>2.28</td>\n",
       "      <td>Asia</td>\n",
       "    </tr>\n",
       "    <tr>\n",
       "      <th>Japan</th>\n",
       "      <td>1.265735e+08</td>\n",
       "      <td>1.45</td>\n",
       "      <td>Asia</td>\n",
       "    </tr>\n",
       "    <tr>\n",
       "      <th>Mexico</th>\n",
       "      <td>1.270172e+08</td>\n",
       "      <td>2.13</td>\n",
       "      <td>North America</td>\n",
       "    </tr>\n",
       "    <tr>\n",
       "      <th>Nigeria</th>\n",
       "      <td>1.822020e+08</td>\n",
       "      <td>5.89</td>\n",
       "      <td>Africa</td>\n",
       "    </tr>\n",
       "    <tr>\n",
       "      <th>Pakistan</th>\n",
       "      <td>1.889249e+08</td>\n",
       "      <td>3.04</td>\n",
       "      <td>Asia</td>\n",
       "    </tr>\n",
       "    <tr>\n",
       "      <th>Philippines</th>\n",
       "      <td>1.006994e+08</td>\n",
       "      <td>2.98</td>\n",
       "      <td>Asia</td>\n",
       "    </tr>\n",
       "    <tr>\n",
       "      <th>Russia</th>\n",
       "      <td>1.434569e+08</td>\n",
       "      <td>1.61</td>\n",
       "      <td>Europe</td>\n",
       "    </tr>\n",
       "    <tr>\n",
       "      <th>United States</th>\n",
       "      <td>3.217736e+08</td>\n",
       "      <td>1.97</td>\n",
       "      <td>North America</td>\n",
       "    </tr>\n",
       "  </tbody>\n",
       "</table>\n",
       "</div>"
      ],
      "text/plain": [
       "                 population  fertility      continent\n",
       "Bangladesh     1.609956e+08       2.12           Asia\n",
       "Brazil         2.078475e+08       1.78  South America\n",
       "China          1.376049e+09       1.57           Asia\n",
       "India          1.311051e+09       2.43           Asia\n",
       "Indonesia      2.575638e+08       2.28           Asia\n",
       "Japan          1.265735e+08       1.45           Asia\n",
       "Mexico         1.270172e+08       2.13  North America\n",
       "Nigeria        1.822020e+08       5.89         Africa\n",
       "Pakistan       1.889249e+08       3.04           Asia\n",
       "Philippines    1.006994e+08       2.98           Asia\n",
       "Russia         1.434569e+08       1.61         Europe\n",
       "United States  3.217736e+08       1.97  North America"
      ]
     },
     "execution_count": 125,
     "metadata": {},
     "output_type": "execute_result"
    }
   ],
   "source": [
    "df"
   ]
  },
  {
   "cell_type": "code",
   "execution_count": 126,
   "id": "d1a4bb9d",
   "metadata": {},
   "outputs": [],
   "source": [
    "# export as csv file:\n",
    "df.to_csv('my_csv.csv')"
   ]
  },
  {
   "cell_type": "markdown",
   "id": "574083a8",
   "metadata": {},
   "source": [
    "### Important Methods and Attributes of data frames"
   ]
  },
  {
   "cell_type": "code",
   "execution_count": 129,
   "id": "07c32b7a",
   "metadata": {},
   "outputs": [
    {
     "data": {
      "text/plain": [
       "(12, 3)"
      ]
     },
     "execution_count": 129,
     "metadata": {},
     "output_type": "execute_result"
    }
   ],
   "source": [
    "# Check the .shape attribute:\n",
    "df.shape"
   ]
  },
  {
   "cell_type": "code",
   "execution_count": 135,
   "id": "c1d504d3",
   "metadata": {},
   "outputs": [
    {
     "data": {
      "text/html": [
       "<div>\n",
       "<style scoped>\n",
       "    .dataframe tbody tr th:only-of-type {\n",
       "        vertical-align: middle;\n",
       "    }\n",
       "\n",
       "    .dataframe tbody tr th {\n",
       "        vertical-align: top;\n",
       "    }\n",
       "\n",
       "    .dataframe thead th {\n",
       "        text-align: right;\n",
       "    }\n",
       "</style>\n",
       "<table border=\"1\" class=\"dataframe\">\n",
       "  <thead>\n",
       "    <tr style=\"text-align: right;\">\n",
       "      <th></th>\n",
       "      <th>population</th>\n",
       "      <th>fertility</th>\n",
       "      <th>continent</th>\n",
       "    </tr>\n",
       "  </thead>\n",
       "  <tbody>\n",
       "    <tr>\n",
       "      <th>Bangladesh</th>\n",
       "      <td>1.609956e+08</td>\n",
       "      <td>2.12</td>\n",
       "      <td>Asia</td>\n",
       "    </tr>\n",
       "    <tr>\n",
       "      <th>Brazil</th>\n",
       "      <td>2.078475e+08</td>\n",
       "      <td>1.78</td>\n",
       "      <td>South America</td>\n",
       "    </tr>\n",
       "    <tr>\n",
       "      <th>China</th>\n",
       "      <td>1.376049e+09</td>\n",
       "      <td>1.57</td>\n",
       "      <td>Asia</td>\n",
       "    </tr>\n",
       "    <tr>\n",
       "      <th>India</th>\n",
       "      <td>1.311051e+09</td>\n",
       "      <td>2.43</td>\n",
       "      <td>Asia</td>\n",
       "    </tr>\n",
       "    <tr>\n",
       "      <th>Indonesia</th>\n",
       "      <td>2.575638e+08</td>\n",
       "      <td>2.28</td>\n",
       "      <td>Asia</td>\n",
       "    </tr>\n",
       "    <tr>\n",
       "      <th>Japan</th>\n",
       "      <td>1.265735e+08</td>\n",
       "      <td>1.45</td>\n",
       "      <td>Asia</td>\n",
       "    </tr>\n",
       "    <tr>\n",
       "      <th>Mexico</th>\n",
       "      <td>1.270172e+08</td>\n",
       "      <td>2.13</td>\n",
       "      <td>North America</td>\n",
       "    </tr>\n",
       "    <tr>\n",
       "      <th>Nigeria</th>\n",
       "      <td>1.822020e+08</td>\n",
       "      <td>5.89</td>\n",
       "      <td>Africa</td>\n",
       "    </tr>\n",
       "    <tr>\n",
       "      <th>Pakistan</th>\n",
       "      <td>1.889249e+08</td>\n",
       "      <td>3.04</td>\n",
       "      <td>Asia</td>\n",
       "    </tr>\n",
       "    <tr>\n",
       "      <th>Philippines</th>\n",
       "      <td>1.006994e+08</td>\n",
       "      <td>2.98</td>\n",
       "      <td>Asia</td>\n",
       "    </tr>\n",
       "    <tr>\n",
       "      <th>Russia</th>\n",
       "      <td>1.434569e+08</td>\n",
       "      <td>1.61</td>\n",
       "      <td>Europe</td>\n",
       "    </tr>\n",
       "    <tr>\n",
       "      <th>United States</th>\n",
       "      <td>3.217736e+08</td>\n",
       "      <td>1.97</td>\n",
       "      <td>North America</td>\n",
       "    </tr>\n",
       "  </tbody>\n",
       "</table>\n",
       "</div>"
      ],
      "text/plain": [
       "                 population  fertility      continent\n",
       "Bangladesh     1.609956e+08       2.12           Asia\n",
       "Brazil         2.078475e+08       1.78  South America\n",
       "China          1.376049e+09       1.57           Asia\n",
       "India          1.311051e+09       2.43           Asia\n",
       "Indonesia      2.575638e+08       2.28           Asia\n",
       "Japan          1.265735e+08       1.45           Asia\n",
       "Mexico         1.270172e+08       2.13  North America\n",
       "Nigeria        1.822020e+08       5.89         Africa\n",
       "Pakistan       1.889249e+08       3.04           Asia\n",
       "Philippines    1.006994e+08       2.98           Asia\n",
       "Russia         1.434569e+08       1.61         Europe\n",
       "United States  3.217736e+08       1.97  North America"
      ]
     },
     "execution_count": 135,
     "metadata": {},
     "output_type": "execute_result"
    }
   ],
   "source": [
    "# Look at first or last rows using .head() and .tail():\n",
    "df"
   ]
  },
  {
   "cell_type": "code",
   "execution_count": 133,
   "id": "221d2d0f",
   "metadata": {},
   "outputs": [
    {
     "data": {
      "text/plain": [
       "Bangladesh       1.609956e+08\n",
       "Brazil           2.078475e+08\n",
       "China            1.376049e+09\n",
       "India            1.311051e+09\n",
       "Indonesia        2.575638e+08\n",
       "Japan            1.265735e+08\n",
       "Mexico           1.270172e+08\n",
       "Nigeria          1.822020e+08\n",
       "Pakistan         1.889249e+08\n",
       "Philippines      1.006994e+08\n",
       "Russia           1.434569e+08\n",
       "United States    3.217736e+08\n",
       "Name: population, dtype: float64"
      ]
     },
     "execution_count": 133,
     "metadata": {},
     "output_type": "execute_result"
    }
   ],
   "source": [
    "# Select column(s) by name:\n",
    "df['population']"
   ]
  },
  {
   "cell_type": "code",
   "execution_count": 134,
   "id": "ea11432a",
   "metadata": {},
   "outputs": [
    {
     "data": {
      "text/plain": [
       "population    160995642.0\n",
       "fertility            2.12\n",
       "continent            Asia\n",
       "Name: Bangladesh, dtype: object"
      ]
     },
     "execution_count": 134,
     "metadata": {},
     "output_type": "execute_result"
    }
   ],
   "source": [
    "# Select row(s) name using .loc:\n",
    "df.loc['Bangladesh']"
   ]
  },
  {
   "cell_type": "code",
   "execution_count": 137,
   "id": "743c234b",
   "metadata": {},
   "outputs": [
    {
     "data": {
      "text/plain": [
       "Bangladesh       1.609956e+08\n",
       "Brazil           2.078475e+08\n",
       "China            1.376049e+09\n",
       "India            1.311051e+09\n",
       "Indonesia        2.575638e+08\n",
       "Japan            1.265735e+08\n",
       "Mexico           1.270172e+08\n",
       "Nigeria          1.822020e+08\n",
       "Pakistan         1.889249e+08\n",
       "Philippines      1.006994e+08\n",
       "Russia           1.434569e+08\n",
       "United States    3.217736e+08\n",
       "Name: population, dtype: float64"
      ]
     },
     "execution_count": 137,
     "metadata": {},
     "output_type": "execute_result"
    }
   ],
   "source": [
    "# Select rows or columns by integer index:\n",
    "df.iloc[:,0]"
   ]
  },
  {
   "cell_type": "code",
   "execution_count": 140,
   "id": "30fad201",
   "metadata": {},
   "outputs": [
    {
     "data": {
      "text/html": [
       "<div>\n",
       "<style scoped>\n",
       "    .dataframe tbody tr th:only-of-type {\n",
       "        vertical-align: middle;\n",
       "    }\n",
       "\n",
       "    .dataframe tbody tr th {\n",
       "        vertical-align: top;\n",
       "    }\n",
       "\n",
       "    .dataframe thead th {\n",
       "        text-align: right;\n",
       "    }\n",
       "</style>\n",
       "<table border=\"1\" class=\"dataframe\">\n",
       "  <thead>\n",
       "    <tr style=\"text-align: right;\">\n",
       "      <th></th>\n",
       "      <th>population</th>\n",
       "      <th>fertility</th>\n",
       "      <th>continent</th>\n",
       "    </tr>\n",
       "  </thead>\n",
       "  <tbody>\n",
       "    <tr>\n",
       "      <th>Brazil</th>\n",
       "      <td>2.078475e+08</td>\n",
       "      <td>1.78</td>\n",
       "      <td>South America</td>\n",
       "    </tr>\n",
       "    <tr>\n",
       "      <th>China</th>\n",
       "      <td>1.376049e+09</td>\n",
       "      <td>1.57</td>\n",
       "      <td>Asia</td>\n",
       "    </tr>\n",
       "    <tr>\n",
       "      <th>Japan</th>\n",
       "      <td>1.265735e+08</td>\n",
       "      <td>1.45</td>\n",
       "      <td>Asia</td>\n",
       "    </tr>\n",
       "    <tr>\n",
       "      <th>Russia</th>\n",
       "      <td>1.434569e+08</td>\n",
       "      <td>1.61</td>\n",
       "      <td>Europe</td>\n",
       "    </tr>\n",
       "    <tr>\n",
       "      <th>United States</th>\n",
       "      <td>3.217736e+08</td>\n",
       "      <td>1.97</td>\n",
       "      <td>North America</td>\n",
       "    </tr>\n",
       "  </tbody>\n",
       "</table>\n",
       "</div>"
      ],
      "text/plain": [
       "                 population  fertility      continent\n",
       "Brazil         2.078475e+08       1.78  South America\n",
       "China          1.376049e+09       1.57           Asia\n",
       "Japan          1.265735e+08       1.45           Asia\n",
       "Russia         1.434569e+08       1.61         Europe\n",
       "United States  3.217736e+08       1.97  North America"
      ]
     },
     "execution_count": 140,
     "metadata": {},
     "output_type": "execute_result"
    }
   ],
   "source": [
    "# Select by logical condition:\n",
    "df.loc[df['fertility']<2]\n"
   ]
  },
  {
   "cell_type": "code",
   "execution_count": 143,
   "id": "c8dcc803",
   "metadata": {},
   "outputs": [
    {
     "data": {
      "text/html": [
       "<div>\n",
       "<style scoped>\n",
       "    .dataframe tbody tr th:only-of-type {\n",
       "        vertical-align: middle;\n",
       "    }\n",
       "\n",
       "    .dataframe tbody tr th {\n",
       "        vertical-align: top;\n",
       "    }\n",
       "\n",
       "    .dataframe thead th {\n",
       "        text-align: right;\n",
       "    }\n",
       "</style>\n",
       "<table border=\"1\" class=\"dataframe\">\n",
       "  <thead>\n",
       "    <tr style=\"text-align: right;\">\n",
       "      <th></th>\n",
       "      <th>population</th>\n",
       "      <th>fertility</th>\n",
       "      <th>continent</th>\n",
       "    </tr>\n",
       "  </thead>\n",
       "  <tbody>\n",
       "    <tr>\n",
       "      <th>Russia</th>\n",
       "      <td>143456918.0</td>\n",
       "      <td>1.61</td>\n",
       "      <td>Europe</td>\n",
       "    </tr>\n",
       "  </tbody>\n",
       "</table>\n",
       "</div>"
      ],
      "text/plain": [
       "         population  fertility continent\n",
       "Russia  143456918.0       1.61    Europe"
      ]
     },
     "execution_count": 143,
     "metadata": {},
     "output_type": "execute_result"
    }
   ],
   "source": [
    "df.loc[df['continent']=='Europe']"
   ]
  },
  {
   "cell_type": "code",
   "execution_count": 144,
   "id": "67d14924",
   "metadata": {},
   "outputs": [
    {
     "data": {
      "text/html": [
       "<div>\n",
       "<style scoped>\n",
       "    .dataframe tbody tr th:only-of-type {\n",
       "        vertical-align: middle;\n",
       "    }\n",
       "\n",
       "    .dataframe tbody tr th {\n",
       "        vertical-align: top;\n",
       "    }\n",
       "\n",
       "    .dataframe thead th {\n",
       "        text-align: right;\n",
       "    }\n",
       "</style>\n",
       "<table border=\"1\" class=\"dataframe\">\n",
       "  <thead>\n",
       "    <tr style=\"text-align: right;\">\n",
       "      <th></th>\n",
       "      <th>population</th>\n",
       "      <th>fertility</th>\n",
       "      <th>continent</th>\n",
       "    </tr>\n",
       "  </thead>\n",
       "  <tbody>\n",
       "    <tr>\n",
       "      <th>Brazil</th>\n",
       "      <td>2.078475e+08</td>\n",
       "      <td>1.78</td>\n",
       "      <td>South America</td>\n",
       "    </tr>\n",
       "    <tr>\n",
       "      <th>China</th>\n",
       "      <td>1.376049e+09</td>\n",
       "      <td>1.57</td>\n",
       "      <td>Asia</td>\n",
       "    </tr>\n",
       "    <tr>\n",
       "      <th>Japan</th>\n",
       "      <td>1.265735e+08</td>\n",
       "      <td>1.45</td>\n",
       "      <td>Asia</td>\n",
       "    </tr>\n",
       "    <tr>\n",
       "      <th>Russia</th>\n",
       "      <td>1.434569e+08</td>\n",
       "      <td>1.61</td>\n",
       "      <td>Europe</td>\n",
       "    </tr>\n",
       "    <tr>\n",
       "      <th>United States</th>\n",
       "      <td>3.217736e+08</td>\n",
       "      <td>1.97</td>\n",
       "      <td>North America</td>\n",
       "    </tr>\n",
       "  </tbody>\n",
       "</table>\n",
       "</div>"
      ],
      "text/plain": [
       "                 population  fertility      continent\n",
       "Brazil         2.078475e+08       1.78  South America\n",
       "China          1.376049e+09       1.57           Asia\n",
       "Japan          1.265735e+08       1.45           Asia\n",
       "Russia         1.434569e+08       1.61         Europe\n",
       "United States  3.217736e+08       1.97  North America"
      ]
     },
     "execution_count": 144,
     "metadata": {},
     "output_type": "execute_result"
    }
   ],
   "source": [
    "#.between\n",
    "df.loc[df['fertility'].between(1,2)]"
   ]
  },
  {
   "cell_type": "code",
   "execution_count": 149,
   "id": "c1a66dfd",
   "metadata": {},
   "outputs": [
    {
     "data": {
      "text/plain": [
       "Index(['population', 'fertility', 'continent'], dtype='object')"
      ]
     },
     "execution_count": 149,
     "metadata": {},
     "output_type": "execute_result"
    }
   ],
   "source": [
    "df.columns"
   ]
  },
  {
   "cell_type": "markdown",
   "id": "87e99d4d",
   "metadata": {
    "heading_collapsed": true
   },
   "source": [
    "### Bonus: Series .name attributes"
   ]
  },
  {
   "cell_type": "code",
   "execution_count": 17,
   "id": "da9d6f8c",
   "metadata": {
    "hidden": true
   },
   "outputs": [],
   "source": [
    "# .name attribute = set to None automatically, can be added manually. Becomes column name in df\n",
    "# .index.name becomes the index name - gets added on top of the series display"
   ]
  },
  {
   "cell_type": "markdown",
   "id": "c2f9a2d8",
   "metadata": {},
   "source": [
    "### Bonus: What does `dtype` mean?"
   ]
  },
  {
   "cell_type": "markdown",
   "id": "2d566132",
   "metadata": {},
   "source": [
    " - Python lists store references to the objects in memory rather than the objects themselves: each object has to be accessed separately in a different location.\n",
    " - Numpy arrays are homogenous (all entries have the same `dtype`). Numbers are stored as fixed length (eg. 64bit float, 8bit integer etc). This leads to numpy being faster and more space efficient than lists (data is *contiguous* = stored next to each other in memory). \n",
    " - If given mixed numeric types, numpy automatically converts them to one (eg. converts int to float) = *\"implicit upcasting\"*. \n",
    " - Strings have variable length, so numpy saves a *reference to the string in memory* rather than the string itself\n",
    " - if pandas (=numpy under the hood) sees mixed types including a string, it saves EVERYTHING as `dtype object` - this slows down storage and is a frequent source of bugs. \n",
    " - Tip: Always double-check dtype especially when importing data!\n",
    " "
   ]
  },
  {
   "cell_type": "markdown",
   "id": "f176a31e",
   "metadata": {
    "heading_collapsed": true
   },
   "source": [
    "## References:\n",
    " - [Pandas documentation](https://pandas.pydata.org/docs/getting_started/intro_tutorials/index.html)\n",
    " - [Course Material on Pandas](http://krspiced.pythonanywhere.com/chapters/project_gapminder/introduction_to_pandas.html)"
   ]
  },
  {
   "cell_type": "code",
   "execution_count": null,
   "id": "1a59f9c1",
   "metadata": {
    "hidden": true
   },
   "outputs": [],
   "source": []
  }
 ],
 "metadata": {
  "interpreter": {
   "hash": "40d3a090f54c6569ab1632332b64b2c03c39dcf918b08424e98f38b5ae0af88f"
  },
  "kernelspec": {
   "display_name": "Python 3.8.5 64-bit ('base': conda)",
   "name": "python3"
  },
  "language_info": {
   "codemirror_mode": {
    "name": "ipython",
    "version": 3
   },
   "file_extension": ".py",
   "mimetype": "text/x-python",
   "name": "python",
   "nbconvert_exporter": "python",
   "pygments_lexer": "ipython3",
   "version": "3.8.5"
  },
  "toc": {
   "base_numbering": 1,
   "nav_menu": {},
   "number_sections": false,
   "sideBar": true,
   "skip_h1_title": false,
   "title_cell": "Table of Contents",
   "title_sidebar": "Contents",
   "toc_cell": false,
   "toc_position": {},
   "toc_section_display": true,
   "toc_window_display": false
  },
  "varInspector": {
   "cols": {
    "lenName": 16,
    "lenType": 16,
    "lenVar": 40
   },
   "kernels_config": {
    "python": {
     "delete_cmd_postfix": "",
     "delete_cmd_prefix": "del ",
     "library": "var_list.py",
     "varRefreshCmd": "print(var_dic_list())"
    },
    "r": {
     "delete_cmd_postfix": ") ",
     "delete_cmd_prefix": "rm(",
     "library": "var_list.r",
     "varRefreshCmd": "cat(var_dic_list()) "
    }
   },
   "types_to_exclude": [
    "module",
    "function",
    "builtin_function_or_method",
    "instance",
    "_Feature"
   ],
   "window_display": false
  }
 },
 "nbformat": 4,
 "nbformat_minor": 5
}
