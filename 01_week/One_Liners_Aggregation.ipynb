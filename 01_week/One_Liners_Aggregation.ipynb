{
  "nbformat": 4,
  "nbformat_minor": 0,
  "metadata": {
    "colab": {
      "name": "One-Liners_Aggregation.ipynb",
      "provenance": [],
      "collapsed_sections": []
    },
    "kernelspec": {
      "name": "python3",
      "display_name": "Python 3"
    },
    "language_info": {
      "name": "python"
    }
  },
  "cells": [
    {
      "cell_type": "code",
      "metadata": {
        "colab": {
          "base_uri": "https://localhost:8080/",
          "height": 424
        },
        "id": "HNbumFHoiasF",
        "outputId": "81b9c091-c3ad-42c6-aaa1-c1892f231be1"
      },
      "source": [
        "import pandas as pd\n",
        "import numpy as np\n",
        "\n",
        "df = pd.read_csv('/content/penguins_simple.csv',sep=\";\")\n",
        "df"
      ],
      "execution_count": 53,
      "outputs": [
        {
          "output_type": "execute_result",
          "data": {
            "text/html": [
              "<div>\n",
              "<style scoped>\n",
              "    .dataframe tbody tr th:only-of-type {\n",
              "        vertical-align: middle;\n",
              "    }\n",
              "\n",
              "    .dataframe tbody tr th {\n",
              "        vertical-align: top;\n",
              "    }\n",
              "\n",
              "    .dataframe thead th {\n",
              "        text-align: right;\n",
              "    }\n",
              "</style>\n",
              "<table border=\"1\" class=\"dataframe\">\n",
              "  <thead>\n",
              "    <tr style=\"text-align: right;\">\n",
              "      <th></th>\n",
              "      <th>Species</th>\n",
              "      <th>Culmen Length (mm)</th>\n",
              "      <th>Culmen Depth (mm)</th>\n",
              "      <th>Flipper Length (mm)</th>\n",
              "      <th>Body Mass (g)</th>\n",
              "      <th>Sex</th>\n",
              "    </tr>\n",
              "  </thead>\n",
              "  <tbody>\n",
              "    <tr>\n",
              "      <th>0</th>\n",
              "      <td>Adelie</td>\n",
              "      <td>39.1</td>\n",
              "      <td>18.7</td>\n",
              "      <td>181.0</td>\n",
              "      <td>3750.0</td>\n",
              "      <td>MALE</td>\n",
              "    </tr>\n",
              "    <tr>\n",
              "      <th>1</th>\n",
              "      <td>Adelie</td>\n",
              "      <td>39.5</td>\n",
              "      <td>17.4</td>\n",
              "      <td>186.0</td>\n",
              "      <td>3800.0</td>\n",
              "      <td>FEMALE</td>\n",
              "    </tr>\n",
              "    <tr>\n",
              "      <th>2</th>\n",
              "      <td>Adelie</td>\n",
              "      <td>40.3</td>\n",
              "      <td>18.0</td>\n",
              "      <td>195.0</td>\n",
              "      <td>3250.0</td>\n",
              "      <td>FEMALE</td>\n",
              "    </tr>\n",
              "    <tr>\n",
              "      <th>3</th>\n",
              "      <td>Adelie</td>\n",
              "      <td>36.7</td>\n",
              "      <td>19.3</td>\n",
              "      <td>193.0</td>\n",
              "      <td>3450.0</td>\n",
              "      <td>FEMALE</td>\n",
              "    </tr>\n",
              "    <tr>\n",
              "      <th>4</th>\n",
              "      <td>Adelie</td>\n",
              "      <td>39.3</td>\n",
              "      <td>20.6</td>\n",
              "      <td>190.0</td>\n",
              "      <td>3650.0</td>\n",
              "      <td>MALE</td>\n",
              "    </tr>\n",
              "    <tr>\n",
              "      <th>...</th>\n",
              "      <td>...</td>\n",
              "      <td>...</td>\n",
              "      <td>...</td>\n",
              "      <td>...</td>\n",
              "      <td>...</td>\n",
              "      <td>...</td>\n",
              "    </tr>\n",
              "    <tr>\n",
              "      <th>328</th>\n",
              "      <td>Gentoo</td>\n",
              "      <td>47.2</td>\n",
              "      <td>13.7</td>\n",
              "      <td>214.0</td>\n",
              "      <td>4925.0</td>\n",
              "      <td>FEMALE</td>\n",
              "    </tr>\n",
              "    <tr>\n",
              "      <th>329</th>\n",
              "      <td>Gentoo</td>\n",
              "      <td>46.8</td>\n",
              "      <td>14.3</td>\n",
              "      <td>215.0</td>\n",
              "      <td>4850.0</td>\n",
              "      <td>FEMALE</td>\n",
              "    </tr>\n",
              "    <tr>\n",
              "      <th>330</th>\n",
              "      <td>Gentoo</td>\n",
              "      <td>50.4</td>\n",
              "      <td>15.7</td>\n",
              "      <td>222.0</td>\n",
              "      <td>5750.0</td>\n",
              "      <td>MALE</td>\n",
              "    </tr>\n",
              "    <tr>\n",
              "      <th>331</th>\n",
              "      <td>Gentoo</td>\n",
              "      <td>45.2</td>\n",
              "      <td>14.8</td>\n",
              "      <td>212.0</td>\n",
              "      <td>5200.0</td>\n",
              "      <td>FEMALE</td>\n",
              "    </tr>\n",
              "    <tr>\n",
              "      <th>332</th>\n",
              "      <td>Gentoo</td>\n",
              "      <td>49.9</td>\n",
              "      <td>16.1</td>\n",
              "      <td>213.0</td>\n",
              "      <td>5400.0</td>\n",
              "      <td>MALE</td>\n",
              "    </tr>\n",
              "  </tbody>\n",
              "</table>\n",
              "<p>333 rows × 6 columns</p>\n",
              "</div>"
            ],
            "text/plain": [
              "    Species  Culmen Length (mm)  ...  Body Mass (g)     Sex\n",
              "0    Adelie                39.1  ...         3750.0    MALE\n",
              "1    Adelie                39.5  ...         3800.0  FEMALE\n",
              "2    Adelie                40.3  ...         3250.0  FEMALE\n",
              "3    Adelie                36.7  ...         3450.0  FEMALE\n",
              "4    Adelie                39.3  ...         3650.0    MALE\n",
              "..      ...                 ...  ...            ...     ...\n",
              "328  Gentoo                47.2  ...         4925.0  FEMALE\n",
              "329  Gentoo                46.8  ...         4850.0  FEMALE\n",
              "330  Gentoo                50.4  ...         5750.0    MALE\n",
              "331  Gentoo                45.2  ...         5200.0  FEMALE\n",
              "332  Gentoo                49.9  ...         5400.0    MALE\n",
              "\n",
              "[333 rows x 6 columns]"
            ]
          },
          "metadata": {},
          "execution_count": 53
        }
      ]
    },
    {
      "cell_type": "code",
      "metadata": {
        "colab": {
          "base_uri": "https://localhost:8080/"
        },
        "id": "NTG-NGZ1i2Ds",
        "outputId": "a8add42b-dec5-4b91-bf75-2f348b544343"
      },
      "source": [
        "print('The 7th pengiun is an:', df[\"Species\"][7])\n",
        "#print('The 7th pengiun is an:', df.iloc[6])\n"
      ],
      "execution_count": 36,
      "outputs": [
        {
          "output_type": "stream",
          "name": "stdout",
          "text": [
            "The 7th pengiun is an: Adelie\n"
          ]
        }
      ]
    },
    {
      "cell_type": "code",
      "metadata": {
        "id": "SRiCIqa6kE8B"
      },
      "source": [
        "#@markdown How many Gentoos are in the dataset?"
      ],
      "execution_count": 19,
      "outputs": []
    },
    {
      "cell_type": "code",
      "metadata": {
        "colab": {
          "base_uri": "https://localhost:8080/"
        },
        "id": "1v7mCCE6kKHl",
        "outputId": "10ff63df-e45d-4b47-fcfa-78750926bd56"
      },
      "source": [
        "df.loc[df[\"Species\"]==\"Gentoo\"].count()"
      ],
      "execution_count": 37,
      "outputs": [
        {
          "output_type": "execute_result",
          "data": {
            "text/plain": [
              "Species                119\n",
              "Culmen Length (mm)     119\n",
              "Culmen Depth (mm)      119\n",
              "Flipper Length (mm)    119\n",
              "Body Mass (g)          119\n",
              "Sex                    119\n",
              "dtype: int64"
            ]
          },
          "metadata": {},
          "execution_count": 37
        }
      ]
    },
    {
      "cell_type": "code",
      "metadata": {
        "id": "gXqIblCQkqAe"
      },
      "source": [
        "#@markdown Who is the heaviest penguin?"
      ],
      "execution_count": 27,
      "outputs": []
    },
    {
      "cell_type": "code",
      "metadata": {
        "colab": {
          "base_uri": "https://localhost:8080/"
        },
        "id": "wWPkh04llBOv",
        "outputId": "c0805460-2334-4144-8fee-34f0d6ed1c74"
      },
      "source": [
        "#df_max = df.loc[df['Body Mass (g)']==\"max\"]\n",
        "df_max = df['Body Mass (g)'].max()\n",
        "df_max"
      ],
      "execution_count": 55,
      "outputs": [
        {
          "output_type": "execute_result",
          "data": {
            "text/plain": [
              "6300.0"
            ]
          },
          "metadata": {},
          "execution_count": 55
        }
      ]
    },
    {
      "cell_type": "markdown",
      "metadata": {
        "id": "JV0IL6hNmeBm"
      },
      "source": [
        ""
      ]
    },
    {
      "cell_type": "code",
      "metadata": {
        "colab": {
          "base_uri": "https://localhost:8080/",
          "height": 455
        },
        "id": "Jknf9DeznT54",
        "outputId": "45e2220c-f7b1-4f39-c193-e6ad073c91ec"
      },
      "source": [
        "g1 = df.groupby('Body Mass (g)')\n",
        "g1.max()"
      ],
      "execution_count": 47,
      "outputs": [
        {
          "output_type": "execute_result",
          "data": {
            "text/html": [
              "<div>\n",
              "<style scoped>\n",
              "    .dataframe tbody tr th:only-of-type {\n",
              "        vertical-align: middle;\n",
              "    }\n",
              "\n",
              "    .dataframe tbody tr th {\n",
              "        vertical-align: top;\n",
              "    }\n",
              "\n",
              "    .dataframe thead th {\n",
              "        text-align: right;\n",
              "    }\n",
              "</style>\n",
              "<table border=\"1\" class=\"dataframe\">\n",
              "  <thead>\n",
              "    <tr style=\"text-align: right;\">\n",
              "      <th></th>\n",
              "      <th>Species</th>\n",
              "      <th>Culmen Length (mm)</th>\n",
              "      <th>Culmen Depth (mm)</th>\n",
              "      <th>Flipper Length (mm)</th>\n",
              "      <th>Sex</th>\n",
              "    </tr>\n",
              "    <tr>\n",
              "      <th>Body Mass (g)</th>\n",
              "      <th></th>\n",
              "      <th></th>\n",
              "      <th></th>\n",
              "      <th></th>\n",
              "      <th></th>\n",
              "    </tr>\n",
              "  </thead>\n",
              "  <tbody>\n",
              "    <tr>\n",
              "      <th>2700.0</th>\n",
              "      <td>Chinstrap</td>\n",
              "      <td>46.9</td>\n",
              "      <td>16.6</td>\n",
              "      <td>192.0</td>\n",
              "      <td>FEMALE</td>\n",
              "    </tr>\n",
              "    <tr>\n",
              "      <th>2850.0</th>\n",
              "      <td>Adelie</td>\n",
              "      <td>36.5</td>\n",
              "      <td>17.1</td>\n",
              "      <td>184.0</td>\n",
              "      <td>FEMALE</td>\n",
              "    </tr>\n",
              "    <tr>\n",
              "      <th>2900.0</th>\n",
              "      <td>Chinstrap</td>\n",
              "      <td>43.2</td>\n",
              "      <td>18.1</td>\n",
              "      <td>188.0</td>\n",
              "      <td>FEMALE</td>\n",
              "    </tr>\n",
              "    <tr>\n",
              "      <th>2925.0</th>\n",
              "      <td>Adelie</td>\n",
              "      <td>37.9</td>\n",
              "      <td>18.6</td>\n",
              "      <td>193.0</td>\n",
              "      <td>FEMALE</td>\n",
              "    </tr>\n",
              "    <tr>\n",
              "      <th>3000.0</th>\n",
              "      <td>Adelie</td>\n",
              "      <td>37.3</td>\n",
              "      <td>16.9</td>\n",
              "      <td>192.0</td>\n",
              "      <td>FEMALE</td>\n",
              "    </tr>\n",
              "    <tr>\n",
              "      <th>...</th>\n",
              "      <td>...</td>\n",
              "      <td>...</td>\n",
              "      <td>...</td>\n",
              "      <td>...</td>\n",
              "      <td>...</td>\n",
              "    </tr>\n",
              "    <tr>\n",
              "      <th>5850.0</th>\n",
              "      <td>Gentoo</td>\n",
              "      <td>55.1</td>\n",
              "      <td>16.0</td>\n",
              "      <td>230.0</td>\n",
              "      <td>MALE</td>\n",
              "    </tr>\n",
              "    <tr>\n",
              "      <th>5950.0</th>\n",
              "      <td>Gentoo</td>\n",
              "      <td>49.8</td>\n",
              "      <td>16.4</td>\n",
              "      <td>229.0</td>\n",
              "      <td>MALE</td>\n",
              "    </tr>\n",
              "    <tr>\n",
              "      <th>6000.0</th>\n",
              "      <td>Gentoo</td>\n",
              "      <td>51.1</td>\n",
              "      <td>16.3</td>\n",
              "      <td>222.0</td>\n",
              "      <td>MALE</td>\n",
              "    </tr>\n",
              "    <tr>\n",
              "      <th>6050.0</th>\n",
              "      <td>Gentoo</td>\n",
              "      <td>59.6</td>\n",
              "      <td>17.0</td>\n",
              "      <td>230.0</td>\n",
              "      <td>MALE</td>\n",
              "    </tr>\n",
              "    <tr>\n",
              "      <th>6300.0</th>\n",
              "      <td>Gentoo</td>\n",
              "      <td>49.2</td>\n",
              "      <td>15.2</td>\n",
              "      <td>221.0</td>\n",
              "      <td>MALE</td>\n",
              "    </tr>\n",
              "  </tbody>\n",
              "</table>\n",
              "<p>93 rows × 5 columns</p>\n",
              "</div>"
            ],
            "text/plain": [
              "                 Species  Culmen Length (mm)  ...  Flipper Length (mm)     Sex\n",
              "Body Mass (g)                                 ...                             \n",
              "2700.0         Chinstrap                46.9  ...                192.0  FEMALE\n",
              "2850.0            Adelie                36.5  ...                184.0  FEMALE\n",
              "2900.0         Chinstrap                43.2  ...                188.0  FEMALE\n",
              "2925.0            Adelie                37.9  ...                193.0  FEMALE\n",
              "3000.0            Adelie                37.3  ...                192.0  FEMALE\n",
              "...                  ...                 ...  ...                  ...     ...\n",
              "5850.0            Gentoo                55.1  ...                230.0    MALE\n",
              "5950.0            Gentoo                49.8  ...                229.0    MALE\n",
              "6000.0            Gentoo                51.1  ...                222.0    MALE\n",
              "6050.0            Gentoo                59.6  ...                230.0    MALE\n",
              "6300.0            Gentoo                49.2  ...                221.0    MALE\n",
              "\n",
              "[93 rows x 5 columns]"
            ]
          },
          "metadata": {},
          "execution_count": 47
        }
      ]
    },
    {
      "cell_type": "markdown",
      "metadata": {
        "id": "TL0BlBwlnS9A"
      },
      "source": [
        ""
      ]
    }
  ]
}