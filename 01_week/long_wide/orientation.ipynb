{
 "cells": [
  {
   "cell_type": "markdown",
   "id": "6c195ad8",
   "metadata": {},
   "source": [
    "# Objectives"
   ]
  },
  {
   "cell_type": "markdown",
   "id": "3c0343b0",
   "metadata": {},
   "source": [
    "1. Introductions with a twist\n",
    "2. Python coding challenge\n",
    "3. Overview of Data Science Curriculum\n",
    "4. Bootcamp orientation\n",
    "5. Treasure Chest\n"
   ]
  },
  {
   "cell_type": "markdown",
   "id": "88b192f1",
   "metadata": {},
   "source": [
    "# Warm-up: Fizz-Buzz Challenge"
   ]
  },
  {
   "cell_type": "markdown",
   "id": "257d9171",
   "metadata": {},
   "source": [
    "**Implement the following program:**\n",
    "\n",
    "Go through the numbers from 1 to 100:\n",
    "\n",
    "- If the number is divisible by 3, write “Fizz”\n",
    "\n",
    "- If the number is divisible by 5, write “Buzz”\n",
    "\n",
    "- If the number is divisible by 3 and 5, only write “FizzBuzz”\n",
    "\n",
    "**Extra challenges:**\n",
    "\n",
    "- write the code into a function\n",
    "\n",
    "- add a parameter that allows for other numbers than 100\n",
    "\n",
    "\n",
    "**Please partner up for the challenge and post your solution to the slack week 1 channel when you have finished**"
   ]
  },
  {
   "cell_type": "markdown",
   "id": "85ff07f3",
   "metadata": {},
   "source": [
    "## Orientation"
   ]
  },
  {
   "cell_type": "code",
   "execution_count": 1,
   "id": "ca56f8dc",
   "metadata": {},
   "outputs": [
    {
     "name": "stdout",
     "output_type": "stream",
     "text": [
      "3 Fizz\n",
      "5 Buzz\n",
      "6 Fizz\n",
      "9 Fizz\n",
      "10 Buzz\n",
      "12 Fizz\n",
      "15 FizzBuzz\n",
      "18 Fizz\n",
      "20 Buzz\n",
      "21 Fizz\n",
      "24 Fizz\n",
      "25 Buzz\n",
      "27 Fizz\n",
      "30 FizzBuzz\n",
      "33 Fizz\n",
      "35 Buzz\n",
      "36 Fizz\n",
      "39 Fizz\n",
      "40 Buzz\n",
      "42 Fizz\n",
      "45 FizzBuzz\n",
      "48 Fizz\n",
      "50 Buzz\n",
      "51 Fizz\n",
      "54 Fizz\n",
      "55 Buzz\n",
      "57 Fizz\n",
      "60 FizzBuzz\n",
      "63 Fizz\n",
      "65 Buzz\n",
      "66 Fizz\n",
      "69 Fizz\n",
      "70 Buzz\n",
      "72 Fizz\n",
      "75 FizzBuzz\n",
      "78 Fizz\n",
      "80 Buzz\n",
      "81 Fizz\n",
      "84 Fizz\n",
      "85 Buzz\n",
      "87 Fizz\n",
      "90 FizzBuzz\n",
      "93 Fizz\n",
      "95 Buzz\n",
      "96 Fizz\n",
      "99 Fizz\n",
      "100 Buzz\n",
      "102 Fizz\n",
      "105 FizzBuzz\n",
      "108 Fizz\n",
      "110 Buzz\n",
      "111 Fizz\n",
      "114 Fizz\n",
      "115 Buzz\n",
      "117 Fizz\n",
      "120 FizzBuzz\n",
      "123 Fizz\n",
      "125 Buzz\n",
      "126 Fizz\n",
      "129 Fizz\n",
      "130 Buzz\n",
      "132 Fizz\n",
      "135 FizzBuzz\n",
      "138 Fizz\n",
      "140 Buzz\n",
      "141 Fizz\n",
      "144 Fizz\n",
      "145 Buzz\n",
      "147 Fizz\n",
      "150 FizzBuzz\n",
      "153 Fizz\n",
      "155 Buzz\n",
      "156 Fizz\n",
      "159 Fizz\n",
      "160 Buzz\n",
      "162 Fizz\n",
      "165 FizzBuzz\n",
      "168 Fizz\n",
      "170 Buzz\n",
      "171 Fizz\n",
      "174 Fizz\n",
      "175 Buzz\n",
      "177 Fizz\n",
      "180 FizzBuzz\n",
      "183 Fizz\n",
      "185 Buzz\n",
      "186 Fizz\n",
      "189 Fizz\n",
      "190 Buzz\n",
      "192 Fizz\n",
      "195 FizzBuzz\n",
      "198 Fizz\n"
     ]
    }
   ],
   "source": [
    "def fizzbuzz(number):\n",
    "    for i in range(1, number):\n",
    "        if i % 3 == 0 and i % 5 == 0:\n",
    "            print(i, 'FizzBuzz')\n",
    "        elif i % 3 == 0:\n",
    "            print(i, 'Fizz')\n",
    "        elif i % 5 == 0:\n",
    "            print(i, 'Buzz')\n",
    "\n",
    "\n",
    "fizzbuzz(200)"
   ]
  },
  {
   "cell_type": "markdown",
   "id": "cc45f680",
   "metadata": {},
   "source": [
    "### Overview of the DS Curriculum"
   ]
  },
  {
   "cell_type": "markdown",
   "id": "e2a3a9b8",
   "metadata": {},
   "source": [
    "![alt text](metro-map.png \"Title\")"
   ]
  },
  {
   "cell_type": "markdown",
   "id": "16d63bf4",
   "metadata": {},
   "source": [
    "**Six main areas are covered during the bootcamp:**\n",
    "\n",
    "1. Python programming\n",
    "2. Data Visualization\n",
    "3. Machine Learning\n",
    "4. Databases & Infrastructure\n",
    "5. Software Engineering\n",
    "6. Career Support"
   ]
  },
  {
   "cell_type": "markdown",
   "id": "63087127",
   "metadata": {},
   "source": [
    "### How the Bootcamp is organized"
   ]
  },
  {
   "cell_type": "markdown",
   "id": "5cbf3e4f",
   "metadata": {},
   "source": [
    "**the bootcamp runs for 12 Weeks:**\n",
    "\n",
    "- 2 encounters per day, 1.5~2h / each\n",
    "\n",
    "\n",
    "- Before and after you have time to work on your project of the week, individually or in groups\n",
    "\n",
    "\n",
    "- 10 Projects:\n",
    "\n",
    "\n",
    "  * The projects are introduced on Mondays, and presented on Fridays\n",
    "  * Exceptions are the first and the last project:\n",
    "  \n",
    "    - The first project doesn't have a traditional project introduction on Monday morning\n",
    "    - The last project, the Graduation project, is 1.5 weeks long\n",
    "    - In the last week there are no encounters and you will have time to completely focus on your project\n",
    "    \n",
    "    \n",
    "- 5 Career sessions: you will have careers sessions with our career coaches Lindsay McQuade and Olga Lavrenko on topics such as: job search, CV & cover letter, interviewing...\n",
    "\n",
    "\n",
    "- you will present your graduation project on your graduation day at the end of week 12"
   ]
  },
  {
   "cell_type": "markdown",
   "id": "ee2da81a",
   "metadata": {},
   "source": [
    "### Slack Communication"
   ]
  },
  {
   "cell_type": "markdown",
   "id": "0dd81499",
   "metadata": {},
   "source": [
    "- The main communication channel will be the Euclidean Eukalyptus Slack\n",
    "workspace. \n",
    "\n",
    "- You will have all been invited to another Slack workspace at the\n",
    "same time **Spiced Academy**. That workspace includes most of Spiced alumni\n",
    "and staff, but you don't have to pay it too much attention at the moment, it will\n",
    "mostly become useful once you graduate\n",
    "\n",
    "\n",
    "**Important channels are:**\n",
    "- **#general** — for announcements of general importance\n",
    "- **#questions** — post your questions here\n",
    "- **#github_activity** — updates when new materials are pushed to github (more on that tomorrow morning)\n",
    "\n",
    "\n",
    "**Slack etiquette:**\n",
    "\n",
    "- unless it is really important and urgent, please don't @channel in\n",
    "Slack. Most channels also include other teachers and Spiced staff and channel\n",
    "mentions mean that they also get pinged with stuff that may not be particularly\n",
    "relevant to them or urgent.\n",
    "\n",
    "- During the working hours at least one of the teachers will keep an eye on Slack and be able to respond so you can be sure that your message will be seen. "
   ]
  },
  {
   "cell_type": "markdown",
   "id": "ef42137d",
   "metadata": {},
   "source": [
    "### GitHub"
   ]
  },
  {
   "cell_type": "markdown",
   "id": "9d7476fe",
   "metadata": {},
   "source": [
    "**We will be using GitHub for sharing code. You will get invited to two repositories:**\n",
    "\n",
    "\n",
    "**euclidean-eukalyptus-encounter-notes** — where teachers share the materials/code used in encounters\n",
    "\n",
    "\n",
    "**euclidean-eukalyptus-student-code** — where you upload the code you work on. More on this tomorrow morning"
   ]
  },
  {
   "cell_type": "markdown",
   "id": "50130878",
   "metadata": {},
   "source": [
    "### Weekly Logistics"
   ]
  },
  {
   "cell_type": "markdown",
   "id": "6a84f815",
   "metadata": {},
   "source": [
    "**Daily schedule — there will be at least one teacher available during these hours (minus the 🍽) to support you:**\n",
    "\n",
    "- 10:00-12:00 ☀ Morning encounter\n",
    "- 12:00-13:30 🍝 Lunch break\n",
    "- 13:30-16:00 ☕ Afternoon encounter\n",
    "- 16:00-18:00 ❓\"Floor\" / Q&A session\n",
    "\n",
    "\n",
    "**Before each encounter you should get an attendance link via Slack**\n",
    "\n",
    "**you can always check your schedule at https://spiced.space/euclidean-eukalyptus/\n",
    "\n",
    "**The first encounter of every week (except for week 1!, generally on Mondays at 10:00 is a project introduction)**\n",
    "\n",
    "**Each encounter should contribute to your project for the week or bring you closer to being able to do the project** \n",
    "\n",
    "**The last encounter of every week, generally on Fridays at 15:00 is a project review. During a project review you will give a 5-minute lightning talk. In most weeks topics will be posted for the lightning talk for you to choose**"
   ]
  },
  {
   "cell_type": "markdown",
   "id": "0f26e021",
   "metadata": {},
   "source": [
    "### How to graduate ?\n",
    "\n"
   ]
  },
  {
   "cell_type": "markdown",
   "id": "ea8bec13",
   "metadata": {},
   "source": [
    "1. Attend the lessons\n",
    "2. Submit 80% of the weekly projects to GitHub\n",
    "3. Present 80% of the weekly projects in front of your cohort\n",
    "4. Present your final project at the graduation\n",
    "5. Adhere to the Code of Conduct"
   ]
  },
  {
   "cell_type": "code",
   "execution_count": null,
   "id": "cfaf7be8",
   "metadata": {},
   "outputs": [],
   "source": []
  }
 ],
 "metadata": {
  "kernelspec": {
   "display_name": "Python 3",
   "language": "python",
   "name": "python3"
  },
  "language_info": {
   "codemirror_mode": {
    "name": "ipython",
    "version": 3
   },
   "file_extension": ".py",
   "mimetype": "text/x-python",
   "name": "python",
   "nbconvert_exporter": "python",
   "pygments_lexer": "ipython3",
   "version": "3.8.8"
  }
 },
 "nbformat": 4,
 "nbformat_minor": 5
}
