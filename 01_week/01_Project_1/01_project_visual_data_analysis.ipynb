{
 "cells": [
  {
   "cell_type": "markdown",
   "id": "0f741657",
   "metadata": {},
   "source": [
    "# Importing libraries"
   ]
  },
  {
   "cell_type": "code",
   "execution_count": 1,
   "id": "f9bb3285",
   "metadata": {},
   "outputs": [],
   "source": [
    "import pandas as pd\n",
    "import numpy as np\n",
    "import matplotlib.pyplot as plt\n",
    "import seaborn as sns"
   ]
  },
  {
   "cell_type": "markdown",
   "id": "f5573b5e",
   "metadata": {},
   "source": [
    "# Preparing DataFrames for Scatterplots"
   ]
  },
  {
   "cell_type": "code",
   "execution_count": 2,
   "id": "67ed3ae2",
   "metadata": {},
   "outputs": [],
   "source": [
    "fert = pd.read_csv('gapminder_total_fertility.csv', index_col=0)\n",
    "life = pd.read_excel('gapminder_lifeexpectancy.xlsx', index_col=0)\n",
    "pop = pd.read_excel('gapminder_population.xlsx',index_col=0)"
   ]
  },
  {
   "cell_type": "code",
   "execution_count": 3,
   "id": "fcc0dc8b",
   "metadata": {},
   "outputs": [],
   "source": [
    "fert.columns = fert.columns.astype(int)"
   ]
  },
  {
   "cell_type": "code",
   "execution_count": 4,
   "id": "3b4c6f24",
   "metadata": {},
   "outputs": [],
   "source": [
    "life.index.name = 'country'\n",
    "fert.index.name = 'country'\n",
    "pop.index.name = 'country'"
   ]
  },
  {
   "cell_type": "code",
   "execution_count": 5,
   "id": "a0c9a411",
   "metadata": {},
   "outputs": [],
   "source": [
    "fert = fert.reset_index()\n",
    "life = life.reset_index()\n",
    "pop = pop.reset_index()"
   ]
  },
  {
   "cell_type": "code",
   "execution_count": 6,
   "id": "c05d6040",
   "metadata": {},
   "outputs": [],
   "source": [
    "fert = pd.melt(fert\n",
    "               ,id_vars='country'\n",
    "                ,var_name='year'\n",
    "                  ,value_name='fertility'\n",
    "              )\n",
    "life = pd.melt(life\n",
    "               ,id_vars='country'\n",
    "                ,var_name='year'\n",
    "                  ,value_name='life_expectancy'\n",
    "              )\n",
    "pop = pd.melt(pop\n",
    "               ,id_vars='country'\n",
    "                ,var_name='year'\n",
    "                  ,value_name='population'\n",
    "              )"
   ]
  },
  {
   "cell_type": "code",
   "execution_count": 7,
   "id": "cf1d3374",
   "metadata": {},
   "outputs": [],
   "source": [
    "pop = pop.set_index('country')\n",
    "life = life.set_index('country')\n",
    "fert = fert.set_index('country')"
   ]
  },
  {
   "cell_type": "markdown",
   "id": "3f45701c",
   "metadata": {},
   "source": [
    "# Merging tables"
   ]
  },
  {
   "cell_type": "code",
   "execution_count": 8,
   "id": "5323b6ef",
   "metadata": {},
   "outputs": [],
   "source": [
    "df1 = fert.merge(life,on=['country','year'],how='inner')\n"
   ]
  },
  {
   "cell_type": "code",
   "execution_count": 9,
   "id": "8f471036",
   "metadata": {},
   "outputs": [],
   "source": [
    "df2 = df1.merge(pop,on=['country','year'],how='inner')"
   ]
  },
  {
   "cell_type": "code",
   "execution_count": 10,
   "id": "e2bcde81",
   "metadata": {},
   "outputs": [],
   "source": [
    "continents = pd.read_csv('continents.csv',sep=';')"
   ]
  },
  {
   "cell_type": "code",
   "execution_count": 11,
   "id": "fdb76344",
   "metadata": {},
   "outputs": [],
   "source": [
    "df3 = df2.merge(continents,on=['country'],how='inner')"
   ]
  },
  {
   "cell_type": "markdown",
   "id": "e3f97327",
   "metadata": {},
   "source": [
    "# Animated Scatterplot"
   ]
  },
  {
   "cell_type": "code",
   "execution_count": 14,
   "id": "58f6f744",
   "metadata": {},
   "outputs": [],
   "source": [
    "import seaborn as sns\n",
    "import matplotlib.pyplot as plt\n",
    "\n",
    "for i in range(1960,2016):\n",
    "    df_subset = df3.loc[df3['year'] == i]\n",
    "    fig, axis = plt.subplots(figsize=(15,10))\n",
    "    plt.title('Life expectancy vs. Fertility')\n",
    "    g = sns.scatterplot(x='life_expectancy'\n",
    "                    ,y='fertility'\n",
    "                    ,hue='continent'\n",
    "                    ,s=800\n",
    "                    ,data=df_subset\n",
    "                    ,alpha=0.4\n",
    "                    ,size='population'\n",
    "                    ,palette='dark'\n",
    "                    ,legend=True\n",
    "                    ,sizes=(100,500)\n",
    "                    ,ax=axis\n",
    "                   )\n",
    "    plt.axhline(y=df_subset['fertility'].mean(), color=\"black\", linestyle=\"--\")\n",
    "    plt.axvline(x=df_subset['life_expectancy'].mean(), color=\"black\", linestyle=\"--\")\n",
    "    plt.axis((4,90,1,10))     \n",
    "    h,l = g.get_legend_handles_labels()\n",
    "    plt.legend(h[0:5],l[0:5],bbox_to_anchor=(1,1),loc='upper right', borderaxespad=0.)\n",
    "#     plt.legend(title='Continents', loc='upper left', labels=['Asia','Europe','Africa'])\n",
    "    plt.savefig('scatterplots/'+'lifeexp'+str(i))\n",
    "    plt.close()"
   ]
  },
  {
   "cell_type": "code",
   "execution_count": 15,
   "id": "519d1a5e",
   "metadata": {},
   "outputs": [],
   "source": [
    "import imageio\n",
    "\n",
    "images = []\n",
    "\n",
    "for i in range(1960, 2016):\n",
    "    filename = 'scatterplots/lifeexp{i}.png'.format(i = str(i))\n",
    "    images.append(imageio.imread(filename))\n",
    "\n",
    "imageio.mimsave('output.gif', images, fps=20)\n"
   ]
  },
  {
   "cell_type": "markdown",
   "id": "ba0e945c",
   "metadata": {},
   "source": [
    "# Little Data Manipulation"
   ]
  },
  {
   "cell_type": "code",
   "execution_count": 28,
   "id": "a34e0e12",
   "metadata": {},
   "outputs": [
    {
     "data": {
      "text/plain": [
       "country\n",
       "Abkhazia                                               1800\n",
       "Afghanistan                                            1800\n",
       "Akrotiri and Dhekelia                                  1800\n",
       "Albania                                                1800\n",
       "Algeria                                                1800\n",
       "                                                   ...     \n",
       "Northern Marianas                               Unnamed: 91\n",
       "South Georgia and the South Sandwich Islands    Unnamed: 91\n",
       "US Minor Outlying Islands                       Unnamed: 91\n",
       "Virgin Islands                                  Unnamed: 91\n",
       "West Bank                                       Unnamed: 91\n",
       "Name: year, Length: 25025, dtype: object"
      ]
     },
     "execution_count": 28,
     "metadata": {},
     "output_type": "execute_result"
    }
   ],
   "source": [
    "pop['year']"
   ]
  },
  {
   "cell_type": "code",
   "execution_count": 29,
   "id": "7232eb29",
   "metadata": {},
   "outputs": [],
   "source": [
    "columns = pop['year']"
   ]
  },
  {
   "cell_type": "code",
   "execution_count": 30,
   "id": "fc750d0b",
   "metadata": {
    "scrolled": false
   },
   "outputs": [
    {
     "data": {
      "text/plain": [
       "country\n",
       "Northern Marianas                               Unnamed: 91\n",
       "South Georgia and the South Sandwich Islands    Unnamed: 91\n",
       "US Minor Outlying Islands                       Unnamed: 91\n",
       "Virgin Islands                                  Unnamed: 91\n",
       "West Bank                                       Unnamed: 91\n",
       "Name: year, dtype: object"
      ]
     },
     "execution_count": 30,
     "metadata": {},
     "output_type": "execute_result"
    }
   ],
   "source": [
    "columns.tail()"
   ]
  },
  {
   "cell_type": "code",
   "execution_count": null,
   "id": "c25370cb",
   "metadata": {},
   "outputs": [],
   "source": [
    "columns.str.startswith('U')"
   ]
  },
  {
   "cell_type": "code",
   "execution_count": 31,
   "id": "544bf69f",
   "metadata": {},
   "outputs": [
    {
     "name": "stderr",
     "output_type": "stream",
     "text": [
      "<ipython-input-31-db9b719cbcd1>:5: SettingWithCopyWarning: \n",
      "A value is trying to be set on a copy of a slice from a DataFrame\n",
      "\n",
      "See the caveats in the documentation: https://pandas.pydata.org/pandas-docs/stable/user_guide/indexing.html#returning-a-view-versus-a-copy\n",
      "  columns[j] = '19'+i[-2:]\n"
     ]
    },
    {
     "data": {
      "text/plain": [
       "country\n",
       "Northern Marianas                               1991\n",
       "South Georgia and the South Sandwich Islands    1991\n",
       "US Minor Outlying Islands                       1991\n",
       "Virgin Islands                                  1991\n",
       "West Bank                                       1991\n",
       "Name: year, dtype: object"
      ]
     },
     "execution_count": 31,
     "metadata": {},
     "output_type": "execute_result"
    }
   ],
   "source": [
    "j=0\n",
    "\n",
    "for i in columns:\n",
    "    if str(i).startswith('U') == True:\n",
    "        columns[j] = '19'+i[-2:]\n",
    "    j += 1        \n",
    "columns.tail()"
   ]
  },
  {
   "cell_type": "code",
   "execution_count": null,
   "id": "ba9c266b",
   "metadata": {},
   "outputs": [],
   "source": []
  }
 ],
 "metadata": {
  "kernelspec": {
   "display_name": "Python 3",
   "language": "python",
   "name": "python3"
  },
  "language_info": {
   "codemirror_mode": {
    "name": "ipython",
    "version": 3
   },
   "file_extension": ".py",
   "mimetype": "text/x-python",
   "name": "python",
   "nbconvert_exporter": "python",
   "pygments_lexer": "ipython3",
   "version": "3.8.8"
  }
 },
 "nbformat": 4,
 "nbformat_minor": 5
}
