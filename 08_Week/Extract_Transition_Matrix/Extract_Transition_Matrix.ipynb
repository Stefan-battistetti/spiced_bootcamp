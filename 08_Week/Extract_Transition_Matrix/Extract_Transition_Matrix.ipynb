{
 "cells": [
  {
   "cell_type": "code",
   "execution_count": 2,
   "metadata": {},
   "outputs": [],
   "source": [
    "import pandas as pd\n",
    "import seaborn as sns\n",
    "from matplotlib import pyplot as plt\n",
    "import random\n",
    "import numpy as np"
   ]
  },
  {
   "cell_type": "markdown",
   "metadata": {},
   "source": [
    "# Read the Data"
   ]
  },
  {
   "cell_type": "code",
   "execution_count": 3,
   "metadata": {},
   "outputs": [],
   "source": [
    "# read data\n",
    "monday=pd.read_csv('monday.csv', sep=';')\n",
    "tuesday=pd.read_csv('tuesday.csv', sep=';')\n",
    "wednesday=pd.read_csv('wednesday.csv', sep=';')\n",
    "thursday=pd.read_csv('thursday.csv', sep=';')\n",
    "friday=pd.read_csv('friday.csv', sep=';')\n"
   ]
  },
  {
   "cell_type": "markdown",
   "metadata": {},
   "source": [
    "# Define a class for repetative pre-processing"
   ]
  },
  {
   "cell_type": "code",
   "execution_count": 4,
   "metadata": {},
   "outputs": [],
   "source": [
    "class dframe:\n",
    "    def df(day, name):\n",
    "        day['timestamp'] = pd.to_datetime(day['timestamp'])\n",
    "        day.sort_values(by=['customer_no', 'timestamp'], ascending=True, inplace=True)\n",
    "        day['customer_id'] = name + day['customer_no'].astype(str)\n",
    "        day.set_index('timestamp', inplace=True)\n",
    "        day = day.groupby('customer_no').resample('1T').first()\n",
    "        day.fillna(method=\"ffill\", inplace=True)\n",
    "        day.reset_index(drop=True, inplace=True)\n",
    "        day['state_shift']=day['location'].shift(-1)\n",
    "        day.rename(columns={'location': 'before', 'state_shift': 'after'}, inplace=True)\n",
    "        day['after'].loc[(day['before'] == 'checkout')] = 'checkout'\n",
    "\n",
    "        return day       "
   ]
  },
  {
   "cell_type": "markdown",
   "metadata": {},
   "source": [
    "# Make an instance to generate data frames and concatenation"
   ]
  },
  {
   "cell_type": "code",
   "execution_count": 5,
   "metadata": {},
   "outputs": [
    {
     "name": "stderr",
     "output_type": "stream",
     "text": [
      "/Users/Disalo/opt/anaconda3/lib/python3.9/site-packages/pandas/core/indexing.py:1732: SettingWithCopyWarning: \n",
      "A value is trying to be set on a copy of a slice from a DataFrame\n",
      "\n",
      "See the caveats in the documentation: https://pandas.pydata.org/pandas-docs/stable/user_guide/indexing.html#returning-a-view-versus-a-copy\n",
      "  self._setitem_single_block(indexer, value, name)\n"
     ]
    }
   ],
   "source": [
    "resampled = dframe\n",
    "monday = resampled.df(monday, 'm')\n",
    "tuesday = resampled.df(tuesday, 'tu')\n",
    "wednesday = resampled.df(wednesday, 'w')\n",
    "thursday = resampled.df(thursday, 'th')\n",
    "friday = resampled.df(friday, 'f')"
   ]
  },
  {
   "cell_type": "code",
   "execution_count": 6,
   "metadata": {},
   "outputs": [
    {
     "name": "stdout",
     "output_type": "stream",
     "text": [
      "(53903, 4)\n"
     ]
    },
    {
     "data": {
      "text/html": [
       "<div>\n",
       "<style scoped>\n",
       "    .dataframe tbody tr th:only-of-type {\n",
       "        vertical-align: middle;\n",
       "    }\n",
       "\n",
       "    .dataframe tbody tr th {\n",
       "        vertical-align: top;\n",
       "    }\n",
       "\n",
       "    .dataframe thead th {\n",
       "        text-align: right;\n",
       "    }\n",
       "</style>\n",
       "<table border=\"1\" class=\"dataframe\">\n",
       "  <thead>\n",
       "    <tr style=\"text-align: right;\">\n",
       "      <th></th>\n",
       "      <th>customer_no</th>\n",
       "      <th>before</th>\n",
       "      <th>customer_id</th>\n",
       "      <th>after</th>\n",
       "    </tr>\n",
       "  </thead>\n",
       "  <tbody>\n",
       "    <tr>\n",
       "      <th>0</th>\n",
       "      <td>1.0</td>\n",
       "      <td>dairy</td>\n",
       "      <td>m1</td>\n",
       "      <td>dairy</td>\n",
       "    </tr>\n",
       "    <tr>\n",
       "      <th>1</th>\n",
       "      <td>1.0</td>\n",
       "      <td>dairy</td>\n",
       "      <td>m1</td>\n",
       "      <td>checkout</td>\n",
       "    </tr>\n",
       "    <tr>\n",
       "      <th>2</th>\n",
       "      <td>1.0</td>\n",
       "      <td>checkout</td>\n",
       "      <td>m1</td>\n",
       "      <td>checkout</td>\n",
       "    </tr>\n",
       "    <tr>\n",
       "      <th>3</th>\n",
       "      <td>2.0</td>\n",
       "      <td>dairy</td>\n",
       "      <td>m2</td>\n",
       "      <td>dairy</td>\n",
       "    </tr>\n",
       "    <tr>\n",
       "      <th>4</th>\n",
       "      <td>2.0</td>\n",
       "      <td>dairy</td>\n",
       "      <td>m2</td>\n",
       "      <td>dairy</td>\n",
       "    </tr>\n",
       "  </tbody>\n",
       "</table>\n",
       "</div>"
      ],
      "text/plain": [
       "   customer_no    before customer_id     after\n",
       "0          1.0     dairy          m1     dairy\n",
       "1          1.0     dairy          m1  checkout\n",
       "2          1.0  checkout          m1  checkout\n",
       "3          2.0     dairy          m2     dairy\n",
       "4          2.0     dairy          m2     dairy"
      ]
     },
     "execution_count": 6,
     "metadata": {},
     "output_type": "execute_result"
    }
   ],
   "source": [
    "frames=[monday, tuesday , wednesday , thursday ,friday]\n",
    "df = pd.concat(frames, ignore_index=True)\n",
    "print(df.shape)\n",
    "df.head()"
   ]
  },
  {
   "cell_type": "markdown",
   "metadata": {},
   "source": [
    "# Declare possible states in a list"
   ]
  },
  {
   "cell_type": "code",
   "execution_count": 7,
   "metadata": {},
   "outputs": [],
   "source": [
    "possible_states = ['checkout', 'dairy', 'drinks', 'fruit', 'spices']"
   ]
  },
  {
   "cell_type": "markdown",
   "metadata": {},
   "source": [
    "# Extract transition matrix"
   ]
  },
  {
   "cell_type": "code",
   "execution_count": 8,
   "metadata": {},
   "outputs": [],
   "source": [
    "transition_matrix=pd.crosstab(df['before'],df['after'],normalize=0)"
   ]
  },
  {
   "cell_type": "code",
   "execution_count": 9,
   "metadata": {},
   "outputs": [
    {
     "data": {
      "text/html": [
       "<div>\n",
       "<style scoped>\n",
       "    .dataframe tbody tr th:only-of-type {\n",
       "        vertical-align: middle;\n",
       "    }\n",
       "\n",
       "    .dataframe tbody tr th {\n",
       "        vertical-align: top;\n",
       "    }\n",
       "\n",
       "    .dataframe thead th {\n",
       "        text-align: right;\n",
       "    }\n",
       "</style>\n",
       "<table border=\"1\" class=\"dataframe\">\n",
       "  <thead>\n",
       "    <tr style=\"text-align: right;\">\n",
       "      <th>after</th>\n",
       "      <th>checkout</th>\n",
       "      <th>dairy</th>\n",
       "      <th>drinks</th>\n",
       "      <th>fruit</th>\n",
       "      <th>spices</th>\n",
       "    </tr>\n",
       "    <tr>\n",
       "      <th>before</th>\n",
       "      <th></th>\n",
       "      <th></th>\n",
       "      <th></th>\n",
       "      <th></th>\n",
       "      <th></th>\n",
       "    </tr>\n",
       "  </thead>\n",
       "  <tbody>\n",
       "    <tr>\n",
       "      <th>checkout</th>\n",
       "      <td>1.000000</td>\n",
       "      <td>0.000000</td>\n",
       "      <td>0.000000</td>\n",
       "      <td>0.000000</td>\n",
       "      <td>0.000000</td>\n",
       "    </tr>\n",
       "    <tr>\n",
       "      <th>dairy</th>\n",
       "      <td>0.102684</td>\n",
       "      <td>0.737129</td>\n",
       "      <td>0.058628</td>\n",
       "      <td>0.050076</td>\n",
       "      <td>0.051483</td>\n",
       "    </tr>\n",
       "    <tr>\n",
       "      <th>drinks</th>\n",
       "      <td>0.215505</td>\n",
       "      <td>0.010899</td>\n",
       "      <td>0.598499</td>\n",
       "      <td>0.088012</td>\n",
       "      <td>0.087086</td>\n",
       "    </tr>\n",
       "    <tr>\n",
       "      <th>fruit</th>\n",
       "      <td>0.201070</td>\n",
       "      <td>0.095931</td>\n",
       "      <td>0.055166</td>\n",
       "      <td>0.597151</td>\n",
       "      <td>0.050681</td>\n",
       "    </tr>\n",
       "    <tr>\n",
       "      <th>spices</th>\n",
       "      <td>0.149912</td>\n",
       "      <td>0.193564</td>\n",
       "      <td>0.163135</td>\n",
       "      <td>0.091126</td>\n",
       "      <td>0.402262</td>\n",
       "    </tr>\n",
       "  </tbody>\n",
       "</table>\n",
       "</div>"
      ],
      "text/plain": [
       "after     checkout     dairy    drinks     fruit    spices\n",
       "before                                                    \n",
       "checkout  1.000000  0.000000  0.000000  0.000000  0.000000\n",
       "dairy     0.102684  0.737129  0.058628  0.050076  0.051483\n",
       "drinks    0.215505  0.010899  0.598499  0.088012  0.087086\n",
       "fruit     0.201070  0.095931  0.055166  0.597151  0.050681\n",
       "spices    0.149912  0.193564  0.163135  0.091126  0.402262"
      ]
     },
     "execution_count": 9,
     "metadata": {},
     "output_type": "execute_result"
    }
   ],
   "source": [
    "transition_matrix"
   ]
  },
  {
   "cell_type": "markdown",
   "metadata": {},
   "source": [
    "# Save transition matrix as .CSV file"
   ]
  },
  {
   "cell_type": "code",
   "execution_count": 10,
   "metadata": {},
   "outputs": [],
   "source": [
    "transition_matrix.to_csv('transition_matrix.csv')"
   ]
  }
 ],
 "metadata": {
  "interpreter": {
   "hash": "11491cefcefdbe91aab19f0e9582e21f8f03bb118652228e97f8105a4e693e42"
  },
  "kernelspec": {
   "display_name": "Python 3.8.8 64-bit ('base': conda)",
   "language": "python",
   "name": "python3"
  },
  "language_info": {
   "codemirror_mode": {
    "name": "ipython",
    "version": 3
   },
   "file_extension": ".py",
   "mimetype": "text/x-python",
   "name": "python",
   "nbconvert_exporter": "python",
   "pygments_lexer": "ipython3",
   "version": "3.9.7"
  },
  "orig_nbformat": 4
 },
 "nbformat": 4,
 "nbformat_minor": 2
}
