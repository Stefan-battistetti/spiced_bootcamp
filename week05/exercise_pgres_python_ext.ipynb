{
 "cells": [
  {
   "cell_type": "markdown",
   "metadata": {},
   "source": [
    "### Exercises"
   ]
  },
  {
   "cell_type": "markdown",
   "metadata": {},
   "source": [
    "1. Load the first 3 suppliers from the database to pandas and print the result\n",
    "2. Load data from a CSV file to the database (pick your choice of data)\n",
    "3. postgres -> pandas -> postgres\n",
    "    - Load a table from the database to pandas\n",
    "    - Add a new column that is based from an old column\n",
    "    - Save the modified table to a new table name in postgres"
   ]
  },
  {
   "cell_type": "code",
   "execution_count": 73,
   "metadata": {},
   "outputs": [
    {
     "name": "stdout",
     "output_type": "stream",
     "text": [
      "Requirement already satisfied: SQLAlchemy in /Users/kashi/opt/anaconda3/lib/python3.8/site-packages (1.4.7)\n",
      "Requirement already satisfied: greenlet!=0.4.17 in /Users/kashi/opt/anaconda3/lib/python3.8/site-packages (from SQLAlchemy) (1.0.0)\n"
     ]
    }
   ],
   "source": [
    "!pip install SQLAlchemy"
   ]
  },
  {
   "cell_type": "markdown",
   "metadata": {},
   "source": [
    "Might need to install these.\n"
   ]
  },
  {
   "cell_type": "code",
   "execution_count": 74,
   "metadata": {},
   "outputs": [
    {
     "name": "stdout",
     "output_type": "stream",
     "text": [
      "Requirement already satisfied: psycopg2 in /Users/kashi/opt/anaconda3/lib/python3.8/site-packages (2.9.3)\n",
      "Requirement already satisfied: psycopg2-binary in /Users/kashi/opt/anaconda3/lib/python3.8/site-packages (2.9.3)\n"
     ]
    }
   ],
   "source": [
    "!pip install psycopg2\n",
    "!pip install psycopg2-binary"
   ]
  },
  {
   "cell_type": "code",
   "execution_count": 75,
   "metadata": {},
   "outputs": [],
   "source": [
    "from sqlalchemy import create_engine\n",
    "import psycopg2\n",
    "import pandas as pd\n"
   ]
  },
  {
   "cell_type": "code",
   "execution_count": 76,
   "metadata": {},
   "outputs": [],
   "source": [
    "HOST = 'localhost'\n",
    "PORT = '5432'\n",
    "USERNAME = 'azadeh'\n",
    "PASSWORD = '' \n",
    "DB = 'northwind'"
   ]
  },
  {
   "cell_type": "code",
   "execution_count": 77,
   "metadata": {},
   "outputs": [],
   "source": [
    "conn_string = f'postgresql+psycopg2://{USERNAME}:{PASSWORD}@{HOST}:{PORT}/{DB}'\n",
    "\n",
    "conn_string_mac = f'postgresql+psycopg2://{HOST}:{PORT}/{DB}'"
   ]
  },
  {
   "cell_type": "code",
   "execution_count": 78,
   "metadata": {},
   "outputs": [
    {
     "data": {
      "text/plain": [
       "'postgresql+psycopg2://localhost:5432/northwind'"
      ]
     },
     "execution_count": 78,
     "metadata": {},
     "output_type": "execute_result"
    }
   ],
   "source": [
    "conn_string_mac"
   ]
  },
  {
   "cell_type": "code",
   "execution_count": 79,
   "metadata": {},
   "outputs": [],
   "source": [
    "engine = create_engine(conn_string_mac)"
   ]
  },
  {
   "cell_type": "markdown",
   "metadata": {},
   "source": [
    "1. Load the first 3 suppliers from the database to pandas and print the result"
   ]
  },
  {
   "cell_type": "code",
   "execution_count": 80,
   "metadata": {},
   "outputs": [
    {
     "data": {
      "text/html": [
       "<div>\n",
       "<style scoped>\n",
       "    .dataframe tbody tr th:only-of-type {\n",
       "        vertical-align: middle;\n",
       "    }\n",
       "\n",
       "    .dataframe tbody tr th {\n",
       "        vertical-align: top;\n",
       "    }\n",
       "\n",
       "    .dataframe thead th {\n",
       "        text-align: right;\n",
       "    }\n",
       "</style>\n",
       "<table border=\"1\" class=\"dataframe\">\n",
       "  <thead>\n",
       "    <tr style=\"text-align: right;\">\n",
       "      <th></th>\n",
       "      <th>supplierid</th>\n",
       "      <th>companyname</th>\n",
       "      <th>contactname</th>\n",
       "      <th>contacttitle</th>\n",
       "      <th>address</th>\n",
       "      <th>city</th>\n",
       "      <th>region</th>\n",
       "      <th>postalcode</th>\n",
       "      <th>country</th>\n",
       "      <th>phone</th>\n",
       "      <th>fax</th>\n",
       "      <th>homepage</th>\n",
       "    </tr>\n",
       "  </thead>\n",
       "  <tbody>\n",
       "    <tr>\n",
       "      <th>0</th>\n",
       "      <td>1</td>\n",
       "      <td>Exotic Liquids</td>\n",
       "      <td>Charlotte Cooper</td>\n",
       "      <td>Purchasing Manager</td>\n",
       "      <td>49 Gilbert St.</td>\n",
       "      <td>London</td>\n",
       "      <td>None</td>\n",
       "      <td>EC1 4SD</td>\n",
       "      <td>UK</td>\n",
       "      <td>(171) 555-2222</td>\n",
       "      <td>None</td>\n",
       "      <td>None</td>\n",
       "    </tr>\n",
       "    <tr>\n",
       "      <th>1</th>\n",
       "      <td>2</td>\n",
       "      <td>New Orleans Cajun Delights</td>\n",
       "      <td>Shelley Burke</td>\n",
       "      <td>Order Administrator</td>\n",
       "      <td>P.O. Box 78934</td>\n",
       "      <td>New Orleans</td>\n",
       "      <td>LA</td>\n",
       "      <td>70117</td>\n",
       "      <td>USA</td>\n",
       "      <td>(100) 555-4822</td>\n",
       "      <td>None</td>\n",
       "      <td>#CAJUN.HTM#</td>\n",
       "    </tr>\n",
       "    <tr>\n",
       "      <th>2</th>\n",
       "      <td>3</td>\n",
       "      <td>Grandma Kelly's Homestead</td>\n",
       "      <td>Regina Murphy</td>\n",
       "      <td>Sales Representative</td>\n",
       "      <td>707 Oxford Rd.</td>\n",
       "      <td>Ann Arbor</td>\n",
       "      <td>MI</td>\n",
       "      <td>48104</td>\n",
       "      <td>USA</td>\n",
       "      <td>(313) 555-5735</td>\n",
       "      <td>(313) 555-3349</td>\n",
       "      <td>None</td>\n",
       "    </tr>\n",
       "  </tbody>\n",
       "</table>\n",
       "</div>"
      ],
      "text/plain": [
       "  supplierid                 companyname       contactname  \\\n",
       "0          1              Exotic Liquids  Charlotte Cooper   \n",
       "1          2  New Orleans Cajun Delights     Shelley Burke   \n",
       "2          3   Grandma Kelly's Homestead     Regina Murphy   \n",
       "\n",
       "           contacttitle         address         city region postalcode  \\\n",
       "0    Purchasing Manager  49 Gilbert St.       London   None    EC1 4SD   \n",
       "1   Order Administrator  P.O. Box 78934  New Orleans     LA      70117   \n",
       "2  Sales Representative  707 Oxford Rd.    Ann Arbor     MI      48104   \n",
       "\n",
       "  country           phone             fax     homepage  \n",
       "0      UK  (171) 555-2222            None         None  \n",
       "1     USA  (100) 555-4822            None  #CAJUN.HTM#  \n",
       "2     USA  (313) 555-5735  (313) 555-3349         None  "
      ]
     },
     "execution_count": 80,
     "metadata": {},
     "output_type": "execute_result"
    }
   ],
   "source": [
    "query6=\"SELECT * FROM suppliers LIMIT 3\"\n",
    "first_3suppliers = pd.read_sql(query6, engine)\n",
    "first_3suppliers.head()"
   ]
  },
  {
   "cell_type": "markdown",
   "metadata": {},
   "source": [
    "2. Load data from a CSV file to the database (pick your choice of data)"
   ]
  },
  {
   "cell_type": "code",
   "execution_count": 82,
   "metadata": {},
   "outputs": [],
   "source": [
    "new_table = pd.read_csv('order_details.csv')\n",
    "new_table.to_sql('order_details_new', engine)"
   ]
  },
  {
   "cell_type": "markdown",
   "metadata": {},
   "source": [
    "3. postgres -> pandas -> postgres\n",
    "    - Load a table from the database to pandas\n",
    "    - Add a new column that is based from an old column\n",
    "    - Save the modified table to a new table name in postgres"
   ]
  },
  {
   "cell_type": "code",
   "execution_count": 83,
   "metadata": {},
   "outputs": [
    {
     "data": {
      "text/html": [
       "<div>\n",
       "<style scoped>\n",
       "    .dataframe tbody tr th:only-of-type {\n",
       "        vertical-align: middle;\n",
       "    }\n",
       "\n",
       "    .dataframe tbody tr th {\n",
       "        vertical-align: top;\n",
       "    }\n",
       "\n",
       "    .dataframe thead th {\n",
       "        text-align: right;\n",
       "    }\n",
       "</style>\n",
       "<table border=\"1\" class=\"dataframe\">\n",
       "  <thead>\n",
       "    <tr style=\"text-align: right;\">\n",
       "      <th></th>\n",
       "      <th>employeeid</th>\n",
       "      <th>lastname</th>\n",
       "      <th>firstname</th>\n",
       "      <th>title</th>\n",
       "      <th>titleofcourtesy</th>\n",
       "      <th>birthdate</th>\n",
       "      <th>hiredate</th>\n",
       "      <th>address</th>\n",
       "      <th>city</th>\n",
       "      <th>region</th>\n",
       "      <th>postalcode</th>\n",
       "      <th>country</th>\n",
       "      <th>homephone</th>\n",
       "      <th>extension</th>\n",
       "      <th>photo</th>\n",
       "      <th>notes</th>\n",
       "      <th>reportsto</th>\n",
       "      <th>photopath</th>\n",
       "    </tr>\n",
       "  </thead>\n",
       "  <tbody>\n",
       "    <tr>\n",
       "      <th>0</th>\n",
       "      <td>1</td>\n",
       "      <td>Davolio</td>\n",
       "      <td>Nancy</td>\n",
       "      <td>Sales Representative</td>\n",
       "      <td>Ms.</td>\n",
       "      <td>1948-12-08 00:00:00.000</td>\n",
       "      <td>1992-05-01 00:00:00.000</td>\n",
       "      <td>507 20th Ave. E. Apt. 2A</td>\n",
       "      <td>Seattle</td>\n",
       "      <td>WA</td>\n",
       "      <td>98122</td>\n",
       "      <td>USA</td>\n",
       "      <td>(206) 555-9857</td>\n",
       "      <td>5467</td>\n",
       "      <td>0x151C2F00020000000D000E0014002100FFFFFFFF4269...</td>\n",
       "      <td>Education includes a BA in psychology from Col...</td>\n",
       "      <td>2.0</td>\n",
       "      <td>http://accweb/emmployees/davolio.bmp</td>\n",
       "    </tr>\n",
       "    <tr>\n",
       "      <th>1</th>\n",
       "      <td>2</td>\n",
       "      <td>Fuller</td>\n",
       "      <td>Andrew</td>\n",
       "      <td>Vice President Sales</td>\n",
       "      <td>Dr.</td>\n",
       "      <td>1952-02-19 00:00:00.000</td>\n",
       "      <td>1992-08-14 00:00:00.000</td>\n",
       "      <td>908 W. Capital Way</td>\n",
       "      <td>Tacoma</td>\n",
       "      <td>WA</td>\n",
       "      <td>98401</td>\n",
       "      <td>USA</td>\n",
       "      <td>(206) 555-9482</td>\n",
       "      <td>3457</td>\n",
       "      <td>0x151C2F00020000000D000E0014002100FFFFFFFF4269...</td>\n",
       "      <td>Andrew received his BTS commercial in 1974 and...</td>\n",
       "      <td>NaN</td>\n",
       "      <td>http://accweb/emmployees/fuller.bmp</td>\n",
       "    </tr>\n",
       "    <tr>\n",
       "      <th>2</th>\n",
       "      <td>3</td>\n",
       "      <td>Leverling</td>\n",
       "      <td>Janet</td>\n",
       "      <td>Sales Representative</td>\n",
       "      <td>Ms.</td>\n",
       "      <td>1963-08-30 00:00:00.000</td>\n",
       "      <td>1992-04-01 00:00:00.000</td>\n",
       "      <td>722 Moss Bay Blvd.</td>\n",
       "      <td>Kirkland</td>\n",
       "      <td>WA</td>\n",
       "      <td>98033</td>\n",
       "      <td>USA</td>\n",
       "      <td>(206) 555-3412</td>\n",
       "      <td>3355</td>\n",
       "      <td>0x151C2F00020000000D000E0014002100FFFFFFFF4269...</td>\n",
       "      <td>Janet has a BS degree in chemistry from Boston...</td>\n",
       "      <td>2.0</td>\n",
       "      <td>http://accweb/emmployees/leverling.bmp</td>\n",
       "    </tr>\n",
       "    <tr>\n",
       "      <th>3</th>\n",
       "      <td>4</td>\n",
       "      <td>Peacock</td>\n",
       "      <td>Margaret</td>\n",
       "      <td>Sales Representative</td>\n",
       "      <td>Mrs.</td>\n",
       "      <td>1937-09-19 00:00:00.000</td>\n",
       "      <td>1993-05-03 00:00:00.000</td>\n",
       "      <td>4110 Old Redmond Rd.</td>\n",
       "      <td>Redmond</td>\n",
       "      <td>WA</td>\n",
       "      <td>98052</td>\n",
       "      <td>USA</td>\n",
       "      <td>(206) 555-8122</td>\n",
       "      <td>5176</td>\n",
       "      <td>0x151C2F00020000000D000E0014002100FFFFFFFF4269...</td>\n",
       "      <td>Margaret holds a BA in English literature from...</td>\n",
       "      <td>2.0</td>\n",
       "      <td>http://accweb/emmployees/peacock.bmp</td>\n",
       "    </tr>\n",
       "    <tr>\n",
       "      <th>4</th>\n",
       "      <td>5</td>\n",
       "      <td>Buchanan</td>\n",
       "      <td>Steven</td>\n",
       "      <td>Sales Manager</td>\n",
       "      <td>Mr.</td>\n",
       "      <td>1955-03-04 00:00:00.000</td>\n",
       "      <td>1993-10-17 00:00:00.000</td>\n",
       "      <td>14 Garrett Hill</td>\n",
       "      <td>London</td>\n",
       "      <td>None</td>\n",
       "      <td>SW1 8JR</td>\n",
       "      <td>UK</td>\n",
       "      <td>(71) 555-4848</td>\n",
       "      <td>3453</td>\n",
       "      <td>0x151C2F00020000000D000E0014002100FFFFFFFF4269...</td>\n",
       "      <td>Steven Buchanan graduated from St. Andrews Uni...</td>\n",
       "      <td>2.0</td>\n",
       "      <td>http://accweb/emmployees/buchanan.bmp</td>\n",
       "    </tr>\n",
       "  </tbody>\n",
       "</table>\n",
       "</div>"
      ],
      "text/plain": [
       "   employeeid   lastname firstname                 title titleofcourtesy  \\\n",
       "0           1    Davolio     Nancy  Sales Representative             Ms.   \n",
       "1           2     Fuller    Andrew  Vice President Sales             Dr.   \n",
       "2           3  Leverling     Janet  Sales Representative             Ms.   \n",
       "3           4    Peacock  Margaret  Sales Representative            Mrs.   \n",
       "4           5   Buchanan    Steven         Sales Manager             Mr.   \n",
       "\n",
       "                 birthdate                 hiredate                   address  \\\n",
       "0  1948-12-08 00:00:00.000  1992-05-01 00:00:00.000  507 20th Ave. E. Apt. 2A   \n",
       "1  1952-02-19 00:00:00.000  1992-08-14 00:00:00.000        908 W. Capital Way   \n",
       "2  1963-08-30 00:00:00.000  1992-04-01 00:00:00.000        722 Moss Bay Blvd.   \n",
       "3  1937-09-19 00:00:00.000  1993-05-03 00:00:00.000      4110 Old Redmond Rd.   \n",
       "4  1955-03-04 00:00:00.000  1993-10-17 00:00:00.000           14 Garrett Hill   \n",
       "\n",
       "       city region postalcode country       homephone  extension  \\\n",
       "0   Seattle     WA      98122     USA  (206) 555-9857       5467   \n",
       "1    Tacoma     WA      98401     USA  (206) 555-9482       3457   \n",
       "2  Kirkland     WA      98033     USA  (206) 555-3412       3355   \n",
       "3   Redmond     WA      98052     USA  (206) 555-8122       5176   \n",
       "4    London   None    SW1 8JR      UK   (71) 555-4848       3453   \n",
       "\n",
       "                                               photo  \\\n",
       "0  0x151C2F00020000000D000E0014002100FFFFFFFF4269...   \n",
       "1  0x151C2F00020000000D000E0014002100FFFFFFFF4269...   \n",
       "2  0x151C2F00020000000D000E0014002100FFFFFFFF4269...   \n",
       "3  0x151C2F00020000000D000E0014002100FFFFFFFF4269...   \n",
       "4  0x151C2F00020000000D000E0014002100FFFFFFFF4269...   \n",
       "\n",
       "                                               notes  reportsto  \\\n",
       "0  Education includes a BA in psychology from Col...        2.0   \n",
       "1  Andrew received his BTS commercial in 1974 and...        NaN   \n",
       "2  Janet has a BS degree in chemistry from Boston...        2.0   \n",
       "3  Margaret holds a BA in English literature from...        2.0   \n",
       "4  Steven Buchanan graduated from St. Andrews Uni...        2.0   \n",
       "\n",
       "                                photopath  \n",
       "0    http://accweb/emmployees/davolio.bmp  \n",
       "1     http://accweb/emmployees/fuller.bmp  \n",
       "2  http://accweb/emmployees/leverling.bmp  \n",
       "3    http://accweb/emmployees/peacock.bmp  \n",
       "4   http://accweb/emmployees/buchanan.bmp  "
      ]
     },
     "execution_count": 83,
     "metadata": {},
     "output_type": "execute_result"
    }
   ],
   "source": [
    "query7=\"SELECT * FROM employees\"\n",
    "employees = pd.read_sql(query7, engine)\n",
    "employees.head()"
   ]
  },
  {
   "cell_type": "code",
   "execution_count": 84,
   "metadata": {},
   "outputs": [
    {
     "data": {
      "text/plain": [
       "pandas.core.series.Series"
      ]
     },
     "execution_count": 84,
     "metadata": {},
     "output_type": "execute_result"
    }
   ],
   "source": [
    "type(employees['birthdate'])"
   ]
  },
  {
   "cell_type": "code",
   "execution_count": 85,
   "metadata": {},
   "outputs": [
    {
     "data": {
      "text/plain": [
       "[datetime.datetime(1948, 12, 8, 0, 0),\n",
       " datetime.datetime(1952, 2, 19, 0, 0),\n",
       " datetime.datetime(1963, 8, 30, 0, 0),\n",
       " datetime.datetime(1937, 9, 19, 0, 0),\n",
       " datetime.datetime(1955, 3, 4, 0, 0),\n",
       " datetime.datetime(1963, 7, 2, 0, 0),\n",
       " datetime.datetime(1960, 5, 29, 0, 0),\n",
       " datetime.datetime(1958, 1, 9, 0, 0),\n",
       " datetime.datetime(1966, 1, 27, 0, 0)]"
      ]
     },
     "execution_count": 85,
     "metadata": {},
     "output_type": "execute_result"
    }
   ],
   "source": [
    "var =[]\n",
    "for time in employees['birthdate']:\n",
    "    date_time_obj = datetime.datetime.strptime(time, '%Y-%m-%d %H:%M:%S.%f')\n",
    "    var.append(date_time_obj)\n",
    "var"
   ]
  },
  {
   "cell_type": "code",
   "execution_count": 86,
   "metadata": {},
   "outputs": [],
   "source": [
    "from datetime import datetime\n",
    "\n",
    "currentYear = datetime.now().year\n",
    "\n",
    "age = []\n",
    "i=0\n",
    "for i in range(i,len(var)):\n",
    "   age1= currentYear - var[i].timetuple().tm_year\n",
    "   age.append(age1)"
   ]
  },
  {
   "cell_type": "code",
   "execution_count": 87,
   "metadata": {},
   "outputs": [],
   "source": [
    "employees['age']=age"
   ]
  },
  {
   "cell_type": "code",
   "execution_count": 88,
   "metadata": {},
   "outputs": [
    {
     "data": {
      "text/html": [
       "<div>\n",
       "<style scoped>\n",
       "    .dataframe tbody tr th:only-of-type {\n",
       "        vertical-align: middle;\n",
       "    }\n",
       "\n",
       "    .dataframe tbody tr th {\n",
       "        vertical-align: top;\n",
       "    }\n",
       "\n",
       "    .dataframe thead th {\n",
       "        text-align: right;\n",
       "    }\n",
       "</style>\n",
       "<table border=\"1\" class=\"dataframe\">\n",
       "  <thead>\n",
       "    <tr style=\"text-align: right;\">\n",
       "      <th></th>\n",
       "      <th>employeeid</th>\n",
       "      <th>lastname</th>\n",
       "      <th>firstname</th>\n",
       "      <th>title</th>\n",
       "      <th>titleofcourtesy</th>\n",
       "      <th>birthdate</th>\n",
       "      <th>hiredate</th>\n",
       "      <th>address</th>\n",
       "      <th>city</th>\n",
       "      <th>region</th>\n",
       "      <th>postalcode</th>\n",
       "      <th>country</th>\n",
       "      <th>homephone</th>\n",
       "      <th>extension</th>\n",
       "      <th>photo</th>\n",
       "      <th>notes</th>\n",
       "      <th>reportsto</th>\n",
       "      <th>photopath</th>\n",
       "      <th>age</th>\n",
       "    </tr>\n",
       "  </thead>\n",
       "  <tbody>\n",
       "    <tr>\n",
       "      <th>0</th>\n",
       "      <td>1</td>\n",
       "      <td>Davolio</td>\n",
       "      <td>Nancy</td>\n",
       "      <td>Sales Representative</td>\n",
       "      <td>Ms.</td>\n",
       "      <td>1948-12-08 00:00:00.000</td>\n",
       "      <td>1992-05-01 00:00:00.000</td>\n",
       "      <td>507 20th Ave. E. Apt. 2A</td>\n",
       "      <td>Seattle</td>\n",
       "      <td>WA</td>\n",
       "      <td>98122</td>\n",
       "      <td>USA</td>\n",
       "      <td>(206) 555-9857</td>\n",
       "      <td>5467</td>\n",
       "      <td>0x151C2F00020000000D000E0014002100FFFFFFFF4269...</td>\n",
       "      <td>Education includes a BA in psychology from Col...</td>\n",
       "      <td>2.0</td>\n",
       "      <td>http://accweb/emmployees/davolio.bmp</td>\n",
       "      <td>74</td>\n",
       "    </tr>\n",
       "    <tr>\n",
       "      <th>1</th>\n",
       "      <td>2</td>\n",
       "      <td>Fuller</td>\n",
       "      <td>Andrew</td>\n",
       "      <td>Vice President Sales</td>\n",
       "      <td>Dr.</td>\n",
       "      <td>1952-02-19 00:00:00.000</td>\n",
       "      <td>1992-08-14 00:00:00.000</td>\n",
       "      <td>908 W. Capital Way</td>\n",
       "      <td>Tacoma</td>\n",
       "      <td>WA</td>\n",
       "      <td>98401</td>\n",
       "      <td>USA</td>\n",
       "      <td>(206) 555-9482</td>\n",
       "      <td>3457</td>\n",
       "      <td>0x151C2F00020000000D000E0014002100FFFFFFFF4269...</td>\n",
       "      <td>Andrew received his BTS commercial in 1974 and...</td>\n",
       "      <td>NaN</td>\n",
       "      <td>http://accweb/emmployees/fuller.bmp</td>\n",
       "      <td>70</td>\n",
       "    </tr>\n",
       "    <tr>\n",
       "      <th>2</th>\n",
       "      <td>3</td>\n",
       "      <td>Leverling</td>\n",
       "      <td>Janet</td>\n",
       "      <td>Sales Representative</td>\n",
       "      <td>Ms.</td>\n",
       "      <td>1963-08-30 00:00:00.000</td>\n",
       "      <td>1992-04-01 00:00:00.000</td>\n",
       "      <td>722 Moss Bay Blvd.</td>\n",
       "      <td>Kirkland</td>\n",
       "      <td>WA</td>\n",
       "      <td>98033</td>\n",
       "      <td>USA</td>\n",
       "      <td>(206) 555-3412</td>\n",
       "      <td>3355</td>\n",
       "      <td>0x151C2F00020000000D000E0014002100FFFFFFFF4269...</td>\n",
       "      <td>Janet has a BS degree in chemistry from Boston...</td>\n",
       "      <td>2.0</td>\n",
       "      <td>http://accweb/emmployees/leverling.bmp</td>\n",
       "      <td>59</td>\n",
       "    </tr>\n",
       "    <tr>\n",
       "      <th>3</th>\n",
       "      <td>4</td>\n",
       "      <td>Peacock</td>\n",
       "      <td>Margaret</td>\n",
       "      <td>Sales Representative</td>\n",
       "      <td>Mrs.</td>\n",
       "      <td>1937-09-19 00:00:00.000</td>\n",
       "      <td>1993-05-03 00:00:00.000</td>\n",
       "      <td>4110 Old Redmond Rd.</td>\n",
       "      <td>Redmond</td>\n",
       "      <td>WA</td>\n",
       "      <td>98052</td>\n",
       "      <td>USA</td>\n",
       "      <td>(206) 555-8122</td>\n",
       "      <td>5176</td>\n",
       "      <td>0x151C2F00020000000D000E0014002100FFFFFFFF4269...</td>\n",
       "      <td>Margaret holds a BA in English literature from...</td>\n",
       "      <td>2.0</td>\n",
       "      <td>http://accweb/emmployees/peacock.bmp</td>\n",
       "      <td>85</td>\n",
       "    </tr>\n",
       "    <tr>\n",
       "      <th>4</th>\n",
       "      <td>5</td>\n",
       "      <td>Buchanan</td>\n",
       "      <td>Steven</td>\n",
       "      <td>Sales Manager</td>\n",
       "      <td>Mr.</td>\n",
       "      <td>1955-03-04 00:00:00.000</td>\n",
       "      <td>1993-10-17 00:00:00.000</td>\n",
       "      <td>14 Garrett Hill</td>\n",
       "      <td>London</td>\n",
       "      <td>None</td>\n",
       "      <td>SW1 8JR</td>\n",
       "      <td>UK</td>\n",
       "      <td>(71) 555-4848</td>\n",
       "      <td>3453</td>\n",
       "      <td>0x151C2F00020000000D000E0014002100FFFFFFFF4269...</td>\n",
       "      <td>Steven Buchanan graduated from St. Andrews Uni...</td>\n",
       "      <td>2.0</td>\n",
       "      <td>http://accweb/emmployees/buchanan.bmp</td>\n",
       "      <td>67</td>\n",
       "    </tr>\n",
       "  </tbody>\n",
       "</table>\n",
       "</div>"
      ],
      "text/plain": [
       "   employeeid   lastname firstname                 title titleofcourtesy  \\\n",
       "0           1    Davolio     Nancy  Sales Representative             Ms.   \n",
       "1           2     Fuller    Andrew  Vice President Sales             Dr.   \n",
       "2           3  Leverling     Janet  Sales Representative             Ms.   \n",
       "3           4    Peacock  Margaret  Sales Representative            Mrs.   \n",
       "4           5   Buchanan    Steven         Sales Manager             Mr.   \n",
       "\n",
       "                 birthdate                 hiredate                   address  \\\n",
       "0  1948-12-08 00:00:00.000  1992-05-01 00:00:00.000  507 20th Ave. E. Apt. 2A   \n",
       "1  1952-02-19 00:00:00.000  1992-08-14 00:00:00.000        908 W. Capital Way   \n",
       "2  1963-08-30 00:00:00.000  1992-04-01 00:00:00.000        722 Moss Bay Blvd.   \n",
       "3  1937-09-19 00:00:00.000  1993-05-03 00:00:00.000      4110 Old Redmond Rd.   \n",
       "4  1955-03-04 00:00:00.000  1993-10-17 00:00:00.000           14 Garrett Hill   \n",
       "\n",
       "       city region postalcode country       homephone  extension  \\\n",
       "0   Seattle     WA      98122     USA  (206) 555-9857       5467   \n",
       "1    Tacoma     WA      98401     USA  (206) 555-9482       3457   \n",
       "2  Kirkland     WA      98033     USA  (206) 555-3412       3355   \n",
       "3   Redmond     WA      98052     USA  (206) 555-8122       5176   \n",
       "4    London   None    SW1 8JR      UK   (71) 555-4848       3453   \n",
       "\n",
       "                                               photo  \\\n",
       "0  0x151C2F00020000000D000E0014002100FFFFFFFF4269...   \n",
       "1  0x151C2F00020000000D000E0014002100FFFFFFFF4269...   \n",
       "2  0x151C2F00020000000D000E0014002100FFFFFFFF4269...   \n",
       "3  0x151C2F00020000000D000E0014002100FFFFFFFF4269...   \n",
       "4  0x151C2F00020000000D000E0014002100FFFFFFFF4269...   \n",
       "\n",
       "                                               notes  reportsto  \\\n",
       "0  Education includes a BA in psychology from Col...        2.0   \n",
       "1  Andrew received his BTS commercial in 1974 and...        NaN   \n",
       "2  Janet has a BS degree in chemistry from Boston...        2.0   \n",
       "3  Margaret holds a BA in English literature from...        2.0   \n",
       "4  Steven Buchanan graduated from St. Andrews Uni...        2.0   \n",
       "\n",
       "                                photopath  age  \n",
       "0    http://accweb/emmployees/davolio.bmp   74  \n",
       "1     http://accweb/emmployees/fuller.bmp   70  \n",
       "2  http://accweb/emmployees/leverling.bmp   59  \n",
       "3    http://accweb/emmployees/peacock.bmp   85  \n",
       "4   http://accweb/emmployees/buchanan.bmp   67  "
      ]
     },
     "execution_count": 88,
     "metadata": {},
     "output_type": "execute_result"
    }
   ],
   "source": [
    "employees.head()"
   ]
  },
  {
   "cell_type": "code",
   "execution_count": 90,
   "metadata": {},
   "outputs": [],
   "source": [
    "employees.to_sql('employees_new', engine)"
   ]
  }
 ],
 "metadata": {
  "interpreter": {
   "hash": "dca0ade3e726a953b501b15e8e990130d2b7799f14cfd9f4271676035ebe5511"
  },
  "kernelspec": {
   "display_name": "Python 3.8.8 64-bit ('base': conda)",
   "name": "python3"
  },
  "language_info": {
   "codemirror_mode": {
    "name": "ipython",
    "version": 3
   },
   "file_extension": ".py",
   "mimetype": "text/x-python",
   "name": "python",
   "nbconvert_exporter": "python",
   "pygments_lexer": "ipython3",
   "version": "3.8.8"
  }
 },
 "nbformat": 4,
 "nbformat_minor": 4
}
