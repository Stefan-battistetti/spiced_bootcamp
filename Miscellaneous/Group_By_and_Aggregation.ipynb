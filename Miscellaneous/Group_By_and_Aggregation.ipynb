{
 "cells": [
  {
   "cell_type": "code",
   "execution_count": 22,
   "id": "8af90e5a-a425-4494-9581-7c1eeba9137d",
   "metadata": {},
   "outputs": [],
   "source": [
    "import pandas as pd\n",
    "import numpy as np\n",
    "\n",
    "df = pd.read_csv('large_countries_2015.csv', index_col=0)\n",
    "\n",
    "df['population'] = df['population'] / 1000000\n",
    "df['population'] = round(df['population'], 1)\n",
    "\n",
    "\n",
    "# Calculate the average population size of the large countries\n",
    "average_population = df['population'].mean()\n",
    "\n",
    "\n",
    "# Calculate the average population size by continent\n",
    "avg_pop_per_continent = round(df.groupby('continent')['population'].mean(), 2)"
   ]
  },
  {
   "cell_type": "code",
   "execution_count": 28,
   "id": "d6370cf9-234a-415f-a264-4d42e21d339f",
   "metadata": {},
   "outputs": [
    {
     "data": {
      "text/plain": [
       "(375.34999999999997,\n",
       " continent\n",
       " Africa           182.20\n",
       " Asia             503.13\n",
       " Europe           143.50\n",
       " North America    224.40\n",
       " South America    207.80\n",
       " Name: population, dtype: float64)"
      ]
     },
     "execution_count": 28,
     "metadata": {},
     "output_type": "execute_result"
    }
   ],
   "source": [
    "average_population, avg_pop_per_continent"
   ]
  },
  {
   "cell_type": "code",
   "execution_count": 23,
   "id": "52ee6033-4e66-435c-ba45-01b0f914bdb2",
   "metadata": {},
   "outputs": [
    {
     "data": {
      "text/plain": [
       "{5: ['China', 'India', 'Japan'], 6: ['Brazil', 'Mexico', 'Russia'], 7: ['Nigeria'], 8: ['Pakistan'], 9: ['Indonesia'], 10: ['Bangladesh'], 11: ['Philippines'], 13: ['United States']}"
      ]
     },
     "execution_count": 23,
     "metadata": {},
     "output_type": "execute_result"
    }
   ],
   "source": [
    "# 1. by column\n",
    "g1 = df.groupby('continent')\n",
    "g1.groups\n",
    "\n",
    "# 2. by an array of equal length\n",
    "industrialized = np.array([False, True, True, True, False, True, True, False, False, False, True, True])\n",
    "g2 = df.groupby(industrialized)\n",
    "g2.groups\n",
    "\n",
    "# 3. by a Dictionary with keys on the Index\n",
    "language = {'Bangladesh':'BN', 'Brazil':'PT', 'China':'CN',\n",
    "            'India':'BN', 'Indonesia':'MS', 'Japan':'JP',\n",
    "            'Mexico':'ES', 'Nigeria':'NG', 'Pakistan':'UR',\n",
    "            'Philippines':'PP', 'Russia':'RU', 'United States':'EN'}\n",
    "g3 = df.groupby(language)\n",
    "g3.groups\n",
    "\n",
    "# 4. by a function\n",
    "g4 = df.groupby(len)\n",
    "g4.groups\n",
    "\n",
    "# 5. a list of the above\n",
    "g5 = df.groupby(['continent', language, len])\n",
    "g5.groups\n",
    "\n",
    "# 6. group along the x-axis\n",
    "g6 = df[['population', 'fertility']].transpose().groupby(len, axis=1)\n",
    "g6.groups"
   ]
  },
  {
   "cell_type": "code",
   "execution_count": 24,
   "id": "12aa9354-7de7-4d1b-a609-3c067c5fb6da",
   "metadata": {},
   "outputs": [
    {
     "name": "stdout",
     "output_type": "stream",
     "text": [
      "Africa          population  fertility continent\n",
      "Nigeria       182.2       5.89    Africa \n",
      "\n",
      "Asia              population  fertility continent\n",
      "Bangladesh        161.0       2.12      Asia\n",
      "China            1376.0       1.57      Asia\n",
      "India            1311.1       2.43      Asia\n",
      "Indonesia         257.6       2.28      Asia\n",
      "Japan             126.6       1.45      Asia\n",
      "Pakistan          188.9       3.04      Asia\n",
      "Philippines       100.7       2.98      Asia \n",
      "\n",
      "Europe         population  fertility continent\n",
      "Russia       143.5       1.61    Europe \n",
      "\n",
      "North America                population  fertility      continent\n",
      "Mexico              127.0       2.13  North America\n",
      "United States       321.8       1.97  North America \n",
      "\n",
      "South America         population  fertility      continent\n",
      "Brazil       207.8       1.78  South America \n",
      "\n"
     ]
    }
   ],
   "source": [
    "for i, df_group in df.groupby('continent'):\n",
    "    print(i, df_group, '\\n')"
   ]
  },
  {
   "cell_type": "code",
   "execution_count": 25,
   "id": "35a04449-d441-43fb-984b-78fd8c712254",
   "metadata": {},
   "outputs": [
    {
     "data": {
      "text/html": [
       "<div>\n",
       "<style scoped>\n",
       "    .dataframe tbody tr th:only-of-type {\n",
       "        vertical-align: middle;\n",
       "    }\n",
       "\n",
       "    .dataframe tbody tr th {\n",
       "        vertical-align: top;\n",
       "    }\n",
       "\n",
       "    .dataframe thead th {\n",
       "        text-align: right;\n",
       "    }\n",
       "</style>\n",
       "<table border=\"1\" class=\"dataframe\">\n",
       "  <thead>\n",
       "    <tr style=\"text-align: right;\">\n",
       "      <th></th>\n",
       "      <th>population</th>\n",
       "      <th>fertility</th>\n",
       "    </tr>\n",
       "    <tr>\n",
       "      <th>continent</th>\n",
       "      <th></th>\n",
       "      <th></th>\n",
       "    </tr>\n",
       "  </thead>\n",
       "  <tbody>\n",
       "    <tr>\n",
       "      <th>Africa</th>\n",
       "      <td>0.0</td>\n",
       "      <td>0.00</td>\n",
       "    </tr>\n",
       "    <tr>\n",
       "      <th>Asia</th>\n",
       "      <td>2944.7</td>\n",
       "      <td>6.28</td>\n",
       "    </tr>\n",
       "    <tr>\n",
       "      <th>Europe</th>\n",
       "      <td>0.0</td>\n",
       "      <td>0.00</td>\n",
       "    </tr>\n",
       "    <tr>\n",
       "      <th>North America</th>\n",
       "      <td>321.8</td>\n",
       "      <td>1.97</td>\n",
       "    </tr>\n",
       "    <tr>\n",
       "      <th>South America</th>\n",
       "      <td>207.8</td>\n",
       "      <td>1.78</td>\n",
       "    </tr>\n",
       "  </tbody>\n",
       "</table>\n",
       "</div>"
      ],
      "text/plain": [
       "               population  fertility\n",
       "continent                           \n",
       "Africa                0.0       0.00\n",
       "Asia               2944.7       6.28\n",
       "Europe                0.0       0.00\n",
       "North America       321.8       1.97\n",
       "South America       207.8       1.78"
      ]
     },
     "execution_count": 25,
     "metadata": {},
     "output_type": "execute_result"
    }
   ],
   "source": [
    "g = df.groupby('continent')\n",
    "\n",
    "# standard aggregation functions\n",
    "g.mean()\n",
    "g.max()\n",
    "g.min()\n",
    "g.sum()\n",
    "g.count()\n",
    "g.std()\n",
    "g.median()\n",
    "g.quantile(0.9)\n",
    "g.describe()\n",
    "\n",
    "# Aggregation with selecting columns\n",
    "g['population'].describe()\n",
    "\n",
    "# Aggregation with a list of function names\n",
    "g.agg(['count', 'mean', 'std'])\n",
    "g.agg([('Total', 'sum')])        # includes label\n",
    "\n",
    "# custom aggregation function with parameter\n",
    "def sum_greater(dataframe, threshold):\n",
    "    for column in dataframe.columns:\n",
    "        return dataframe[dataframe[column]>threshold].sum()\n",
    "    \n",
    "g.agg(sum_greater, threshold=200)"
   ]
  },
  {
   "cell_type": "code",
   "execution_count": 26,
   "id": "09434fd3-d730-4391-ad1b-210e9a7c9d9f",
   "metadata": {},
   "outputs": [
    {
     "data": {
      "text/html": [
       "<div>\n",
       "<style scoped>\n",
       "    .dataframe tbody tr th:only-of-type {\n",
       "        vertical-align: middle;\n",
       "    }\n",
       "\n",
       "    .dataframe tbody tr th {\n",
       "        vertical-align: top;\n",
       "    }\n",
       "\n",
       "    .dataframe thead th {\n",
       "        text-align: right;\n",
       "    }\n",
       "</style>\n",
       "<table border=\"1\" class=\"dataframe\">\n",
       "  <thead>\n",
       "    <tr style=\"text-align: right;\">\n",
       "      <th></th>\n",
       "      <th></th>\n",
       "      <th>population</th>\n",
       "      <th>fertility</th>\n",
       "      <th>continent</th>\n",
       "    </tr>\n",
       "    <tr>\n",
       "      <th>continent</th>\n",
       "      <th></th>\n",
       "      <th></th>\n",
       "      <th></th>\n",
       "      <th></th>\n",
       "    </tr>\n",
       "  </thead>\n",
       "  <tbody>\n",
       "    <tr>\n",
       "      <th>Africa</th>\n",
       "      <th>Nigeria</th>\n",
       "      <td>182.2</td>\n",
       "      <td>5.89</td>\n",
       "      <td>Africa</td>\n",
       "    </tr>\n",
       "    <tr>\n",
       "      <th rowspan=\"2\" valign=\"top\">Asia</th>\n",
       "      <th>Bangladesh</th>\n",
       "      <td>161.0</td>\n",
       "      <td>2.12</td>\n",
       "      <td>Asia</td>\n",
       "    </tr>\n",
       "    <tr>\n",
       "      <th>China</th>\n",
       "      <td>1376.0</td>\n",
       "      <td>1.57</td>\n",
       "      <td>Asia</td>\n",
       "    </tr>\n",
       "    <tr>\n",
       "      <th>Europe</th>\n",
       "      <th>Russia</th>\n",
       "      <td>143.5</td>\n",
       "      <td>1.61</td>\n",
       "      <td>Europe</td>\n",
       "    </tr>\n",
       "    <tr>\n",
       "      <th rowspan=\"2\" valign=\"top\">North America</th>\n",
       "      <th>Mexico</th>\n",
       "      <td>127.0</td>\n",
       "      <td>2.13</td>\n",
       "      <td>North America</td>\n",
       "    </tr>\n",
       "    <tr>\n",
       "      <th>United States</th>\n",
       "      <td>321.8</td>\n",
       "      <td>1.97</td>\n",
       "      <td>North America</td>\n",
       "    </tr>\n",
       "    <tr>\n",
       "      <th>South America</th>\n",
       "      <th>Brazil</th>\n",
       "      <td>207.8</td>\n",
       "      <td>1.78</td>\n",
       "      <td>South America</td>\n",
       "    </tr>\n",
       "  </tbody>\n",
       "</table>\n",
       "</div>"
      ],
      "text/plain": [
       "                             population  fertility      continent\n",
       "continent                                                        \n",
       "Africa        Nigeria             182.2       5.89         Africa\n",
       "Asia          Bangladesh          161.0       2.12           Asia\n",
       "              China              1376.0       1.57           Asia\n",
       "Europe        Russia              143.5       1.61         Europe\n",
       "North America Mexico              127.0       2.13  North America\n",
       "              United States       321.8       1.97  North America\n",
       "South America Brazil              207.8       1.78  South America"
      ]
     },
     "execution_count": 26,
     "metadata": {},
     "output_type": "execute_result"
    }
   ],
   "source": [
    "# Transformation by function name\n",
    "g.transform('mean')\n",
    "\n",
    "# Transformation by function reference\n",
    "g.transform(len)\n",
    "\n",
    "# Transformation with your own function\n",
    "def normalize(array):\n",
    "    return array - array.mean()\n",
    "\n",
    "g.transform(normalize)\n",
    "\n",
    "# apply any function\n",
    "def first_two(df):\n",
    "    return df.head(2)\n",
    "\n",
    "g.apply(first_two)"
   ]
  },
  {
   "cell_type": "code",
   "execution_count": null,
   "id": "d6bfc7ce-2ad1-416c-9f91-5996f6e16971",
   "metadata": {},
   "outputs": [],
   "source": []
  },
  {
   "cell_type": "code",
   "execution_count": null,
   "id": "fde0517e-4104-4ff3-ba2a-d9728fb0c5a2",
   "metadata": {},
   "outputs": [],
   "source": []
  },
  {
   "cell_type": "code",
   "execution_count": null,
   "id": "6813e8fc-54a7-451e-9ba7-410665387b78",
   "metadata": {},
   "outputs": [],
   "source": []
  },
  {
   "cell_type": "code",
   "execution_count": null,
   "id": "1c2551e4-0a89-4c23-9eaf-1baaff8cf068",
   "metadata": {},
   "outputs": [],
   "source": []
  },
  {
   "cell_type": "code",
   "execution_count": 17,
   "id": "7c452dc0-4179-49d4-a355-15af00beeb80",
   "metadata": {},
   "outputs": [],
   "source": []
  },
  {
   "cell_type": "code",
   "execution_count": null,
   "id": "ebff45e4-95cf-455c-a9fc-5866c009ab03",
   "metadata": {},
   "outputs": [],
   "source": []
  },
  {
   "cell_type": "code",
   "execution_count": null,
   "id": "b03a3df5-1b52-4945-9784-d0463818c367",
   "metadata": {},
   "outputs": [],
   "source": []
  },
  {
   "cell_type": "code",
   "execution_count": null,
   "id": "2f551303-f646-453f-89ec-2389265a2412",
   "metadata": {},
   "outputs": [],
   "source": []
  },
  {
   "cell_type": "code",
   "execution_count": null,
   "id": "8cd8d603-ff79-4b96-8237-31573ae9d948",
   "metadata": {},
   "outputs": [],
   "source": []
  }
 ],
 "metadata": {
  "kernelspec": {
   "display_name": "Python 3",
   "language": "python",
   "name": "python3"
  },
  "language_info": {
   "codemirror_mode": {
    "name": "ipython",
    "version": 3
   },
   "file_extension": ".py",
   "mimetype": "text/x-python",
   "name": "python",
   "nbconvert_exporter": "python",
   "pygments_lexer": "ipython3",
   "version": "3.8.8"
  }
 },
 "nbformat": 4,
 "nbformat_minor": 5
}
