{
 "cells": [
  {
   "cell_type": "code",
   "execution_count": 1,
   "id": "5ff85e0e",
   "metadata": {},
   "outputs": [],
   "source": [
    "import pandas as pd\n",
    "\n",
    "import seaborn as sns\n",
    "import matplotlib.pyplot as plt\n",
    "\n",
    "from sklearn.model_selection import train_test_split\n",
    "from sklearn.preprocessing import OneHotEncoder\n",
    "from sklearn.linear_model import LogisticRegression\n",
    "from sklearn.preprocessing import MinMaxScaler\n",
    "from sklearn.preprocessing import KBinsDiscretizer"
   ]
  },
  {
   "cell_type": "code",
   "execution_count": 2,
   "id": "d6c821ab",
   "metadata": {},
   "outputs": [],
   "source": [
    "df_orig = pd.read_csv('train.csv')"
   ]
  },
  {
   "cell_type": "markdown",
   "id": "437cce46",
   "metadata": {},
   "source": [
    "### Plan for FE Changes\n",
    "\n",
    "    1. Pclass - OHE (First | Second | Third)\n",
    "    2. Name - (FMarried | Military | Nobility )\n",
    "    3. Sex - OHE, drop first (Female)\n",
    "    4. Age - BIN based on KDE graph <------------ 177 NaN\n",
    "    \n",
    "    5. +SibSp - (Travelling_Alone)\n",
    "    6. +Parch - (Travelling_Alone)\n",
    "    \n",
    "    7. +Ticket - (Travelling_Alone)\n",
    "    \n",
    "    8. Fare - MinMaxScaler\n",
    "    9. +Cabin - (Travelling_Alone) <------------- 687 NaN\n",
    "    10. Embarked - OHE (S | C | Q) <-------------   2 NaN\n",
    "    \n",
    "#### - Fill in missing NaN via IterativeImputer after column separations\n"
   ]
  },
  {
   "cell_type": "code",
   "execution_count": null,
   "id": "43f639ff",
   "metadata": {},
   "outputs": [],
   "source": [
    "ohc = OneHotEncoder(sparse=False, handle_unknown='ignore')"
   ]
  },
  {
   "cell_type": "code",
   "execution_count": null,
   "id": "70da3d55",
   "metadata": {},
   "outputs": [],
   "source": [
    "cols_1 = df_orig[['Pclass']]\n",
    "cols_2 = df_orig[['Sex']]\n",
    "cols_3 = df_orig[['Embarked']]"
   ]
  },
  {
   "cell_type": "code",
   "execution_count": null,
   "id": "59ce600d",
   "metadata": {},
   "outputs": [],
   "source": [
    "ohc.fit(cols_1)\n",
    "ohc.fit(cols_2)\n",
    "ohc.fit(cols_3)"
   ]
  },
  {
   "cell_type": "code",
   "execution_count": null,
   "id": "3a1e54df",
   "metadata": {},
   "outputs": [],
   "source": [
    "#t_class = ohc.transform(cols_1)\n",
    "t_Sex = ohc.transform(cols_2)\n",
    "t_Emb = ohc.transform(cols_3)\n",
    "#print(t_class.shape)\n",
    "print(t_Sex.shape)\n",
    "print(t_Emb.shape)"
   ]
  },
  {
   "cell_type": "code",
   "execution_count": null,
   "id": "9fb93157",
   "metadata": {},
   "outputs": [],
   "source": [
    "Class = pd.DataFrame(t_1, columns=('First', 'Second', 'Third'))\n",
    "Class.head()"
   ]
  },
  {
   "cell_type": "code",
   "execution_count": null,
   "id": "75022f8d",
   "metadata": {},
   "outputs": [],
   "source": [
    "Sex = pd.DataFrame(t_2)\n",
    "Sex.head()"
   ]
  },
  {
   "cell_type": "code",
   "execution_count": null,
   "id": "ac87041f",
   "metadata": {},
   "outputs": [],
   "source": [
    "df_orig['Embarked'].value_counts()"
   ]
  },
  {
   "cell_type": "code",
   "execution_count": null,
   "id": "cb21b72b",
   "metadata": {},
   "outputs": [],
   "source": [
    "Emb = pd.DataFrame(t_3, columns=('S', 'C', 'Q'))\n",
    "Emb.head()"
   ]
  },
  {
   "cell_type": "code",
   "execution_count": null,
   "id": "fdd9a069",
   "metadata": {},
   "outputs": [],
   "source": [
    "Class = pd.DataFrame(t_1, columns=('First', 'Second', 'Third'))\n",
    "Class.head()"
   ]
  }
 ],
 "metadata": {
  "kernelspec": {
   "display_name": "Python 3",
   "language": "python",
   "name": "python3"
  },
  "language_info": {
   "codemirror_mode": {
    "name": "ipython",
    "version": 3
   },
   "file_extension": ".py",
   "mimetype": "text/x-python",
   "name": "python",
   "nbconvert_exporter": "python",
   "pygments_lexer": "ipython3",
   "version": "3.8.8"
  }
 },
 "nbformat": 4,
 "nbformat_minor": 5
}
