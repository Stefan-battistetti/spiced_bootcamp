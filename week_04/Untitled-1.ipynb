{
 "cells": [
  {
   "cell_type": "code",
   "execution_count": null,
   "metadata": {},
   "outputs": [],
   "source": [
    "from wordcloud import WordCloud\n",
    "from wordcloud import STOPWORDS\n",
    "\n",
    "import matplotlib.pyplot as plt\n",
    "import pandas as pd\n",
    "from sklearn.feature_extraction.text import TfidfVectorizer\n",
    "from sklearn.naive_bayes import MultinomialNB\n",
    "from sklearn.model_selection import train_test_split\n",
    "\n",
    "import requests\n",
    "import re\n",
    "\n",
    "from bs4 import BeautifulSoup\n",
    "import nltk\n"
   ]
  },
  {
   "cell_type": "code",
   "execution_count": null,
   "metadata": {},
   "outputs": [],
   "source": [
    "\n",
    "nltk.download(\"stopwords\")\n",
    "nltk.download(\n",
    "    \"wordnet\"\n",
    ")  # only done once! we have to download the WordNet database locally\n",
    "\n",
    "from nltk.corpus import stopwords\n",
    "\n",
    "# It returns a regular Python list\n",
    "eng_stop_words = stopwords.words(\"english\")\n"
   ]
  },
  {
   "cell_type": "code",
   "execution_count": null,
   "metadata": {},
   "outputs": [],
   "source": [
    "\n",
    "\n",
    "####################### FUNCTIONS #####################\n",
    "\n",
    "\n",
    "def scrape_lyrics(\n",
    "    link\n",
    "):  # Function scraper, return list lyrics, and relative artist name\n",
    "    prefix_url = \"https://www.lyrics.com\"\n",
    "    complete_url_list = []\n",
    "    lst_lyrics = []\n",
    "    lst_artist = []\n",
    "\n",
    "    artist = link.split(\"/\")[-2]  # get name artist\n",
    "    html = requests.get(link).text  # scrape page artist\n",
    "    # with open(f\"html_{artist}.txt\", \"w\") as f:  # write down the page on a file\n",
    "    #     f.write(html)\n",
    "    print(html)\n",
    "\n",
    "    hyper_list = re.findall(\n",
    "        pattern='/lyric/[^\"]+', string=html\n",
    "    )  # take out the lyrics' links\n",
    "\n",
    "    for h in hyper_list:  # create list with working links\n",
    "        complete_url_list.append(prefix_url + h)\n",
    "\n",
    "    for i in complete_url_list:  # scrape lyrics\n",
    "        request_response = requests.head(i)\n",
    "        status_code = request_response.status_code\n",
    "        if status_code == 200:\n",
    "            lst_lyrics.append(\n",
    "                BeautifulSoup(requests.get(i).text, \"html.parser\")\n",
    "                .find(id=\"lyric-body-text\")\n",
    "                .text.lower()\n",
    "            )\n",
    "            lst_artist.append(artist)\n",
    "        else:\n",
    "            continue\n",
    "\n",
    "    ###________Wordcloud_________\n",
    "\n",
    "    data = pd.DataFrame({\"text\": lst_lyrics})\n",
    "    text = \" \".join(i for i in data.text)\n",
    "    stopwords = set(STOPWORDS)\n",
    "    wordcloud = WordCloud(stopwords=stopwords, background_color=\"white\").generate(text)\n",
    "    plt.title(f\"Wordcloud {artist}\")\n",
    "    plt.imshow(wordcloud, interpolation=\"bilinear\")\n",
    "    plt.axis(\"off\")\n",
    "    plt.savefig(f\"cloud{artist}.svg\", format=\"svg\", dpi=1200)\n",
    "    # plt.show()\n",
    "\n",
    "    with open(f\"lst_lyrics_{artist}.txt\", \"w\") as f:  # write down the lyrics on a file\n",
    "        for item in lst_lyrics:\n",
    "            f.write(\"%s\\n\" % item + \"\\n\" + \"_____\" + \"\\n\")\n",
    "\n",
    "    with open(\n",
    "        f\"lst_artist_{artist}.txt\", \"w\"\n",
    "    ) as f:  # write down the artist list on a file\n",
    "        for item in lst_artist:\n",
    "            f.write(\"%s\\n\" % item)\n",
    "\n",
    "    return lst_lyrics, lst_artist\n",
    "\n",
    "\n",
    "### -----------------------------------\n"
   ]
  },
  {
   "cell_type": "code",
   "execution_count": null,
   "metadata": {},
   "outputs": [],
   "source": [
    "\n",
    "\n",
    "def cleaning(lst):\n",
    "    clean_lst = [\n",
    "        re.sub(r\"([^a-zA-Z ]+?)\", \" \", l) for l in lst\n",
    "    ]  # regex for cleaning words from numbers and spec char\n",
    "    return clean_lst\n"
   ]
  },
  {
   "cell_type": "code",
   "execution_count": null,
   "metadata": {},
   "outputs": [],
   "source": [
    "\n",
    "\n",
    "def featur_splt(link1, link2):\n",
    "    lst_lyr_1, lst_art_1 = scrape_lyrics(link1)\n",
    "    lst_lyr_2, lst_art_2 = scrape_lyrics(link2)\n",
    "\n",
    "    X = cleaning(lst_lyr_1) + cleaning(lst_lyr_2)\n",
    "    y = lst_art_1 + lst_art_2\n",
    "    X = vectorizer.fit_transform(X)\n",
    "    X_train, X_test, y_train, y_test = train_test_split(\n",
    "        X, y, test_size=0.2, random_state=10, stratify=y\n",
    "    )\n",
    "    return X_train, X_test, y_train, y_test\n"
   ]
  },
  {
   "cell_type": "code",
   "execution_count": null,
   "metadata": {},
   "outputs": [],
   "source": [
    "\n",
    "\n",
    "### ------------------------------------\n",
    "\n",
    "\n",
    "vectorizer = TfidfVectorizer(stop_words=eng_stop_words)\n",
    "\n",
    "lnk_1, lnk_2 = input(\n",
    "    \"Give me two links of your favorite artists profile page in lyrics.com...\"\n",
    ").split()\n",
    "\n",
    "text_test = input(\"Thank you, now please give me a test to check..\").splitlines()\n",
    "print(text_test)\n",
    "\n",
    "X_train, X_test, y_train, y_test = featur_splt(lnk_1, lnk_2)\n",
    "print(\"I\")\n",
    "\n",
    "model = MultinomialNB()\n",
    "model = model.fit(X_train, y_train)  # model.fit\n",
    "print(f\"Your model's score is {model.score(X_test, y_test)}\")\n",
    "\n",
    "\n",
    "t = vectorizer.transform(cleaning(text_test[0]))\n",
    "pred = model.predict(t)\n",
    "print('this are the predictions: ', pred)\n"
   ]
  },
  {
   "cell_type": "code",
   "execution_count": null,
   "metadata": {},
   "outputs": [],
   "source": [
    "with open(\"lst_lyrics_Marlena-Shaw.txt\", \"r\") as f:  # write down the lyrics on a file\n",
    "    marl = f.read().split('_____')"
   ]
  },
  {
   "cell_type": "code",
   "execution_count": null,
   "metadata": {},
   "outputs": [],
   "source": [
    "\n",
    "data = pd.DataFrame({\"text\": marl})\n",
    "text = \" \".join(i for i in data.text)\n",
    "stopwords = set(STOPWORDS)\n",
    "wordcloud = WordCloud(stopwords=stopwords, background_color=\"white\").generate(text)\n",
    "plt.figure( figsize=(30,20))\n",
    "plt.title(\"Wordcloud marlena\")\n",
    "plt.imshow(wordcloud, interpolation=\"bilinear\")\n",
    "plt.axis(\"off\")\n",
    "plt.savefig(f\"cloud marlena.svg\", format=\"svg\", dpi=1200)\n",
    "plt.show()\n"
   ]
  },
  {
   "cell_type": "code",
   "execution_count": null,
   "metadata": {},
   "outputs": [],
   "source": [
    "# https://www.lyrics.com/sub-artist/Aretha-Franklin/30758 \n",
    "# https://www.lyrics.com/artist/Nina-Simone/3149 https://www.lyrics.com/artist/Marlena-Shaw/7525\n",
    "\n",
    "#    I ain't gonna hide you there All on that day I said rock What's the matter with you rock? Don't you see I need you, rock? Good Lord, Lord"
   ]
  },
  {
   "cell_type": "code",
   "execution_count": null,
   "metadata": {},
   "outputs": [],
   "source": [
    "# https://www.lyrics.com/artist/Moderat/1003294 https://www.lyrics.com/artist/Apparat/591899\n",
    "\n",
    "# For Neither ever, nor never Goodbye Neither ever, nor never Goodbye Neither ever, nor never Goodbye Goodbye"
   ]
  },
  {
   "cell_type": "markdown",
   "metadata": {},
   "source": [
    "https://www.lyrics.com/artist/Billie-Holiday/56716 https://www.lyrics.com/artist/Esperanza-Spalding/514023\n",
    "\n",
    "Muted howl Song of blue flame The brilliant headed silhouettes Scuffling candles through a nation's lightless dawn\n",
    "\n",
    "https://www.lyrics.com/artist/Beyoncé/349078 https://www.lyrics.com/artist/Kendrick-Lamar/2412704"
   ]
  }
 ],
 "metadata": {
  "interpreter": {
   "hash": "77b60de724cd56e5333334a06ed3a5e18b3026c8349f95c7badc7f1caa70835a"
  },
  "kernelspec": {
   "display_name": "Python 3.8.8 64-bit ('base': conda)",
   "language": "python",
   "name": "python3"
  },
  "language_info": {
   "codemirror_mode": {
    "name": "ipython",
    "version": 3
   },
   "file_extension": ".py",
   "mimetype": "text/x-python",
   "name": "python",
   "nbconvert_exporter": "python",
   "pygments_lexer": "ipython3",
   "version": "3.8.8"
  },
  "orig_nbformat": 4
 },
 "nbformat": 4,
 "nbformat_minor": 2
}
