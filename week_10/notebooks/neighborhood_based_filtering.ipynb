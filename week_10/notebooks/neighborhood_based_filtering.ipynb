{
 "cells": [
  {
   "cell_type": "code",
   "execution_count": 1,
   "metadata": {
    "ExecuteTime": {
     "end_time": "2022-02-15T14:47:00.006463Z",
     "start_time": "2022-02-15T14:46:59.136820Z"
    }
   },
   "outputs": [],
   "source": [
    "import pandas as pd\n",
    "import numpy as np\n",
    "import seaborn as sns\n",
    "import matplotlib.pyplot as plt\n",
    "from sklearn.neighbors import NearestNeighbors\n",
    "from sklearn.metrics import pairwise\n",
    "from scipy.sparse import csr_matrix\n",
    "import sklearn\n",
    "import pickle"
   ]
  },
  {
   "cell_type": "code",
   "execution_count": 2,
   "metadata": {
    "ExecuteTime": {
     "end_time": "2022-02-15T14:47:00.009087Z",
     "start_time": "2022-02-15T14:47:00.007412Z"
    }
   },
   "outputs": [],
   "source": [
    "# DRY - Don't repeat yourself!\n",
    "# place a utils.py in the same folder as the notebook\n",
    "# from utils import example_query, create_user_vector, create_rating_matrix\n",
    "\n",
    "# for calculating recommendations\n",
    "example_query = {\n",
    "    # movieId, rating\n",
    "    4470:5, \n",
    "    48:5,\n",
    "    594:5,\n",
    "    27619:5,\n",
    "    152081:5,\n",
    "    595:5,\n",
    "    616:5,\n",
    "    1029:5\n",
    "}"
   ]
  },
  {
   "cell_type": "markdown",
   "metadata": {},
   "source": [
    "# Neighborhood Based Filtering for Recommender Systems\n",
    "---\n",
    "\n",
    "> The key idea is that the rating of u for a new item i is likely to be similar to that of another user v,if u and v have rated other items in a similar way. Likewise,u is likely to rate two items i and j in a similar fashion, if other users have given similar ratings to these two items.\n",
    "\n",
    "##### Use ratings of similar users (or items) to predict what you like! But: How can we measure similarity/distance? \n",
    "\n",
    "- Cosine Similariy/Distance (works good for sparse high dimensional data)\n",
    "- Jaccard Similarity/Distance (only works on binarized vectors)\n",
    "- Pearson Correlation/Distance (cosine similarity on centered vectors)\n",
    "- Euclidian Distance/Similarity (not good for sparse high dimensional data)\n",
    "\n",
    "You find many more metrics here:https://docs.scipy.org/doc/scipy/reference/spatial.distance.html"
   ]
  },
  {
   "cell_type": "code",
   "execution_count": 3,
   "metadata": {
    "ExecuteTime": {
     "end_time": "2022-02-15T14:47:00.011976Z",
     "start_time": "2022-02-15T14:47:00.009632Z"
    }
   },
   "outputs": [
    {
     "name": "stdout",
     "output_type": "stream",
     "text": [
      "[Errno 2] No such file or directory: 'ml-latest-small/'\n",
      "/Users/stefan/Documents/euclidean-eukalyptus/euclidean-eukalyptus-student-code/week_10/notebooks\n"
     ]
    }
   ],
   "source": [
    "cd ml-latest-small/"
   ]
  },
  {
   "cell_type": "code",
   "execution_count": 4,
   "metadata": {
    "ExecuteTime": {
     "end_time": "2022-02-15T14:47:00.134284Z",
     "start_time": "2022-02-15T14:47:00.013076Z"
    }
   },
   "outputs": [
    {
     "name": "stdout",
     "output_type": "stream",
     "text": [
      "exploratory_analysis_worksheet.ipynb    nmf_recommender.pkl\n",
      "matrix_factorization_filled.ipynb       recommender_systems_intro_filled.ipynb\n",
      "neighborhood_based_filtering.ipynb\n"
     ]
    }
   ],
   "source": [
    "ls"
   ]
  },
  {
   "cell_type": "code",
   "execution_count": 6,
   "metadata": {
    "ExecuteTime": {
     "end_time": "2022-02-15T14:47:00.178776Z",
     "start_time": "2022-02-15T14:47:00.135260Z"
    }
   },
   "outputs": [
    {
     "data": {
      "text/html": [
       "<div>\n",
       "<style scoped>\n",
       "    .dataframe tbody tr th:only-of-type {\n",
       "        vertical-align: middle;\n",
       "    }\n",
       "\n",
       "    .dataframe tbody tr th {\n",
       "        vertical-align: top;\n",
       "    }\n",
       "\n",
       "    .dataframe thead th {\n",
       "        text-align: right;\n",
       "    }\n",
       "</style>\n",
       "<table border=\"1\" class=\"dataframe\">\n",
       "  <thead>\n",
       "    <tr style=\"text-align: right;\">\n",
       "      <th></th>\n",
       "      <th>userId</th>\n",
       "      <th>movieId</th>\n",
       "      <th>rating</th>\n",
       "      <th>timestamp</th>\n",
       "    </tr>\n",
       "  </thead>\n",
       "  <tbody>\n",
       "    <tr>\n",
       "      <th>0</th>\n",
       "      <td>1</td>\n",
       "      <td>1</td>\n",
       "      <td>4.0</td>\n",
       "      <td>964982703</td>\n",
       "    </tr>\n",
       "    <tr>\n",
       "      <th>1</th>\n",
       "      <td>1</td>\n",
       "      <td>3</td>\n",
       "      <td>4.0</td>\n",
       "      <td>964981247</td>\n",
       "    </tr>\n",
       "    <tr>\n",
       "      <th>2</th>\n",
       "      <td>1</td>\n",
       "      <td>6</td>\n",
       "      <td>4.0</td>\n",
       "      <td>964982224</td>\n",
       "    </tr>\n",
       "    <tr>\n",
       "      <th>3</th>\n",
       "      <td>1</td>\n",
       "      <td>47</td>\n",
       "      <td>5.0</td>\n",
       "      <td>964983815</td>\n",
       "    </tr>\n",
       "    <tr>\n",
       "      <th>4</th>\n",
       "      <td>1</td>\n",
       "      <td>50</td>\n",
       "      <td>5.0</td>\n",
       "      <td>964982931</td>\n",
       "    </tr>\n",
       "  </tbody>\n",
       "</table>\n",
       "</div>"
      ],
      "text/plain": [
       "   userId  movieId  rating  timestamp\n",
       "0       1        1     4.0  964982703\n",
       "1       1        3     4.0  964981247\n",
       "2       1        6     4.0  964982224\n",
       "3       1       47     5.0  964983815\n",
       "4       1       50     5.0  964982931"
      ]
     },
     "execution_count": 6,
     "metadata": {},
     "output_type": "execute_result"
    }
   ],
   "source": [
    "ratings = pd.read_csv('../data/ml-latest-small/ratings.csv')\n",
    "movies = pd.read_csv('../data/ml-latest-small/movies.csv')\n",
    "ratings.head()\n"
   ]
  },
  {
   "cell_type": "code",
   "execution_count": 7,
   "metadata": {
    "ExecuteTime": {
     "end_time": "2022-02-15T14:47:00.184930Z",
     "start_time": "2022-02-15T14:47:00.179516Z"
    }
   },
   "outputs": [
    {
     "data": {
      "text/html": [
       "<div>\n",
       "<style scoped>\n",
       "    .dataframe tbody tr th:only-of-type {\n",
       "        vertical-align: middle;\n",
       "    }\n",
       "\n",
       "    .dataframe tbody tr th {\n",
       "        vertical-align: top;\n",
       "    }\n",
       "\n",
       "    .dataframe thead th {\n",
       "        text-align: right;\n",
       "    }\n",
       "</style>\n",
       "<table border=\"1\" class=\"dataframe\">\n",
       "  <thead>\n",
       "    <tr style=\"text-align: right;\">\n",
       "      <th></th>\n",
       "      <th>title</th>\n",
       "      <th>genres</th>\n",
       "    </tr>\n",
       "    <tr>\n",
       "      <th>movieId</th>\n",
       "      <th></th>\n",
       "      <th></th>\n",
       "    </tr>\n",
       "  </thead>\n",
       "  <tbody>\n",
       "    <tr>\n",
       "      <th>4470</th>\n",
       "      <td>Ariel (1988)</td>\n",
       "      <td>Drama</td>\n",
       "    </tr>\n",
       "    <tr>\n",
       "      <th>48</th>\n",
       "      <td>Pocahontas (1995)</td>\n",
       "      <td>Animation|Children|Drama|Musical|Romance</td>\n",
       "    </tr>\n",
       "    <tr>\n",
       "      <th>594</th>\n",
       "      <td>Snow White and the Seven Dwarfs (1937)</td>\n",
       "      <td>Animation|Children|Drama|Fantasy|Musical</td>\n",
       "    </tr>\n",
       "    <tr>\n",
       "      <th>27619</th>\n",
       "      <td>Lion King 1½, The (2004)</td>\n",
       "      <td>Adventure|Animation|Children|Comedy</td>\n",
       "    </tr>\n",
       "    <tr>\n",
       "      <th>152081</th>\n",
       "      <td>Zootopia (2016)</td>\n",
       "      <td>Action|Adventure|Animation|Children|Comedy</td>\n",
       "    </tr>\n",
       "    <tr>\n",
       "      <th>595</th>\n",
       "      <td>Beauty and the Beast (1991)</td>\n",
       "      <td>Animation|Children|Fantasy|Musical|Romance|IMAX</td>\n",
       "    </tr>\n",
       "    <tr>\n",
       "      <th>616</th>\n",
       "      <td>Aristocats, The (1970)</td>\n",
       "      <td>Animation|Children</td>\n",
       "    </tr>\n",
       "    <tr>\n",
       "      <th>1029</th>\n",
       "      <td>Dumbo (1941)</td>\n",
       "      <td>Animation|Children|Drama|Musical</td>\n",
       "    </tr>\n",
       "  </tbody>\n",
       "</table>\n",
       "</div>"
      ],
      "text/plain": [
       "                                          title  \\\n",
       "movieId                                           \n",
       "4470                               Ariel (1988)   \n",
       "48                            Pocahontas (1995)   \n",
       "594      Snow White and the Seven Dwarfs (1937)   \n",
       "27619                  Lion King 1½, The (2004)   \n",
       "152081                          Zootopia (2016)   \n",
       "595                 Beauty and the Beast (1991)   \n",
       "616                      Aristocats, The (1970)   \n",
       "1029                               Dumbo (1941)   \n",
       "\n",
       "                                                  genres  \n",
       "movieId                                                   \n",
       "4470                                               Drama  \n",
       "48              Animation|Children|Drama|Musical|Romance  \n",
       "594             Animation|Children|Drama|Fantasy|Musical  \n",
       "27619                Adventure|Animation|Children|Comedy  \n",
       "152081        Action|Adventure|Animation|Children|Comedy  \n",
       "595      Animation|Children|Fantasy|Musical|Romance|IMAX  \n",
       "616                                   Animation|Children  \n",
       "1029                    Animation|Children|Drama|Musical  "
      ]
     },
     "execution_count": 7,
     "metadata": {},
     "output_type": "execute_result"
    }
   ],
   "source": [
    "# movies liked by our test user\n",
    "movies.set_index('movieId').loc[example_query.keys()]"
   ]
  },
  {
   "cell_type": "markdown",
   "metadata": {},
   "source": [
    "---\n",
    "## 1. Model Development"
   ]
  },
  {
   "cell_type": "markdown",
   "metadata": {},
   "source": [
    "### Preprocessing (same as for the NMF model!)\n",
    "\n",
    "- filter out movies rated by less than 20/ 50 / 100 ... users\n",
    "- filter out movies with an average rating lower than 2\n",
    "- create a sparse user item matrix"
   ]
  },
  {
   "cell_type": "code",
   "execution_count": 8,
   "metadata": {
    "ExecuteTime": {
     "end_time": "2022-02-15T14:47:00.187582Z",
     "start_time": "2022-02-15T14:47:00.185658Z"
    }
   },
   "outputs": [],
   "source": [
    "# place a utils.py in the same folder as the notebook\n",
    "# from utils import ratings, get_ratings_matrix\n",
    "\n",
    "# R = get_ratings_matrix(ratings)"
   ]
  },
  {
   "cell_type": "code",
   "execution_count": 9,
   "metadata": {
    "ExecuteTime": {
     "end_time": "2022-02-15T14:47:00.198183Z",
     "start_time": "2022-02-15T14:47:00.188420Z"
    },
    "scrolled": true
   },
   "outputs": [],
   "source": [
    "# calculate the number of ratings per movie\n",
    "ratings_per_movie = ratings.groupby('movieId')['rating'].count()\n",
    "# filter for movies with more than 20 ratings and extract the index\n",
    "popular_movies = ratings_per_movie.loc[ratings_per_movie>30]\n",
    "# filter the ratings matrix and only keep the popular movies\n",
    "ratings = ratings.loc[ratings['movieId'].isin(popular_movies.index)]\n",
    "\n",
    "# Initialize a sparse user-item rating matrix\n",
    "# (data, (row_ind, col_ind)\n",
    "R = csr_matrix((ratings['rating'],(ratings['userId'],ratings['movieId'])))\n"
   ]
  },
  {
   "cell_type": "code",
   "execution_count": 10,
   "metadata": {
    "ExecuteTime": {
     "end_time": "2022-02-15T14:47:00.204120Z",
     "start_time": "2022-02-15T14:47:00.199069Z"
    }
   },
   "outputs": [
    {
     "data": {
      "text/plain": [
       "<611x152082 sparse matrix of type '<class 'numpy.float64'>'\n",
       "\twith 57358 stored elements in Compressed Sparse Row format>"
      ]
     },
     "execution_count": 10,
     "metadata": {},
     "output_type": "execute_result"
    }
   ],
   "source": [
    "R"
   ]
  },
  {
   "cell_type": "markdown",
   "metadata": {},
   "source": [
    "### Training (new!)\n",
    "\n",
    "- initialize the model: pick a distance metric\n",
    "- fit it to the user item matrix: only stores the data and doesn't do further. all the calculations take place later!"
   ]
  },
  {
   "cell_type": "code",
   "execution_count": 11,
   "metadata": {
    "ExecuteTime": {
     "end_time": "2022-02-15T14:47:00.212716Z",
     "start_time": "2022-02-15T14:47:00.207921Z"
    },
    "scrolled": true
   },
   "outputs": [
    {
     "data": {
      "text/plain": [
       "['cityblock', 'cosine', 'euclidean', 'l1', 'l2', 'manhattan', 'precomputed']"
      ]
     },
     "execution_count": 11,
     "metadata": {},
     "output_type": "execute_result"
    }
   ],
   "source": [
    "# which metrics can we use for sparse matrics?\n",
    "sorted(sklearn.neighbors.VALID_METRICS_SPARSE['brute'])"
   ]
  },
  {
   "cell_type": "code",
   "execution_count": 12,
   "metadata": {
    "ExecuteTime": {
     "end_time": "2022-02-15T14:47:00.218173Z",
     "start_time": "2022-02-15T14:47:00.213698Z"
    }
   },
   "outputs": [
    {
     "data": {
      "text/plain": [
       "NearestNeighbors(metric='cosine')"
      ]
     },
     "execution_count": 12,
     "metadata": {},
     "output_type": "execute_result"
    }
   ],
   "source": [
    "# initialize the unsupervised model\n",
    "model = NearestNeighbors(metric='cosine')\n",
    "\n",
    "# fit it to the user-item rating matrix\n",
    "model.fit(R)"
   ]
  },
  {
   "cell_type": "markdown",
   "metadata": {},
   "source": [
    "### Save the trained model on your hard drive"
   ]
  },
  {
   "cell_type": "code",
   "execution_count": 13,
   "metadata": {
    "ExecuteTime": {
     "end_time": "2022-02-15T14:47:00.223103Z",
     "start_time": "2022-02-15T14:47:00.219504Z"
    }
   },
   "outputs": [],
   "source": [
    "with open('./distance_recommender.pkl', 'wb') as file:\n",
    "    pickle.dump(model, file)"
   ]
  },
  {
   "cell_type": "code",
   "execution_count": null,
   "metadata": {
    "ExecuteTime": {
     "end_time": "2022-02-15T14:47:00.347934Z",
     "start_time": "2022-02-15T14:47:00.224591Z"
    }
   },
   "outputs": [],
   "source": [
    "ls"
   ]
  },
  {
   "cell_type": "markdown",
   "metadata": {},
   "source": [
    "---\n",
    "## 2. Model deployment: Make recommendations for a new user"
   ]
  },
  {
   "cell_type": "markdown",
   "metadata": {},
   "source": [
    "### Read the model from hard drive"
   ]
  },
  {
   "cell_type": "code",
   "execution_count": null,
   "metadata": {
    "ExecuteTime": {
     "end_time": "2022-02-15T14:47:00.351728Z",
     "start_time": "2022-02-15T14:47:00.348969Z"
    }
   },
   "outputs": [],
   "source": [
    "with open('./distance_recommender.pkl', 'rb') as file:\n",
    "    model = pickle.load(file)"
   ]
  },
  {
   "cell_type": "code",
   "execution_count": null,
   "metadata": {
    "ExecuteTime": {
     "end_time": "2022-02-15T14:47:00.472264Z",
     "start_time": "2022-02-15T14:47:00.352429Z"
    },
    "scrolled": true
   },
   "outputs": [],
   "source": [
    "ls"
   ]
  },
  {
   "cell_type": "markdown",
   "metadata": {},
   "source": [
    "### Receive a user query"
   ]
  },
  {
   "cell_type": "code",
   "execution_count": 14,
   "metadata": {
    "ExecuteTime": {
     "end_time": "2022-02-15T14:47:00.479844Z",
     "start_time": "2022-02-15T14:47:00.474458Z"
    }
   },
   "outputs": [
    {
     "data": {
      "text/plain": [
       "{4470: 5, 48: 5, 594: 5, 27619: 5, 152081: 5, 595: 5, 616: 5, 1029: 5}"
      ]
     },
     "execution_count": 14,
     "metadata": {},
     "output_type": "execute_result"
    }
   ],
   "source": [
    "example_query"
   ]
  },
  {
   "cell_type": "markdown",
   "metadata": {},
   "source": [
    "### Construct a user vector (same as before!)\n",
    "\n",
    "we need the same input as was used during training!"
   ]
  },
  {
   "cell_type": "code",
   "execution_count": 16,
   "metadata": {
    "ExecuteTime": {
     "end_time": "2022-02-15T14:47:00.489336Z",
     "start_time": "2022-02-15T14:47:00.482605Z"
    }
   },
   "outputs": [],
   "source": [
    "def create_user_vec(query, R):\n",
    "    data = list(query.values())             # the ratings of the new user\n",
    "    # we use just a single row 0 for this user\n",
    "    row_ind = [0]*len(data)\n",
    "    # the columns (=movieId) of the ratings\n",
    "    col_ind = list(query.keys())\n",
    "    data, row_ind, col_ind\n",
    "\n",
    "    # new user vector: needs to have the same format as the training data\n",
    "    user_vec = csr_matrix((data, (row_ind, col_ind)), shape=(1, R.shape[1]))\n",
    "    return user_vec\n"
   ]
  },
  {
   "cell_type": "code",
   "execution_count": 17,
   "metadata": {
    "ExecuteTime": {
     "end_time": "2022-02-15T14:47:00.496676Z",
     "start_time": "2022-02-15T14:47:00.491636Z"
    }
   },
   "outputs": [
    {
     "data": {
      "text/plain": [
       "(611, 152082)"
      ]
     },
     "execution_count": 17,
     "metadata": {},
     "output_type": "execute_result"
    }
   ],
   "source": [
    "R.shape"
   ]
  },
  {
   "cell_type": "code",
   "execution_count": 19,
   "metadata": {
    "ExecuteTime": {
     "end_time": "2022-02-15T14:47:00.502029Z",
     "start_time": "2022-02-15T14:47:00.499637Z"
    }
   },
   "outputs": [],
   "source": [
    "user_vec = create_user_vec(example_query,R)"
   ]
  },
  {
   "cell_type": "markdown",
   "metadata": {},
   "source": [
    "### Calculate the score (new!)\n",
    "\n",
    "1. find the neighborhood of $n$ similar users\n",
    "2. use their ratings to calculate a score"
   ]
  },
  {
   "cell_type": "code",
   "execution_count": 20,
   "metadata": {
    "ExecuteTime": {
     "end_time": "2022-02-15T14:47:43.650899Z",
     "start_time": "2022-02-15T14:47:43.643464Z"
    }
   },
   "outputs": [],
   "source": [
    "# calculates the distances to all other users in the data!\n",
    "distances, userIds = model.kneighbors(user_vec, n_neighbors=10, return_distance=True)\n",
    "\n",
    "# sklearn returns a list of predictions - extract the first and only value of the list\n",
    "distances = distances[0]\n",
    "userIds = userIds[0]"
   ]
  },
  {
   "cell_type": "code",
   "execution_count": 21,
   "metadata": {
    "ExecuteTime": {
     "end_time": "2022-02-15T14:47:43.869472Z",
     "start_time": "2022-02-15T14:47:43.864192Z"
    },
    "scrolled": true
   },
   "outputs": [
    {
     "data": {
      "text/plain": [
       "(array([0.8011156 , 0.80974514, 0.82597507, 0.8367268 , 0.84172777,\n",
       "        0.84708378, 0.84988048, 0.85005996, 0.85067004, 0.85089198]),\n",
       " array([476, 563,  43, 484,   5, 138,  58, 170,  20, 216]))"
      ]
     },
     "execution_count": 21,
     "metadata": {},
     "output_type": "execute_result"
    }
   ],
   "source": [
    "distances, userIds"
   ]
  },
  {
   "cell_type": "code",
   "execution_count": 22,
   "metadata": {
    "ExecuteTime": {
     "end_time": "2022-02-15T14:47:44.020207Z",
     "start_time": "2022-02-15T14:47:44.010631Z"
    }
   },
   "outputs": [
    {
     "data": {
      "text/html": [
       "<div>\n",
       "<style scoped>\n",
       "    .dataframe tbody tr th:only-of-type {\n",
       "        vertical-align: middle;\n",
       "    }\n",
       "\n",
       "    .dataframe tbody tr th {\n",
       "        vertical-align: top;\n",
       "    }\n",
       "\n",
       "    .dataframe thead th {\n",
       "        text-align: right;\n",
       "    }\n",
       "</style>\n",
       "<table border=\"1\" class=\"dataframe\">\n",
       "  <thead>\n",
       "    <tr style=\"text-align: right;\">\n",
       "      <th></th>\n",
       "      <th>userId</th>\n",
       "      <th>movieId</th>\n",
       "      <th>rating</th>\n",
       "      <th>timestamp</th>\n",
       "    </tr>\n",
       "  </thead>\n",
       "  <tbody>\n",
       "    <tr>\n",
       "      <th>0</th>\n",
       "      <td>1</td>\n",
       "      <td>1</td>\n",
       "      <td>4.0</td>\n",
       "      <td>964982703</td>\n",
       "    </tr>\n",
       "    <tr>\n",
       "      <th>1</th>\n",
       "      <td>1</td>\n",
       "      <td>3</td>\n",
       "      <td>4.0</td>\n",
       "      <td>964981247</td>\n",
       "    </tr>\n",
       "    <tr>\n",
       "      <th>2</th>\n",
       "      <td>1</td>\n",
       "      <td>6</td>\n",
       "      <td>4.0</td>\n",
       "      <td>964982224</td>\n",
       "    </tr>\n",
       "    <tr>\n",
       "      <th>3</th>\n",
       "      <td>1</td>\n",
       "      <td>47</td>\n",
       "      <td>5.0</td>\n",
       "      <td>964983815</td>\n",
       "    </tr>\n",
       "    <tr>\n",
       "      <th>4</th>\n",
       "      <td>1</td>\n",
       "      <td>50</td>\n",
       "      <td>5.0</td>\n",
       "      <td>964982931</td>\n",
       "    </tr>\n",
       "  </tbody>\n",
       "</table>\n",
       "</div>"
      ],
      "text/plain": [
       "   userId  movieId  rating  timestamp\n",
       "0       1        1     4.0  964982703\n",
       "1       1        3     4.0  964981247\n",
       "2       1        6     4.0  964982224\n",
       "3       1       47     5.0  964983815\n",
       "4       1       50     5.0  964982931"
      ]
     },
     "execution_count": 22,
     "metadata": {},
     "output_type": "execute_result"
    }
   ],
   "source": [
    "ratings.head()"
   ]
  },
  {
   "cell_type": "code",
   "execution_count": 23,
   "metadata": {
    "ExecuteTime": {
     "end_time": "2022-02-15T14:47:44.177332Z",
     "start_time": "2022-02-15T14:47:44.154363Z"
    }
   },
   "outputs": [
    {
     "data": {
      "text/html": [
       "<div>\n",
       "<style scoped>\n",
       "    .dataframe tbody tr th:only-of-type {\n",
       "        vertical-align: middle;\n",
       "    }\n",
       "\n",
       "    .dataframe tbody tr th {\n",
       "        vertical-align: top;\n",
       "    }\n",
       "\n",
       "    .dataframe thead th {\n",
       "        text-align: right;\n",
       "    }\n",
       "</style>\n",
       "<table border=\"1\" class=\"dataframe\">\n",
       "  <thead>\n",
       "    <tr style=\"text-align: right;\">\n",
       "      <th></th>\n",
       "      <th>movieId</th>\n",
       "      <th>rating</th>\n",
       "      <th>timestamp</th>\n",
       "    </tr>\n",
       "    <tr>\n",
       "      <th>userId</th>\n",
       "      <th></th>\n",
       "      <th></th>\n",
       "      <th></th>\n",
       "    </tr>\n",
       "  </thead>\n",
       "  <tbody>\n",
       "    <tr>\n",
       "      <th>476</th>\n",
       "      <td>1</td>\n",
       "      <td>4.0</td>\n",
       "      <td>835021447</td>\n",
       "    </tr>\n",
       "    <tr>\n",
       "      <th>476</th>\n",
       "      <td>2</td>\n",
       "      <td>4.0</td>\n",
       "      <td>835021693</td>\n",
       "    </tr>\n",
       "    <tr>\n",
       "      <th>476</th>\n",
       "      <td>10</td>\n",
       "      <td>3.0</td>\n",
       "      <td>835021420</td>\n",
       "    </tr>\n",
       "    <tr>\n",
       "      <th>476</th>\n",
       "      <td>11</td>\n",
       "      <td>3.0</td>\n",
       "      <td>835021635</td>\n",
       "    </tr>\n",
       "    <tr>\n",
       "      <th>476</th>\n",
       "      <td>32</td>\n",
       "      <td>4.0</td>\n",
       "      <td>835021513</td>\n",
       "    </tr>\n",
       "    <tr>\n",
       "      <th>...</th>\n",
       "      <td>...</td>\n",
       "      <td>...</td>\n",
       "      <td>...</td>\n",
       "    </tr>\n",
       "    <tr>\n",
       "      <th>216</th>\n",
       "      <td>3977</td>\n",
       "      <td>4.0</td>\n",
       "      <td>974733513</td>\n",
       "    </tr>\n",
       "    <tr>\n",
       "      <th>216</th>\n",
       "      <td>3994</td>\n",
       "      <td>5.0</td>\n",
       "      <td>975598752</td>\n",
       "    </tr>\n",
       "    <tr>\n",
       "      <th>216</th>\n",
       "      <td>3996</td>\n",
       "      <td>4.0</td>\n",
       "      <td>982169907</td>\n",
       "    </tr>\n",
       "    <tr>\n",
       "      <th>216</th>\n",
       "      <td>4025</td>\n",
       "      <td>2.0</td>\n",
       "      <td>982169965</td>\n",
       "    </tr>\n",
       "    <tr>\n",
       "      <th>216</th>\n",
       "      <td>4034</td>\n",
       "      <td>5.0</td>\n",
       "      <td>982169907</td>\n",
       "    </tr>\n",
       "  </tbody>\n",
       "</table>\n",
       "<p>771 rows × 3 columns</p>\n",
       "</div>"
      ],
      "text/plain": [
       "        movieId  rating  timestamp\n",
       "userId                            \n",
       "476           1     4.0  835021447\n",
       "476           2     4.0  835021693\n",
       "476          10     3.0  835021420\n",
       "476          11     3.0  835021635\n",
       "476          32     4.0  835021513\n",
       "...         ...     ...        ...\n",
       "216        3977     4.0  974733513\n",
       "216        3994     5.0  975598752\n",
       "216        3996     4.0  982169907\n",
       "216        4025     2.0  982169965\n",
       "216        4034     5.0  982169907\n",
       "\n",
       "[771 rows x 3 columns]"
      ]
     },
     "execution_count": 23,
     "metadata": {},
     "output_type": "execute_result"
    }
   ],
   "source": [
    "# only look at ratings for users that are similar!\n",
    "neighborhood = ratings.set_index('userId').loc[userIds]\n",
    "neighborhood"
   ]
  },
  {
   "cell_type": "code",
   "execution_count": 24,
   "metadata": {
    "ExecuteTime": {
     "end_time": "2022-02-15T14:47:44.302274Z",
     "start_time": "2022-02-15T14:47:44.294701Z"
    },
    "scrolled": true
   },
   "outputs": [
    {
     "data": {
      "text/plain": [
       "movieId\n",
       "1         4.1\n",
       "2         3.0\n",
       "3         4.0\n",
       "5         4.0\n",
       "7         5.0\n",
       "         ... \n",
       "91500     3.5\n",
       "92259     3.5\n",
       "112552    4.5\n",
       "119145    4.0\n",
       "134853    4.0\n",
       "Name: rating, Length: 430, dtype: float64"
      ]
     },
     "execution_count": 24,
     "metadata": {},
     "output_type": "execute_result"
    }
   ],
   "source": [
    "scores = neighborhood.groupby('movieId')['rating'].mean()\n",
    "scores"
   ]
  },
  {
   "cell_type": "code",
   "execution_count": null,
   "metadata": {
    "ExecuteTime": {
     "end_time": "2022-02-15T14:47:44.429133Z",
     "start_time": "2022-02-15T14:47:44.426681Z"
    }
   },
   "outputs": [],
   "source": [
    "# calculate the summed up rating for each movie\n",
    "# summing up introduces a bias for popular movies\n",
    "# averaging introduces bias for movies only seen by few users in the neighboorhood"
   ]
  },
  {
   "cell_type": "markdown",
   "metadata": {},
   "source": [
    "### Give recommendations (same as before!)"
   ]
  },
  {
   "cell_type": "code",
   "execution_count": null,
   "metadata": {
    "ExecuteTime": {
     "end_time": "2022-02-15T14:47:44.683322Z",
     "start_time": "2022-02-15T14:47:44.679652Z"
    }
   },
   "outputs": [],
   "source": [
    "example_query.keys()"
   ]
  },
  {
   "cell_type": "code",
   "execution_count": null,
   "metadata": {
    "ExecuteTime": {
     "end_time": "2022-02-15T14:47:45.778689Z",
     "start_time": "2022-02-15T14:47:45.773511Z"
    }
   },
   "outputs": [],
   "source": [
    "# give a zero score to movies the user has allready seen\n",
    "scores.loc[scores.index.isin(example_query.keys())] = 0 \n"
   ]
  },
  {
   "cell_type": "code",
   "execution_count": null,
   "metadata": {
    "ExecuteTime": {
     "end_time": "2022-02-15T14:47:46.077960Z",
     "start_time": "2022-02-15T14:47:46.074131Z"
    }
   },
   "outputs": [],
   "source": [
    "# sort the scores from high to low \n",
    "scores.sort_values(ascending=False,inplace=True)"
   ]
  },
  {
   "cell_type": "code",
   "execution_count": null,
   "metadata": {
    "ExecuteTime": {
     "end_time": "2022-02-15T14:47:46.306598Z",
     "start_time": "2022-02-15T14:47:46.302900Z"
    }
   },
   "outputs": [],
   "source": [
    "# get the movieIds of the top 10 entries\n",
    "scores_10 = scores.head(10)"
   ]
  },
  {
   "cell_type": "code",
   "execution_count": null,
   "metadata": {
    "ExecuteTime": {
     "end_time": "2022-02-15T14:47:46.775359Z",
     "start_time": "2022-02-15T14:47:46.763897Z"
    },
    "scrolled": false
   },
   "outputs": [],
   "source": [
    "# let's see the recommendations!\n",
    "\n",
    "recommendations = movies.set_index('movieId').loc[scores_10.index]\n",
    "recommendations\n"
   ]
  },
  {
   "cell_type": "markdown",
   "metadata": {},
   "source": [
    "---\n",
    "## 3. Project Task: neighborhood based recommender function\n",
    "\n",
    "- Collect different example queries for \"typical\" users (e.g. a horror movie buff) and try out the algorithm\n",
    "- Set the number of neighbors to a very high or low number. What happens to the recommendations?\n",
    "- Implement a recommender function that recommends movies to a new user based on the NearestNeighbor model!\n",
    "\n",
    "\n",
    "- ⭐ **Bonus**: Calculate the score using a weighted sum or average. Use the distances to the other users as weights\n",
    "- ⭐ **Bonus**: Use the method to find and recommend similar movies! Hint: Run the model on the transposed user item rating matrix.\n",
    "- ⭐ **Bonus**: First use NMF to reduce the dimensionality of the sparse user item matrix. Then run neighborhood based recommendation on the dense matrix."
   ]
  },
  {
   "cell_type": "code",
   "execution_count": null,
   "metadata": {
    "ExecuteTime": {
     "end_time": "2022-02-15T14:47:00.580352Z",
     "start_time": "2022-02-15T14:47:00.577557Z"
    }
   },
   "outputs": [],
   "source": [
    "# collaborative filtering = look at ratings only!\n",
    "def recommend_neighborhood(query, model, ratings, k=10):\n",
    "    \"\"\"\n",
    "    Filters and recommends the top k movies for any given input query based on a trained nearest neighbors model. \n",
    "    Returns a list of k movie ids.\n",
    "    \"\"\"\n",
    "    # 1. candiate generation\n",
    "    \n",
    "    # construct a user vector\n",
    "    \n",
    "   \n",
    "    # 2. scoring\n",
    "    \n",
    "    # find n neighbors\n",
    "    \n",
    "    # calculate their average rating\n",
    "    \n",
    "    \n",
    "    # 3. ranking\n",
    "    \n",
    "    # filter out movies allready seen by the user\n",
    "    \n",
    "    # return the top-k highst rated movie ids or titles\n",
    "    \n",
    "    return [364, 372, 43, 34, 243]"
   ]
  },
  {
   "cell_type": "code",
   "execution_count": null,
   "metadata": {
    "ExecuteTime": {
     "end_time": "2022-02-15T14:47:00.583018Z",
     "start_time": "2022-02-15T14:47:00.581379Z"
    }
   },
   "outputs": [],
   "source": [
    "# recommender.py\n",
    "# from recommender import recommend_neighborhood"
   ]
  },
  {
   "cell_type": "code",
   "execution_count": null,
   "metadata": {},
   "outputs": [],
   "source": []
  }
 ],
 "metadata": {
  "kernelspec": {
   "display_name": "Python 3 (ipykernel)",
   "language": "python",
   "name": "python3"
  },
  "language_info": {
   "codemirror_mode": {
    "name": "ipython",
    "version": 3
   },
   "file_extension": ".py",
   "mimetype": "text/x-python",
   "name": "python",
   "nbconvert_exporter": "python",
   "pygments_lexer": "ipython3",
   "version": "3.8.8"
  },
  "toc": {
   "base_numbering": 1,
   "nav_menu": {},
   "number_sections": true,
   "sideBar": true,
   "skip_h1_title": false,
   "title_cell": "Table of Contents",
   "title_sidebar": "Contents",
   "toc_cell": false,
   "toc_position": {},
   "toc_section_display": true,
   "toc_window_display": true
  }
 },
 "nbformat": 4,
 "nbformat_minor": 4
}
