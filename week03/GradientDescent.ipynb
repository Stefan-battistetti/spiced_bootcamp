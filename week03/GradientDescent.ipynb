{
  "cells": [
    {
      "cell_type": "markdown",
      "source": [
        "# Gradient Descent "
      ],
      "metadata": {
        "id": "yJLHXw03fH4p"
      }
    },
    {
      "cell_type": "code",
      "execution_count": 1,
      "source": [
        "import matplotlib.pyplot as plt\n",
        "import numpy as np\n",
        "import pandas as pd\n",
        "import seaborn as sns\n",
        "\n",
        "np.random.seed(42)"
      ],
      "outputs": [],
      "metadata": {
        "collapsed": true,
        "id": "zeHv06_BfH4u"
      }
    },
    {
      "cell_type": "markdown",
      "source": [
        "## Reading and plotting the data"
      ],
      "metadata": {
        "id": "yYvqe7YDfH4v"
      }
    },
    {
      "cell_type": "code",
      "execution_count": 2,
      "source": [
        "data = pd.read_csv('gd_data.csv', header=None)\n",
        "X = np.array(data.iloc[:,:2])\n",
        "y = np.array(data.iloc[:,-1])"
      ],
      "outputs": [],
      "metadata": {
        "collapsed": true,
        "id": "nwzDb8X5fH4w"
      }
    },
    {
      "cell_type": "code",
      "execution_count": 3,
      "source": [
        "(X.shape, y.shape)"
      ],
      "outputs": [
        {
          "output_type": "execute_result",
          "data": {
            "text/plain": [
              "((100, 2), (100,))"
            ]
          },
          "metadata": {},
          "execution_count": 3
        }
      ],
      "metadata": {
        "colab": {
          "base_uri": "https://localhost:8080/"
        },
        "id": "L9GB5r3lfH4w",
        "outputId": "f20d0aff-70fa-4964-8143-d445e0a58069"
      }
    },
    {
      "cell_type": "markdown",
      "source": [
        "## TODO: Complete the implementation\n"
      ],
      "metadata": {
        "id": "PBr234wffH4y"
      }
    },
    {
      "cell_type": "markdown",
      "source": [
        "Sigmoid activation function\n",
        "\n",
        "$$\\sigma(x) = \\frac{1}{1+e^{-x}}$$"
      ],
      "metadata": {
        "id": "T-JrTzlafH4y"
      }
    },
    {
      "cell_type": "code",
      "execution_count": 22,
      "source": [
        "def sigmoid(x):\n",
        "    return 1/(1+np.exp(-x))"
      ],
      "outputs": [],
      "metadata": {
        "id": "04oH0uc_fH4z"
      }
    },
    {
      "cell_type": "markdown",
      "source": [
        "Prediction function\n",
        "\n",
        "$$\\hat{y} = \\sigma(w_1 x_1 + w_2 x_2 + b)$$"
      ],
      "metadata": {
        "id": "KNXkBq5QfH4z"
      }
    },
    {
      "cell_type": "code",
      "execution_count": 23,
      "source": [
        "# use np.dot() to multiply features and weights, we will talk about \n",
        "# that function later but you can think of it as multiplication for now\n",
        "\n",
        "def output_formula(features, weights, bias):\n",
        "    return sigmoid(np.dot(features, weights)+bias)"
      ],
      "outputs": [],
      "metadata": {
        "id": "Viumg4RKfH4z"
      }
    },
    {
      "cell_type": "markdown",
      "source": [
        "Error function\n",
        "\n",
        "$$Error(y, \\hat{y}) = - y \\log(\\hat{y}) - (1-y) \\log(1-\\hat{y})$$"
      ],
      "metadata": {
        "id": "7ImVpZGXfH40"
      }
    },
    {
      "cell_type": "code",
      "execution_count": 24,
      "source": [
        "def error_formula(y, output):\n",
        "    return (-y*np.log(output))-((1-y)*np.log(1-output))"
      ],
      "outputs": [],
      "metadata": {
        "id": "GNTsAqsIfH40"
      }
    },
    {
      "cell_type": "markdown",
      "source": [
        "The function that updates the weights\n",
        "\n",
        "$$ w_i \\longrightarrow w_i - \\alpha (-(y - \\hat{y})) x_i$$\n",
        "\n",
        "$$ b \\longrightarrow b - \\alpha (-(y - \\hat{y})) $$"
      ],
      "metadata": {
        "id": "bU72MawnfH41"
      }
    },
    {
      "cell_type": "code",
      "execution_count": 28,
      "source": [
        "def update_weights(x, y, weights, bias, learnrate):\n",
        "    weights = weights - (learnrate * (-(y-output_formula(x, weights, bias)))*x)\n",
        "    bias = bias - learnrate * (-(y-output_formula(x, weights, bias)))\n",
        "    return weights,bias"
      ],
      "outputs": [],
      "metadata": {
        "id": "OOkM695rfH42"
      }
    },
    {
      "cell_type": "markdown",
      "source": [
        ""
      ],
      "metadata": {
        "id": "Vywg8A85q_ND"
      }
    },
    {
      "cell_type": "markdown",
      "source": [
        "## Training"
      ],
      "metadata": {
        "id": "gKCIl9DufH42"
      }
    },
    {
      "cell_type": "code",
      "execution_count": 29,
      "source": [
        "epochs = 100\n",
        "learnrate = 0.01\n",
        "\n",
        "def train(features, targets, epochs, learnrate):\n",
        "    \n",
        "    errors = []\n",
        "    _, n_features = features.shape\n",
        "    weights = np.random.normal(size=n_features)\n",
        "    bias = 0\n",
        "\n",
        "    for e in range(epochs):\n",
        "        for x, y in zip(features, targets):\n",
        "            weights, bias = update_weights(x, y, weights, bias, learnrate)\n",
        "        \n",
        "        out = output_formula(features, weights, bias)\n",
        "        loss = np.mean(error_formula(targets, out))\n",
        "        errors.append(loss)\n",
        "        \n",
        "        if e % (epochs / 10) == 0:\n",
        "            print(\"\\n================ Epoch\", e,\"================\")\n",
        "            print(\"Train loss: \", loss)\n",
        "            \n",
        "            predictions = out > 0.5\n",
        "            accuracy = np.mean(predictions == targets)\n",
        "            print(\"Accuracy: \", accuracy)\n",
        "            \n",
        "\n",
        "    # Error plot\n",
        "    plt.xlabel('Number of epochs')\n",
        "    plt.ylabel('Error')\n",
        "    plt.plot(errors)\n",
        "    plt.show()"
      ],
      "outputs": [],
      "metadata": {
        "collapsed": true,
        "id": "mVs5daLPfH43"
      }
    },
    {
      "cell_type": "code",
      "execution_count": 30,
      "source": [
        "train(X, y, epochs, learnrate)"
      ],
      "outputs": [
        {
          "output_type": "stream",
          "name": "stdout",
          "text": [
            "\n",
            "================ Epoch 0 ================\n",
            "Train loss:  0.6874447546808865\n",
            "Accuracy:  0.58\n",
            "\n",
            "================ Epoch 10 ================\n",
            "Train loss:  0.6064193046706267\n",
            "Accuracy:  0.6\n",
            "\n",
            "================ Epoch 20 ================\n",
            "Train loss:  0.5421243605033897\n",
            "Accuracy:  0.77\n",
            "\n",
            "================ Epoch 30 ================\n",
            "Train loss:  0.4915191679509609\n",
            "Accuracy:  0.86\n",
            "\n",
            "================ Epoch 40 ================\n",
            "Train loss:  0.4512516917606754\n",
            "Accuracy:  0.89\n",
            "\n",
            "================ Epoch 50 ================\n",
            "Train loss:  0.41869059990862356\n",
            "Accuracy:  0.93\n",
            "\n",
            "================ Epoch 60 ================\n",
            "Train loss:  0.391941045585177\n",
            "Accuracy:  0.92\n",
            "\n",
            "================ Epoch 70 ================\n",
            "Train loss:  0.36963983340345297\n",
            "Accuracy:  0.92\n",
            "\n",
            "================ Epoch 80 ================\n",
            "Train loss:  0.3507971714958144\n",
            "Accuracy:  0.94\n",
            "\n",
            "================ Epoch 90 ================\n",
            "Train loss:  0.3346848794176265\n",
            "Accuracy:  0.94\n"
          ]
        },
        {
          "output_type": "display_data",
          "data": {
            "image/png": "[encoded data removed]",
            "text/plain": [
              "<Figure size 432x288 with 1 Axes>"
            ]
          },
          "metadata": {
            "needs_background": "light"
          }
        }
      ],
      "metadata": {
        "collapsed": true,
        "colab": {
          "base_uri": "https://localhost:8080/",
          "height": 960
        },
        "id": "aU6pqHN5fH44",
        "outputId": "cd7f7efa-e5d8-41a7-e8c6-cd994f8a39f8"
      }
    },
    {
      "cell_type": "code",
      "execution_count": null,
      "source": [
        ""
      ],
      "outputs": [],
      "metadata": {
        "id": "5HbsmhkafH45"
      }
    },
    {
      "cell_type": "code",
      "execution_count": null,
      "source": [
        ""
      ],
      "outputs": [],
      "metadata": {
        "id": "Odu4WvQ1fH45"
      }
    }
  ],
  "metadata": {
    "kernelspec": {
      "name": "python3",
      "display_name": "Python 3.8.8 64-bit ('base': conda)"
    },
    "language_info": {
      "codemirror_mode": {
        "name": "ipython",
        "version": 3
      },
      "file_extension": ".py",
      "mimetype": "text/x-python",
      "name": "python",
      "nbconvert_exporter": "python",
      "pygments_lexer": "ipython3",
      "version": "3.8.8"
    },
    "interpreter": {
      "hash": "dca0ade3e726a953b501b15e8e990130d2b7799f14cfd9f4271676035ebe5511"
    },
    "colab": {
      "name": "GradientDescent.ipynb",
      "provenance": [],
      "collapsed_sections": []
    }
  },
  "nbformat": 4,
  "nbformat_minor": 0
}