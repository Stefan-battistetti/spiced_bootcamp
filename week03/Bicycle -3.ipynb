{
  "nbformat": 4,
  "nbformat_minor": 0,
  "metadata": {
    "colab": {
      "name": "Bicycle.ipynb",
      "provenance": [],
      "collapsed_sections": []
    },
    "kernelspec": {
      "name": "python3",
      "display_name": "Python 3"
    },
    "language_info": {
      "name": "python"
    }
  },
  "cells": [
    {
      "cell_type": "markdown",
      "source": [
        "# **Weekly Project**\n",
        "The goal for this week’s project is to build and train a regression model on the Capital Bike Share (Washington, D.C.) Kaggle data set, in order to predict demand for bicycle rentals at any given hour, based on time and weather, e.g.:\n",
        "“Given the forecasted weather conditions, how many bicycles can we expect to be rented out (city-wide) this Saturday at 2pm?”\n",
        "\n",
        "\n",
        "*  split the data into a training and test set\n",
        "*   conduct an exploratory data analysis\n",
        "*   train a regression model\n",
        "* iteratively optimize the model by expanding or selecting \n",
        "features\n",
        "* regularize the model to avoid overfitting\n",
        "* calculate a RMSLE for the training and test set\n",
        "* upload your code to GitHub\n",
        "\n",
        "\n",
        "\n",
        "\n",
        "\n",
        "\n",
        "\n",
        "\n",
        "\n",
        "\n",
        "\n"
      ],
      "metadata": {
        "id": "7BlMXxGSuAne"
      }
    },
    {
      "cell_type": "code",
      "execution_count": 97,
      "metadata": {
        "id": "ToremlVnt7ty"
      },
      "outputs": [],
      "source": [
        "import pandas as pd\n",
        "import numpy as np\n",
        "import matplotlib.pyplot as plt\n",
        "import seaborn as sns\n",
        "from datetime import datetime\n",
        "#from sklearn.model_selection import TimeSeriesSplit\n",
        "from sklearn.model_selection import train_test_split\n",
        "from sklearn.pipeline import Pipeline, make_pipeline\n",
        "from sklearn.compose import ColumnTransformer\n",
        "from sklearn.impute import SimpleImputer\n",
        "from sklearn.preprocessing import OneHotEncoder, RobustScaler, PolynomialFeatures, FunctionTransformer\n",
        "from sklearn.linear_model import Lasso\n",
        "from sklearn.model_selection import cross_val_score \n",
        "from sklearn.metrics import mean_squared_error\n",
        "from sklearn.metrics import make_scorer\n",
        "from sklearn.linear_model import LinearRegression"
      ]
    },
    {
      "cell_type": "code",
      "source": [
        "df=pd.read_csv('train.csv', index_col=0, parse_dates=True)\n",
        "df.head()"
      ],
      "metadata": {
        "colab": {
          "base_uri": "https://localhost:8080/",
          "height": 235
        },
        "id": "WUqNnJHJwzNu",
        "outputId": "ff80d930-a2b7-4cd0-ce58-508053db4afa"
      },
      "execution_count": 2,
      "outputs": [
        {
          "output_type": "execute_result",
          "data": {
            "text/html": [
              "<div>\n",
              "<style scoped>\n",
              "    .dataframe tbody tr th:only-of-type {\n",
              "        vertical-align: middle;\n",
              "    }\n",
              "\n",
              "    .dataframe tbody tr th {\n",
              "        vertical-align: top;\n",
              "    }\n",
              "\n",
              "    .dataframe thead th {\n",
              "        text-align: right;\n",
              "    }\n",
              "</style>\n",
              "<table border=\"1\" class=\"dataframe\">\n",
              "  <thead>\n",
              "    <tr style=\"text-align: right;\">\n",
              "      <th></th>\n",
              "      <th>season</th>\n",
              "      <th>holiday</th>\n",
              "      <th>workingday</th>\n",
              "      <th>weather</th>\n",
              "      <th>temp</th>\n",
              "      <th>atemp</th>\n",
              "      <th>humidity</th>\n",
              "      <th>windspeed</th>\n",
              "      <th>casual</th>\n",
              "      <th>registered</th>\n",
              "      <th>count</th>\n",
              "    </tr>\n",
              "    <tr>\n",
              "      <th>datetime</th>\n",
              "      <th></th>\n",
              "      <th></th>\n",
              "      <th></th>\n",
              "      <th></th>\n",
              "      <th></th>\n",
              "      <th></th>\n",
              "      <th></th>\n",
              "      <th></th>\n",
              "      <th></th>\n",
              "      <th></th>\n",
              "      <th></th>\n",
              "    </tr>\n",
              "  </thead>\n",
              "  <tbody>\n",
              "    <tr>\n",
              "      <th>2011-01-01 00:00:00</th>\n",
              "      <td>1</td>\n",
              "      <td>0</td>\n",
              "      <td>0</td>\n",
              "      <td>1</td>\n",
              "      <td>9.84</td>\n",
              "      <td>14.395</td>\n",
              "      <td>81</td>\n",
              "      <td>0.0</td>\n",
              "      <td>3</td>\n",
              "      <td>13</td>\n",
              "      <td>16</td>\n",
              "    </tr>\n",
              "    <tr>\n",
              "      <th>2011-01-01 01:00:00</th>\n",
              "      <td>1</td>\n",
              "      <td>0</td>\n",
              "      <td>0</td>\n",
              "      <td>1</td>\n",
              "      <td>9.02</td>\n",
              "      <td>13.635</td>\n",
              "      <td>80</td>\n",
              "      <td>0.0</td>\n",
              "      <td>8</td>\n",
              "      <td>32</td>\n",
              "      <td>40</td>\n",
              "    </tr>\n",
              "    <tr>\n",
              "      <th>2011-01-01 02:00:00</th>\n",
              "      <td>1</td>\n",
              "      <td>0</td>\n",
              "      <td>0</td>\n",
              "      <td>1</td>\n",
              "      <td>9.02</td>\n",
              "      <td>13.635</td>\n",
              "      <td>80</td>\n",
              "      <td>0.0</td>\n",
              "      <td>5</td>\n",
              "      <td>27</td>\n",
              "      <td>32</td>\n",
              "    </tr>\n",
              "    <tr>\n",
              "      <th>2011-01-01 03:00:00</th>\n",
              "      <td>1</td>\n",
              "      <td>0</td>\n",
              "      <td>0</td>\n",
              "      <td>1</td>\n",
              "      <td>9.84</td>\n",
              "      <td>14.395</td>\n",
              "      <td>75</td>\n",
              "      <td>0.0</td>\n",
              "      <td>3</td>\n",
              "      <td>10</td>\n",
              "      <td>13</td>\n",
              "    </tr>\n",
              "    <tr>\n",
              "      <th>2011-01-01 04:00:00</th>\n",
              "      <td>1</td>\n",
              "      <td>0</td>\n",
              "      <td>0</td>\n",
              "      <td>1</td>\n",
              "      <td>9.84</td>\n",
              "      <td>14.395</td>\n",
              "      <td>75</td>\n",
              "      <td>0.0</td>\n",
              "      <td>0</td>\n",
              "      <td>1</td>\n",
              "      <td>1</td>\n",
              "    </tr>\n",
              "  </tbody>\n",
              "</table>\n",
              "</div>"
            ],
            "text/plain": [
              "                     season  holiday  workingday  ...  casual  registered  count\n",
              "datetime                                          ...                           \n",
              "2011-01-01 00:00:00       1        0           0  ...       3          13     16\n",
              "2011-01-01 01:00:00       1        0           0  ...       8          32     40\n",
              "2011-01-01 02:00:00       1        0           0  ...       5          27     32\n",
              "2011-01-01 03:00:00       1        0           0  ...       3          10     13\n",
              "2011-01-01 04:00:00       1        0           0  ...       0           1      1\n",
              "\n",
              "[5 rows x 11 columns]"
            ]
          },
          "metadata": {},
          "execution_count": 2
        }
      ]
    },
    {
      "cell_type": "code",
      "source": [
        "df.tail()"
      ],
      "metadata": {
        "colab": {
          "base_uri": "https://localhost:8080/",
          "height": 235
        },
        "id": "c-7o6D8HynSL",
        "outputId": "01e62efd-21d1-4d53-9994-f3450bd9334d"
      },
      "execution_count": 3,
      "outputs": [
        {
          "output_type": "execute_result",
          "data": {
            "text/html": [
              "<div>\n",
              "<style scoped>\n",
              "    .dataframe tbody tr th:only-of-type {\n",
              "        vertical-align: middle;\n",
              "    }\n",
              "\n",
              "    .dataframe tbody tr th {\n",
              "        vertical-align: top;\n",
              "    }\n",
              "\n",
              "    .dataframe thead th {\n",
              "        text-align: right;\n",
              "    }\n",
              "</style>\n",
              "<table border=\"1\" class=\"dataframe\">\n",
              "  <thead>\n",
              "    <tr style=\"text-align: right;\">\n",
              "      <th></th>\n",
              "      <th>season</th>\n",
              "      <th>holiday</th>\n",
              "      <th>workingday</th>\n",
              "      <th>weather</th>\n",
              "      <th>temp</th>\n",
              "      <th>atemp</th>\n",
              "      <th>humidity</th>\n",
              "      <th>windspeed</th>\n",
              "      <th>casual</th>\n",
              "      <th>registered</th>\n",
              "      <th>count</th>\n",
              "    </tr>\n",
              "    <tr>\n",
              "      <th>datetime</th>\n",
              "      <th></th>\n",
              "      <th></th>\n",
              "      <th></th>\n",
              "      <th></th>\n",
              "      <th></th>\n",
              "      <th></th>\n",
              "      <th></th>\n",
              "      <th></th>\n",
              "      <th></th>\n",
              "      <th></th>\n",
              "      <th></th>\n",
              "    </tr>\n",
              "  </thead>\n",
              "  <tbody>\n",
              "    <tr>\n",
              "      <th>2012-12-19 19:00:00</th>\n",
              "      <td>4</td>\n",
              "      <td>0</td>\n",
              "      <td>1</td>\n",
              "      <td>1</td>\n",
              "      <td>15.58</td>\n",
              "      <td>19.695</td>\n",
              "      <td>50</td>\n",
              "      <td>26.0027</td>\n",
              "      <td>7</td>\n",
              "      <td>329</td>\n",
              "      <td>336</td>\n",
              "    </tr>\n",
              "    <tr>\n",
              "      <th>2012-12-19 20:00:00</th>\n",
              "      <td>4</td>\n",
              "      <td>0</td>\n",
              "      <td>1</td>\n",
              "      <td>1</td>\n",
              "      <td>14.76</td>\n",
              "      <td>17.425</td>\n",
              "      <td>57</td>\n",
              "      <td>15.0013</td>\n",
              "      <td>10</td>\n",
              "      <td>231</td>\n",
              "      <td>241</td>\n",
              "    </tr>\n",
              "    <tr>\n",
              "      <th>2012-12-19 21:00:00</th>\n",
              "      <td>4</td>\n",
              "      <td>0</td>\n",
              "      <td>1</td>\n",
              "      <td>1</td>\n",
              "      <td>13.94</td>\n",
              "      <td>15.910</td>\n",
              "      <td>61</td>\n",
              "      <td>15.0013</td>\n",
              "      <td>4</td>\n",
              "      <td>164</td>\n",
              "      <td>168</td>\n",
              "    </tr>\n",
              "    <tr>\n",
              "      <th>2012-12-19 22:00:00</th>\n",
              "      <td>4</td>\n",
              "      <td>0</td>\n",
              "      <td>1</td>\n",
              "      <td>1</td>\n",
              "      <td>13.94</td>\n",
              "      <td>17.425</td>\n",
              "      <td>61</td>\n",
              "      <td>6.0032</td>\n",
              "      <td>12</td>\n",
              "      <td>117</td>\n",
              "      <td>129</td>\n",
              "    </tr>\n",
              "    <tr>\n",
              "      <th>2012-12-19 23:00:00</th>\n",
              "      <td>4</td>\n",
              "      <td>0</td>\n",
              "      <td>1</td>\n",
              "      <td>1</td>\n",
              "      <td>13.12</td>\n",
              "      <td>16.665</td>\n",
              "      <td>66</td>\n",
              "      <td>8.9981</td>\n",
              "      <td>4</td>\n",
              "      <td>84</td>\n",
              "      <td>88</td>\n",
              "    </tr>\n",
              "  </tbody>\n",
              "</table>\n",
              "</div>"
            ],
            "text/plain": [
              "                     season  holiday  workingday  ...  casual  registered  count\n",
              "datetime                                          ...                           \n",
              "2012-12-19 19:00:00       4        0           1  ...       7         329    336\n",
              "2012-12-19 20:00:00       4        0           1  ...      10         231    241\n",
              "2012-12-19 21:00:00       4        0           1  ...       4         164    168\n",
              "2012-12-19 22:00:00       4        0           1  ...      12         117    129\n",
              "2012-12-19 23:00:00       4        0           1  ...       4          84     88\n",
              "\n",
              "[5 rows x 11 columns]"
            ]
          },
          "metadata": {},
          "execution_count": 3
        }
      ]
    },
    {
      "cell_type": "code",
      "source": [
        "df.index.resolution"
      ],
      "metadata": {
        "colab": {
          "base_uri": "https://localhost:8080/",
          "height": 37
        },
        "id": "3Qkgb5TLxYlY",
        "outputId": "d12f95eb-8772-4cc9-8cfd-b07857a460fa"
      },
      "execution_count": 4,
      "outputs": [
        {
          "output_type": "execute_result",
          "data": {
            "application/vnd.google.colaboratory.intrinsic+json": {
              "type": "string"
            },
            "text/plain": [
              "'hour'"
            ]
          },
          "metadata": {},
          "execution_count": 4
        }
      ]
    },
    {
      "cell_type": "code",
      "source": [
        "df.describe()"
      ],
      "metadata": {
        "colab": {
          "base_uri": "https://localhost:8080/",
          "height": 297
        },
        "id": "kG0OjXn8xePB",
        "outputId": "fe3e05ca-c598-4b89-a21b-404211e637de"
      },
      "execution_count": 5,
      "outputs": [
        {
          "output_type": "execute_result",
          "data": {
            "text/html": [
              "<div>\n",
              "<style scoped>\n",
              "    .dataframe tbody tr th:only-of-type {\n",
              "        vertical-align: middle;\n",
              "    }\n",
              "\n",
              "    .dataframe tbody tr th {\n",
              "        vertical-align: top;\n",
              "    }\n",
              "\n",
              "    .dataframe thead th {\n",
              "        text-align: right;\n",
              "    }\n",
              "</style>\n",
              "<table border=\"1\" class=\"dataframe\">\n",
              "  <thead>\n",
              "    <tr style=\"text-align: right;\">\n",
              "      <th></th>\n",
              "      <th>season</th>\n",
              "      <th>holiday</th>\n",
              "      <th>workingday</th>\n",
              "      <th>weather</th>\n",
              "      <th>temp</th>\n",
              "      <th>atemp</th>\n",
              "      <th>humidity</th>\n",
              "      <th>windspeed</th>\n",
              "      <th>casual</th>\n",
              "      <th>registered</th>\n",
              "      <th>count</th>\n",
              "    </tr>\n",
              "  </thead>\n",
              "  <tbody>\n",
              "    <tr>\n",
              "      <th>count</th>\n",
              "      <td>10886.000000</td>\n",
              "      <td>10886.000000</td>\n",
              "      <td>10886.000000</td>\n",
              "      <td>10886.000000</td>\n",
              "      <td>10886.00000</td>\n",
              "      <td>10886.000000</td>\n",
              "      <td>10886.000000</td>\n",
              "      <td>10886.000000</td>\n",
              "      <td>10886.000000</td>\n",
              "      <td>10886.000000</td>\n",
              "      <td>10886.000000</td>\n",
              "    </tr>\n",
              "    <tr>\n",
              "      <th>mean</th>\n",
              "      <td>2.506614</td>\n",
              "      <td>0.028569</td>\n",
              "      <td>0.680875</td>\n",
              "      <td>1.418427</td>\n",
              "      <td>20.23086</td>\n",
              "      <td>23.655084</td>\n",
              "      <td>61.886460</td>\n",
              "      <td>12.799395</td>\n",
              "      <td>36.021955</td>\n",
              "      <td>155.552177</td>\n",
              "      <td>191.574132</td>\n",
              "    </tr>\n",
              "    <tr>\n",
              "      <th>std</th>\n",
              "      <td>1.116174</td>\n",
              "      <td>0.166599</td>\n",
              "      <td>0.466159</td>\n",
              "      <td>0.633839</td>\n",
              "      <td>7.79159</td>\n",
              "      <td>8.474601</td>\n",
              "      <td>19.245033</td>\n",
              "      <td>8.164537</td>\n",
              "      <td>49.960477</td>\n",
              "      <td>151.039033</td>\n",
              "      <td>181.144454</td>\n",
              "    </tr>\n",
              "    <tr>\n",
              "      <th>min</th>\n",
              "      <td>1.000000</td>\n",
              "      <td>0.000000</td>\n",
              "      <td>0.000000</td>\n",
              "      <td>1.000000</td>\n",
              "      <td>0.82000</td>\n",
              "      <td>0.760000</td>\n",
              "      <td>0.000000</td>\n",
              "      <td>0.000000</td>\n",
              "      <td>0.000000</td>\n",
              "      <td>0.000000</td>\n",
              "      <td>1.000000</td>\n",
              "    </tr>\n",
              "    <tr>\n",
              "      <th>25%</th>\n",
              "      <td>2.000000</td>\n",
              "      <td>0.000000</td>\n",
              "      <td>0.000000</td>\n",
              "      <td>1.000000</td>\n",
              "      <td>13.94000</td>\n",
              "      <td>16.665000</td>\n",
              "      <td>47.000000</td>\n",
              "      <td>7.001500</td>\n",
              "      <td>4.000000</td>\n",
              "      <td>36.000000</td>\n",
              "      <td>42.000000</td>\n",
              "    </tr>\n",
              "    <tr>\n",
              "      <th>50%</th>\n",
              "      <td>3.000000</td>\n",
              "      <td>0.000000</td>\n",
              "      <td>1.000000</td>\n",
              "      <td>1.000000</td>\n",
              "      <td>20.50000</td>\n",
              "      <td>24.240000</td>\n",
              "      <td>62.000000</td>\n",
              "      <td>12.998000</td>\n",
              "      <td>17.000000</td>\n",
              "      <td>118.000000</td>\n",
              "      <td>145.000000</td>\n",
              "    </tr>\n",
              "    <tr>\n",
              "      <th>75%</th>\n",
              "      <td>4.000000</td>\n",
              "      <td>0.000000</td>\n",
              "      <td>1.000000</td>\n",
              "      <td>2.000000</td>\n",
              "      <td>26.24000</td>\n",
              "      <td>31.060000</td>\n",
              "      <td>77.000000</td>\n",
              "      <td>16.997900</td>\n",
              "      <td>49.000000</td>\n",
              "      <td>222.000000</td>\n",
              "      <td>284.000000</td>\n",
              "    </tr>\n",
              "    <tr>\n",
              "      <th>max</th>\n",
              "      <td>4.000000</td>\n",
              "      <td>1.000000</td>\n",
              "      <td>1.000000</td>\n",
              "      <td>4.000000</td>\n",
              "      <td>41.00000</td>\n",
              "      <td>45.455000</td>\n",
              "      <td>100.000000</td>\n",
              "      <td>56.996900</td>\n",
              "      <td>367.000000</td>\n",
              "      <td>886.000000</td>\n",
              "      <td>977.000000</td>\n",
              "    </tr>\n",
              "  </tbody>\n",
              "</table>\n",
              "</div>"
            ],
            "text/plain": [
              "             season       holiday  ...    registered         count\n",
              "count  10886.000000  10886.000000  ...  10886.000000  10886.000000\n",
              "mean       2.506614      0.028569  ...    155.552177    191.574132\n",
              "std        1.116174      0.166599  ...    151.039033    181.144454\n",
              "min        1.000000      0.000000  ...      0.000000      1.000000\n",
              "25%        2.000000      0.000000  ...     36.000000     42.000000\n",
              "50%        3.000000      0.000000  ...    118.000000    145.000000\n",
              "75%        4.000000      0.000000  ...    222.000000    284.000000\n",
              "max        4.000000      1.000000  ...    886.000000    977.000000\n",
              "\n",
              "[8 rows x 11 columns]"
            ]
          },
          "metadata": {},
          "execution_count": 5
        }
      ]
    },
    {
      "cell_type": "code",
      "source": [
        "df.info()"
      ],
      "metadata": {
        "colab": {
          "base_uri": "https://localhost:8080/"
        },
        "id": "eQvYcehCxspo",
        "outputId": "39e7bc7d-5987-4414-e5a5-c661a9042d6c"
      },
      "execution_count": 6,
      "outputs": [
        {
          "output_type": "stream",
          "name": "stdout",
          "text": [
            "<class 'pandas.core.frame.DataFrame'>\n",
            "DatetimeIndex: 10886 entries, 2011-01-01 00:00:00 to 2012-12-19 23:00:00\n",
            "Data columns (total 11 columns):\n",
            " #   Column      Non-Null Count  Dtype  \n",
            "---  ------      --------------  -----  \n",
            " 0   season      10886 non-null  int64  \n",
            " 1   holiday     10886 non-null  int64  \n",
            " 2   workingday  10886 non-null  int64  \n",
            " 3   weather     10886 non-null  int64  \n",
            " 4   temp        10886 non-null  float64\n",
            " 5   atemp       10886 non-null  float64\n",
            " 6   humidity    10886 non-null  int64  \n",
            " 7   windspeed   10886 non-null  float64\n",
            " 8   casual      10886 non-null  int64  \n",
            " 9   registered  10886 non-null  int64  \n",
            " 10  count       10886 non-null  int64  \n",
            "dtypes: float64(3), int64(8)\n",
            "memory usage: 1020.6 KB\n"
          ]
        }
      ]
    },
    {
      "cell_type": "code",
      "source": [
        "sns.heatmap(df.isna())"
      ],
      "metadata": {
        "colab": {
          "base_uri": "https://localhost:8080/",
          "height": 335
        },
        "id": "rCvbgd-exuUh",
        "outputId": "02502752-e551-483a-d148-f9986cb15cf0"
      },
      "execution_count": 7,
      "outputs": [
        {
          "output_type": "execute_result",
          "data": {
            "text/plain": [
              "<matplotlib.axes._subplots.AxesSubplot at 0x7f9f0d91d3d0>"
            ]
          },
          "metadata": {},
          "execution_count": 7
        },
        {
          "output_type": "display_data",
          "data": {
            "image/png": "[encoded data removed]",
            "text/plain": [
              "<Figure size 432x288 with 2 Axes>"
            ]
          },
          "metadata": {
            "needs_background": "light"
          }
        }
      ]
    },
    {
      "cell_type": "code",
      "source": [
        "plt.figure(figsize=(12, 6))\n",
        "sns.heatmap(df.corr(), annot=True)"
      ],
      "metadata": {
        "colab": {
          "base_uri": "https://localhost:8080/",
          "height": 443
        },
        "id": "vF1rS7vqxqg-",
        "outputId": "8687832c-57a7-4108-aa5a-12099b233538"
      },
      "execution_count": 8,
      "outputs": [
        {
          "output_type": "execute_result",
          "data": {
            "text/plain": [
              "<matplotlib.axes._subplots.AxesSubplot at 0x7f9f05889650>"
            ]
          },
          "metadata": {},
          "execution_count": 8
        },
        {
          "output_type": "display_data",
          "data": {
            "image/png": "[encoded data removed]",
            "text/plain": [
              "<Figure size 864x432 with 2 Axes>"
            ]
          },
          "metadata": {
            "needs_background": "light"
          }
        }
      ]
    },
    {
      "cell_type": "markdown",
      "source": [
        "# **EDA of data**"
      ],
      "metadata": {
        "id": "BNng1LDv_BpR"
      }
    },
    {
      "cell_type": "code",
      "source": [
        "df_2=df.reset_index()\n",
        "df_2.head()"
      ],
      "metadata": {
        "colab": {
          "base_uri": "https://localhost:8080/",
          "height": 204
        },
        "id": "r5fguL6-96SE",
        "outputId": "68c071c6-aec5-4137-a3d1-6755b0411e9f"
      },
      "execution_count": 26,
      "outputs": [
        {
          "output_type": "execute_result",
          "data": {
            "text/html": [
              "<div>\n",
              "<style scoped>\n",
              "    .dataframe tbody tr th:only-of-type {\n",
              "        vertical-align: middle;\n",
              "    }\n",
              "\n",
              "    .dataframe tbody tr th {\n",
              "        vertical-align: top;\n",
              "    }\n",
              "\n",
              "    .dataframe thead th {\n",
              "        text-align: right;\n",
              "    }\n",
              "</style>\n",
              "<table border=\"1\" class=\"dataframe\">\n",
              "  <thead>\n",
              "    <tr style=\"text-align: right;\">\n",
              "      <th></th>\n",
              "      <th>datetime</th>\n",
              "      <th>season</th>\n",
              "      <th>holiday</th>\n",
              "      <th>workingday</th>\n",
              "      <th>weather</th>\n",
              "      <th>temp</th>\n",
              "      <th>atemp</th>\n",
              "      <th>humidity</th>\n",
              "      <th>windspeed</th>\n",
              "      <th>casual</th>\n",
              "      <th>registered</th>\n",
              "      <th>count</th>\n",
              "    </tr>\n",
              "  </thead>\n",
              "  <tbody>\n",
              "    <tr>\n",
              "      <th>0</th>\n",
              "      <td>2011-01-01 00:00:00</td>\n",
              "      <td>1</td>\n",
              "      <td>0</td>\n",
              "      <td>0</td>\n",
              "      <td>1</td>\n",
              "      <td>9.84</td>\n",
              "      <td>14.395</td>\n",
              "      <td>81</td>\n",
              "      <td>0.0</td>\n",
              "      <td>3</td>\n",
              "      <td>13</td>\n",
              "      <td>16</td>\n",
              "    </tr>\n",
              "    <tr>\n",
              "      <th>1</th>\n",
              "      <td>2011-01-01 01:00:00</td>\n",
              "      <td>1</td>\n",
              "      <td>0</td>\n",
              "      <td>0</td>\n",
              "      <td>1</td>\n",
              "      <td>9.02</td>\n",
              "      <td>13.635</td>\n",
              "      <td>80</td>\n",
              "      <td>0.0</td>\n",
              "      <td>8</td>\n",
              "      <td>32</td>\n",
              "      <td>40</td>\n",
              "    </tr>\n",
              "    <tr>\n",
              "      <th>2</th>\n",
              "      <td>2011-01-01 02:00:00</td>\n",
              "      <td>1</td>\n",
              "      <td>0</td>\n",
              "      <td>0</td>\n",
              "      <td>1</td>\n",
              "      <td>9.02</td>\n",
              "      <td>13.635</td>\n",
              "      <td>80</td>\n",
              "      <td>0.0</td>\n",
              "      <td>5</td>\n",
              "      <td>27</td>\n",
              "      <td>32</td>\n",
              "    </tr>\n",
              "    <tr>\n",
              "      <th>3</th>\n",
              "      <td>2011-01-01 03:00:00</td>\n",
              "      <td>1</td>\n",
              "      <td>0</td>\n",
              "      <td>0</td>\n",
              "      <td>1</td>\n",
              "      <td>9.84</td>\n",
              "      <td>14.395</td>\n",
              "      <td>75</td>\n",
              "      <td>0.0</td>\n",
              "      <td>3</td>\n",
              "      <td>10</td>\n",
              "      <td>13</td>\n",
              "    </tr>\n",
              "    <tr>\n",
              "      <th>4</th>\n",
              "      <td>2011-01-01 04:00:00</td>\n",
              "      <td>1</td>\n",
              "      <td>0</td>\n",
              "      <td>0</td>\n",
              "      <td>1</td>\n",
              "      <td>9.84</td>\n",
              "      <td>14.395</td>\n",
              "      <td>75</td>\n",
              "      <td>0.0</td>\n",
              "      <td>0</td>\n",
              "      <td>1</td>\n",
              "      <td>1</td>\n",
              "    </tr>\n",
              "  </tbody>\n",
              "</table>\n",
              "</div>"
            ],
            "text/plain": [
              "             datetime  season  holiday  ...  casual  registered  count\n",
              "0 2011-01-01 00:00:00       1        0  ...       3          13     16\n",
              "1 2011-01-01 01:00:00       1        0  ...       8          32     40\n",
              "2 2011-01-01 02:00:00       1        0  ...       5          27     32\n",
              "3 2011-01-01 03:00:00       1        0  ...       3          10     13\n",
              "4 2011-01-01 04:00:00       1        0  ...       0           1      1\n",
              "\n",
              "[5 rows x 12 columns]"
            ]
          },
          "metadata": {},
          "execution_count": 26
        }
      ]
    },
    {
      "cell_type": "markdown",
      "source": [
        "**Average weekly demand over one year**\n"
      ],
      "metadata": {
        "id": "eJ-w0IXQ_GrX"
      }
    },
    {
      "cell_type": "code",
      "source": [
        "fig, ax = plt.subplots(figsize=(12, 4))\n",
        "df_2.groupby(df_2['datetime'].dt.weekday)['count'].mean().plot(ax=ax)\n",
        "ax.set_xticklabels(['Sun', 'Mon', 'Tue', 'Wed', 'Thu', 'Fri', 'Sat', 'Sun'])\n",
        "ax.set_title('Average daily bike demand')\n",
        "ax.set_xlabel('Time of the week')\n",
        "ax.set_ylabel('Count of bike rentals')"
      ],
      "metadata": {
        "colab": {
          "base_uri": "https://localhost:8080/",
          "height": 312
        },
        "id": "iQuqb3Gh9rUD",
        "outputId": "b91931fb-259f-4a7f-efc9-abd294dc0b2d"
      },
      "execution_count": 27,
      "outputs": [
        {
          "output_type": "execute_result",
          "data": {
            "text/plain": [
              "Text(0, 0.5, 'Count of bike rentals')"
            ]
          },
          "metadata": {},
          "execution_count": 27
        },
        {
          "output_type": "display_data",
          "data": {
            "image/png": "[encoded data removed]",
            "text/plain": [
              "<Figure size 864x288 with 1 Axes>"
            ]
          },
          "metadata": {
            "needs_background": "light"
          }
        }
      ]
    },
    {
      "cell_type": "markdown",
      "source": [
        "**Average hourly demand over one year**\n"
      ],
      "metadata": {
        "id": "x9rGtdIbCTg_"
      }
    },
    {
      "cell_type": "code",
      "source": [
        "fig, ax = plt.subplots(figsize=(12, 4))\n",
        "df_2.groupby(df_2['datetime'].dt.hour)['count'].mean().plot(ax=ax)\n",
        "#ax.set_xticklabels(np.linspace(0, 24, 4))\n",
        "ax.set_title('Average hourly bike demand')\n",
        "ax.set_xlabel('Time of the day')\n",
        "ax.set_ylabel('Count of bike rentals')"
      ],
      "metadata": {
        "colab": {
          "base_uri": "https://localhost:8080/",
          "height": 312
        },
        "id": "hGkquu2sAVEE",
        "outputId": "a2e17fc8-b62c-4187-a594-5babd5af0818"
      },
      "execution_count": 28,
      "outputs": [
        {
          "output_type": "execute_result",
          "data": {
            "text/plain": [
              "Text(0, 0.5, 'Count of bike rentals')"
            ]
          },
          "metadata": {},
          "execution_count": 28
        },
        {
          "output_type": "display_data",
          "data": {
            "image/png": "[encoded data removed]",
            "text/plain": [
              "<Figure size 864x288 with 1 Axes>"
            ]
          },
          "metadata": {
            "needs_background": "light"
          }
        }
      ]
    },
    {
      "cell_type": "code",
      "source": [
        "fig, ax = plt.subplots(figsize=(12, 4))\n",
        "average_week_demand = df_2.groupby([df_2['datetime'].dt.weekday, df_2['datetime'].dt.hour]).mean()[\"count\"]\n",
        "average_week_demand.plot(ax=ax)\n",
        "ax.set_xticklabels(['Sun', 'Mon', 'Tue', 'Wed', 'Thu', 'Fri', 'Sat', 'Sun'])\n",
        "ax.set_title('Average hourly bike demand in the week')\n",
        "ax.set_xlabel('Time of the week')\n",
        "ax.set_ylabel('Count of bike rentals')\n"
      ],
      "metadata": {
        "colab": {
          "base_uri": "https://localhost:8080/",
          "height": 312
        },
        "id": "T3WLHAWL6WjR",
        "outputId": "ba4968d9-ca1a-4e77-f4e8-b2539ba39272"
      },
      "execution_count": 29,
      "outputs": [
        {
          "output_type": "execute_result",
          "data": {
            "text/plain": [
              "Text(0, 0.5, 'Count of bike rentals')"
            ]
          },
          "metadata": {},
          "execution_count": 29
        },
        {
          "output_type": "display_data",
          "data": {
            "image/png": "[encoded data removed]",
            "text/plain": [
              "<Figure size 864x288 with 1 Axes>"
            ]
          },
          "metadata": {
            "needs_background": "light"
          }
        }
      ]
    },
    {
      "cell_type": "markdown",
      "source": [
        "**Inspect columns to see what kind of feature engineering is needed**"
      ],
      "metadata": {
        "id": "v8MDlGjKISgY"
      }
    },
    {
      "cell_type": "code",
      "source": [
        "df_2.columns"
      ],
      "metadata": {
        "colab": {
          "base_uri": "https://localhost:8080/"
        },
        "id": "YXBxOFRxDLOl",
        "outputId": "c429b871-b300-4f6f-afbb-e5c04b759508"
      },
      "execution_count": 30,
      "outputs": [
        {
          "output_type": "execute_result",
          "data": {
            "text/plain": [
              "Index(['datetime', 'season', 'holiday', 'workingday', 'weather', 'temp',\n",
              "       'atemp', 'humidity', 'windspeed', 'casual', 'registered', 'count'],\n",
              "      dtype='object')"
            ]
          },
          "metadata": {},
          "execution_count": 30
        }
      ]
    },
    {
      "cell_type": "code",
      "source": [
        "df_2['season'].value_counts()  # season balanced"
      ],
      "metadata": {
        "colab": {
          "base_uri": "https://localhost:8080/"
        },
        "id": "xY5Bt4W9IPPC",
        "outputId": "3f162bdc-b2c7-483b-e0f2-1034c29ee323"
      },
      "execution_count": 31,
      "outputs": [
        {
          "output_type": "execute_result",
          "data": {
            "text/plain": [
              "4    2734\n",
              "3    2733\n",
              "2    2733\n",
              "1    2686\n",
              "Name: season, dtype: int64"
            ]
          },
          "metadata": {},
          "execution_count": 31
        }
      ]
    },
    {
      "cell_type": "code",
      "source": [
        "df_2['holiday'].value_counts()  # holiday unbalanced "
      ],
      "metadata": {
        "colab": {
          "base_uri": "https://localhost:8080/"
        },
        "id": "IiJChGS6IkiK",
        "outputId": "d1fd1ba8-e8dc-4b0f-fdcf-9ab7f8d9b1b3"
      },
      "execution_count": 32,
      "outputs": [
        {
          "output_type": "execute_result",
          "data": {
            "text/plain": [
              "0    10575\n",
              "1      311\n",
              "Name: holiday, dtype: int64"
            ]
          },
          "metadata": {},
          "execution_count": 32
        }
      ]
    },
    {
      "cell_type": "code",
      "source": [
        "df_2['workingday'].value_counts()  # workingday to holiday 2 to 1 ratio"
      ],
      "metadata": {
        "colab": {
          "base_uri": "https://localhost:8080/"
        },
        "id": "BsWqKgKYIrxp",
        "outputId": "97b7ff72-d198-4242-ea2c-b0f71836a06a"
      },
      "execution_count": 16,
      "outputs": [
        {
          "output_type": "execute_result",
          "data": {
            "text/plain": [
              "1    7412\n",
              "0    3474\n",
              "Name: workingday, dtype: int64"
            ]
          },
          "metadata": {},
          "execution_count": 16
        }
      ]
    },
    {
      "cell_type": "code",
      "source": [
        "df_2['weather'].value_counts() # category 4 can be replaced by 3 "
      ],
      "metadata": {
        "colab": {
          "base_uri": "https://localhost:8080/"
        },
        "id": "h1EsiYEEI1Fn",
        "outputId": "79d373b6-78e2-40a0-b133-45b5f31922ce"
      },
      "execution_count": 17,
      "outputs": [
        {
          "output_type": "execute_result",
          "data": {
            "text/plain": [
              "1    7192\n",
              "2    2834\n",
              "3     859\n",
              "4       1\n",
              "Name: weather, dtype: int64"
            ]
          },
          "metadata": {},
          "execution_count": 17
        }
      ]
    },
    {
      "cell_type": "code",
      "source": [
        "df_2['weather'].replace(to_replace=4, value=3, inplace=True)\n",
        "df_2['weather'].value_counts() # category 4 can be replaced by 3 "
      ],
      "metadata": {
        "colab": {
          "base_uri": "https://localhost:8080/"
        },
        "id": "wyz8KN5VJLFO",
        "outputId": "49ed43f0-1b4e-4694-d9cd-643d9b289ca6"
      },
      "execution_count": 18,
      "outputs": [
        {
          "output_type": "execute_result",
          "data": {
            "text/plain": [
              "1    7192\n",
              "2    2834\n",
              "3     860\n",
              "Name: weather, dtype: int64"
            ]
          },
          "metadata": {},
          "execution_count": 18
        }
      ]
    },
    {
      "cell_type": "code",
      "source": [
        "df_2['hour'] = df_2['datetime'].dt.hour\n",
        "df_2['day'] = df_2['datetime'].dt.day\n",
        "df_2['month'] = df_2['datetime'].dt.month\n",
        "df_2['year'] = df_2['datetime'].dt.year\n",
        "df_2['weekday']=df_2['datetime'].dt.dayofweek\n",
        "df_2.drop(['datetime'],axis=1, inplace=True)\n",
        "df_2.head()"
      ],
      "metadata": {
        "colab": {
          "base_uri": "https://localhost:8080/",
          "height": 204
        },
        "id": "wAXciLBiUGSB",
        "outputId": "5b436aca-8205-42c8-9d9f-bb9e67e6c9ed"
      },
      "execution_count": 44,
      "outputs": [
        {
          "output_type": "execute_result",
          "data": {
            "text/html": [
              "<div>\n",
              "<style scoped>\n",
              "    .dataframe tbody tr th:only-of-type {\n",
              "        vertical-align: middle;\n",
              "    }\n",
              "\n",
              "    .dataframe tbody tr th {\n",
              "        vertical-align: top;\n",
              "    }\n",
              "\n",
              "    .dataframe thead th {\n",
              "        text-align: right;\n",
              "    }\n",
              "</style>\n",
              "<table border=\"1\" class=\"dataframe\">\n",
              "  <thead>\n",
              "    <tr style=\"text-align: right;\">\n",
              "      <th></th>\n",
              "      <th>season</th>\n",
              "      <th>holiday</th>\n",
              "      <th>workingday</th>\n",
              "      <th>weather</th>\n",
              "      <th>temp</th>\n",
              "      <th>atemp</th>\n",
              "      <th>humidity</th>\n",
              "      <th>windspeed</th>\n",
              "      <th>casual</th>\n",
              "      <th>registered</th>\n",
              "      <th>count</th>\n",
              "      <th>hour</th>\n",
              "      <th>day</th>\n",
              "      <th>month</th>\n",
              "      <th>year</th>\n",
              "      <th>weekday</th>\n",
              "    </tr>\n",
              "  </thead>\n",
              "  <tbody>\n",
              "    <tr>\n",
              "      <th>0</th>\n",
              "      <td>1</td>\n",
              "      <td>0</td>\n",
              "      <td>0</td>\n",
              "      <td>1</td>\n",
              "      <td>9.84</td>\n",
              "      <td>14.395</td>\n",
              "      <td>81</td>\n",
              "      <td>0.0</td>\n",
              "      <td>3</td>\n",
              "      <td>13</td>\n",
              "      <td>16</td>\n",
              "      <td>0</td>\n",
              "      <td>1</td>\n",
              "      <td>1</td>\n",
              "      <td>2011</td>\n",
              "      <td>5</td>\n",
              "    </tr>\n",
              "    <tr>\n",
              "      <th>1</th>\n",
              "      <td>1</td>\n",
              "      <td>0</td>\n",
              "      <td>0</td>\n",
              "      <td>1</td>\n",
              "      <td>9.02</td>\n",
              "      <td>13.635</td>\n",
              "      <td>80</td>\n",
              "      <td>0.0</td>\n",
              "      <td>8</td>\n",
              "      <td>32</td>\n",
              "      <td>40</td>\n",
              "      <td>1</td>\n",
              "      <td>1</td>\n",
              "      <td>1</td>\n",
              "      <td>2011</td>\n",
              "      <td>5</td>\n",
              "    </tr>\n",
              "    <tr>\n",
              "      <th>2</th>\n",
              "      <td>1</td>\n",
              "      <td>0</td>\n",
              "      <td>0</td>\n",
              "      <td>1</td>\n",
              "      <td>9.02</td>\n",
              "      <td>13.635</td>\n",
              "      <td>80</td>\n",
              "      <td>0.0</td>\n",
              "      <td>5</td>\n",
              "      <td>27</td>\n",
              "      <td>32</td>\n",
              "      <td>2</td>\n",
              "      <td>1</td>\n",
              "      <td>1</td>\n",
              "      <td>2011</td>\n",
              "      <td>5</td>\n",
              "    </tr>\n",
              "    <tr>\n",
              "      <th>3</th>\n",
              "      <td>1</td>\n",
              "      <td>0</td>\n",
              "      <td>0</td>\n",
              "      <td>1</td>\n",
              "      <td>9.84</td>\n",
              "      <td>14.395</td>\n",
              "      <td>75</td>\n",
              "      <td>0.0</td>\n",
              "      <td>3</td>\n",
              "      <td>10</td>\n",
              "      <td>13</td>\n",
              "      <td>3</td>\n",
              "      <td>1</td>\n",
              "      <td>1</td>\n",
              "      <td>2011</td>\n",
              "      <td>5</td>\n",
              "    </tr>\n",
              "    <tr>\n",
              "      <th>4</th>\n",
              "      <td>1</td>\n",
              "      <td>0</td>\n",
              "      <td>0</td>\n",
              "      <td>1</td>\n",
              "      <td>9.84</td>\n",
              "      <td>14.395</td>\n",
              "      <td>75</td>\n",
              "      <td>0.0</td>\n",
              "      <td>0</td>\n",
              "      <td>1</td>\n",
              "      <td>1</td>\n",
              "      <td>4</td>\n",
              "      <td>1</td>\n",
              "      <td>1</td>\n",
              "      <td>2011</td>\n",
              "      <td>5</td>\n",
              "    </tr>\n",
              "  </tbody>\n",
              "</table>\n",
              "</div>"
            ],
            "text/plain": [
              "   season  holiday  workingday  weather  temp  ...  hour  day  month  year  weekday\n",
              "0       1        0           0        1  9.84  ...     0    1      1  2011        5\n",
              "1       1        0           0        1  9.02  ...     1    1      1  2011        5\n",
              "2       1        0           0        1  9.02  ...     2    1      1  2011        5\n",
              "3       1        0           0        1  9.84  ...     3    1      1  2011        5\n",
              "4       1        0           0        1  9.84  ...     4    1      1  2011        5\n",
              "\n",
              "[5 rows x 16 columns]"
            ]
          },
          "metadata": {},
          "execution_count": 44
        }
      ]
    },
    {
      "cell_type": "code",
      "source": [
        "df_2.describe()"
      ],
      "metadata": {
        "colab": {
          "base_uri": "https://localhost:8080/",
          "height": 317
        },
        "id": "vmeyXMGLUr--",
        "outputId": "2b1a162c-d1f5-4782-fcfa-3d0c4f947129"
      },
      "execution_count": 45,
      "outputs": [
        {
          "output_type": "execute_result",
          "data": {
            "text/html": [
              "<div>\n",
              "<style scoped>\n",
              "    .dataframe tbody tr th:only-of-type {\n",
              "        vertical-align: middle;\n",
              "    }\n",
              "\n",
              "    .dataframe tbody tr th {\n",
              "        vertical-align: top;\n",
              "    }\n",
              "\n",
              "    .dataframe thead th {\n",
              "        text-align: right;\n",
              "    }\n",
              "</style>\n",
              "<table border=\"1\" class=\"dataframe\">\n",
              "  <thead>\n",
              "    <tr style=\"text-align: right;\">\n",
              "      <th></th>\n",
              "      <th>season</th>\n",
              "      <th>holiday</th>\n",
              "      <th>workingday</th>\n",
              "      <th>weather</th>\n",
              "      <th>temp</th>\n",
              "      <th>atemp</th>\n",
              "      <th>humidity</th>\n",
              "      <th>windspeed</th>\n",
              "      <th>casual</th>\n",
              "      <th>registered</th>\n",
              "      <th>count</th>\n",
              "      <th>hour</th>\n",
              "      <th>day</th>\n",
              "      <th>month</th>\n",
              "      <th>year</th>\n",
              "      <th>weekday</th>\n",
              "    </tr>\n",
              "  </thead>\n",
              "  <tbody>\n",
              "    <tr>\n",
              "      <th>count</th>\n",
              "      <td>10886.000000</td>\n",
              "      <td>10886.000000</td>\n",
              "      <td>10886.000000</td>\n",
              "      <td>10886.000000</td>\n",
              "      <td>10886.00000</td>\n",
              "      <td>10886.000000</td>\n",
              "      <td>10886.000000</td>\n",
              "      <td>10886.000000</td>\n",
              "      <td>10886.000000</td>\n",
              "      <td>10886.000000</td>\n",
              "      <td>10886.000000</td>\n",
              "      <td>10886.000000</td>\n",
              "      <td>10886.000000</td>\n",
              "      <td>10886.000000</td>\n",
              "      <td>10886.000000</td>\n",
              "      <td>10886.000000</td>\n",
              "    </tr>\n",
              "    <tr>\n",
              "      <th>mean</th>\n",
              "      <td>2.506614</td>\n",
              "      <td>0.028569</td>\n",
              "      <td>0.680875</td>\n",
              "      <td>1.418427</td>\n",
              "      <td>20.23086</td>\n",
              "      <td>23.655084</td>\n",
              "      <td>61.886460</td>\n",
              "      <td>12.799395</td>\n",
              "      <td>36.021955</td>\n",
              "      <td>155.552177</td>\n",
              "      <td>191.574132</td>\n",
              "      <td>11.541613</td>\n",
              "      <td>9.992559</td>\n",
              "      <td>6.521495</td>\n",
              "      <td>2011.501929</td>\n",
              "      <td>3.013963</td>\n",
              "    </tr>\n",
              "    <tr>\n",
              "      <th>std</th>\n",
              "      <td>1.116174</td>\n",
              "      <td>0.166599</td>\n",
              "      <td>0.466159</td>\n",
              "      <td>0.633839</td>\n",
              "      <td>7.79159</td>\n",
              "      <td>8.474601</td>\n",
              "      <td>19.245033</td>\n",
              "      <td>8.164537</td>\n",
              "      <td>49.960477</td>\n",
              "      <td>151.039033</td>\n",
              "      <td>181.144454</td>\n",
              "      <td>6.915838</td>\n",
              "      <td>5.476608</td>\n",
              "      <td>3.444373</td>\n",
              "      <td>0.500019</td>\n",
              "      <td>2.004585</td>\n",
              "    </tr>\n",
              "    <tr>\n",
              "      <th>min</th>\n",
              "      <td>1.000000</td>\n",
              "      <td>0.000000</td>\n",
              "      <td>0.000000</td>\n",
              "      <td>1.000000</td>\n",
              "      <td>0.82000</td>\n",
              "      <td>0.760000</td>\n",
              "      <td>0.000000</td>\n",
              "      <td>0.000000</td>\n",
              "      <td>0.000000</td>\n",
              "      <td>0.000000</td>\n",
              "      <td>1.000000</td>\n",
              "      <td>0.000000</td>\n",
              "      <td>1.000000</td>\n",
              "      <td>1.000000</td>\n",
              "      <td>2011.000000</td>\n",
              "      <td>0.000000</td>\n",
              "    </tr>\n",
              "    <tr>\n",
              "      <th>25%</th>\n",
              "      <td>2.000000</td>\n",
              "      <td>0.000000</td>\n",
              "      <td>0.000000</td>\n",
              "      <td>1.000000</td>\n",
              "      <td>13.94000</td>\n",
              "      <td>16.665000</td>\n",
              "      <td>47.000000</td>\n",
              "      <td>7.001500</td>\n",
              "      <td>4.000000</td>\n",
              "      <td>36.000000</td>\n",
              "      <td>42.000000</td>\n",
              "      <td>6.000000</td>\n",
              "      <td>5.000000</td>\n",
              "      <td>4.000000</td>\n",
              "      <td>2011.000000</td>\n",
              "      <td>1.000000</td>\n",
              "    </tr>\n",
              "    <tr>\n",
              "      <th>50%</th>\n",
              "      <td>3.000000</td>\n",
              "      <td>0.000000</td>\n",
              "      <td>1.000000</td>\n",
              "      <td>1.000000</td>\n",
              "      <td>20.50000</td>\n",
              "      <td>24.240000</td>\n",
              "      <td>62.000000</td>\n",
              "      <td>12.998000</td>\n",
              "      <td>17.000000</td>\n",
              "      <td>118.000000</td>\n",
              "      <td>145.000000</td>\n",
              "      <td>12.000000</td>\n",
              "      <td>10.000000</td>\n",
              "      <td>7.000000</td>\n",
              "      <td>2012.000000</td>\n",
              "      <td>3.000000</td>\n",
              "    </tr>\n",
              "    <tr>\n",
              "      <th>75%</th>\n",
              "      <td>4.000000</td>\n",
              "      <td>0.000000</td>\n",
              "      <td>1.000000</td>\n",
              "      <td>2.000000</td>\n",
              "      <td>26.24000</td>\n",
              "      <td>31.060000</td>\n",
              "      <td>77.000000</td>\n",
              "      <td>16.997900</td>\n",
              "      <td>49.000000</td>\n",
              "      <td>222.000000</td>\n",
              "      <td>284.000000</td>\n",
              "      <td>18.000000</td>\n",
              "      <td>15.000000</td>\n",
              "      <td>10.000000</td>\n",
              "      <td>2012.000000</td>\n",
              "      <td>5.000000</td>\n",
              "    </tr>\n",
              "    <tr>\n",
              "      <th>max</th>\n",
              "      <td>4.000000</td>\n",
              "      <td>1.000000</td>\n",
              "      <td>1.000000</td>\n",
              "      <td>4.000000</td>\n",
              "      <td>41.00000</td>\n",
              "      <td>45.455000</td>\n",
              "      <td>100.000000</td>\n",
              "      <td>56.996900</td>\n",
              "      <td>367.000000</td>\n",
              "      <td>886.000000</td>\n",
              "      <td>977.000000</td>\n",
              "      <td>23.000000</td>\n",
              "      <td>19.000000</td>\n",
              "      <td>12.000000</td>\n",
              "      <td>2012.000000</td>\n",
              "      <td>6.000000</td>\n",
              "    </tr>\n",
              "  </tbody>\n",
              "</table>\n",
              "</div>"
            ],
            "text/plain": [
              "             season       holiday  ...          year       weekday\n",
              "count  10886.000000  10886.000000  ...  10886.000000  10886.000000\n",
              "mean       2.506614      0.028569  ...   2011.501929      3.013963\n",
              "std        1.116174      0.166599  ...      0.500019      2.004585\n",
              "min        1.000000      0.000000  ...   2011.000000      0.000000\n",
              "25%        2.000000      0.000000  ...   2011.000000      1.000000\n",
              "50%        3.000000      0.000000  ...   2012.000000      3.000000\n",
              "75%        4.000000      0.000000  ...   2012.000000      5.000000\n",
              "max        4.000000      1.000000  ...   2012.000000      6.000000\n",
              "\n",
              "[8 rows x 16 columns]"
            ]
          },
          "metadata": {},
          "execution_count": 45
        }
      ]
    },
    {
      "cell_type": "code",
      "source": [
        "plt.figure(figsize=(16, 10))\n",
        "sns.heatmap(df_2.corr(), annot=True)"
      ],
      "metadata": {
        "colab": {
          "base_uri": "https://localhost:8080/",
          "height": 660
        },
        "id": "CrqsCjQg14g4",
        "outputId": "4d6d6d4f-c5d5-4ef4-f930-6fd8565222cb"
      },
      "execution_count": 135,
      "outputs": [
        {
          "output_type": "execute_result",
          "data": {
            "text/plain": [
              "<matplotlib.axes._subplots.AxesSubplot at 0x7f9efa2b3110>"
            ]
          },
          "metadata": {},
          "execution_count": 135
        },
        {
          "output_type": "display_data",
          "data": {
            "image/png": "[encoded data removed]",
            "text/plain": [
              "<Figure size 1152x720 with 2 Axes>"
            ]
          },
          "metadata": {
            "needs_background": "light"
          }
        }
      ]
    },
    {
      "cell_type": "markdown",
      "source": [
        "# **Split Train test**"
      ],
      "metadata": {
        "id": "P9HN8dR7K2vT"
      }
    },
    {
      "cell_type": "code",
      "source": [
        "y=df_2['count']\n",
        "X=df_2.drop(['count'], axis=1)\n",
        "X.head()\n",
        "X_train, X_test, y_train, y_test =train_test_split(X,y,test_size=0.3,random_state=42)"
      ],
      "metadata": {
        "id": "sReF29kOoxyh"
      },
      "execution_count": 46,
      "outputs": []
    },
    {
      "cell_type": "code",
      "source": [
        "X_train.head()"
      ],
      "metadata": {
        "colab": {
          "base_uri": "https://localhost:8080/",
          "height": 204
        },
        "id": "XnEQ-OvVRqp0",
        "outputId": "16f8c04b-62ad-491a-b0a0-52503faac891"
      },
      "execution_count": 47,
      "outputs": [
        {
          "output_type": "execute_result",
          "data": {
            "text/html": [
              "<div>\n",
              "<style scoped>\n",
              "    .dataframe tbody tr th:only-of-type {\n",
              "        vertical-align: middle;\n",
              "    }\n",
              "\n",
              "    .dataframe tbody tr th {\n",
              "        vertical-align: top;\n",
              "    }\n",
              "\n",
              "    .dataframe thead th {\n",
              "        text-align: right;\n",
              "    }\n",
              "</style>\n",
              "<table border=\"1\" class=\"dataframe\">\n",
              "  <thead>\n",
              "    <tr style=\"text-align: right;\">\n",
              "      <th></th>\n",
              "      <th>season</th>\n",
              "      <th>holiday</th>\n",
              "      <th>workingday</th>\n",
              "      <th>weather</th>\n",
              "      <th>temp</th>\n",
              "      <th>atemp</th>\n",
              "      <th>humidity</th>\n",
              "      <th>windspeed</th>\n",
              "      <th>casual</th>\n",
              "      <th>registered</th>\n",
              "      <th>hour</th>\n",
              "      <th>day</th>\n",
              "      <th>month</th>\n",
              "      <th>year</th>\n",
              "      <th>weekday</th>\n",
              "    </tr>\n",
              "  </thead>\n",
              "  <tbody>\n",
              "    <tr>\n",
              "      <th>613</th>\n",
              "      <td>1</td>\n",
              "      <td>0</td>\n",
              "      <td>1</td>\n",
              "      <td>1</td>\n",
              "      <td>9.02</td>\n",
              "      <td>9.090</td>\n",
              "      <td>32</td>\n",
              "      <td>39.0007</td>\n",
              "      <td>4</td>\n",
              "      <td>172</td>\n",
              "      <td>17</td>\n",
              "      <td>8</td>\n",
              "      <td>2</td>\n",
              "      <td>2011</td>\n",
              "      <td>1</td>\n",
              "    </tr>\n",
              "    <tr>\n",
              "      <th>4030</th>\n",
              "      <td>3</td>\n",
              "      <td>0</td>\n",
              "      <td>0</td>\n",
              "      <td>1</td>\n",
              "      <td>22.14</td>\n",
              "      <td>25.760</td>\n",
              "      <td>68</td>\n",
              "      <td>12.9980</td>\n",
              "      <td>10</td>\n",
              "      <td>44</td>\n",
              "      <td>23</td>\n",
              "      <td>18</td>\n",
              "      <td>9</td>\n",
              "      <td>2011</td>\n",
              "      <td>6</td>\n",
              "    </tr>\n",
              "    <tr>\n",
              "      <th>3582</th>\n",
              "      <td>3</td>\n",
              "      <td>0</td>\n",
              "      <td>1</td>\n",
              "      <td>1</td>\n",
              "      <td>26.24</td>\n",
              "      <td>28.790</td>\n",
              "      <td>83</td>\n",
              "      <td>0.0000</td>\n",
              "      <td>1</td>\n",
              "      <td>7</td>\n",
              "      <td>4</td>\n",
              "      <td>19</td>\n",
              "      <td>8</td>\n",
              "      <td>2011</td>\n",
              "      <td>4</td>\n",
              "    </tr>\n",
              "    <tr>\n",
              "      <th>10101</th>\n",
              "      <td>4</td>\n",
              "      <td>0</td>\n",
              "      <td>1</td>\n",
              "      <td>1</td>\n",
              "      <td>9.02</td>\n",
              "      <td>11.365</td>\n",
              "      <td>69</td>\n",
              "      <td>8.9981</td>\n",
              "      <td>6</td>\n",
              "      <td>143</td>\n",
              "      <td>6</td>\n",
              "      <td>6</td>\n",
              "      <td>11</td>\n",
              "      <td>2012</td>\n",
              "      <td>1</td>\n",
              "    </tr>\n",
              "    <tr>\n",
              "      <th>1430</th>\n",
              "      <td>2</td>\n",
              "      <td>0</td>\n",
              "      <td>1</td>\n",
              "      <td>3</td>\n",
              "      <td>13.12</td>\n",
              "      <td>14.395</td>\n",
              "      <td>81</td>\n",
              "      <td>30.0026</td>\n",
              "      <td>1</td>\n",
              "      <td>18</td>\n",
              "      <td>11</td>\n",
              "      <td>5</td>\n",
              "      <td>4</td>\n",
              "      <td>2011</td>\n",
              "      <td>1</td>\n",
              "    </tr>\n",
              "  </tbody>\n",
              "</table>\n",
              "</div>"
            ],
            "text/plain": [
              "       season  holiday  workingday  weather  ...  day  month  year  weekday\n",
              "613         1        0           1        1  ...    8      2  2011        1\n",
              "4030        3        0           0        1  ...   18      9  2011        6\n",
              "3582        3        0           1        1  ...   19      8  2011        4\n",
              "10101       4        0           1        1  ...    6     11  2012        1\n",
              "1430        2        0           1        3  ...    5      4  2011        1\n",
              "\n",
              "[5 rows x 15 columns]"
            ]
          },
          "metadata": {},
          "execution_count": 47
        }
      ]
    },
    {
      "cell_type": "code",
      "source": [
        "X_train.describe()"
      ],
      "metadata": {
        "colab": {
          "base_uri": "https://localhost:8080/",
          "height": 317
        },
        "id": "DpuIcsLsSvpo",
        "outputId": "f83d9567-2418-4e54-d095-f53630b0d974"
      },
      "execution_count": 48,
      "outputs": [
        {
          "output_type": "execute_result",
          "data": {
            "text/html": [
              "<div>\n",
              "<style scoped>\n",
              "    .dataframe tbody tr th:only-of-type {\n",
              "        vertical-align: middle;\n",
              "    }\n",
              "\n",
              "    .dataframe tbody tr th {\n",
              "        vertical-align: top;\n",
              "    }\n",
              "\n",
              "    .dataframe thead th {\n",
              "        text-align: right;\n",
              "    }\n",
              "</style>\n",
              "<table border=\"1\" class=\"dataframe\">\n",
              "  <thead>\n",
              "    <tr style=\"text-align: right;\">\n",
              "      <th></th>\n",
              "      <th>season</th>\n",
              "      <th>holiday</th>\n",
              "      <th>workingday</th>\n",
              "      <th>weather</th>\n",
              "      <th>temp</th>\n",
              "      <th>atemp</th>\n",
              "      <th>humidity</th>\n",
              "      <th>windspeed</th>\n",
              "      <th>casual</th>\n",
              "      <th>registered</th>\n",
              "      <th>hour</th>\n",
              "      <th>day</th>\n",
              "      <th>month</th>\n",
              "      <th>year</th>\n",
              "      <th>weekday</th>\n",
              "    </tr>\n",
              "  </thead>\n",
              "  <tbody>\n",
              "    <tr>\n",
              "      <th>count</th>\n",
              "      <td>7620.000000</td>\n",
              "      <td>7620.000000</td>\n",
              "      <td>7620.000000</td>\n",
              "      <td>7620.000000</td>\n",
              "      <td>7620.000000</td>\n",
              "      <td>7620.000000</td>\n",
              "      <td>7620.000000</td>\n",
              "      <td>7620.000000</td>\n",
              "      <td>7620.000000</td>\n",
              "      <td>7620.000000</td>\n",
              "      <td>7620.000000</td>\n",
              "      <td>7620.000000</td>\n",
              "      <td>7620.000000</td>\n",
              "      <td>7620.000000</td>\n",
              "      <td>7620.000000</td>\n",
              "    </tr>\n",
              "    <tr>\n",
              "      <th>mean</th>\n",
              "      <td>2.509711</td>\n",
              "      <td>0.029265</td>\n",
              "      <td>0.683990</td>\n",
              "      <td>1.414567</td>\n",
              "      <td>20.252386</td>\n",
              "      <td>23.670368</td>\n",
              "      <td>61.893963</td>\n",
              "      <td>12.807253</td>\n",
              "      <td>35.803543</td>\n",
              "      <td>155.566798</td>\n",
              "      <td>11.493438</td>\n",
              "      <td>9.953018</td>\n",
              "      <td>6.535039</td>\n",
              "      <td>2011.502231</td>\n",
              "      <td>3.006168</td>\n",
              "    </tr>\n",
              "    <tr>\n",
              "      <th>std</th>\n",
              "      <td>1.117478</td>\n",
              "      <td>0.168560</td>\n",
              "      <td>0.464948</td>\n",
              "      <td>0.630354</td>\n",
              "      <td>7.824203</td>\n",
              "      <td>8.503034</td>\n",
              "      <td>19.214918</td>\n",
              "      <td>8.203174</td>\n",
              "      <td>49.716591</td>\n",
              "      <td>151.728871</td>\n",
              "      <td>6.938829</td>\n",
              "      <td>5.480905</td>\n",
              "      <td>3.442049</td>\n",
              "      <td>0.500028</td>\n",
              "      <td>1.997922</td>\n",
              "    </tr>\n",
              "    <tr>\n",
              "      <th>min</th>\n",
              "      <td>1.000000</td>\n",
              "      <td>0.000000</td>\n",
              "      <td>0.000000</td>\n",
              "      <td>1.000000</td>\n",
              "      <td>0.820000</td>\n",
              "      <td>0.760000</td>\n",
              "      <td>0.000000</td>\n",
              "      <td>0.000000</td>\n",
              "      <td>0.000000</td>\n",
              "      <td>0.000000</td>\n",
              "      <td>0.000000</td>\n",
              "      <td>1.000000</td>\n",
              "      <td>1.000000</td>\n",
              "      <td>2011.000000</td>\n",
              "      <td>0.000000</td>\n",
              "    </tr>\n",
              "    <tr>\n",
              "      <th>25%</th>\n",
              "      <td>2.000000</td>\n",
              "      <td>0.000000</td>\n",
              "      <td>0.000000</td>\n",
              "      <td>1.000000</td>\n",
              "      <td>13.940000</td>\n",
              "      <td>16.665000</td>\n",
              "      <td>47.000000</td>\n",
              "      <td>7.001500</td>\n",
              "      <td>4.000000</td>\n",
              "      <td>35.000000</td>\n",
              "      <td>5.000000</td>\n",
              "      <td>5.000000</td>\n",
              "      <td>4.000000</td>\n",
              "      <td>2011.000000</td>\n",
              "      <td>1.000000</td>\n",
              "    </tr>\n",
              "    <tr>\n",
              "      <th>50%</th>\n",
              "      <td>3.000000</td>\n",
              "      <td>0.000000</td>\n",
              "      <td>1.000000</td>\n",
              "      <td>1.000000</td>\n",
              "      <td>20.500000</td>\n",
              "      <td>24.240000</td>\n",
              "      <td>62.000000</td>\n",
              "      <td>12.998000</td>\n",
              "      <td>16.000000</td>\n",
              "      <td>118.000000</td>\n",
              "      <td>11.000000</td>\n",
              "      <td>10.000000</td>\n",
              "      <td>7.000000</td>\n",
              "      <td>2012.000000</td>\n",
              "      <td>3.000000</td>\n",
              "    </tr>\n",
              "    <tr>\n",
              "      <th>75%</th>\n",
              "      <td>4.000000</td>\n",
              "      <td>0.000000</td>\n",
              "      <td>1.000000</td>\n",
              "      <td>2.000000</td>\n",
              "      <td>26.240000</td>\n",
              "      <td>31.060000</td>\n",
              "      <td>77.000000</td>\n",
              "      <td>16.997900</td>\n",
              "      <td>49.000000</td>\n",
              "      <td>223.000000</td>\n",
              "      <td>18.000000</td>\n",
              "      <td>15.000000</td>\n",
              "      <td>10.000000</td>\n",
              "      <td>2012.000000</td>\n",
              "      <td>5.000000</td>\n",
              "    </tr>\n",
              "    <tr>\n",
              "      <th>max</th>\n",
              "      <td>4.000000</td>\n",
              "      <td>1.000000</td>\n",
              "      <td>1.000000</td>\n",
              "      <td>4.000000</td>\n",
              "      <td>41.000000</td>\n",
              "      <td>45.455000</td>\n",
              "      <td>100.000000</td>\n",
              "      <td>56.996900</td>\n",
              "      <td>362.000000</td>\n",
              "      <td>857.000000</td>\n",
              "      <td>23.000000</td>\n",
              "      <td>19.000000</td>\n",
              "      <td>12.000000</td>\n",
              "      <td>2012.000000</td>\n",
              "      <td>6.000000</td>\n",
              "    </tr>\n",
              "  </tbody>\n",
              "</table>\n",
              "</div>"
            ],
            "text/plain": [
              "            season      holiday  ...         year      weekday\n",
              "count  7620.000000  7620.000000  ...  7620.000000  7620.000000\n",
              "mean      2.509711     0.029265  ...  2011.502231     3.006168\n",
              "std       1.117478     0.168560  ...     0.500028     1.997922\n",
              "min       1.000000     0.000000  ...  2011.000000     0.000000\n",
              "25%       2.000000     0.000000  ...  2011.000000     1.000000\n",
              "50%       3.000000     0.000000  ...  2012.000000     3.000000\n",
              "75%       4.000000     0.000000  ...  2012.000000     5.000000\n",
              "max       4.000000     1.000000  ...  2012.000000     6.000000\n",
              "\n",
              "[8 rows x 15 columns]"
            ]
          },
          "metadata": {},
          "execution_count": 48
        }
      ]
    },
    {
      "cell_type": "markdown",
      "source": [
        "# **Time Feature engineering**"
      ],
      "metadata": {
        "id": "ztrSEf7hpXuE"
      }
    },
    {
      "cell_type": "markdown",
      "source": [
        "The difference in time between records 10 and 11 is of course  1\n",
        "  hour. If we leave the hour feature unencoded, everything works in this case:  23−22=1\n",
        " \n",
        "\n",
        "However, if we look at rows 11 and 12 we see the failure in our encoding:  0−23=−23\n",
        " , even though the records are again only one hour apart.\n",
        "\n",
        "We need to change the encoding of the feature such that midnight and 11:00PM are the same distance apart as any other two hours."
      ],
      "metadata": {
        "id": "oaR1KidJAD5L"
      }
    },
    {
      "cell_type": "code",
      "source": [
        "hour_df = pd.DataFrame(\n",
        "    np.arange(26).reshape(-1, 1),\n",
        "    columns=[\"hour\"],\n",
        ")\n",
        "hour_df.head()\n",
        "hour_df[\"hour_sin\"] = sin_transformer(24).fit_transform(hour_df)[\"hour\"]\n",
        "hour_df[\"hour_cos\"] = cos_transformer(24).fit_transform(hour_df)[\"hour\"]\n",
        "hour_df.plot(x=\"hour\")\n",
        "_ = plt.title(\"Trigonometric encoding for the 'hour' feature\")"
      ],
      "metadata": {
        "colab": {
          "base_uri": "https://localhost:8080/",
          "height": 295
        },
        "id": "q45w0AripWo0",
        "outputId": "9cf639df-f5c5-474d-ddb4-afa1bc177d4a"
      },
      "execution_count": 110,
      "outputs": [
        {
          "output_type": "display_data",
          "data": {
            "image/png": "[encoded data removed]",
            "text/plain": [
              "<Figure size 432x288 with 1 Axes>"
            ]
          },
          "metadata": {
            "needs_background": "light"
          }
        }
      ]
    },
    {
      "cell_type": "code",
      "source": [
        "hour_df"
      ],
      "metadata": {
        "colab": {
          "base_uri": "https://localhost:8080/",
          "height": 855
        },
        "id": "OB1cMbccrVWY",
        "outputId": "b7a661f5-e425-474b-843a-ab0212522e39"
      },
      "execution_count": 111,
      "outputs": [
        {
          "output_type": "execute_result",
          "data": {
            "text/html": [
              "<div>\n",
              "<style scoped>\n",
              "    .dataframe tbody tr th:only-of-type {\n",
              "        vertical-align: middle;\n",
              "    }\n",
              "\n",
              "    .dataframe tbody tr th {\n",
              "        vertical-align: top;\n",
              "    }\n",
              "\n",
              "    .dataframe thead th {\n",
              "        text-align: right;\n",
              "    }\n",
              "</style>\n",
              "<table border=\"1\" class=\"dataframe\">\n",
              "  <thead>\n",
              "    <tr style=\"text-align: right;\">\n",
              "      <th></th>\n",
              "      <th>hour</th>\n",
              "      <th>hour_sin</th>\n",
              "      <th>hour_cos</th>\n",
              "    </tr>\n",
              "  </thead>\n",
              "  <tbody>\n",
              "    <tr>\n",
              "      <th>0</th>\n",
              "      <td>0</td>\n",
              "      <td>0.000000e+00</td>\n",
              "      <td>1.000000e+00</td>\n",
              "    </tr>\n",
              "    <tr>\n",
              "      <th>1</th>\n",
              "      <td>1</td>\n",
              "      <td>2.588190e-01</td>\n",
              "      <td>9.659258e-01</td>\n",
              "    </tr>\n",
              "    <tr>\n",
              "      <th>2</th>\n",
              "      <td>2</td>\n",
              "      <td>5.000000e-01</td>\n",
              "      <td>8.660254e-01</td>\n",
              "    </tr>\n",
              "    <tr>\n",
              "      <th>3</th>\n",
              "      <td>3</td>\n",
              "      <td>7.071068e-01</td>\n",
              "      <td>7.071068e-01</td>\n",
              "    </tr>\n",
              "    <tr>\n",
              "      <th>4</th>\n",
              "      <td>4</td>\n",
              "      <td>8.660254e-01</td>\n",
              "      <td>5.000000e-01</td>\n",
              "    </tr>\n",
              "    <tr>\n",
              "      <th>5</th>\n",
              "      <td>5</td>\n",
              "      <td>9.659258e-01</td>\n",
              "      <td>2.588190e-01</td>\n",
              "    </tr>\n",
              "    <tr>\n",
              "      <th>6</th>\n",
              "      <td>6</td>\n",
              "      <td>1.000000e+00</td>\n",
              "      <td>6.123234e-17</td>\n",
              "    </tr>\n",
              "    <tr>\n",
              "      <th>7</th>\n",
              "      <td>7</td>\n",
              "      <td>9.659258e-01</td>\n",
              "      <td>-2.588190e-01</td>\n",
              "    </tr>\n",
              "    <tr>\n",
              "      <th>8</th>\n",
              "      <td>8</td>\n",
              "      <td>8.660254e-01</td>\n",
              "      <td>-5.000000e-01</td>\n",
              "    </tr>\n",
              "    <tr>\n",
              "      <th>9</th>\n",
              "      <td>9</td>\n",
              "      <td>7.071068e-01</td>\n",
              "      <td>-7.071068e-01</td>\n",
              "    </tr>\n",
              "    <tr>\n",
              "      <th>10</th>\n",
              "      <td>10</td>\n",
              "      <td>5.000000e-01</td>\n",
              "      <td>-8.660254e-01</td>\n",
              "    </tr>\n",
              "    <tr>\n",
              "      <th>11</th>\n",
              "      <td>11</td>\n",
              "      <td>2.588190e-01</td>\n",
              "      <td>-9.659258e-01</td>\n",
              "    </tr>\n",
              "    <tr>\n",
              "      <th>12</th>\n",
              "      <td>12</td>\n",
              "      <td>1.224647e-16</td>\n",
              "      <td>-1.000000e+00</td>\n",
              "    </tr>\n",
              "    <tr>\n",
              "      <th>13</th>\n",
              "      <td>13</td>\n",
              "      <td>-2.588190e-01</td>\n",
              "      <td>-9.659258e-01</td>\n",
              "    </tr>\n",
              "    <tr>\n",
              "      <th>14</th>\n",
              "      <td>14</td>\n",
              "      <td>-5.000000e-01</td>\n",
              "      <td>-8.660254e-01</td>\n",
              "    </tr>\n",
              "    <tr>\n",
              "      <th>15</th>\n",
              "      <td>15</td>\n",
              "      <td>-7.071068e-01</td>\n",
              "      <td>-7.071068e-01</td>\n",
              "    </tr>\n",
              "    <tr>\n",
              "      <th>16</th>\n",
              "      <td>16</td>\n",
              "      <td>-8.660254e-01</td>\n",
              "      <td>-5.000000e-01</td>\n",
              "    </tr>\n",
              "    <tr>\n",
              "      <th>17</th>\n",
              "      <td>17</td>\n",
              "      <td>-9.659258e-01</td>\n",
              "      <td>-2.588190e-01</td>\n",
              "    </tr>\n",
              "    <tr>\n",
              "      <th>18</th>\n",
              "      <td>18</td>\n",
              "      <td>-1.000000e+00</td>\n",
              "      <td>-1.836970e-16</td>\n",
              "    </tr>\n",
              "    <tr>\n",
              "      <th>19</th>\n",
              "      <td>19</td>\n",
              "      <td>-9.659258e-01</td>\n",
              "      <td>2.588190e-01</td>\n",
              "    </tr>\n",
              "    <tr>\n",
              "      <th>20</th>\n",
              "      <td>20</td>\n",
              "      <td>-8.660254e-01</td>\n",
              "      <td>5.000000e-01</td>\n",
              "    </tr>\n",
              "    <tr>\n",
              "      <th>21</th>\n",
              "      <td>21</td>\n",
              "      <td>-7.071068e-01</td>\n",
              "      <td>7.071068e-01</td>\n",
              "    </tr>\n",
              "    <tr>\n",
              "      <th>22</th>\n",
              "      <td>22</td>\n",
              "      <td>-5.000000e-01</td>\n",
              "      <td>8.660254e-01</td>\n",
              "    </tr>\n",
              "    <tr>\n",
              "      <th>23</th>\n",
              "      <td>23</td>\n",
              "      <td>-2.588190e-01</td>\n",
              "      <td>9.659258e-01</td>\n",
              "    </tr>\n",
              "    <tr>\n",
              "      <th>24</th>\n",
              "      <td>24</td>\n",
              "      <td>-2.449294e-16</td>\n",
              "      <td>1.000000e+00</td>\n",
              "    </tr>\n",
              "    <tr>\n",
              "      <th>25</th>\n",
              "      <td>25</td>\n",
              "      <td>2.588190e-01</td>\n",
              "      <td>9.659258e-01</td>\n",
              "    </tr>\n",
              "  </tbody>\n",
              "</table>\n",
              "</div>"
            ],
            "text/plain": [
              "    hour      hour_sin      hour_cos\n",
              "0      0  0.000000e+00  1.000000e+00\n",
              "1      1  2.588190e-01  9.659258e-01\n",
              "2      2  5.000000e-01  8.660254e-01\n",
              "3      3  7.071068e-01  7.071068e-01\n",
              "4      4  8.660254e-01  5.000000e-01\n",
              "5      5  9.659258e-01  2.588190e-01\n",
              "6      6  1.000000e+00  6.123234e-17\n",
              "7      7  9.659258e-01 -2.588190e-01\n",
              "8      8  8.660254e-01 -5.000000e-01\n",
              "9      9  7.071068e-01 -7.071068e-01\n",
              "10    10  5.000000e-01 -8.660254e-01\n",
              "11    11  2.588190e-01 -9.659258e-01\n",
              "12    12  1.224647e-16 -1.000000e+00\n",
              "13    13 -2.588190e-01 -9.659258e-01\n",
              "14    14 -5.000000e-01 -8.660254e-01\n",
              "15    15 -7.071068e-01 -7.071068e-01\n",
              "16    16 -8.660254e-01 -5.000000e-01\n",
              "17    17 -9.659258e-01 -2.588190e-01\n",
              "18    18 -1.000000e+00 -1.836970e-16\n",
              "19    19 -9.659258e-01  2.588190e-01\n",
              "20    20 -8.660254e-01  5.000000e-01\n",
              "21    21 -7.071068e-01  7.071068e-01\n",
              "22    22 -5.000000e-01  8.660254e-01\n",
              "23    23 -2.588190e-01  9.659258e-01\n",
              "24    24 -2.449294e-16  1.000000e+00\n",
              "25    25  2.588190e-01  9.659258e-01"
            ]
          },
          "metadata": {},
          "execution_count": 111
        }
      ]
    },
    {
      "cell_type": "code",
      "source": [
        "fig, ax = plt.subplots(figsize=(7, 5))\n",
        "sp = ax.scatter(hour_df[\"hour_sin\"], hour_df[\"hour_cos\"], c=hour_df[\"hour\"])\n",
        "ax.set(\n",
        "    xlabel=\"sin(hour)\",\n",
        "    ylabel=\"cos(hour)\",\n",
        ")\n",
        "_ = fig.colorbar(sp)"
      ],
      "metadata": {
        "colab": {
          "base_uri": "https://localhost:8080/",
          "height": 338
        },
        "id": "277ZAdPzryRH",
        "outputId": "76affc12-4e5a-4a9e-ed56-ac2e19303d6a"
      },
      "execution_count": 112,
      "outputs": [
        {
          "output_type": "display_data",
          "data": {
            "image/png": "[encoded data removed]",
            "text/plain": [
              "<Figure size 504x360 with 2 Axes>"
            ]
          },
          "metadata": {
            "needs_background": "light"
          }
        }
      ]
    },
    {
      "cell_type": "code",
      "source": [
        "hour = pd.DataFrame(df_2['hour'])\n",
        "hour.value_counts()"
      ],
      "metadata": {
        "colab": {
          "base_uri": "https://localhost:8080/"
        },
        "id": "DvJjsz4qzyv5",
        "outputId": "fa21651d-1213-4611-f92e-453214dcda5c"
      },
      "execution_count": 121,
      "outputs": [
        {
          "output_type": "execute_result",
          "data": {
            "text/plain": [
              "hour\n",
              "23      456\n",
              "21      456\n",
              "20      456\n",
              "19      456\n",
              "18      456\n",
              "17      456\n",
              "16      456\n",
              "15      456\n",
              "14      456\n",
              "13      456\n",
              "12      456\n",
              "22      456\n",
              "8       455\n",
              "6       455\n",
              "7       455\n",
              "11      455\n",
              "9       455\n",
              "10      455\n",
              "0       455\n",
              "1       454\n",
              "5       452\n",
              "2       448\n",
              "4       442\n",
              "3       433\n",
              "dtype: int64"
            ]
          },
          "metadata": {},
          "execution_count": 121
        }
      ]
    },
    {
      "cell_type": "code",
      "source": [
        "hour['hour_sin'] = sin_transformer(24).fit_transform(hour)['hour']\n",
        "hour['hour_cos'] = cos_transformer(24).fit_transform(hour)['hour']\n",
        "hour.plot(x='hour', marker='o')\n",
        "_ = plt.title(\"Trigonometric encoding for the 'hour' feature\")"
      ],
      "metadata": {
        "colab": {
          "base_uri": "https://localhost:8080/",
          "height": 295
        },
        "id": "y0uVSirpr8UP",
        "outputId": "12fc746b-40a4-4dbe-d16b-9761b7bcb900"
      },
      "execution_count": 163,
      "outputs": [
        {
          "output_type": "display_data",
          "data": {
            "image/png": "[encoded data removed]",
            "text/plain": [
              "<Figure size 432x288 with 1 Axes>"
            ]
          },
          "metadata": {
            "needs_background": "light"
          }
        }
      ]
    },
    {
      "cell_type": "code",
      "source": [
        "fig, ax = plt.subplots(figsize=(7, 5))\n",
        "sp = ax.scatter(hour['hour_sin'], hour['hour_cos'], c=hour['hour'])\n",
        "ax.set(\n",
        "    xlabel=\"sin(hour)\",\n",
        "    ylabel=\"cos(hour)\",\n",
        ")\n",
        "_ = fig.colorbar(sp)"
      ],
      "metadata": {
        "colab": {
          "base_uri": "https://localhost:8080/",
          "height": 334
        },
        "id": "IxgCMLwQ0wS9",
        "outputId": "b3de65af-0011-465f-a535-a63aa0db891a"
      },
      "execution_count": 153,
      "outputs": [
        {
          "output_type": "display_data",
          "data": {
            "image/png": "[encoded data removed]",
            "text/plain": [
              "<Figure size 504x360 with 2 Axes>"
            ]
          },
          "metadata": {
            "needs_background": "light"
          }
        }
      ]
    },
    {
      "cell_type": "markdown",
      "source": [
        "# **Feature engineering**"
      ],
      "metadata": {
        "id": "M4xKpGRbJXWk"
      }
    },
    {
      "cell_type": "code",
      "source": [
        "categorical_columns = ['season', 'weather']\n",
        "\n",
        "# Transformers\n",
        "categorial_transformer=OneHotEncoder(sparse=False, handle_unknown='ignore')\n",
        "numeric_transformer=make_pipeline(PolynomialFeatures(5),RobustScaler())\n",
        "\n",
        "def sin_transformer(period):\n",
        "    return FunctionTransformer(lambda x: np.sin(x / period * 2 * np.pi))\n",
        "\n",
        "def cos_transformer(period):\n",
        "    return FunctionTransformer(lambda x: np.cos(x / period * 2 * np.pi))"
      ],
      "metadata": {
        "id": "cafo0UzVJWzd"
      },
      "execution_count": 58,
      "outputs": []
    },
    {
      "cell_type": "code",
      "source": [
        "preprocessor = ColumnTransformer(\n",
        "    transformers=[\n",
        "        (\"categorical\", categorial_transformer, categorical_columns),\n",
        "        (\"month_sin\", sin_transformer(12), [\"month\"]),\n",
        "        (\"month_cos\", cos_transformer(12), [\"month\"]),\n",
        "        (\"weekday_sin\", sin_transformer(7), [\"weekday\"]),\n",
        "        (\"weekday_cos\", cos_transformer(7), [\"weekday\"]),\n",
        "        (\"hour_sin\", sin_transformer(24), [\"hour\"]),\n",
        "        (\"hour_cos\", cos_transformer(24), [\"hour\"]),\n",
        "    ],\n",
        "    remainder=numeric_transformer,\n",
        ")"
      ],
      "metadata": {
        "id": "b0pxF9L4Xe64"
      },
      "execution_count": 59,
      "outputs": []
    },
    {
      "cell_type": "code",
      "source": [
        "preprocessor.fit(X_train)"
      ],
      "metadata": {
        "colab": {
          "base_uri": "https://localhost:8080/"
        },
        "id": "1DZ0Wnd9c5Zm",
        "outputId": "ab9ac718-2e29-4f1f-f69c-ea4306bb1ec4"
      },
      "execution_count": 60,
      "outputs": [
        {
          "output_type": "execute_result",
          "data": {
            "text/plain": [
              "ColumnTransformer(remainder=Pipeline(steps=[('polynomialfeatures',\n",
              "                                             PolynomialFeatures(degree=5)),\n",
              "                                            ('robustscaler', RobustScaler())]),\n",
              "                  transformers=[('categorical',\n",
              "                                 OneHotEncoder(handle_unknown='ignore',\n",
              "                                               sparse=False),\n",
              "                                 ['season', 'weather']),\n",
              "                                ('month_sin',\n",
              "                                 FunctionTransformer(func=<function sin_transformer.<locals>.<lambda> at 0x7f9efd70b3b0>),\n",
              "                                 ['month']),\n",
              "                                ('month...\n",
              "                                 FunctionTransformer(func=<function sin_transformer.<locals>.<lambda> at 0x7f9efd70bb90>),\n",
              "                                 ['weekday']),\n",
              "                                ('weekday_cos',\n",
              "                                 FunctionTransformer(func=<function cos_transformer.<locals>.<lambda> at 0x7f9efd70b050>),\n",
              "                                 ['weekday']),\n",
              "                                ('hour_sin',\n",
              "                                 FunctionTransformer(func=<function sin_transformer.<locals>.<lambda> at 0x7f9efd70b9e0>),\n",
              "                                 ['hour']),\n",
              "                                ('hour_cos',\n",
              "                                 FunctionTransformer(func=<function cos_transformer.<locals>.<lambda> at 0x7f9efd70b710>),\n",
              "                                 ['hour'])])"
            ]
          },
          "metadata": {},
          "execution_count": 60
        }
      ]
    },
    {
      "cell_type": "code",
      "source": [
        "# to check and see how the transformed data looks like\n",
        "X_train2=pd.DataFrame(preprocessor.transform(X_train))\n",
        "X_train2.head()"
      ],
      "metadata": {
        "colab": {
          "base_uri": "https://localhost:8080/",
          "height": 338
        },
        "id": "Owhx2cnpdY7r",
        "outputId": "e5aad963-7d6f-40b8-a728-c596743fa55b"
      },
      "execution_count": 61,
      "outputs": [
        {
          "output_type": "execute_result",
          "data": {
            "text/html": [
              "<div>\n",
              "<style scoped>\n",
              "    .dataframe tbody tr th:only-of-type {\n",
              "        vertical-align: middle;\n",
              "    }\n",
              "\n",
              "    .dataframe tbody tr th {\n",
              "        vertical-align: top;\n",
              "    }\n",
              "\n",
              "    .dataframe thead th {\n",
              "        text-align: right;\n",
              "    }\n",
              "</style>\n",
              "<table border=\"1\" class=\"dataframe\">\n",
              "  <thead>\n",
              "    <tr style=\"text-align: right;\">\n",
              "      <th></th>\n",
              "      <th>0</th>\n",
              "      <th>1</th>\n",
              "      <th>2</th>\n",
              "      <th>3</th>\n",
              "      <th>4</th>\n",
              "      <th>5</th>\n",
              "      <th>6</th>\n",
              "      <th>7</th>\n",
              "      <th>8</th>\n",
              "      <th>9</th>\n",
              "      <th>10</th>\n",
              "      <th>11</th>\n",
              "      <th>12</th>\n",
              "      <th>13</th>\n",
              "      <th>14</th>\n",
              "      <th>15</th>\n",
              "      <th>16</th>\n",
              "      <th>17</th>\n",
              "      <th>18</th>\n",
              "      <th>19</th>\n",
              "      <th>20</th>\n",
              "      <th>21</th>\n",
              "      <th>22</th>\n",
              "      <th>23</th>\n",
              "      <th>24</th>\n",
              "      <th>25</th>\n",
              "      <th>26</th>\n",
              "      <th>27</th>\n",
              "      <th>28</th>\n",
              "      <th>29</th>\n",
              "      <th>30</th>\n",
              "      <th>31</th>\n",
              "      <th>32</th>\n",
              "      <th>33</th>\n",
              "      <th>34</th>\n",
              "      <th>35</th>\n",
              "      <th>36</th>\n",
              "      <th>37</th>\n",
              "      <th>38</th>\n",
              "      <th>39</th>\n",
              "      <th>...</th>\n",
              "      <th>2977</th>\n",
              "      <th>2978</th>\n",
              "      <th>2979</th>\n",
              "      <th>2980</th>\n",
              "      <th>2981</th>\n",
              "      <th>2982</th>\n",
              "      <th>2983</th>\n",
              "      <th>2984</th>\n",
              "      <th>2985</th>\n",
              "      <th>2986</th>\n",
              "      <th>2987</th>\n",
              "      <th>2988</th>\n",
              "      <th>2989</th>\n",
              "      <th>2990</th>\n",
              "      <th>2991</th>\n",
              "      <th>2992</th>\n",
              "      <th>2993</th>\n",
              "      <th>2994</th>\n",
              "      <th>2995</th>\n",
              "      <th>2996</th>\n",
              "      <th>2997</th>\n",
              "      <th>2998</th>\n",
              "      <th>2999</th>\n",
              "      <th>3000</th>\n",
              "      <th>3001</th>\n",
              "      <th>3002</th>\n",
              "      <th>3003</th>\n",
              "      <th>3004</th>\n",
              "      <th>3005</th>\n",
              "      <th>3006</th>\n",
              "      <th>3007</th>\n",
              "      <th>3008</th>\n",
              "      <th>3009</th>\n",
              "      <th>3010</th>\n",
              "      <th>3011</th>\n",
              "      <th>3012</th>\n",
              "      <th>3013</th>\n",
              "      <th>3014</th>\n",
              "      <th>3015</th>\n",
              "      <th>3016</th>\n",
              "    </tr>\n",
              "  </thead>\n",
              "  <tbody>\n",
              "    <tr>\n",
              "      <th>0</th>\n",
              "      <td>1.0</td>\n",
              "      <td>0.0</td>\n",
              "      <td>0.0</td>\n",
              "      <td>0.0</td>\n",
              "      <td>1.0</td>\n",
              "      <td>0.0</td>\n",
              "      <td>0.0</td>\n",
              "      <td>0.0</td>\n",
              "      <td>0.866025</td>\n",
              "      <td>5.000000e-01</td>\n",
              "      <td>0.781831</td>\n",
              "      <td>0.623490</td>\n",
              "      <td>-0.965926</td>\n",
              "      <td>-2.588190e-01</td>\n",
              "      <td>0.0</td>\n",
              "      <td>0.0</td>\n",
              "      <td>0.0</td>\n",
              "      <td>-0.933333</td>\n",
              "      <td>-1.052449</td>\n",
              "      <td>-1.000000</td>\n",
              "      <td>2.601206</td>\n",
              "      <td>-0.266667</td>\n",
              "      <td>0.287234</td>\n",
              "      <td>-0.2</td>\n",
              "      <td>-1.0</td>\n",
              "      <td>0.0</td>\n",
              "      <td>0.0</td>\n",
              "      <td>0.0</td>\n",
              "      <td>0.0</td>\n",
              "      <td>0.0</td>\n",
              "      <td>0.0</td>\n",
              "      <td>0.0</td>\n",
              "      <td>0.0</td>\n",
              "      <td>0.0</td>\n",
              "      <td>0.0</td>\n",
              "      <td>0.0</td>\n",
              "      <td>-0.206897</td>\n",
              "      <td>-0.277727</td>\n",
              "      <td>-0.242857</td>\n",
              "      <td>2.133095</td>\n",
              "      <td>...</td>\n",
              "      <td>-0.058443</td>\n",
              "      <td>-0.079053</td>\n",
              "      <td>-0.094949</td>\n",
              "      <td>-0.100789</td>\n",
              "      <td>-0.000162</td>\n",
              "      <td>-0.018116</td>\n",
              "      <td>-0.020224</td>\n",
              "      <td>-0.034918</td>\n",
              "      <td>-0.051773</td>\n",
              "      <td>-0.060277</td>\n",
              "      <td>-0.051955</td>\n",
              "      <td>-0.079685</td>\n",
              "      <td>-0.114878</td>\n",
              "      <td>-0.140678</td>\n",
              "      <td>-0.087500</td>\n",
              "      <td>-0.116933</td>\n",
              "      <td>-0.166284</td>\n",
              "      <td>-0.228927</td>\n",
              "      <td>-0.267374</td>\n",
              "      <td>0.231509</td>\n",
              "      <td>0.256370</td>\n",
              "      <td>0.275543</td>\n",
              "      <td>0.256171</td>\n",
              "      <td>0.292323</td>\n",
              "      <td>0.311585</td>\n",
              "      <td>0.168061</td>\n",
              "      <td>0.249248</td>\n",
              "      <td>0.313697</td>\n",
              "      <td>0.322367</td>\n",
              "      <td>0.020891</td>\n",
              "      <td>0.070531</td>\n",
              "      <td>0.154080</td>\n",
              "      <td>0.261364</td>\n",
              "      <td>0.286557</td>\n",
              "      <td>-0.088902</td>\n",
              "      <td>-0.118081</td>\n",
              "      <td>-0.150160</td>\n",
              "      <td>-0.180034</td>\n",
              "      <td>-0.200199</td>\n",
              "      <td>-1.0</td>\n",
              "    </tr>\n",
              "    <tr>\n",
              "      <th>1</th>\n",
              "      <td>0.0</td>\n",
              "      <td>0.0</td>\n",
              "      <td>1.0</td>\n",
              "      <td>0.0</td>\n",
              "      <td>1.0</td>\n",
              "      <td>0.0</td>\n",
              "      <td>0.0</td>\n",
              "      <td>0.0</td>\n",
              "      <td>-1.000000</td>\n",
              "      <td>-1.836970e-16</td>\n",
              "      <td>-0.781831</td>\n",
              "      <td>0.623490</td>\n",
              "      <td>-0.258819</td>\n",
              "      <td>9.659258e-01</td>\n",
              "      <td>0.0</td>\n",
              "      <td>0.0</td>\n",
              "      <td>-1.0</td>\n",
              "      <td>0.133333</td>\n",
              "      <td>0.105592</td>\n",
              "      <td>0.200000</td>\n",
              "      <td>0.000000</td>\n",
              "      <td>-0.133333</td>\n",
              "      <td>-0.393617</td>\n",
              "      <td>0.8</td>\n",
              "      <td>-1.0</td>\n",
              "      <td>0.0</td>\n",
              "      <td>0.0</td>\n",
              "      <td>0.0</td>\n",
              "      <td>0.0</td>\n",
              "      <td>0.0</td>\n",
              "      <td>0.0</td>\n",
              "      <td>0.0</td>\n",
              "      <td>0.0</td>\n",
              "      <td>0.0</td>\n",
              "      <td>0.0</td>\n",
              "      <td>-1.0</td>\n",
              "      <td>-0.586207</td>\n",
              "      <td>-0.610999</td>\n",
              "      <td>-0.700000</td>\n",
              "      <td>-0.466726</td>\n",
              "      <td>...</td>\n",
              "      <td>0.232181</td>\n",
              "      <td>0.087953</td>\n",
              "      <td>-0.008339</td>\n",
              "      <td>-0.065569</td>\n",
              "      <td>-0.030513</td>\n",
              "      <td>-0.054243</td>\n",
              "      <td>-0.058909</td>\n",
              "      <td>-0.042232</td>\n",
              "      <td>-0.084008</td>\n",
              "      <td>-0.104107</td>\n",
              "      <td>0.171103</td>\n",
              "      <td>0.033579</td>\n",
              "      <td>-0.086585</td>\n",
              "      <td>-0.165599</td>\n",
              "      <td>1.259309</td>\n",
              "      <td>0.859338</td>\n",
              "      <td>0.487452</td>\n",
              "      <td>0.131511</td>\n",
              "      <td>-0.134041</td>\n",
              "      <td>-0.041189</td>\n",
              "      <td>-0.066551</td>\n",
              "      <td>-0.076891</td>\n",
              "      <td>-0.071402</td>\n",
              "      <td>-0.112261</td>\n",
              "      <td>-0.140883</td>\n",
              "      <td>0.098071</td>\n",
              "      <td>-0.028950</td>\n",
              "      <td>-0.156374</td>\n",
              "      <td>-0.246777</td>\n",
              "      <td>0.886912</td>\n",
              "      <td>0.579071</td>\n",
              "      <td>0.283364</td>\n",
              "      <td>-0.041667</td>\n",
              "      <td>-0.392690</td>\n",
              "      <td>2.366371</td>\n",
              "      <td>1.899532</td>\n",
              "      <td>1.486826</td>\n",
              "      <td>1.120209</td>\n",
              "      <td>0.800797</td>\n",
              "      <td>-1.0</td>\n",
              "    </tr>\n",
              "    <tr>\n",
              "      <th>2</th>\n",
              "      <td>0.0</td>\n",
              "      <td>0.0</td>\n",
              "      <td>1.0</td>\n",
              "      <td>0.0</td>\n",
              "      <td>1.0</td>\n",
              "      <td>0.0</td>\n",
              "      <td>0.0</td>\n",
              "      <td>0.0</td>\n",
              "      <td>-0.866025</td>\n",
              "      <td>-5.000000e-01</td>\n",
              "      <td>-0.433884</td>\n",
              "      <td>-0.900969</td>\n",
              "      <td>0.866025</td>\n",
              "      <td>5.000000e-01</td>\n",
              "      <td>0.0</td>\n",
              "      <td>0.0</td>\n",
              "      <td>0.0</td>\n",
              "      <td>0.466667</td>\n",
              "      <td>0.316082</td>\n",
              "      <td>0.700000</td>\n",
              "      <td>-1.300268</td>\n",
              "      <td>-0.333333</td>\n",
              "      <td>-0.590426</td>\n",
              "      <td>0.9</td>\n",
              "      <td>-1.0</td>\n",
              "      <td>0.0</td>\n",
              "      <td>0.0</td>\n",
              "      <td>0.0</td>\n",
              "      <td>0.0</td>\n",
              "      <td>0.0</td>\n",
              "      <td>0.0</td>\n",
              "      <td>0.0</td>\n",
              "      <td>0.0</td>\n",
              "      <td>0.0</td>\n",
              "      <td>0.0</td>\n",
              "      <td>0.0</td>\n",
              "      <td>0.517241</td>\n",
              "      <td>0.444546</td>\n",
              "      <td>0.485714</td>\n",
              "      <td>-0.466726</td>\n",
              "      <td>...</td>\n",
              "      <td>-0.059117</td>\n",
              "      <td>-0.082582</td>\n",
              "      <td>-0.100595</td>\n",
              "      <td>-0.107078</td>\n",
              "      <td>-0.030842</td>\n",
              "      <td>-0.057997</td>\n",
              "      <td>-0.060598</td>\n",
              "      <td>-0.077399</td>\n",
              "      <td>-0.102736</td>\n",
              "      <td>-0.112658</td>\n",
              "      <td>-0.082610</td>\n",
              "      <td>-0.127398</td>\n",
              "      <td>-0.177777</td>\n",
              "      <td>-0.209108</td>\n",
              "      <td>0.060995</td>\n",
              "      <td>-0.033466</td>\n",
              "      <td>-0.143280</td>\n",
              "      <td>-0.260587</td>\n",
              "      <td>-0.334041</td>\n",
              "      <td>-0.041488</td>\n",
              "      <td>-0.069690</td>\n",
              "      <td>-0.078406</td>\n",
              "      <td>-0.101598</td>\n",
              "      <td>-0.128030</td>\n",
              "      <td>-0.148556</td>\n",
              "      <td>-0.100752</td>\n",
              "      <td>-0.162890</td>\n",
              "      <td>-0.235370</td>\n",
              "      <td>-0.285622</td>\n",
              "      <td>0.066849</td>\n",
              "      <td>-0.050313</td>\n",
              "      <td>-0.183499</td>\n",
              "      <td>-0.383614</td>\n",
              "      <td>-0.589035</td>\n",
              "      <td>3.141949</td>\n",
              "      <td>2.406435</td>\n",
              "      <td>1.802838</td>\n",
              "      <td>1.305244</td>\n",
              "      <td>0.900897</td>\n",
              "      <td>-1.0</td>\n",
              "    </tr>\n",
              "    <tr>\n",
              "      <th>3</th>\n",
              "      <td>0.0</td>\n",
              "      <td>0.0</td>\n",
              "      <td>0.0</td>\n",
              "      <td>1.0</td>\n",
              "      <td>1.0</td>\n",
              "      <td>0.0</td>\n",
              "      <td>0.0</td>\n",
              "      <td>0.0</td>\n",
              "      <td>-0.500000</td>\n",
              "      <td>8.660254e-01</td>\n",
              "      <td>0.781831</td>\n",
              "      <td>0.623490</td>\n",
              "      <td>1.000000</td>\n",
              "      <td>6.123234e-17</td>\n",
              "      <td>0.0</td>\n",
              "      <td>0.0</td>\n",
              "      <td>0.0</td>\n",
              "      <td>-0.933333</td>\n",
              "      <td>-0.894408</td>\n",
              "      <td>0.233333</td>\n",
              "      <td>-0.400134</td>\n",
              "      <td>-0.222222</td>\n",
              "      <td>0.132979</td>\n",
              "      <td>-0.4</td>\n",
              "      <td>0.0</td>\n",
              "      <td>0.0</td>\n",
              "      <td>0.0</td>\n",
              "      <td>0.0</td>\n",
              "      <td>0.0</td>\n",
              "      <td>0.0</td>\n",
              "      <td>0.0</td>\n",
              "      <td>0.0</td>\n",
              "      <td>0.0</td>\n",
              "      <td>0.0</td>\n",
              "      <td>0.0</td>\n",
              "      <td>0.0</td>\n",
              "      <td>-0.206897</td>\n",
              "      <td>-0.194317</td>\n",
              "      <td>0.285714</td>\n",
              "      <td>0.133095</td>\n",
              "      <td>...</td>\n",
              "      <td>-0.058653</td>\n",
              "      <td>-0.077602</td>\n",
              "      <td>-0.090379</td>\n",
              "      <td>-0.092381</td>\n",
              "      <td>-0.008854</td>\n",
              "      <td>-0.032214</td>\n",
              "      <td>-0.025778</td>\n",
              "      <td>-0.052665</td>\n",
              "      <td>-0.063098</td>\n",
              "      <td>-0.058294</td>\n",
              "      <td>-0.068774</td>\n",
              "      <td>-0.094778</td>\n",
              "      <td>-0.118988</td>\n",
              "      <td>-0.123467</td>\n",
              "      <td>-0.098719</td>\n",
              "      <td>-0.129969</td>\n",
              "      <td>-0.175000</td>\n",
              "      <td>-0.219054</td>\n",
              "      <td>-0.222665</td>\n",
              "      <td>0.066953</td>\n",
              "      <td>0.047148</td>\n",
              "      <td>0.090788</td>\n",
              "      <td>0.013960</td>\n",
              "      <td>0.053197</td>\n",
              "      <td>0.116126</td>\n",
              "      <td>-0.026685</td>\n",
              "      <td>-0.004941</td>\n",
              "      <td>0.048514</td>\n",
              "      <td>0.134948</td>\n",
              "      <td>-0.093973</td>\n",
              "      <td>-0.101937</td>\n",
              "      <td>-0.078968</td>\n",
              "      <td>-0.006756</td>\n",
              "      <td>0.134176</td>\n",
              "      <td>-0.121949</td>\n",
              "      <td>-0.174068</td>\n",
              "      <td>-0.241174</td>\n",
              "      <td>-0.319791</td>\n",
              "      <td>-0.399203</td>\n",
              "      <td>0.0</td>\n",
              "    </tr>\n",
              "    <tr>\n",
              "      <th>4</th>\n",
              "      <td>0.0</td>\n",
              "      <td>1.0</td>\n",
              "      <td>0.0</td>\n",
              "      <td>0.0</td>\n",
              "      <td>0.0</td>\n",
              "      <td>0.0</td>\n",
              "      <td>1.0</td>\n",
              "      <td>0.0</td>\n",
              "      <td>0.866025</td>\n",
              "      <td>-5.000000e-01</td>\n",
              "      <td>0.781831</td>\n",
              "      <td>0.623490</td>\n",
              "      <td>0.258819</td>\n",
              "      <td>-9.659258e-01</td>\n",
              "      <td>0.0</td>\n",
              "      <td>0.0</td>\n",
              "      <td>0.0</td>\n",
              "      <td>-0.600000</td>\n",
              "      <td>-0.683918</td>\n",
              "      <td>0.633333</td>\n",
              "      <td>1.701072</td>\n",
              "      <td>-0.333333</td>\n",
              "      <td>-0.531915</td>\n",
              "      <td>-0.5</td>\n",
              "      <td>-1.0</td>\n",
              "      <td>0.0</td>\n",
              "      <td>0.0</td>\n",
              "      <td>0.0</td>\n",
              "      <td>0.0</td>\n",
              "      <td>0.0</td>\n",
              "      <td>0.0</td>\n",
              "      <td>0.0</td>\n",
              "      <td>0.0</td>\n",
              "      <td>0.0</td>\n",
              "      <td>0.0</td>\n",
              "      <td>0.0</td>\n",
              "      <td>-0.034483</td>\n",
              "      <td>-0.083226</td>\n",
              "      <td>0.457143</td>\n",
              "      <td>1.533274</td>\n",
              "      <td>...</td>\n",
              "      <td>-0.062520</td>\n",
              "      <td>-0.084371</td>\n",
              "      <td>-0.101320</td>\n",
              "      <td>-0.107078</td>\n",
              "      <td>-0.030841</td>\n",
              "      <td>-0.057991</td>\n",
              "      <td>-0.060587</td>\n",
              "      <td>-0.077453</td>\n",
              "      <td>-0.102699</td>\n",
              "      <td>-0.112536</td>\n",
              "      <td>-0.087221</td>\n",
              "      <td>-0.129786</td>\n",
              "      <td>-0.178281</td>\n",
              "      <td>-0.208003</td>\n",
              "      <td>-0.108039</td>\n",
              "      <td>-0.150296</td>\n",
              "      <td>-0.216891</td>\n",
              "      <td>-0.294682</td>\n",
              "      <td>-0.334041</td>\n",
              "      <td>-0.041485</td>\n",
              "      <td>-0.069668</td>\n",
              "      <td>-0.078365</td>\n",
              "      <td>-0.101574</td>\n",
              "      <td>-0.127796</td>\n",
              "      <td>-0.148059</td>\n",
              "      <td>-0.106117</td>\n",
              "      <td>-0.164996</td>\n",
              "      <td>-0.233766</td>\n",
              "      <td>-0.279961</td>\n",
              "      <td>-0.132485</td>\n",
              "      <td>-0.188392</td>\n",
              "      <td>-0.266172</td>\n",
              "      <td>-0.405926</td>\n",
              "      <td>-0.530662</td>\n",
              "      <td>-0.128099</td>\n",
              "      <td>-0.187501</td>\n",
              "      <td>-0.269241</td>\n",
              "      <td>-0.375070</td>\n",
              "      <td>-0.500498</td>\n",
              "      <td>-1.0</td>\n",
              "    </tr>\n",
              "  </tbody>\n",
              "</table>\n",
              "<p>5 rows × 3017 columns</p>\n",
              "</div>"
            ],
            "text/plain": [
              "   0     1     2     3     4     ...      3012      3013      3014      3015  3016\n",
              "0   1.0   0.0   0.0   0.0   1.0  ... -0.118081 -0.150160 -0.180034 -0.200199  -1.0\n",
              "1   0.0   0.0   1.0   0.0   1.0  ...  1.899532  1.486826  1.120209  0.800797  -1.0\n",
              "2   0.0   0.0   1.0   0.0   1.0  ...  2.406435  1.802838  1.305244  0.900897  -1.0\n",
              "3   0.0   0.0   0.0   1.0   1.0  ... -0.174068 -0.241174 -0.319791 -0.399203   0.0\n",
              "4   0.0   1.0   0.0   0.0   0.0  ... -0.187501 -0.269241 -0.375070 -0.500498  -1.0\n",
              "\n",
              "[5 rows x 3017 columns]"
            ]
          },
          "metadata": {},
          "execution_count": 61
        }
      ]
    },
    {
      "cell_type": "markdown",
      "source": [
        "# **Feature selection**"
      ],
      "metadata": {
        "id": "ZhZf7RTYe3QR"
      }
    },
    {
      "cell_type": "markdown",
      "source": [
        "**Lasso on original data, not feature engineered**"
      ],
      "metadata": {
        "id": "3wogG7-y3Q-p"
      }
    },
    {
      "cell_type": "code",
      "source": [
        "X_train.columns"
      ],
      "metadata": {
        "colab": {
          "base_uri": "https://localhost:8080/"
        },
        "id": "EDO1Yble33Qm",
        "outputId": "4b8184b0-69eb-412b-c496-32e41da3c0e2"
      },
      "execution_count": 139,
      "outputs": [
        {
          "output_type": "execute_result",
          "data": {
            "text/plain": [
              "Index(['season', 'holiday', 'workingday', 'weather', 'temp', 'atemp',\n",
              "       'humidity', 'windspeed', 'casual', 'registered', 'hour', 'day', 'month',\n",
              "       'year', 'weekday'],\n",
              "      dtype='object')"
            ]
          },
          "metadata": {},
          "execution_count": 139
        }
      ]
    },
    {
      "cell_type": "code",
      "source": [
        "lasso = Lasso(alpha=0.1)\n",
        "lasso.fit(X_train, y_train)\n",
        "important_features_index=pd.DataFrame({'feature': X_train.columns, 'coefficient': np.abs(lasso.coef_)})\n",
        "plt.figure(figsize=(16,10))\n",
        "plt.plot(important_features_index['coefficient'])\n",
        "names=X_train.columns\n",
        "plt.xticks(range(len(names)),names, rotation=60)\n",
        "plt.ylabel('Coefficients')\n"
      ],
      "metadata": {
        "colab": {
          "base_uri": "https://localhost:8080/",
          "height": 654
        },
        "id": "fBE6PP283QcC",
        "outputId": "16687595-3732-43d3-ee7e-cd2362269654"
      },
      "execution_count": 146,
      "outputs": [
        {
          "output_type": "execute_result",
          "data": {
            "text/plain": [
              "Text(0, 0.5, 'Coefficients')"
            ]
          },
          "metadata": {},
          "execution_count": 146
        },
        {
          "output_type": "display_data",
          "data": {
            "image/png": "[encoded data removed]",
            "text/plain": [
              "<Figure size 1152x720 with 1 Axes>"
            ]
          },
          "metadata": {
            "needs_background": "light"
          }
        }
      ]
    },
    {
      "cell_type": "code",
      "source": [
        "important_features_index.sort_values('coefficient', ascending=False, inplace=True)\n",
        "important_features_index"
      ],
      "metadata": {
        "colab": {
          "base_uri": "https://localhost:8080/",
          "height": 514
        },
        "id": "8cMThRLt5U1Y",
        "outputId": "a3d617dd-e3f1-469d-e160-292e64581e96"
      },
      "execution_count": 147,
      "outputs": [
        {
          "output_type": "execute_result",
          "data": {
            "text/html": [
              "<div>\n",
              "<style scoped>\n",
              "    .dataframe tbody tr th:only-of-type {\n",
              "        vertical-align: middle;\n",
              "    }\n",
              "\n",
              "    .dataframe tbody tr th {\n",
              "        vertical-align: top;\n",
              "    }\n",
              "\n",
              "    .dataframe thead th {\n",
              "        text-align: right;\n",
              "    }\n",
              "</style>\n",
              "<table border=\"1\" class=\"dataframe\">\n",
              "  <thead>\n",
              "    <tr style=\"text-align: right;\">\n",
              "      <th></th>\n",
              "      <th>feature</th>\n",
              "      <th>coefficient</th>\n",
              "    </tr>\n",
              "  </thead>\n",
              "  <tbody>\n",
              "    <tr>\n",
              "      <th>9</th>\n",
              "      <td>registered</td>\n",
              "      <td>1.000005</td>\n",
              "    </tr>\n",
              "    <tr>\n",
              "      <th>8</th>\n",
              "      <td>casual</td>\n",
              "      <td>0.999943</td>\n",
              "    </tr>\n",
              "    <tr>\n",
              "      <th>0</th>\n",
              "      <td>season</td>\n",
              "      <td>0.000000</td>\n",
              "    </tr>\n",
              "    <tr>\n",
              "      <th>1</th>\n",
              "      <td>holiday</td>\n",
              "      <td>0.000000</td>\n",
              "    </tr>\n",
              "    <tr>\n",
              "      <th>2</th>\n",
              "      <td>workingday</td>\n",
              "      <td>0.000000</td>\n",
              "    </tr>\n",
              "    <tr>\n",
              "      <th>3</th>\n",
              "      <td>weather</td>\n",
              "      <td>0.000000</td>\n",
              "    </tr>\n",
              "    <tr>\n",
              "      <th>4</th>\n",
              "      <td>temp</td>\n",
              "      <td>0.000000</td>\n",
              "    </tr>\n",
              "    <tr>\n",
              "      <th>5</th>\n",
              "      <td>atemp</td>\n",
              "      <td>0.000000</td>\n",
              "    </tr>\n",
              "    <tr>\n",
              "      <th>6</th>\n",
              "      <td>humidity</td>\n",
              "      <td>0.000000</td>\n",
              "    </tr>\n",
              "    <tr>\n",
              "      <th>7</th>\n",
              "      <td>windspeed</td>\n",
              "      <td>0.000000</td>\n",
              "    </tr>\n",
              "    <tr>\n",
              "      <th>10</th>\n",
              "      <td>hour</td>\n",
              "      <td>0.000000</td>\n",
              "    </tr>\n",
              "    <tr>\n",
              "      <th>11</th>\n",
              "      <td>day</td>\n",
              "      <td>0.000000</td>\n",
              "    </tr>\n",
              "    <tr>\n",
              "      <th>12</th>\n",
              "      <td>month</td>\n",
              "      <td>0.000000</td>\n",
              "    </tr>\n",
              "    <tr>\n",
              "      <th>13</th>\n",
              "      <td>year</td>\n",
              "      <td>0.000000</td>\n",
              "    </tr>\n",
              "    <tr>\n",
              "      <th>14</th>\n",
              "      <td>weekday</td>\n",
              "      <td>0.000000</td>\n",
              "    </tr>\n",
              "  </tbody>\n",
              "</table>\n",
              "</div>"
            ],
            "text/plain": [
              "       feature  coefficient\n",
              "9   registered     1.000005\n",
              "8       casual     0.999943\n",
              "0       season     0.000000\n",
              "1      holiday     0.000000\n",
              "2   workingday     0.000000\n",
              "3      weather     0.000000\n",
              "4         temp     0.000000\n",
              "5        atemp     0.000000\n",
              "6     humidity     0.000000\n",
              "7    windspeed     0.000000\n",
              "10        hour     0.000000\n",
              "11         day     0.000000\n",
              "12       month     0.000000\n",
              "13        year     0.000000\n",
              "14     weekday     0.000000"
            ]
          },
          "metadata": {},
          "execution_count": 147
        }
      ]
    },
    {
      "cell_type": "markdown",
      "source": [
        "**Lasso on expanded data**"
      ],
      "metadata": {
        "id": "m58vSoRce-4a"
      }
    },
    {
      "cell_type": "code",
      "source": [
        "lasso = Lasso(alpha=0.1)\n",
        "lasso.fit(X_train2, y_train)\n",
        "important_features_index=pd.DataFrame({'feature': X_train2.columns, 'coefficient': np.abs(lasso.coef_)})\n",
        "plt.figure(figsize=(16,10))\n",
        "plt.plot(important_features_index['coefficient'])\n",
        "plt.ylabel('Coefficients')\n"
      ],
      "metadata": {
        "colab": {
          "base_uri": "https://localhost:8080/",
          "height": 663
        },
        "id": "F69jVdodfADm",
        "outputId": "b63e805e-ec13-40fa-b13f-070324497657"
      },
      "execution_count": 144,
      "outputs": [
        {
          "output_type": "stream",
          "name": "stderr",
          "text": [
            "/usr/local/lib/python3.7/dist-packages/sklearn/linear_model/_coordinate_descent.py:648: ConvergenceWarning: Objective did not converge. You might want to increase the number of iterations, check the scale of the features or consider increasing regularisation. Duality gap: 1.773e+05, tolerance: 2.509e+04\n",
            "  coef_, l1_reg, l2_reg, X, y, max_iter, tol, rng, random, positive\n"
          ]
        },
        {
          "output_type": "execute_result",
          "data": {
            "text/plain": [
              "Text(0, 0.5, 'Coefficients')"
            ]
          },
          "metadata": {},
          "execution_count": 144
        },
        {
          "output_type": "display_data",
          "data": {
            "image/png": "[encoded data removed]",
            "text/plain": [
              "<Figure size 1152x720 with 1 Axes>"
            ]
          },
          "metadata": {
            "needs_background": "light"
          }
        }
      ]
    },
    {
      "cell_type": "code",
      "source": [
        "important_features_index.sort_values('coefficient', ascending=False, inplace=True)\n",
        "important_features_index[important_features_index['coefficient']>=1]"
      ],
      "metadata": {
        "colab": {
          "base_uri": "https://localhost:8080/",
          "height": 173
        },
        "id": "Et-zGJGlgpjV",
        "outputId": "a6fef270-eb21-42dc-ad50-88e0276557c7"
      },
      "execution_count": 79,
      "outputs": [
        {
          "output_type": "execute_result",
          "data": {
            "text/html": [
              "<div>\n",
              "<style scoped>\n",
              "    .dataframe tbody tr th:only-of-type {\n",
              "        vertical-align: middle;\n",
              "    }\n",
              "\n",
              "    .dataframe tbody tr th {\n",
              "        vertical-align: top;\n",
              "    }\n",
              "\n",
              "    .dataframe thead th {\n",
              "        text-align: right;\n",
              "    }\n",
              "</style>\n",
              "<table border=\"1\" class=\"dataframe\">\n",
              "  <thead>\n",
              "    <tr style=\"text-align: right;\">\n",
              "      <th></th>\n",
              "      <th>feature</th>\n",
              "      <th>coefficient</th>\n",
              "    </tr>\n",
              "  </thead>\n",
              "  <tbody>\n",
              "    <tr>\n",
              "      <th>22</th>\n",
              "      <td>22</td>\n",
              "      <td>180.490600</td>\n",
              "    </tr>\n",
              "    <tr>\n",
              "      <th>21</th>\n",
              "      <td>21</td>\n",
              "      <td>44.075972</td>\n",
              "    </tr>\n",
              "    <tr>\n",
              "      <th>76</th>\n",
              "      <td>76</td>\n",
              "      <td>3.687992</td>\n",
              "    </tr>\n",
              "    <tr>\n",
              "      <th>295</th>\n",
              "      <td>295</td>\n",
              "      <td>3.371018</td>\n",
              "    </tr>\n",
              "  </tbody>\n",
              "</table>\n",
              "</div>"
            ],
            "text/plain": [
              "     feature  coefficient\n",
              "22        22   180.490600\n",
              "21        21    44.075972\n",
              "76        76     3.687992\n",
              "295      295     3.371018"
            ]
          },
          "metadata": {},
          "execution_count": 79
        }
      ]
    },
    {
      "cell_type": "markdown",
      "source": [
        "**Feature selected (Lasso) - New training set**"
      ],
      "metadata": {
        "id": "o8tX5EgRjUQ2"
      }
    },
    {
      "cell_type": "code",
      "source": [
        "X_train3=X_train2[[22,21,76,295]]\n",
        "X_train3.head()"
      ],
      "metadata": {
        "colab": {
          "base_uri": "https://localhost:8080/",
          "height": 204
        },
        "id": "9GbceTpRjitb",
        "outputId": "6051ec58-0db4-46fb-9a70-f49f8fb5b7ae"
      },
      "execution_count": 85,
      "outputs": [
        {
          "output_type": "execute_result",
          "data": {
            "text/html": [
              "<div>\n",
              "<style scoped>\n",
              "    .dataframe tbody tr th:only-of-type {\n",
              "        vertical-align: middle;\n",
              "    }\n",
              "\n",
              "    .dataframe tbody tr th {\n",
              "        vertical-align: top;\n",
              "    }\n",
              "\n",
              "    .dataframe thead th {\n",
              "        text-align: right;\n",
              "    }\n",
              "</style>\n",
              "<table border=\"1\" class=\"dataframe\">\n",
              "  <thead>\n",
              "    <tr style=\"text-align: right;\">\n",
              "      <th></th>\n",
              "      <th>22</th>\n",
              "      <th>21</th>\n",
              "      <th>76</th>\n",
              "      <th>295</th>\n",
              "    </tr>\n",
              "  </thead>\n",
              "  <tbody>\n",
              "    <tr>\n",
              "      <th>0</th>\n",
              "      <td>0.287234</td>\n",
              "      <td>-0.266667</td>\n",
              "      <td>0.287065</td>\n",
              "      <td>0.286896</td>\n",
              "    </tr>\n",
              "    <tr>\n",
              "      <th>1</th>\n",
              "      <td>-0.393617</td>\n",
              "      <td>-0.133333</td>\n",
              "      <td>-0.393385</td>\n",
              "      <td>-0.393153</td>\n",
              "    </tr>\n",
              "    <tr>\n",
              "      <th>2</th>\n",
              "      <td>-0.590426</td>\n",
              "      <td>-0.333333</td>\n",
              "      <td>-0.590077</td>\n",
              "      <td>-0.589730</td>\n",
              "    </tr>\n",
              "    <tr>\n",
              "      <th>3</th>\n",
              "      <td>0.132979</td>\n",
              "      <td>-0.222222</td>\n",
              "      <td>0.133278</td>\n",
              "      <td>0.133578</td>\n",
              "    </tr>\n",
              "    <tr>\n",
              "      <th>4</th>\n",
              "      <td>-0.531915</td>\n",
              "      <td>-0.333333</td>\n",
              "      <td>-0.531601</td>\n",
              "      <td>-0.531288</td>\n",
              "    </tr>\n",
              "  </tbody>\n",
              "</table>\n",
              "</div>"
            ],
            "text/plain": [
              "        22        21        76        295\n",
              "0  0.287234 -0.266667  0.287065  0.286896\n",
              "1 -0.393617 -0.133333 -0.393385 -0.393153\n",
              "2 -0.590426 -0.333333 -0.590077 -0.589730\n",
              "3  0.132979 -0.222222  0.133278  0.133578\n",
              "4 -0.531915 -0.333333 -0.531601 -0.531288"
            ]
          },
          "metadata": {},
          "execution_count": 85
        }
      ]
    },
    {
      "cell_type": "markdown",
      "source": [
        "# **Train Linear Regression model**"
      ],
      "metadata": {
        "id": "u7ScZKXwkNTm"
      }
    },
    {
      "cell_type": "markdown",
      "source": [
        "**No Feature engineering**"
      ],
      "metadata": {
        "id": "rCTkbjCkmOEs"
      }
    },
    {
      "cell_type": "code",
      "source": [
        "model_LinReg=LinearRegression()"
      ],
      "metadata": {
        "id": "rqc1xb2VkMuP"
      },
      "execution_count": 86,
      "outputs": []
    },
    {
      "cell_type": "code",
      "source": [
        "cross_accuracy_log = cross_val_score(model_LinReg,   \n",
        "                      X_train,         \n",
        "                      y_train,        \n",
        "                      cv=5,          \n",
        "                      scoring=make_scorer(mean_squared_error)\n",
        ")"
      ],
      "metadata": {
        "id": "8NqFsKSTj2Jl"
      },
      "execution_count": 96,
      "outputs": []
    },
    {
      "cell_type": "code",
      "source": [
        "cross_accuracy_log.mean()"
      ],
      "metadata": {
        "colab": {
          "base_uri": "https://localhost:8080/"
        },
        "id": "JIma3enAlsq0",
        "outputId": "7c09aabb-4abe-49f1-8e37-e83d60901fdd"
      },
      "execution_count": 99,
      "outputs": [
        {
          "output_type": "execute_result",
          "data": {
            "text/plain": [
              "5.173734682082936e-25"
            ]
          },
          "metadata": {},
          "execution_count": 99
        }
      ]
    },
    {
      "cell_type": "markdown",
      "source": [
        "**Feature engineering (Expansion)**"
      ],
      "metadata": {
        "id": "KcsEwClXmVuU"
      }
    },
    {
      "cell_type": "code",
      "source": [
        "cross_accuracy_log = cross_val_score(model_LinReg,   \n",
        "                      X_train2,         \n",
        "                      y_train,        \n",
        "                      cv=5,          \n",
        "                      scoring=make_scorer(mean_squared_error)\n",
        ")"
      ],
      "metadata": {
        "id": "7LHeuJXWmT9W"
      },
      "execution_count": 100,
      "outputs": []
    },
    {
      "cell_type": "code",
      "source": [
        "cross_accuracy_log.mean()"
      ],
      "metadata": {
        "colab": {
          "base_uri": "https://localhost:8080/"
        },
        "id": "LNfogdmKl6VU",
        "outputId": "325f4ffe-0807-493a-8b64-e76f2aef0377"
      },
      "execution_count": 101,
      "outputs": [
        {
          "output_type": "execute_result",
          "data": {
            "text/plain": [
              "33097.05574322894"
            ]
          },
          "metadata": {},
          "execution_count": 101
        }
      ]
    },
    {
      "cell_type": "markdown",
      "source": [
        "**Feature engineering and Feature selection afterwards**"
      ],
      "metadata": {
        "id": "whn90zWZmkSF"
      }
    },
    {
      "cell_type": "code",
      "source": [
        "cross_accuracy_log = cross_val_score(model_LinReg,   \n",
        "                      X_train3,         \n",
        "                      y_train,        \n",
        "                      cv=5,          \n",
        "                      scoring=make_scorer(mean_squared_error)\n",
        ")"
      ],
      "metadata": {
        "id": "olItu8temjnE"
      },
      "execution_count": 102,
      "outputs": []
    },
    {
      "cell_type": "code",
      "source": [
        "cross_accuracy_log.mean()"
      ],
      "metadata": {
        "colab": {
          "base_uri": "https://localhost:8080/"
        },
        "id": "J_0CBDEmmppW",
        "outputId": "580d000a-51ed-4420-f08e-79fa306ab92f"
      },
      "execution_count": 103,
      "outputs": [
        {
          "output_type": "execute_result",
          "data": {
            "text/plain": [
              "1.0533596310083625e-26"
            ]
          },
          "metadata": {},
          "execution_count": 103
        }
      ]
    }
  ]
}