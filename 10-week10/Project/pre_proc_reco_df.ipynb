{
 "cells": [
  {
   "cell_type": "code",
   "execution_count": 1,
   "metadata": {},
   "outputs": [
    {
     "ename": "KeyboardInterrupt",
     "evalue": "",
     "output_type": "error",
     "traceback": [
      "\u001b[0;31m---------------------------------------------------------------------------\u001b[0m",
      "\u001b[0;31mKeyboardInterrupt\u001b[0m                         Traceback (most recent call last)",
      "\u001b[1;32m/Users/ckarlsen/Documents/Spiced/euclidean-eukalyptus/work/10-week-10/Project/pre_proc_reco_df.ipynb Cell 1'\u001b[0m in \u001b[0;36m<module>\u001b[0;34m\u001b[0m\n\u001b[1;32m      <a href='vscode-notebook-cell:/Users/ckarlsen/Documents/Spiced/euclidean-eukalyptus/work/10-week-10/Project/pre_proc_reco_df.ipynb#ch0000000?line=1'>2</a>\u001b[0m \u001b[39mimport\u001b[39;00m \u001b[39mast\u001b[39;00m\n\u001b[1;32m      <a href='vscode-notebook-cell:/Users/ckarlsen/Documents/Spiced/euclidean-eukalyptus/work/10-week-10/Project/pre_proc_reco_df.ipynb#ch0000000?line=4'>5</a>\u001b[0m \u001b[39mimport\u001b[39;00m \u001b[39mnumpy\u001b[39;00m \u001b[39mas\u001b[39;00m \u001b[39mnp\u001b[39;00m\n\u001b[0;32m----> <a href='vscode-notebook-cell:/Users/ckarlsen/Documents/Spiced/euclidean-eukalyptus/work/10-week-10/Project/pre_proc_reco_df.ipynb#ch0000000?line=5'>6</a>\u001b[0m \u001b[39mimport\u001b[39;00m \u001b[39mseaborn\u001b[39;00m \u001b[39mas\u001b[39;00m \u001b[39msns\u001b[39;00m\n\u001b[1;32m      <a href='vscode-notebook-cell:/Users/ckarlsen/Documents/Spiced/euclidean-eukalyptus/work/10-week-10/Project/pre_proc_reco_df.ipynb#ch0000000?line=6'>7</a>\u001b[0m \u001b[39mimport\u001b[39;00m \u001b[39mmatplotlib\u001b[39;00m\u001b[39m.\u001b[39;00m\u001b[39mpyplot\u001b[39;00m \u001b[39mas\u001b[39;00m \u001b[39mplt\u001b[39;00m\n\u001b[1;32m      <a href='vscode-notebook-cell:/Users/ckarlsen/Documents/Spiced/euclidean-eukalyptus/work/10-week-10/Project/pre_proc_reco_df.ipynb#ch0000000?line=8'>9</a>\u001b[0m plt\u001b[39m.\u001b[39mstyle\u001b[39m.\u001b[39muse(\u001b[39m'\u001b[39m\u001b[39mggplot\u001b[39m\u001b[39m'\u001b[39m)\n",
      "File \u001b[0;32m~/.local/lib/python3.8/site-packages/seaborn/__init__.py:2\u001b[0m, in \u001b[0;36m<module>\u001b[0;34m\u001b[0m\n\u001b[1;32m      <a href='file:///~/.local/lib/python3.8/site-packages/seaborn/__init__.py?line=0'>1</a>\u001b[0m \u001b[39m# Import seaborn objects\u001b[39;00m\n\u001b[0;32m----> <a href='file:///~/.local/lib/python3.8/site-packages/seaborn/__init__.py?line=1'>2</a>\u001b[0m \u001b[39mfrom\u001b[39;00m \u001b[39m.\u001b[39;00m\u001b[39mrcmod\u001b[39;00m \u001b[39mimport\u001b[39;00m \u001b[39m*\u001b[39m  \u001b[39m# noqa: F401,F403\u001b[39;00m\n\u001b[1;32m      <a href='file:///~/.local/lib/python3.8/site-packages/seaborn/__init__.py?line=2'>3</a>\u001b[0m \u001b[39mfrom\u001b[39;00m \u001b[39m.\u001b[39;00m\u001b[39mutils\u001b[39;00m \u001b[39mimport\u001b[39;00m \u001b[39m*\u001b[39m  \u001b[39m# noqa: F401,F403\u001b[39;00m\n\u001b[1;32m      <a href='file:///~/.local/lib/python3.8/site-packages/seaborn/__init__.py?line=3'>4</a>\u001b[0m \u001b[39mfrom\u001b[39;00m \u001b[39m.\u001b[39;00m\u001b[39mpalettes\u001b[39;00m \u001b[39mimport\u001b[39;00m \u001b[39m*\u001b[39m  \u001b[39m# noqa: F401,F403\u001b[39;00m\n",
      "File \u001b[0;32m~/.local/lib/python3.8/site-packages/seaborn/rcmod.py:7\u001b[0m, in \u001b[0;36m<module>\u001b[0;34m\u001b[0m\n\u001b[1;32m      <a href='file:///~/.local/lib/python3.8/site-packages/seaborn/rcmod.py?line=4'>5</a>\u001b[0m \u001b[39mimport\u001b[39;00m \u001b[39mmatplotlib\u001b[39;00m \u001b[39mas\u001b[39;00m \u001b[39mmpl\u001b[39;00m\n\u001b[1;32m      <a href='file:///~/.local/lib/python3.8/site-packages/seaborn/rcmod.py?line=5'>6</a>\u001b[0m \u001b[39mfrom\u001b[39;00m \u001b[39mcycler\u001b[39;00m \u001b[39mimport\u001b[39;00m cycler\n\u001b[0;32m----> <a href='file:///~/.local/lib/python3.8/site-packages/seaborn/rcmod.py?line=6'>7</a>\u001b[0m \u001b[39mfrom\u001b[39;00m \u001b[39m.\u001b[39;00m \u001b[39mimport\u001b[39;00m palettes\n\u001b[1;32m     <a href='file:///~/.local/lib/python3.8/site-packages/seaborn/rcmod.py?line=9'>10</a>\u001b[0m __all__ \u001b[39m=\u001b[39m [\u001b[39m\"\u001b[39m\u001b[39mset_theme\u001b[39m\u001b[39m\"\u001b[39m, \u001b[39m\"\u001b[39m\u001b[39mset\u001b[39m\u001b[39m\"\u001b[39m, \u001b[39m\"\u001b[39m\u001b[39mreset_defaults\u001b[39m\u001b[39m\"\u001b[39m, \u001b[39m\"\u001b[39m\u001b[39mreset_orig\u001b[39m\u001b[39m\"\u001b[39m,\n\u001b[1;32m     <a href='file:///~/.local/lib/python3.8/site-packages/seaborn/rcmod.py?line=10'>11</a>\u001b[0m            \u001b[39m\"\u001b[39m\u001b[39maxes_style\u001b[39m\u001b[39m\"\u001b[39m, \u001b[39m\"\u001b[39m\u001b[39mset_style\u001b[39m\u001b[39m\"\u001b[39m, \u001b[39m\"\u001b[39m\u001b[39mplotting_context\u001b[39m\u001b[39m\"\u001b[39m, \u001b[39m\"\u001b[39m\u001b[39mset_context\u001b[39m\u001b[39m\"\u001b[39m,\n\u001b[1;32m     <a href='file:///~/.local/lib/python3.8/site-packages/seaborn/rcmod.py?line=11'>12</a>\u001b[0m            \u001b[39m\"\u001b[39m\u001b[39mset_palette\u001b[39m\u001b[39m\"\u001b[39m]\n\u001b[1;32m     <a href='file:///~/.local/lib/python3.8/site-packages/seaborn/rcmod.py?line=14'>15</a>\u001b[0m _style_keys \u001b[39m=\u001b[39m [\n\u001b[1;32m     <a href='file:///~/.local/lib/python3.8/site-packages/seaborn/rcmod.py?line=15'>16</a>\u001b[0m \n\u001b[1;32m     <a href='file:///~/.local/lib/python3.8/site-packages/seaborn/rcmod.py?line=16'>17</a>\u001b[0m     \u001b[39m\"\u001b[39m\u001b[39maxes.facecolor\u001b[39m\u001b[39m\"\u001b[39m,\n\u001b[0;32m   (...)\u001b[0m\n\u001b[1;32m     <a href='file:///~/.local/lib/python3.8/site-packages/seaborn/rcmod.py?line=51'>52</a>\u001b[0m \n\u001b[1;32m     <a href='file:///~/.local/lib/python3.8/site-packages/seaborn/rcmod.py?line=52'>53</a>\u001b[0m ]\n",
      "File \u001b[0;32m~/.local/lib/python3.8/site-packages/seaborn/palettes.py:9\u001b[0m, in \u001b[0;36m<module>\u001b[0;34m\u001b[0m\n\u001b[1;32m      <a href='file:///~/.local/lib/python3.8/site-packages/seaborn/palettes.py?line=4'>5</a>\u001b[0m \u001b[39mimport\u001b[39;00m \u001b[39mmatplotlib\u001b[39;00m \u001b[39mas\u001b[39;00m \u001b[39mmpl\u001b[39;00m\n\u001b[1;32m      <a href='file:///~/.local/lib/python3.8/site-packages/seaborn/palettes.py?line=6'>7</a>\u001b[0m \u001b[39mfrom\u001b[39;00m \u001b[39m.\u001b[39;00m\u001b[39mexternal\u001b[39;00m \u001b[39mimport\u001b[39;00m husl\n\u001b[0;32m----> <a href='file:///~/.local/lib/python3.8/site-packages/seaborn/palettes.py?line=8'>9</a>\u001b[0m \u001b[39mfrom\u001b[39;00m \u001b[39m.\u001b[39;00m\u001b[39mutils\u001b[39;00m \u001b[39mimport\u001b[39;00m desaturate, get_color_cycle\n\u001b[1;32m     <a href='file:///~/.local/lib/python3.8/site-packages/seaborn/palettes.py?line=9'>10</a>\u001b[0m \u001b[39mfrom\u001b[39;00m \u001b[39m.\u001b[39;00m\u001b[39mcolors\u001b[39;00m \u001b[39mimport\u001b[39;00m xkcd_rgb, crayons\n\u001b[1;32m     <a href='file:///~/.local/lib/python3.8/site-packages/seaborn/palettes.py?line=12'>13</a>\u001b[0m __all__ \u001b[39m=\u001b[39m [\u001b[39m\"\u001b[39m\u001b[39mcolor_palette\u001b[39m\u001b[39m\"\u001b[39m, \u001b[39m\"\u001b[39m\u001b[39mhls_palette\u001b[39m\u001b[39m\"\u001b[39m, \u001b[39m\"\u001b[39m\u001b[39mhusl_palette\u001b[39m\u001b[39m\"\u001b[39m, \u001b[39m\"\u001b[39m\u001b[39mmpl_palette\u001b[39m\u001b[39m\"\u001b[39m,\n\u001b[1;32m     <a href='file:///~/.local/lib/python3.8/site-packages/seaborn/palettes.py?line=13'>14</a>\u001b[0m            \u001b[39m\"\u001b[39m\u001b[39mdark_palette\u001b[39m\u001b[39m\"\u001b[39m, \u001b[39m\"\u001b[39m\u001b[39mlight_palette\u001b[39m\u001b[39m\"\u001b[39m, \u001b[39m\"\u001b[39m\u001b[39mdiverging_palette\u001b[39m\u001b[39m\"\u001b[39m,\n\u001b[1;32m     <a href='file:///~/.local/lib/python3.8/site-packages/seaborn/palettes.py?line=14'>15</a>\u001b[0m            \u001b[39m\"\u001b[39m\u001b[39mblend_palette\u001b[39m\u001b[39m\"\u001b[39m, \u001b[39m\"\u001b[39m\u001b[39mxkcd_palette\u001b[39m\u001b[39m\"\u001b[39m, \u001b[39m\"\u001b[39m\u001b[39mcrayon_palette\u001b[39m\u001b[39m\"\u001b[39m,\n\u001b[1;32m     <a href='file:///~/.local/lib/python3.8/site-packages/seaborn/palettes.py?line=15'>16</a>\u001b[0m            \u001b[39m\"\u001b[39m\u001b[39mcubehelix_palette\u001b[39m\u001b[39m\"\u001b[39m, \u001b[39m\"\u001b[39m\u001b[39mset_color_codes\u001b[39m\u001b[39m\"\u001b[39m]\n",
      "File \u001b[0;32m~/.local/lib/python3.8/site-packages/seaborn/utils.py:10\u001b[0m, in \u001b[0;36m<module>\u001b[0;34m\u001b[0m\n\u001b[1;32m      <a href='file:///~/.local/lib/python3.8/site-packages/seaborn/utils.py?line=6'>7</a>\u001b[0m \u001b[39mfrom\u001b[39;00m \u001b[39murllib\u001b[39;00m\u001b[39m.\u001b[39;00m\u001b[39mrequest\u001b[39;00m \u001b[39mimport\u001b[39;00m urlopen, urlretrieve\n\u001b[1;32m      <a href='file:///~/.local/lib/python3.8/site-packages/seaborn/utils.py?line=8'>9</a>\u001b[0m \u001b[39mimport\u001b[39;00m \u001b[39mnumpy\u001b[39;00m \u001b[39mas\u001b[39;00m \u001b[39mnp\u001b[39;00m\n\u001b[0;32m---> <a href='file:///~/.local/lib/python3.8/site-packages/seaborn/utils.py?line=9'>10</a>\u001b[0m \u001b[39mfrom\u001b[39;00m \u001b[39mscipy\u001b[39;00m \u001b[39mimport\u001b[39;00m stats\n\u001b[1;32m     <a href='file:///~/.local/lib/python3.8/site-packages/seaborn/utils.py?line=10'>11</a>\u001b[0m \u001b[39mimport\u001b[39;00m \u001b[39mpandas\u001b[39;00m \u001b[39mas\u001b[39;00m \u001b[39mpd\u001b[39;00m\n\u001b[1;32m     <a href='file:///~/.local/lib/python3.8/site-packages/seaborn/utils.py?line=11'>12</a>\u001b[0m \u001b[39mimport\u001b[39;00m \u001b[39mmatplotlib\u001b[39;00m \u001b[39mas\u001b[39;00m \u001b[39mmpl\u001b[39;00m\n",
      "File \u001b[0;32m/opt/anaconda3/envs/spiced09/lib/python3.8/site-packages/scipy/stats/__init__.py:453\u001b[0m, in \u001b[0;36m<module>\u001b[0;34m\u001b[0m\n\u001b[1;32m      <a href='file:///opt/anaconda3/envs/spiced09/lib/python3.8/site-packages/scipy/stats/__init__.py?line=0'>1</a>\u001b[0m \u001b[39m\"\"\"\u001b[39;00m\n\u001b[1;32m      <a href='file:///opt/anaconda3/envs/spiced09/lib/python3.8/site-packages/scipy/stats/__init__.py?line=1'>2</a>\u001b[0m \u001b[39m.. _statsrefmanual:\u001b[39;00m\n\u001b[1;32m      <a href='file:///opt/anaconda3/envs/spiced09/lib/python3.8/site-packages/scipy/stats/__init__.py?line=2'>3</a>\u001b[0m \n\u001b[0;32m   (...)\u001b[0m\n\u001b[1;32m    <a href='file:///opt/anaconda3/envs/spiced09/lib/python3.8/site-packages/scipy/stats/__init__.py?line=449'>450</a>\u001b[0m \n\u001b[1;32m    <a href='file:///opt/anaconda3/envs/spiced09/lib/python3.8/site-packages/scipy/stats/__init__.py?line=450'>451</a>\u001b[0m \u001b[39m\"\"\"\u001b[39;00m\n\u001b[0;32m--> <a href='file:///opt/anaconda3/envs/spiced09/lib/python3.8/site-packages/scipy/stats/__init__.py?line=452'>453</a>\u001b[0m \u001b[39mfrom\u001b[39;00m \u001b[39m.\u001b[39;00m\u001b[39m_stats_py\u001b[39;00m \u001b[39mimport\u001b[39;00m \u001b[39m*\u001b[39m\n\u001b[1;32m    <a href='file:///opt/anaconda3/envs/spiced09/lib/python3.8/site-packages/scipy/stats/__init__.py?line=453'>454</a>\u001b[0m \u001b[39mfrom\u001b[39;00m \u001b[39m.\u001b[39;00m\u001b[39m_variation\u001b[39;00m \u001b[39mimport\u001b[39;00m variation\n\u001b[1;32m    <a href='file:///opt/anaconda3/envs/spiced09/lib/python3.8/site-packages/scipy/stats/__init__.py?line=454'>455</a>\u001b[0m \u001b[39mfrom\u001b[39;00m \u001b[39m.\u001b[39;00m\u001b[39mdistributions\u001b[39;00m \u001b[39mimport\u001b[39;00m \u001b[39m*\u001b[39m\n",
      "File \u001b[0;32m/opt/anaconda3/envs/spiced09/lib/python3.8/site-packages/scipy/stats/_stats_py.py:38\u001b[0m, in \u001b[0;36m<module>\u001b[0;34m\u001b[0m\n\u001b[1;32m     <a href='file:///opt/anaconda3/envs/spiced09/lib/python3.8/site-packages/scipy/stats/_stats_py.py?line=34'>35</a>\u001b[0m \u001b[39mfrom\u001b[39;00m \u001b[39mnumpy\u001b[39;00m \u001b[39mimport\u001b[39;00m array, asarray, ma\n\u001b[1;32m     <a href='file:///opt/anaconda3/envs/spiced09/lib/python3.8/site-packages/scipy/stats/_stats_py.py?line=35'>36</a>\u001b[0m \u001b[39mfrom\u001b[39;00m \u001b[39mnumpy\u001b[39;00m\u001b[39m.\u001b[39;00m\u001b[39mlib\u001b[39;00m \u001b[39mimport\u001b[39;00m NumpyVersion\n\u001b[0;32m---> <a href='file:///opt/anaconda3/envs/spiced09/lib/python3.8/site-packages/scipy/stats/_stats_py.py?line=37'>38</a>\u001b[0m \u001b[39mfrom\u001b[39;00m \u001b[39mscipy\u001b[39;00m\u001b[39m.\u001b[39;00m\u001b[39mspatial\u001b[39;00m\u001b[39m.\u001b[39;00m\u001b[39mdistance\u001b[39;00m \u001b[39mimport\u001b[39;00m cdist\n\u001b[1;32m     <a href='file:///opt/anaconda3/envs/spiced09/lib/python3.8/site-packages/scipy/stats/_stats_py.py?line=38'>39</a>\u001b[0m \u001b[39mfrom\u001b[39;00m \u001b[39mscipy\u001b[39;00m\u001b[39m.\u001b[39;00m\u001b[39mndimage\u001b[39;00m \u001b[39mimport\u001b[39;00m _measurements\n\u001b[1;32m     <a href='file:///opt/anaconda3/envs/spiced09/lib/python3.8/site-packages/scipy/stats/_stats_py.py?line=39'>40</a>\u001b[0m \u001b[39mfrom\u001b[39;00m \u001b[39mscipy\u001b[39;00m\u001b[39m.\u001b[39;00m\u001b[39m_lib\u001b[39;00m\u001b[39m.\u001b[39;00m\u001b[39m_util\u001b[39;00m \u001b[39mimport\u001b[39;00m (check_random_state, MapWrapper,\n\u001b[1;32m     <a href='file:///opt/anaconda3/envs/spiced09/lib/python3.8/site-packages/scipy/stats/_stats_py.py?line=40'>41</a>\u001b[0m                               rng_integers, float_factorial)\n",
      "File \u001b[0;32m/opt/anaconda3/envs/spiced09/lib/python3.8/site-packages/scipy/spatial/__init__.py:108\u001b[0m, in \u001b[0;36m<module>\u001b[0;34m\u001b[0m\n\u001b[1;32m    <a href='file:///opt/anaconda3/envs/spiced09/lib/python3.8/site-packages/scipy/spatial/__init__.py?line=105'>106</a>\u001b[0m \u001b[39mfrom\u001b[39;00m \u001b[39m.\u001b[39;00m\u001b[39m_plotutils\u001b[39;00m \u001b[39mimport\u001b[39;00m \u001b[39m*\u001b[39m\n\u001b[1;32m    <a href='file:///opt/anaconda3/envs/spiced09/lib/python3.8/site-packages/scipy/spatial/__init__.py?line=106'>107</a>\u001b[0m \u001b[39mfrom\u001b[39;00m \u001b[39m.\u001b[39;00m\u001b[39m_procrustes\u001b[39;00m \u001b[39mimport\u001b[39;00m procrustes\n\u001b[0;32m--> <a href='file:///opt/anaconda3/envs/spiced09/lib/python3.8/site-packages/scipy/spatial/__init__.py?line=107'>108</a>\u001b[0m \u001b[39mfrom\u001b[39;00m \u001b[39m.\u001b[39;00m\u001b[39m_geometric_slerp\u001b[39;00m \u001b[39mimport\u001b[39;00m geometric_slerp\n\u001b[1;32m    <a href='file:///opt/anaconda3/envs/spiced09/lib/python3.8/site-packages/scipy/spatial/__init__.py?line=109'>110</a>\u001b[0m \u001b[39m# Deprecated namespaces, to be removed in v2.0.0\u001b[39;00m\n\u001b[1;32m    <a href='file:///opt/anaconda3/envs/spiced09/lib/python3.8/site-packages/scipy/spatial/__init__.py?line=110'>111</a>\u001b[0m \u001b[39mfrom\u001b[39;00m \u001b[39m.\u001b[39;00m \u001b[39mimport\u001b[39;00m ckdtree, kdtree, qhull\n",
      "File \u001b[0;32m/opt/anaconda3/envs/spiced09/lib/python3.8/site-packages/scipy/spatial/_geometric_slerp.py:9\u001b[0m, in \u001b[0;36m<module>\u001b[0;34m\u001b[0m\n\u001b[1;32m      <a href='file:///opt/anaconda3/envs/spiced09/lib/python3.8/site-packages/scipy/spatial/_geometric_slerp.py?line=5'>6</a>\u001b[0m \u001b[39mfrom\u001b[39;00m \u001b[39mtyping\u001b[39;00m \u001b[39mimport\u001b[39;00m TYPE_CHECKING\n\u001b[1;32m      <a href='file:///opt/anaconda3/envs/spiced09/lib/python3.8/site-packages/scipy/spatial/_geometric_slerp.py?line=7'>8</a>\u001b[0m \u001b[39mimport\u001b[39;00m \u001b[39mnumpy\u001b[39;00m \u001b[39mas\u001b[39;00m \u001b[39mnp\u001b[39;00m\n\u001b[0;32m----> <a href='file:///opt/anaconda3/envs/spiced09/lib/python3.8/site-packages/scipy/spatial/_geometric_slerp.py?line=8'>9</a>\u001b[0m \u001b[39mfrom\u001b[39;00m \u001b[39mscipy\u001b[39;00m\u001b[39m.\u001b[39;00m\u001b[39mspatial\u001b[39;00m\u001b[39m.\u001b[39;00m\u001b[39mdistance\u001b[39;00m \u001b[39mimport\u001b[39;00m euclidean\n\u001b[1;32m     <a href='file:///opt/anaconda3/envs/spiced09/lib/python3.8/site-packages/scipy/spatial/_geometric_slerp.py?line=10'>11</a>\u001b[0m \u001b[39mif\u001b[39;00m TYPE_CHECKING:\n\u001b[1;32m     <a href='file:///opt/anaconda3/envs/spiced09/lib/python3.8/site-packages/scipy/spatial/_geometric_slerp.py?line=11'>12</a>\u001b[0m     \u001b[39mimport\u001b[39;00m \u001b[39mnumpy\u001b[39;00m\u001b[39m.\u001b[39;00m\u001b[39mtyping\u001b[39;00m \u001b[39mas\u001b[39;00m \u001b[39mnpt\u001b[39;00m\n",
      "File \u001b[0;32m/opt/anaconda3/envs/spiced09/lib/python3.8/site-packages/scipy/spatial/distance.py:123\u001b[0m, in \u001b[0;36m<module>\u001b[0;34m\u001b[0m\n\u001b[1;32m    <a href='file:///opt/anaconda3/envs/spiced09/lib/python3.8/site-packages/scipy/spatial/distance.py?line=120'>121</a>\u001b[0m \u001b[39mfrom\u001b[39;00m \u001b[39m.\u001b[39;00m \u001b[39mimport\u001b[39;00m _hausdorff\n\u001b[1;32m    <a href='file:///opt/anaconda3/envs/spiced09/lib/python3.8/site-packages/scipy/spatial/distance.py?line=121'>122</a>\u001b[0m \u001b[39mfrom\u001b[39;00m \u001b[39m.\u001b[39;00m\u001b[39m.\u001b[39;00m\u001b[39mlinalg\u001b[39;00m \u001b[39mimport\u001b[39;00m norm\n\u001b[0;32m--> <a href='file:///opt/anaconda3/envs/spiced09/lib/python3.8/site-packages/scipy/spatial/distance.py?line=122'>123</a>\u001b[0m \u001b[39mfrom\u001b[39;00m \u001b[39m.\u001b[39;00m\u001b[39m.\u001b[39;00m\u001b[39mspecial\u001b[39;00m \u001b[39mimport\u001b[39;00m rel_entr\n\u001b[1;32m    <a href='file:///opt/anaconda3/envs/spiced09/lib/python3.8/site-packages/scipy/spatial/distance.py?line=124'>125</a>\u001b[0m \u001b[39mfrom\u001b[39;00m \u001b[39m.\u001b[39;00m \u001b[39mimport\u001b[39;00m _distance_pybind\n\u001b[1;32m    <a href='file:///opt/anaconda3/envs/spiced09/lib/python3.8/site-packages/scipy/spatial/distance.py?line=127'>128</a>\u001b[0m \u001b[39mdef\u001b[39;00m \u001b[39m_copy_array_if_base_present\u001b[39m(a):\n",
      "File \u001b[0;32m/opt/anaconda3/envs/spiced09/lib/python3.8/site-packages/scipy/special/__init__.py:649\u001b[0m, in \u001b[0;36m<module>\u001b[0;34m\u001b[0m\n\u001b[1;32m      <a href='file:///opt/anaconda3/envs/spiced09/lib/python3.8/site-packages/scipy/special/__init__.py?line=0'>1</a>\u001b[0m \u001b[39m\"\"\"\u001b[39;00m\n\u001b[1;32m      <a href='file:///opt/anaconda3/envs/spiced09/lib/python3.8/site-packages/scipy/special/__init__.py?line=1'>2</a>\u001b[0m \u001b[39m========================================\u001b[39;00m\n\u001b[1;32m      <a href='file:///opt/anaconda3/envs/spiced09/lib/python3.8/site-packages/scipy/special/__init__.py?line=2'>3</a>\u001b[0m \u001b[39mSpecial functions (:mod:`scipy.special`)\u001b[39;00m\n\u001b[0;32m   (...)\u001b[0m\n\u001b[1;32m    <a href='file:///opt/anaconda3/envs/spiced09/lib/python3.8/site-packages/scipy/special/__init__.py?line=643'>644</a>\u001b[0m \n\u001b[1;32m    <a href='file:///opt/anaconda3/envs/spiced09/lib/python3.8/site-packages/scipy/special/__init__.py?line=644'>645</a>\u001b[0m \u001b[39m\"\"\"\u001b[39;00m\n\u001b[1;32m    <a href='file:///opt/anaconda3/envs/spiced09/lib/python3.8/site-packages/scipy/special/__init__.py?line=646'>647</a>\u001b[0m \u001b[39mfrom\u001b[39;00m \u001b[39m.\u001b[39;00m\u001b[39m_sf_error\u001b[39;00m \u001b[39mimport\u001b[39;00m SpecialFunctionWarning, SpecialFunctionError\n\u001b[0;32m--> <a href='file:///opt/anaconda3/envs/spiced09/lib/python3.8/site-packages/scipy/special/__init__.py?line=648'>649</a>\u001b[0m \u001b[39mfrom\u001b[39;00m \u001b[39m.\u001b[39;00m \u001b[39mimport\u001b[39;00m _ufuncs\n\u001b[1;32m    <a href='file:///opt/anaconda3/envs/spiced09/lib/python3.8/site-packages/scipy/special/__init__.py?line=649'>650</a>\u001b[0m \u001b[39mfrom\u001b[39;00m \u001b[39m.\u001b[39;00m\u001b[39m_ufuncs\u001b[39;00m \u001b[39mimport\u001b[39;00m \u001b[39m*\u001b[39m\n\u001b[1;32m    <a href='file:///opt/anaconda3/envs/spiced09/lib/python3.8/site-packages/scipy/special/__init__.py?line=651'>652</a>\u001b[0m \u001b[39mfrom\u001b[39;00m \u001b[39m.\u001b[39;00m \u001b[39mimport\u001b[39;00m _basic\n",
      "File \u001b[0;32m_ufuncs.pyx:1\u001b[0m, in \u001b[0;36minit scipy.special._ufuncs\u001b[0;34m()\u001b[0m\n",
      "File \u001b[0;32m<frozen importlib._bootstrap>:389\u001b[0m, in \u001b[0;36mparent\u001b[0;34m(self)\u001b[0m\n",
      "\u001b[0;31mKeyboardInterrupt\u001b[0m: "
     ]
    }
   ],
   "source": [
    "import pandas as pd\n",
    "import ast\n",
    "\n",
    "\n",
    "import numpy as np\n",
    "import seaborn as sns\n",
    "import matplotlib.pyplot as plt\n",
    "\n",
    "plt.style.use('ggplot')\n",
    "from imdb import Cinemagoer"
   ]
  },
  {
   "cell_type": "code",
   "execution_count": null,
   "metadata": {},
   "outputs": [],
   "source": [
    "imdb = Cinemagoer()"
   ]
  },
  {
   "cell_type": "code",
   "execution_count": null,
   "metadata": {},
   "outputs": [],
   "source": [
    "ratings = pd.read_csv(\"./data/ratings.csv\")\n",
    "movies = pd.read_csv(\"./data/movies.csv\")\n",
    "links = pd.read_csv(\"./data/links.csv\", index_col = \"movieId\")"
   ]
  },
  {
   "cell_type": "code",
   "execution_count": null,
   "metadata": {},
   "outputs": [],
   "source": [
    "def get_directors(movie_id):\n",
    "    theMovie = imdb.get_movie(movie_id)\n",
    "    director_name = [director['name'] for director in theMovie['directors']]\n",
    "    return director_name"
   ]
  },
  {
   "cell_type": "code",
   "execution_count": null,
   "metadata": {},
   "outputs": [],
   "source": [
    "tmdv_credits = pd.read_csv(\"../Project/rec_app/data/tmdb_5000_credits.csv\")\n",
    "tmdv_movies = pd.read_csv(\"../Project/rec_app/data/tmdb_5000_movies.csv\")"
   ]
  },
  {
   "cell_type": "code",
   "execution_count": null,
   "metadata": {},
   "outputs": [
    {
     "data": {
      "text/html": [
       "<div>\n",
       "<style scoped>\n",
       "    .dataframe tbody tr th:only-of-type {\n",
       "        vertical-align: middle;\n",
       "    }\n",
       "\n",
       "    .dataframe tbody tr th {\n",
       "        vertical-align: top;\n",
       "    }\n",
       "\n",
       "    .dataframe thead th {\n",
       "        text-align: right;\n",
       "    }\n",
       "</style>\n",
       "<table border=\"1\" class=\"dataframe\">\n",
       "  <thead>\n",
       "    <tr style=\"text-align: right;\">\n",
       "      <th></th>\n",
       "      <th>movie_id</th>\n",
       "      <th>title</th>\n",
       "      <th>cast</th>\n",
       "      <th>crew</th>\n",
       "    </tr>\n",
       "  </thead>\n",
       "  <tbody>\n",
       "    <tr>\n",
       "      <th>2432</th>\n",
       "      <td>9310</td>\n",
       "      <td>American Dreamz</td>\n",
       "      <td>[{\"cast_id\": 1, \"character\": \"Martin Tweed\", \"...</td>\n",
       "      <td>[{\"credit_id\": \"53c4f738c3a3682479001259\", \"de...</td>\n",
       "    </tr>\n",
       "    <tr>\n",
       "      <th>3197</th>\n",
       "      <td>8883</td>\n",
       "      <td>Flame &amp; Citron</td>\n",
       "      <td>[{\"cast_id\": 28, \"character\": \"Flame\", \"credit...</td>\n",
       "      <td>[{\"credit_id\": \"52fe44c4c3a36847f80a8e85\", \"de...</td>\n",
       "    </tr>\n",
       "  </tbody>\n",
       "</table>\n",
       "</div>"
      ],
      "text/plain": [
       "      movie_id            title  \\\n",
       "2432      9310  American Dreamz   \n",
       "3197      8883   Flame & Citron   \n",
       "\n",
       "                                                   cast  \\\n",
       "2432  [{\"cast_id\": 1, \"character\": \"Martin Tweed\", \"...   \n",
       "3197  [{\"cast_id\": 28, \"character\": \"Flame\", \"credit...   \n",
       "\n",
       "                                                   crew  \n",
       "2432  [{\"credit_id\": \"53c4f738c3a3682479001259\", \"de...  \n",
       "3197  [{\"credit_id\": \"52fe44c4c3a36847f80a8e85\", \"de...  "
      ]
     },
     "execution_count": 11,
     "metadata": {},
     "output_type": "execute_result"
    }
   ],
   "source": [
    "tmdv_credits.sample(2)"
   ]
  },
  {
   "cell_type": "code",
   "execution_count": null,
   "metadata": {},
   "outputs": [
    {
     "data": {
      "text/html": [
       "<div>\n",
       "<style scoped>\n",
       "    .dataframe tbody tr th:only-of-type {\n",
       "        vertical-align: middle;\n",
       "    }\n",
       "\n",
       "    .dataframe tbody tr th {\n",
       "        vertical-align: top;\n",
       "    }\n",
       "\n",
       "    .dataframe thead th {\n",
       "        text-align: right;\n",
       "    }\n",
       "</style>\n",
       "<table border=\"1\" class=\"dataframe\">\n",
       "  <thead>\n",
       "    <tr style=\"text-align: right;\">\n",
       "      <th></th>\n",
       "      <th>budget</th>\n",
       "      <th>genres</th>\n",
       "      <th>homepage</th>\n",
       "      <th>id</th>\n",
       "      <th>keywords</th>\n",
       "      <th>original_language</th>\n",
       "      <th>original_title</th>\n",
       "      <th>overview</th>\n",
       "      <th>popularity</th>\n",
       "      <th>production_companies</th>\n",
       "      <th>production_countries</th>\n",
       "      <th>release_date</th>\n",
       "      <th>revenue</th>\n",
       "      <th>runtime</th>\n",
       "      <th>spoken_languages</th>\n",
       "      <th>status</th>\n",
       "      <th>tagline</th>\n",
       "      <th>title</th>\n",
       "      <th>vote_average</th>\n",
       "      <th>vote_count</th>\n",
       "    </tr>\n",
       "  </thead>\n",
       "  <tbody>\n",
       "    <tr>\n",
       "      <th>2340</th>\n",
       "      <td>18000000</td>\n",
       "      <td>[{\"id\": 28, \"name\": \"Action\"}, {\"id\": 18, \"nam...</td>\n",
       "      <td>http://www.soulsurferthemovie.com/</td>\n",
       "      <td>43959</td>\n",
       "      <td>[{\"id\": 271, \"name\": \"competition\"}, {\"id\": 81...</td>\n",
       "      <td>en</td>\n",
       "      <td>Soul Surfer</td>\n",
       "      <td>Soul Surfer is the inspiring true story of tee...</td>\n",
       "      <td>19.234672</td>\n",
       "      <td>[{\"name\": \"Mandalay Pictures\", \"id\": 551}, {\"n...</td>\n",
       "      <td>[{\"iso_3166_1\": \"US\", \"name\": \"United States o...</td>\n",
       "      <td>2011-04-08</td>\n",
       "      <td>47088990</td>\n",
       "      <td>106.0</td>\n",
       "      <td>[{\"iso_639_1\": \"en\", \"name\": \"English\"}]</td>\n",
       "      <td>Released</td>\n",
       "      <td>When you come back from a loss, beat the odds,...</td>\n",
       "      <td>Soul Surfer</td>\n",
       "      <td>6.9</td>\n",
       "      <td>342</td>\n",
       "    </tr>\n",
       "    <tr>\n",
       "      <th>455</th>\n",
       "      <td>75000000</td>\n",
       "      <td>[{\"id\": 28, \"name\": \"Action\"}, {\"id\": 18, \"nam...</td>\n",
       "      <td>NaN</td>\n",
       "      <td>8834</td>\n",
       "      <td>[{\"id\": 242, \"name\": \"new york\"}, {\"id\": 591, ...</td>\n",
       "      <td>en</td>\n",
       "      <td>Conspiracy Theory</td>\n",
       "      <td>A man obsessed with conspiracy theories become...</td>\n",
       "      <td>22.179658</td>\n",
       "      <td>[{\"name\": \"Silver Pictures\", \"id\": 1885}, {\"na...</td>\n",
       "      <td>[{\"iso_3166_1\": \"US\", \"name\": \"United States o...</td>\n",
       "      <td>1997-08-07</td>\n",
       "      <td>136982834</td>\n",
       "      <td>135.0</td>\n",
       "      <td>[{\"iso_639_1\": \"en\", \"name\": \"English\"}]</td>\n",
       "      <td>Released</td>\n",
       "      <td>What if your most paranoid nightmares had just...</td>\n",
       "      <td>Conspiracy Theory</td>\n",
       "      <td>6.5</td>\n",
       "      <td>431</td>\n",
       "    </tr>\n",
       "  </tbody>\n",
       "</table>\n",
       "</div>"
      ],
      "text/plain": [
       "        budget                                             genres  \\\n",
       "2340  18000000  [{\"id\": 28, \"name\": \"Action\"}, {\"id\": 18, \"nam...   \n",
       "455   75000000  [{\"id\": 28, \"name\": \"Action\"}, {\"id\": 18, \"nam...   \n",
       "\n",
       "                                homepage     id  \\\n",
       "2340  http://www.soulsurferthemovie.com/  43959   \n",
       "455                                  NaN   8834   \n",
       "\n",
       "                                               keywords original_language  \\\n",
       "2340  [{\"id\": 271, \"name\": \"competition\"}, {\"id\": 81...                en   \n",
       "455   [{\"id\": 242, \"name\": \"new york\"}, {\"id\": 591, ...                en   \n",
       "\n",
       "         original_title                                           overview  \\\n",
       "2340        Soul Surfer  Soul Surfer is the inspiring true story of tee...   \n",
       "455   Conspiracy Theory  A man obsessed with conspiracy theories become...   \n",
       "\n",
       "      popularity                               production_companies  \\\n",
       "2340   19.234672  [{\"name\": \"Mandalay Pictures\", \"id\": 551}, {\"n...   \n",
       "455    22.179658  [{\"name\": \"Silver Pictures\", \"id\": 1885}, {\"na...   \n",
       "\n",
       "                                   production_countries release_date  \\\n",
       "2340  [{\"iso_3166_1\": \"US\", \"name\": \"United States o...   2011-04-08   \n",
       "455   [{\"iso_3166_1\": \"US\", \"name\": \"United States o...   1997-08-07   \n",
       "\n",
       "        revenue  runtime                          spoken_languages    status  \\\n",
       "2340   47088990    106.0  [{\"iso_639_1\": \"en\", \"name\": \"English\"}]  Released   \n",
       "455   136982834    135.0  [{\"iso_639_1\": \"en\", \"name\": \"English\"}]  Released   \n",
       "\n",
       "                                                tagline              title  \\\n",
       "2340  When you come back from a loss, beat the odds,...        Soul Surfer   \n",
       "455   What if your most paranoid nightmares had just...  Conspiracy Theory   \n",
       "\n",
       "      vote_average  vote_count  \n",
       "2340           6.9         342  \n",
       "455            6.5         431  "
      ]
     },
     "execution_count": 10,
     "metadata": {},
     "output_type": "execute_result"
    }
   ],
   "source": [
    "tmdv_movies.sample(2)"
   ]
  },
  {
   "cell_type": "code",
   "execution_count": null,
   "metadata": {},
   "outputs": [],
   "source": [
    "def convert(text):\n",
    "    keyword_list = []\n",
    "    for i in ast.literal_eval(text):\n",
    "        keyword_list.append(i['name']) \n",
    "    return keyword_list"
   ]
  },
  {
   "cell_type": "code",
   "execution_count": null,
   "metadata": {},
   "outputs": [],
   "source": [
    "def get_director(text):\n",
    "    directors = []\n",
    "    for i in ast.literal_eval(text):\n",
    "        if i['job'] == 'Director':\n",
    "            directors.append(i['name'])\n",
    "    return directors"
   ]
  },
  {
   "cell_type": "code",
   "execution_count": null,
   "metadata": {},
   "outputs": [],
   "source": [
    "tmdv_credits['director'] = tmdv_credits['crew'].apply(get_director)"
   ]
  },
  {
   "cell_type": "code",
   "execution_count": null,
   "metadata": {},
   "outputs": [],
   "source": [
    "tmdv_movies = tmdv_movies[['genres', 'id', 'keywords', 'production_companies', 'title', 'vote_average']]"
   ]
  },
  {
   "cell_type": "code",
   "execution_count": null,
   "metadata": {},
   "outputs": [],
   "source": [
    "tmdv_movies['genres'] = tmdv_movies['genres'].apply(convert)\n",
    "tmdv_movies['keywords'] = tmdv_movies['keywords'].apply(convert)\n",
    "tmdv_movies['production_companies'] = tmdv_movies['production_companies'].apply(convert)"
   ]
  },
  {
   "cell_type": "markdown",
   "metadata": {},
   "source": [
    "1. combine features"
   ]
  },
  {
   "cell_type": "code",
   "execution_count": null,
   "metadata": {},
   "outputs": [],
   "source": [
    "tmdv_movies['comb_feat'] = tmdv_movies['genres'] + tmdv_movies['keywords'] + tmdv_movies['production_companies']"
   ]
  },
  {
   "cell_type": "code",
   "execution_count": null,
   "metadata": {},
   "outputs": [
    {
     "data": {
      "text/html": [
       "<div>\n",
       "<style scoped>\n",
       "    .dataframe tbody tr th:only-of-type {\n",
       "        vertical-align: middle;\n",
       "    }\n",
       "\n",
       "    .dataframe tbody tr th {\n",
       "        vertical-align: top;\n",
       "    }\n",
       "\n",
       "    .dataframe thead th {\n",
       "        text-align: right;\n",
       "    }\n",
       "</style>\n",
       "<table border=\"1\" class=\"dataframe\">\n",
       "  <thead>\n",
       "    <tr style=\"text-align: right;\">\n",
       "      <th></th>\n",
       "      <th>genres</th>\n",
       "      <th>id</th>\n",
       "      <th>keywords</th>\n",
       "      <th>production_companies</th>\n",
       "      <th>title</th>\n",
       "      <th>vote_average</th>\n",
       "      <th>comb_feat</th>\n",
       "    </tr>\n",
       "  </thead>\n",
       "  <tbody>\n",
       "    <tr>\n",
       "      <th>687</th>\n",
       "      <td>[Action, Adventure, War]</td>\n",
       "      <td>1271</td>\n",
       "      <td>[evisceration, javelin, shield, army, fall fro...</td>\n",
       "      <td>[Virtual Studios, Legendary Pictures, Hollywoo...</td>\n",
       "      <td>300</td>\n",
       "      <td>7.0</td>\n",
       "      <td>[Action, Adventure, War, evisceration, javelin...</td>\n",
       "    </tr>\n",
       "    <tr>\n",
       "      <th>1123</th>\n",
       "      <td>[Comedy, Romance]</td>\n",
       "      <td>11066</td>\n",
       "      <td>[role of women, ladykiller, success, ladies' m...</td>\n",
       "      <td>[Paramount Pictures]</td>\n",
       "      <td>Boomerang</td>\n",
       "      <td>5.4</td>\n",
       "      <td>[Comedy, Romance, role of women, ladykiller, s...</td>\n",
       "    </tr>\n",
       "  </tbody>\n",
       "</table>\n",
       "</div>"
      ],
      "text/plain": [
       "                        genres     id  \\\n",
       "687   [Action, Adventure, War]   1271   \n",
       "1123         [Comedy, Romance]  11066   \n",
       "\n",
       "                                               keywords  \\\n",
       "687   [evisceration, javelin, shield, army, fall fro...   \n",
       "1123  [role of women, ladykiller, success, ladies' m...   \n",
       "\n",
       "                                   production_companies      title  \\\n",
       "687   [Virtual Studios, Legendary Pictures, Hollywoo...        300   \n",
       "1123                               [Paramount Pictures]  Boomerang   \n",
       "\n",
       "      vote_average                                          comb_feat  \n",
       "687            7.0  [Action, Adventure, War, evisceration, javelin...  \n",
       "1123           5.4  [Comedy, Romance, role of women, ladykiller, s...  "
      ]
     },
     "execution_count": 33,
     "metadata": {},
     "output_type": "execute_result"
    }
   ],
   "source": [
    "tmdv_movies.sample(2)"
   ]
  },
  {
   "cell_type": "code",
   "execution_count": null,
   "metadata": {},
   "outputs": [],
   "source": [
    "tmdv_movies['comb_feat'] = tmdv_movies['comb_feat'].apply(lambda x: ' '.join(x))"
   ]
  },
  {
   "cell_type": "code",
   "execution_count": null,
   "metadata": {},
   "outputs": [
    {
     "data": {
      "text/html": [
       "<div>\n",
       "<style scoped>\n",
       "    .dataframe tbody tr th:only-of-type {\n",
       "        vertical-align: middle;\n",
       "    }\n",
       "\n",
       "    .dataframe tbody tr th {\n",
       "        vertical-align: top;\n",
       "    }\n",
       "\n",
       "    .dataframe thead th {\n",
       "        text-align: right;\n",
       "    }\n",
       "</style>\n",
       "<table border=\"1\" class=\"dataframe\">\n",
       "  <thead>\n",
       "    <tr style=\"text-align: right;\">\n",
       "      <th></th>\n",
       "      <th>genres</th>\n",
       "      <th>id</th>\n",
       "      <th>keywords</th>\n",
       "      <th>production_companies</th>\n",
       "      <th>title</th>\n",
       "      <th>vote_average</th>\n",
       "      <th>comb_feat</th>\n",
       "    </tr>\n",
       "  </thead>\n",
       "  <tbody>\n",
       "    <tr>\n",
       "      <th>2358</th>\n",
       "      <td>[Drama, Thriller]</td>\n",
       "      <td>2575</td>\n",
       "      <td>[dancing, spy, birthday, map, fireworks, bridg...</td>\n",
       "      <td>[Columbia Pictures, Merlin Films]</td>\n",
       "      <td>The Tailor of Panama</td>\n",
       "      <td>6.2</td>\n",
       "      <td>Drama Thriller dancing spy birthday map firewo...</td>\n",
       "    </tr>\n",
       "    <tr>\n",
       "      <th>828</th>\n",
       "      <td>[Action, Crime]</td>\n",
       "      <td>24</td>\n",
       "      <td>[japan, coma, martial arts, kung fu, underworl...</td>\n",
       "      <td>[Miramax Films, A Band Apart, Super Cool ManChu]</td>\n",
       "      <td>Kill Bill: Vol. 1</td>\n",
       "      <td>7.7</td>\n",
       "      <td>Action Crime japan coma martial arts kung fu u...</td>\n",
       "    </tr>\n",
       "  </tbody>\n",
       "</table>\n",
       "</div>"
      ],
      "text/plain": [
       "                 genres    id  \\\n",
       "2358  [Drama, Thriller]  2575   \n",
       "828     [Action, Crime]    24   \n",
       "\n",
       "                                               keywords  \\\n",
       "2358  [dancing, spy, birthday, map, fireworks, bridg...   \n",
       "828   [japan, coma, martial arts, kung fu, underworl...   \n",
       "\n",
       "                                  production_companies                 title  \\\n",
       "2358                 [Columbia Pictures, Merlin Films]  The Tailor of Panama   \n",
       "828   [Miramax Films, A Band Apart, Super Cool ManChu]     Kill Bill: Vol. 1   \n",
       "\n",
       "      vote_average                                          comb_feat  \n",
       "2358           6.2  Drama Thriller dancing spy birthday map firewo...  \n",
       "828            7.7  Action Crime japan coma martial arts kung fu u...  "
      ]
     },
     "execution_count": 39,
     "metadata": {},
     "output_type": "execute_result"
    }
   ],
   "source": [
    "tmdv_movies.sample(2)"
   ]
  },
  {
   "cell_type": "code",
   "execution_count": null,
   "metadata": {},
   "outputs": [],
   "source": [
    "tmdv_movies['comb_feat'] = tmdv_movies['comb_feat'] + \" \" + tmdv_movies['vote_average'].astype(str)"
   ]
  },
  {
   "cell_type": "code",
   "execution_count": null,
   "metadata": {},
   "outputs": [],
   "source": [
    "reco_df = tmdv_movies[['id','title','comb_feat']]"
   ]
  },
  {
   "cell_type": "code",
   "execution_count": null,
   "metadata": {},
   "outputs": [
    {
     "data": {
      "text/html": [
       "<div>\n",
       "<style scoped>\n",
       "    .dataframe tbody tr th:only-of-type {\n",
       "        vertical-align: middle;\n",
       "    }\n",
       "\n",
       "    .dataframe tbody tr th {\n",
       "        vertical-align: top;\n",
       "    }\n",
       "\n",
       "    .dataframe thead th {\n",
       "        text-align: right;\n",
       "    }\n",
       "</style>\n",
       "<table border=\"1\" class=\"dataframe\">\n",
       "  <thead>\n",
       "    <tr style=\"text-align: right;\">\n",
       "      <th></th>\n",
       "      <th>id</th>\n",
       "      <th>title</th>\n",
       "      <th>comb_feat</th>\n",
       "    </tr>\n",
       "  </thead>\n",
       "  <tbody>\n",
       "    <tr>\n",
       "      <th>0</th>\n",
       "      <td>19995</td>\n",
       "      <td>Avatar</td>\n",
       "      <td>Action Adventure Fantasy Science Fiction cultu...</td>\n",
       "    </tr>\n",
       "    <tr>\n",
       "      <th>1</th>\n",
       "      <td>285</td>\n",
       "      <td>Pirates of the Caribbean: At World's End</td>\n",
       "      <td>Adventure Fantasy Action ocean drug abuse exot...</td>\n",
       "    </tr>\n",
       "    <tr>\n",
       "      <th>2</th>\n",
       "      <td>206647</td>\n",
       "      <td>Spectre</td>\n",
       "      <td>Action Adventure Crime spy based on novel secr...</td>\n",
       "    </tr>\n",
       "    <tr>\n",
       "      <th>3</th>\n",
       "      <td>49026</td>\n",
       "      <td>The Dark Knight Rises</td>\n",
       "      <td>Action Crime Drama Thriller dc comics crime fi...</td>\n",
       "    </tr>\n",
       "    <tr>\n",
       "      <th>4</th>\n",
       "      <td>49529</td>\n",
       "      <td>John Carter</td>\n",
       "      <td>Action Adventure Science Fiction based on nove...</td>\n",
       "    </tr>\n",
       "    <tr>\n",
       "      <th>...</th>\n",
       "      <td>...</td>\n",
       "      <td>...</td>\n",
       "      <td>...</td>\n",
       "    </tr>\n",
       "    <tr>\n",
       "      <th>4798</th>\n",
       "      <td>9367</td>\n",
       "      <td>El Mariachi</td>\n",
       "      <td>Action Crime Thriller united states–mexico bar...</td>\n",
       "    </tr>\n",
       "    <tr>\n",
       "      <th>4799</th>\n",
       "      <td>72766</td>\n",
       "      <td>Newlyweds</td>\n",
       "      <td>Comedy Romance 5.9</td>\n",
       "    </tr>\n",
       "    <tr>\n",
       "      <th>4800</th>\n",
       "      <td>231617</td>\n",
       "      <td>Signed, Sealed, Delivered</td>\n",
       "      <td>Comedy Drama Romance TV Movie date love at fir...</td>\n",
       "    </tr>\n",
       "    <tr>\n",
       "      <th>4801</th>\n",
       "      <td>126186</td>\n",
       "      <td>Shanghai Calling</td>\n",
       "      <td>5.7</td>\n",
       "    </tr>\n",
       "    <tr>\n",
       "      <th>4802</th>\n",
       "      <td>25975</td>\n",
       "      <td>My Date with Drew</td>\n",
       "      <td>Documentary obsession camcorder crush dream gi...</td>\n",
       "    </tr>\n",
       "  </tbody>\n",
       "</table>\n",
       "<p>4803 rows × 3 columns</p>\n",
       "</div>"
      ],
      "text/plain": [
       "          id                                     title  \\\n",
       "0      19995                                    Avatar   \n",
       "1        285  Pirates of the Caribbean: At World's End   \n",
       "2     206647                                   Spectre   \n",
       "3      49026                     The Dark Knight Rises   \n",
       "4      49529                               John Carter   \n",
       "...      ...                                       ...   \n",
       "4798    9367                               El Mariachi   \n",
       "4799   72766                                 Newlyweds   \n",
       "4800  231617                 Signed, Sealed, Delivered   \n",
       "4801  126186                          Shanghai Calling   \n",
       "4802   25975                         My Date with Drew   \n",
       "\n",
       "                                              comb_feat  \n",
       "0     Action Adventure Fantasy Science Fiction cultu...  \n",
       "1     Adventure Fantasy Action ocean drug abuse exot...  \n",
       "2     Action Adventure Crime spy based on novel secr...  \n",
       "3     Action Crime Drama Thriller dc comics crime fi...  \n",
       "4     Action Adventure Science Fiction based on nove...  \n",
       "...                                                 ...  \n",
       "4798  Action Crime Thriller united states–mexico bar...  \n",
       "4799                                 Comedy Romance 5.9  \n",
       "4800  Comedy Drama Romance TV Movie date love at fir...  \n",
       "4801                                                5.7  \n",
       "4802  Documentary obsession camcorder crush dream gi...  \n",
       "\n",
       "[4803 rows x 3 columns]"
      ]
     },
     "execution_count": 46,
     "metadata": {},
     "output_type": "execute_result"
    }
   ],
   "source": [
    "reco_df"
   ]
  },
  {
   "cell_type": "code",
   "execution_count": null,
   "metadata": {},
   "outputs": [],
   "source": [
    "# reco_df.to_csv('reco_mat.csv',index=False)"
   ]
  },
  {
   "cell_type": "code",
   "execution_count": null,
   "metadata": {},
   "outputs": [],
   "source": [
    "def recommend_neighbour_movie(movie_title):\n",
    "    \"\"\"\n",
    "    Runs model and gets movies simimlar to original title\n",
    "    \"\"\"\n",
    "    cv = CountVectorizer(max_features=5000)\n",
    "    count_matrix = cv.fit_transform(reco_df[\"comb_feat\"]).toarray()\n",
    "    similarity = cosine_similarity(count_matrix)\n",
    "\n",
    "    index = reco_df[reco_df['title'] == movie_title].index[0]\n",
    "    distances = sorted(list(enumerate(similarity[index])),reverse=True,key = lambda x: x[1])\n",
    "    for i in distances[1:6]:\n",
    "        print(reco_df.iloc[i[0]].title)"
   ]
  }
 ],
 "metadata": {
  "interpreter": {
   "hash": "03d13fc190ec5e8f8a3058bf822f668fc45af6d8c4b0b67a10c19baffc4eb108"
  },
  "kernelspec": {
   "display_name": "Python 3.8.12 64-bit ('spiced09': conda)",
   "language": "python",
   "name": "python3"
  },
  "language_info": {
   "codemirror_mode": {
    "name": "ipython",
    "version": 3
   },
   "file_extension": ".py",
   "mimetype": "text/x-python",
   "name": "python",
   "nbconvert_exporter": "python",
   "pygments_lexer": "ipython3",
   "version": "3.8.12"
  },
  "orig_nbformat": 4
 },
 "nbformat": 4,
 "nbformat_minor": 2
}
